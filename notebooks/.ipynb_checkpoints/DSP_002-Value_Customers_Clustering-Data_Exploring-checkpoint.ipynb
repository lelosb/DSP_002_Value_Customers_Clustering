{
 "cells": [
  {
   "cell_type": "markdown",
   "id": "460ce7db",
   "metadata": {},
   "source": [
    "# <font color='red'>DSP_002 - High Value Customer Identification (Insiders)"
   ]
  },
  {
   "cell_type": "markdown",
   "id": "6771fffb",
   "metadata": {},
   "source": [
    "# Basic setups"
   ]
  },
  {
   "cell_type": "markdown",
   "id": "c3c26fe8",
   "metadata": {},
   "source": [
    "## Imports"
   ]
  },
  {
   "cell_type": "code",
   "execution_count": 1,
   "id": "752777d1",
   "metadata": {
    "ExecuteTime": {
     "end_time": "2021-10-11T17:31:36.676121Z",
     "start_time": "2021-10-11T17:31:33.139036Z"
    }
   },
   "outputs": [],
   "source": [
    "import numpy as np\n",
    "import pandas as pd\n",
    "import seaborn as sns\n",
    "\n",
    "import umap.umap_ as umap\n",
    "# pip install umap-learn  to work\n",
    "from IPython.core.display     import HTML\n",
    "from matplotlib import pyplot as plt\n",
    "from pandas_profiling import ProfileReport \n",
    "from sklearn import cluster       as c\n",
    "from sklearn import metrics       as m\n",
    "from sklearn import ensemble      as en\n",
    "from sklearn import preprocessing as pp\n",
    "from sklearn import decomposition as dd\n",
    "from sklearn import manifold      as mn\n",
    "from sklearn import mixture       as mx\n",
    "from sklearn.manifold import TSNE\n",
    "from sklearn.neighbors import NearestNeighbors\n",
    "from scipy.cluster import hierarchy as hc\n",
    "from plotly import express as px\n",
    "\n",
    "from yellowbrick.cluster import KElbowVisualizer, SilhouetteVisualizer"
   ]
  },
  {
   "cell_type": "markdown",
   "id": "c04dfcef",
   "metadata": {},
   "source": [
    "## Helper Functions"
   ]
  },
  {
   "cell_type": "code",
   "execution_count": 2,
   "id": "5cca2481",
   "metadata": {
    "ExecuteTime": {
     "end_time": "2021-10-11T17:31:36.707041Z",
     "start_time": "2021-10-11T17:31:36.677122Z"
    }
   },
   "outputs": [
    {
     "name": "stdout",
     "output_type": "stream",
     "text": [
      "Populating the interactive namespace from numpy and matplotlib\n"
     ]
    },
    {
     "data": {
      "text/html": [
       "<style>.container { width:100% !important; }</style>"
      ],
      "text/plain": [
       "<IPython.core.display.HTML object>"
      ]
     },
     "metadata": {},
     "output_type": "display_data"
    }
   ],
   "source": [
    "def jupyter_settings():\n",
    "    %matplotlib inline\n",
    "    %pylab inline\n",
    "    plt.style.use( 'bmh' )\n",
    "    plt.rcParams['figure.figsize'] = [25, 12]\n",
    "    plt.rcParams['font.size'] = 24\n",
    "    display( HTML( '<style>.container { width:100% !important; }</style>') )\n",
    "    pd.options.display.max_columns = None\n",
    "    pd.options.display.max_rows = None\n",
    "    pd.set_option( 'display.expand_frame_repr', False )\n",
    "    sns.set()\n",
    "jupyter_settings()"
   ]
  },
  {
   "cell_type": "code",
   "execution_count": 3,
   "id": "dc906514",
   "metadata": {
    "ExecuteTime": {
     "end_time": "2021-10-11T17:31:36.722002Z",
     "start_time": "2021-10-11T17:31:36.709037Z"
    }
   },
   "outputs": [],
   "source": [
    "# Supress Scientific Notation\n",
    "np.set_printoptions(suppress=True)\n",
    "pd.set_option('display.float_format', '{:.2f}'.format)"
   ]
  },
  {
   "cell_type": "markdown",
   "id": "0ebc7331",
   "metadata": {
    "ExecuteTime": {
     "end_time": "2021-07-23T14:02:30.182766Z",
     "start_time": "2021-07-23T14:02:29.597224Z"
    }
   },
   "source": [
    "# Data Exploring"
   ]
  },
  {
   "cell_type": "markdown",
   "id": "caabb06d",
   "metadata": {},
   "source": [
    "## Data Load"
   ]
  },
  {
   "cell_type": "code",
   "execution_count": 4,
   "id": "3f64173d",
   "metadata": {
    "ExecuteTime": {
     "end_time": "2021-10-11T17:31:37.329666Z",
     "start_time": "2021-10-11T17:31:36.723998Z"
    }
   },
   "outputs": [],
   "source": [
    "df_raw = pd.read_csv(r'../data/raw/Ecommerce.csv')"
   ]
  },
  {
   "cell_type": "markdown",
   "id": "050866e8",
   "metadata": {
    "ExecuteTime": {
     "end_time": "2021-08-24T19:25:03.579821Z",
     "start_time": "2021-08-24T19:25:03.009348Z"
    },
    "scrolled": true
   },
   "source": [
    "## Data Overview"
   ]
  },
  {
   "cell_type": "code",
   "execution_count": 5,
   "id": "7e7e90a2",
   "metadata": {
    "ExecuteTime": {
     "end_time": "2021-10-11T17:31:37.391027Z",
     "start_time": "2021-10-11T17:31:37.330611Z"
    },
    "scrolled": true
   },
   "outputs": [
    {
     "data": {
      "text/html": [
       "<div>\n",
       "<style scoped>\n",
       "    .dataframe tbody tr th:only-of-type {\n",
       "        vertical-align: middle;\n",
       "    }\n",
       "\n",
       "    .dataframe tbody tr th {\n",
       "        vertical-align: top;\n",
       "    }\n",
       "\n",
       "    .dataframe thead th {\n",
       "        text-align: right;\n",
       "    }\n",
       "</style>\n",
       "<table border=\"1\" class=\"dataframe\">\n",
       "  <thead>\n",
       "    <tr style=\"text-align: right;\">\n",
       "      <th></th>\n",
       "      <th>InvoiceNo</th>\n",
       "      <th>StockCode</th>\n",
       "      <th>Description</th>\n",
       "      <th>Quantity</th>\n",
       "      <th>InvoiceDate</th>\n",
       "      <th>UnitPrice</th>\n",
       "      <th>CustomerID</th>\n",
       "      <th>Country</th>\n",
       "      <th>Unnamed: 8</th>\n",
       "    </tr>\n",
       "  </thead>\n",
       "  <tbody>\n",
       "    <tr>\n",
       "      <th>0</th>\n",
       "      <td>536365</td>\n",
       "      <td>85123A</td>\n",
       "      <td>WHITE HANGING HEART T-LIGHT HOLDER</td>\n",
       "      <td>6</td>\n",
       "      <td>29-Nov-16</td>\n",
       "      <td>2.55</td>\n",
       "      <td>17850.00</td>\n",
       "      <td>United Kingdom</td>\n",
       "      <td>NaN</td>\n",
       "    </tr>\n",
       "    <tr>\n",
       "      <th>1</th>\n",
       "      <td>536365</td>\n",
       "      <td>71053</td>\n",
       "      <td>WHITE METAL LANTERN</td>\n",
       "      <td>6</td>\n",
       "      <td>29-Nov-16</td>\n",
       "      <td>3.39</td>\n",
       "      <td>17850.00</td>\n",
       "      <td>United Kingdom</td>\n",
       "      <td>NaN</td>\n",
       "    </tr>\n",
       "    <tr>\n",
       "      <th>2</th>\n",
       "      <td>536365</td>\n",
       "      <td>84406B</td>\n",
       "      <td>CREAM CUPID HEARTS COAT HANGER</td>\n",
       "      <td>8</td>\n",
       "      <td>29-Nov-16</td>\n",
       "      <td>2.75</td>\n",
       "      <td>17850.00</td>\n",
       "      <td>United Kingdom</td>\n",
       "      <td>NaN</td>\n",
       "    </tr>\n",
       "    <tr>\n",
       "      <th>3</th>\n",
       "      <td>536365</td>\n",
       "      <td>84029G</td>\n",
       "      <td>KNITTED UNION FLAG HOT WATER BOTTLE</td>\n",
       "      <td>6</td>\n",
       "      <td>29-Nov-16</td>\n",
       "      <td>3.39</td>\n",
       "      <td>17850.00</td>\n",
       "      <td>United Kingdom</td>\n",
       "      <td>NaN</td>\n",
       "    </tr>\n",
       "    <tr>\n",
       "      <th>4</th>\n",
       "      <td>536365</td>\n",
       "      <td>84029E</td>\n",
       "      <td>RED WOOLLY HOTTIE WHITE HEART.</td>\n",
       "      <td>6</td>\n",
       "      <td>29-Nov-16</td>\n",
       "      <td>3.39</td>\n",
       "      <td>17850.00</td>\n",
       "      <td>United Kingdom</td>\n",
       "      <td>NaN</td>\n",
       "    </tr>\n",
       "  </tbody>\n",
       "</table>\n",
       "</div>"
      ],
      "text/plain": [
       "  InvoiceNo StockCode                          Description  Quantity InvoiceDate  UnitPrice  CustomerID         Country  Unnamed: 8\n",
       "0    536365    85123A   WHITE HANGING HEART T-LIGHT HOLDER         6   29-Nov-16       2.55    17850.00  United Kingdom         NaN\n",
       "1    536365     71053                  WHITE METAL LANTERN         6   29-Nov-16       3.39    17850.00  United Kingdom         NaN\n",
       "2    536365    84406B       CREAM CUPID HEARTS COAT HANGER         8   29-Nov-16       2.75    17850.00  United Kingdom         NaN\n",
       "3    536365    84029G  KNITTED UNION FLAG HOT WATER BOTTLE         6   29-Nov-16       3.39    17850.00  United Kingdom         NaN\n",
       "4    536365    84029E       RED WOOLLY HOTTIE WHITE HEART.         6   29-Nov-16       3.39    17850.00  United Kingdom         NaN"
      ]
     },
     "execution_count": 5,
     "metadata": {},
     "output_type": "execute_result"
    }
   ],
   "source": [
    "df_raw.head()"
   ]
  },
  {
   "cell_type": "code",
   "execution_count": 6,
   "id": "05dd5529",
   "metadata": {
    "ExecuteTime": {
     "end_time": "2021-10-11T17:31:37.406985Z",
     "start_time": "2021-10-11T17:31:37.392024Z"
    }
   },
   "outputs": [
    {
     "name": "stdout",
     "output_type": "stream",
     "text": [
      "The original dataset has 541909 transations registers with 9 attributes.\n"
     ]
    }
   ],
   "source": [
    "print('The original dataset has {} transations registers with {} attributes.'.format(df_raw.shape[0], df_raw.shape[1]) )"
   ]
  },
  {
   "cell_type": "code",
   "execution_count": 7,
   "id": "2018dd7a",
   "metadata": {
    "ExecuteTime": {
     "end_time": "2021-10-11T17:31:37.422982Z",
     "start_time": "2021-10-11T17:31:37.408978Z"
    }
   },
   "outputs": [
    {
     "data": {
      "text/plain": [
       "Index(['InvoiceNo', 'StockCode', 'Description', 'Quantity', 'InvoiceDate',\n",
       "       'UnitPrice', 'CustomerID', 'Country', 'Unnamed: 8'],\n",
       "      dtype='object')"
      ]
     },
     "execution_count": 7,
     "metadata": {},
     "output_type": "execute_result"
    }
   ],
   "source": [
    "df_raw.columns"
   ]
  },
  {
   "cell_type": "markdown",
   "id": "b57ae555",
   "metadata": {},
   "source": [
    "## Check NaN"
   ]
  },
  {
   "cell_type": "code",
   "execution_count": 8,
   "id": "22edd1e3",
   "metadata": {
    "ExecuteTime": {
     "end_time": "2021-10-11T17:31:37.532679Z",
     "start_time": "2021-10-11T17:31:37.424936Z"
    },
    "scrolled": true
   },
   "outputs": [
    {
     "data": {
      "text/plain": [
       "InvoiceNo       0.00\n",
       "StockCode       0.00\n",
       "Description     0.27\n",
       "Quantity        0.00\n",
       "InvoiceDate     0.00\n",
       "UnitPrice       0.00\n",
       "CustomerID     24.93\n",
       "Country         0.00\n",
       "Unnamed: 8    100.00\n",
       "dtype: float64"
      ]
     },
     "execution_count": 8,
     "metadata": {},
     "output_type": "execute_result"
    }
   ],
   "source": [
    "df_raw.isna().sum() / len(df_raw) *100"
   ]
  },
  {
   "cell_type": "markdown",
   "id": "bd28f0db",
   "metadata": {
    "ExecuteTime": {
     "end_time": "2021-10-11T14:11:07.394457Z",
     "start_time": "2021-10-11T14:11:07.380423Z"
    },
    "scrolled": true
   },
   "source": [
    "There are a considerable number of transations without customers. Identify the customers is the main objective of this project, so this is a big problem. Through this cycle, we have a lot of problems with non identified customers, so we decided to drop then in this \n",
    "first cycle of the project. Maybe in the next cycle something different can be done. After all, we discovery that dropping all the clientes without id, we drop all the \"descriptions\" NaN as well."
   ]
  },
  {
   "cell_type": "markdown",
   "id": "7a54ac5b",
   "metadata": {},
   "source": [
    "## Data types"
   ]
  },
  {
   "cell_type": "code",
   "execution_count": 9,
   "id": "fbe59f76",
   "metadata": {
    "ExecuteTime": {
     "end_time": "2021-10-11T17:31:37.548606Z",
     "start_time": "2021-10-11T17:31:37.533645Z"
    },
    "scrolled": true
   },
   "outputs": [
    {
     "data": {
      "text/plain": [
       "InvoiceNo       object\n",
       "StockCode       object\n",
       "Description     object\n",
       "Quantity         int64\n",
       "InvoiceDate     object\n",
       "UnitPrice      float64\n",
       "CustomerID     float64\n",
       "Country         object\n",
       "Unnamed: 8     float64\n",
       "dtype: object"
      ]
     },
     "execution_count": 9,
     "metadata": {},
     "output_type": "execute_result"
    }
   ],
   "source": [
    "df_raw.dtypes"
   ]
  },
  {
   "cell_type": "markdown",
   "id": "ecaaab49",
   "metadata": {},
   "source": [
    "## Check duplicated"
   ]
  },
  {
   "cell_type": "code",
   "execution_count": 10,
   "id": "58f27efd",
   "metadata": {
    "ExecuteTime": {
     "end_time": "2021-10-11T17:31:37.580557Z",
     "start_time": "2021-10-11T17:31:37.550600Z"
    }
   },
   "outputs": [
    {
     "data": {
      "text/plain": [
       "537536"
      ]
     },
     "execution_count": 10,
     "metadata": {},
     "output_type": "execute_result"
    }
   ],
   "source": [
    "df_raw['CustomerID'].duplicated().sum()"
   ]
  },
  {
   "cell_type": "code",
   "execution_count": 11,
   "id": "34cb9c46",
   "metadata": {
    "ExecuteTime": {
     "end_time": "2021-10-11T17:31:37.925601Z",
     "start_time": "2021-10-11T17:31:37.582515Z"
    }
   },
   "outputs": [
    {
     "data": {
      "text/plain": [
       "(5269, 9)"
      ]
     },
     "execution_count": 11,
     "metadata": {},
     "output_type": "execute_result"
    }
   ],
   "source": [
    "df_raw[df_raw.duplicated()].shape"
   ]
  },
  {
   "cell_type": "markdown",
   "id": "b68248da",
   "metadata": {
    "ExecuteTime": {
     "end_time": "2021-10-11T17:31:37.941559Z",
     "start_time": "2021-10-11T17:31:37.926600Z"
    }
   },
   "source": [
    "From a business perspective, none of the repeated attributes will be a problem unless there are more than one record with all inputs duplicated."
   ]
  },
  {
   "cell_type": "markdown",
   "id": "0fcdf902",
   "metadata": {},
   "source": [
    "## Statistics data overview"
   ]
  },
  {
   "cell_type": "code",
   "execution_count": 15,
   "id": "e8d5cc5b",
   "metadata": {
    "ExecuteTime": {
     "end_time": "2021-10-11T17:31:38.188449Z",
     "start_time": "2021-10-11T17:31:38.035820Z"
    }
   },
   "outputs": [
    {
     "data": {
      "text/html": [
       "<div>\n",
       "<style scoped>\n",
       "    .dataframe tbody tr th:only-of-type {\n",
       "        vertical-align: middle;\n",
       "    }\n",
       "\n",
       "    .dataframe tbody tr th {\n",
       "        vertical-align: top;\n",
       "    }\n",
       "\n",
       "    .dataframe thead th {\n",
       "        text-align: right;\n",
       "    }\n",
       "</style>\n",
       "<table border=\"1\" class=\"dataframe\">\n",
       "  <thead>\n",
       "    <tr style=\"text-align: right;\">\n",
       "      <th></th>\n",
       "      <th>count</th>\n",
       "      <th>mean</th>\n",
       "      <th>std</th>\n",
       "      <th>min</th>\n",
       "      <th>25%</th>\n",
       "      <th>50%</th>\n",
       "      <th>75%</th>\n",
       "      <th>max</th>\n",
       "    </tr>\n",
       "  </thead>\n",
       "  <tbody>\n",
       "    <tr>\n",
       "      <th>Quantity</th>\n",
       "      <td>541909.00</td>\n",
       "      <td>9.55</td>\n",
       "      <td>218.08</td>\n",
       "      <td>-80995.00</td>\n",
       "      <td>1.00</td>\n",
       "      <td>3.00</td>\n",
       "      <td>10.00</td>\n",
       "      <td>80995.00</td>\n",
       "    </tr>\n",
       "    <tr>\n",
       "      <th>UnitPrice</th>\n",
       "      <td>541909.00</td>\n",
       "      <td>4.61</td>\n",
       "      <td>96.76</td>\n",
       "      <td>-11062.06</td>\n",
       "      <td>1.25</td>\n",
       "      <td>2.08</td>\n",
       "      <td>4.13</td>\n",
       "      <td>38970.00</td>\n",
       "    </tr>\n",
       "    <tr>\n",
       "      <th>CustomerID</th>\n",
       "      <td>406829.00</td>\n",
       "      <td>15287.69</td>\n",
       "      <td>1713.60</td>\n",
       "      <td>12346.00</td>\n",
       "      <td>13953.00</td>\n",
       "      <td>15152.00</td>\n",
       "      <td>16791.00</td>\n",
       "      <td>18287.00</td>\n",
       "    </tr>\n",
       "    <tr>\n",
       "      <th>Unnamed: 8</th>\n",
       "      <td>0.00</td>\n",
       "      <td>NaN</td>\n",
       "      <td>NaN</td>\n",
       "      <td>NaN</td>\n",
       "      <td>NaN</td>\n",
       "      <td>NaN</td>\n",
       "      <td>NaN</td>\n",
       "      <td>NaN</td>\n",
       "    </tr>\n",
       "  </tbody>\n",
       "</table>\n",
       "</div>"
      ],
      "text/plain": [
       "               count     mean     std       min      25%      50%      75%      max\n",
       "Quantity   541909.00     9.55  218.08 -80995.00     1.00     3.00    10.00 80995.00\n",
       "UnitPrice  541909.00     4.61   96.76 -11062.06     1.25     2.08     4.13 38970.00\n",
       "CustomerID 406829.00 15287.69 1713.60  12346.00 13953.00 15152.00 16791.00 18287.00\n",
       "Unnamed: 8      0.00      NaN     NaN       NaN      NaN      NaN      NaN      NaN"
      ]
     },
     "execution_count": 15,
     "metadata": {},
     "output_type": "execute_result"
    }
   ],
   "source": [
    "df_raw.describe().T"
   ]
  },
  {
   "cell_type": "markdown",
   "id": "bb006467",
   "metadata": {},
   "source": [
    "Tasks:\n",
    "\n",
    "    01) Change the columns names to snacke case;\n",
    "    02) Drop \"Unnamed: 8\" column;\n",
    "    03) Check NaN (\"Description\" and \"CustomerID\");\n",
    "    04) Change types (InvoiceNo, InvoiceDate and CustomerID;\n",
    "    05) Solve duplicated registers\n",
    "    06) Check the invoices with letters;\n",
    "    07) Check the strange description names;\n",
    "    08) Check negative unit prices and quantities"
   ]
  },
  {
   "cell_type": "markdown",
   "id": "b37edf54",
   "metadata": {},
   "source": [
    "# <font color='green'> Data Processing"
   ]
  },
  {
   "cell_type": "code",
   "execution_count": 104,
   "id": "d51ae57f",
   "metadata": {
    "ExecuteTime": {
     "end_time": "2021-10-11T19:13:00.880935Z",
     "start_time": "2021-10-11T19:13:00.798127Z"
    }
   },
   "outputs": [],
   "source": [
    "df3 = df_raw.copy()"
   ]
  },
  {
   "cell_type": "markdown",
   "id": "5b8cfb47",
   "metadata": {},
   "source": [
    "## Rename columns"
   ]
  },
  {
   "cell_type": "code",
   "execution_count": 105,
   "id": "1084b019",
   "metadata": {
    "ExecuteTime": {
     "end_time": "2021-10-11T19:13:01.494057Z",
     "start_time": "2021-10-11T19:13:01.469094Z"
    }
   },
   "outputs": [
    {
     "data": {
      "text/plain": [
       "Index(['InvoiceNo', 'StockCode', 'Description', 'Quantity', 'InvoiceDate',\n",
       "       'UnitPrice', 'CustomerID', 'Country', 'Unnamed: 8'],\n",
       "      dtype='object')"
      ]
     },
     "execution_count": 105,
     "metadata": {},
     "output_type": "execute_result"
    }
   ],
   "source": [
    "df3.columns"
   ]
  },
  {
   "cell_type": "code",
   "execution_count": 106,
   "id": "8d33b8d1",
   "metadata": {
    "ExecuteTime": {
     "end_time": "2021-10-11T19:13:01.928242Z",
     "start_time": "2021-10-11T19:13:01.911290Z"
    }
   },
   "outputs": [],
   "source": [
    "cols_new = ['invoice_no', 'stock_code', 'description','quantity', 'invoice_date','unit_price', 'customer_id', 'country', 'unnamed']"
   ]
  },
  {
   "cell_type": "code",
   "execution_count": 107,
   "id": "938cd850",
   "metadata": {
    "ExecuteTime": {
     "end_time": "2021-10-11T19:13:02.379840Z",
     "start_time": "2021-10-11T19:13:02.371867Z"
    }
   },
   "outputs": [],
   "source": [
    "df3.columns = cols_new #change to snake case"
   ]
  },
  {
   "cell_type": "markdown",
   "id": "7b99d581",
   "metadata": {
    "ExecuteTime": {
     "end_time": "2021-08-19T17:53:14.247722Z",
     "start_time": "2021-08-19T17:53:14.235757Z"
    }
   },
   "source": [
    "## Check \"Unnamed: 8\" attribute"
   ]
  },
  {
   "cell_type": "markdown",
   "id": "a09949c0",
   "metadata": {
    "ExecuteTime": {
     "end_time": "2021-10-11T17:31:38.298233Z",
     "start_time": "2021-10-11T17:31:38.284257Z"
    }
   },
   "source": [
    "All the Unnamed are NaN. There is no relevante information in this feature. It will be dropped."
   ]
  },
  {
   "cell_type": "code",
   "execution_count": 108,
   "id": "94230797",
   "metadata": {
    "ExecuteTime": {
     "end_time": "2021-10-11T19:13:04.108871Z",
     "start_time": "2021-10-11T19:13:04.062015Z"
    }
   },
   "outputs": [],
   "source": [
    "df3 = df3.drop(columns=['unnamed'], axis=1) "
   ]
  },
  {
   "cell_type": "markdown",
   "id": "daa78690",
   "metadata": {},
   "source": [
    "## Solving NaN"
   ]
  },
  {
   "cell_type": "code",
   "execution_count": 109,
   "id": "698fc4b1",
   "metadata": {
    "ExecuteTime": {
     "end_time": "2021-10-11T19:13:05.442235Z",
     "start_time": "2021-10-11T19:13:05.323002Z"
    }
   },
   "outputs": [
    {
     "data": {
      "text/plain": [
       "invoice_no           0\n",
       "stock_code           0\n",
       "description       1454\n",
       "quantity             0\n",
       "invoice_date         0\n",
       "unit_price           0\n",
       "customer_id     135080\n",
       "country              0\n",
       "dtype: int64"
      ]
     },
     "execution_count": 109,
     "metadata": {},
     "output_type": "execute_result"
    }
   ],
   "source": [
    "df3.isna().sum()"
   ]
  },
  {
   "cell_type": "code",
   "execution_count": 110,
   "id": "8a9f18e3",
   "metadata": {
    "ExecuteTime": {
     "end_time": "2021-10-11T19:13:06.062427Z",
     "start_time": "2021-10-11T19:13:05.996436Z"
    }
   },
   "outputs": [],
   "source": [
    "df3 = df3.dropna(subset = ['customer_id'], axis=0)"
   ]
  },
  {
   "cell_type": "code",
   "execution_count": 111,
   "id": "1a81ee33",
   "metadata": {
    "ExecuteTime": {
     "end_time": "2021-10-11T19:13:06.497323Z",
     "start_time": "2021-10-11T19:13:06.405558Z"
    }
   },
   "outputs": [
    {
     "data": {
      "text/plain": [
       "invoice_no      0\n",
       "stock_code      0\n",
       "description     0\n",
       "quantity        0\n",
       "invoice_date    0\n",
       "unit_price      0\n",
       "customer_id     0\n",
       "country         0\n",
       "dtype: int64"
      ]
     },
     "execution_count": 111,
     "metadata": {},
     "output_type": "execute_result"
    }
   ],
   "source": [
    "df3.isna().sum()"
   ]
  },
  {
   "cell_type": "markdown",
   "id": "8e43e1b9",
   "metadata": {
    "ExecuteTime": {
     "end_time": "2021-10-11T17:31:38.614355Z",
     "start_time": "2021-10-11T17:31:38.599397Z"
    }
   },
   "source": [
    "The \"description\" NaN were dropped together with the \"customer_id\" NaN"
   ]
  },
  {
   "cell_type": "markdown",
   "id": "7a0efbdb",
   "metadata": {},
   "source": [
    "## Change dtypes"
   ]
  },
  {
   "cell_type": "markdown",
   "id": "6ac566ee",
   "metadata": {},
   "source": [
    "### Attribute 'invoice_number'"
   ]
  },
  {
   "cell_type": "code",
   "execution_count": 112,
   "id": "9c5575b3",
   "metadata": {
    "ExecuteTime": {
     "end_time": "2021-10-11T19:13:08.505651Z",
     "start_time": "2021-10-11T19:13:08.469742Z"
    }
   },
   "outputs": [
    {
     "data": {
      "text/plain": [
       "array(['536365', '536366', '536367', ..., '581585', '581586', '581587'],\n",
       "      dtype=object)"
      ]
     },
     "execution_count": 112,
     "metadata": {},
     "output_type": "execute_result"
    }
   ],
   "source": [
    "df3['invoice_no'].unique()"
   ]
  },
  {
   "cell_type": "code",
   "execution_count": 113,
   "id": "3297f905",
   "metadata": {
    "ExecuteTime": {
     "end_time": "2021-10-11T19:13:09.006703Z",
     "start_time": "2021-10-11T19:13:09.001718Z"
    }
   },
   "outputs": [
    {
     "name": "stdout",
     "output_type": "stream",
     "text": [
      "According with the code error, there are invoices with number with letters. For now it will be keep as a object\n"
     ]
    }
   ],
   "source": [
    "#df3['invoice_no'] = df3['invoice_no'].astype(int64)\n",
    "print('According with the code error, there are invoices with number with letters. For now it will be keep as a object')"
   ]
  },
  {
   "cell_type": "markdown",
   "id": "708cebc3",
   "metadata": {
    "ExecuteTime": {
     "end_time": "2021-08-19T18:11:03.940506Z",
     "start_time": "2021-08-19T18:11:03.925546Z"
    }
   },
   "source": [
    "### Attribute 'invoice_date'"
   ]
  },
  {
   "cell_type": "code",
   "execution_count": 114,
   "id": "609b5519",
   "metadata": {
    "ExecuteTime": {
     "end_time": "2021-10-11T19:13:10.065484Z",
     "start_time": "2021-10-11T19:13:09.996703Z"
    }
   },
   "outputs": [],
   "source": [
    "df3['invoice_date'] = pd.to_datetime(df3['invoice_date'], format = '%d-%b-%y')\n",
    "# use %b because the month is in a string in the df"
   ]
  },
  {
   "cell_type": "code",
   "execution_count": 115,
   "id": "82089e43",
   "metadata": {
    "ExecuteTime": {
     "end_time": "2021-10-11T19:13:10.575524Z",
     "start_time": "2021-10-11T19:13:10.556567Z"
    }
   },
   "outputs": [
    {
     "data": {
      "text/plain": [
       "invoice_no              object\n",
       "stock_code              object\n",
       "description             object\n",
       "quantity                 int64\n",
       "invoice_date    datetime64[ns]\n",
       "unit_price             float64\n",
       "customer_id            float64\n",
       "country                 object\n",
       "dtype: object"
      ]
     },
     "execution_count": 115,
     "metadata": {},
     "output_type": "execute_result"
    }
   ],
   "source": [
    "df3.dtypes"
   ]
  },
  {
   "cell_type": "markdown",
   "id": "2c27722a",
   "metadata": {
    "ExecuteTime": {
     "end_time": "2021-08-19T18:12:20.297568Z",
     "start_time": "2021-08-19T18:12:20.280608Z"
    }
   },
   "source": [
    "### Attribute 'customer_id'"
   ]
  },
  {
   "cell_type": "code",
   "execution_count": 116,
   "id": "6d2226af",
   "metadata": {
    "ExecuteTime": {
     "end_time": "2021-10-11T19:13:11.774588Z",
     "start_time": "2021-10-11T19:13:11.763649Z"
    }
   },
   "outputs": [],
   "source": [
    "df3['customer_id'] = df3['customer_id'].astype(int64)"
   ]
  },
  {
   "cell_type": "code",
   "execution_count": 117,
   "id": "53dfa676",
   "metadata": {
    "ExecuteTime": {
     "end_time": "2021-10-11T19:13:12.504754Z",
     "start_time": "2021-10-11T19:13:12.493783Z"
    }
   },
   "outputs": [
    {
     "data": {
      "text/plain": [
       "invoice_no              object\n",
       "stock_code              object\n",
       "description             object\n",
       "quantity                 int64\n",
       "invoice_date    datetime64[ns]\n",
       "unit_price             float64\n",
       "customer_id              int64\n",
       "country                 object\n",
       "dtype: object"
      ]
     },
     "execution_count": 117,
     "metadata": {},
     "output_type": "execute_result"
    }
   ],
   "source": [
    "df3.dtypes"
   ]
  },
  {
   "cell_type": "markdown",
   "id": "6979a37f",
   "metadata": {
    "ExecuteTime": {
     "end_time": "2021-08-19T19:09:12.712243Z",
     "start_time": "2021-08-19T19:09:12.709251Z"
    }
   },
   "source": [
    "## Negative values"
   ]
  },
  {
   "cell_type": "markdown",
   "id": "62dae0c8",
   "metadata": {},
   "source": [
    "From here, we have to take a direction. The negative values problably are from returns. We can just exclude them, exclude the in an out or we can create features for returns. From this point, we decided to sum all the values for customer, and those who ended up with a negative or zero amount will be dropped. We can divided the dataframe in two, one with the purchases, one just with the returns, but it will be done in the next cycle."
   ]
  },
  {
   "cell_type": "code",
   "execution_count": 118,
   "id": "cf988ad5",
   "metadata": {
    "ExecuteTime": {
     "end_time": "2021-10-11T19:13:15.654392Z",
     "start_time": "2021-10-11T19:13:15.644420Z"
    }
   },
   "outputs": [],
   "source": [
    "df3['subtotal'] = df3['unit_price'] * df3['quantity'] "
   ]
  },
  {
   "cell_type": "code",
   "execution_count": 119,
   "id": "e7196e56",
   "metadata": {
    "ExecuteTime": {
     "end_time": "2021-10-11T19:13:16.306316Z",
     "start_time": "2021-10-11T19:13:16.266422Z"
    }
   },
   "outputs": [],
   "source": [
    "df_customers = df3[['customer_id','subtotal']].groupby('customer_id').sum().reset_index()"
   ]
  },
  {
   "cell_type": "code",
   "execution_count": 120,
   "id": "dadccd7b",
   "metadata": {
    "ExecuteTime": {
     "end_time": "2021-10-11T19:13:16.680919Z",
     "start_time": "2021-10-11T19:13:16.668950Z"
    }
   },
   "outputs": [],
   "source": [
    "bad_customers = df_customers[df_customers['subtotal'] <= 0]"
   ]
  },
  {
   "cell_type": "code",
   "execution_count": 121,
   "id": "e4a4d788",
   "metadata": {
    "ExecuteTime": {
     "end_time": "2021-10-11T19:13:20.367130Z",
     "start_time": "2021-10-11T19:13:20.358153Z"
    }
   },
   "outputs": [
    {
     "name": "stdout",
     "output_type": "stream",
     "text": [
      "There are 50 customers with negative or below zero total purchases.\n"
     ]
    }
   ],
   "source": [
    "print('There are {} customers with negative or below zero total purchases.'.format(bad_customers.shape[0]))"
   ]
  },
  {
   "cell_type": "code",
   "execution_count": 122,
   "id": "9774ec53",
   "metadata": {
    "ExecuteTime": {
     "end_time": "2021-10-11T19:13:21.286789Z",
     "start_time": "2021-10-11T19:13:21.269836Z"
    }
   },
   "outputs": [],
   "source": [
    "bad_list = bad_customers['customer_id'].to_list()"
   ]
  },
  {
   "cell_type": "code",
   "execution_count": 123,
   "id": "1ffb067f",
   "metadata": {
    "ExecuteTime": {
     "end_time": "2021-10-11T19:13:22.702753Z",
     "start_time": "2021-10-11T19:13:22.660833Z"
    }
   },
   "outputs": [],
   "source": [
    "df3 = df3[~df3['customer_id'].isin(bad_list)] # throw out the bad customers"
   ]
  },
  {
   "cell_type": "markdown",
   "id": "5137be91",
   "metadata": {
    "ExecuteTime": {
     "end_time": "2021-09-03T17:23:44.036702Z",
     "start_time": "2021-09-03T17:23:44.018716Z"
    }
   },
   "source": [
    "## Solve Duplicates"
   ]
  },
  {
   "cell_type": "code",
   "execution_count": 39,
   "id": "ea312710",
   "metadata": {
    "ExecuteTime": {
     "end_time": "2021-10-11T17:31:38.976387Z",
     "start_time": "2021-10-11T17:31:38.961429Z"
    }
   },
   "outputs": [],
   "source": [
    "#next cycle"
   ]
  },
  {
   "cell_type": "code",
   "execution_count": 125,
   "id": "db303ace",
   "metadata": {
    "ExecuteTime": {
     "end_time": "2021-10-11T19:13:39.503963Z",
     "start_time": "2021-10-11T19:13:39.414898Z"
    }
   },
   "outputs": [
    {
     "data": {
      "text/html": [
       "<div>\n",
       "<style scoped>\n",
       "    .dataframe tbody tr th:only-of-type {\n",
       "        vertical-align: middle;\n",
       "    }\n",
       "\n",
       "    .dataframe tbody tr th {\n",
       "        vertical-align: top;\n",
       "    }\n",
       "\n",
       "    .dataframe thead th {\n",
       "        text-align: right;\n",
       "    }\n",
       "</style>\n",
       "<table border=\"1\" class=\"dataframe\">\n",
       "  <thead>\n",
       "    <tr style=\"text-align: right;\">\n",
       "      <th></th>\n",
       "      <th>count</th>\n",
       "      <th>mean</th>\n",
       "      <th>std</th>\n",
       "      <th>min</th>\n",
       "      <th>25%</th>\n",
       "      <th>50%</th>\n",
       "      <th>75%</th>\n",
       "      <th>max</th>\n",
       "    </tr>\n",
       "  </thead>\n",
       "  <tbody>\n",
       "    <tr>\n",
       "      <th>quantity</th>\n",
       "      <td>406516.00</td>\n",
       "      <td>12.04</td>\n",
       "      <td>185.50</td>\n",
       "      <td>-80995.00</td>\n",
       "      <td>2.00</td>\n",
       "      <td>5.00</td>\n",
       "      <td>12.00</td>\n",
       "      <td>80995.00</td>\n",
       "    </tr>\n",
       "    <tr>\n",
       "      <th>unit_price</th>\n",
       "      <td>406516.00</td>\n",
       "      <td>3.43</td>\n",
       "      <td>68.92</td>\n",
       "      <td>0.00</td>\n",
       "      <td>1.25</td>\n",
       "      <td>1.95</td>\n",
       "      <td>3.75</td>\n",
       "      <td>38970.00</td>\n",
       "    </tr>\n",
       "    <tr>\n",
       "      <th>customer_id</th>\n",
       "      <td>406516.00</td>\n",
       "      <td>15287.41</td>\n",
       "      <td>1713.47</td>\n",
       "      <td>12347.00</td>\n",
       "      <td>13953.00</td>\n",
       "      <td>15152.00</td>\n",
       "      <td>16791.00</td>\n",
       "      <td>18287.00</td>\n",
       "    </tr>\n",
       "    <tr>\n",
       "      <th>subtotal</th>\n",
       "      <td>406516.00</td>\n",
       "      <td>20.45</td>\n",
       "      <td>391.91</td>\n",
       "      <td>-168469.60</td>\n",
       "      <td>4.20</td>\n",
       "      <td>11.25</td>\n",
       "      <td>19.50</td>\n",
       "      <td>168469.60</td>\n",
       "    </tr>\n",
       "  </tbody>\n",
       "</table>\n",
       "</div>"
      ],
      "text/plain": [
       "                count     mean     std        min      25%      50%      75%       max\n",
       "quantity    406516.00    12.04  185.50  -80995.00     2.00     5.00    12.00  80995.00\n",
       "unit_price  406516.00     3.43   68.92       0.00     1.25     1.95     3.75  38970.00\n",
       "customer_id 406516.00 15287.41 1713.47   12347.00 13953.00 15152.00 16791.00  18287.00\n",
       "subtotal    406516.00    20.45  391.91 -168469.60     4.20    11.25    19.50 168469.60"
      ]
     },
     "execution_count": 125,
     "metadata": {},
     "output_type": "execute_result"
    }
   ],
   "source": [
    "df3.describe().T"
   ]
  },
  {
   "cell_type": "markdown",
   "id": "401790a9",
   "metadata": {},
   "source": [
    "## Description filter"
   ]
  },
  {
   "cell_type": "markdown",
   "id": "9ea53003",
   "metadata": {},
   "source": [
    "Throughout the work, several strange names were observed in the description of the items. It was decided to exclude them after all other cleaning operations because it seems that many of them were returns or discounts, so they would be eliminated throughout the process. However, a final cleaning will be done before the generation of new features to ensure the integrity of the results of the machine learning models."
   ]
  },
  {
   "cell_type": "code",
   "execution_count": 40,
   "id": "37284837",
   "metadata": {
    "ExecuteTime": {
     "end_time": "2021-10-11T17:31:39.402867Z",
     "start_time": "2021-10-11T17:31:38.977385Z"
    },
    "scrolled": true
   },
   "outputs": [
    {
     "name": "stdout",
     "output_type": "stream",
     "text": [
      "Total number of invoices with letters: 8706\n",
      "Total number of invoices with negative quantity: 8706\n"
     ]
    }
   ],
   "source": [
    "#quem são os invoices que contém letras?\n",
    "df_letter_invoices = df3.loc[df3['invoice_no'].apply (lambda x: bool(re.search ( '[^0-9]+', x))), :] \n",
    "print('Total number of invoices with letters: {}'.format (len (df_letter_invoices)))\n",
    "\n",
    "print('Total number of invoices with negative quantity: {}'.format( len(df_letter_invoices['quantity'] <0)))\n",
    "# Tipos de Registros compostos apenas por strings que aparecem no codigo de estoque \n",
    "#(como os códigos são mistos, o Meigarom procurou códigos formados apenas por strings pra encontrar sujeiras\n",
    "df3.loc[df3['stock_code'].apply (lambda x:bool (re.search('^[a-zA-Z]+$', x ) ) ), 'stock_code' ].unique()\n",
    "#stock code\n",
    "\n",
    "#df2 = df2[~df2['stock_code'].isin (['POST', 'D', 'DOT', 'M', 'S', 'AMAZONFEE', 'm', 'DCGSSBOY', 'DCGSSGIRL', 'PADS', 'B', 'CRUK'])]"
   ]
  },
  {
   "cell_type": "markdown",
   "id": "e0c1c178",
   "metadata": {},
   "source": [
    "Along the work, we note some descriptions of sales that seem not be sensible\n",
    "D, DOT. M. S., AMazon fee, pads, b, cruk"
   ]
  },
  {
   "cell_type": "markdown",
   "id": "c961c999",
   "metadata": {},
   "source": [
    "# <font color='orange'> Feature Engineering"
   ]
  },
  {
   "cell_type": "code",
   "execution_count": 42,
   "id": "3812c8d4",
   "metadata": {
    "ExecuteTime": {
     "end_time": "2021-10-11T17:31:39.450481Z",
     "start_time": "2021-10-11T17:31:39.419563Z"
    }
   },
   "outputs": [],
   "source": [
    "df4 = df3.copy()"
   ]
  },
  {
   "cell_type": "code",
   "execution_count": 43,
   "id": "a48855c9",
   "metadata": {
    "ExecuteTime": {
     "end_time": "2021-10-11T17:31:39.465472Z",
     "start_time": "2021-10-11T17:31:39.451477Z"
    }
   },
   "outputs": [
    {
     "data": {
      "text/html": [
       "<div>\n",
       "<style scoped>\n",
       "    .dataframe tbody tr th:only-of-type {\n",
       "        vertical-align: middle;\n",
       "    }\n",
       "\n",
       "    .dataframe tbody tr th {\n",
       "        vertical-align: top;\n",
       "    }\n",
       "\n",
       "    .dataframe thead th {\n",
       "        text-align: right;\n",
       "    }\n",
       "</style>\n",
       "<table border=\"1\" class=\"dataframe\">\n",
       "  <thead>\n",
       "    <tr style=\"text-align: right;\">\n",
       "      <th></th>\n",
       "      <th>invoice_no</th>\n",
       "      <th>stock_code</th>\n",
       "      <th>description</th>\n",
       "      <th>quantity</th>\n",
       "      <th>invoice_date</th>\n",
       "      <th>unit_price</th>\n",
       "      <th>customer_id</th>\n",
       "      <th>country</th>\n",
       "      <th>subtotal</th>\n",
       "    </tr>\n",
       "  </thead>\n",
       "  <tbody>\n",
       "    <tr>\n",
       "      <th>0</th>\n",
       "      <td>536365</td>\n",
       "      <td>85123A</td>\n",
       "      <td>WHITE HANGING HEART T-LIGHT HOLDER</td>\n",
       "      <td>6</td>\n",
       "      <td>2016-11-29</td>\n",
       "      <td>2.55</td>\n",
       "      <td>17850</td>\n",
       "      <td>United Kingdom</td>\n",
       "      <td>15.30</td>\n",
       "    </tr>\n",
       "    <tr>\n",
       "      <th>1</th>\n",
       "      <td>536365</td>\n",
       "      <td>71053</td>\n",
       "      <td>WHITE METAL LANTERN</td>\n",
       "      <td>6</td>\n",
       "      <td>2016-11-29</td>\n",
       "      <td>3.39</td>\n",
       "      <td>17850</td>\n",
       "      <td>United Kingdom</td>\n",
       "      <td>20.34</td>\n",
       "    </tr>\n",
       "    <tr>\n",
       "      <th>2</th>\n",
       "      <td>536365</td>\n",
       "      <td>84406B</td>\n",
       "      <td>CREAM CUPID HEARTS COAT HANGER</td>\n",
       "      <td>8</td>\n",
       "      <td>2016-11-29</td>\n",
       "      <td>2.75</td>\n",
       "      <td>17850</td>\n",
       "      <td>United Kingdom</td>\n",
       "      <td>22.00</td>\n",
       "    </tr>\n",
       "    <tr>\n",
       "      <th>3</th>\n",
       "      <td>536365</td>\n",
       "      <td>84029G</td>\n",
       "      <td>KNITTED UNION FLAG HOT WATER BOTTLE</td>\n",
       "      <td>6</td>\n",
       "      <td>2016-11-29</td>\n",
       "      <td>3.39</td>\n",
       "      <td>17850</td>\n",
       "      <td>United Kingdom</td>\n",
       "      <td>20.34</td>\n",
       "    </tr>\n",
       "    <tr>\n",
       "      <th>4</th>\n",
       "      <td>536365</td>\n",
       "      <td>84029E</td>\n",
       "      <td>RED WOOLLY HOTTIE WHITE HEART.</td>\n",
       "      <td>6</td>\n",
       "      <td>2016-11-29</td>\n",
       "      <td>3.39</td>\n",
       "      <td>17850</td>\n",
       "      <td>United Kingdom</td>\n",
       "      <td>20.34</td>\n",
       "    </tr>\n",
       "  </tbody>\n",
       "</table>\n",
       "</div>"
      ],
      "text/plain": [
       "  invoice_no stock_code                          description  quantity invoice_date  unit_price  customer_id         country  subtotal\n",
       "0     536365     85123A   WHITE HANGING HEART T-LIGHT HOLDER         6   2016-11-29        2.55        17850  United Kingdom     15.30\n",
       "1     536365      71053                  WHITE METAL LANTERN         6   2016-11-29        3.39        17850  United Kingdom     20.34\n",
       "2     536365     84406B       CREAM CUPID HEARTS COAT HANGER         8   2016-11-29        2.75        17850  United Kingdom     22.00\n",
       "3     536365     84029G  KNITTED UNION FLAG HOT WATER BOTTLE         6   2016-11-29        3.39        17850  United Kingdom     20.34\n",
       "4     536365     84029E       RED WOOLLY HOTTIE WHITE HEART.         6   2016-11-29        3.39        17850  United Kingdom     20.34"
      ]
     },
     "execution_count": 43,
     "metadata": {},
     "output_type": "execute_result"
    }
   ],
   "source": [
    "df4.head()"
   ]
  },
  {
   "cell_type": "markdown",
   "id": "d147be1d",
   "metadata": {
    "ExecuteTime": {
     "end_time": "2021-09-06T14:38:09.843980Z",
     "start_time": "2021-09-06T14:38:09.838994Z"
    }
   },
   "source": [
    "## Average Ticket"
   ]
  },
  {
   "cell_type": "code",
   "execution_count": 44,
   "id": "0da0c2ff",
   "metadata": {
    "ExecuteTime": {
     "end_time": "2021-10-11T17:31:39.557345Z",
     "start_time": "2021-10-11T17:31:39.466437Z"
    }
   },
   "outputs": [],
   "source": [
    "avg_ticket_df = df4[['customer_id','invoice_no','subtotal']].groupby(['customer_id','invoice_no']).sum().reset_index()"
   ]
  },
  {
   "cell_type": "code",
   "execution_count": 45,
   "id": "4ec58440",
   "metadata": {
    "ExecuteTime": {
     "end_time": "2021-10-11T17:31:39.573300Z",
     "start_time": "2021-10-11T17:31:39.559338Z"
    }
   },
   "outputs": [],
   "source": [
    "avg_ticket_df.rename(columns = {'subtotal':'avg_ticket'}, inplace = True)            "
   ]
  },
  {
   "cell_type": "code",
   "execution_count": 46,
   "id": "3223cb54",
   "metadata": {
    "ExecuteTime": {
     "end_time": "2021-10-11T17:31:39.589256Z",
     "start_time": "2021-10-11T17:31:39.575296Z"
    },
    "scrolled": true
   },
   "outputs": [],
   "source": [
    "avg_ticket_df = avg_ticket_df[['customer_id','avg_ticket']].groupby('customer_id').mean().reset_index()"
   ]
  },
  {
   "cell_type": "code",
   "execution_count": 47,
   "id": "8b147a9a",
   "metadata": {
    "ExecuteTime": {
     "end_time": "2021-10-11T17:31:39.604243Z",
     "start_time": "2021-10-11T17:31:39.590255Z"
    }
   },
   "outputs": [
    {
     "data": {
      "text/html": [
       "<div>\n",
       "<style scoped>\n",
       "    .dataframe tbody tr th:only-of-type {\n",
       "        vertical-align: middle;\n",
       "    }\n",
       "\n",
       "    .dataframe tbody tr th {\n",
       "        vertical-align: top;\n",
       "    }\n",
       "\n",
       "    .dataframe thead th {\n",
       "        text-align: right;\n",
       "    }\n",
       "</style>\n",
       "<table border=\"1\" class=\"dataframe\">\n",
       "  <thead>\n",
       "    <tr style=\"text-align: right;\">\n",
       "      <th></th>\n",
       "      <th>customer_id</th>\n",
       "      <th>avg_ticket</th>\n",
       "    </tr>\n",
       "  </thead>\n",
       "  <tbody>\n",
       "    <tr>\n",
       "      <th>0</th>\n",
       "      <td>12347</td>\n",
       "      <td>615.71</td>\n",
       "    </tr>\n",
       "    <tr>\n",
       "      <th>1</th>\n",
       "      <td>12348</td>\n",
       "      <td>449.31</td>\n",
       "    </tr>\n",
       "    <tr>\n",
       "      <th>2</th>\n",
       "      <td>12349</td>\n",
       "      <td>1757.55</td>\n",
       "    </tr>\n",
       "    <tr>\n",
       "      <th>3</th>\n",
       "      <td>12350</td>\n",
       "      <td>334.40</td>\n",
       "    </tr>\n",
       "    <tr>\n",
       "      <th>4</th>\n",
       "      <td>12352</td>\n",
       "      <td>140.49</td>\n",
       "    </tr>\n",
       "  </tbody>\n",
       "</table>\n",
       "</div>"
      ],
      "text/plain": [
       "   customer_id  avg_ticket\n",
       "0        12347      615.71\n",
       "1        12348      449.31\n",
       "2        12349     1757.55\n",
       "3        12350      334.40\n",
       "4        12352      140.49"
      ]
     },
     "execution_count": 47,
     "metadata": {},
     "output_type": "execute_result"
    }
   ],
   "source": [
    "avg_ticket_df.head()"
   ]
  },
  {
   "cell_type": "code",
   "execution_count": 48,
   "id": "b33b2818",
   "metadata": {
    "ExecuteTime": {
     "end_time": "2021-10-11T17:31:39.741889Z",
     "start_time": "2021-10-11T17:31:39.605216Z"
    }
   },
   "outputs": [],
   "source": [
    "df4 = pd.merge(df4,avg_ticket_df, on ='customer_id', how = 'left')"
   ]
  },
  {
   "cell_type": "code",
   "execution_count": 49,
   "id": "4cd830bf",
   "metadata": {
    "ExecuteTime": {
     "end_time": "2021-10-11T17:31:39.771774Z",
     "start_time": "2021-10-11T17:31:39.743882Z"
    }
   },
   "outputs": [
    {
     "data": {
      "text/html": [
       "<div>\n",
       "<style scoped>\n",
       "    .dataframe tbody tr th:only-of-type {\n",
       "        vertical-align: middle;\n",
       "    }\n",
       "\n",
       "    .dataframe tbody tr th {\n",
       "        vertical-align: top;\n",
       "    }\n",
       "\n",
       "    .dataframe thead th {\n",
       "        text-align: right;\n",
       "    }\n",
       "</style>\n",
       "<table border=\"1\" class=\"dataframe\">\n",
       "  <thead>\n",
       "    <tr style=\"text-align: right;\">\n",
       "      <th></th>\n",
       "      <th>invoice_no</th>\n",
       "      <th>stock_code</th>\n",
       "      <th>description</th>\n",
       "      <th>quantity</th>\n",
       "      <th>invoice_date</th>\n",
       "      <th>unit_price</th>\n",
       "      <th>customer_id</th>\n",
       "      <th>country</th>\n",
       "      <th>subtotal</th>\n",
       "      <th>avg_ticket</th>\n",
       "    </tr>\n",
       "  </thead>\n",
       "  <tbody>\n",
       "    <tr>\n",
       "      <th>0</th>\n",
       "      <td>536365</td>\n",
       "      <td>85123A</td>\n",
       "      <td>WHITE HANGING HEART T-LIGHT HOLDER</td>\n",
       "      <td>6</td>\n",
       "      <td>2016-11-29</td>\n",
       "      <td>2.55</td>\n",
       "      <td>17850</td>\n",
       "      <td>United Kingdom</td>\n",
       "      <td>15.30</td>\n",
       "      <td>151.10</td>\n",
       "    </tr>\n",
       "    <tr>\n",
       "      <th>1</th>\n",
       "      <td>536365</td>\n",
       "      <td>71053</td>\n",
       "      <td>WHITE METAL LANTERN</td>\n",
       "      <td>6</td>\n",
       "      <td>2016-11-29</td>\n",
       "      <td>3.39</td>\n",
       "      <td>17850</td>\n",
       "      <td>United Kingdom</td>\n",
       "      <td>20.34</td>\n",
       "      <td>151.10</td>\n",
       "    </tr>\n",
       "    <tr>\n",
       "      <th>2</th>\n",
       "      <td>536365</td>\n",
       "      <td>84406B</td>\n",
       "      <td>CREAM CUPID HEARTS COAT HANGER</td>\n",
       "      <td>8</td>\n",
       "      <td>2016-11-29</td>\n",
       "      <td>2.75</td>\n",
       "      <td>17850</td>\n",
       "      <td>United Kingdom</td>\n",
       "      <td>22.00</td>\n",
       "      <td>151.10</td>\n",
       "    </tr>\n",
       "    <tr>\n",
       "      <th>3</th>\n",
       "      <td>536365</td>\n",
       "      <td>84029G</td>\n",
       "      <td>KNITTED UNION FLAG HOT WATER BOTTLE</td>\n",
       "      <td>6</td>\n",
       "      <td>2016-11-29</td>\n",
       "      <td>3.39</td>\n",
       "      <td>17850</td>\n",
       "      <td>United Kingdom</td>\n",
       "      <td>20.34</td>\n",
       "      <td>151.10</td>\n",
       "    </tr>\n",
       "    <tr>\n",
       "      <th>4</th>\n",
       "      <td>536365</td>\n",
       "      <td>84029E</td>\n",
       "      <td>RED WOOLLY HOTTIE WHITE HEART.</td>\n",
       "      <td>6</td>\n",
       "      <td>2016-11-29</td>\n",
       "      <td>3.39</td>\n",
       "      <td>17850</td>\n",
       "      <td>United Kingdom</td>\n",
       "      <td>20.34</td>\n",
       "      <td>151.10</td>\n",
       "    </tr>\n",
       "  </tbody>\n",
       "</table>\n",
       "</div>"
      ],
      "text/plain": [
       "  invoice_no stock_code                          description  quantity invoice_date  unit_price  customer_id         country  subtotal  avg_ticket\n",
       "0     536365     85123A   WHITE HANGING HEART T-LIGHT HOLDER         6   2016-11-29        2.55        17850  United Kingdom     15.30      151.10\n",
       "1     536365      71053                  WHITE METAL LANTERN         6   2016-11-29        3.39        17850  United Kingdom     20.34      151.10\n",
       "2     536365     84406B       CREAM CUPID HEARTS COAT HANGER         8   2016-11-29        2.75        17850  United Kingdom     22.00      151.10\n",
       "3     536365     84029G  KNITTED UNION FLAG HOT WATER BOTTLE         6   2016-11-29        3.39        17850  United Kingdom     20.34      151.10\n",
       "4     536365     84029E       RED WOOLLY HOTTIE WHITE HEART.         6   2016-11-29        3.39        17850  United Kingdom     20.34      151.10"
      ]
     },
     "execution_count": 49,
     "metadata": {},
     "output_type": "execute_result"
    }
   ],
   "source": [
    "df4.head()"
   ]
  },
  {
   "cell_type": "code",
   "execution_count": 50,
   "id": "8e8a7973",
   "metadata": {
    "ExecuteTime": {
     "end_time": "2021-10-11T17:31:39.787734Z",
     "start_time": "2021-10-11T17:31:39.772772Z"
    }
   },
   "outputs": [
    {
     "data": {
      "text/plain": [
       "4322"
      ]
     },
     "execution_count": 50,
     "metadata": {},
     "output_type": "execute_result"
    }
   ],
   "source": [
    "df4['customer_id'].unique().size"
   ]
  },
  {
   "cell_type": "markdown",
   "id": "eae76f47",
   "metadata": {
    "ExecuteTime": {
     "end_time": "2021-09-03T17:45:31.377343Z",
     "start_time": "2021-09-03T17:45:31.374351Z"
    }
   },
   "source": [
    "## recency"
   ]
  },
  {
   "cell_type": "code",
   "execution_count": 51,
   "id": "ac1906cb",
   "metadata": {
    "ExecuteTime": {
     "end_time": "2021-10-11T17:31:39.851077Z",
     "start_time": "2021-10-11T17:31:39.789765Z"
    }
   },
   "outputs": [],
   "source": [
    "# day from the last purchase until the last date of the dataset\n",
    "df_recency = df4[['customer_id','invoice_date']].groupby('customer_id').max().reset_index()\n",
    "\n",
    "df_recency['recency'] = (df4['invoice_date'].max() - df_recency['invoice_date']).dt.days\n"
   ]
  },
  {
   "cell_type": "code",
   "execution_count": 52,
   "id": "73bea5b6",
   "metadata": {
    "ExecuteTime": {
     "end_time": "2021-10-11T17:31:39.866037Z",
     "start_time": "2021-10-11T17:31:39.852075Z"
    }
   },
   "outputs": [],
   "source": [
    "# one day shif to avoid zero division\n",
    "df_recency['recency'] = df_recency['recency'].apply(lambda x: x+1)"
   ]
  },
  {
   "cell_type": "code",
   "execution_count": 53,
   "id": "167dde0e",
   "metadata": {
    "ExecuteTime": {
     "end_time": "2021-10-11T17:31:39.881029Z",
     "start_time": "2021-10-11T17:31:39.867034Z"
    }
   },
   "outputs": [],
   "source": [
    "df_recency['recency'] = df_recency['recency'].apply(lambda x: 100/x)"
   ]
  },
  {
   "cell_type": "code",
   "execution_count": 54,
   "id": "af7588bb",
   "metadata": {
    "ExecuteTime": {
     "end_time": "2021-10-11T17:31:40.038632Z",
     "start_time": "2021-10-11T17:31:39.881995Z"
    }
   },
   "outputs": [],
   "source": [
    "df4=pd.merge(df4, df_recency[['customer_id','recency']], on = 'customer_id', how='left')"
   ]
  },
  {
   "cell_type": "code",
   "execution_count": 55,
   "id": "a4b583a4",
   "metadata": {
    "ExecuteTime": {
     "end_time": "2021-10-11T17:31:40.118413Z",
     "start_time": "2021-10-11T17:31:40.040589Z"
    }
   },
   "outputs": [
    {
     "data": {
      "text/html": [
       "<div>\n",
       "<style scoped>\n",
       "    .dataframe tbody tr th:only-of-type {\n",
       "        vertical-align: middle;\n",
       "    }\n",
       "\n",
       "    .dataframe tbody tr th {\n",
       "        vertical-align: top;\n",
       "    }\n",
       "\n",
       "    .dataframe thead th {\n",
       "        text-align: right;\n",
       "    }\n",
       "</style>\n",
       "<table border=\"1\" class=\"dataframe\">\n",
       "  <thead>\n",
       "    <tr style=\"text-align: right;\">\n",
       "      <th></th>\n",
       "      <th>invoice_no</th>\n",
       "      <th>stock_code</th>\n",
       "      <th>description</th>\n",
       "      <th>quantity</th>\n",
       "      <th>invoice_date</th>\n",
       "      <th>unit_price</th>\n",
       "      <th>customer_id</th>\n",
       "      <th>country</th>\n",
       "      <th>subtotal</th>\n",
       "      <th>avg_ticket</th>\n",
       "      <th>recency</th>\n",
       "    </tr>\n",
       "  </thead>\n",
       "  <tbody>\n",
       "    <tr>\n",
       "      <th>93705</th>\n",
       "      <td>548148</td>\n",
       "      <td>47590B</td>\n",
       "      <td>PINK HAPPY BIRTHDAY BUNTING</td>\n",
       "      <td>1</td>\n",
       "      <td>2017-03-27</td>\n",
       "      <td>5.45</td>\n",
       "      <td>17931</td>\n",
       "      <td>United Kingdom</td>\n",
       "      <td>5.45</td>\n",
       "      <td>204.18</td>\n",
       "      <td>0.74</td>\n",
       "    </tr>\n",
       "    <tr>\n",
       "      <th>183661</th>\n",
       "      <td>559542</td>\n",
       "      <td>22461</td>\n",
       "      <td>SAVOY ART DECO CLOCK</td>\n",
       "      <td>1</td>\n",
       "      <td>2017-07-08</td>\n",
       "      <td>3.95</td>\n",
       "      <td>17126</td>\n",
       "      <td>United Kingdom</td>\n",
       "      <td>3.95</td>\n",
       "      <td>141.69</td>\n",
       "      <td>0.65</td>\n",
       "    </tr>\n",
       "    <tr>\n",
       "      <th>235101</th>\n",
       "      <td>565432</td>\n",
       "      <td>84032A</td>\n",
       "      <td>CHARLIE+LOLA PINK HOT WATER BOTTLE</td>\n",
       "      <td>1</td>\n",
       "      <td>2017-09-02</td>\n",
       "      <td>2.95</td>\n",
       "      <td>16241</td>\n",
       "      <td>United Kingdom</td>\n",
       "      <td>2.95</td>\n",
       "      <td>200.61</td>\n",
       "      <td>10.00</td>\n",
       "    </tr>\n",
       "    <tr>\n",
       "      <th>82569</th>\n",
       "      <td>546856</td>\n",
       "      <td>20726</td>\n",
       "      <td>LUNCH BAG WOODLAND</td>\n",
       "      <td>10</td>\n",
       "      <td>2017-03-15</td>\n",
       "      <td>1.65</td>\n",
       "      <td>15433</td>\n",
       "      <td>United Kingdom</td>\n",
       "      <td>16.50</td>\n",
       "      <td>139.29</td>\n",
       "      <td>1.25</td>\n",
       "    </tr>\n",
       "    <tr>\n",
       "      <th>118489</th>\n",
       "      <td>551277</td>\n",
       "      <td>84992</td>\n",
       "      <td>72 SWEETHEART FAIRY CAKE CASES</td>\n",
       "      <td>2</td>\n",
       "      <td>2017-04-25</td>\n",
       "      <td>0.55</td>\n",
       "      <td>13637</td>\n",
       "      <td>United Kingdom</td>\n",
       "      <td>1.10</td>\n",
       "      <td>270.17</td>\n",
       "      <td>1.89</td>\n",
       "    </tr>\n",
       "    <tr>\n",
       "      <th>319771</th>\n",
       "      <td>573361</td>\n",
       "      <td>20725</td>\n",
       "      <td>LUNCH BAG RED RETROSPOT</td>\n",
       "      <td>8</td>\n",
       "      <td>2017-10-28</td>\n",
       "      <td>1.65</td>\n",
       "      <td>14456</td>\n",
       "      <td>United Kingdom</td>\n",
       "      <td>13.20</td>\n",
       "      <td>217.69</td>\n",
       "      <td>16.67</td>\n",
       "    </tr>\n",
       "    <tr>\n",
       "      <th>278204</th>\n",
       "      <td>569563</td>\n",
       "      <td>23306</td>\n",
       "      <td>SET OF 36 DOILIES PANTRY DESIGN</td>\n",
       "      <td>12</td>\n",
       "      <td>2017-10-03</td>\n",
       "      <td>1.45</td>\n",
       "      <td>12481</td>\n",
       "      <td>Germany</td>\n",
       "      <td>17.40</td>\n",
       "      <td>508.26</td>\n",
       "      <td>4.35</td>\n",
       "    </tr>\n",
       "    <tr>\n",
       "      <th>205717</th>\n",
       "      <td>562087</td>\n",
       "      <td>22161</td>\n",
       "      <td>HEART DECORATION RUSTIC HANGING</td>\n",
       "      <td>20</td>\n",
       "      <td>2017-07-31</td>\n",
       "      <td>0.19</td>\n",
       "      <td>14606</td>\n",
       "      <td>United Kingdom</td>\n",
       "      <td>3.80</td>\n",
       "      <td>91.51</td>\n",
       "      <td>50.00</td>\n",
       "    </tr>\n",
       "    <tr>\n",
       "      <th>232224</th>\n",
       "      <td>565128</td>\n",
       "      <td>21462</td>\n",
       "      <td>NURSERY A,B,C PAINTED LETTERS</td>\n",
       "      <td>2</td>\n",
       "      <td>2017-08-30</td>\n",
       "      <td>6.75</td>\n",
       "      <td>15189</td>\n",
       "      <td>United Kingdom</td>\n",
       "      <td>13.50</td>\n",
       "      <td>298.15</td>\n",
       "      <td>50.00</td>\n",
       "    </tr>\n",
       "    <tr>\n",
       "      <th>248131</th>\n",
       "      <td>566730</td>\n",
       "      <td>21390</td>\n",
       "      <td>FILIGRIS HEART WITH BUTTERFLY</td>\n",
       "      <td>1</td>\n",
       "      <td>2017-09-12</td>\n",
       "      <td>1.25</td>\n",
       "      <td>14606</td>\n",
       "      <td>United Kingdom</td>\n",
       "      <td>1.25</td>\n",
       "      <td>91.51</td>\n",
       "      <td>50.00</td>\n",
       "    </tr>\n",
       "  </tbody>\n",
       "</table>\n",
       "</div>"
      ],
      "text/plain": [
       "       invoice_no stock_code                         description  quantity invoice_date  unit_price  customer_id         country  subtotal  avg_ticket  recency\n",
       "93705      548148     47590B         PINK HAPPY BIRTHDAY BUNTING         1   2017-03-27        5.45        17931  United Kingdom      5.45      204.18     0.74\n",
       "183661     559542      22461                SAVOY ART DECO CLOCK         1   2017-07-08        3.95        17126  United Kingdom      3.95      141.69     0.65\n",
       "235101     565432     84032A  CHARLIE+LOLA PINK HOT WATER BOTTLE         1   2017-09-02        2.95        16241  United Kingdom      2.95      200.61    10.00\n",
       "82569      546856      20726                  LUNCH BAG WOODLAND        10   2017-03-15        1.65        15433  United Kingdom     16.50      139.29     1.25\n",
       "118489     551277      84992      72 SWEETHEART FAIRY CAKE CASES         2   2017-04-25        0.55        13637  United Kingdom      1.10      270.17     1.89\n",
       "319771     573361      20725             LUNCH BAG RED RETROSPOT         8   2017-10-28        1.65        14456  United Kingdom     13.20      217.69    16.67\n",
       "278204     569563      23306     SET OF 36 DOILIES PANTRY DESIGN        12   2017-10-03        1.45        12481         Germany     17.40      508.26     4.35\n",
       "205717     562087      22161    HEART DECORATION RUSTIC HANGING         20   2017-07-31        0.19        14606  United Kingdom      3.80       91.51    50.00\n",
       "232224     565128      21462       NURSERY A,B,C PAINTED LETTERS         2   2017-08-30        6.75        15189  United Kingdom     13.50      298.15    50.00\n",
       "248131     566730      21390       FILIGRIS HEART WITH BUTTERFLY         1   2017-09-12        1.25        14606  United Kingdom      1.25       91.51    50.00"
      ]
     },
     "execution_count": 55,
     "metadata": {},
     "output_type": "execute_result"
    }
   ],
   "source": [
    "df4.sample(10)"
   ]
  },
  {
   "cell_type": "markdown",
   "id": "172a6874",
   "metadata": {
    "ExecuteTime": {
     "end_time": "2021-08-24T21:02:06.126790Z",
     "start_time": "2021-08-24T21:02:06.120807Z"
    }
   },
   "source": [
    "## gross_revenue"
   ]
  },
  {
   "cell_type": "code",
   "execution_count": 56,
   "id": "2ab71dea",
   "metadata": {
    "ExecuteTime": {
     "end_time": "2021-10-11T17:31:40.134371Z",
     "start_time": "2021-10-11T17:31:40.119380Z"
    }
   },
   "outputs": [],
   "source": [
    "df_revenue = df4[['subtotal', 'customer_id']].copy()"
   ]
  },
  {
   "cell_type": "code",
   "execution_count": 57,
   "id": "42dcc5f4",
   "metadata": {
    "ExecuteTime": {
     "end_time": "2021-10-11T17:31:40.165295Z",
     "start_time": "2021-10-11T17:31:40.135336Z"
    }
   },
   "outputs": [
    {
     "data": {
      "text/html": [
       "<div>\n",
       "<style scoped>\n",
       "    .dataframe tbody tr th:only-of-type {\n",
       "        vertical-align: middle;\n",
       "    }\n",
       "\n",
       "    .dataframe tbody tr th {\n",
       "        vertical-align: top;\n",
       "    }\n",
       "\n",
       "    .dataframe thead th {\n",
       "        text-align: right;\n",
       "    }\n",
       "</style>\n",
       "<table border=\"1\" class=\"dataframe\">\n",
       "  <thead>\n",
       "    <tr style=\"text-align: right;\">\n",
       "      <th></th>\n",
       "      <th>customer_id</th>\n",
       "      <th>gross_revenue</th>\n",
       "    </tr>\n",
       "  </thead>\n",
       "  <tbody>\n",
       "    <tr>\n",
       "      <th>0</th>\n",
       "      <td>12347</td>\n",
       "      <td>4310.00</td>\n",
       "    </tr>\n",
       "    <tr>\n",
       "      <th>1</th>\n",
       "      <td>12348</td>\n",
       "      <td>1797.24</td>\n",
       "    </tr>\n",
       "    <tr>\n",
       "      <th>2</th>\n",
       "      <td>12349</td>\n",
       "      <td>1757.55</td>\n",
       "    </tr>\n",
       "    <tr>\n",
       "      <th>3</th>\n",
       "      <td>12350</td>\n",
       "      <td>334.40</td>\n",
       "    </tr>\n",
       "    <tr>\n",
       "      <th>4</th>\n",
       "      <td>12352</td>\n",
       "      <td>1545.41</td>\n",
       "    </tr>\n",
       "  </tbody>\n",
       "</table>\n",
       "</div>"
      ],
      "text/plain": [
       "   customer_id  gross_revenue\n",
       "0        12347        4310.00\n",
       "1        12348        1797.24\n",
       "2        12349        1757.55\n",
       "3        12350         334.40\n",
       "4        12352        1545.41"
      ]
     },
     "execution_count": 57,
     "metadata": {},
     "output_type": "execute_result"
    }
   ],
   "source": [
    "df_revenue = df_revenue.groupby('customer_id').sum().reset_index() #total per customer\n",
    "df_revenue.rename(columns = {'subtotal':'gross_revenue'}, inplace = True)\n",
    "df_revenue.head()"
   ]
  },
  {
   "cell_type": "code",
   "execution_count": 58,
   "id": "16727f93",
   "metadata": {
    "ExecuteTime": {
     "end_time": "2021-10-11T17:31:40.305407Z",
     "start_time": "2021-10-11T17:31:40.166254Z"
    }
   },
   "outputs": [],
   "source": [
    "df4 = pd.merge(df4, df_revenue, on='customer_id', how='left')"
   ]
  },
  {
   "cell_type": "code",
   "execution_count": 59,
   "id": "631ad101",
   "metadata": {
    "ExecuteTime": {
     "end_time": "2021-10-11T17:31:40.321401Z",
     "start_time": "2021-10-11T17:31:40.307402Z"
    }
   },
   "outputs": [
    {
     "data": {
      "text/html": [
       "<div>\n",
       "<style scoped>\n",
       "    .dataframe tbody tr th:only-of-type {\n",
       "        vertical-align: middle;\n",
       "    }\n",
       "\n",
       "    .dataframe tbody tr th {\n",
       "        vertical-align: top;\n",
       "    }\n",
       "\n",
       "    .dataframe thead th {\n",
       "        text-align: right;\n",
       "    }\n",
       "</style>\n",
       "<table border=\"1\" class=\"dataframe\">\n",
       "  <thead>\n",
       "    <tr style=\"text-align: right;\">\n",
       "      <th></th>\n",
       "      <th>invoice_no</th>\n",
       "      <th>stock_code</th>\n",
       "      <th>description</th>\n",
       "      <th>quantity</th>\n",
       "      <th>invoice_date</th>\n",
       "      <th>unit_price</th>\n",
       "      <th>customer_id</th>\n",
       "      <th>country</th>\n",
       "      <th>subtotal</th>\n",
       "      <th>avg_ticket</th>\n",
       "      <th>recency</th>\n",
       "      <th>gross_revenue</th>\n",
       "    </tr>\n",
       "  </thead>\n",
       "  <tbody>\n",
       "    <tr>\n",
       "      <th>0</th>\n",
       "      <td>536365</td>\n",
       "      <td>85123A</td>\n",
       "      <td>WHITE HANGING HEART T-LIGHT HOLDER</td>\n",
       "      <td>6</td>\n",
       "      <td>2016-11-29</td>\n",
       "      <td>2.55</td>\n",
       "      <td>17850</td>\n",
       "      <td>United Kingdom</td>\n",
       "      <td>15.30</td>\n",
       "      <td>151.10</td>\n",
       "      <td>0.33</td>\n",
       "      <td>5288.63</td>\n",
       "    </tr>\n",
       "    <tr>\n",
       "      <th>1</th>\n",
       "      <td>536365</td>\n",
       "      <td>71053</td>\n",
       "      <td>WHITE METAL LANTERN</td>\n",
       "      <td>6</td>\n",
       "      <td>2016-11-29</td>\n",
       "      <td>3.39</td>\n",
       "      <td>17850</td>\n",
       "      <td>United Kingdom</td>\n",
       "      <td>20.34</td>\n",
       "      <td>151.10</td>\n",
       "      <td>0.33</td>\n",
       "      <td>5288.63</td>\n",
       "    </tr>\n",
       "    <tr>\n",
       "      <th>2</th>\n",
       "      <td>536365</td>\n",
       "      <td>84406B</td>\n",
       "      <td>CREAM CUPID HEARTS COAT HANGER</td>\n",
       "      <td>8</td>\n",
       "      <td>2016-11-29</td>\n",
       "      <td>2.75</td>\n",
       "      <td>17850</td>\n",
       "      <td>United Kingdom</td>\n",
       "      <td>22.00</td>\n",
       "      <td>151.10</td>\n",
       "      <td>0.33</td>\n",
       "      <td>5288.63</td>\n",
       "    </tr>\n",
       "    <tr>\n",
       "      <th>3</th>\n",
       "      <td>536365</td>\n",
       "      <td>84029G</td>\n",
       "      <td>KNITTED UNION FLAG HOT WATER BOTTLE</td>\n",
       "      <td>6</td>\n",
       "      <td>2016-11-29</td>\n",
       "      <td>3.39</td>\n",
       "      <td>17850</td>\n",
       "      <td>United Kingdom</td>\n",
       "      <td>20.34</td>\n",
       "      <td>151.10</td>\n",
       "      <td>0.33</td>\n",
       "      <td>5288.63</td>\n",
       "    </tr>\n",
       "    <tr>\n",
       "      <th>4</th>\n",
       "      <td>536365</td>\n",
       "      <td>84029E</td>\n",
       "      <td>RED WOOLLY HOTTIE WHITE HEART.</td>\n",
       "      <td>6</td>\n",
       "      <td>2016-11-29</td>\n",
       "      <td>3.39</td>\n",
       "      <td>17850</td>\n",
       "      <td>United Kingdom</td>\n",
       "      <td>20.34</td>\n",
       "      <td>151.10</td>\n",
       "      <td>0.33</td>\n",
       "      <td>5288.63</td>\n",
       "    </tr>\n",
       "  </tbody>\n",
       "</table>\n",
       "</div>"
      ],
      "text/plain": [
       "  invoice_no stock_code                          description  quantity invoice_date  unit_price  customer_id         country  subtotal  avg_ticket  recency  gross_revenue\n",
       "0     536365     85123A   WHITE HANGING HEART T-LIGHT HOLDER         6   2016-11-29        2.55        17850  United Kingdom     15.30      151.10     0.33        5288.63\n",
       "1     536365      71053                  WHITE METAL LANTERN         6   2016-11-29        3.39        17850  United Kingdom     20.34      151.10     0.33        5288.63\n",
       "2     536365     84406B       CREAM CUPID HEARTS COAT HANGER         8   2016-11-29        2.75        17850  United Kingdom     22.00      151.10     0.33        5288.63\n",
       "3     536365     84029G  KNITTED UNION FLAG HOT WATER BOTTLE         6   2016-11-29        3.39        17850  United Kingdom     20.34      151.10     0.33        5288.63\n",
       "4     536365     84029E       RED WOOLLY HOTTIE WHITE HEART.         6   2016-11-29        3.39        17850  United Kingdom     20.34      151.10     0.33        5288.63"
      ]
     },
     "execution_count": 59,
     "metadata": {},
     "output_type": "execute_result"
    }
   ],
   "source": [
    "df4.head()"
   ]
  },
  {
   "cell_type": "code",
   "execution_count": null,
   "id": "7f3ecb8f",
   "metadata": {},
   "outputs": [],
   "source": [
    "# Exclude gross revenue == 0"
   ]
  },
  {
   "cell_type": "markdown",
   "id": "19a299ba",
   "metadata": {
    "ExecuteTime": {
     "end_time": "2021-09-03T18:32:19.434219Z",
     "start_time": "2021-09-03T18:32:19.423207Z"
    }
   },
   "source": [
    "## Frequency"
   ]
  },
  {
   "cell_type": "code",
   "execution_count": 60,
   "id": "970490e5",
   "metadata": {
    "ExecuteTime": {
     "end_time": "2021-10-11T17:31:40.369269Z",
     "start_time": "2021-10-11T17:31:40.322363Z"
    }
   },
   "outputs": [],
   "source": [
    "df_frequency = df4[['customer_id', 'invoice_no']]"
   ]
  },
  {
   "cell_type": "code",
   "execution_count": 61,
   "id": "81eb21d6",
   "metadata": {
    "ExecuteTime": {
     "end_time": "2021-10-11T17:31:40.417109Z",
     "start_time": "2021-10-11T17:31:40.370234Z"
    }
   },
   "outputs": [],
   "source": [
    "df_frequency = df_frequency.drop_duplicates(subset = 'invoice_no')\n",
    "df_frequency = df_frequency.groupby('customer_id').count().reset_index() # number of purchases for customer within the dataset"
   ]
  },
  {
   "cell_type": "code",
   "execution_count": 62,
   "id": "33970b72",
   "metadata": {
    "ExecuteTime": {
     "end_time": "2021-10-11T17:31:40.433067Z",
     "start_time": "2021-10-11T17:31:40.418107Z"
    }
   },
   "outputs": [],
   "source": [
    "df_frequency.rename(columns={'invoice_no':'frequency'}, inplace = True)"
   ]
  },
  {
   "cell_type": "code",
   "execution_count": 63,
   "id": "68a3657f",
   "metadata": {
    "ExecuteTime": {
     "end_time": "2021-10-11T17:31:40.587651Z",
     "start_time": "2021-10-11T17:31:40.434064Z"
    }
   },
   "outputs": [],
   "source": [
    "df4 = pd.merge(df4, df_frequency, on='customer_id', how = 'left')"
   ]
  },
  {
   "cell_type": "code",
   "execution_count": 64,
   "id": "fd8ee0c2",
   "metadata": {
    "ExecuteTime": {
     "end_time": "2021-10-11T17:31:40.603649Z",
     "start_time": "2021-10-11T17:31:40.588651Z"
    },
    "scrolled": true
   },
   "outputs": [
    {
     "data": {
      "text/html": [
       "<div>\n",
       "<style scoped>\n",
       "    .dataframe tbody tr th:only-of-type {\n",
       "        vertical-align: middle;\n",
       "    }\n",
       "\n",
       "    .dataframe tbody tr th {\n",
       "        vertical-align: top;\n",
       "    }\n",
       "\n",
       "    .dataframe thead th {\n",
       "        text-align: right;\n",
       "    }\n",
       "</style>\n",
       "<table border=\"1\" class=\"dataframe\">\n",
       "  <thead>\n",
       "    <tr style=\"text-align: right;\">\n",
       "      <th></th>\n",
       "      <th>invoice_no</th>\n",
       "      <th>stock_code</th>\n",
       "      <th>description</th>\n",
       "      <th>quantity</th>\n",
       "      <th>invoice_date</th>\n",
       "      <th>unit_price</th>\n",
       "      <th>customer_id</th>\n",
       "      <th>country</th>\n",
       "      <th>subtotal</th>\n",
       "      <th>avg_ticket</th>\n",
       "      <th>recency</th>\n",
       "      <th>gross_revenue</th>\n",
       "      <th>frequency</th>\n",
       "    </tr>\n",
       "  </thead>\n",
       "  <tbody>\n",
       "    <tr>\n",
       "      <th>0</th>\n",
       "      <td>536365</td>\n",
       "      <td>85123A</td>\n",
       "      <td>WHITE HANGING HEART T-LIGHT HOLDER</td>\n",
       "      <td>6</td>\n",
       "      <td>2016-11-29</td>\n",
       "      <td>2.55</td>\n",
       "      <td>17850</td>\n",
       "      <td>United Kingdom</td>\n",
       "      <td>15.30</td>\n",
       "      <td>151.10</td>\n",
       "      <td>0.33</td>\n",
       "      <td>5288.63</td>\n",
       "      <td>35</td>\n",
       "    </tr>\n",
       "    <tr>\n",
       "      <th>1</th>\n",
       "      <td>536365</td>\n",
       "      <td>71053</td>\n",
       "      <td>WHITE METAL LANTERN</td>\n",
       "      <td>6</td>\n",
       "      <td>2016-11-29</td>\n",
       "      <td>3.39</td>\n",
       "      <td>17850</td>\n",
       "      <td>United Kingdom</td>\n",
       "      <td>20.34</td>\n",
       "      <td>151.10</td>\n",
       "      <td>0.33</td>\n",
       "      <td>5288.63</td>\n",
       "      <td>35</td>\n",
       "    </tr>\n",
       "    <tr>\n",
       "      <th>2</th>\n",
       "      <td>536365</td>\n",
       "      <td>84406B</td>\n",
       "      <td>CREAM CUPID HEARTS COAT HANGER</td>\n",
       "      <td>8</td>\n",
       "      <td>2016-11-29</td>\n",
       "      <td>2.75</td>\n",
       "      <td>17850</td>\n",
       "      <td>United Kingdom</td>\n",
       "      <td>22.00</td>\n",
       "      <td>151.10</td>\n",
       "      <td>0.33</td>\n",
       "      <td>5288.63</td>\n",
       "      <td>35</td>\n",
       "    </tr>\n",
       "    <tr>\n",
       "      <th>3</th>\n",
       "      <td>536365</td>\n",
       "      <td>84029G</td>\n",
       "      <td>KNITTED UNION FLAG HOT WATER BOTTLE</td>\n",
       "      <td>6</td>\n",
       "      <td>2016-11-29</td>\n",
       "      <td>3.39</td>\n",
       "      <td>17850</td>\n",
       "      <td>United Kingdom</td>\n",
       "      <td>20.34</td>\n",
       "      <td>151.10</td>\n",
       "      <td>0.33</td>\n",
       "      <td>5288.63</td>\n",
       "      <td>35</td>\n",
       "    </tr>\n",
       "    <tr>\n",
       "      <th>4</th>\n",
       "      <td>536365</td>\n",
       "      <td>84029E</td>\n",
       "      <td>RED WOOLLY HOTTIE WHITE HEART.</td>\n",
       "      <td>6</td>\n",
       "      <td>2016-11-29</td>\n",
       "      <td>3.39</td>\n",
       "      <td>17850</td>\n",
       "      <td>United Kingdom</td>\n",
       "      <td>20.34</td>\n",
       "      <td>151.10</td>\n",
       "      <td>0.33</td>\n",
       "      <td>5288.63</td>\n",
       "      <td>35</td>\n",
       "    </tr>\n",
       "  </tbody>\n",
       "</table>\n",
       "</div>"
      ],
      "text/plain": [
       "  invoice_no stock_code                          description  quantity invoice_date  unit_price  customer_id         country  subtotal  avg_ticket  recency  gross_revenue  frequency\n",
       "0     536365     85123A   WHITE HANGING HEART T-LIGHT HOLDER         6   2016-11-29        2.55        17850  United Kingdom     15.30      151.10     0.33        5288.63         35\n",
       "1     536365      71053                  WHITE METAL LANTERN         6   2016-11-29        3.39        17850  United Kingdom     20.34      151.10     0.33        5288.63         35\n",
       "2     536365     84406B       CREAM CUPID HEARTS COAT HANGER         8   2016-11-29        2.75        17850  United Kingdom     22.00      151.10     0.33        5288.63         35\n",
       "3     536365     84029G  KNITTED UNION FLAG HOT WATER BOTTLE         6   2016-11-29        3.39        17850  United Kingdom     20.34      151.10     0.33        5288.63         35\n",
       "4     536365     84029E       RED WOOLLY HOTTIE WHITE HEART.         6   2016-11-29        3.39        17850  United Kingdom     20.34      151.10     0.33        5288.63         35"
      ]
     },
     "execution_count": 64,
     "metadata": {},
     "output_type": "execute_result"
    }
   ],
   "source": [
    "df4.head()"
   ]
  },
  {
   "cell_type": "markdown",
   "id": "2aa0169b",
   "metadata": {
    "ExecuteTime": {
     "end_time": "2021-10-07T14:02:53.355088Z",
     "start_time": "2021-10-07T14:02:53.340131Z"
    }
   },
   "source": [
    "# Data Filtering"
   ]
  },
  {
   "cell_type": "code",
   "execution_count": 66,
   "id": "5dccdbff",
   "metadata": {
    "ExecuteTime": {
     "end_time": "2021-10-11T17:31:40.711365Z",
     "start_time": "2021-10-11T17:31:40.697359Z"
    }
   },
   "outputs": [],
   "source": [
    "df5 = df4.copy()"
   ]
  },
  {
   "cell_type": "code",
   "execution_count": 67,
   "id": "489cda46",
   "metadata": {
    "ExecuteTime": {
     "end_time": "2021-10-11T17:31:40.727320Z",
     "start_time": "2021-10-11T17:31:40.718302Z"
    }
   },
   "outputs": [
    {
     "data": {
      "text/plain": [
       "invoice_no               object\n",
       "stock_code               object\n",
       "description              object\n",
       "quantity                  int64\n",
       "invoice_date     datetime64[ns]\n",
       "unit_price              float64\n",
       "customer_id               int64\n",
       "country                  object\n",
       "subtotal                float64\n",
       "avg_ticket              float64\n",
       "recency                 float64\n",
       "gross_revenue           float64\n",
       "frequency                 int64\n",
       "dtype: object"
      ]
     },
     "execution_count": 67,
     "metadata": {},
     "output_type": "execute_result"
    }
   ],
   "source": [
    "df5.dtypes"
   ]
  },
  {
   "cell_type": "code",
   "execution_count": 68,
   "id": "a62535a6",
   "metadata": {
    "ExecuteTime": {
     "end_time": "2021-10-11T17:31:40.743236Z",
     "start_time": "2021-10-11T17:31:40.729273Z"
    }
   },
   "outputs": [],
   "source": [
    "df5.drop(columns = ['description','quantity','unit_price' ,'subtotal','invoice_date','invoice_no'], axis = 1, inplace = True) # we don't need this features"
   ]
  },
  {
   "cell_type": "code",
   "execution_count": 69,
   "id": "2b34da21",
   "metadata": {
    "ExecuteTime": {
     "end_time": "2021-10-11T17:31:40.759226Z",
     "start_time": "2021-10-11T17:31:40.744235Z"
    }
   },
   "outputs": [
    {
     "data": {
      "text/html": [
       "<div>\n",
       "<style scoped>\n",
       "    .dataframe tbody tr th:only-of-type {\n",
       "        vertical-align: middle;\n",
       "    }\n",
       "\n",
       "    .dataframe tbody tr th {\n",
       "        vertical-align: top;\n",
       "    }\n",
       "\n",
       "    .dataframe thead th {\n",
       "        text-align: right;\n",
       "    }\n",
       "</style>\n",
       "<table border=\"1\" class=\"dataframe\">\n",
       "  <thead>\n",
       "    <tr style=\"text-align: right;\">\n",
       "      <th></th>\n",
       "      <th>stock_code</th>\n",
       "      <th>customer_id</th>\n",
       "      <th>country</th>\n",
       "      <th>avg_ticket</th>\n",
       "      <th>recency</th>\n",
       "      <th>gross_revenue</th>\n",
       "      <th>frequency</th>\n",
       "    </tr>\n",
       "  </thead>\n",
       "  <tbody>\n",
       "    <tr>\n",
       "      <th>0</th>\n",
       "      <td>85123A</td>\n",
       "      <td>17850</td>\n",
       "      <td>United Kingdom</td>\n",
       "      <td>151.10</td>\n",
       "      <td>0.33</td>\n",
       "      <td>5288.63</td>\n",
       "      <td>35</td>\n",
       "    </tr>\n",
       "    <tr>\n",
       "      <th>7</th>\n",
       "      <td>22633</td>\n",
       "      <td>17850</td>\n",
       "      <td>United Kingdom</td>\n",
       "      <td>151.10</td>\n",
       "      <td>0.33</td>\n",
       "      <td>5288.63</td>\n",
       "      <td>35</td>\n",
       "    </tr>\n",
       "    <tr>\n",
       "      <th>9</th>\n",
       "      <td>84879</td>\n",
       "      <td>13047</td>\n",
       "      <td>United Kingdom</td>\n",
       "      <td>171.06</td>\n",
       "      <td>3.12</td>\n",
       "      <td>3079.10</td>\n",
       "      <td>18</td>\n",
       "    </tr>\n",
       "    <tr>\n",
       "      <th>21</th>\n",
       "      <td>22960</td>\n",
       "      <td>13047</td>\n",
       "      <td>United Kingdom</td>\n",
       "      <td>171.06</td>\n",
       "      <td>3.12</td>\n",
       "      <td>3079.10</td>\n",
       "      <td>18</td>\n",
       "    </tr>\n",
       "    <tr>\n",
       "      <th>25</th>\n",
       "      <td>21756</td>\n",
       "      <td>13047</td>\n",
       "      <td>United Kingdom</td>\n",
       "      <td>171.06</td>\n",
       "      <td>3.12</td>\n",
       "      <td>3079.10</td>\n",
       "      <td>18</td>\n",
       "    </tr>\n",
       "  </tbody>\n",
       "</table>\n",
       "</div>"
      ],
      "text/plain": [
       "   stock_code  customer_id         country  avg_ticket  recency  gross_revenue  frequency\n",
       "0      85123A        17850  United Kingdom      151.10     0.33        5288.63         35\n",
       "7       22633        17850  United Kingdom      151.10     0.33        5288.63         35\n",
       "9       84879        13047  United Kingdom      171.06     3.12        3079.10         18\n",
       "21      22960        13047  United Kingdom      171.06     3.12        3079.10         18\n",
       "25      21756        13047  United Kingdom      171.06     3.12        3079.10         18"
      ]
     },
     "execution_count": 69,
     "metadata": {},
     "output_type": "execute_result"
    }
   ],
   "source": [
    "df5.head()"
   ]
  },
  {
   "cell_type": "code",
   "execution_count": 130,
   "id": "9da68a3d",
   "metadata": {
    "ExecuteTime": {
     "end_time": "2021-10-11T19:16:57.544399Z",
     "start_time": "2021-10-11T19:16:57.533427Z"
    }
   },
   "outputs": [
    {
     "data": {
      "text/plain": [
       "(6, 7)"
      ]
     },
     "execution_count": 130,
     "metadata": {},
     "output_type": "execute_result"
    }
   ],
   "source": [
    "df5[df5['avg_ticket'] ==0].shape"
   ]
  },
  {
   "cell_type": "markdown",
   "id": "886bbdf7",
   "metadata": {
    "ExecuteTime": {
     "end_time": "2021-09-03T18:27:12.113617Z",
     "start_time": "2021-09-03T18:27:12.099655Z"
    }
   },
   "source": [
    "# Exploratory data analysis (EDA)"
   ]
  },
  {
   "cell_type": "code",
   "execution_count": 70,
   "id": "86bb762a",
   "metadata": {
    "ExecuteTime": {
     "end_time": "2021-10-11T17:31:40.775183Z",
     "start_time": "2021-10-11T17:31:40.761189Z"
    }
   },
   "outputs": [],
   "source": [
    "df6 = df5.copy()"
   ]
  },
  {
   "cell_type": "code",
   "execution_count": 71,
   "id": "ef881811",
   "metadata": {
    "ExecuteTime": {
     "end_time": "2021-10-11T17:31:53.396564Z",
     "start_time": "2021-10-11T17:31:40.776148Z"
    }
   },
   "outputs": [
    {
     "data": {
      "application/vnd.jupyter.widget-view+json": {
       "model_id": "160db9b5ef4346d8a23f0fe6483d519b",
       "version_major": 2,
       "version_minor": 0
      },
      "text/plain": [
       "Summarize dataset:   0%|          | 0/22 [00:00<?, ?it/s]"
      ]
     },
     "metadata": {},
     "output_type": "display_data"
    },
    {
     "data": {
      "application/vnd.jupyter.widget-view+json": {
       "model_id": "8c2878bc870f4d03a2640e72f5ce5dd9",
       "version_major": 2,
       "version_minor": 0
      },
      "text/plain": [
       "Generate report structure:   0%|          | 0/1 [00:00<?, ?it/s]"
      ]
     },
     "metadata": {},
     "output_type": "display_data"
    },
    {
     "data": {
      "application/vnd.jupyter.widget-view+json": {
       "model_id": "b7278a0cc28a447a980d2fb5f9871a41",
       "version_major": 2,
       "version_minor": 0
      },
      "text/plain": [
       "Render HTML:   0%|          | 0/1 [00:00<?, ?it/s]"
      ]
     },
     "metadata": {},
     "output_type": "display_data"
    },
    {
     "data": {
      "application/vnd.jupyter.widget-view+json": {
       "model_id": "745ac7440a464cea91ba20ad35646def",
       "version_major": 2,
       "version_minor": 0
      },
      "text/plain": [
       "Export report to file:   0%|          | 0/1 [00:00<?, ?it/s]"
      ]
     },
     "metadata": {},
     "output_type": "display_data"
    }
   ],
   "source": [
    "profile = ProfileReport(df6)\n",
    "profile.to_file(r'../reports/profile_report.html')"
   ]
  },
  {
   "cell_type": "code",
   "execution_count": 72,
   "id": "874b7c8c",
   "metadata": {
    "ExecuteTime": {
     "end_time": "2021-10-11T17:31:53.426518Z",
     "start_time": "2021-10-11T17:31:53.397564Z"
    }
   },
   "outputs": [
    {
     "data": {
      "text/html": [
       "<div>\n",
       "<style scoped>\n",
       "    .dataframe tbody tr th:only-of-type {\n",
       "        vertical-align: middle;\n",
       "    }\n",
       "\n",
       "    .dataframe tbody tr th {\n",
       "        vertical-align: top;\n",
       "    }\n",
       "\n",
       "    .dataframe thead th {\n",
       "        text-align: right;\n",
       "    }\n",
       "</style>\n",
       "<table border=\"1\" class=\"dataframe\">\n",
       "  <thead>\n",
       "    <tr style=\"text-align: right;\">\n",
       "      <th></th>\n",
       "      <th>count</th>\n",
       "      <th>mean</th>\n",
       "      <th>std</th>\n",
       "      <th>min</th>\n",
       "      <th>25%</th>\n",
       "      <th>50%</th>\n",
       "      <th>75%</th>\n",
       "      <th>max</th>\n",
       "    </tr>\n",
       "  </thead>\n",
       "  <tbody>\n",
       "    <tr>\n",
       "      <th>customer_id</th>\n",
       "      <td>22110.00</td>\n",
       "      <td>15237.50</td>\n",
       "      <td>1732.79</td>\n",
       "      <td>12347.00</td>\n",
       "      <td>13755.00</td>\n",
       "      <td>15134.00</td>\n",
       "      <td>16746.00</td>\n",
       "      <td>18287.00</td>\n",
       "    </tr>\n",
       "    <tr>\n",
       "      <th>avg_ticket</th>\n",
       "      <td>22110.00</td>\n",
       "      <td>376.00</td>\n",
       "      <td>471.88</td>\n",
       "      <td>-0.00</td>\n",
       "      <td>171.06</td>\n",
       "      <td>259.82</td>\n",
       "      <td>402.43</td>\n",
       "      <td>6207.67</td>\n",
       "    </tr>\n",
       "    <tr>\n",
       "      <th>recency</th>\n",
       "      <td>22110.00</td>\n",
       "      <td>16.92</td>\n",
       "      <td>23.52</td>\n",
       "      <td>0.27</td>\n",
       "      <td>2.13</td>\n",
       "      <td>6.25</td>\n",
       "      <td>25.00</td>\n",
       "      <td>100.00</td>\n",
       "    </tr>\n",
       "    <tr>\n",
       "      <th>gross_revenue</th>\n",
       "      <td>22110.00</td>\n",
       "      <td>10496.95</td>\n",
       "      <td>29413.92</td>\n",
       "      <td>0.00</td>\n",
       "      <td>971.31</td>\n",
       "      <td>2485.82</td>\n",
       "      <td>6388.35</td>\n",
       "      <td>279489.02</td>\n",
       "    </tr>\n",
       "    <tr>\n",
       "      <th>frequency</th>\n",
       "      <td>22110.00</td>\n",
       "      <td>22.33</td>\n",
       "      <td>40.33</td>\n",
       "      <td>1.00</td>\n",
       "      <td>4.00</td>\n",
       "      <td>9.00</td>\n",
       "      <td>21.00</td>\n",
       "      <td>248.00</td>\n",
       "    </tr>\n",
       "  </tbody>\n",
       "</table>\n",
       "</div>"
      ],
      "text/plain": [
       "                 count     mean      std      min      25%      50%      75%       max\n",
       "customer_id   22110.00 15237.50  1732.79 12347.00 13755.00 15134.00 16746.00  18287.00\n",
       "avg_ticket    22110.00   376.00   471.88    -0.00   171.06   259.82   402.43   6207.67\n",
       "recency       22110.00    16.92    23.52     0.27     2.13     6.25    25.00    100.00\n",
       "gross_revenue 22110.00 10496.95 29413.92     0.00   971.31  2485.82  6388.35 279489.02\n",
       "frequency     22110.00    22.33    40.33     1.00     4.00     9.00    21.00    248.00"
      ]
     },
     "execution_count": 72,
     "metadata": {},
     "output_type": "execute_result"
    }
   ],
   "source": [
    "df6.describe().T"
   ]
  },
  {
   "cell_type": "markdown",
   "id": "a921a62c",
   "metadata": {},
   "source": [
    "## Descriptive Statistics"
   ]
  },
  {
   "cell_type": "code",
   "execution_count": 73,
   "id": "acaa463e",
   "metadata": {
    "ExecuteTime": {
     "end_time": "2021-10-11T17:31:53.442442Z",
     "start_time": "2021-10-11T17:31:53.427482Z"
    }
   },
   "outputs": [],
   "source": [
    "num_attributes = df6.drop(columns = ['country', 'customer_id','stock_code'], axis = 1)"
   ]
  },
  {
   "cell_type": "code",
   "execution_count": null,
   "id": "e2b40491",
   "metadata": {
    "ExecuteTime": {
     "end_time": "2021-10-11T17:31:53.473312Z",
     "start_time": "2021-10-11T17:31:53.443439Z"
    }
   },
   "outputs": [],
   "source": [
    "#central tendency - mean, median\n",
    "ct1 = pd.DataFrame ( num_attributes.apply (np.mean) ).T\n",
    "ct2 = pd.DataFrame ( num_attributes.apply (np.median)).T\n",
    "                    \n",
    "# dispersion - desvio padrão, mínimo, máximo, range, skew, kurtosis\n",
    "d1 = pd.DataFrame ( num_attributes.apply (np.std)).T\n",
    "d2 = pd.DataFrame ( num_attributes.apply (np.min)).T\n",
    "d3 = pd.DataFrame ( num_attributes.apply (np.max)).T\n",
    "d4 = pd.DataFrame ( num_attributes.apply (lambda x: x.max() - x.min())).T\n",
    "d5 = pd.DataFrame ( num_attributes.apply (lambda x: x.skew() )).T\n",
    "d6 = pd.DataFrame ( num_attributes.apply (lambda x: x.kurtosis() ) ).T\n",
    "\n",
    "#concatenate\n",
    "\n",
    "df_metrics = pd.concat ([d2,d3,d4,ct1,ct2,d1,d5,d6]).T.reset_index()\n",
    "df_metrics.columns = ['attributes', 'min.','max','range', 'mean', 'median', 'std', 'skew', 'kurtosis']"
   ]
  },
  {
   "cell_type": "code",
   "execution_count": 93,
   "id": "c0d90a38",
   "metadata": {
    "ExecuteTime": {
     "end_time": "2021-10-11T18:02:33.559804Z",
     "start_time": "2021-10-11T18:02:33.539825Z"
    }
   },
   "outputs": [
    {
     "data": {
      "text/html": [
       "<div>\n",
       "<style scoped>\n",
       "    .dataframe tbody tr th:only-of-type {\n",
       "        vertical-align: middle;\n",
       "    }\n",
       "\n",
       "    .dataframe tbody tr th {\n",
       "        vertical-align: top;\n",
       "    }\n",
       "\n",
       "    .dataframe thead th {\n",
       "        text-align: right;\n",
       "    }\n",
       "</style>\n",
       "<table border=\"1\" class=\"dataframe\">\n",
       "  <thead>\n",
       "    <tr style=\"text-align: right;\">\n",
       "      <th></th>\n",
       "      <th>attributes</th>\n",
       "      <th>min.</th>\n",
       "      <th>max</th>\n",
       "      <th>range</th>\n",
       "      <th>mean</th>\n",
       "      <th>median</th>\n",
       "      <th>std</th>\n",
       "      <th>skew</th>\n",
       "      <th>kurtosis</th>\n",
       "    </tr>\n",
       "  </thead>\n",
       "  <tbody>\n",
       "    <tr>\n",
       "      <th>0</th>\n",
       "      <td>avg_ticket</td>\n",
       "      <td>-0.00</td>\n",
       "      <td>6207.67</td>\n",
       "      <td>6207.67</td>\n",
       "      <td>376.00</td>\n",
       "      <td>259.82</td>\n",
       "      <td>471.87</td>\n",
       "      <td>5.48</td>\n",
       "      <td>37.80</td>\n",
       "    </tr>\n",
       "    <tr>\n",
       "      <th>1</th>\n",
       "      <td>recency</td>\n",
       "      <td>0.27</td>\n",
       "      <td>100.00</td>\n",
       "      <td>99.73</td>\n",
       "      <td>16.92</td>\n",
       "      <td>6.25</td>\n",
       "      <td>23.52</td>\n",
       "      <td>2.15</td>\n",
       "      <td>4.47</td>\n",
       "    </tr>\n",
       "    <tr>\n",
       "      <th>2</th>\n",
       "      <td>gross_revenue</td>\n",
       "      <td>0.00</td>\n",
       "      <td>279489.02</td>\n",
       "      <td>279489.02</td>\n",
       "      <td>10496.95</td>\n",
       "      <td>2485.82</td>\n",
       "      <td>29413.25</td>\n",
       "      <td>5.99</td>\n",
       "      <td>42.67</td>\n",
       "    </tr>\n",
       "    <tr>\n",
       "      <th>3</th>\n",
       "      <td>frequency</td>\n",
       "      <td>1.00</td>\n",
       "      <td>248.00</td>\n",
       "      <td>247.00</td>\n",
       "      <td>22.33</td>\n",
       "      <td>9.00</td>\n",
       "      <td>40.33</td>\n",
       "      <td>3.89</td>\n",
       "      <td>16.43</td>\n",
       "    </tr>\n",
       "  </tbody>\n",
       "</table>\n",
       "</div>"
      ],
      "text/plain": [
       "      attributes  min.       max     range     mean  median      std  skew  kurtosis\n",
       "0     avg_ticket -0.00   6207.67   6207.67   376.00  259.82   471.87  5.48     37.80\n",
       "1        recency  0.27    100.00     99.73    16.92    6.25    23.52  2.15      4.47\n",
       "2  gross_revenue  0.00 279489.02 279489.02 10496.95 2485.82 29413.25  5.99     42.67\n",
       "3      frequency  1.00    248.00    247.00    22.33    9.00    40.33  3.89     16.43"
      ]
     },
     "execution_count": 93,
     "metadata": {},
     "output_type": "execute_result"
    }
   ],
   "source": [
    "df_metrics"
   ]
  },
  {
   "cell_type": "code",
   "execution_count": 75,
   "id": "36ccff89",
   "metadata": {
    "ExecuteTime": {
     "end_time": "2021-10-11T17:31:53.505067Z",
     "start_time": "2021-10-11T17:31:53.474152Z"
    }
   },
   "outputs": [
    {
     "data": {
      "text/html": [
       "<div>\n",
       "<style scoped>\n",
       "    .dataframe tbody tr th:only-of-type {\n",
       "        vertical-align: middle;\n",
       "    }\n",
       "\n",
       "    .dataframe tbody tr th {\n",
       "        vertical-align: top;\n",
       "    }\n",
       "\n",
       "    .dataframe thead th {\n",
       "        text-align: right;\n",
       "    }\n",
       "</style>\n",
       "<table border=\"1\" class=\"dataframe\">\n",
       "  <thead>\n",
       "    <tr style=\"text-align: right;\">\n",
       "      <th></th>\n",
       "      <th>count</th>\n",
       "      <th>mean</th>\n",
       "      <th>std</th>\n",
       "      <th>min</th>\n",
       "      <th>25%</th>\n",
       "      <th>50%</th>\n",
       "      <th>75%</th>\n",
       "      <th>max</th>\n",
       "    </tr>\n",
       "  </thead>\n",
       "  <tbody>\n",
       "    <tr>\n",
       "      <th>avg_ticket</th>\n",
       "      <td>22110.00</td>\n",
       "      <td>376.00</td>\n",
       "      <td>471.88</td>\n",
       "      <td>-0.00</td>\n",
       "      <td>171.06</td>\n",
       "      <td>259.82</td>\n",
       "      <td>402.43</td>\n",
       "      <td>6207.67</td>\n",
       "    </tr>\n",
       "    <tr>\n",
       "      <th>recency</th>\n",
       "      <td>22110.00</td>\n",
       "      <td>16.92</td>\n",
       "      <td>23.52</td>\n",
       "      <td>0.27</td>\n",
       "      <td>2.13</td>\n",
       "      <td>6.25</td>\n",
       "      <td>25.00</td>\n",
       "      <td>100.00</td>\n",
       "    </tr>\n",
       "    <tr>\n",
       "      <th>gross_revenue</th>\n",
       "      <td>22110.00</td>\n",
       "      <td>10496.95</td>\n",
       "      <td>29413.92</td>\n",
       "      <td>0.00</td>\n",
       "      <td>971.31</td>\n",
       "      <td>2485.82</td>\n",
       "      <td>6388.35</td>\n",
       "      <td>279489.02</td>\n",
       "    </tr>\n",
       "    <tr>\n",
       "      <th>frequency</th>\n",
       "      <td>22110.00</td>\n",
       "      <td>22.33</td>\n",
       "      <td>40.33</td>\n",
       "      <td>1.00</td>\n",
       "      <td>4.00</td>\n",
       "      <td>9.00</td>\n",
       "      <td>21.00</td>\n",
       "      <td>248.00</td>\n",
       "    </tr>\n",
       "  </tbody>\n",
       "</table>\n",
       "</div>"
      ],
      "text/plain": [
       "                 count     mean      std   min    25%     50%     75%       max\n",
       "avg_ticket    22110.00   376.00   471.88 -0.00 171.06  259.82  402.43   6207.67\n",
       "recency       22110.00    16.92    23.52  0.27   2.13    6.25   25.00    100.00\n",
       "gross_revenue 22110.00 10496.95 29413.92  0.00 971.31 2485.82 6388.35 279489.02\n",
       "frequency     22110.00    22.33    40.33  1.00   4.00    9.00   21.00    248.00"
      ]
     },
     "execution_count": 75,
     "metadata": {},
     "output_type": "execute_result"
    }
   ],
   "source": []
  },
  {
   "cell_type": "markdown",
   "id": "16351db3",
   "metadata": {},
   "source": [
    "# <font color='red'>Data Preparation"
   ]
  },
  {
   "cell_type": "code",
   "execution_count": 76,
   "id": "5230f1bf",
   "metadata": {
    "ExecuteTime": {
     "end_time": "2021-10-11T17:31:53.520763Z",
     "start_time": "2021-10-11T17:31:53.506814Z"
    }
   },
   "outputs": [],
   "source": [
    "df7 = df6.copy()"
   ]
  },
  {
   "cell_type": "code",
   "execution_count": null,
   "id": "78632bd8",
   "metadata": {},
   "outputs": [],
   "source": []
  },
  {
   "cell_type": "markdown",
   "id": "e54ab74b",
   "metadata": {},
   "source": [
    "# <font color='red'>Feature Selection"
   ]
  },
  {
   "cell_type": "code",
   "execution_count": 77,
   "id": "bc153c9e",
   "metadata": {
    "ExecuteTime": {
     "end_time": "2021-10-11T17:31:53.536722Z",
     "start_time": "2021-10-11T17:31:53.521761Z"
    }
   },
   "outputs": [],
   "source": [
    "df8 = df7.copy()"
   ]
  },
  {
   "cell_type": "code",
   "execution_count": 78,
   "id": "f173bfa6",
   "metadata": {
    "ExecuteTime": {
     "end_time": "2021-10-11T17:31:53.552679Z",
     "start_time": "2021-10-11T17:31:53.537718Z"
    }
   },
   "outputs": [
    {
     "data": {
      "text/html": [
       "<div>\n",
       "<style scoped>\n",
       "    .dataframe tbody tr th:only-of-type {\n",
       "        vertical-align: middle;\n",
       "    }\n",
       "\n",
       "    .dataframe tbody tr th {\n",
       "        vertical-align: top;\n",
       "    }\n",
       "\n",
       "    .dataframe thead th {\n",
       "        text-align: right;\n",
       "    }\n",
       "</style>\n",
       "<table border=\"1\" class=\"dataframe\">\n",
       "  <thead>\n",
       "    <tr style=\"text-align: right;\">\n",
       "      <th></th>\n",
       "      <th>stock_code</th>\n",
       "      <th>customer_id</th>\n",
       "      <th>country</th>\n",
       "      <th>avg_ticket</th>\n",
       "      <th>recency</th>\n",
       "      <th>gross_revenue</th>\n",
       "      <th>frequency</th>\n",
       "    </tr>\n",
       "  </thead>\n",
       "  <tbody>\n",
       "    <tr>\n",
       "      <th>0</th>\n",
       "      <td>85123A</td>\n",
       "      <td>17850</td>\n",
       "      <td>United Kingdom</td>\n",
       "      <td>151.10</td>\n",
       "      <td>0.33</td>\n",
       "      <td>5288.63</td>\n",
       "      <td>35</td>\n",
       "    </tr>\n",
       "    <tr>\n",
       "      <th>7</th>\n",
       "      <td>22633</td>\n",
       "      <td>17850</td>\n",
       "      <td>United Kingdom</td>\n",
       "      <td>151.10</td>\n",
       "      <td>0.33</td>\n",
       "      <td>5288.63</td>\n",
       "      <td>35</td>\n",
       "    </tr>\n",
       "    <tr>\n",
       "      <th>9</th>\n",
       "      <td>84879</td>\n",
       "      <td>13047</td>\n",
       "      <td>United Kingdom</td>\n",
       "      <td>171.06</td>\n",
       "      <td>3.12</td>\n",
       "      <td>3079.10</td>\n",
       "      <td>18</td>\n",
       "    </tr>\n",
       "    <tr>\n",
       "      <th>21</th>\n",
       "      <td>22960</td>\n",
       "      <td>13047</td>\n",
       "      <td>United Kingdom</td>\n",
       "      <td>171.06</td>\n",
       "      <td>3.12</td>\n",
       "      <td>3079.10</td>\n",
       "      <td>18</td>\n",
       "    </tr>\n",
       "    <tr>\n",
       "      <th>25</th>\n",
       "      <td>21756</td>\n",
       "      <td>13047</td>\n",
       "      <td>United Kingdom</td>\n",
       "      <td>171.06</td>\n",
       "      <td>3.12</td>\n",
       "      <td>3079.10</td>\n",
       "      <td>18</td>\n",
       "    </tr>\n",
       "  </tbody>\n",
       "</table>\n",
       "</div>"
      ],
      "text/plain": [
       "   stock_code  customer_id         country  avg_ticket  recency  gross_revenue  frequency\n",
       "0      85123A        17850  United Kingdom      151.10     0.33        5288.63         35\n",
       "7       22633        17850  United Kingdom      151.10     0.33        5288.63         35\n",
       "9       84879        13047  United Kingdom      171.06     3.12        3079.10         18\n",
       "21      22960        13047  United Kingdom      171.06     3.12        3079.10         18\n",
       "25      21756        13047  United Kingdom      171.06     3.12        3079.10         18"
      ]
     },
     "execution_count": 78,
     "metadata": {},
     "output_type": "execute_result"
    }
   ],
   "source": [
    "df8.head()"
   ]
  },
  {
   "cell_type": "code",
   "execution_count": 79,
   "id": "62b0f1a7",
   "metadata": {
    "ExecuteTime": {
     "end_time": "2021-10-11T17:31:53.567640Z",
     "start_time": "2021-10-11T17:31:53.553677Z"
    }
   },
   "outputs": [],
   "source": [
    "df8 = df8.drop(columns = ['stock_code','country'], axis=1)"
   ]
  },
  {
   "cell_type": "markdown",
   "id": "54063b42",
   "metadata": {},
   "source": [
    "# <font color='red'>Hyperparameter Fine-Tunning"
   ]
  },
  {
   "cell_type": "code",
   "execution_count": 80,
   "id": "fc4eea4d",
   "metadata": {
    "ExecuteTime": {
     "end_time": "2021-10-11T17:31:53.582650Z",
     "start_time": "2021-10-11T17:31:53.568637Z"
    }
   },
   "outputs": [],
   "source": [
    "df9 = df8.copy()"
   ]
  },
  {
   "cell_type": "markdown",
   "id": "08ac67d1",
   "metadata": {},
   "source": [
    "O número de clusters é nosso principal hiperparâmetro, pois não temos essa resposta.  Antes de treinar os modelos precisamos saber quantos clusters vamos considerar. Utilizamos o Kmeans para efetuar a clusterização em um range de 2 a 7 clusters, e utilizando duas métricas, a WSS e a Silhouette Score, escolhemos o número adequado de clusters. A partir daí temos um ponto de partida para treinar os diversos modelos."
   ]
  },
  {
   "cell_type": "code",
   "execution_count": 81,
   "id": "c0cde61d",
   "metadata": {
    "ExecuteTime": {
     "end_time": "2021-10-11T17:31:53.598555Z",
     "start_time": "2021-10-11T17:31:53.583598Z"
    }
   },
   "outputs": [],
   "source": [
    "X = df9.drop(columns =  ['customer_id'],  axis=1) \n",
    "clusters = [2,3,4,5,6,7] # cluster range"
   ]
  },
  {
   "cell_type": "markdown",
   "id": "7036a5e8",
   "metadata": {
    "ExecuteTime": {
     "end_time": "2021-10-07T15:41:33.064558Z",
     "start_time": "2021-10-07T15:40:39.948562Z"
    }
   },
   "source": [
    "## Within-Cluster Sum of Square (WSS)"
   ]
  },
  {
   "cell_type": "code",
   "execution_count": 82,
   "id": "ea4df0f1",
   "metadata": {
    "ExecuteTime": {
     "end_time": "2021-10-11T17:31:55.136407Z",
     "start_time": "2021-10-11T17:31:53.599553Z"
    }
   },
   "outputs": [],
   "source": [
    "wss = [] #lista para guardar as métricas para cada iteração do modelo. Cada número de cluster irá gerar um valor\n",
    "\n",
    "for k in clusters:\n",
    "    #model definition\n",
    "    kmeans = c.KMeans (init = 'random' , n_clusters=k, n_init=10, max_iter=300)\n",
    "    #model training\n",
    "    kmeans.fit ( X )\n",
    "    #validation\n",
    "    wss.append (kmeans.inertia_) #inertia é o próprio valor wss"
   ]
  },
  {
   "cell_type": "code",
   "execution_count": 83,
   "id": "88e6fd52",
   "metadata": {
    "ExecuteTime": {
     "end_time": "2021-10-11T17:31:56.374197Z",
     "start_time": "2021-10-11T17:31:55.137404Z"
    },
    "cell_style": "center",
    "scrolled": true
   },
   "outputs": [
    {
     "data": {
      "image/png": "[encoded data removed]",
      "text/plain": [
       "<Figure size 1800x864 with 2 Axes>"
      ]
     },
     "metadata": {},
     "output_type": "display_data"
    },
    {
     "data": {
      "text/plain": [
       "<AxesSubplot:title={'center':'Distortion Score Elbow for KMeans Clustering'}, xlabel='k', ylabel='distortion score'>"
      ]
     },
     "execution_count": 83,
     "metadata": {},
     "output_type": "execute_result"
    }
   ],
   "source": [
    "#plot elbow method\n",
    "kmeans = KElbowVisualizer (c.KMeans(), k=clusters, timing=False)\n",
    "kmeans.fit(X)\n",
    "kmeans.show()"
   ]
  },
  {
   "cell_type": "markdown",
   "id": "b73c35de",
   "metadata": {
    "ExecuteTime": {
     "end_time": "2021-10-07T17:31:20.037948Z",
     "start_time": "2021-10-07T17:31:20.029969Z"
    }
   },
   "source": [
    "## Silhouette Score"
   ]
  },
  {
   "cell_type": "code",
   "execution_count": 84,
   "id": "be2e68bb",
   "metadata": {
    "ExecuteTime": {
     "end_time": "2021-10-11T17:32:43.369626Z",
     "start_time": "2021-10-11T17:31:56.376192Z"
    },
    "cell_style": "center",
    "scrolled": true
   },
   "outputs": [
    {
     "data": {
      "image/png": "[encoded data removed]",
      "text/plain": [
       "<Figure size 1800x864 with 2 Axes>"
      ]
     },
     "metadata": {},
     "output_type": "display_data"
    },
    {
     "data": {
      "text/plain": [
       "<AxesSubplot:title={'center':'Silhouette Score Elbow for KMeans Clustering'}, xlabel='k', ylabel='silhouette score'>"
      ]
     },
     "execution_count": 84,
     "metadata": {},
     "output_type": "execute_result"
    }
   ],
   "source": [
    "kmeans = KElbowVisualizer ( c.KMeans(), k=clusters, metric='silhouette', timing=False)\n",
    "kmeans.fit(X)\n",
    "kmeans.show()"
   ]
  },
  {
   "cell_type": "markdown",
   "id": "3f76921c",
   "metadata": {
    "ExecuteTime": {
     "end_time": "2021-10-08T15:14:49.627234Z",
     "start_time": "2021-10-08T15:14:49.616222Z"
    }
   },
   "source": [
    "## Silhouette Analysis"
   ]
  },
  {
   "cell_type": "code",
   "execution_count": 85,
   "id": "84ad17ef",
   "metadata": {
    "ExecuteTime": {
     "end_time": "2021-10-11T17:34:27.387399Z",
     "start_time": "2021-10-11T17:32:43.370586Z"
    }
   },
   "outputs": [
    {
     "data": {
      "image/png": "[encoded data removed]",
      "text/plain": [
       "<Figure size 1800x1296 with 6 Axes>"
      ]
     },
     "metadata": {},
     "output_type": "display_data"
    }
   ],
   "source": [
    "fig, ax = plt.subplots (3,2, figsize=(25,18))\n",
    "\n",
    "for k in clusters:\n",
    "    km = c.KMeans (n_clusters=k, init='random', n_init=10, max_iter=100, random_state=42)\n",
    "    q,mod = divmod(k,2) #truque para distribuição dos plots\n",
    "    visualizer = SilhouetteVisualizer (km, colors='yellowbrick', ax=ax[q-1][mod])\n",
    "    visualizer.fit(X)\n",
    "    visualizer.finalize()"
   ]
  },
  {
   "cell_type": "markdown",
   "id": "6c0cc210",
   "metadata": {
    "ExecuteTime": {
     "end_time": "2021-10-07T18:38:18.174167Z",
     "start_time": "2021-10-07T18:32:33.426Z"
    }
   },
   "source": [
    "# Model training"
   ]
  },
  {
   "cell_type": "markdown",
   "id": "410264a1",
   "metadata": {},
   "source": [
    "## K-Means"
   ]
  },
  {
   "cell_type": "code",
   "execution_count": 86,
   "id": "d211bbcb",
   "metadata": {
    "ExecuteTime": {
     "end_time": "2021-10-11T17:34:27.618978Z",
     "start_time": "2021-10-11T17:34:27.388593Z"
    }
   },
   "outputs": [],
   "source": [
    "# model definition\n",
    "k = 4\n",
    "kmeans = c.KMeans (init='random', n_clusters=k, n_init=10, max_iter=300, random_state = 42)\n",
    "# model training\n",
    "kmeans.fit (X)\n",
    "#clustering\n",
    "labels = kmeans.labels_"
   ]
  },
  {
   "cell_type": "markdown",
   "id": "f4291436",
   "metadata": {
    "ExecuteTime": {
     "end_time": "2021-07-09T16:31:54.592587Z",
     "start_time": "2021-07-09T16:31:54.578656Z"
    }
   },
   "source": [
    "## Cluster Validation"
   ]
  },
  {
   "cell_type": "code",
   "execution_count": 87,
   "id": "e8961a87",
   "metadata": {
    "ExecuteTime": {
     "end_time": "2021-10-11T17:34:34.427220Z",
     "start_time": "2021-10-11T17:34:27.619976Z"
    }
   },
   "outputs": [
    {
     "name": "stdout",
     "output_type": "stream",
     "text": [
      "WSS value: 2362607565721.499\n",
      "SS value: 0.7897936783074664\n"
     ]
    }
   ],
   "source": [
    "# WSS\n",
    "print('WSS value: {}'.format (kmeans.inertia_))\n",
    "# SS\n",
    "print ('SS value: {}'.format(m.silhouette_score(X, labels, metric='euclidean')))"
   ]
  },
  {
   "cell_type": "markdown",
   "id": "c83053df",
   "metadata": {
    "ExecuteTime": {
     "end_time": "2021-10-11T15:29:00.275157Z",
     "start_time": "2021-10-11T15:29:00.263152Z"
    }
   },
   "source": [
    "# Cluster visual inspection"
   ]
  },
  {
   "cell_type": "code",
   "execution_count": null,
   "id": "20fe324d",
   "metadata": {},
   "outputs": [],
   "source": []
  },
  {
   "cell_type": "code",
   "execution_count": 88,
   "id": "c11b2f41",
   "metadata": {
    "ExecuteTime": {
     "end_time": "2021-10-11T17:34:34.442635Z",
     "start_time": "2021-10-11T17:34:34.428204Z"
    }
   },
   "outputs": [],
   "source": [
    "reducer = umap.UMAP (n_neighbors = 20, random_state = 42) # instancia o objeto"
   ]
  },
  {
   "cell_type": "code",
   "execution_count": 89,
   "id": "0e54e1a1",
   "metadata": {
    "ExecuteTime": {
     "end_time": "2021-10-11T17:35:56.986104Z",
     "start_time": "2021-10-11T17:34:34.443601Z"
    }
   },
   "outputs": [
    {
     "name": "stderr",
     "output_type": "stream",
     "text": [
      "C:\\Users\\lelos\\anaconda3\\envs\\DSP_002\\lib\\site-packages\\sklearn\\manifold\\_spectral_embedding.py:245: UserWarning: Graph is not fully connected, spectral embedding may not work as expected.\n",
      "  warnings.warn(\"Graph is not fully connected, spectral embedding\"\n",
      "C:\\Users\\lelos\\anaconda3\\envs\\DSP_002\\lib\\site-packages\\umap\\spectral.py:255: UserWarning: WARNING: spectral initialisation failed! The eigenvector solver\n",
      "failed. This is likely due to too small an eigengap. Consider\n",
      "adding some noise or jitter to your data.\n",
      "\n",
      "Falling back to random initialisation!\n",
      "  warn(\n",
      "C:\\Users\\lelos\\anaconda3\\envs\\DSP_002\\lib\\site-packages\\umap\\spectral.py:255: UserWarning: WARNING: spectral initialisation failed! The eigenvector solver\n",
      "failed. This is likely due to too small an eigengap. Consider\n",
      "adding some noise or jitter to your data.\n",
      "\n",
      "Falling back to random initialisation!\n",
      "  warn(\n"
     ]
    }
   ],
   "source": [
    "embedding = reducer.fit_transform (X)"
   ]
  },
  {
   "cell_type": "code",
   "execution_count": 91,
   "id": "c1b93699",
   "metadata": {
    "ExecuteTime": {
     "end_time": "2021-10-11T17:43:28.799848Z",
     "start_time": "2021-10-11T17:43:28.790870Z"
    }
   },
   "outputs": [],
   "source": [
    "# embedding\n",
    "X['embedding_x'] = embedding[:,0] # embedding é o espaço projetado\n",
    "X['embedding_y'] = embedding[:,1]"
   ]
  },
  {
   "cell_type": "code",
   "execution_count": 92,
   "id": "0b1c77da",
   "metadata": {
    "ExecuteTime": {
     "end_time": "2021-10-11T17:43:30.430041Z",
     "start_time": "2021-10-11T17:43:30.415083Z"
    }
   },
   "outputs": [
    {
     "ename": "AttributeError",
     "evalue": "module 'seaborn' has no attribute 'collor_pallete'",
     "output_type": "error",
     "traceback": [
      "\u001b[1;31m---------------------------------------------------------------------------\u001b[0m",
      "\u001b[1;31mAttributeError\u001b[0m                            Traceback (most recent call last)",
      "\u001b[1;32m<ipython-input-92-f1ea803b935a>\u001b[0m in \u001b[0;36m<module>\u001b[1;34m\u001b[0m\n\u001b[0;32m      1\u001b[0m \u001b[1;31m# plot UMAP\u001b[0m\u001b[1;33m\u001b[0m\u001b[1;33m\u001b[0m\u001b[1;33m\u001b[0m\u001b[0m\n\u001b[1;32m----> 2\u001b[1;33m \u001b[0msns\u001b[0m\u001b[1;33m.\u001b[0m\u001b[0mscatterplot\u001b[0m\u001b[1;33m(\u001b[0m \u001b[0mx\u001b[0m\u001b[1;33m=\u001b[0m\u001b[1;34m'embedding_x'\u001b[0m\u001b[1;33m,\u001b[0m \u001b[0my\u001b[0m\u001b[1;33m=\u001b[0m\u001b[1;34m'embedding_y'\u001b[0m\u001b[1;33m,\u001b[0m \u001b[0mhue\u001b[0m\u001b[1;33m=\u001b[0m\u001b[1;34m'cluster'\u001b[0m\u001b[1;33m,\u001b[0m \u001b[0mpallete\u001b[0m \u001b[1;33m=\u001b[0m \u001b[0msns\u001b[0m\u001b[1;33m.\u001b[0m\u001b[0mcollor_pallete\u001b[0m \u001b[1;33m(\u001b[0m\u001b[1;34m'hls'\u001b[0m\u001b[1;33m,\u001b[0m \u001b[0mn_colors\u001b[0m \u001b[1;33m=\u001b[0m \u001b[0mlen\u001b[0m\u001b[1;33m(\u001b[0m\u001b[0mdf_viz\u001b[0m\u001b[1;33m[\u001b[0m\u001b[1;34m'cluster'\u001b[0m\u001b[1;33m]\u001b[0m\u001b[1;33m.\u001b[0m\u001b[0munique\u001b[0m\u001b[1;33m(\u001b[0m\u001b[1;33m)\u001b[0m\u001b[1;33m)\u001b[0m\u001b[1;33m)\u001b[0m\u001b[1;33m,\u001b[0m \u001b[0mdata\u001b[0m \u001b[1;33m=\u001b[0m \u001b[0mdf_viz\u001b[0m\u001b[1;33m)\u001b[0m\u001b[1;33m\u001b[0m\u001b[1;33m\u001b[0m\u001b[0m\n\u001b[0m",
      "\u001b[1;31mAttributeError\u001b[0m: module 'seaborn' has no attribute 'collor_pallete'"
     ]
    }
   ],
   "source": [
    "# plot UMAP\n",
    "sns.scatterplot( x='embedding_x', y='embedding_y', hue='cluster', pallete = sns.collor_pallete ('hls', n_colors = len(df_viz['cluster'].unique())), data = df_viz)"
   ]
  },
  {
   "cell_type": "markdown",
   "id": "5eb3b784",
   "metadata": {},
   "source": [
    "# <font color='red'>Cluster Analysis"
   ]
  },
  {
   "cell_type": "code",
   "execution_count": null,
   "id": "4e07ff20",
   "metadata": {
    "ExecuteTime": {
     "end_time": "2021-10-11T17:35:57.900265Z",
     "start_time": "2021-10-11T17:31:33.383Z"
    }
   },
   "outputs": [],
   "source": [
    "df11 = df9.copy()\n",
    "df11['cluster'] = labels"
   ]
  },
  {
   "cell_type": "markdown",
   "id": "0f6d27dd",
   "metadata": {
    "ExecuteTime": {
     "end_time": "2021-10-08T15:16:16.461436Z",
     "start_time": "2021-10-08T15:16:16.447440Z"
    }
   },
   "source": [
    "## Cluster Profile"
   ]
  },
  {
   "cell_type": "code",
   "execution_count": null,
   "id": "bdfafacc",
   "metadata": {
    "ExecuteTime": {
     "end_time": "2021-10-11T17:35:57.902260Z",
     "start_time": "2021-10-11T17:31:33.385Z"
    }
   },
   "outputs": [],
   "source": [
    "# clusters size\n",
    "df_cluster = df11[['customer_id', 'cluster']].groupby('cluster').count().reset_index()\n",
    "# percentage of each cluster\n",
    "df_cluster['perc_customer'] = 100*(df_cluster['customer_id'] /df_cluster['customer_id'].sum())\n",
    "#avg gross revenue\n",
    "df_avg_gross_revenue = df11[['gross_revenue', 'cluster']].groupby('cluster').mean().reset_index()\n",
    "df_cluster = pd.merge(df_cluster, df_avg_gross_revenue, how='inner', on='cluster')\n",
    "#frequency\n",
    "df_frequency = df11[['frequency','cluster']].groupby('cluster').mean().reset_index()\n",
    "df_cluster = pd.merge(df_cluster, df_frequency, how='inner', on='cluster')\n",
    "#recency\n",
    "df_recency = df11[['recency','cluster']].groupby('cluster').mean().reset_index()\n",
    "df_cluster = pd.merge(df_cluster, df_recency, how='inner', on='cluster')\n",
    "df_cluster"
   ]
  },
  {
   "cell_type": "markdown",
   "id": "72a9675f",
   "metadata": {
    "ExecuteTime": {
     "end_time": "2021-07-09T01:48:10.994672Z",
     "start_time": "2021-07-09T01:48:10.981674Z"
    }
   },
   "source": [
    "# <font color='red'>Deploy to production"
   ]
  },
  {
   "cell_type": "code",
   "execution_count": null,
   "id": "780a26b4",
   "metadata": {},
   "outputs": [],
   "source": []
  },
  {
   "cell_type": "code",
   "execution_count": null,
   "id": "76819805",
   "metadata": {},
   "outputs": [],
   "source": []
  },
  {
   "cell_type": "code",
   "execution_count": null,
   "id": "af4a06b3",
   "metadata": {},
   "outputs": [],
   "source": []
  },
  {
   "cell_type": "code",
   "execution_count": null,
   "id": "c654f46e",
   "metadata": {},
   "outputs": [],
   "source": []
  },
  {
   "cell_type": "code",
   "execution_count": null,
   "id": "53330f61",
   "metadata": {},
   "outputs": [],
   "source": []
  },
  {
   "cell_type": "code",
   "execution_count": null,
   "id": "4e5c2c55",
   "metadata": {},
   "outputs": [],
   "source": []
  },
  {
   "cell_type": "code",
   "execution_count": null,
   "id": "c5cf861d",
   "metadata": {},
   "outputs": [],
   "source": []
  },
  {
   "cell_type": "code",
   "execution_count": null,
   "id": "7664e16e",
   "metadata": {},
   "outputs": [],
   "source": []
  },
  {
   "cell_type": "code",
   "execution_count": null,
   "id": "2481c0f7",
   "metadata": {},
   "outputs": [],
   "source": []
  },
  {
   "cell_type": "code",
   "execution_count": null,
   "id": "eca75372",
   "metadata": {},
   "outputs": [],
   "source": []
  },
  {
   "cell_type": "code",
   "execution_count": null,
   "id": "7bd3f91d",
   "metadata": {},
   "outputs": [],
   "source": []
  },
  {
   "cell_type": "code",
   "execution_count": null,
   "id": "462fcd25",
   "metadata": {},
   "outputs": [],
   "source": []
  },
  {
   "cell_type": "code",
   "execution_count": null,
   "id": "e47d2426",
   "metadata": {},
   "outputs": [],
   "source": []
  },
  {
   "cell_type": "code",
   "execution_count": null,
   "id": "83a3119f",
   "metadata": {},
   "outputs": [],
   "source": []
  },
  {
   "cell_type": "code",
   "execution_count": null,
   "id": "92b1c8c9",
   "metadata": {},
   "outputs": [],
   "source": []
  },
  {
   "cell_type": "code",
   "execution_count": null,
   "id": "dc15cff2",
   "metadata": {},
   "outputs": [],
   "source": []
  },
  {
   "cell_type": "code",
   "execution_count": null,
   "id": "69c45dd2",
   "metadata": {},
   "outputs": [],
   "source": []
  },
  {
   "cell_type": "code",
   "execution_count": null,
   "id": "fa1a2190",
   "metadata": {},
   "outputs": [],
   "source": []
  },
  {
   "cell_type": "code",
   "execution_count": null,
   "id": "2bc1fbc2",
   "metadata": {},
   "outputs": [],
   "source": []
  },
  {
   "cell_type": "code",
   "execution_count": null,
   "id": "17d28154",
   "metadata": {},
   "outputs": [],
   "source": []
  },
  {
   "cell_type": "code",
   "execution_count": null,
   "id": "8966e579",
   "metadata": {},
   "outputs": [],
   "source": []
  },
  {
   "cell_type": "code",
   "execution_count": null,
   "id": "43e01e2a",
   "metadata": {},
   "outputs": [],
   "source": []
  },
  {
   "cell_type": "code",
   "execution_count": null,
   "id": "a1c18a3d",
   "metadata": {},
   "outputs": [],
   "source": []
  },
  {
   "cell_type": "code",
   "execution_count": null,
   "id": "15150c77",
   "metadata": {},
   "outputs": [],
   "source": []
  },
  {
   "cell_type": "code",
   "execution_count": null,
   "id": "21288562",
   "metadata": {},
   "outputs": [],
   "source": []
  },
  {
   "cell_type": "code",
   "execution_count": null,
   "id": "46b04509",
   "metadata": {},
   "outputs": [],
   "source": []
  },
  {
   "cell_type": "code",
   "execution_count": null,
   "id": "7fb338fd",
   "metadata": {},
   "outputs": [],
   "source": []
  },
  {
   "cell_type": "code",
   "execution_count": null,
   "id": "9f2675c8",
   "metadata": {},
   "outputs": [],
   "source": []
  },
  {
   "cell_type": "code",
   "execution_count": null,
   "id": "f6557d78",
   "metadata": {},
   "outputs": [],
   "source": []
  }
 ],
 "metadata": {
  "kernelspec": {
   "display_name": "Python 3",
   "language": "python",
   "name": "python3"
  },
  "language_info": {
   "codemirror_mode": {
    "name": "ipython",
    "version": 3
   },
   "file_extension": ".py",
   "mimetype": "text/x-python",
   "name": "python",
   "nbconvert_exporter": "python",
   "pygments_lexer": "ipython3",
   "version": "3.8.10"
  },
  "toc": {
   "base_numbering": "0",
   "nav_menu": {},
   "number_sections": true,
   "sideBar": true,
   "skip_h1_title": false,
   "title_cell": "Table of Contents",
   "title_sidebar": "Contents",
   "toc_cell": false,
   "toc_position": {},
   "toc_section_display": true,
   "toc_window_display": false
  }
 },
 "nbformat": 4,
 "nbformat_minor": 5
}
