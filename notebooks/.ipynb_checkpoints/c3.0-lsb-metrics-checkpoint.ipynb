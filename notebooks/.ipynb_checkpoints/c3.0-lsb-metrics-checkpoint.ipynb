{
 "cells": [
  {
   "cell_type": "markdown",
   "id": "460ce7db",
   "metadata": {},
   "source": [
    "# PA005: High Value Customer Identification (Insiders)"
   ]
  },
  {
   "cell_type": "markdown",
   "id": "6771fffb",
   "metadata": {},
   "source": [
    "## Imports"
   ]
  },
  {
   "cell_type": "code",
   "execution_count": 90,
   "id": "752777d1",
   "metadata": {
    "ExecuteTime": {
     "end_time": "2021-07-13T14:17:39.838105Z",
     "start_time": "2021-07-13T14:17:39.820110Z"
    }
   },
   "outputs": [],
   "source": [
    "import numpy as np\n",
    "import pandas as pd\n",
    "import seaborn as sns\n",
    "from matplotlib import pyplot as plt\n",
    "\n",
    "# pip install umap-learn senão não funciona\n",
    "\n",
    "import umap.umap_ as umap\n",
    "\n",
    "from sklearn import cluster       as c\n",
    "from sklearn import metrics       as m\n",
    "from sklearn import preprocessing as pp\n",
    "\n",
    "from IPython.core.display     import HTML\n",
    "from plotly import express as px\n",
    "from yellowbrick.cluster import KElbowVisualizer, SilhouetteVisualizer"
   ]
  },
  {
   "cell_type": "markdown",
   "id": "c04dfcef",
   "metadata": {
    "heading_collapsed": true
   },
   "source": [
    "## Helper Functions"
   ]
  },
  {
   "cell_type": "code",
   "execution_count": 2,
   "id": "5cca2481",
   "metadata": {
    "ExecuteTime": {
     "end_time": "2021-07-13T13:58:51.271905Z",
     "start_time": "2021-07-13T13:58:51.240986Z"
    },
    "hidden": true
   },
   "outputs": [
    {
     "name": "stdout",
     "output_type": "stream",
     "text": [
      "Populating the interactive namespace from numpy and matplotlib\n"
     ]
    },
    {
     "data": {
      "text/html": [
       "<style>.container { width:100% !important; }</style>"
      ],
      "text/plain": [
       "<IPython.core.display.HTML object>"
      ]
     },
     "metadata": {},
     "output_type": "display_data"
    }
   ],
   "source": [
    "def jupyter_settings():\n",
    "    %matplotlib inline\n",
    "    %pylab inline\n",
    "    plt.style.use( 'bmh' )\n",
    "    plt.rcParams['figure.figsize'] = [25, 12]\n",
    "    plt.rcParams['font.size'] = 24\n",
    "    display( HTML( '<style>.container { width:100% !important; }</style>') )\n",
    "    pd.options.display.max_columns = None\n",
    "    pd.options.display.max_rows = None\n",
    "    pd.set_option( 'display.expand_frame_repr', False )\n",
    "    sns.set()\n",
    "jupyter_settings()"
   ]
  },
  {
   "cell_type": "code",
   "execution_count": 3,
   "id": "7e7e90a2",
   "metadata": {
    "ExecuteTime": {
     "end_time": "2021-07-13T13:58:51.951145Z",
     "start_time": "2021-07-13T13:58:51.274899Z"
    },
    "hidden": true
   },
   "outputs": [
    {
     "data": {
      "text/html": [
       "<div>\n",
       "<style scoped>\n",
       "    .dataframe tbody tr th:only-of-type {\n",
       "        vertical-align: middle;\n",
       "    }\n",
       "\n",
       "    .dataframe tbody tr th {\n",
       "        vertical-align: top;\n",
       "    }\n",
       "\n",
       "    .dataframe thead th {\n",
       "        text-align: right;\n",
       "    }\n",
       "</style>\n",
       "<table border=\"1\" class=\"dataframe\">\n",
       "  <thead>\n",
       "    <tr style=\"text-align: right;\">\n",
       "      <th></th>\n",
       "      <th>InvoiceNo</th>\n",
       "      <th>StockCode</th>\n",
       "      <th>Description</th>\n",
       "      <th>Quantity</th>\n",
       "      <th>InvoiceDate</th>\n",
       "      <th>UnitPrice</th>\n",
       "      <th>CustomerID</th>\n",
       "      <th>Country</th>\n",
       "      <th>Unnamed: 8</th>\n",
       "    </tr>\n",
       "  </thead>\n",
       "  <tbody>\n",
       "    <tr>\n",
       "      <th>0</th>\n",
       "      <td>536365</td>\n",
       "      <td>85123A</td>\n",
       "      <td>WHITE HANGING HEART T-LIGHT HOLDER</td>\n",
       "      <td>6</td>\n",
       "      <td>29-Nov-16</td>\n",
       "      <td>2.55</td>\n",
       "      <td>17850.0</td>\n",
       "      <td>United Kingdom</td>\n",
       "      <td>NaN</td>\n",
       "    </tr>\n",
       "    <tr>\n",
       "      <th>1</th>\n",
       "      <td>536365</td>\n",
       "      <td>71053</td>\n",
       "      <td>WHITE METAL LANTERN</td>\n",
       "      <td>6</td>\n",
       "      <td>29-Nov-16</td>\n",
       "      <td>3.39</td>\n",
       "      <td>17850.0</td>\n",
       "      <td>United Kingdom</td>\n",
       "      <td>NaN</td>\n",
       "    </tr>\n",
       "    <tr>\n",
       "      <th>2</th>\n",
       "      <td>536365</td>\n",
       "      <td>84406B</td>\n",
       "      <td>CREAM CUPID HEARTS COAT HANGER</td>\n",
       "      <td>8</td>\n",
       "      <td>29-Nov-16</td>\n",
       "      <td>2.75</td>\n",
       "      <td>17850.0</td>\n",
       "      <td>United Kingdom</td>\n",
       "      <td>NaN</td>\n",
       "    </tr>\n",
       "    <tr>\n",
       "      <th>3</th>\n",
       "      <td>536365</td>\n",
       "      <td>84029G</td>\n",
       "      <td>KNITTED UNION FLAG HOT WATER BOTTLE</td>\n",
       "      <td>6</td>\n",
       "      <td>29-Nov-16</td>\n",
       "      <td>3.39</td>\n",
       "      <td>17850.0</td>\n",
       "      <td>United Kingdom</td>\n",
       "      <td>NaN</td>\n",
       "    </tr>\n",
       "    <tr>\n",
       "      <th>4</th>\n",
       "      <td>536365</td>\n",
       "      <td>84029E</td>\n",
       "      <td>RED WOOLLY HOTTIE WHITE HEART.</td>\n",
       "      <td>6</td>\n",
       "      <td>29-Nov-16</td>\n",
       "      <td>3.39</td>\n",
       "      <td>17850.0</td>\n",
       "      <td>United Kingdom</td>\n",
       "      <td>NaN</td>\n",
       "    </tr>\n",
       "  </tbody>\n",
       "</table>\n",
       "</div>"
      ],
      "text/plain": [
       "  InvoiceNo StockCode                          Description  Quantity InvoiceDate  UnitPrice  CustomerID         Country  Unnamed: 8\n",
       "0    536365    85123A   WHITE HANGING HEART T-LIGHT HOLDER         6   29-Nov-16       2.55     17850.0  United Kingdom         NaN\n",
       "1    536365     71053                  WHITE METAL LANTERN         6   29-Nov-16       3.39     17850.0  United Kingdom         NaN\n",
       "2    536365    84406B       CREAM CUPID HEARTS COAT HANGER         8   29-Nov-16       2.75     17850.0  United Kingdom         NaN\n",
       "3    536365    84029G  KNITTED UNION FLAG HOT WATER BOTTLE         6   29-Nov-16       3.39     17850.0  United Kingdom         NaN\n",
       "4    536365    84029E       RED WOOLLY HOTTIE WHITE HEART.         6   29-Nov-16       3.39     17850.0  United Kingdom         NaN"
      ]
     },
     "execution_count": 3,
     "metadata": {},
     "output_type": "execute_result"
    }
   ],
   "source": [
    "# Carregando os dados\n",
    "df_raw = pd.read_csv('Ecommerce.csv')\n",
    "df_raw.head()"
   ]
  },
  {
   "cell_type": "markdown",
   "id": "7a54ac5b",
   "metadata": {
    "heading_collapsed": true
   },
   "source": [
    "## Planejamento da Solução (IOT)"
   ]
  },
  {
   "cell_type": "markdown",
   "id": "5fadf11f",
   "metadata": {
    "hidden": true
   },
   "source": [
    "### Input - Entrada"
   ]
  },
  {
   "cell_type": "markdown",
   "id": "054d9946",
   "metadata": {
    "hidden": true
   },
   "source": [
    "1. Problema de Negócio\n",
    "    - Selecionar os clientes mais valiosos para integrar um programa de Fidelização\n",
    "2. Conjunto de dados\n",
    "    - Vendasd de um e-commerce online, durante o período de um ano."
   ]
  },
  {
   "cell_type": "markdown",
   "id": "b57ae555",
   "metadata": {
    "heading_collapsed": true
   },
   "source": [
    "## Output - Saída"
   ]
  },
  {
   "cell_type": "markdown",
   "id": "965f9d5a",
   "metadata": {
    "hidden": true
   },
   "source": [
    "1. A indicação das pessoas que farão parte do programa de Insiders\n",
    "    - Formato de lista: client id is / is insider\n",
    "2. Relatório\n",
    "    - Relatório com as perguntas de negócio:\n",
    "    -Quem são as pessoas elegíveis para participar do programa de Insiders ?\n",
    "    -Quantos clientes farão parte do grupo?\n",
    "    -Quais as principais características desses clientes ?\n",
    "    -Qual a porcentagem de contribuição do faturamento, vinda do Insiders ?\n",
    "    -Qual a expectativa de faturamento desse grupo para os próximos meses ?\n",
    "    -Quais as condições para uma pessoa ser elegível ao Insiders ?\n",
    "    -Quais as condições para uma pessoa ser removida do Insiders ?\n",
    "    -Qual a garantia que o programa Insiders é melhor que o restante da base ?\n",
    "    -Quais ações o time de marketing pode realizar para aumentar o faturamento?"
   ]
  },
  {
   "cell_type": "markdown",
   "id": "ecaaab49",
   "metadata": {
    "heading_collapsed": true
   },
   "source": [
    "## Tasks - Tarefas"
   ]
  },
  {
   "cell_type": "markdown",
   "id": "f9ee7fac",
   "metadata": {
    "hidden": true
   },
   "source": [
    "1)Quem são as pessoas elegíveis para participar do programa de Insiders ?\n",
    "\n",
    "    - O que é ser elegível? O que são os clientes de maior 'valor'? (resposta pelo time de negócio)\n",
    "    - Faturamento:\n",
    "        - Alto ticket médio\n",
    "        - Alto LTV (Life Time Value)\n",
    "        - Baixa Recência (tempo entre as compras)\n",
    "        - Alto basket size\n",
    "        - Baixa probabilidade de Churn (não renovação)\n",
    "        - Alta Previsão de LTV\n",
    "        - Alta propensão de compra\n",
    "    - Custo\n",
    "        - Baixa taxa de devolução\n",
    "    - Experiência de compra\n",
    "        - Média alta de avaliação\n",
    "        \n",
    "2)Quantos clientes farão parte do grupo?\n",
    "\n",
    "    - Número total de clientes em relação ao grupo total\n",
    "    \n",
    "3)Quais as principais características desses clientes ?\n",
    "\n",
    "    - Escrever características do cliente:\n",
    "        -Idade\n",
    "        -Localização\n",
    "    - Escrever características dos hábitos de consumo\n",
    "         - Atributos de clusterização\n",
    "    \n",
    "4)Qual a porcentagem de contribuição do faturamento, vinda do Insiders ?\n",
    "\n",
    "    - Comparar o faturamento dos Insiders em relação ao faturamento total\n",
    "    - Faturamento do grupo (leva em conta o time que toma conta do grupo)\n",
    "    \n",
    "5)Qual a expectativa de faturamento desse grupo para os próximos meses ?\n",
    "\n",
    "    - LTV do grupo de Insiders\n",
    "    - Análise de Cohort\n",
    "    \n",
    "6)Quais as condições para uma pessoa ser elegível ao Insiders ?\n",
    "\n",
    "    - Definir a periodicidade (quando o modelo vai ser rodado?)\n",
    "    - A pessoa precisa ser desimilar ou não-parecido com uma pessoa do grupo\n",
    "\n",
    "7)Quais as condições para uma pessoa ser removida do Insiders ?\n",
    "\n",
    "    - Definir a periodicidade (quando o modelo vai ser rodado?)\n",
    "    - A pessoa precisa ser similar ou parecido com uma pessoa do grupo\n",
    "    \n",
    "8)Qual a garantia que o programa Insiders é melhor que o restante da base ?\n",
    "\n",
    "    - Teste A/B\n",
    "    - Teste A/B Bayesiano\n",
    "    - Teste de hipóteses\n",
    "\n",
    "9)Quais ações o time de marketing pode realizar para aumentar o faturamento?\n",
    "\n",
    "    - Desconto\n",
    "    - preferência de compra\n",
    "    - frete\n",
    "    - visita a empresa"
   ]
  },
  {
   "cell_type": "markdown",
   "id": "b37edf54",
   "metadata": {
    "heading_collapsed": true
   },
   "source": [
    "# <font color='green'> Tratamento inicial dos dados"
   ]
  },
  {
   "cell_type": "code",
   "execution_count": 4,
   "id": "d51ae57f",
   "metadata": {
    "ExecuteTime": {
     "end_time": "2021-07-13T13:58:51.997023Z",
     "start_time": "2021-07-13T13:58:51.953147Z"
    },
    "hidden": true
   },
   "outputs": [],
   "source": [
    "df1 = df_raw.copy()"
   ]
  },
  {
   "cell_type": "markdown",
   "id": "7e271afd",
   "metadata": {
    "hidden": true
   },
   "source": [
    "## Análise Inicial dos dados"
   ]
  },
  {
   "cell_type": "code",
   "execution_count": 5,
   "id": "94230797",
   "metadata": {
    "ExecuteTime": {
     "end_time": "2021-07-13T13:58:52.042900Z",
     "start_time": "2021-07-13T13:58:51.999019Z"
    },
    "hidden": true
   },
   "outputs": [
    {
     "data": {
      "text/plain": [
       "(541909, 8)"
      ]
     },
     "execution_count": 5,
     "metadata": {},
     "output_type": "execute_result"
    }
   ],
   "source": [
    "df1 = df_raw.drop(columns=['Unnamed: 8'], axis=1) # não sabemos do que se trata essa coluna\n",
    "df1.shape"
   ]
  },
  {
   "cell_type": "markdown",
   "id": "5b8cfb47",
   "metadata": {
    "hidden": true
   },
   "source": [
    "## Rename columns"
   ]
  },
  {
   "cell_type": "code",
   "execution_count": 6,
   "id": "1084b019",
   "metadata": {
    "ExecuteTime": {
     "end_time": "2021-07-13T13:58:52.058857Z",
     "start_time": "2021-07-13T13:58:52.043897Z"
    },
    "hidden": true
   },
   "outputs": [
    {
     "data": {
      "text/plain": [
       "Index(['InvoiceNo', 'StockCode', 'Description', 'Quantity', 'InvoiceDate',\n",
       "       'UnitPrice', 'CustomerID', 'Country'],\n",
       "      dtype='object')"
      ]
     },
     "execution_count": 6,
     "metadata": {},
     "output_type": "execute_result"
    }
   ],
   "source": [
    "df1.columns #verificação inicial dos campos e nomes das colunas"
   ]
  },
  {
   "cell_type": "code",
   "execution_count": 7,
   "id": "8d33b8d1",
   "metadata": {
    "ExecuteTime": {
     "end_time": "2021-07-13T13:58:52.082693Z",
     "start_time": "2021-07-13T13:58:52.061849Z"
    },
    "hidden": true
   },
   "outputs": [],
   "source": [
    "cols_new = ['invoice_no', 'stock_code', 'description','quantity', 'invoice_date','unit_price', 'customer_id', 'country']"
   ]
  },
  {
   "cell_type": "code",
   "execution_count": 8,
   "id": "938cd850",
   "metadata": {
    "ExecuteTime": {
     "end_time": "2021-07-13T13:58:52.105632Z",
     "start_time": "2021-07-13T13:58:52.087681Z"
    },
    "hidden": true
   },
   "outputs": [],
   "source": [
    "df1.columns = cols_new #change to snacke case"
   ]
  },
  {
   "cell_type": "markdown",
   "id": "6ac566ee",
   "metadata": {
    "hidden": true
   },
   "source": [
    "## Data dimensions"
   ]
  },
  {
   "cell_type": "code",
   "execution_count": 9,
   "id": "7a61fc51",
   "metadata": {
    "ExecuteTime": {
     "end_time": "2021-07-13T13:58:52.120592Z",
     "start_time": "2021-07-13T13:58:52.107626Z"
    },
    "hidden": true
   },
   "outputs": [
    {
     "name": "stdout",
     "output_type": "stream",
     "text": [
      "The number of rows: 541909\n",
      "The number of columns: 8\n"
     ]
    }
   ],
   "source": [
    "print('The number of rows: {}'.format(df1.shape[0]))\n",
    "print('The number of columns: {}'.format(df1.shape[1]))"
   ]
  },
  {
   "cell_type": "markdown",
   "id": "b9235e90",
   "metadata": {
    "hidden": true
   },
   "source": [
    "## Data Types"
   ]
  },
  {
   "cell_type": "code",
   "execution_count": 10,
   "id": "98f79cef",
   "metadata": {
    "ExecuteTime": {
     "end_time": "2021-07-13T13:58:52.135553Z",
     "start_time": "2021-07-13T13:58:52.121588Z"
    },
    "hidden": true
   },
   "outputs": [
    {
     "data": {
      "text/plain": [
       "invoice_no       object\n",
       "stock_code       object\n",
       "description      object\n",
       "quantity          int64\n",
       "invoice_date     object\n",
       "unit_price      float64\n",
       "customer_id     float64\n",
       "country          object\n",
       "dtype: object"
      ]
     },
     "execution_count": 10,
     "metadata": {},
     "output_type": "execute_result"
    }
   ],
   "source": [
    "df1.dtypes"
   ]
  },
  {
   "cell_type": "markdown",
   "id": "3018b703",
   "metadata": {
    "hidden": true
   },
   "source": [
    "As colunas invoice e stock estão como objetos. Eu imaginei que fosse só mudar, mas o professor disse que deveria haver algum registro com letras no meio pra fazer com que fosse objeto (o que me diz que de alguma forma o pandas lê os dados e decide qual tipo vai ser). Tentando forçar a mudança pra inteiro, o local onde há um problema vai ser mostrado"
   ]
  },
  {
   "cell_type": "code",
   "execution_count": 11,
   "id": "de067bab",
   "metadata": {
    "ExecuteTime": {
     "end_time": "2021-07-13T13:58:52.150516Z",
     "start_time": "2021-07-13T13:58:52.137547Z"
    },
    "hidden": true
   },
   "outputs": [],
   "source": [
    "#df1['invoice_no'] = df1['invoice_no'].astype(int)\n",
    "#tá comentado pra não parar aqui quando roda tudo"
   ]
  },
  {
   "cell_type": "markdown",
   "id": "89c2d025",
   "metadata": {
    "hidden": true
   },
   "source": [
    "'C536379' esse é o registro errado, mas ainda não é hora de tratar isso"
   ]
  },
  {
   "cell_type": "markdown",
   "id": "daa78690",
   "metadata": {
    "hidden": true
   },
   "source": [
    "## Check NA"
   ]
  },
  {
   "cell_type": "code",
   "execution_count": 12,
   "id": "b0dd0850",
   "metadata": {
    "ExecuteTime": {
     "end_time": "2021-07-13T13:58:52.262254Z",
     "start_time": "2021-07-13T13:58:52.152520Z"
    },
    "hidden": true
   },
   "outputs": [
    {
     "data": {
      "text/plain": [
       "invoice_no           0\n",
       "stock_code           0\n",
       "description       1454\n",
       "quantity             0\n",
       "invoice_date         0\n",
       "unit_price           0\n",
       "customer_id     135080\n",
       "country              0\n",
       "dtype: int64"
      ]
     },
     "execution_count": 12,
     "metadata": {},
     "output_type": "execute_result"
    }
   ],
   "source": [
    "df1.isna().sum() #soma os NAN das colunas"
   ]
  },
  {
   "cell_type": "markdown",
   "id": "b8817776",
   "metadata": {
    "hidden": true
   },
   "source": [
    "Um número muito grande de clientes NAN. Visto que estamos fazendo um projeto justamente pra agrupar clientes, é um problema bem grande"
   ]
  },
  {
   "cell_type": "markdown",
   "id": "71084083",
   "metadata": {
    "heading_collapsed": true,
    "hidden": true
   },
   "source": [
    "## Replace NA"
   ]
  },
  {
   "cell_type": "code",
   "execution_count": 13,
   "id": "1bacda50",
   "metadata": {
    "ExecuteTime": {
     "end_time": "2021-07-13T13:58:52.373938Z",
     "start_time": "2021-07-13T13:58:52.264207Z"
    },
    "hidden": true
   },
   "outputs": [],
   "source": [
    "df1 = df1.dropna(subset=['description','customer_id']) \n",
    "#subset especifica as colunas a referência para 'dropar'.  \n",
    "#Em outras palavras, 'remova todas as linhas que tenham valore NA nas colunas passadas na lista'"
   ]
  },
  {
   "cell_type": "markdown",
   "id": "927640c8",
   "metadata": {
    "hidden": true
   },
   "source": [
    "Vamos verificar quanto da base de dados foi excluída"
   ]
  },
  {
   "cell_type": "code",
   "execution_count": 14,
   "id": "ceec49e4",
   "metadata": {
    "ExecuteTime": {
     "end_time": "2021-07-13T13:58:52.390056Z",
     "start_time": "2021-07-13T13:58:52.375070Z"
    },
    "hidden": true
   },
   "outputs": [
    {
     "name": "stdout",
     "output_type": "stream",
     "text": [
      "Removed data: 0.25\n"
     ]
    }
   ],
   "source": [
    "print('Removed data: {:.2f}'.format(1 - df1.shape[0]/df_raw.shape[0]))"
   ]
  },
  {
   "cell_type": "code",
   "execution_count": 15,
   "id": "c6bb3be1",
   "metadata": {
    "ExecuteTime": {
     "end_time": "2021-07-13T13:58:52.406015Z",
     "start_time": "2021-07-13T13:58:52.391022Z"
    },
    "hidden": true
   },
   "outputs": [
    {
     "data": {
      "text/plain": [
       "4372"
      ]
     },
     "execution_count": 15,
     "metadata": {},
     "output_type": "execute_result"
    }
   ],
   "source": [
    "len(df1['customer_id'].unique())"
   ]
  },
  {
   "cell_type": "code",
   "execution_count": 16,
   "id": "3eb51d8a",
   "metadata": {
    "ExecuteTime": {
     "end_time": "2021-07-13T13:58:52.484811Z",
     "start_time": "2021-07-13T13:58:52.406978Z"
    },
    "hidden": true
   },
   "outputs": [
    {
     "data": {
      "text/plain": [
       "invoice_no      0\n",
       "stock_code      0\n",
       "description     0\n",
       "quantity        0\n",
       "invoice_date    0\n",
       "unit_price      0\n",
       "customer_id     0\n",
       "country         0\n",
       "dtype: int64"
      ]
     },
     "execution_count": 16,
     "metadata": {},
     "output_type": "execute_result"
    }
   ],
   "source": [
    "df1.isna().sum() # foram removidos todos os NAN"
   ]
  },
  {
   "cell_type": "code",
   "execution_count": 17,
   "id": "30f16570",
   "metadata": {
    "ExecuteTime": {
     "end_time": "2021-07-13T13:58:52.499769Z",
     "start_time": "2021-07-13T13:58:52.486767Z"
    },
    "hidden": true
   },
   "outputs": [
    {
     "data": {
      "text/plain": [
       "(406829, 8)"
      ]
     },
     "execution_count": 17,
     "metadata": {},
     "output_type": "execute_result"
    }
   ],
   "source": [
    "df1.shape #sobraram 406829 registros com 8 atributos no data frame"
   ]
  },
  {
   "cell_type": "markdown",
   "id": "7a0efbdb",
   "metadata": {
    "hidden": true
   },
   "source": [
    "## Change dtypes"
   ]
  },
  {
   "cell_type": "code",
   "execution_count": 18,
   "id": "fcf79ece",
   "metadata": {
    "ExecuteTime": {
     "end_time": "2021-07-13T13:58:52.515688Z",
     "start_time": "2021-07-13T13:58:52.502724Z"
    },
    "hidden": true
   },
   "outputs": [
    {
     "data": {
      "text/plain": [
       "invoice_no       object\n",
       "stock_code       object\n",
       "description      object\n",
       "quantity          int64\n",
       "invoice_date     object\n",
       "unit_price      float64\n",
       "customer_id     float64\n",
       "country          object\n",
       "dtype: object"
      ]
     },
     "execution_count": 18,
     "metadata": {},
     "output_type": "execute_result"
    }
   ],
   "source": [
    "df1.dtypes"
   ]
  },
  {
   "cell_type": "code",
   "execution_count": 19,
   "id": "1a1e4e09",
   "metadata": {
    "ExecuteTime": {
     "end_time": "2021-07-13T13:58:52.607771Z",
     "start_time": "2021-07-13T13:58:52.517683Z"
    },
    "hidden": true
   },
   "outputs": [],
   "source": [
    "df1['invoice_date'] = pd.to_datetime(df1['invoice_date'], format='%d-%b-%y')\n",
    "#datetime é um método que gera uma data a partir de uma string\n",
    "df1['customer_id'] = df1['customer_id'].astype(int64)"
   ]
  },
  {
   "cell_type": "markdown",
   "id": "6ed74d2b",
   "metadata": {
    "hidden": true
   },
   "source": [
    "Tem que casar o 'format' com o formato dos dados. No df esta dia-mês-ano, mas o mês está em string, por isso ele usou o '%b'(https://docs.python.org/3/library/datetime.html#strftime-and-strptime-behavior)"
   ]
  },
  {
   "cell_type": "code",
   "execution_count": 20,
   "id": "e835c697",
   "metadata": {
    "ExecuteTime": {
     "end_time": "2021-07-13T13:58:52.623727Z",
     "start_time": "2021-07-13T13:58:52.608769Z"
    },
    "hidden": true
   },
   "outputs": [
    {
     "data": {
      "text/plain": [
       "invoice_no              object\n",
       "stock_code              object\n",
       "description             object\n",
       "quantity                 int64\n",
       "invoice_date    datetime64[ns]\n",
       "unit_price             float64\n",
       "customer_id              int64\n",
       "country                 object\n",
       "dtype: object"
      ]
     },
     "execution_count": 20,
     "metadata": {},
     "output_type": "execute_result"
    }
   ],
   "source": [
    "df1.dtypes #verificando se funcionou"
   ]
  },
  {
   "cell_type": "markdown",
   "id": "a921a62c",
   "metadata": {
    "hidden": true
   },
   "source": [
    "## Descriptive Statistics"
   ]
  },
  {
   "cell_type": "code",
   "execution_count": 21,
   "id": "ca4375c9",
   "metadata": {
    "ExecuteTime": {
     "end_time": "2021-07-13T13:58:52.669605Z",
     "start_time": "2021-07-13T13:58:52.624724Z"
    },
    "hidden": true,
    "scrolled": true
   },
   "outputs": [],
   "source": [
    "num_attributes = df1.select_dtypes ( include = ['int64', 'float64'])\n",
    "cat_attributes = df1.select_dtypes ( exclude = ['int64', 'float64', 'datetime64[ns]'])"
   ]
  },
  {
   "cell_type": "markdown",
   "id": "b0e27481",
   "metadata": {
    "ExecuteTime": {
     "end_time": "2021-07-12T17:29:26.512826Z",
     "start_time": "2021-07-12T17:29:26.503851Z"
    },
    "hidden": true
   },
   "source": [
    "### Numerical Attributes"
   ]
  },
  {
   "cell_type": "code",
   "execution_count": 22,
   "id": "c0d90a38",
   "metadata": {
    "ExecuteTime": {
     "end_time": "2021-07-13T13:58:52.809739Z",
     "start_time": "2021-07-13T13:58:52.674590Z"
    },
    "hidden": true
   },
   "outputs": [
    {
     "data": {
      "text/html": [
       "<div>\n",
       "<style scoped>\n",
       "    .dataframe tbody tr th:only-of-type {\n",
       "        vertical-align: middle;\n",
       "    }\n",
       "\n",
       "    .dataframe tbody tr th {\n",
       "        vertical-align: top;\n",
       "    }\n",
       "\n",
       "    .dataframe thead th {\n",
       "        text-align: right;\n",
       "    }\n",
       "</style>\n",
       "<table border=\"1\" class=\"dataframe\">\n",
       "  <thead>\n",
       "    <tr style=\"text-align: right;\">\n",
       "      <th></th>\n",
       "      <th>attributes</th>\n",
       "      <th>min.</th>\n",
       "      <th>max</th>\n",
       "      <th>range</th>\n",
       "      <th>mean</th>\n",
       "      <th>median</th>\n",
       "      <th>std</th>\n",
       "      <th>skew</th>\n",
       "      <th>kurtosis</th>\n",
       "    </tr>\n",
       "  </thead>\n",
       "  <tbody>\n",
       "    <tr>\n",
       "      <th>0</th>\n",
       "      <td>quantity</td>\n",
       "      <td>-80995.0</td>\n",
       "      <td>80995.0</td>\n",
       "      <td>161990.0</td>\n",
       "      <td>12.061303</td>\n",
       "      <td>5.00</td>\n",
       "      <td>248.693064</td>\n",
       "      <td>0.182663</td>\n",
       "      <td>94317.563673</td>\n",
       "    </tr>\n",
       "    <tr>\n",
       "      <th>1</th>\n",
       "      <td>unit_price</td>\n",
       "      <td>0.0</td>\n",
       "      <td>38970.0</td>\n",
       "      <td>38970.0</td>\n",
       "      <td>3.460471</td>\n",
       "      <td>1.95</td>\n",
       "      <td>69.315077</td>\n",
       "      <td>452.219019</td>\n",
       "      <td>246924.542988</td>\n",
       "    </tr>\n",
       "    <tr>\n",
       "      <th>2</th>\n",
       "      <td>customer_id</td>\n",
       "      <td>12346.0</td>\n",
       "      <td>18287.0</td>\n",
       "      <td>5941.0</td>\n",
       "      <td>15287.690570</td>\n",
       "      <td>15152.00</td>\n",
       "      <td>1713.598197</td>\n",
       "      <td>0.029835</td>\n",
       "      <td>-1.179982</td>\n",
       "    </tr>\n",
       "  </tbody>\n",
       "</table>\n",
       "</div>"
      ],
      "text/plain": [
       "    attributes     min.      max     range          mean    median          std        skew       kurtosis\n",
       "0     quantity -80995.0  80995.0  161990.0     12.061303      5.00   248.693064    0.182663   94317.563673\n",
       "1   unit_price      0.0  38970.0   38970.0      3.460471      1.95    69.315077  452.219019  246924.542988\n",
       "2  customer_id  12346.0  18287.0    5941.0  15287.690570  15152.00  1713.598197    0.029835      -1.179982"
      ]
     },
     "execution_count": 22,
     "metadata": {},
     "output_type": "execute_result"
    }
   ],
   "source": [
    "#cental tendency - mean, median\n",
    "ct1 = pd.DataFrame ( num_attributes.apply (np.mean) ).T\n",
    "ct2 = pd.DataFrame ( num_attributes.apply (np.median)).T\n",
    "                    \n",
    "# dispersion - desvio padrão, mínimo, máximo, range, skew, kurtosis\n",
    "d1 = pd.DataFrame ( num_attributes.apply (np.std)).T\n",
    "d2 = pd.DataFrame ( num_attributes.apply (np.min)).T\n",
    "d3 = pd.DataFrame ( num_attributes.apply (np.max)).T\n",
    "d4 = pd.DataFrame ( num_attributes.apply (lambda x: x.max() - x.min())).T\n",
    "d5 = pd.DataFrame ( num_attributes.apply (lambda x: x.skew() )).T\n",
    "d6 = pd.DataFrame ( num_attributes.apply (lambda x: x.kurtosis() ) ).T\n",
    "\n",
    "#concatenate\n",
    "\n",
    "m = pd.concat ([d2,d3,d4,ct1,ct2,d1,d5,d6]).T.reset_index()\n",
    "m.columns = ['attributes', 'min.','max','range', 'mean', 'median', 'std', 'skew', 'kurtosis']\n",
    "m"
   ]
  },
  {
   "cell_type": "markdown",
   "id": "d8a6a683",
   "metadata": {
    "hidden": true
   },
   "source": [
    "#### <font color= 'fucsia' > Numerical Attributes - Investigating"
   ]
  },
  {
   "cell_type": "markdown",
   "id": "6dd4e00c",
   "metadata": {
    "ExecuteTime": {
     "end_time": "2021-07-12T17:26:35.632195Z",
     "start_time": "2021-07-12T17:26:35.616205Z"
    },
    "hidden": true
   },
   "source": [
    "1. Negative quantities (it can be devolutions)\n",
    "2. Unit price equals zero (it can be a promotion)\n",
    "\n",
    "#não é o momento de arrumar. Tem que ser feito tudo de uma vez, em uma seção, para deixar a estrutura lógica do storetelling"
   ]
  },
  {
   "cell_type": "markdown",
   "id": "f1400656",
   "metadata": {
    "ExecuteTime": {
     "end_time": "2021-07-12T15:46:08.585174Z",
     "start_time": "2021-07-12T15:46:08.571101Z"
    },
    "hidden": true
   },
   "source": [
    "### Categorical Attibutes"
   ]
  },
  {
   "cell_type": "markdown",
   "id": "1c5f3694",
   "metadata": {
    "ExecuteTime": {
     "end_time": "2021-07-12T19:02:10.862518Z",
     "start_time": "2021-07-12T19:02:10.844564Z"
    },
    "hidden": true
   },
   "source": [
    "***Invoice Number***"
   ]
  },
  {
   "cell_type": "code",
   "execution_count": 23,
   "id": "37284837",
   "metadata": {
    "ExecuteTime": {
     "end_time": "2021-07-13T13:58:53.214696Z",
     "start_time": "2021-07-13T13:58:52.811732Z"
    },
    "hidden": true
   },
   "outputs": [
    {
     "name": "stdout",
     "output_type": "stream",
     "text": [
      "Total number of invoices with letters: 8905\n",
      "Total number of invoices with negative quantity: 8905\n"
     ]
    }
   ],
   "source": [
    "#quem são os invoices que contém letras?\n",
    "df_letter_invoices = df1.loc[df1['invoice_no'].apply (lambda x: bool(re.search ( '[^0-9]+', x))), :] \n",
    "print('Total number of invoices with letters: {}'.format (len (df_letter_invoices)))\n",
    "\n",
    "print('Total number of invoices with negative quantity: {}'.format( len(df_letter_invoices['quantity'] <0)))"
   ]
  },
  {
   "cell_type": "markdown",
   "id": "3c4deeb3",
   "metadata": {
    "hidden": true
   },
   "source": [
    "Estamos assumindo que todas os pedidos com letras têm quantidade negativa, por isso serão desconsiderados. Entretanto, temos quantidades negativas no data set que não possuem letras no pedido, as quantidades estão dando diferentes, mas tentei localizar e não encontrei"
   ]
  },
  {
   "cell_type": "markdown",
   "id": "93013547",
   "metadata": {
    "ExecuteTime": {
     "end_time": "2021-07-12T19:02:10.862518Z",
     "start_time": "2021-07-12T19:02:10.844564Z"
    },
    "hidden": true
   },
   "source": [
    "***Stock Code***\n",
    "\n",
    "Não temos que fazer nenhuma conversão aqui, apenas entender a feature"
   ]
  },
  {
   "cell_type": "code",
   "execution_count": 24,
   "id": "8d0511b3",
   "metadata": {
    "ExecuteTime": {
     "end_time": "2021-07-13T13:58:53.619030Z",
     "start_time": "2021-07-13T13:58:53.215686Z"
    },
    "hidden": true
   },
   "outputs": [
    {
     "data": {
      "text/plain": [
       "array(['POST', 'D', 'M', 'PADS', 'DOT', 'CRUK'], dtype=object)"
      ]
     },
     "execution_count": 24,
     "metadata": {},
     "output_type": "execute_result"
    }
   ],
   "source": [
    "# Tipos de Registros compostos apenas por strings que aparecem no codigo de estoque \n",
    "#(como os códigos são mistos, o Meigarom procurou códigos formados apenas por strings pra encontrar sujeiras\n",
    "\n",
    "df1.loc[df1['stock_code'].apply (lambda x:bool (re.search('^[a-zA-Z]+$', x ) ) ), 'stock_code' ].unique()\n"
   ]
  },
  {
   "cell_type": "markdown",
   "id": "6e3aa5a4",
   "metadata": {
    "ExecuteTime": {
     "end_time": "2021-07-12T19:02:10.862518Z",
     "start_time": "2021-07-12T19:02:10.844564Z"
    },
    "hidden": true
   },
   "source": [
    "***Decription***\n",
    "\n",
    "Não enxergamos nada pra fazer aqui. Apenas deletar a feature"
   ]
  },
  {
   "cell_type": "markdown",
   "id": "2abfbb94",
   "metadata": {
    "ExecuteTime": {
     "end_time": "2021-07-12T19:02:10.862518Z",
     "start_time": "2021-07-12T19:02:10.844564Z"
    },
    "hidden": true
   },
   "source": [
    "***Country***"
   ]
  },
  {
   "cell_type": "code",
   "execution_count": 25,
   "id": "e3b9da54",
   "metadata": {
    "ExecuteTime": {
     "end_time": "2021-07-13T13:58:53.696465Z",
     "start_time": "2021-07-13T13:58:53.621027Z"
    },
    "hidden": true
   },
   "outputs": [
    {
     "data": {
      "text/html": [
       "<div>\n",
       "<style scoped>\n",
       "    .dataframe tbody tr th:only-of-type {\n",
       "        vertical-align: middle;\n",
       "    }\n",
       "\n",
       "    .dataframe tbody tr th {\n",
       "        vertical-align: top;\n",
       "    }\n",
       "\n",
       "    .dataframe thead th {\n",
       "        text-align: right;\n",
       "    }\n",
       "</style>\n",
       "<table border=\"1\" class=\"dataframe\">\n",
       "  <thead>\n",
       "    <tr style=\"text-align: right;\">\n",
       "      <th></th>\n",
       "      <th>country</th>\n",
       "      <th>customer_id</th>\n",
       "    </tr>\n",
       "  </thead>\n",
       "  <tbody>\n",
       "    <tr>\n",
       "      <th>35</th>\n",
       "      <td>United Kingdom</td>\n",
       "      <td>3950</td>\n",
       "    </tr>\n",
       "    <tr>\n",
       "      <th>14</th>\n",
       "      <td>Germany</td>\n",
       "      <td>95</td>\n",
       "    </tr>\n",
       "    <tr>\n",
       "      <th>13</th>\n",
       "      <td>France</td>\n",
       "      <td>87</td>\n",
       "    </tr>\n",
       "    <tr>\n",
       "      <th>30</th>\n",
       "      <td>Spain</td>\n",
       "      <td>31</td>\n",
       "    </tr>\n",
       "    <tr>\n",
       "      <th>3</th>\n",
       "      <td>Belgium</td>\n",
       "      <td>25</td>\n",
       "    </tr>\n",
       "    <tr>\n",
       "      <th>32</th>\n",
       "      <td>Switzerland</td>\n",
       "      <td>21</td>\n",
       "    </tr>\n",
       "    <tr>\n",
       "      <th>26</th>\n",
       "      <td>Portugal</td>\n",
       "      <td>19</td>\n",
       "    </tr>\n",
       "    <tr>\n",
       "      <th>18</th>\n",
       "      <td>Italy</td>\n",
       "      <td>15</td>\n",
       "    </tr>\n",
       "    <tr>\n",
       "      <th>12</th>\n",
       "      <td>Finland</td>\n",
       "      <td>12</td>\n",
       "    </tr>\n",
       "    <tr>\n",
       "      <th>1</th>\n",
       "      <td>Austria</td>\n",
       "      <td>11</td>\n",
       "    </tr>\n",
       "  </tbody>\n",
       "</table>\n",
       "</div>"
      ],
      "text/plain": [
       "           country  customer_id\n",
       "35  United Kingdom         3950\n",
       "14         Germany           95\n",
       "13          France           87\n",
       "30           Spain           31\n",
       "3          Belgium           25\n",
       "32     Switzerland           21\n",
       "26        Portugal           19\n",
       "18           Italy           15\n",
       "12         Finland           12\n",
       "1          Austria           11"
      ]
     },
     "execution_count": 25,
     "metadata": {},
     "output_type": "execute_result"
    }
   ],
   "source": [
    "#Quantos clientes temos em cada país?\n",
    "df1[['customer_id', 'country'\n",
    "     ]].drop_duplicates().groupby('country').count().reset_index().sort_values(\n",
    "         'customer_id', ascending=False).head(10)"
   ]
  },
  {
   "cell_type": "markdown",
   "id": "6a78d9cf",
   "metadata": {
    "heading_collapsed": true
   },
   "source": [
    "# <font color='purple'>Filtragem de Variáveis"
   ]
  },
  {
   "cell_type": "code",
   "execution_count": 26,
   "id": "7f150258",
   "metadata": {
    "ExecuteTime": {
     "end_time": "2021-07-13T13:58:53.727381Z",
     "start_time": "2021-07-13T13:58:53.697420Z"
    },
    "hidden": true
   },
   "outputs": [],
   "source": [
    "df2 = df1.copy() "
   ]
  },
  {
   "cell_type": "markdown",
   "id": "62dae0c8",
   "metadata": {
    "hidden": true
   },
   "source": [
    "Tem uma decisão a ser tomada. Os valores negativos provavelmente são de devoluções. Podemos simplesmente excluir a entrada e a saída, podemos criar uma feature de devolução. O que vamos fazer é excluir aquelas transações com códigos de string e criar dois dataframes separados, um só com devoluções e outro com as compras\n"
   ]
  },
  {
   "cell_type": "code",
   "execution_count": 27,
   "id": "3dc6df9f",
   "metadata": {
    "ExecuteTime": {
     "end_time": "2021-07-13T13:58:55.433129Z",
     "start_time": "2021-07-13T13:58:53.728372Z"
    },
    "hidden": true
   },
   "outputs": [],
   "source": [
    "#Numerical Attributes\n",
    "\n",
    "df2.loc[df2['unit_price'] > 0.04, :] #valor mais baixo que faz sentido dentro do df\n",
    "\n",
    "\n",
    "#Categorical Attributes\n",
    "\n",
    "#stock code\n",
    "\n",
    "df2= df2[~df2['stock_code'].isin (['POST', 'D', 'M', 'PADS', 'DOT', 'CRUK'])]\n",
    "\n",
    "#description\n",
    "\n",
    "df2 = df2.drop(columns = 'description', axis=1)\n",
    "\n",
    "#coutry\n",
    "\n",
    "df2= df2[~df2.isin(['European Community', 'Unspecified'])]\n",
    "\n",
    "\n",
    "#são numéricos, mas vamos tirar depois dos outros filtros\n",
    "#quantity\n",
    "df2_returns = df2.loc[df2['unit_price'] < 0, :]\n",
    "df2_purchases = df2.loc[df2['unit_price'] >=0, :]\n"
   ]
  },
  {
   "cell_type": "markdown",
   "id": "4829d1a1",
   "metadata": {
    "heading_collapsed": true
   },
   "source": [
    "# Feature Engineering"
   ]
  },
  {
   "cell_type": "code",
   "execution_count": 28,
   "id": "041ab2d0",
   "metadata": {
    "ExecuteTime": {
     "end_time": "2021-07-13T13:58:55.479393Z",
     "start_time": "2021-07-13T13:58:55.436127Z"
    },
    "hidden": true
   },
   "outputs": [],
   "source": [
    "df3 = df2.copy()\n",
    "df3_purchases = df2_purchases.copy()\n",
    "df3_returns = df2_returns.copy()"
   ]
  },
  {
   "cell_type": "markdown",
   "id": "49586648",
   "metadata": {
    "ExecuteTime": {
     "end_time": "2021-07-08T20:27:56.940498Z",
     "start_time": "2021-07-08T20:27:56.929494Z"
    },
    "hidden": true
   },
   "source": [
    "## Feature Creation"
   ]
  },
  {
   "cell_type": "markdown",
   "id": "37310aae",
   "metadata": {
    "hidden": true
   },
   "source": [
    "Nesse momento devemos rever a criação de features porque agora temos as compras e devoluções em dfs separados"
   ]
  },
  {
   "cell_type": "code",
   "execution_count": 29,
   "id": "9fc6d840",
   "metadata": {
    "ExecuteTime": {
     "end_time": "2021-07-13T13:58:55.511341Z",
     "start_time": "2021-07-13T13:58:55.480394Z"
    },
    "hidden": true
   },
   "outputs": [
    {
     "data": {
      "text/plain": [
       "Index(['customer_id'], dtype='object')"
      ]
     },
     "execution_count": 29,
     "metadata": {},
     "output_type": "execute_result"
    }
   ],
   "source": [
    "#df_ref é um df para trabalhar\n",
    "df_ref = df3_purchases.drop(['invoice_no', 'stock_code', 'quantity', 'invoice_date','unit_price','country'], axis=1).drop_duplicates(ignore_index=True)\n",
    "#jogando tudo fora que eu não vou usar agora\n",
    "#reseta o index sem criar uma coluna nova de index\n",
    "df_ref.columns"
   ]
  },
  {
   "cell_type": "markdown",
   "id": "19ed4757",
   "metadata": {
    "hidden": true
   },
   "source": [
    "O número do pedido, por exemplo, para o nosso fim acaba sendo irrelevante. Ele repete um monte de vezes, para produtos diferentes. Nossa granularidade é o valor de um pedido único por cliente específico em uma determinada data. Nossa 'chave única', ou seja, nosso dado mínimo seria algo desse tipo."
   ]
  },
  {
   "cell_type": "code",
   "execution_count": 30,
   "id": "60b22298",
   "metadata": {
    "ExecuteTime": {
     "end_time": "2021-07-13T13:58:55.527299Z",
     "start_time": "2021-07-13T13:58:55.512307Z"
    },
    "hidden": true
   },
   "outputs": [
    {
     "data": {
      "text/html": [
       "<div>\n",
       "<style scoped>\n",
       "    .dataframe tbody tr th:only-of-type {\n",
       "        vertical-align: middle;\n",
       "    }\n",
       "\n",
       "    .dataframe tbody tr th {\n",
       "        vertical-align: top;\n",
       "    }\n",
       "\n",
       "    .dataframe thead th {\n",
       "        text-align: right;\n",
       "    }\n",
       "</style>\n",
       "<table border=\"1\" class=\"dataframe\">\n",
       "  <thead>\n",
       "    <tr style=\"text-align: right;\">\n",
       "      <th></th>\n",
       "      <th>0</th>\n",
       "      <th>1</th>\n",
       "      <th>2</th>\n",
       "      <th>3</th>\n",
       "      <th>4</th>\n",
       "      <th>5</th>\n",
       "      <th>6</th>\n",
       "      <th>7</th>\n",
       "      <th>8</th>\n",
       "      <th>9</th>\n",
       "    </tr>\n",
       "  </thead>\n",
       "  <tbody>\n",
       "    <tr>\n",
       "      <th>customer_id</th>\n",
       "      <td>17850</td>\n",
       "      <td>13047</td>\n",
       "      <td>12583</td>\n",
       "      <td>13748</td>\n",
       "      <td>15100</td>\n",
       "      <td>15291</td>\n",
       "      <td>14688</td>\n",
       "      <td>17809</td>\n",
       "      <td>15311</td>\n",
       "      <td>16098</td>\n",
       "    </tr>\n",
       "  </tbody>\n",
       "</table>\n",
       "</div>"
      ],
      "text/plain": [
       "                 0      1      2      3      4      5      6      7      8      9\n",
       "customer_id  17850  13047  12583  13748  15100  15291  14688  17809  15311  16098"
      ]
     },
     "execution_count": 30,
     "metadata": {},
     "output_type": "execute_result"
    }
   ],
   "source": [
    "df_ref.head(10).T #sobraram os clientes repetidos nos registros"
   ]
  },
  {
   "cell_type": "markdown",
   "id": "7a8a8b96",
   "metadata": {
    "ExecuteTime": {
     "end_time": "2021-07-08T17:34:19.470496Z",
     "start_time": "2021-07-08T17:34:16.078Z"
    },
    "hidden": true
   },
   "source": [
    "Até a linha 8 era o mesmo cliente, e assim por diante. Devemos resetar os indices. As operações de concatenação, por exemplo, são feitas pelos índices (por padrão). Por isso é bom resetar. O professor já concatenou tabelas sem resetar os índices e dá um erros grotescos. O comando reset index na realidade criaria uma nova coluna de indice, que teria que ser excluída depois. É melhor usar outro comando, o ignore index.\n",
    "Essa agora é a nossa tabela de referência com uma linha pra cada cliente. Todas as features serão concatenadas nela."
   ]
  },
  {
   "cell_type": "markdown",
   "id": "aafbf07d",
   "metadata": {
    "hidden": true
   },
   "source": [
    "  Pelo que entendi, ele vai limpando e agrupando linha a linha. Primeiro tira todos os clientes repetidos, depois agrupa os valores gastos deixando uma linha por cliente depois agrupa na coluna concatenando tudo"
   ]
  },
  {
   "cell_type": "markdown",
   "id": "8c06bbc8",
   "metadata": {
    "hidden": true
   },
   "source": [
    "<font color='red'> Features que serão criadas: \n",
    "\n",
    "***Gross Revenue (faturamento)*** \n",
    "\n",
    "***Recency***\n",
    "\n",
    "***Frequency***\n",
    "    \n",
    "***Avg Ticket*** (incluído após a primeira clusterização)"
   ]
  },
  {
   "cell_type": "code",
   "execution_count": 31,
   "id": "ed8e64b1",
   "metadata": {
    "ExecuteTime": {
     "end_time": "2021-07-13T13:58:55.542254Z",
     "start_time": "2021-07-13T13:58:55.528265Z"
    },
    "hidden": true
   },
   "outputs": [],
   "source": [
    "#Gross Revenue(Faturamento)\n",
    "df3_purchases['gross_revenue'] = df3_purchases['quantity'] * df3_purchases['unit_price']"
   ]
  },
  {
   "cell_type": "code",
   "execution_count": 32,
   "id": "347abe96",
   "metadata": {
    "ExecuteTime": {
     "end_time": "2021-07-13T13:58:55.590131Z",
     "start_time": "2021-07-13T13:58:55.543225Z"
    },
    "hidden": true
   },
   "outputs": [],
   "source": [
    "#Monetary (quanto a pessoa já gastou com a gente)\n",
    "df_monetary = df3_purchases[['customer_id','gross_revenue']].groupby('customer_id').sum().reset_index()"
   ]
  },
  {
   "cell_type": "markdown",
   "id": "6b7be0f7",
   "metadata": {
    "hidden": true
   },
   "source": [
    "Pega as colunas cliente e gastos, agrupa os gastos por cliente e soma. Por padrão, a variável resultante do agrupamento (no caso a soma dos faturamentos) entra como novos índices, e nós queremos que entre como uma coluna de valores mesmo, uma feature nova. Por isso resetamos o índice de forma diferente do feito anteriormente"
   ]
  },
  {
   "cell_type": "code",
   "execution_count": 33,
   "id": "8b676387",
   "metadata": {
    "ExecuteTime": {
     "end_time": "2021-07-13T13:58:55.605713Z",
     "start_time": "2021-07-13T13:58:55.591098Z"
    },
    "hidden": true
   },
   "outputs": [],
   "source": [
    "df_ref = pd.merge(df_ref, df_monetary, on ='customer_id', how='left')\n",
    "#Concatena o df_ref e o df_monetary pela coluna customer id tendo a coluna da esquerda como referencia"
   ]
  },
  {
   "cell_type": "code",
   "execution_count": 34,
   "id": "a92a5864",
   "metadata": {
    "ExecuteTime": {
     "end_time": "2021-07-13T13:58:55.621670Z",
     "start_time": "2021-07-13T13:58:55.607711Z"
    },
    "hidden": true
   },
   "outputs": [
    {
     "data": {
      "text/html": [
       "<div>\n",
       "<style scoped>\n",
       "    .dataframe tbody tr th:only-of-type {\n",
       "        vertical-align: middle;\n",
       "    }\n",
       "\n",
       "    .dataframe tbody tr th {\n",
       "        vertical-align: top;\n",
       "    }\n",
       "\n",
       "    .dataframe thead th {\n",
       "        text-align: right;\n",
       "    }\n",
       "</style>\n",
       "<table border=\"1\" class=\"dataframe\">\n",
       "  <thead>\n",
       "    <tr style=\"text-align: right;\">\n",
       "      <th></th>\n",
       "      <th>customer_id</th>\n",
       "      <th>gross_revenue</th>\n",
       "    </tr>\n",
       "  </thead>\n",
       "  <tbody>\n",
       "    <tr>\n",
       "      <th>0</th>\n",
       "      <td>17850</td>\n",
       "      <td>5288.63</td>\n",
       "    </tr>\n",
       "    <tr>\n",
       "      <th>1</th>\n",
       "      <td>13047</td>\n",
       "      <td>3089.10</td>\n",
       "    </tr>\n",
       "    <tr>\n",
       "      <th>2</th>\n",
       "      <td>12583</td>\n",
       "      <td>6629.34</td>\n",
       "    </tr>\n",
       "    <tr>\n",
       "      <th>3</th>\n",
       "      <td>13748</td>\n",
       "      <td>948.25</td>\n",
       "    </tr>\n",
       "    <tr>\n",
       "      <th>4</th>\n",
       "      <td>15100</td>\n",
       "      <td>635.10</td>\n",
       "    </tr>\n",
       "  </tbody>\n",
       "</table>\n",
       "</div>"
      ],
      "text/plain": [
       "   customer_id  gross_revenue\n",
       "0        17850        5288.63\n",
       "1        13047        3089.10\n",
       "2        12583        6629.34\n",
       "3        13748         948.25\n",
       "4        15100         635.10"
      ]
     },
     "execution_count": 34,
     "metadata": {},
     "output_type": "execute_result"
    }
   ],
   "source": [
    "df_ref.head()"
   ]
  },
  {
   "cell_type": "code",
   "execution_count": 35,
   "id": "6963197f",
   "metadata": {
    "ExecuteTime": {
     "end_time": "2021-07-13T13:58:55.637630Z",
     "start_time": "2021-07-13T13:58:55.622668Z"
    },
    "hidden": true
   },
   "outputs": [
    {
     "data": {
      "text/plain": [
       "customer_id      0\n",
       "gross_revenue    0\n",
       "dtype: int64"
      ]
     },
     "execution_count": 35,
     "metadata": {},
     "output_type": "execute_result"
    }
   ],
   "source": [
    "df_ref.isna().sum() #segundo o professor é pra verificar se não deu um erro"
   ]
  },
  {
   "cell_type": "markdown",
   "id": "29026978",
   "metadata": {
    "hidden": true
   },
   "source": [
    "Recencia - Em uma situação normal, faríamos a conta utilizando uma função para a data do dia, de forma que o modelo fosse se atualizando todos os dias. No nosso caso, temos uma base fechada em um período fechado, então é mais lógico usar a última compra do data frame como parâmetro para as outras"
   ]
  },
  {
   "cell_type": "code",
   "execution_count": 36,
   "id": "9c39f092",
   "metadata": {
    "ExecuteTime": {
     "end_time": "2021-07-13T13:58:55.653584Z",
     "start_time": "2021-07-13T13:58:55.639622Z"
    },
    "hidden": true
   },
   "outputs": [
    {
     "data": {
      "text/plain": [
       "Timestamp('2017-12-07 00:00:00')"
      ]
     },
     "execution_count": 36,
     "metadata": {},
     "output_type": "execute_result"
    }
   ],
   "source": [
    "df3_purchases['invoice_date'].max() #ultima data de todos os customers"
   ]
  },
  {
   "cell_type": "code",
   "execution_count": 37,
   "id": "ff18d3f1",
   "metadata": {
    "ExecuteTime": {
     "end_time": "2021-07-13T13:58:55.701456Z",
     "start_time": "2021-07-13T13:58:55.654584Z"
    },
    "hidden": true
   },
   "outputs": [
    {
     "data": {
      "text/html": [
       "<div>\n",
       "<style scoped>\n",
       "    .dataframe tbody tr th:only-of-type {\n",
       "        vertical-align: middle;\n",
       "    }\n",
       "\n",
       "    .dataframe tbody tr th {\n",
       "        vertical-align: top;\n",
       "    }\n",
       "\n",
       "    .dataframe thead th {\n",
       "        text-align: right;\n",
       "    }\n",
       "</style>\n",
       "<table border=\"1\" class=\"dataframe\">\n",
       "  <thead>\n",
       "    <tr style=\"text-align: right;\">\n",
       "      <th></th>\n",
       "      <th>customer_id</th>\n",
       "      <th>invoice_date</th>\n",
       "      <th>recency_days</th>\n",
       "    </tr>\n",
       "  </thead>\n",
       "  <tbody>\n",
       "    <tr>\n",
       "      <th>0</th>\n",
       "      <td>12346</td>\n",
       "      <td>2017-01-16</td>\n",
       "      <td>325 days</td>\n",
       "    </tr>\n",
       "    <tr>\n",
       "      <th>1</th>\n",
       "      <td>12347</td>\n",
       "      <td>2017-12-05</td>\n",
       "      <td>2 days</td>\n",
       "    </tr>\n",
       "    <tr>\n",
       "      <th>2</th>\n",
       "      <td>12348</td>\n",
       "      <td>2017-09-23</td>\n",
       "      <td>75 days</td>\n",
       "    </tr>\n",
       "    <tr>\n",
       "      <th>3</th>\n",
       "      <td>12349</td>\n",
       "      <td>2017-11-19</td>\n",
       "      <td>18 days</td>\n",
       "    </tr>\n",
       "    <tr>\n",
       "      <th>4</th>\n",
       "      <td>12350</td>\n",
       "      <td>2017-01-31</td>\n",
       "      <td>310 days</td>\n",
       "    </tr>\n",
       "  </tbody>\n",
       "</table>\n",
       "</div>"
      ],
      "text/plain": [
       "   customer_id invoice_date recency_days\n",
       "0        12346   2017-01-16     325 days\n",
       "1        12347   2017-12-05       2 days\n",
       "2        12348   2017-09-23      75 days\n",
       "3        12349   2017-11-19      18 days\n",
       "4        12350   2017-01-31     310 days"
      ]
     },
     "execution_count": 37,
     "metadata": {},
     "output_type": "execute_result"
    }
   ],
   "source": [
    "df_recency = df3_purchases[['customer_id', 'invoice_date']].groupby('customer_id').max().reset_index()\n",
    "#retorna a data máxima por cliente\n",
    "df_recency['recency_days'] = df3_purchases['invoice_date'].max() - df_recency['invoice_date']\n",
    "#cria uma coluna nova com a diferença entre a data máxima do df todo e a data máxima de cada registro\n",
    "# (máxima de cada cliente filtrada no comando anterior)\n",
    "df_recency.head()"
   ]
  },
  {
   "cell_type": "code",
   "execution_count": 38,
   "id": "9ce14126",
   "metadata": {
    "ExecuteTime": {
     "end_time": "2021-07-13T13:58:55.717414Z",
     "start_time": "2021-07-13T13:58:55.703452Z"
    },
    "hidden": true
   },
   "outputs": [],
   "source": [
    "df_recency['recency_days']=(df_recency['recency_days']).dt.days # formato 'time_delta' do pandas\n",
    "#dt days pra tirar a palavra \"days\". Tem a ver com vetorização de séries no pandas"
   ]
  },
  {
   "cell_type": "code",
   "execution_count": 39,
   "id": "497f6bc1",
   "metadata": {
    "ExecuteTime": {
     "end_time": "2021-07-13T13:58:55.733406Z",
     "start_time": "2021-07-13T13:58:55.718412Z"
    },
    "hidden": true
   },
   "outputs": [
    {
     "data": {
      "text/html": [
       "<div>\n",
       "<style scoped>\n",
       "    .dataframe tbody tr th:only-of-type {\n",
       "        vertical-align: middle;\n",
       "    }\n",
       "\n",
       "    .dataframe tbody tr th {\n",
       "        vertical-align: top;\n",
       "    }\n",
       "\n",
       "    .dataframe thead th {\n",
       "        text-align: right;\n",
       "    }\n",
       "</style>\n",
       "<table border=\"1\" class=\"dataframe\">\n",
       "  <thead>\n",
       "    <tr style=\"text-align: right;\">\n",
       "      <th></th>\n",
       "      <th>customer_id</th>\n",
       "      <th>invoice_date</th>\n",
       "      <th>recency_days</th>\n",
       "    </tr>\n",
       "  </thead>\n",
       "  <tbody>\n",
       "    <tr>\n",
       "      <th>0</th>\n",
       "      <td>12346</td>\n",
       "      <td>2017-01-16</td>\n",
       "      <td>325</td>\n",
       "    </tr>\n",
       "    <tr>\n",
       "      <th>1</th>\n",
       "      <td>12347</td>\n",
       "      <td>2017-12-05</td>\n",
       "      <td>2</td>\n",
       "    </tr>\n",
       "    <tr>\n",
       "      <th>2</th>\n",
       "      <td>12348</td>\n",
       "      <td>2017-09-23</td>\n",
       "      <td>75</td>\n",
       "    </tr>\n",
       "    <tr>\n",
       "      <th>3</th>\n",
       "      <td>12349</td>\n",
       "      <td>2017-11-19</td>\n",
       "      <td>18</td>\n",
       "    </tr>\n",
       "    <tr>\n",
       "      <th>4</th>\n",
       "      <td>12350</td>\n",
       "      <td>2017-01-31</td>\n",
       "      <td>310</td>\n",
       "    </tr>\n",
       "  </tbody>\n",
       "</table>\n",
       "</div>"
      ],
      "text/plain": [
       "   customer_id invoice_date  recency_days\n",
       "0        12346   2017-01-16           325\n",
       "1        12347   2017-12-05             2\n",
       "2        12348   2017-09-23            75\n",
       "3        12349   2017-11-19            18\n",
       "4        12350   2017-01-31           310"
      ]
     },
     "execution_count": 39,
     "metadata": {},
     "output_type": "execute_result"
    }
   ],
   "source": [
    "df_recency.head() #deu certo, agora está em números e batendo as contas"
   ]
  },
  {
   "cell_type": "markdown",
   "id": "c1f1cea2",
   "metadata": {
    "hidden": true
   },
   "source": [
    "Agora vamos juntar a tabela de dias na nossa tabela principal"
   ]
  },
  {
   "cell_type": "code",
   "execution_count": 40,
   "id": "da566c25",
   "metadata": {
    "ExecuteTime": {
     "end_time": "2021-07-13T13:58:55.749328Z",
     "start_time": "2021-07-13T13:58:55.734370Z"
    },
    "hidden": true
   },
   "outputs": [
    {
     "data": {
      "text/plain": [
       "customer_id      0\n",
       "gross_revenue    0\n",
       "recency_days     0\n",
       "dtype: int64"
      ]
     },
     "execution_count": 40,
     "metadata": {},
     "output_type": "execute_result"
    }
   ],
   "source": [
    "df_recency = df_recency[['customer_id', 'recency_days']].copy() #pra fazer uma cópia fisica\n",
    "df_ref = pd.merge(df_ref,df_recency, on ='customer_id', how='left') \n",
    "# una as tabelas ref e recency baseado no customer_id com a tabela da esquerda como referência\n",
    "df_ref.isna().sum()"
   ]
  },
  {
   "cell_type": "code",
   "execution_count": 41,
   "id": "95b34e20",
   "metadata": {
    "ExecuteTime": {
     "end_time": "2021-07-13T13:58:55.765332Z",
     "start_time": "2021-07-13T13:58:55.750327Z"
    },
    "hidden": true
   },
   "outputs": [
    {
     "data": {
      "text/html": [
       "<div>\n",
       "<style scoped>\n",
       "    .dataframe tbody tr th:only-of-type {\n",
       "        vertical-align: middle;\n",
       "    }\n",
       "\n",
       "    .dataframe tbody tr th {\n",
       "        vertical-align: top;\n",
       "    }\n",
       "\n",
       "    .dataframe thead th {\n",
       "        text-align: right;\n",
       "    }\n",
       "</style>\n",
       "<table border=\"1\" class=\"dataframe\">\n",
       "  <thead>\n",
       "    <tr style=\"text-align: right;\">\n",
       "      <th></th>\n",
       "      <th>customer_id</th>\n",
       "      <th>gross_revenue</th>\n",
       "      <th>recency_days</th>\n",
       "    </tr>\n",
       "  </thead>\n",
       "  <tbody>\n",
       "    <tr>\n",
       "      <th>0</th>\n",
       "      <td>17850</td>\n",
       "      <td>5288.63</td>\n",
       "      <td>302</td>\n",
       "    </tr>\n",
       "    <tr>\n",
       "      <th>1</th>\n",
       "      <td>13047</td>\n",
       "      <td>3089.10</td>\n",
       "      <td>46</td>\n",
       "    </tr>\n",
       "    <tr>\n",
       "      <th>2</th>\n",
       "      <td>12583</td>\n",
       "      <td>6629.34</td>\n",
       "      <td>2</td>\n",
       "    </tr>\n",
       "    <tr>\n",
       "      <th>3</th>\n",
       "      <td>13748</td>\n",
       "      <td>948.25</td>\n",
       "      <td>95</td>\n",
       "    </tr>\n",
       "    <tr>\n",
       "      <th>4</th>\n",
       "      <td>15100</td>\n",
       "      <td>635.10</td>\n",
       "      <td>330</td>\n",
       "    </tr>\n",
       "  </tbody>\n",
       "</table>\n",
       "</div>"
      ],
      "text/plain": [
       "   customer_id  gross_revenue  recency_days\n",
       "0        17850        5288.63           302\n",
       "1        13047        3089.10            46\n",
       "2        12583        6629.34             2\n",
       "3        13748         948.25            95\n",
       "4        15100         635.10           330"
      ]
     },
     "execution_count": 41,
     "metadata": {},
     "output_type": "execute_result"
    }
   ],
   "source": [
    "df_ref.head() #mais uma feature adicionada"
   ]
  },
  {
   "cell_type": "markdown",
   "id": "4c01bec6",
   "metadata": {
    "hidden": true
   },
   "source": [
    "A próxima feature é a frequência\n",
    "frequencia = quantidade de compras/tempo total das compras. O tempo total da base de dados é fixo, foi durante um ano. Por isso acho que basta somar a quantidade de compras"
   ]
  },
  {
   "cell_type": "code",
   "execution_count": 42,
   "id": "2edf4d47",
   "metadata": {
    "ExecuteTime": {
     "end_time": "2021-07-13T13:58:55.842684Z",
     "start_time": "2021-07-13T13:58:55.766284Z"
    },
    "hidden": true
   },
   "outputs": [
    {
     "data": {
      "text/html": [
       "<div>\n",
       "<style scoped>\n",
       "    .dataframe tbody tr th:only-of-type {\n",
       "        vertical-align: middle;\n",
       "    }\n",
       "\n",
       "    .dataframe tbody tr th {\n",
       "        vertical-align: top;\n",
       "    }\n",
       "\n",
       "    .dataframe thead th {\n",
       "        text-align: right;\n",
       "    }\n",
       "</style>\n",
       "<table border=\"1\" class=\"dataframe\">\n",
       "  <thead>\n",
       "    <tr style=\"text-align: right;\">\n",
       "      <th></th>\n",
       "      <th>customer_id</th>\n",
       "      <th>invoice_no</th>\n",
       "    </tr>\n",
       "  </thead>\n",
       "  <tbody>\n",
       "    <tr>\n",
       "      <th>0</th>\n",
       "      <td>12346</td>\n",
       "      <td>2</td>\n",
       "    </tr>\n",
       "    <tr>\n",
       "      <th>1</th>\n",
       "      <td>12347</td>\n",
       "      <td>7</td>\n",
       "    </tr>\n",
       "    <tr>\n",
       "      <th>2</th>\n",
       "      <td>12348</td>\n",
       "      <td>4</td>\n",
       "    </tr>\n",
       "    <tr>\n",
       "      <th>3</th>\n",
       "      <td>12349</td>\n",
       "      <td>1</td>\n",
       "    </tr>\n",
       "    <tr>\n",
       "      <th>4</th>\n",
       "      <td>12350</td>\n",
       "      <td>1</td>\n",
       "    </tr>\n",
       "  </tbody>\n",
       "</table>\n",
       "</div>"
      ],
      "text/plain": [
       "   customer_id  invoice_no\n",
       "0        12346           2\n",
       "1        12347           7\n",
       "2        12348           4\n",
       "3        12349           1\n",
       "4        12350           1"
      ]
     },
     "execution_count": 42,
     "metadata": {},
     "output_type": "execute_result"
    }
   ],
   "source": [
    "df_freq = df3_purchases[['customer_id', 'invoice_no']].drop_duplicates().groupby('customer_id').count().reset_index()\n",
    "#o drop é pra tirar os invoices repetidos, o count é pra somar a quantidade de invoices de cada cliente\n",
    "#drop vem como padrão 'keep first', dropa os duplicados de todas as colunas, exceto da primeira\n",
    "df_freq.head()"
   ]
  },
  {
   "cell_type": "code",
   "execution_count": 43,
   "id": "131349b6",
   "metadata": {
    "ExecuteTime": {
     "end_time": "2021-07-13T13:58:55.858610Z",
     "start_time": "2021-07-13T13:58:55.843650Z"
    },
    "hidden": true
   },
   "outputs": [
    {
     "data": {
      "text/html": [
       "<div>\n",
       "<style scoped>\n",
       "    .dataframe tbody tr th:only-of-type {\n",
       "        vertical-align: middle;\n",
       "    }\n",
       "\n",
       "    .dataframe tbody tr th {\n",
       "        vertical-align: top;\n",
       "    }\n",
       "\n",
       "    .dataframe thead th {\n",
       "        text-align: right;\n",
       "    }\n",
       "</style>\n",
       "<table border=\"1\" class=\"dataframe\">\n",
       "  <thead>\n",
       "    <tr style=\"text-align: right;\">\n",
       "      <th></th>\n",
       "      <th>customer_id</th>\n",
       "      <th>gross_revenue</th>\n",
       "      <th>recency_days</th>\n",
       "      <th>invoice_no</th>\n",
       "    </tr>\n",
       "  </thead>\n",
       "  <tbody>\n",
       "    <tr>\n",
       "      <th>0</th>\n",
       "      <td>17850</td>\n",
       "      <td>5288.63</td>\n",
       "      <td>302</td>\n",
       "      <td>35</td>\n",
       "    </tr>\n",
       "    <tr>\n",
       "      <th>1</th>\n",
       "      <td>13047</td>\n",
       "      <td>3089.10</td>\n",
       "      <td>46</td>\n",
       "      <td>16</td>\n",
       "    </tr>\n",
       "    <tr>\n",
       "      <th>2</th>\n",
       "      <td>12583</td>\n",
       "      <td>6629.34</td>\n",
       "      <td>2</td>\n",
       "      <td>17</td>\n",
       "    </tr>\n",
       "    <tr>\n",
       "      <th>3</th>\n",
       "      <td>13748</td>\n",
       "      <td>948.25</td>\n",
       "      <td>95</td>\n",
       "      <td>5</td>\n",
       "    </tr>\n",
       "    <tr>\n",
       "      <th>4</th>\n",
       "      <td>15100</td>\n",
       "      <td>635.10</td>\n",
       "      <td>330</td>\n",
       "      <td>6</td>\n",
       "    </tr>\n",
       "  </tbody>\n",
       "</table>\n",
       "</div>"
      ],
      "text/plain": [
       "   customer_id  gross_revenue  recency_days  invoice_no\n",
       "0        17850        5288.63           302          35\n",
       "1        13047        3089.10            46          16\n",
       "2        12583        6629.34             2          17\n",
       "3        13748         948.25            95           5\n",
       "4        15100         635.10           330           6"
      ]
     },
     "execution_count": 43,
     "metadata": {},
     "output_type": "execute_result"
    }
   ],
   "source": [
    "df_ref = pd.merge (df_ref, df_freq, on='customer_id', how='left')\n",
    "df_ref.head() #mais uma feature adicionada"
   ]
  },
  {
   "cell_type": "code",
   "execution_count": 44,
   "id": "e7973872",
   "metadata": {
    "ExecuteTime": {
     "end_time": "2021-07-13T13:58:55.904524Z",
     "start_time": "2021-07-13T13:58:55.859609Z"
    },
    "hidden": true
   },
   "outputs": [
    {
     "data": {
      "text/html": [
       "<div>\n",
       "<style scoped>\n",
       "    .dataframe tbody tr th:only-of-type {\n",
       "        vertical-align: middle;\n",
       "    }\n",
       "\n",
       "    .dataframe tbody tr th {\n",
       "        vertical-align: top;\n",
       "    }\n",
       "\n",
       "    .dataframe thead th {\n",
       "        text-align: right;\n",
       "    }\n",
       "</style>\n",
       "<table border=\"1\" class=\"dataframe\">\n",
       "  <thead>\n",
       "    <tr style=\"text-align: right;\">\n",
       "      <th></th>\n",
       "      <th>customer_id</th>\n",
       "      <th>gross_revenue</th>\n",
       "      <th>recency_days</th>\n",
       "      <th>invoice_no</th>\n",
       "      <th>avg_ticket</th>\n",
       "    </tr>\n",
       "  </thead>\n",
       "  <tbody>\n",
       "    <tr>\n",
       "      <th>0</th>\n",
       "      <td>17850</td>\n",
       "      <td>5288.63</td>\n",
       "      <td>302</td>\n",
       "      <td>35</td>\n",
       "      <td>16.950737</td>\n",
       "    </tr>\n",
       "    <tr>\n",
       "      <th>1</th>\n",
       "      <td>13047</td>\n",
       "      <td>3089.10</td>\n",
       "      <td>46</td>\n",
       "      <td>16</td>\n",
       "      <td>15.923196</td>\n",
       "    </tr>\n",
       "    <tr>\n",
       "      <th>2</th>\n",
       "      <td>12583</td>\n",
       "      <td>6629.34</td>\n",
       "      <td>2</td>\n",
       "      <td>17</td>\n",
       "      <td>28.209957</td>\n",
       "    </tr>\n",
       "    <tr>\n",
       "      <th>3</th>\n",
       "      <td>13748</td>\n",
       "      <td>948.25</td>\n",
       "      <td>95</td>\n",
       "      <td>5</td>\n",
       "      <td>33.866071</td>\n",
       "    </tr>\n",
       "    <tr>\n",
       "      <th>4</th>\n",
       "      <td>15100</td>\n",
       "      <td>635.10</td>\n",
       "      <td>330</td>\n",
       "      <td>6</td>\n",
       "      <td>105.850000</td>\n",
       "    </tr>\n",
       "  </tbody>\n",
       "</table>\n",
       "</div>"
      ],
      "text/plain": [
       "   customer_id  gross_revenue  recency_days  invoice_no  avg_ticket\n",
       "0        17850        5288.63           302          35   16.950737\n",
       "1        13047        3089.10            46          16   15.923196\n",
       "2        12583        6629.34             2          17   28.209957\n",
       "3        13748         948.25            95           5   33.866071\n",
       "4        15100         635.10           330           6  105.850000"
      ]
     },
     "execution_count": 44,
     "metadata": {},
     "output_type": "execute_result"
    }
   ],
   "source": [
    "#Avg Ticket\n",
    "df_avg_ticket = df3_purchases[['customer_id','gross_revenue']].groupby('customer_id').mean().reset_index().rename( columns = {'gross_revenue': 'avg_ticket'})\n",
    "df_ref = pd.merge(df_ref, df_avg_ticket, how ='left' , on='customer_id')\n",
    "df_ref.head()"
   ]
  },
  {
   "cell_type": "code",
   "execution_count": 45,
   "id": "5cc1c736",
   "metadata": {
    "ExecuteTime": {
     "end_time": "2021-07-13T13:58:55.919447Z",
     "start_time": "2021-07-13T13:58:55.905485Z"
    },
    "hidden": true
   },
   "outputs": [
    {
     "data": {
      "text/plain": [
       "customer_id      0\n",
       "gross_revenue    0\n",
       "recency_days     0\n",
       "invoice_no       0\n",
       "avg_ticket       0\n",
       "dtype: int64"
      ]
     },
     "execution_count": 45,
     "metadata": {},
     "output_type": "execute_result"
    }
   ],
   "source": [
    "df_ref.isna().sum()"
   ]
  },
  {
   "cell_type": "markdown",
   "id": "bc450c37",
   "metadata": {},
   "source": [
    "# <font color='red'>EDA(Exploratory Data Analysis)"
   ]
  },
  {
   "cell_type": "code",
   "execution_count": 87,
   "id": "03ba6cb5",
   "metadata": {
    "ExecuteTime": {
     "end_time": "2021-07-13T14:14:56.491830Z",
     "start_time": "2021-07-13T14:14:56.483860Z"
    }
   },
   "outputs": [],
   "source": [
    "df4= df_ref.copy()"
   ]
  },
  {
   "cell_type": "markdown",
   "id": "16351db3",
   "metadata": {},
   "source": [
    "# <font color='red'>Data Preparation"
   ]
  },
  {
   "cell_type": "code",
   "execution_count": 103,
   "id": "aa10e970",
   "metadata": {
    "ExecuteTime": {
     "end_time": "2021-07-13T14:36:30.967370Z",
     "start_time": "2021-07-13T14:36:30.946396Z"
    }
   },
   "outputs": [
    {
     "data": {
      "text/html": [
       "<div>\n",
       "<style scoped>\n",
       "    .dataframe tbody tr th:only-of-type {\n",
       "        vertical-align: middle;\n",
       "    }\n",
       "\n",
       "    .dataframe tbody tr th {\n",
       "        vertical-align: top;\n",
       "    }\n",
       "\n",
       "    .dataframe thead th {\n",
       "        text-align: right;\n",
       "    }\n",
       "</style>\n",
       "<table border=\"1\" class=\"dataframe\">\n",
       "  <thead>\n",
       "    <tr style=\"text-align: right;\">\n",
       "      <th></th>\n",
       "      <th>customer_id</th>\n",
       "      <th>gross_revenue</th>\n",
       "      <th>recency_days</th>\n",
       "      <th>invoice_no</th>\n",
       "      <th>avg_ticket</th>\n",
       "    </tr>\n",
       "  </thead>\n",
       "  <tbody>\n",
       "    <tr>\n",
       "      <th>0</th>\n",
       "      <td>17850</td>\n",
       "      <td>5288.63</td>\n",
       "      <td>302</td>\n",
       "      <td>35</td>\n",
       "      <td>16.950737</td>\n",
       "    </tr>\n",
       "    <tr>\n",
       "      <th>1</th>\n",
       "      <td>13047</td>\n",
       "      <td>3089.10</td>\n",
       "      <td>46</td>\n",
       "      <td>16</td>\n",
       "      <td>15.923196</td>\n",
       "    </tr>\n",
       "    <tr>\n",
       "      <th>2</th>\n",
       "      <td>12583</td>\n",
       "      <td>6629.34</td>\n",
       "      <td>2</td>\n",
       "      <td>17</td>\n",
       "      <td>28.209957</td>\n",
       "    </tr>\n",
       "    <tr>\n",
       "      <th>3</th>\n",
       "      <td>13748</td>\n",
       "      <td>948.25</td>\n",
       "      <td>95</td>\n",
       "      <td>5</td>\n",
       "      <td>33.866071</td>\n",
       "    </tr>\n",
       "    <tr>\n",
       "      <th>4</th>\n",
       "      <td>15100</td>\n",
       "      <td>635.10</td>\n",
       "      <td>330</td>\n",
       "      <td>6</td>\n",
       "      <td>105.850000</td>\n",
       "    </tr>\n",
       "  </tbody>\n",
       "</table>\n",
       "</div>"
      ],
      "text/plain": [
       "   customer_id  gross_revenue  recency_days  invoice_no  avg_ticket\n",
       "0        17850        5288.63           302          35   16.950737\n",
       "1        13047        3089.10            46          16   15.923196\n",
       "2        12583        6629.34             2          17   28.209957\n",
       "3        13748         948.25            95           5   33.866071\n",
       "4        15100         635.10           330           6  105.850000"
      ]
     },
     "execution_count": 103,
     "metadata": {},
     "output_type": "execute_result"
    }
   ],
   "source": [
    "df5= df4.copy()\n",
    "df5.head()"
   ]
  },
  {
   "cell_type": "markdown",
   "id": "904cc65e",
   "metadata": {},
   "source": [
    "Nessa seção vamos reescalar os dados pra melhorar o aprendizado"
   ]
  },
  {
   "cell_type": "code",
   "execution_count": 108,
   "id": "901ddd48",
   "metadata": {
    "ExecuteTime": {
     "end_time": "2021-07-13T14:37:34.435787Z",
     "start_time": "2021-07-13T14:37:34.405188Z"
    }
   },
   "outputs": [],
   "source": [
    "## Standard Scaler\n",
    "ss = pp.StandardScaler()\n",
    "df5['groos_revenue']  = ss.fit_transform ( df5 [ ['gross_revenue' ] ] ) #tem que passar um array, por isso o colchete duplo\n",
    "df5['recency_days']   = ss.fit_transform ( df5 [ ['recency_days'  ] ] )\n",
    "df5['invoice_no']     = ss.fit_transform ( df5 [ ['invoice_no'    ] ] )\n",
    "df5['avg_ticket']     = ss.fit_transform ( df5 [ ['avg_ticket'    ] ] )       "
   ]
  },
  {
   "cell_type": "markdown",
   "id": "e54ab74b",
   "metadata": {},
   "source": [
    "# <font color='red'>Feature Selection"
   ]
  },
  {
   "cell_type": "code",
   "execution_count": 109,
   "id": "f81ce6d7",
   "metadata": {
    "ExecuteTime": {
     "end_time": "2021-07-13T14:37:35.350981Z",
     "start_time": "2021-07-13T14:37:35.341969Z"
    }
   },
   "outputs": [],
   "source": [
    "df6= df5.copy()"
   ]
  },
  {
   "cell_type": "markdown",
   "id": "54063b42",
   "metadata": {},
   "source": [
    "# <font color='red'>Hyperparameter Fine-Tunning"
   ]
  },
  {
   "cell_type": "code",
   "execution_count": 112,
   "id": "f953b86f",
   "metadata": {
    "ExecuteTime": {
     "end_time": "2021-07-13T14:37:53.558181Z",
     "start_time": "2021-07-13T14:37:53.548209Z"
    }
   },
   "outputs": [],
   "source": [
    "df7 = df6.copy()"
   ]
  },
  {
   "cell_type": "code",
   "execution_count": 114,
   "id": "c6527408",
   "metadata": {
    "ExecuteTime": {
     "end_time": "2021-07-13T14:38:09.134085Z",
     "start_time": "2021-07-13T14:38:09.115136Z"
    }
   },
   "outputs": [],
   "source": [
    "X = df7.drop(columns='customer_id') # não precisamos do cliente agora"
   ]
  },
  {
   "cell_type": "code",
   "execution_count": 115,
   "id": "d07db7ef",
   "metadata": {
    "ExecuteTime": {
     "end_time": "2021-07-13T14:38:13.494167Z",
     "start_time": "2021-07-13T14:38:13.475218Z"
    }
   },
   "outputs": [
    {
     "data": {
      "text/html": [
       "<div>\n",
       "<style scoped>\n",
       "    .dataframe tbody tr th:only-of-type {\n",
       "        vertical-align: middle;\n",
       "    }\n",
       "\n",
       "    .dataframe tbody tr th {\n",
       "        vertical-align: top;\n",
       "    }\n",
       "\n",
       "    .dataframe thead th {\n",
       "        text-align: right;\n",
       "    }\n",
       "</style>\n",
       "<table border=\"1\" class=\"dataframe\">\n",
       "  <thead>\n",
       "    <tr style=\"text-align: right;\">\n",
       "      <th></th>\n",
       "      <th>gross_revenue</th>\n",
       "      <th>recency_days</th>\n",
       "      <th>invoice_no</th>\n",
       "      <th>avg_ticket</th>\n",
       "      <th>groos_revenue</th>\n",
       "    </tr>\n",
       "  </thead>\n",
       "  <tbody>\n",
       "    <tr>\n",
       "      <th>0</th>\n",
       "      <td>5288.63</td>\n",
       "      <td>2.084765</td>\n",
       "      <td>3.298926</td>\n",
       "      <td>-0.087781</td>\n",
       "      <td>0.409093</td>\n",
       "    </tr>\n",
       "    <tr>\n",
       "      <th>1</th>\n",
       "      <td>3089.10</td>\n",
       "      <td>-0.452213</td>\n",
       "      <td>1.209814</td>\n",
       "      <td>-0.093461</td>\n",
       "      <td>0.143487</td>\n",
       "    </tr>\n",
       "    <tr>\n",
       "      <th>2</th>\n",
       "      <td>6629.34</td>\n",
       "      <td>-0.888256</td>\n",
       "      <td>1.319767</td>\n",
       "      <td>-0.025534</td>\n",
       "      <td>0.570991</td>\n",
       "    </tr>\n",
       "    <tr>\n",
       "      <th>3</th>\n",
       "      <td>948.25</td>\n",
       "      <td>0.033380</td>\n",
       "      <td>0.000328</td>\n",
       "      <td>0.005735</td>\n",
       "      <td>-0.115034</td>\n",
       "    </tr>\n",
       "    <tr>\n",
       "      <th>4</th>\n",
       "      <td>635.10</td>\n",
       "      <td>2.362247</td>\n",
       "      <td>0.110281</td>\n",
       "      <td>0.403697</td>\n",
       "      <td>-0.152848</td>\n",
       "    </tr>\n",
       "  </tbody>\n",
       "</table>\n",
       "</div>"
      ],
      "text/plain": [
       "   gross_revenue  recency_days  invoice_no  avg_ticket  groos_revenue\n",
       "0        5288.63      2.084765    3.298926   -0.087781       0.409093\n",
       "1        3089.10     -0.452213    1.209814   -0.093461       0.143487\n",
       "2        6629.34     -0.888256    1.319767   -0.025534       0.570991\n",
       "3         948.25      0.033380    0.000328    0.005735      -0.115034\n",
       "4         635.10      2.362247    0.110281    0.403697      -0.152848"
      ]
     },
     "execution_count": 115,
     "metadata": {},
     "output_type": "execute_result"
    }
   ],
   "source": [
    "X.head()"
   ]
  },
  {
   "cell_type": "markdown",
   "id": "a5035e18",
   "metadata": {},
   "source": [
    "Para modelos de clusterização, não temos o valor de clusters (K), via de regra esse input é do analista. Hiperparametro são \n",
    "paramentros livres, que o analista escolhe"
   ]
  },
  {
   "cell_type": "markdown",
   "id": "d0154dcf",
   "metadata": {},
   "source": [
    "Inicialmente fazemos um tipo de pré treino, porque não sabemos qual o K que maximiza nosso modelo. O Meigarom fez meio que um treinamento na \"mão\" iterando pra achar o melhor K para o modelo e depois colocar pra treinar de verdade"
   ]
  },
  {
   "cell_type": "code",
   "execution_count": 116,
   "id": "40246fff",
   "metadata": {
    "ExecuteTime": {
     "end_time": "2021-07-13T14:38:20.513235Z",
     "start_time": "2021-07-13T14:38:20.503264Z"
    }
   },
   "outputs": [],
   "source": [
    "clusters = [2,3,4,5,6,7] # vetor de clusters que serão testados. Depois a métrica diz qual vai ser o melhor\n",
    "#incluído o 7 no ciclo 2"
   ]
  },
  {
   "cell_type": "markdown",
   "id": "47a7569a",
   "metadata": {
    "ExecuteTime": {
     "end_time": "2021-07-08T22:47:53.635030Z",
     "start_time": "2021-07-08T22:47:53.621038Z"
    }
   },
   "source": [
    "## Within-Cluster Sum of Square (WSS)"
   ]
  },
  {
   "cell_type": "markdown",
   "id": "19a8753f",
   "metadata": {},
   "source": [
    "    A métrica wss é utilizada para encontrar qual o numero de clusters (dentro da quantidade que escolhemos pra treinar o modelo) é o melhor para resolver o problema, por isso plotamos wss X k.\n",
    "    Essa métrica soma as distâncias DENTRO dos clusters, não entre os clusters, o que pode ser um problema."
   ]
  },
  {
   "cell_type": "code",
   "execution_count": 119,
   "id": "9cc42363",
   "metadata": {
    "ExecuteTime": {
     "end_time": "2021-07-13T14:41:41.104550Z",
     "start_time": "2021-07-13T14:41:40.102195Z"
    }
   },
   "outputs": [
    {
     "data": {
      "image/png": "[encoded data removed]",
      "text/plain": [
       "<Figure size 1800x864 with 1 Axes>"
      ]
     },
     "metadata": {},
     "output_type": "display_data"
    }
   ],
   "source": [
    "#implementando do modo roots (depois dá pra usar uma solução pronta)\n",
    "wss = []\n",
    "for k in clusters:\n",
    "    #model definition\n",
    "    kmeans = c.KMeans (init='random', n_clusters=k, n_init=10, max_iter=300, random_state=42)\n",
    "    #model training\n",
    "    kmeans.fit(X)\n",
    "    #validation\n",
    "    wss.append(kmeans.inertia_) #ws é uma métrica de validação\n",
    "#plot wss\n",
    "plt.plot(clusters, wss, linestyle='--', marker='o', color='b'); #não entendi o pq do ponto e vírgula\n",
    "plt.xlabel('K');\n",
    "plt.ylabel('Within-Clster Sum of Square');\n",
    "plt.title('WSS vs. K');"
   ]
  },
  {
   "cell_type": "code",
   "execution_count": 120,
   "id": "2b128da5",
   "metadata": {
    "ExecuteTime": {
     "end_time": "2021-07-13T14:41:43.077896Z",
     "start_time": "2021-07-13T14:41:42.463552Z"
    }
   },
   "outputs": [
    {
     "data": {
      "image/png": "[encoded data removed]",
      "text/plain": [
       "<Figure size 1800x864 with 1 Axes>"
      ]
     },
     "metadata": {},
     "output_type": "display_data"
    },
    {
     "data": {
      "text/plain": [
       "<AxesSubplot:title={'center':'Distortion Score Elbow for KMeans Clustering'}, xlabel='k', ylabel='distortion score'>"
      ]
     },
     "execution_count": 120,
     "metadata": {},
     "output_type": "execute_result"
    }
   ],
   "source": [
    "#forma mais elegante\n",
    "\n",
    "kmeans = KElbowVisualizer (c.KMeans(), k=clusters, timings=False)\n",
    "kmeans.fit(X)\n",
    "kmeans.show()                         "
   ]
  },
  {
   "cell_type": "markdown",
   "id": "f175e0e7",
   "metadata": {
    "ExecuteTime": {
     "end_time": "2021-07-08T22:47:55.550557Z",
     "start_time": "2021-07-08T22:47:55.536594Z"
    }
   },
   "source": [
    "## Silhouette Score"
   ]
  },
  {
   "cell_type": "markdown",
   "id": "701b1bf4",
   "metadata": {},
   "source": [
    "Após identificar o número provável de clusters (após o K-means), o metodo Silhouette mede a distância de todos os pontos dentro do cluster e tira a média, e depois mede em relação aos outros clusters.\n",
    "A silhoueta é boa para identifcar outliers"
   ]
  },
  {
   "cell_type": "code",
   "execution_count": 121,
   "id": "2018a62f",
   "metadata": {
    "ExecuteTime": {
     "end_time": "2021-07-13T14:41:53.717125Z",
     "start_time": "2021-07-13T14:41:51.118682Z"
    }
   },
   "outputs": [
    {
     "data": {
      "image/png": "[encoded data removed]",
      "text/plain": [
       "<Figure size 1800x864 with 1 Axes>"
      ]
     },
     "metadata": {},
     "output_type": "display_data"
    },
    {
     "data": {
      "text/plain": [
       "<AxesSubplot:title={'center':'Silhouette Score Elbow for KMeans Clustering'}, xlabel='k', ylabel='silhouette score'>"
      ]
     },
     "execution_count": 121,
     "metadata": {},
     "output_type": "execute_result"
    }
   ],
   "source": [
    "from yellowbrick.cluster import KElbowVisualizer\n",
    "kmeans = KElbowVisualizer (c.KMeans(), k=clusters, metric='silhouette', timings=False)\n",
    "kmeans.fit(X)\n",
    "kmeans.show()                      "
   ]
  },
  {
   "cell_type": "markdown",
   "id": "b3efab8e",
   "metadata": {
    "ExecuteTime": {
     "end_time": "2021-07-09T20:00:35.255181Z",
     "start_time": "2021-07-09T20:00:35.242185Z"
    }
   },
   "source": [
    "### Silhouette Analisys"
   ]
  },
  {
   "cell_type": "code",
   "execution_count": 122,
   "id": "9a8fbf2d",
   "metadata": {
    "ExecuteTime": {
     "end_time": "2021-07-13T14:42:10.157040Z",
     "start_time": "2021-07-13T14:42:04.192783Z"
    },
    "scrolled": true
   },
   "outputs": [
    {
     "data": {
      "image/png": "[encoded data removed]",
      "text/plain": [
       "<Figure size 1800x1296 with 6 Axes>"
      ]
     },
     "metadata": {},
     "output_type": "display_data"
    }
   ],
   "source": [
    "fig, ax = plt.subplots (3,2, figsize=(25,18))\n",
    "\n",
    "for k in clusters:\n",
    "    km = c.KMeans (n_clusters = k , init='random', n_init=10, max_iter=100, random_state=42)\n",
    "    q,mod = divmod(k,2)\n",
    "    visualizer = SilhouetteVisualizer (km, colors = 'yellowbrick', ax=ax[q-1][mod])\n",
    "    visualizer.fit (X)\n",
    "    visualizer.finalize()"
   ]
  },
  {
   "cell_type": "markdown",
   "id": "70678ec6",
   "metadata": {},
   "source": [
    "# <font color='red'>Model Training"
   ]
  },
  {
   "cell_type": "markdown",
   "id": "65bdf69c",
   "metadata": {},
   "source": [
    "## K-Means"
   ]
  },
  {
   "cell_type": "code",
   "execution_count": 133,
   "id": "9195cc9e",
   "metadata": {
    "ExecuteTime": {
     "end_time": "2021-07-13T14:44:35.935955Z",
     "start_time": "2021-07-13T14:44:35.851183Z"
    }
   },
   "outputs": [],
   "source": [
    "# model definition\n",
    "k=3\n",
    "kmeans = c.KMeans (init = 'random' , n_clusters= k, n_init = 10, max_iter=300)\n",
    "# model training\n",
    "kmeans.fit (X)\n",
    "# clustering\n",
    "labels = kmeans.labels_ # gera um número para cada cluster, vamos usar para identificar/descrever"
   ]
  },
  {
   "cell_type": "markdown",
   "id": "f4291436",
   "metadata": {
    "ExecuteTime": {
     "end_time": "2021-07-09T16:31:54.592587Z",
     "start_time": "2021-07-09T16:31:54.578656Z"
    }
   },
   "source": [
    "## Cluster Validation"
   ]
  },
  {
   "cell_type": "code",
   "execution_count": 134,
   "id": "f56b4a00",
   "metadata": {
    "ExecuteTime": {
     "end_time": "2021-07-13T14:44:37.682066Z",
     "start_time": "2021-07-13T14:44:37.323801Z"
    }
   },
   "outputs": [
    {
     "name": "stdout",
     "output_type": "stream",
     "text": [
      "WSS value: 52595266484.180374 \n",
      "\n",
      "Silhouette Score 0.9507536591453348\n"
     ]
    }
   ],
   "source": [
    "#WSS\n",
    "print( 'WSS value: {} \\n'.format (kmeans.inertia_))\n",
    "#SS\n",
    "print ( 'Silhouette Score {}'.format( m.silhouette_score ( X , labels, metric = 'euclidean') ) )"
   ]
  },
  {
   "cell_type": "markdown",
   "id": "5eb3b784",
   "metadata": {},
   "source": [
    "# <font color='red'>Cluster Analysis"
   ]
  },
  {
   "cell_type": "markdown",
   "id": "77994660",
   "metadata": {
    "ExecuteTime": {
     "end_time": "2021-07-09T14:46:18.495596Z",
     "start_time": "2021-07-09T14:46:18.480636Z"
    }
   },
   "source": [
    "Não podemos simplesmente encontrar metricas boas e entregar o resultado. Precisamos analisar os clusters (quem são? O que fazem? do que se alimentam?) e usar nossa capacidade analítica pra ver se tudo isso faz algum sentido"
   ]
  },
  {
   "cell_type": "code",
   "execution_count": 135,
   "id": "b7605298",
   "metadata": {
    "ExecuteTime": {
     "end_time": "2021-07-13T14:44:40.356465Z",
     "start_time": "2021-07-13T14:44:40.338516Z"
    }
   },
   "outputs": [],
   "source": [
    "df11 = df_ref.copy()\n",
    "df11['cluster'] = labels #como saber se o array labels já está na ordem correta?"
   ]
  },
  {
   "cell_type": "markdown",
   "id": "5a7fc711",
   "metadata": {
    "ExecuteTime": {
     "end_time": "2021-07-09T16:39:23.793320Z",
     "start_time": "2021-07-09T16:39:23.788332Z"
    }
   },
   "source": [
    "## Visualization Inspect"
   ]
  },
  {
   "cell_type": "markdown",
   "id": "97be3b89",
   "metadata": {},
   "source": [
    "Até 3 dimensões podemos simplesmente plotar, para mais dimensões usaremos técnicas de redução de dimensionalidade"
   ]
  },
  {
   "cell_type": "code",
   "execution_count": 126,
   "id": "b3bcb2e2",
   "metadata": {
    "ExecuteTime": {
     "end_time": "2021-07-13T14:42:44.850076Z",
     "start_time": "2021-07-13T14:42:44.838075Z"
    }
   },
   "outputs": [],
   "source": [
    "# No segundo ciclo já não faz mais sentido\n",
    "# fig = px.scatter_3d (df11, x ='recency_days', y= 'invoice_no' , z= 'gross_revenue', color = 'cluster')\n",
    "# fig.show()"
   ]
  },
  {
   "cell_type": "code",
   "execution_count": 127,
   "id": "666511ca",
   "metadata": {
    "ExecuteTime": {
     "end_time": "2021-07-13T14:42:46.667956Z",
     "start_time": "2021-07-13T14:42:45.625001Z"
    }
   },
   "outputs": [
    {
     "data": {
      "image/png": "[encoded data removed]",
      "text/plain": [
       "<Figure size 1800x864 with 1 Axes>"
      ]
     },
     "metadata": {},
     "output_type": "display_data"
    }
   ],
   "source": [
    "visualizer = SilhouetteVisualizer (kmeans , colors = 'yellowbrick')\n",
    "visualizer.fit(X)\n",
    "visualizer.finalize()"
   ]
  },
  {
   "cell_type": "markdown",
   "id": "c19180a9",
   "metadata": {
    "ExecuteTime": {
     "end_time": "2021-07-09T20:49:19.655838Z",
     "start_time": "2021-07-09T20:49:19.638883Z"
    }
   },
   "source": [
    "## 2d Plot\n"
   ]
  },
  {
   "cell_type": "code",
   "execution_count": 128,
   "id": "b1bdeced",
   "metadata": {
    "ExecuteTime": {
     "end_time": "2021-07-13T14:42:52.935309Z",
     "start_time": "2021-07-13T14:42:47.934690Z"
    }
   },
   "outputs": [
    {
     "data": {
      "text/plain": [
       "<seaborn.axisgrid.PairGrid at 0x24a944acaf0>"
      ]
     },
     "execution_count": 128,
     "metadata": {},
     "output_type": "execute_result"
    },
    {
     "data": {
      "image/png": "[encoded data removed]",
      "text/plain": [
       "<Figure size 765.725x720 with 20 Axes>"
      ]
     },
     "metadata": {},
     "output_type": "display_data"
    }
   ],
   "source": [
    "#plot 2 a 2 \n",
    "df_viz = df11.drop(columns='customer_id', axis = 1)\n",
    "sns.pairplot(df_viz, hue='cluster')\n",
    "#Agora não vai servir pra muita coisa"
   ]
  },
  {
   "cell_type": "markdown",
   "id": "6dab8793",
   "metadata": {},
   "source": [
    "## UMAP"
   ]
  },
  {
   "cell_type": "code",
   "execution_count": 132,
   "id": "388343fd",
   "metadata": {
    "ExecuteTime": {
     "end_time": "2021-07-13T14:44:06.339909Z",
     "start_time": "2021-07-13T14:43:52.595813Z"
    }
   },
   "outputs": [
    {
     "data": {
      "text/plain": [
       "<AxesSubplot:xlabel='embedding_x', ylabel='embedding_y'>"
      ]
     },
     "execution_count": 132,
     "metadata": {},
     "output_type": "execute_result"
    },
    {
     "data": {
      "image/png": "[encoded data removed]",
      "text/plain": [
       "<Figure size 1800x864 with 1 Axes>"
      ]
     },
     "metadata": {},
     "output_type": "display_data"
    }
   ],
   "source": [
    "reducer = umap.UMAP( n_neighbors= 100, random_state = 42)\n",
    "#n_neighbors é um parâmetro livre que deve ser estudado melhor, pois influi MUITO no resultado\n",
    "embedding = reducer.fit_transform (X)\n",
    "#embedding\n",
    "df_viz['embedding_x'] = embedding[:,0]\n",
    "df_viz['embedding_y'] = embedding[:,1]\n",
    "\n",
    "#plot Umap\n",
    "sns.scatterplot(x='embedding_x' , y='embedding_y', hue='cluster', \n",
    "                palette = sns.color_palette('hls', n_colors = len(df_viz['cluster'].unique() ) ),\n",
    "                data = df_viz)"
   ]
  },
  {
   "cell_type": "markdown",
   "id": "6b1e3cda",
   "metadata": {},
   "source": [
    "## Cluster Profile"
   ]
  },
  {
   "cell_type": "code",
   "execution_count": 130,
   "id": "7f309313",
   "metadata": {
    "ExecuteTime": {
     "end_time": "2021-07-13T14:43:01.452847Z",
     "start_time": "2021-07-13T14:43:01.391978Z"
    }
   },
   "outputs": [
    {
     "name": "stdout",
     "output_type": "stream",
     "text": [
      "\n",
      "Resumo:\n"
     ]
    },
    {
     "data": {
      "text/html": [
       "<div>\n",
       "<style scoped>\n",
       "    .dataframe tbody tr th:only-of-type {\n",
       "        vertical-align: middle;\n",
       "    }\n",
       "\n",
       "    .dataframe tbody tr th {\n",
       "        vertical-align: top;\n",
       "    }\n",
       "\n",
       "    .dataframe thead th {\n",
       "        text-align: right;\n",
       "    }\n",
       "</style>\n",
       "<table border=\"1\" class=\"dataframe\">\n",
       "  <thead>\n",
       "    <tr style=\"text-align: right;\">\n",
       "      <th></th>\n",
       "      <th>cluster</th>\n",
       "      <th>customer_id</th>\n",
       "      <th>perc_customer</th>\n",
       "      <th>gross_revenue</th>\n",
       "      <th>recency_days</th>\n",
       "      <th>invoice_no</th>\n",
       "      <th>avg_ticket</th>\n",
       "    </tr>\n",
       "  </thead>\n",
       "  <tbody>\n",
       "    <tr>\n",
       "      <th>0</th>\n",
       "      <td>0</td>\n",
       "      <td>6</td>\n",
       "      <td>0.137520</td>\n",
       "      <td>183220.246667</td>\n",
       "      <td>7.166667</td>\n",
       "      <td>85.833333</td>\n",
       "      <td>259.668013</td>\n",
       "    </tr>\n",
       "    <tr>\n",
       "      <th>1</th>\n",
       "      <td>1</td>\n",
       "      <td>4069</td>\n",
       "      <td>93.261517</td>\n",
       "      <td>946.964938</td>\n",
       "      <td>96.852789</td>\n",
       "      <td>3.617105</td>\n",
       "      <td>27.191876</td>\n",
       "    </tr>\n",
       "    <tr>\n",
       "      <th>2</th>\n",
       "      <td>2</td>\n",
       "      <td>260</td>\n",
       "      <td>5.959202</td>\n",
       "      <td>8185.933731</td>\n",
       "      <td>20.384615</td>\n",
       "      <td>19.400000</td>\n",
       "      <td>65.205217</td>\n",
       "    </tr>\n",
       "    <tr>\n",
       "      <th>3</th>\n",
       "      <td>3</td>\n",
       "      <td>28</td>\n",
       "      <td>0.641760</td>\n",
       "      <td>43307.133571</td>\n",
       "      <td>12.571429</td>\n",
       "      <td>54.464286</td>\n",
       "      <td>502.724866</td>\n",
       "    </tr>\n",
       "  </tbody>\n",
       "</table>\n",
       "</div>"
      ],
      "text/plain": [
       "   cluster  customer_id  perc_customer  gross_revenue  recency_days  invoice_no  avg_ticket\n",
       "0        0            6       0.137520  183220.246667      7.166667   85.833333  259.668013\n",
       "1        1         4069      93.261517     946.964938     96.852789    3.617105   27.191876\n",
       "2        2          260       5.959202    8185.933731     20.384615   19.400000   65.205217\n",
       "3        3           28       0.641760   43307.133571     12.571429   54.464286  502.724866"
      ]
     },
     "execution_count": 130,
     "metadata": {},
     "output_type": "execute_result"
    }
   ],
   "source": [
    "# number of customers per cluster\n",
    "df_cluster = df11[['customer_id', 'cluster']].groupby('cluster').count().reset_index()\n",
    "\n",
    "#cluster percentage\n",
    "df_cluster ['perc_customer'] = ( df_cluster['customer_id'] / df_cluster['customer_id'].sum()) * 100\n",
    "\n",
    "#avg gross revenue\n",
    "df_avg_gross_revenue = df11[['cluster', 'gross_revenue']].groupby('cluster').mean().reset_index()\n",
    "df_cluster = pd.merge( df_cluster , df_avg_gross_revenue, how = 'inner' , on ='cluster')\n",
    "# inner: use intersection of keys from both frames, similar to a SQL inner join; \n",
    "#preserve the order of the left keys.\n",
    "\n",
    "#avg recency days\n",
    "df_avg_recency_days = df11[['recency_days', 'cluster']].groupby('cluster').mean().reset_index()\n",
    "\n",
    "df_cluster = pd.merge (df_cluster , df_avg_recency_days, how='inner', on='cluster')\n",
    "\n",
    "#avg invoice_no\n",
    "df_avg_invoice_no = df11[['cluster','invoice_no']].groupby('cluster').mean().reset_index()\n",
    "\n",
    "df_cluster = pd.merge (df_cluster, df_avg_invoice_no, how='inner', on='cluster')\n",
    "\n",
    "#avg ticket (incluído no segundo ciclo)\n",
    "df_ticket = df11[['cluster', 'avg_ticket']].groupby('cluster').mean().reset_index()\n",
    "\n",
    "df_cluster = pd.merge (df_cluster, df_ticket, how='inner', on='cluster')\n",
    "\n",
    "print ('\\nResumo:')\n",
    "df_cluster.head()"
   ]
  },
  {
   "cell_type": "markdown",
   "id": "2c26b14f",
   "metadata": {
    "ExecuteTime": {
     "end_time": "2021-07-10T23:06:41.129866Z",
     "start_time": "2021-07-10T23:06:41.114907Z"
    }
   },
   "source": [
    "Na vida real, seria feito um relatório passando esse resultado incial para o time de negócios."
   ]
  },
  {
   "cell_type": "markdown",
   "id": "72a9675f",
   "metadata": {
    "ExecuteTime": {
     "end_time": "2021-07-09T01:48:10.994672Z",
     "start_time": "2021-07-09T01:48:10.981674Z"
    }
   },
   "source": [
    "# <font color='red'>Deploy to production"
   ]
  },
  {
   "cell_type": "code",
   "execution_count": null,
   "id": "959f1de9",
   "metadata": {
    "ExecuteTime": {
     "end_time": "2021-07-09T18:59:29.165482Z",
     "start_time": "2021-07-09T18:59:29.147530Z"
    }
   },
   "outputs": [],
   "source": []
  },
  {
   "cell_type": "code",
   "execution_count": null,
   "id": "998be6eb",
   "metadata": {},
   "outputs": [],
   "source": []
  },
  {
   "cell_type": "code",
   "execution_count": null,
   "id": "02e26b1b",
   "metadata": {},
   "outputs": [],
   "source": []
  },
  {
   "cell_type": "code",
   "execution_count": null,
   "id": "699eae57",
   "metadata": {},
   "outputs": [],
   "source": []
  }
 ],
 "metadata": {
  "kernelspec": {
   "display_name": "Python 3",
   "language": "python",
   "name": "python3"
  },
  "language_info": {
   "codemirror_mode": {
    "name": "ipython",
    "version": 3
   },
   "file_extension": ".py",
   "mimetype": "text/x-python",
   "name": "python",
   "nbconvert_exporter": "python",
   "pygments_lexer": "ipython3",
   "version": "3.8.10"
  },
  "toc": {
   "base_numbering": "0",
   "nav_menu": {},
   "number_sections": true,
   "sideBar": true,
   "skip_h1_title": false,
   "title_cell": "Table of Contents",
   "title_sidebar": "Contents",
   "toc_cell": false,
   "toc_position": {},
   "toc_section_display": true,
   "toc_window_display": false
  }
 },
 "nbformat": 4,
 "nbformat_minor": 5
}
