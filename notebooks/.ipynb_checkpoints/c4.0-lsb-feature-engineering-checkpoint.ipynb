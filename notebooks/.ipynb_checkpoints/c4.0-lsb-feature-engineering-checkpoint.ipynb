{
 "cells": [
  {
   "cell_type": "markdown",
   "id": "460ce7db",
   "metadata": {
    "heading_collapsed": true
   },
   "source": [
    "# <font color='yellow'>PA005: High Value Customer Identification (Insiders)"
   ]
  },
  {
   "cell_type": "markdown",
   "id": "6771fffb",
   "metadata": {
    "heading_collapsed": true,
    "hidden": true
   },
   "source": [
    "## Imports"
   ]
  },
  {
   "cell_type": "code",
   "execution_count": 1,
   "id": "752777d1",
   "metadata": {
    "ExecuteTime": {
     "end_time": "2021-07-14T22:18:06.815863Z",
     "start_time": "2021-07-14T22:18:04.720679Z"
    },
    "hidden": true
   },
   "outputs": [],
   "source": [
    "import numpy as np\n",
    "import pandas as pd\n",
    "import seaborn as sns\n",
    "from matplotlib import pyplot as plt\n",
    "\n",
    "# pip install umap-learn senão não funciona\n",
    "\n",
    "import umap.umap_ as umap\n",
    "\n",
    "from sklearn import cluster       as c\n",
    "from sklearn import metrics       as m\n",
    "from sklearn import preprocessing as pp\n",
    "\n",
    "from IPython.core.display     import HTML\n",
    "from plotly import express as px\n",
    "from yellowbrick.cluster import KElbowVisualizer, SilhouetteVisualizer"
   ]
  },
  {
   "cell_type": "markdown",
   "id": "c04dfcef",
   "metadata": {
    "heading_collapsed": true,
    "hidden": true
   },
   "source": [
    "## Helper Functions"
   ]
  },
  {
   "cell_type": "code",
   "execution_count": 2,
   "id": "5cca2481",
   "metadata": {
    "ExecuteTime": {
     "end_time": "2021-07-14T22:18:06.846784Z",
     "start_time": "2021-07-14T22:18:06.817861Z"
    },
    "hidden": true
   },
   "outputs": [
    {
     "name": "stdout",
     "output_type": "stream",
     "text": [
      "Populating the interactive namespace from numpy and matplotlib\n"
     ]
    },
    {
     "data": {
      "text/html": [
       "<style>.container { width:100% !important; }</style>"
      ],
      "text/plain": [
       "<IPython.core.display.HTML object>"
      ]
     },
     "metadata": {},
     "output_type": "display_data"
    }
   ],
   "source": [
    "def jupyter_settings():\n",
    "    %matplotlib inline\n",
    "    %pylab inline\n",
    "    plt.style.use( 'bmh' )\n",
    "    plt.rcParams['figure.figsize'] = [25, 12]\n",
    "    plt.rcParams['font.size'] = 24\n",
    "    display( HTML( '<style>.container { width:100% !important; }</style>') )\n",
    "    pd.options.display.max_columns = None\n",
    "    pd.options.display.max_rows = None\n",
    "    pd.set_option( 'display.expand_frame_repr', False )\n",
    "    sns.set()\n",
    "jupyter_settings()"
   ]
  },
  {
   "cell_type": "code",
   "execution_count": 3,
   "id": "7e7e90a2",
   "metadata": {
    "ExecuteTime": {
     "end_time": "2021-07-14T22:18:07.385342Z",
     "start_time": "2021-07-14T22:18:06.849775Z"
    },
    "hidden": true
   },
   "outputs": [
    {
     "data": {
      "text/html": [
       "<div>\n",
       "<style scoped>\n",
       "    .dataframe tbody tr th:only-of-type {\n",
       "        vertical-align: middle;\n",
       "    }\n",
       "\n",
       "    .dataframe tbody tr th {\n",
       "        vertical-align: top;\n",
       "    }\n",
       "\n",
       "    .dataframe thead th {\n",
       "        text-align: right;\n",
       "    }\n",
       "</style>\n",
       "<table border=\"1\" class=\"dataframe\">\n",
       "  <thead>\n",
       "    <tr style=\"text-align: right;\">\n",
       "      <th></th>\n",
       "      <th>InvoiceNo</th>\n",
       "      <th>StockCode</th>\n",
       "      <th>Description</th>\n",
       "      <th>Quantity</th>\n",
       "      <th>InvoiceDate</th>\n",
       "      <th>UnitPrice</th>\n",
       "      <th>CustomerID</th>\n",
       "      <th>Country</th>\n",
       "      <th>Unnamed: 8</th>\n",
       "    </tr>\n",
       "  </thead>\n",
       "  <tbody>\n",
       "    <tr>\n",
       "      <th>0</th>\n",
       "      <td>536365</td>\n",
       "      <td>85123A</td>\n",
       "      <td>WHITE HANGING HEART T-LIGHT HOLDER</td>\n",
       "      <td>6</td>\n",
       "      <td>29-Nov-16</td>\n",
       "      <td>2.55</td>\n",
       "      <td>17850.0</td>\n",
       "      <td>United Kingdom</td>\n",
       "      <td>NaN</td>\n",
       "    </tr>\n",
       "    <tr>\n",
       "      <th>1</th>\n",
       "      <td>536365</td>\n",
       "      <td>71053</td>\n",
       "      <td>WHITE METAL LANTERN</td>\n",
       "      <td>6</td>\n",
       "      <td>29-Nov-16</td>\n",
       "      <td>3.39</td>\n",
       "      <td>17850.0</td>\n",
       "      <td>United Kingdom</td>\n",
       "      <td>NaN</td>\n",
       "    </tr>\n",
       "    <tr>\n",
       "      <th>2</th>\n",
       "      <td>536365</td>\n",
       "      <td>84406B</td>\n",
       "      <td>CREAM CUPID HEARTS COAT HANGER</td>\n",
       "      <td>8</td>\n",
       "      <td>29-Nov-16</td>\n",
       "      <td>2.75</td>\n",
       "      <td>17850.0</td>\n",
       "      <td>United Kingdom</td>\n",
       "      <td>NaN</td>\n",
       "    </tr>\n",
       "    <tr>\n",
       "      <th>3</th>\n",
       "      <td>536365</td>\n",
       "      <td>84029G</td>\n",
       "      <td>KNITTED UNION FLAG HOT WATER BOTTLE</td>\n",
       "      <td>6</td>\n",
       "      <td>29-Nov-16</td>\n",
       "      <td>3.39</td>\n",
       "      <td>17850.0</td>\n",
       "      <td>United Kingdom</td>\n",
       "      <td>NaN</td>\n",
       "    </tr>\n",
       "    <tr>\n",
       "      <th>4</th>\n",
       "      <td>536365</td>\n",
       "      <td>84029E</td>\n",
       "      <td>RED WOOLLY HOTTIE WHITE HEART.</td>\n",
       "      <td>6</td>\n",
       "      <td>29-Nov-16</td>\n",
       "      <td>3.39</td>\n",
       "      <td>17850.0</td>\n",
       "      <td>United Kingdom</td>\n",
       "      <td>NaN</td>\n",
       "    </tr>\n",
       "  </tbody>\n",
       "</table>\n",
       "</div>"
      ],
      "text/plain": [
       "  InvoiceNo StockCode                          Description  Quantity InvoiceDate  UnitPrice  CustomerID         Country  Unnamed: 8\n",
       "0    536365    85123A   WHITE HANGING HEART T-LIGHT HOLDER         6   29-Nov-16       2.55     17850.0  United Kingdom         NaN\n",
       "1    536365     71053                  WHITE METAL LANTERN         6   29-Nov-16       3.39     17850.0  United Kingdom         NaN\n",
       "2    536365    84406B       CREAM CUPID HEARTS COAT HANGER         8   29-Nov-16       2.75     17850.0  United Kingdom         NaN\n",
       "3    536365    84029G  KNITTED UNION FLAG HOT WATER BOTTLE         6   29-Nov-16       3.39     17850.0  United Kingdom         NaN\n",
       "4    536365    84029E       RED WOOLLY HOTTIE WHITE HEART.         6   29-Nov-16       3.39     17850.0  United Kingdom         NaN"
      ]
     },
     "execution_count": 3,
     "metadata": {},
     "output_type": "execute_result"
    }
   ],
   "source": [
    "# Carregando os dados\n",
    "df_raw = pd.read_csv('Ecommerce.csv')\n",
    "df_raw.head()"
   ]
  },
  {
   "cell_type": "markdown",
   "id": "7a54ac5b",
   "metadata": {
    "hidden": true
   },
   "source": [
    "## Planejamento da Solução (IOT)"
   ]
  },
  {
   "cell_type": "markdown",
   "id": "5fadf11f",
   "metadata": {
    "hidden": true
   },
   "source": [
    "### Input "
   ]
  },
  {
   "cell_type": "markdown",
   "id": "054d9946",
   "metadata": {
    "hidden": true
   },
   "source": [
    "1. Business Question\n",
    "    - Find the more valiable clients to join a fidelity program\n",
    "    - Selecionar os clientes mais valiosos para integrar um programa de Fidelização\n",
    "2. Data Set\n",
    "    - Sells of a e-commerce along one year."
   ]
  },
  {
   "cell_type": "markdown",
   "id": "b57ae555",
   "metadata": {
    "hidden": true
   },
   "source": [
    "## Output "
   ]
  },
  {
   "cell_type": "markdown",
   "id": "965f9d5a",
   "metadata": {
    "hidden": true
   },
   "source": [
    "1. A indicação das pessoas que farão parte do programa de Insiders\n",
    "    - Formato de lista: client id is / is insider\n",
    "2. Relatório\n",
    "    - Relatório com as perguntas de negócio:\n",
    "    -Quem são as pessoas elegíveis para participar do programa de Insiders ?\n",
    "    - Who are the clients elegible to join the Insiders program?\n",
    "    -Quantos clientes farão parte do grupo?\n",
    "    - How much customers will be part of the group?\n",
    "    -Quais as principais características desses clientes ?\n",
    "    - What are the mainly features of this customers?\n",
    "    -Qual a porcentagem de contribuição do faturamento, vinda do Insiders ?\n",
    "    - Which percentage of revenue comes from the Insiders?\n",
    "    -Qual a expectativa de faturamento desse grupo para os próximos meses ?\n",
    "    - How the reveneu is expected from the Insiders within the next couple of months?\n",
    "    -Quais as condições para uma pessoa ser elegível ao Insiders ?\n",
    "    -Quais as condições para uma pessoa ser removida do Insiders ?\n",
    "    -Qual a garantia que o programa Insiders é melhor que o restante da base ?\n",
    "    -Quais ações o time de marketing pode realizar para aumentar o faturamento?"
   ]
  },
  {
   "cell_type": "markdown",
   "id": "ecaaab49",
   "metadata": {
    "hidden": true
   },
   "source": [
    "## Tasks - Tarefas"
   ]
  },
  {
   "cell_type": "markdown",
   "id": "f9ee7fac",
   "metadata": {
    "hidden": true
   },
   "source": [
    "1)Quem são as pessoas elegíveis para participar do programa de Insiders ?\n",
    "\n",
    "    - O que é ser elegível? O que são os clientes de maior 'valor'? (resposta pelo time de negócio)\n",
    "    - Faturamento:\n",
    "        - Alto ticket médio\n",
    "        - Alto LTV (Life Time Value)\n",
    "        - Baixa Recência (tempo entre as compras)\n",
    "        - Alto basket size\n",
    "        - Baixa probabilidade de Churn (não renovação)\n",
    "        - Alta Previsão de LTV\n",
    "        - Alta propensão de compra\n",
    "    - Custo\n",
    "        - Baixa taxa de devolução\n",
    "    - Experiência de compra\n",
    "        - Média alta de avaliação\n",
    "        \n",
    "2)Quantos clientes farão parte do grupo?\n",
    "\n",
    "    - Número total de clientes em relação ao grupo total\n",
    "    \n",
    "3)Quais as principais características desses clientes ?\n",
    "\n",
    "    - Escrever características do cliente:\n",
    "        -Idade\n",
    "        -Localização\n",
    "    - Escrever características dos hábitos de consumo\n",
    "         - Atributos de clusterização\n",
    "    \n",
    "4)Qual a porcentagem de contribuição do faturamento, vinda do Insiders ?\n",
    "\n",
    "    - Comparar o faturamento dos Insiders em relação ao faturamento total\n",
    "    - Faturamento do grupo (leva em conta o time que toma conta do grupo)\n",
    "    \n",
    "5)Qual a expectativa de faturamento desse grupo para os próximos meses ?\n",
    "\n",
    "    - LTV do grupo de Insiders\n",
    "    - Análise de Cohort\n",
    "    \n",
    "6)Quais as condições para uma pessoa ser elegível ao Insiders ?\n",
    "\n",
    "    - Definir a periodicidade (quando o modelo vai ser rodado?)\n",
    "    - A pessoa precisa ser desimilar ou não-parecido com uma pessoa do grupo\n",
    "\n",
    "7)Quais as condições para uma pessoa ser removida do Insiders ?\n",
    "\n",
    "    - Definir a periodicidade (quando o modelo vai ser rodado?)\n",
    "    - A pessoa precisa ser similar ou parecido com uma pessoa do grupo\n",
    "    \n",
    "8)Qual a garantia que o programa Insiders é melhor que o restante da base ?\n",
    "\n",
    "    - Teste A/B\n",
    "    - Teste A/B Bayesiano\n",
    "    - Teste de hipóteses\n",
    "\n",
    "9)Quais ações o time de marketing pode realizar para aumentar o faturamento?\n",
    "\n",
    "    - Desconto\n",
    "    - preferência de compra\n",
    "    - frete\n",
    "    - visita a empresa"
   ]
  },
  {
   "cell_type": "markdown",
   "id": "b37edf54",
   "metadata": {
    "heading_collapsed": true
   },
   "source": [
    "# <font color='green'> Tratamento inicial dos dados"
   ]
  },
  {
   "cell_type": "code",
   "execution_count": 4,
   "id": "d51ae57f",
   "metadata": {
    "ExecuteTime": {
     "end_time": "2021-07-14T22:18:07.416359Z",
     "start_time": "2021-07-14T22:18:07.387339Z"
    },
    "hidden": true
   },
   "outputs": [],
   "source": [
    "df1 = df_raw.copy()"
   ]
  },
  {
   "cell_type": "code",
   "execution_count": 5,
   "id": "94230797",
   "metadata": {
    "ExecuteTime": {
     "end_time": "2021-07-14T22:18:07.478549Z",
     "start_time": "2021-07-14T22:18:07.419358Z"
    },
    "hidden": true
   },
   "outputs": [
    {
     "data": {
      "text/plain": [
       "(541909, 8)"
      ]
     },
     "execution_count": 5,
     "metadata": {},
     "output_type": "execute_result"
    }
   ],
   "source": [
    "df1 = df_raw.drop(columns=['Unnamed: 8'], axis=1) # não sabemos do que se trata essa coluna\n",
    "df1.shape"
   ]
  },
  {
   "cell_type": "markdown",
   "id": "5b8cfb47",
   "metadata": {
    "heading_collapsed": true,
    "hidden": true
   },
   "source": [
    "## Rename columns"
   ]
  },
  {
   "cell_type": "code",
   "execution_count": 6,
   "id": "1084b019",
   "metadata": {
    "ExecuteTime": {
     "end_time": "2021-07-14T22:18:07.494434Z",
     "start_time": "2021-07-14T22:18:07.479433Z"
    },
    "hidden": true
   },
   "outputs": [
    {
     "data": {
      "text/plain": [
       "Index(['InvoiceNo', 'StockCode', 'Description', 'Quantity', 'InvoiceDate',\n",
       "       'UnitPrice', 'CustomerID', 'Country'],\n",
       "      dtype='object')"
      ]
     },
     "execution_count": 6,
     "metadata": {},
     "output_type": "execute_result"
    }
   ],
   "source": [
    "df1.columns #verificação inicial dos campos e nomes das colunas"
   ]
  },
  {
   "cell_type": "code",
   "execution_count": 7,
   "id": "8d33b8d1",
   "metadata": {
    "ExecuteTime": {
     "end_time": "2021-07-14T22:18:07.510352Z",
     "start_time": "2021-07-14T22:18:07.497387Z"
    },
    "hidden": true
   },
   "outputs": [],
   "source": [
    "cols_new = ['invoice_no', 'stock_code', 'description','quantity', 'invoice_date','unit_price', 'customer_id', 'country']"
   ]
  },
  {
   "cell_type": "code",
   "execution_count": 8,
   "id": "938cd850",
   "metadata": {
    "ExecuteTime": {
     "end_time": "2021-07-14T22:18:07.526310Z",
     "start_time": "2021-07-14T22:18:07.512347Z"
    },
    "hidden": true
   },
   "outputs": [],
   "source": [
    "df1.columns = cols_new #change to snacke case"
   ]
  },
  {
   "cell_type": "markdown",
   "id": "6ac566ee",
   "metadata": {
    "heading_collapsed": true,
    "hidden": true
   },
   "source": [
    "## Data dimensions"
   ]
  },
  {
   "cell_type": "code",
   "execution_count": 9,
   "id": "7a61fc51",
   "metadata": {
    "ExecuteTime": {
     "end_time": "2021-07-14T22:18:07.542304Z",
     "start_time": "2021-07-14T22:18:07.528304Z"
    },
    "hidden": true
   },
   "outputs": [
    {
     "name": "stdout",
     "output_type": "stream",
     "text": [
      "The number of rows: 541909\n",
      "The number of columns: 8\n"
     ]
    }
   ],
   "source": [
    "print('The number of rows: {}'.format(df1.shape[0]))\n",
    "print('The number of columns: {}'.format(df1.shape[1]))"
   ]
  },
  {
   "cell_type": "markdown",
   "id": "b9235e90",
   "metadata": {
    "heading_collapsed": true,
    "hidden": true
   },
   "source": [
    "## Data Types"
   ]
  },
  {
   "cell_type": "code",
   "execution_count": 10,
   "id": "98f79cef",
   "metadata": {
    "ExecuteTime": {
     "end_time": "2021-07-14T22:18:07.558258Z",
     "start_time": "2021-07-14T22:18:07.543264Z"
    },
    "hidden": true
   },
   "outputs": [
    {
     "data": {
      "text/plain": [
       "invoice_no       object\n",
       "stock_code       object\n",
       "description      object\n",
       "quantity          int64\n",
       "invoice_date     object\n",
       "unit_price      float64\n",
       "customer_id     float64\n",
       "country          object\n",
       "dtype: object"
      ]
     },
     "execution_count": 10,
     "metadata": {},
     "output_type": "execute_result"
    }
   ],
   "source": [
    "df1.dtypes"
   ]
  },
  {
   "cell_type": "markdown",
   "id": "3018b703",
   "metadata": {
    "hidden": true
   },
   "source": [
    "As colunas invoice e stock estão como objetos. Eu imaginei que fosse só mudar, mas o professor disse que deveria haver algum registro com letras no meio pra fazer com que fosse objeto (o que me diz que de alguma forma o pandas lê os dados e decide qual tipo vai ser). Tentando forçar a mudança pra inteiro, o local onde há um problema vai ser mostrado"
   ]
  },
  {
   "cell_type": "code",
   "execution_count": 11,
   "id": "de067bab",
   "metadata": {
    "ExecuteTime": {
     "end_time": "2021-07-14T22:18:07.574183Z",
     "start_time": "2021-07-14T22:18:07.559222Z"
    },
    "hidden": true
   },
   "outputs": [],
   "source": [
    "#df1['invoice_no'] = df1['invoice_no'].astype(int)\n",
    "#tá comentado pra não parar aqui quando roda tudo"
   ]
  },
  {
   "cell_type": "markdown",
   "id": "89c2d025",
   "metadata": {
    "hidden": true
   },
   "source": [
    "'C536379' esse é o registro errado, mas ainda não é hora de tratar isso"
   ]
  },
  {
   "cell_type": "markdown",
   "id": "daa78690",
   "metadata": {
    "heading_collapsed": true,
    "hidden": true
   },
   "source": [
    "## Check NA"
   ]
  },
  {
   "cell_type": "code",
   "execution_count": 12,
   "id": "b0dd0850",
   "metadata": {
    "ExecuteTime": {
     "end_time": "2021-07-14T22:18:07.684886Z",
     "start_time": "2021-07-14T22:18:07.577175Z"
    },
    "hidden": true
   },
   "outputs": [
    {
     "data": {
      "text/plain": [
       "invoice_no           0\n",
       "stock_code           0\n",
       "description       1454\n",
       "quantity             0\n",
       "invoice_date         0\n",
       "unit_price           0\n",
       "customer_id     135080\n",
       "country              0\n",
       "dtype: int64"
      ]
     },
     "execution_count": 12,
     "metadata": {},
     "output_type": "execute_result"
    }
   ],
   "source": [
    "df1.isna().sum() #soma os NAN das colunas"
   ]
  },
  {
   "cell_type": "markdown",
   "id": "b8817776",
   "metadata": {
    "hidden": true
   },
   "source": [
    "Um número muito grande de clientes NAN. Visto que estamos fazendo um projeto justamente pra agrupar clientes, é um problema bem grande"
   ]
  },
  {
   "cell_type": "markdown",
   "id": "71084083",
   "metadata": {
    "heading_collapsed": true,
    "hidden": true
   },
   "source": [
    "## Replace NA"
   ]
  },
  {
   "cell_type": "markdown",
   "id": "e3805940",
   "metadata": {
    "hidden": true
   },
   "source": [
    "First, we will separe the dataset in two, one with the customers, and another without"
   ]
  },
  {
   "cell_type": "code",
   "execution_count": 13,
   "id": "1bacda50",
   "metadata": {
    "ExecuteTime": {
     "end_time": "2021-07-14T22:18:07.747749Z",
     "start_time": "2021-07-14T22:18:07.685883Z"
    },
    "hidden": true
   },
   "outputs": [],
   "source": [
    "df1_missing = df1[df1['customer_id'].isna()]\n",
    "df1_not_missing = df1[~df1['customer_id'].isna()]"
   ]
  },
  {
   "cell_type": "markdown",
   "id": "13804717",
   "metadata": {
    "hidden": true
   },
   "source": [
    "The main idea was search for the invoices in the missing list on the another list, and identify the customers for the invoices."
   ]
  },
  {
   "cell_type": "code",
   "execution_count": 14,
   "id": "7fe6c0c1",
   "metadata": {
    "ExecuteTime": {
     "end_time": "2021-07-14T22:18:07.778668Z",
     "start_time": "2021-07-14T22:18:07.748714Z"
    },
    "hidden": true
   },
   "outputs": [
    {
     "data": {
      "text/html": [
       "<div>\n",
       "<style scoped>\n",
       "    .dataframe tbody tr th:only-of-type {\n",
       "        vertical-align: middle;\n",
       "    }\n",
       "\n",
       "    .dataframe tbody tr th {\n",
       "        vertical-align: top;\n",
       "    }\n",
       "\n",
       "    .dataframe thead th {\n",
       "        text-align: right;\n",
       "    }\n",
       "</style>\n",
       "<table border=\"1\" class=\"dataframe\">\n",
       "  <thead>\n",
       "    <tr style=\"text-align: right;\">\n",
       "      <th></th>\n",
       "      <th>invoice_no</th>\n",
       "      <th>stock_code</th>\n",
       "      <th>description</th>\n",
       "      <th>quantity</th>\n",
       "      <th>invoice_date</th>\n",
       "      <th>unit_price</th>\n",
       "      <th>customer_id</th>\n",
       "      <th>country</th>\n",
       "    </tr>\n",
       "  </thead>\n",
       "  <tbody>\n",
       "  </tbody>\n",
       "</table>\n",
       "</div>"
      ],
      "text/plain": [
       "Empty DataFrame\n",
       "Columns: [invoice_no, stock_code, description, quantity, invoice_date, unit_price, customer_id, country]\n",
       "Index: []"
      ]
     },
     "execution_count": 14,
     "metadata": {},
     "output_type": "execute_result"
    }
   ],
   "source": [
    "missing_invoice = df1_missing['invoice_no'].drop_duplicates().tolist() # a lit with the invoices without customers\n",
    "df1_not_missing[df1_not_missing ['invoice_no'].isin(missing_invoice)]"
   ]
  },
  {
   "cell_type": "markdown",
   "id": "727c0b6e",
   "metadata": {
    "ExecuteTime": {
     "end_time": "2021-07-13T15:16:40.265940Z",
     "start_time": "2021-07-13T15:16:40.219064Z"
    },
    "hidden": true
   },
   "source": [
    "But the list returned empty. We have to try another thing. Another way is give a customer id for the missing invoices, due the identification is just a code"
   ]
  },
  {
   "cell_type": "code",
   "execution_count": 15,
   "id": "5c5c1602",
   "metadata": {
    "ExecuteTime": {
     "end_time": "2021-07-14T22:18:07.794737Z",
     "start_time": "2021-07-14T22:18:07.779633Z"
    },
    "hidden": true
   },
   "outputs": [],
   "source": [
    "df_backup = pd.DataFrame (df1_missing['invoice_no'].drop_duplicates())\n",
    "df_backup['customer_id'] = np.arange (19000, 19000 + len(df_backup)) \n",
    "# the max client number is 18287. So we decide start with 19000"
   ]
  },
  {
   "cell_type": "code",
   "execution_count": 16,
   "id": "324bd366",
   "metadata": {
    "ExecuteTime": {
     "end_time": "2021-07-14T22:18:07.998526Z",
     "start_time": "2021-07-14T22:18:07.795589Z"
    },
    "hidden": true
   },
   "outputs": [],
   "source": [
    "#merge the two data frames\n",
    "df1 = pd.merge (df1, df_backup, on = 'invoice_no', how = 'left') \n",
    "#this comand creates two  new columns in the df, witch will be dropped"
   ]
  },
  {
   "cell_type": "code",
   "execution_count": 17,
   "id": "51cbdd94",
   "metadata": {
    "ExecuteTime": {
     "end_time": "2021-07-14T22:18:08.091796Z",
     "start_time": "2021-07-14T22:18:07.999523Z"
    },
    "hidden": true
   },
   "outputs": [],
   "source": [
    "#coalesce\n",
    "\n",
    "df1['customer_id'] = df1['customer_id_x'].combine_first (df1['customer_id_y'] )\n",
    "\n",
    "df1 = df1.drop (columns = ['customer_id_x', 'customer_id_y'], axis=1)"
   ]
  },
  {
   "cell_type": "markdown",
   "id": "7a0efbdb",
   "metadata": {
    "heading_collapsed": true,
    "hidden": true
   },
   "source": [
    "## Change dtypes"
   ]
  },
  {
   "cell_type": "code",
   "execution_count": 18,
   "id": "fcf79ece",
   "metadata": {
    "ExecuteTime": {
     "end_time": "2021-07-14T22:18:08.107575Z",
     "start_time": "2021-07-14T22:18:08.092576Z"
    },
    "hidden": true
   },
   "outputs": [
    {
     "data": {
      "text/plain": [
       "invoice_no       object\n",
       "stock_code       object\n",
       "description      object\n",
       "quantity          int64\n",
       "invoice_date     object\n",
       "unit_price      float64\n",
       "country          object\n",
       "customer_id     float64\n",
       "dtype: object"
      ]
     },
     "execution_count": 18,
     "metadata": {},
     "output_type": "execute_result"
    }
   ],
   "source": [
    "df1.dtypes"
   ]
  },
  {
   "cell_type": "code",
   "execution_count": 19,
   "id": "1a1e4e09",
   "metadata": {
    "ExecuteTime": {
     "end_time": "2021-07-14T22:18:08.201288Z",
     "start_time": "2021-07-14T22:18:08.108537Z"
    },
    "hidden": true
   },
   "outputs": [],
   "source": [
    "df1['invoice_date'] = pd.to_datetime(df1['invoice_date'], format='%d-%b-%y')\n",
    "#datetime é um método que gera uma data a partir de uma string\n",
    "df1['customer_id'] = df1['customer_id'].astype(int64)"
   ]
  },
  {
   "cell_type": "markdown",
   "id": "6ed74d2b",
   "metadata": {
    "hidden": true
   },
   "source": [
    "Tem que casar o 'format' com o formato dos dados. No df esta dia-mês-ano, mas o mês está em string, por isso ele usou o '%b'(https://docs.python.org/3/library/datetime.html#strftime-and-strptime-behavior)"
   ]
  },
  {
   "cell_type": "code",
   "execution_count": 20,
   "id": "e835c697",
   "metadata": {
    "ExecuteTime": {
     "end_time": "2021-07-14T22:18:08.217277Z",
     "start_time": "2021-07-14T22:18:08.202285Z"
    },
    "hidden": true
   },
   "outputs": [
    {
     "data": {
      "text/plain": [
       "invoice_no              object\n",
       "stock_code              object\n",
       "description             object\n",
       "quantity                 int64\n",
       "invoice_date    datetime64[ns]\n",
       "unit_price             float64\n",
       "country                 object\n",
       "customer_id              int64\n",
       "dtype: object"
      ]
     },
     "execution_count": 20,
     "metadata": {},
     "output_type": "execute_result"
    }
   ],
   "source": [
    "df1.dtypes #verificando se funcionou"
   ]
  },
  {
   "cell_type": "markdown",
   "id": "a921a62c",
   "metadata": {
    "heading_collapsed": true,
    "hidden": true
   },
   "source": [
    "## Descriptive Statistics"
   ]
  },
  {
   "cell_type": "code",
   "execution_count": 21,
   "id": "ca4375c9",
   "metadata": {
    "ExecuteTime": {
     "end_time": "2021-07-14T22:18:08.264119Z",
     "start_time": "2021-07-14T22:18:08.219239Z"
    },
    "hidden": true,
    "scrolled": true
   },
   "outputs": [],
   "source": [
    "num_attributes = df1.select_dtypes ( include = ['int64', 'float64'])\n",
    "cat_attributes = df1.select_dtypes ( exclude = ['int64', 'float64', 'datetime64[ns]'])"
   ]
  },
  {
   "cell_type": "markdown",
   "id": "b0e27481",
   "metadata": {
    "ExecuteTime": {
     "end_time": "2021-07-12T17:29:26.512826Z",
     "start_time": "2021-07-12T17:29:26.503851Z"
    },
    "hidden": true
   },
   "source": [
    "### Numerical Attributes"
   ]
  },
  {
   "cell_type": "code",
   "execution_count": 22,
   "id": "c0d90a38",
   "metadata": {
    "ExecuteTime": {
     "end_time": "2021-07-14T22:18:08.405740Z",
     "start_time": "2021-07-14T22:18:08.269106Z"
    },
    "hidden": true
   },
   "outputs": [
    {
     "data": {
      "text/html": [
       "<div>\n",
       "<style scoped>\n",
       "    .dataframe tbody tr th:only-of-type {\n",
       "        vertical-align: middle;\n",
       "    }\n",
       "\n",
       "    .dataframe tbody tr th {\n",
       "        vertical-align: top;\n",
       "    }\n",
       "\n",
       "    .dataframe thead th {\n",
       "        text-align: right;\n",
       "    }\n",
       "</style>\n",
       "<table border=\"1\" class=\"dataframe\">\n",
       "  <thead>\n",
       "    <tr style=\"text-align: right;\">\n",
       "      <th></th>\n",
       "      <th>attributes</th>\n",
       "      <th>min.</th>\n",
       "      <th>max</th>\n",
       "      <th>range</th>\n",
       "      <th>mean</th>\n",
       "      <th>median</th>\n",
       "      <th>std</th>\n",
       "      <th>skew</th>\n",
       "      <th>kurtosis</th>\n",
       "    </tr>\n",
       "  </thead>\n",
       "  <tbody>\n",
       "    <tr>\n",
       "      <th>0</th>\n",
       "      <td>quantity</td>\n",
       "      <td>-80995.00</td>\n",
       "      <td>80995.0</td>\n",
       "      <td>161990.00</td>\n",
       "      <td>9.552250</td>\n",
       "      <td>3.00</td>\n",
       "      <td>218.080957</td>\n",
       "      <td>-0.264076</td>\n",
       "      <td>119769.160031</td>\n",
       "    </tr>\n",
       "    <tr>\n",
       "      <th>1</th>\n",
       "      <td>unit_price</td>\n",
       "      <td>-11062.06</td>\n",
       "      <td>38970.0</td>\n",
       "      <td>50032.06</td>\n",
       "      <td>4.611114</td>\n",
       "      <td>2.08</td>\n",
       "      <td>96.759764</td>\n",
       "      <td>186.506972</td>\n",
       "      <td>59005.719097</td>\n",
       "    </tr>\n",
       "    <tr>\n",
       "      <th>2</th>\n",
       "      <td>customer_id</td>\n",
       "      <td>12346.00</td>\n",
       "      <td>22709.0</td>\n",
       "      <td>10363.00</td>\n",
       "      <td>16688.840453</td>\n",
       "      <td>16249.00</td>\n",
       "      <td>2911.408666</td>\n",
       "      <td>0.487449</td>\n",
       "      <td>-0.804287</td>\n",
       "    </tr>\n",
       "  </tbody>\n",
       "</table>\n",
       "</div>"
      ],
      "text/plain": [
       "    attributes      min.      max      range          mean    median          std        skew       kurtosis\n",
       "0     quantity -80995.00  80995.0  161990.00      9.552250      3.00   218.080957   -0.264076  119769.160031\n",
       "1   unit_price -11062.06  38970.0   50032.06      4.611114      2.08    96.759764  186.506972   59005.719097\n",
       "2  customer_id  12346.00  22709.0   10363.00  16688.840453  16249.00  2911.408666    0.487449      -0.804287"
      ]
     },
     "execution_count": 22,
     "metadata": {},
     "output_type": "execute_result"
    }
   ],
   "source": [
    "#cental tendency - mean, median\n",
    "ct1 = pd.DataFrame ( num_attributes.apply (np.mean) ).T\n",
    "ct2 = pd.DataFrame ( num_attributes.apply (np.median)).T\n",
    "                    \n",
    "# dispersion - desvio padrão, mínimo, máximo, range, skew, kurtosis\n",
    "d1 = pd.DataFrame ( num_attributes.apply (np.std)).T\n",
    "d2 = pd.DataFrame ( num_attributes.apply (np.min)).T\n",
    "d3 = pd.DataFrame ( num_attributes.apply (np.max)).T\n",
    "d4 = pd.DataFrame ( num_attributes.apply (lambda x: x.max() - x.min())).T\n",
    "d5 = pd.DataFrame ( num_attributes.apply (lambda x: x.skew() )).T\n",
    "d6 = pd.DataFrame ( num_attributes.apply (lambda x: x.kurtosis() ) ).T\n",
    "\n",
    "#concatenate\n",
    "\n",
    "m = pd.concat ([d2,d3,d4,ct1,ct2,d1,d5,d6]).T.reset_index()\n",
    "m.columns = ['attributes', 'min.','max','range', 'mean', 'median', 'std', 'skew', 'kurtosis']\n",
    "m"
   ]
  },
  {
   "cell_type": "markdown",
   "id": "d8a6a683",
   "metadata": {
    "hidden": true
   },
   "source": [
    "#### <font color= 'fucsia' > Numerical Attributes - Investigating"
   ]
  },
  {
   "cell_type": "markdown",
   "id": "6dd4e00c",
   "metadata": {
    "ExecuteTime": {
     "end_time": "2021-07-12T17:26:35.632195Z",
     "start_time": "2021-07-12T17:26:35.616205Z"
    },
    "hidden": true
   },
   "source": [
    "1. Negative quantities (it can be devolutions)\n",
    "2. Unit price equals zero (it can be a promotion)\n",
    "\n",
    "#não é o momento de arrumar. Tem que ser feito tudo de uma vez, em uma seção, para deixar a estrutura lógica do storetelling"
   ]
  },
  {
   "cell_type": "markdown",
   "id": "f1400656",
   "metadata": {
    "ExecuteTime": {
     "end_time": "2021-07-12T15:46:08.585174Z",
     "start_time": "2021-07-12T15:46:08.571101Z"
    },
    "hidden": true
   },
   "source": [
    "### Categorical Attibutes"
   ]
  },
  {
   "cell_type": "markdown",
   "id": "1c5f3694",
   "metadata": {
    "ExecuteTime": {
     "end_time": "2021-07-12T19:02:10.862518Z",
     "start_time": "2021-07-12T19:02:10.844564Z"
    },
    "hidden": true
   },
   "source": [
    "***Invoice Number***"
   ]
  },
  {
   "cell_type": "code",
   "execution_count": 23,
   "id": "37284837",
   "metadata": {
    "ExecuteTime": {
     "end_time": "2021-07-14T22:18:08.924468Z",
     "start_time": "2021-07-14T22:18:08.407736Z"
    },
    "hidden": true
   },
   "outputs": [
    {
     "name": "stdout",
     "output_type": "stream",
     "text": [
      "Total number of invoices with letters: 9291\n",
      "Total number of invoices with negative quantity: 9291\n"
     ]
    }
   ],
   "source": [
    "#quem são os invoices que contém letras?\n",
    "df_letter_invoices = df1.loc[df1['invoice_no'].apply (lambda x: bool(re.search ( '[^0-9]+', x))), :] \n",
    "print('Total number of invoices with letters: {}'.format (len (df_letter_invoices)))\n",
    "\n",
    "print('Total number of invoices with negative quantity: {}'.format( len(df_letter_invoices['quantity'] <0)))"
   ]
  },
  {
   "cell_type": "markdown",
   "id": "3c4deeb3",
   "metadata": {
    "hidden": true
   },
   "source": [
    "Estamos assumindo que todas os pedidos com letras têm quantidade negativa, por isso serão desconsiderados. Entretanto, temos quantidades negativas no data set que não possuem letras no pedido, as quantidades estão dando diferentes, mas tentei localizar e não encontrei"
   ]
  },
  {
   "cell_type": "markdown",
   "id": "93013547",
   "metadata": {
    "ExecuteTime": {
     "end_time": "2021-07-12T19:02:10.862518Z",
     "start_time": "2021-07-12T19:02:10.844564Z"
    },
    "hidden": true
   },
   "source": [
    "***Stock Code***\n",
    "\n",
    "Não temos que fazer nenhuma conversão aqui, apenas entender a feature"
   ]
  },
  {
   "cell_type": "code",
   "execution_count": 24,
   "id": "8d0511b3",
   "metadata": {
    "ExecuteTime": {
     "end_time": "2021-07-14T22:18:09.424562Z",
     "start_time": "2021-07-14T22:18:08.925871Z"
    },
    "hidden": true
   },
   "outputs": [
    {
     "data": {
      "text/plain": [
       "array(['POST', 'D', 'DOT', 'M', 'S', 'AMAZONFEE', 'm', 'DCGSSBOY',\n",
       "       'DCGSSGIRL', 'PADS', 'B', 'CRUK'], dtype=object)"
      ]
     },
     "execution_count": 24,
     "metadata": {},
     "output_type": "execute_result"
    }
   ],
   "source": [
    "# Tipos de Registros compostos apenas por strings que aparecem no codigo de estoque \n",
    "#(como os códigos são mistos, o Meigarom procurou códigos formados apenas por strings pra encontrar sujeiras\n",
    "\n",
    "df1.loc[df1['stock_code'].apply (lambda x:bool (re.search('^[a-zA-Z]+$', x ) ) ), 'stock_code' ].unique()\n"
   ]
  },
  {
   "cell_type": "markdown",
   "id": "6e3aa5a4",
   "metadata": {
    "ExecuteTime": {
     "end_time": "2021-07-12T19:02:10.862518Z",
     "start_time": "2021-07-12T19:02:10.844564Z"
    },
    "hidden": true
   },
   "source": [
    "***Decription***\n",
    "\n",
    "Não enxergamos nada pra fazer aqui. Apenas deletar a feature"
   ]
  },
  {
   "cell_type": "markdown",
   "id": "2abfbb94",
   "metadata": {
    "ExecuteTime": {
     "end_time": "2021-07-12T19:02:10.862518Z",
     "start_time": "2021-07-12T19:02:10.844564Z"
    },
    "hidden": true
   },
   "source": [
    "***Country***"
   ]
  },
  {
   "cell_type": "code",
   "execution_count": 25,
   "id": "e3b9da54",
   "metadata": {
    "ExecuteTime": {
     "end_time": "2021-07-14T22:18:09.503211Z",
     "start_time": "2021-07-14T22:18:09.425416Z"
    },
    "hidden": true
   },
   "outputs": [
    {
     "data": {
      "text/html": [
       "<div>\n",
       "<style scoped>\n",
       "    .dataframe tbody tr th:only-of-type {\n",
       "        vertical-align: middle;\n",
       "    }\n",
       "\n",
       "    .dataframe tbody tr th {\n",
       "        vertical-align: top;\n",
       "    }\n",
       "\n",
       "    .dataframe thead th {\n",
       "        text-align: right;\n",
       "    }\n",
       "</style>\n",
       "<table border=\"1\" class=\"dataframe\">\n",
       "  <thead>\n",
       "    <tr style=\"text-align: right;\">\n",
       "      <th></th>\n",
       "      <th>country</th>\n",
       "      <th>customer_id</th>\n",
       "    </tr>\n",
       "  </thead>\n",
       "  <tbody>\n",
       "    <tr>\n",
       "      <th>36</th>\n",
       "      <td>United Kingdom</td>\n",
       "      <td>7587</td>\n",
       "    </tr>\n",
       "    <tr>\n",
       "      <th>14</th>\n",
       "      <td>Germany</td>\n",
       "      <td>95</td>\n",
       "    </tr>\n",
       "    <tr>\n",
       "      <th>13</th>\n",
       "      <td>France</td>\n",
       "      <td>90</td>\n",
       "    </tr>\n",
       "    <tr>\n",
       "      <th>10</th>\n",
       "      <td>EIRE</td>\n",
       "      <td>44</td>\n",
       "    </tr>\n",
       "    <tr>\n",
       "      <th>31</th>\n",
       "      <td>Spain</td>\n",
       "      <td>31</td>\n",
       "    </tr>\n",
       "    <tr>\n",
       "      <th>3</th>\n",
       "      <td>Belgium</td>\n",
       "      <td>25</td>\n",
       "    </tr>\n",
       "    <tr>\n",
       "      <th>33</th>\n",
       "      <td>Switzerland</td>\n",
       "      <td>24</td>\n",
       "    </tr>\n",
       "    <tr>\n",
       "      <th>27</th>\n",
       "      <td>Portugal</td>\n",
       "      <td>20</td>\n",
       "    </tr>\n",
       "    <tr>\n",
       "      <th>19</th>\n",
       "      <td>Italy</td>\n",
       "      <td>15</td>\n",
       "    </tr>\n",
       "    <tr>\n",
       "      <th>16</th>\n",
       "      <td>Hong Kong</td>\n",
       "      <td>15</td>\n",
       "    </tr>\n",
       "  </tbody>\n",
       "</table>\n",
       "</div>"
      ],
      "text/plain": [
       "           country  customer_id\n",
       "36  United Kingdom         7587\n",
       "14         Germany           95\n",
       "13          France           90\n",
       "10            EIRE           44\n",
       "31           Spain           31\n",
       "3          Belgium           25\n",
       "33     Switzerland           24\n",
       "27        Portugal           20\n",
       "19           Italy           15\n",
       "16       Hong Kong           15"
      ]
     },
     "execution_count": 25,
     "metadata": {},
     "output_type": "execute_result"
    }
   ],
   "source": [
    "#Quantos clientes temos em cada país?\n",
    "df1[['customer_id', 'country'\n",
    "     ]].drop_duplicates().groupby('country').count().reset_index().sort_values(\n",
    "         'customer_id', ascending=False).head(10)"
   ]
  },
  {
   "cell_type": "markdown",
   "id": "6a78d9cf",
   "metadata": {},
   "source": [
    "# <font color='purple'>Filtragem de Variáveis"
   ]
  },
  {
   "cell_type": "code",
   "execution_count": 26,
   "id": "7f150258",
   "metadata": {
    "ExecuteTime": {
     "end_time": "2021-07-14T22:18:09.535318Z",
     "start_time": "2021-07-14T22:18:09.504208Z"
    }
   },
   "outputs": [],
   "source": [
    "df2 = df1.copy() "
   ]
  },
  {
   "cell_type": "markdown",
   "id": "62dae0c8",
   "metadata": {},
   "source": [
    "From here, we have to take a direction. The negative values problably are from returns. We can just exclude them, exclude the in an out or we can create features for returns. From this point, we will apart the dataframe in two, one with the purchases, one just with the returns."
   ]
  },
  {
   "cell_type": "code",
   "execution_count": 27,
   "id": "3dc6df9f",
   "metadata": {
    "ExecuteTime": {
     "end_time": "2021-07-14T22:18:11.585887Z",
     "start_time": "2021-07-14T22:18:09.536317Z"
    }
   },
   "outputs": [],
   "source": [
    "#Numerical Attributes\n",
    "\n",
    "df2.loc[df2['unit_price'] > 0.04, :] #valor mais baixo que faz sentido dentro do df\n",
    "\n",
    "\n",
    "#Categorical Attributes\n",
    "\n",
    "#stock code\n",
    "\n",
    "df2= df2[~df2['stock_code'].isin (['POST', 'D', 'DOT', 'M', 'S', 'AMAZONFEE', 'm', 'DCGSSBOY', 'DCGSSGIRL', 'PADS', 'B', 'CRUK'])]\n",
    "\n",
    "#description\n",
    "\n",
    "df2 = df2.drop(columns = 'description', axis=1)\n",
    "\n",
    "#coutry\n",
    "\n",
    "df2= df2[~df2.isin(['European Community', 'Unspecified'])]\n",
    "\n",
    "\n",
    "#são numéricos, mas vamos tirar depois dos outros filtros\n",
    "#quantity\n",
    "df2_returns = df2.loc[df2['unit_price'] < 0, :]\n",
    "df2_purchases = df2.loc[df2['unit_price'] >=0, :]\n"
   ]
  },
  {
   "cell_type": "markdown",
   "id": "4829d1a1",
   "metadata": {},
   "source": [
    "# <font color='orange'>Feature Engineering"
   ]
  },
  {
   "cell_type": "code",
   "execution_count": 69,
   "id": "041ab2d0",
   "metadata": {
    "ExecuteTime": {
     "end_time": "2021-07-15T01:29:54.214917Z",
     "start_time": "2021-07-15T01:29:54.165020Z"
    }
   },
   "outputs": [],
   "source": [
    "df3 = df2.copy()\n",
    "df3_purchases = df2_purchases.copy()\n",
    "df3_returns = df2_returns.copy()"
   ]
  },
  {
   "cell_type": "markdown",
   "id": "49586648",
   "metadata": {
    "ExecuteTime": {
     "end_time": "2021-07-08T20:27:56.940498Z",
     "start_time": "2021-07-08T20:27:56.929494Z"
    }
   },
   "source": [
    "## Feature Creation"
   ]
  },
  {
   "cell_type": "code",
   "execution_count": 70,
   "id": "9fc6d840",
   "metadata": {
    "ExecuteTime": {
     "end_time": "2021-07-15T01:29:54.602420Z",
     "start_time": "2021-07-15T01:29:54.563524Z"
    }
   },
   "outputs": [
    {
     "data": {
      "text/plain": [
       "Index(['customer_id'], dtype='object')"
      ]
     },
     "execution_count": 70,
     "metadata": {},
     "output_type": "execute_result"
    }
   ],
   "source": [
    "#df_ref é um df para trabalhar\n",
    "df_ref = df3_purchases.drop(['invoice_no', 'stock_code', 'quantity', 'invoice_date','unit_price','country'], axis=1).drop_duplicates(ignore_index=True)\n",
    "#jogando tudo fora que eu não vou usar agora\n",
    "#reseta o index sem criar uma coluna nova de index\n",
    "df_ref.columns"
   ]
  },
  {
   "cell_type": "markdown",
   "id": "6b7be0f7",
   "metadata": {},
   "source": [
    "Pega as colunas cliente e gastos, agrupa os gastos por cliente e soma. Por padrão, a variável resultante do agrupamento (no caso a soma dos faturamentos) entra como novos índices, e nós queremos que entre como uma coluna de valores mesmo, uma feature nova. Por isso resetamos o índice de forma diferente do feito anteriormente"
   ]
  },
  {
   "cell_type": "markdown",
   "id": "19ed4757",
   "metadata": {},
   "source": [
    "Up to now, we use the invoice number to solve the problem of missing customers, but from now this is irrelevant"
   ]
  },
  {
   "cell_type": "code",
   "execution_count": 71,
   "id": "60b22298",
   "metadata": {
    "ExecuteTime": {
     "end_time": "2021-07-15T01:29:55.115788Z",
     "start_time": "2021-07-15T01:29:55.093818Z"
    }
   },
   "outputs": [
    {
     "data": {
      "text/html": [
       "<div>\n",
       "<style scoped>\n",
       "    .dataframe tbody tr th:only-of-type {\n",
       "        vertical-align: middle;\n",
       "    }\n",
       "\n",
       "    .dataframe tbody tr th {\n",
       "        vertical-align: top;\n",
       "    }\n",
       "\n",
       "    .dataframe thead th {\n",
       "        text-align: right;\n",
       "    }\n",
       "</style>\n",
       "<table border=\"1\" class=\"dataframe\">\n",
       "  <thead>\n",
       "    <tr style=\"text-align: right;\">\n",
       "      <th></th>\n",
       "      <th>0</th>\n",
       "      <th>1</th>\n",
       "      <th>2</th>\n",
       "      <th>3</th>\n",
       "      <th>4</th>\n",
       "      <th>5</th>\n",
       "      <th>6</th>\n",
       "      <th>7</th>\n",
       "      <th>8</th>\n",
       "      <th>9</th>\n",
       "    </tr>\n",
       "  </thead>\n",
       "  <tbody>\n",
       "    <tr>\n",
       "      <th>customer_id</th>\n",
       "      <td>17850</td>\n",
       "      <td>13047</td>\n",
       "      <td>12583</td>\n",
       "      <td>13748</td>\n",
       "      <td>15100</td>\n",
       "      <td>15291</td>\n",
       "      <td>14688</td>\n",
       "      <td>17809</td>\n",
       "      <td>15311</td>\n",
       "      <td>16098</td>\n",
       "    </tr>\n",
       "  </tbody>\n",
       "</table>\n",
       "</div>"
      ],
      "text/plain": [
       "                 0      1      2      3      4      5      6      7      8      9\n",
       "customer_id  17850  13047  12583  13748  15100  15291  14688  17809  15311  16098"
      ]
     },
     "execution_count": 71,
     "metadata": {},
     "output_type": "execute_result"
    }
   ],
   "source": [
    "df_ref.head(10).T #sobraram os clientes repetidos nos registros"
   ]
  },
  {
   "cell_type": "markdown",
   "id": "7a8a8b96",
   "metadata": {
    "ExecuteTime": {
     "end_time": "2021-07-08T17:34:19.470496Z",
     "start_time": "2021-07-08T17:34:16.078Z"
    }
   },
   "source": [
    "Até a linha 8 era o mesmo cliente, e assim por diante. Devemos resetar os indices. As operações de concatenação, por exemplo, são feitas pelos índices (por padrão). Por isso é bom resetar. O professor já concatenou tabelas sem resetar os índices e dá um erros grotescos. O comando reset index na realidade criaria uma nova coluna de indice, que teria que ser excluída depois. É melhor usar outro comando, o ignore index.\n",
    "Essa agora é a nossa tabela de referência com uma linha pra cada cliente. Todas as features serão concatenadas nela."
   ]
  },
  {
   "cell_type": "markdown",
   "id": "aafbf07d",
   "metadata": {},
   "source": [
    "  Pelo que entendi, ele vai limpando e agrupando linha a linha. Primeiro tira todos os clientes repetidos, depois agrupa os valores gastos deixando uma linha por cliente depois agrupa na coluna concatenando tudo"
   ]
  },
  {
   "cell_type": "markdown",
   "id": "d9ee60fb",
   "metadata": {},
   "source": [
    "### Gross Revenue"
   ]
  },
  {
   "cell_type": "code",
   "execution_count": 72,
   "id": "ed8e64b1",
   "metadata": {
    "ExecuteTime": {
     "end_time": "2021-07-15T01:29:56.003287Z",
     "start_time": "2021-07-15T01:29:55.948685Z"
    }
   },
   "outputs": [
    {
     "data": {
      "text/plain": [
       "customer_id      0\n",
       "gross_revenue    0\n",
       "dtype: int64"
      ]
     },
     "execution_count": 72,
     "metadata": {},
     "output_type": "execute_result"
    }
   ],
   "source": [
    "#Gross Revenue(Faturamento)\n",
    "df3_purchases['gross_revenue'] = df3_purchases['quantity'] * df3_purchases['unit_price']\n",
    "#Monetary (quanto a pessoa já gastou com a gente)\n",
    "df_monetary = df3_purchases[['customer_id','gross_revenue']].groupby('customer_id').sum().reset_index()\n",
    "df_ref = pd.merge(df_ref, df_monetary, on ='customer_id', how='left')\n",
    "#Concatena o df_ref e o df_monetary pela coluna customer id tendo a coluna da esquerda como referencia\n",
    "df_ref.isna().sum()"
   ]
  },
  {
   "cell_type": "markdown",
   "id": "8d5b1a9d",
   "metadata": {},
   "source": [
    "### Recency - Day from last purchase"
   ]
  },
  {
   "cell_type": "markdown",
   "id": "29026978",
   "metadata": {},
   "source": [
    "Recencia - Em uma situação normal, faríamos a conta utilizando uma função para a data do dia, de forma que o modelo fosse se atualizando todos os dias. No nosso caso, temos uma base fechada em um período fechado, então é mais lógico usar a última compra do data frame como parâmetro para as outras"
   ]
  },
  {
   "cell_type": "code",
   "execution_count": 73,
   "id": "9c39f092",
   "metadata": {
    "ExecuteTime": {
     "end_time": "2021-07-15T01:29:56.486209Z",
     "start_time": "2021-07-15T01:29:56.474259Z"
    }
   },
   "outputs": [
    {
     "data": {
      "text/plain": [
       "Timestamp('2017-12-07 00:00:00')"
      ]
     },
     "execution_count": 73,
     "metadata": {},
     "output_type": "execute_result"
    }
   ],
   "source": [
    "df3_purchases['invoice_date'].max() #ultima data de todos os customers"
   ]
  },
  {
   "cell_type": "code",
   "execution_count": 74,
   "id": "66c58d08",
   "metadata": {
    "ExecuteTime": {
     "end_time": "2021-07-15T01:29:56.687487Z",
     "start_time": "2021-07-15T01:29:56.644570Z"
    }
   },
   "outputs": [
    {
     "data": {
      "text/plain": [
       "customer_id     0\n",
       "invoice_date    0\n",
       "recency_days    0\n",
       "dtype: int64"
      ]
     },
     "execution_count": 74,
     "metadata": {},
     "output_type": "execute_result"
    }
   ],
   "source": [
    "df_recency = df3_purchases[['customer_id', 'invoice_date']].groupby('customer_id').max().reset_index()\n",
    "#retorna a data máxima por cliente\n",
    "df_recency['recency_days'] = df3_purchases['invoice_date'].max() - df_recency['invoice_date']\n",
    "#cria uma coluna nova com a diferença entre a data máxima do df todo e a data máxima de cada registro\n",
    "# (máxima de cada cliente filtrada no comando anterior)\n",
    "df_recency.isna().sum()"
   ]
  },
  {
   "cell_type": "code",
   "execution_count": 75,
   "id": "9ce14126",
   "metadata": {
    "ExecuteTime": {
     "end_time": "2021-07-15T01:29:56.844542Z",
     "start_time": "2021-07-15T01:29:56.835567Z"
    }
   },
   "outputs": [],
   "source": [
    "df_recency['recency_days']=(df_recency['recency_days']).dt.days # formato 'time_delta' do pandas\n",
    "#dt days pra tirar a palavra \"days\". Tem a ver com vetorização de séries no pandas"
   ]
  },
  {
   "cell_type": "code",
   "execution_count": 76,
   "id": "497f6bc1",
   "metadata": {
    "ExecuteTime": {
     "end_time": "2021-07-15T01:29:57.046780Z",
     "start_time": "2021-07-15T01:29:57.027800Z"
    }
   },
   "outputs": [
    {
     "data": {
      "text/html": [
       "<div>\n",
       "<style scoped>\n",
       "    .dataframe tbody tr th:only-of-type {\n",
       "        vertical-align: middle;\n",
       "    }\n",
       "\n",
       "    .dataframe tbody tr th {\n",
       "        vertical-align: top;\n",
       "    }\n",
       "\n",
       "    .dataframe thead th {\n",
       "        text-align: right;\n",
       "    }\n",
       "</style>\n",
       "<table border=\"1\" class=\"dataframe\">\n",
       "  <thead>\n",
       "    <tr style=\"text-align: right;\">\n",
       "      <th></th>\n",
       "      <th>customer_id</th>\n",
       "      <th>invoice_date</th>\n",
       "      <th>recency_days</th>\n",
       "    </tr>\n",
       "  </thead>\n",
       "  <tbody>\n",
       "    <tr>\n",
       "      <th>0</th>\n",
       "      <td>12346</td>\n",
       "      <td>2017-01-16</td>\n",
       "      <td>325</td>\n",
       "    </tr>\n",
       "    <tr>\n",
       "      <th>1</th>\n",
       "      <td>12347</td>\n",
       "      <td>2017-12-05</td>\n",
       "      <td>2</td>\n",
       "    </tr>\n",
       "    <tr>\n",
       "      <th>2</th>\n",
       "      <td>12348</td>\n",
       "      <td>2017-09-23</td>\n",
       "      <td>75</td>\n",
       "    </tr>\n",
       "    <tr>\n",
       "      <th>3</th>\n",
       "      <td>12349</td>\n",
       "      <td>2017-11-19</td>\n",
       "      <td>18</td>\n",
       "    </tr>\n",
       "    <tr>\n",
       "      <th>4</th>\n",
       "      <td>12350</td>\n",
       "      <td>2017-01-31</td>\n",
       "      <td>310</td>\n",
       "    </tr>\n",
       "  </tbody>\n",
       "</table>\n",
       "</div>"
      ],
      "text/plain": [
       "   customer_id invoice_date  recency_days\n",
       "0        12346   2017-01-16           325\n",
       "1        12347   2017-12-05             2\n",
       "2        12348   2017-09-23            75\n",
       "3        12349   2017-11-19            18\n",
       "4        12350   2017-01-31           310"
      ]
     },
     "execution_count": 76,
     "metadata": {},
     "output_type": "execute_result"
    }
   ],
   "source": [
    "df_recency.head() #deu certo, agora está em números e batendo as contas"
   ]
  },
  {
   "cell_type": "code",
   "execution_count": 77,
   "id": "da566c25",
   "metadata": {
    "ExecuteTime": {
     "end_time": "2021-07-15T01:29:57.251366Z",
     "start_time": "2021-07-15T01:29:57.229424Z"
    }
   },
   "outputs": [
    {
     "data": {
      "text/plain": [
       "customer_id      0\n",
       "gross_revenue    0\n",
       "recency_days     0\n",
       "dtype: int64"
      ]
     },
     "execution_count": 77,
     "metadata": {},
     "output_type": "execute_result"
    }
   ],
   "source": [
    "df_recency = df_recency[['customer_id', 'recency_days']].copy() #pra fazer uma cópia fisica\n",
    "df_ref = pd.merge(df_ref,df_recency, on ='customer_id', how='left') \n",
    "# una as tabelas ref e recency baseado no customer_id com a tabela da esquerda como referência\n",
    "df_ref.isna().sum()"
   ]
  },
  {
   "cell_type": "markdown",
   "id": "ed1f8f83",
   "metadata": {},
   "source": [
    "###  Quantity of Purchases"
   ]
  },
  {
   "cell_type": "code",
   "execution_count": 78,
   "id": "2edf4d47",
   "metadata": {
    "ExecuteTime": {
     "end_time": "2021-07-15T01:29:58.281719Z",
     "start_time": "2021-07-15T01:29:58.180867Z"
    }
   },
   "outputs": [
    {
     "data": {
      "text/plain": [
       "customer_id      0\n",
       "gross_revenue    0\n",
       "recency_days     0\n",
       "invoice_no       0\n",
       "dtype: int64"
      ]
     },
     "execution_count": 78,
     "metadata": {},
     "output_type": "execute_result"
    }
   ],
   "source": [
    "#number of purchases per customer\n",
    "df_freq = df3_purchases[['customer_id', 'invoice_no']].drop_duplicates().groupby('customer_id').count().reset_index()\n",
    "#o drop é pra tirar os invoices repetidos, o count é pra somar a quantidade de invoices de cada cliente\n",
    "#drop vem como padrão 'keep first', dropa os duplicados de todas as colunas, exceto da primeira\n",
    "df_ref = pd.merge (df_ref, df_freq, on='customer_id', how='left')\n",
    "df_ref.isna().sum()\n"
   ]
  },
  {
   "cell_type": "markdown",
   "id": "c0357d23",
   "metadata": {},
   "source": [
    "###  Quantity of Products purchased"
   ]
  },
  {
   "cell_type": "code",
   "execution_count": 79,
   "id": "c19f5b4c",
   "metadata": {
    "ExecuteTime": {
     "end_time": "2021-07-15T01:29:59.901279Z",
     "start_time": "2021-07-15T01:29:59.829112Z"
    }
   },
   "outputs": [
    {
     "data": {
      "text/plain": [
       "customer_id      0\n",
       "gross_revenue    0\n",
       "recency_days     0\n",
       "invoice_no       0\n",
       "quantity         0\n",
       "dtype: int64"
      ]
     },
     "execution_count": 79,
     "metadata": {},
     "output_type": "execute_result"
    }
   ],
   "source": [
    "#number of purchases per customer\n",
    "df_freq = df3_purchases[['customer_id', 'quantity']].drop_duplicates().groupby('customer_id').count().reset_index()\n",
    "#o drop é pra tirar os invoices repetidos, o count é pra somar a quantidade de invoices de cada cliente\n",
    "#drop vem como padrão 'keep first', dropa os duplicados de todas as colunas, exceto da primeira\n",
    "df_ref = pd.merge (df_ref, df_freq, on='customer_id', how='left')\n",
    "df_ref.isna().sum()\n"
   ]
  },
  {
   "cell_type": "markdown",
   "id": "8c06bbc8",
   "metadata": {},
   "source": [
    "### Avg Ticket Value"
   ]
  },
  {
   "cell_type": "code",
   "execution_count": 80,
   "id": "e7973872",
   "metadata": {
    "ExecuteTime": {
     "end_time": "2021-07-15T01:30:00.463453Z",
     "start_time": "2021-07-15T01:30:00.409916Z"
    }
   },
   "outputs": [
    {
     "data": {
      "text/plain": [
       "customer_id      0\n",
       "gross_revenue    0\n",
       "recency_days     0\n",
       "invoice_no       0\n",
       "quantity         0\n",
       "avg_ticket       0\n",
       "dtype: int64"
      ]
     },
     "execution_count": 80,
     "metadata": {},
     "output_type": "execute_result"
    }
   ],
   "source": [
    "#Avg Ticket\n",
    "df_avg_ticket = df3_purchases[['customer_id','gross_revenue']].groupby('customer_id').mean().reset_index().rename( columns = {'gross_revenue': 'avg_ticket'})\n",
    "df_ref = pd.merge(df_ref, df_avg_ticket, how ='left' , on='customer_id')\n",
    "df_ref.isna().sum()"
   ]
  },
  {
   "cell_type": "markdown",
   "id": "538c283b",
   "metadata": {},
   "source": [
    "###  AVG Recency Days"
   ]
  },
  {
   "cell_type": "code",
   "execution_count": 81,
   "id": "aea9eddc",
   "metadata": {
    "ExecuteTime": {
     "end_time": "2021-07-15T01:30:01.583761Z",
     "start_time": "2021-07-15T01:30:01.580774Z"
    }
   },
   "outputs": [],
   "source": [
    "#avg recency days\n",
    "df_aux = df3 #não usou o df de purchases"
   ]
  },
  {
   "cell_type": "markdown",
   "id": "84ebb713",
   "metadata": {},
   "source": [
    "### Frequency Purchase"
   ]
  },
  {
   "cell_type": "code",
   "execution_count": 82,
   "id": "7e4d761a",
   "metadata": {
    "ExecuteTime": {
     "end_time": "2021-07-15T01:30:04.033916Z",
     "start_time": "2021-07-15T01:30:02.854052Z"
    }
   },
   "outputs": [],
   "source": [
    "#This feature does not count the total time of the dataset, just the time and number of invoices between the first and last\n",
    "# purchase for each customer\n",
    "# .agg function\n",
    "df_aux = (df3_purchases[['customer_id', 'invoice_no',\n",
    "               'invoice_date']].drop_duplicates().groupby('customer_id').agg(\n",
    "                   max_=('invoice_date', 'max'), #nova coluna, sobre qual coluna, qual operação\n",
    "                   min_=('invoice_date', 'min'),\n",
    "                   days_=('invoice_date', lambda x:\n",
    "                          ((x.max() - x.min()).days) + 1),\n",
    "                   buy_=('invoice_no', 'count'))).reset_index()\n",
    "# the '1' sum is because the minimum frequency is 1. If the customer just bought one time, the date will be the same and the difference\n",
    "#will be 0\n",
    "\n",
    "#frequency\n",
    "df_aux['frequency'] = df_aux[['buy_','days_']].apply(lambda x: x['buy_'] / x['days_']if x['days_'] != 0 else 0,axis=1)\n",
    "#merge\n",
    "df_ref = pd.merge(df_ref,df_aux[['customer_id', 'frequency']],on='customer_id', how='left')"
   ]
  },
  {
   "cell_type": "code",
   "execution_count": 85,
   "id": "e245765a",
   "metadata": {
    "ExecuteTime": {
     "end_time": "2021-07-15T01:30:30.012638Z",
     "start_time": "2021-07-15T01:30:30.002722Z"
    }
   },
   "outputs": [
    {
     "data": {
      "text/plain": [
       "5.0"
      ]
     },
     "execution_count": 85,
     "metadata": {},
     "output_type": "execute_result"
    }
   ],
   "source": [
    "df_ref['frequency'].max()"
   ]
  },
  {
   "cell_type": "markdown",
   "id": "5451f358",
   "metadata": {},
   "source": [
    "### Returns"
   ]
  },
  {
   "cell_type": "markdown",
   "id": "4290c774",
   "metadata": {},
   "source": [
    "### Basket Size"
   ]
  },
  {
   "cell_type": "markdown",
   "id": "bc450c37",
   "metadata": {},
   "source": [
    "# <font color='red'>EDA(Exploratory Data Analysis)"
   ]
  },
  {
   "cell_type": "code",
   "execution_count": 44,
   "id": "03ba6cb5",
   "metadata": {
    "ExecuteTime": {
     "end_time": "2021-07-14T22:18:13.389595Z",
     "start_time": "2021-07-14T22:18:13.376631Z"
    }
   },
   "outputs": [],
   "source": [
    "df4= df_ref.copy()"
   ]
  },
  {
   "cell_type": "markdown",
   "id": "16351db3",
   "metadata": {},
   "source": [
    "# <font color='red'>Data Preparation"
   ]
  },
  {
   "cell_type": "code",
   "execution_count": 45,
   "id": "aa10e970",
   "metadata": {
    "ExecuteTime": {
     "end_time": "2021-07-14T22:18:13.404552Z",
     "start_time": "2021-07-14T22:18:13.391588Z"
    }
   },
   "outputs": [
    {
     "data": {
      "text/html": [
       "<div>\n",
       "<style scoped>\n",
       "    .dataframe tbody tr th:only-of-type {\n",
       "        vertical-align: middle;\n",
       "    }\n",
       "\n",
       "    .dataframe tbody tr th {\n",
       "        vertical-align: top;\n",
       "    }\n",
       "\n",
       "    .dataframe thead th {\n",
       "        text-align: right;\n",
       "    }\n",
       "</style>\n",
       "<table border=\"1\" class=\"dataframe\">\n",
       "  <thead>\n",
       "    <tr style=\"text-align: right;\">\n",
       "      <th></th>\n",
       "      <th>customer_id</th>\n",
       "      <th>gross_revenue</th>\n",
       "      <th>recency_days</th>\n",
       "      <th>invoice_no</th>\n",
       "      <th>quantity</th>\n",
       "      <th>avg_ticket</th>\n",
       "      <th>frequency</th>\n",
       "    </tr>\n",
       "  </thead>\n",
       "  <tbody>\n",
       "    <tr>\n",
       "      <th>0</th>\n",
       "      <td>17850</td>\n",
       "      <td>5288.63</td>\n",
       "      <td>302</td>\n",
       "      <td>35</td>\n",
       "      <td>10</td>\n",
       "      <td>16.950737</td>\n",
       "      <td>0.486111</td>\n",
       "    </tr>\n",
       "    <tr>\n",
       "      <th>1</th>\n",
       "      <td>13047</td>\n",
       "      <td>3089.10</td>\n",
       "      <td>46</td>\n",
       "      <td>16</td>\n",
       "      <td>14</td>\n",
       "      <td>15.923196</td>\n",
       "      <td>0.048780</td>\n",
       "    </tr>\n",
       "    <tr>\n",
       "      <th>2</th>\n",
       "      <td>12583</td>\n",
       "      <td>6629.34</td>\n",
       "      <td>2</td>\n",
       "      <td>17</td>\n",
       "      <td>27</td>\n",
       "      <td>28.209957</td>\n",
       "      <td>0.045699</td>\n",
       "    </tr>\n",
       "    <tr>\n",
       "      <th>3</th>\n",
       "      <td>13748</td>\n",
       "      <td>948.25</td>\n",
       "      <td>95</td>\n",
       "      <td>5</td>\n",
       "      <td>8</td>\n",
       "      <td>33.866071</td>\n",
       "      <td>0.017921</td>\n",
       "    </tr>\n",
       "    <tr>\n",
       "      <th>4</th>\n",
       "      <td>15100</td>\n",
       "      <td>635.10</td>\n",
       "      <td>330</td>\n",
       "      <td>6</td>\n",
       "      <td>5</td>\n",
       "      <td>105.850000</td>\n",
       "      <td>0.136364</td>\n",
       "    </tr>\n",
       "  </tbody>\n",
       "</table>\n",
       "</div>"
      ],
      "text/plain": [
       "   customer_id  gross_revenue  recency_days  invoice_no  quantity  avg_ticket  frequency\n",
       "0        17850        5288.63           302          35        10   16.950737   0.486111\n",
       "1        13047        3089.10            46          16        14   15.923196   0.048780\n",
       "2        12583        6629.34             2          17        27   28.209957   0.045699\n",
       "3        13748         948.25            95           5         8   33.866071   0.017921\n",
       "4        15100         635.10           330           6         5  105.850000   0.136364"
      ]
     },
     "execution_count": 45,
     "metadata": {},
     "output_type": "execute_result"
    }
   ],
   "source": [
    "df5= df4.copy()\n",
    "df5.head()"
   ]
  },
  {
   "cell_type": "markdown",
   "id": "904cc65e",
   "metadata": {},
   "source": [
    "Nessa seção vamos reescalar os dados pra melhorar o aprendizado"
   ]
  },
  {
   "cell_type": "code",
   "execution_count": 46,
   "id": "901ddd48",
   "metadata": {
    "ExecuteTime": {
     "end_time": "2021-07-14T22:18:13.435470Z",
     "start_time": "2021-07-14T22:18:13.407545Z"
    }
   },
   "outputs": [],
   "source": [
    "## Standard Scaler\n",
    "ss = pp.StandardScaler()\n",
    "df5['groos_revenue']  = ss.fit_transform ( df5 [ ['gross_revenue' ] ] ) #tem que passar um array, por isso o colchete duplo\n",
    "df5['recency_days']   = ss.fit_transform ( df5 [ ['recency_days'  ] ] )\n",
    "df5['invoice_no']     = ss.fit_transform ( df5 [ ['invoice_no'    ] ] )\n",
    "df5['avg_ticket']     = ss.fit_transform ( df5 [ ['avg_ticket'    ] ] )       "
   ]
  },
  {
   "cell_type": "markdown",
   "id": "e54ab74b",
   "metadata": {},
   "source": [
    "# <font color='red'>Feature Selection"
   ]
  },
  {
   "cell_type": "code",
   "execution_count": 47,
   "id": "f81ce6d7",
   "metadata": {
    "ExecuteTime": {
     "end_time": "2021-07-14T22:18:13.451427Z",
     "start_time": "2021-07-14T22:18:13.437465Z"
    }
   },
   "outputs": [],
   "source": [
    "df6= df5.copy()"
   ]
  },
  {
   "cell_type": "markdown",
   "id": "54063b42",
   "metadata": {},
   "source": [
    "# <font color='red'>Hyperparameter Fine-Tunning"
   ]
  },
  {
   "cell_type": "code",
   "execution_count": 48,
   "id": "f953b86f",
   "metadata": {
    "ExecuteTime": {
     "end_time": "2021-07-14T22:18:13.467425Z",
     "start_time": "2021-07-14T22:18:13.453422Z"
    }
   },
   "outputs": [],
   "source": [
    "df7 = df6.copy()"
   ]
  },
  {
   "cell_type": "code",
   "execution_count": 49,
   "id": "c6527408",
   "metadata": {
    "ExecuteTime": {
     "end_time": "2021-07-14T22:18:13.483342Z",
     "start_time": "2021-07-14T22:18:13.469379Z"
    }
   },
   "outputs": [],
   "source": [
    "X = df7.drop(columns='customer_id') # não precisamos do cliente agora"
   ]
  },
  {
   "cell_type": "code",
   "execution_count": 50,
   "id": "d07db7ef",
   "metadata": {
    "ExecuteTime": {
     "end_time": "2021-07-14T22:18:13.499301Z",
     "start_time": "2021-07-14T22:18:13.485337Z"
    }
   },
   "outputs": [
    {
     "data": {
      "text/html": [
       "<div>\n",
       "<style scoped>\n",
       "    .dataframe tbody tr th:only-of-type {\n",
       "        vertical-align: middle;\n",
       "    }\n",
       "\n",
       "    .dataframe tbody tr th {\n",
       "        vertical-align: top;\n",
       "    }\n",
       "\n",
       "    .dataframe thead th {\n",
       "        text-align: right;\n",
       "    }\n",
       "</style>\n",
       "<table border=\"1\" class=\"dataframe\">\n",
       "  <thead>\n",
       "    <tr style=\"text-align: right;\">\n",
       "      <th></th>\n",
       "      <th>gross_revenue</th>\n",
       "      <th>recency_days</th>\n",
       "      <th>invoice_no</th>\n",
       "      <th>quantity</th>\n",
       "      <th>avg_ticket</th>\n",
       "      <th>frequency</th>\n",
       "      <th>groos_revenue</th>\n",
       "    </tr>\n",
       "  </thead>\n",
       "  <tbody>\n",
       "    <tr>\n",
       "      <th>0</th>\n",
       "      <td>5288.63</td>\n",
       "      <td>1.487155</td>\n",
       "      <td>4.512780</td>\n",
       "      <td>10</td>\n",
       "      <td>-0.016243</td>\n",
       "      <td>0.486111</td>\n",
       "      <td>0.642572</td>\n",
       "    </tr>\n",
       "    <tr>\n",
       "      <th>1</th>\n",
       "      <td>3089.10</td>\n",
       "      <td>-0.753779</td>\n",
       "      <td>1.815831</td>\n",
       "      <td>14</td>\n",
       "      <td>-0.023701</td>\n",
       "      <td>0.048780</td>\n",
       "      <td>0.293511</td>\n",
       "    </tr>\n",
       "    <tr>\n",
       "      <th>2</th>\n",
       "      <td>6629.34</td>\n",
       "      <td>-1.138939</td>\n",
       "      <td>1.957776</td>\n",
       "      <td>27</td>\n",
       "      <td>0.065471</td>\n",
       "      <td>0.045699</td>\n",
       "      <td>0.855340</td>\n",
       "    </tr>\n",
       "    <tr>\n",
       "      <th>3</th>\n",
       "      <td>948.25</td>\n",
       "      <td>-0.324850</td>\n",
       "      <td>0.254440</td>\n",
       "      <td>8</td>\n",
       "      <td>0.106521</td>\n",
       "      <td>0.017921</td>\n",
       "      <td>-0.046238</td>\n",
       "    </tr>\n",
       "    <tr>\n",
       "      <th>4</th>\n",
       "      <td>635.10</td>\n",
       "      <td>1.732257</td>\n",
       "      <td>0.396385</td>\n",
       "      <td>5</td>\n",
       "      <td>0.628950</td>\n",
       "      <td>0.136364</td>\n",
       "      <td>-0.095934</td>\n",
       "    </tr>\n",
       "  </tbody>\n",
       "</table>\n",
       "</div>"
      ],
      "text/plain": [
       "   gross_revenue  recency_days  invoice_no  quantity  avg_ticket  frequency  groos_revenue\n",
       "0        5288.63      1.487155    4.512780        10   -0.016243   0.486111       0.642572\n",
       "1        3089.10     -0.753779    1.815831        14   -0.023701   0.048780       0.293511\n",
       "2        6629.34     -1.138939    1.957776        27    0.065471   0.045699       0.855340\n",
       "3         948.25     -0.324850    0.254440         8    0.106521   0.017921      -0.046238\n",
       "4         635.10      1.732257    0.396385         5    0.628950   0.136364      -0.095934"
      ]
     },
     "execution_count": 50,
     "metadata": {},
     "output_type": "execute_result"
    }
   ],
   "source": [
    "X.head()"
   ]
  },
  {
   "cell_type": "markdown",
   "id": "a5035e18",
   "metadata": {},
   "source": [
    "Para modelos de clusterização, não temos o valor de clusters (K), via de regra esse input é do analista. Hiperparametro são \n",
    "paramentros livres, que o analista escolhe"
   ]
  },
  {
   "cell_type": "markdown",
   "id": "d0154dcf",
   "metadata": {},
   "source": [
    "Inicialmente fazemos um tipo de pré treino, porque não sabemos qual o K que maximiza nosso modelo. O Meigarom fez meio que um treinamento na \"mão\" iterando pra achar o melhor K para o modelo e depois colocar pra treinar de verdade"
   ]
  },
  {
   "cell_type": "code",
   "execution_count": 51,
   "id": "40246fff",
   "metadata": {
    "ExecuteTime": {
     "end_time": "2021-07-14T22:18:13.515256Z",
     "start_time": "2021-07-14T22:18:13.501294Z"
    }
   },
   "outputs": [],
   "source": [
    "clusters = [2,3,4,5,6,7] # vetor de clusters que serão testados. Depois a métrica diz qual vai ser o melhor\n",
    "#incluído o 7 no ciclo 2"
   ]
  },
  {
   "cell_type": "markdown",
   "id": "47a7569a",
   "metadata": {
    "ExecuteTime": {
     "end_time": "2021-07-08T22:47:53.635030Z",
     "start_time": "2021-07-08T22:47:53.621038Z"
    }
   },
   "source": [
    "## Within-Cluster Sum of Square (WSS)"
   ]
  },
  {
   "cell_type": "markdown",
   "id": "19a8753f",
   "metadata": {},
   "source": [
    "    A métrica wss é utilizada para encontrar qual o numero de clusters (dentro da quantidade que escolhemos pra treinar o modelo) é o melhor para resolver o problema, por isso plotamos wss X k.\n",
    "    Essa métrica soma as distâncias DENTRO dos clusters, não entre os clusters, o que pode ser um problema."
   ]
  },
  {
   "cell_type": "code",
   "execution_count": 52,
   "id": "9cc42363",
   "metadata": {
    "ExecuteTime": {
     "end_time": "2021-07-14T22:18:16.412503Z",
     "start_time": "2021-07-14T22:18:13.516253Z"
    }
   },
   "outputs": [
    {
     "data": {
      "image/png": "[encoded data removed]",
      "text/plain": [
       "<Figure size 1800x864 with 1 Axes>"
      ]
     },
     "metadata": {},
     "output_type": "display_data"
    }
   ],
   "source": [
    "#implementando do modo roots (depois dá pra usar uma solução pronta)\n",
    "wss = []\n",
    "for k in clusters:\n",
    "    #model definition\n",
    "    kmeans = c.KMeans (init='random', n_clusters=k, n_init=10, max_iter=300, random_state=42)\n",
    "    #model training\n",
    "    kmeans.fit(X)\n",
    "    #validation\n",
    "    wss.append(kmeans.inertia_) #ws é uma métrica de validação\n",
    "#plot wss\n",
    "plt.plot(clusters, wss, linestyle='--', marker='o', color='b'); #não entendi o pq do ponto e vírgula\n",
    "plt.xlabel('K');\n",
    "plt.ylabel('Within-Clster Sum of Square');\n",
    "plt.title('WSS vs. K');"
   ]
  },
  {
   "cell_type": "code",
   "execution_count": 53,
   "id": "2b128da5",
   "metadata": {
    "ExecuteTime": {
     "end_time": "2021-07-14T22:18:17.866777Z",
     "start_time": "2021-07-14T22:18:16.413502Z"
    },
    "scrolled": true
   },
   "outputs": [
    {
     "data": {
      "image/png": "[encoded data removed]",
      "text/plain": [
       "<Figure size 1800x864 with 1 Axes>"
      ]
     },
     "metadata": {},
     "output_type": "display_data"
    },
    {
     "data": {
      "text/plain": [
       "<AxesSubplot:title={'center':'Distortion Score Elbow for KMeans Clustering'}, xlabel='k', ylabel='distortion score'>"
      ]
     },
     "execution_count": 53,
     "metadata": {},
     "output_type": "execute_result"
    }
   ],
   "source": [
    "#forma mais elegante\n",
    "\n",
    "kmeans = KElbowVisualizer (c.KMeans(), k=clusters, timings=False)\n",
    "kmeans.fit(X)\n",
    "kmeans.show()                         "
   ]
  },
  {
   "cell_type": "markdown",
   "id": "f175e0e7",
   "metadata": {
    "ExecuteTime": {
     "end_time": "2021-07-08T22:47:55.550557Z",
     "start_time": "2021-07-08T22:47:55.536594Z"
    }
   },
   "source": [
    "## Silhouette Score"
   ]
  },
  {
   "cell_type": "markdown",
   "id": "701b1bf4",
   "metadata": {},
   "source": [
    "Após identificar o número provável de clusters (após o K-means), o metodo Silhouette mede a distância de todos os pontos dentro do cluster e tira a média, e depois mede em relação aos outros clusters.\n",
    "A silhoueta é boa para identifcar outliers"
   ]
  },
  {
   "cell_type": "code",
   "execution_count": 54,
   "id": "2018a62f",
   "metadata": {
    "ExecuteTime": {
     "end_time": "2021-07-14T22:18:25.924025Z",
     "start_time": "2021-07-14T22:18:17.868774Z"
    }
   },
   "outputs": [
    {
     "data": {
      "image/png": "[encoded data removed]",
      "text/plain": [
       "<Figure size 1800x864 with 1 Axes>"
      ]
     },
     "metadata": {},
     "output_type": "display_data"
    },
    {
     "data": {
      "text/plain": [
       "<AxesSubplot:title={'center':'Silhouette Score Elbow for KMeans Clustering'}, xlabel='k', ylabel='silhouette score'>"
      ]
     },
     "execution_count": 54,
     "metadata": {},
     "output_type": "execute_result"
    }
   ],
   "source": [
    "from yellowbrick.cluster import KElbowVisualizer\n",
    "kmeans = KElbowVisualizer (c.KMeans(), k=clusters, metric='silhouette', timings=False)\n",
    "kmeans.fit(X)\n",
    "kmeans.show()                      "
   ]
  },
  {
   "cell_type": "markdown",
   "id": "b3efab8e",
   "metadata": {
    "ExecuteTime": {
     "end_time": "2021-07-09T20:00:35.255181Z",
     "start_time": "2021-07-09T20:00:35.242185Z"
    }
   },
   "source": [
    "### Silhouette Analisys"
   ]
  },
  {
   "cell_type": "code",
   "execution_count": 55,
   "id": "9a8fbf2d",
   "metadata": {
    "ExecuteTime": {
     "end_time": "2021-07-14T22:18:42.877838Z",
     "start_time": "2021-07-14T22:18:25.924985Z"
    },
    "scrolled": true
   },
   "outputs": [
    {
     "data": {
      "image/png": "[encoded data removed]",
      "text/plain": [
       "<Figure size 1800x1296 with 6 Axes>"
      ]
     },
     "metadata": {},
     "output_type": "display_data"
    }
   ],
   "source": [
    "fig, ax = plt.subplots (3,2, figsize=(25,18))\n",
    "\n",
    "for k in clusters:\n",
    "    km = c.KMeans (n_clusters = k , init='random', n_init=10, max_iter=100, random_state=42)\n",
    "    q,mod = divmod(k,2)\n",
    "    visualizer = SilhouetteVisualizer (km, colors = 'yellowbrick', ax=ax[q-1][mod])\n",
    "    visualizer.fit (X)\n",
    "    visualizer.finalize()"
   ]
  },
  {
   "cell_type": "markdown",
   "id": "70678ec6",
   "metadata": {},
   "source": [
    "# <font color='red'>Model Training"
   ]
  },
  {
   "cell_type": "markdown",
   "id": "65bdf69c",
   "metadata": {},
   "source": [
    "## K-Means"
   ]
  },
  {
   "cell_type": "code",
   "execution_count": 56,
   "id": "9195cc9e",
   "metadata": {
    "ExecuteTime": {
     "end_time": "2021-07-14T22:18:43.144093Z",
     "start_time": "2021-07-14T22:18:42.878835Z"
    }
   },
   "outputs": [],
   "source": [
    "# model definition\n",
    "k=3\n",
    "kmeans = c.KMeans (init = 'random' , n_clusters= k, n_init = 10, max_iter=300)\n",
    "# model training\n",
    "kmeans.fit (X)\n",
    "# clustering\n",
    "labels = kmeans.labels_ # gera um número para cada cluster, vamos usar para identificar/descrever"
   ]
  },
  {
   "cell_type": "markdown",
   "id": "f4291436",
   "metadata": {
    "ExecuteTime": {
     "end_time": "2021-07-09T16:31:54.592587Z",
     "start_time": "2021-07-09T16:31:54.578656Z"
    }
   },
   "source": [
    "## Cluster Validation"
   ]
  },
  {
   "cell_type": "code",
   "execution_count": 57,
   "id": "f56b4a00",
   "metadata": {
    "ExecuteTime": {
     "end_time": "2021-07-14T22:18:43.583648Z",
     "start_time": "2021-07-14T22:18:43.147085Z"
    }
   },
   "outputs": [
    {
     "name": "stdout",
     "output_type": "stream",
     "text": [
      "WSS value: 59546912840.94757 \n",
      "\n"
     ]
    },
    {
     "ename": "AttributeError",
     "evalue": "'DataFrame' object has no attribute 'silhouette_score'",
     "output_type": "error",
     "traceback": [
      "\u001b[1;31m---------------------------------------------------------------------------\u001b[0m",
      "\u001b[1;31mAttributeError\u001b[0m                            Traceback (most recent call last)",
      "\u001b[1;32m<ipython-input-57-dce603c8d413>\u001b[0m in \u001b[0;36m<module>\u001b[1;34m\u001b[0m\n\u001b[0;32m      2\u001b[0m \u001b[0mprint\u001b[0m\u001b[1;33m(\u001b[0m \u001b[1;34m'WSS value: {} \\n'\u001b[0m\u001b[1;33m.\u001b[0m\u001b[0mformat\u001b[0m \u001b[1;33m(\u001b[0m\u001b[0mkmeans\u001b[0m\u001b[1;33m.\u001b[0m\u001b[0minertia_\u001b[0m\u001b[1;33m)\u001b[0m\u001b[1;33m)\u001b[0m\u001b[1;33m\u001b[0m\u001b[1;33m\u001b[0m\u001b[0m\n\u001b[0;32m      3\u001b[0m \u001b[1;31m#SS\u001b[0m\u001b[1;33m\u001b[0m\u001b[1;33m\u001b[0m\u001b[1;33m\u001b[0m\u001b[0m\n\u001b[1;32m----> 4\u001b[1;33m \u001b[0mprint\u001b[0m \u001b[1;33m(\u001b[0m \u001b[1;34m'Silhouette Score {}'\u001b[0m\u001b[1;33m.\u001b[0m\u001b[0mformat\u001b[0m\u001b[1;33m(\u001b[0m \u001b[0mm\u001b[0m\u001b[1;33m.\u001b[0m\u001b[0msilhouette_score\u001b[0m \u001b[1;33m(\u001b[0m \u001b[0mX\u001b[0m \u001b[1;33m,\u001b[0m \u001b[0mlabels\u001b[0m\u001b[1;33m,\u001b[0m \u001b[0mmetric\u001b[0m \u001b[1;33m=\u001b[0m \u001b[1;34m'euclidean'\u001b[0m\u001b[1;33m)\u001b[0m \u001b[1;33m)\u001b[0m \u001b[1;33m)\u001b[0m\u001b[1;33m\u001b[0m\u001b[1;33m\u001b[0m\u001b[0m\n\u001b[0m",
      "\u001b[1;32m~\\anaconda3\\envs\\pa005\\lib\\site-packages\\pandas\\core\\generic.py\u001b[0m in \u001b[0;36m__getattr__\u001b[1;34m(self, name)\u001b[0m\n\u001b[0;32m   5463\u001b[0m             \u001b[1;32mif\u001b[0m \u001b[0mself\u001b[0m\u001b[1;33m.\u001b[0m\u001b[0m_info_axis\u001b[0m\u001b[1;33m.\u001b[0m\u001b[0m_can_hold_identifiers_and_holds_name\u001b[0m\u001b[1;33m(\u001b[0m\u001b[0mname\u001b[0m\u001b[1;33m)\u001b[0m\u001b[1;33m:\u001b[0m\u001b[1;33m\u001b[0m\u001b[1;33m\u001b[0m\u001b[0m\n\u001b[0;32m   5464\u001b[0m                 \u001b[1;32mreturn\u001b[0m \u001b[0mself\u001b[0m\u001b[1;33m[\u001b[0m\u001b[0mname\u001b[0m\u001b[1;33m]\u001b[0m\u001b[1;33m\u001b[0m\u001b[1;33m\u001b[0m\u001b[0m\n\u001b[1;32m-> 5465\u001b[1;33m             \u001b[1;32mreturn\u001b[0m \u001b[0mobject\u001b[0m\u001b[1;33m.\u001b[0m\u001b[0m__getattribute__\u001b[0m\u001b[1;33m(\u001b[0m\u001b[0mself\u001b[0m\u001b[1;33m,\u001b[0m \u001b[0mname\u001b[0m\u001b[1;33m)\u001b[0m\u001b[1;33m\u001b[0m\u001b[1;33m\u001b[0m\u001b[0m\n\u001b[0m\u001b[0;32m   5466\u001b[0m \u001b[1;33m\u001b[0m\u001b[0m\n\u001b[0;32m   5467\u001b[0m     \u001b[1;32mdef\u001b[0m \u001b[0m__setattr__\u001b[0m\u001b[1;33m(\u001b[0m\u001b[0mself\u001b[0m\u001b[1;33m,\u001b[0m \u001b[0mname\u001b[0m\u001b[1;33m:\u001b[0m \u001b[0mstr\u001b[0m\u001b[1;33m,\u001b[0m \u001b[0mvalue\u001b[0m\u001b[1;33m)\u001b[0m \u001b[1;33m->\u001b[0m \u001b[1;32mNone\u001b[0m\u001b[1;33m:\u001b[0m\u001b[1;33m\u001b[0m\u001b[1;33m\u001b[0m\u001b[0m\n",
      "\u001b[1;31mAttributeError\u001b[0m: 'DataFrame' object has no attribute 'silhouette_score'"
     ]
    }
   ],
   "source": [
    "#WSS\n",
    "print( 'WSS value: {} \\n'.format (kmeans.inertia_))\n",
    "#SS\n",
    "print ( 'Silhouette Score {}'.format( m.silhouette_score ( X , labels, metric = 'euclidean') ) )"
   ]
  },
  {
   "cell_type": "markdown",
   "id": "5eb3b784",
   "metadata": {
    "heading_collapsed": true
   },
   "source": [
    "# <font color='red'>Cluster Analysis"
   ]
  },
  {
   "cell_type": "markdown",
   "id": "77994660",
   "metadata": {
    "ExecuteTime": {
     "end_time": "2021-07-09T14:46:18.495596Z",
     "start_time": "2021-07-09T14:46:18.480636Z"
    },
    "hidden": true
   },
   "source": [
    "Não podemos simplesmente encontrar metricas boas e entregar o resultado. Precisamos analisar os clusters (quem são? O que fazem? do que se alimentam?) e usar nossa capacidade analítica pra ver se tudo isso faz algum sentido"
   ]
  },
  {
   "cell_type": "code",
   "execution_count": null,
   "id": "b7605298",
   "metadata": {
    "ExecuteTime": {
     "end_time": "2021-07-14T22:18:43.584506Z",
     "start_time": "2021-07-14T22:18:04.902Z"
    },
    "hidden": true
   },
   "outputs": [],
   "source": [
    "df11 = df_ref.copy()\n",
    "df11['cluster'] = labels #como saber se o array labels já está na ordem correta?"
   ]
  },
  {
   "cell_type": "markdown",
   "id": "5a7fc711",
   "metadata": {
    "ExecuteTime": {
     "end_time": "2021-07-09T16:39:23.793320Z",
     "start_time": "2021-07-09T16:39:23.788332Z"
    },
    "hidden": true
   },
   "source": [
    "## Visualization Inspect"
   ]
  },
  {
   "cell_type": "markdown",
   "id": "97be3b89",
   "metadata": {
    "hidden": true
   },
   "source": [
    "Up to 3 dimensions, it can be ploted. More than this, we need dimensionality reduction techniques"
   ]
  },
  {
   "cell_type": "code",
   "execution_count": null,
   "id": "b3bcb2e2",
   "metadata": {
    "ExecuteTime": {
     "end_time": "2021-07-14T22:18:43.585502Z",
     "start_time": "2021-07-14T22:18:04.906Z"
    },
    "hidden": true
   },
   "outputs": [],
   "source": [
    "# No segundo ciclo já não faz mais sentido\n",
    "# fig = px.scatter_3d (df11, x ='recency_days', y= 'invoice_no' , z= 'gross_revenue', color = 'cluster')\n",
    "# fig.show()"
   ]
  },
  {
   "cell_type": "code",
   "execution_count": null,
   "id": "666511ca",
   "metadata": {
    "ExecuteTime": {
     "end_time": "2021-07-14T22:18:43.586500Z",
     "start_time": "2021-07-14T22:18:04.909Z"
    },
    "hidden": true
   },
   "outputs": [],
   "source": [
    "visualizer = SilhouetteVisualizer (kmeans , colors = 'yellowbrick')\n",
    "visualizer.fit(X)\n",
    "visualizer.finalize()"
   ]
  },
  {
   "cell_type": "markdown",
   "id": "c19180a9",
   "metadata": {
    "ExecuteTime": {
     "end_time": "2021-07-09T20:49:19.655838Z",
     "start_time": "2021-07-09T20:49:19.638883Z"
    },
    "hidden": true
   },
   "source": [
    "## 2d Plot\n"
   ]
  },
  {
   "cell_type": "code",
   "execution_count": null,
   "id": "b1bdeced",
   "metadata": {
    "ExecuteTime": {
     "end_time": "2021-07-14T22:18:43.586500Z",
     "start_time": "2021-07-14T22:18:04.911Z"
    },
    "hidden": true
   },
   "outputs": [],
   "source": [
    "#plot 2 a 2 \n",
    "df_viz = df11.drop(columns='customer_id', axis = 1)\n",
    "sns.pairplot(df_viz, hue='cluster')\n",
    "#Agora não vai servir pra muita coisa"
   ]
  },
  {
   "cell_type": "markdown",
   "id": "6dab8793",
   "metadata": {
    "hidden": true
   },
   "source": [
    "## UMAP"
   ]
  },
  {
   "cell_type": "code",
   "execution_count": null,
   "id": "388343fd",
   "metadata": {
    "ExecuteTime": {
     "end_time": "2021-07-14T22:18:43.587497Z",
     "start_time": "2021-07-14T22:18:04.914Z"
    },
    "hidden": true
   },
   "outputs": [],
   "source": [
    "reducer = umap.UMAP( n_neighbors= 100, random_state = 42)\n",
    "#n_neighbors é um parâmetro livre que deve ser estudado melhor, pois influi MUITO no resultado\n",
    "embedding = reducer.fit_transform (X)\n",
    "#embedding\n",
    "df_viz['embedding_x'] = embedding[:,0]\n",
    "df_viz['embedding_y'] = embedding[:,1]\n",
    "\n",
    "#plot Umap\n",
    "sns.scatterplot(x='embedding_x' , y='embedding_y', hue='cluster', \n",
    "                palette = sns.color_palette('hls', n_colors = len(df_viz['cluster'].unique() ) ),\n",
    "                data = df_viz)"
   ]
  },
  {
   "cell_type": "markdown",
   "id": "6b1e3cda",
   "metadata": {
    "hidden": true
   },
   "source": [
    "## Cluster Profile"
   ]
  },
  {
   "cell_type": "code",
   "execution_count": null,
   "id": "7f309313",
   "metadata": {
    "ExecuteTime": {
     "end_time": "2021-07-14T22:18:43.588516Z",
     "start_time": "2021-07-14T22:18:04.917Z"
    },
    "hidden": true
   },
   "outputs": [],
   "source": [
    "# number of customers per cluster\n",
    "df_cluster = df11[['customer_id', 'cluster']].groupby('cluster').count().reset_index()\n",
    "\n",
    "#cluster percentage\n",
    "df_cluster ['perc_customer'] = ( df_cluster['customer_id'] / df_cluster['customer_id'].sum()) * 100\n",
    "\n",
    "#avg gross revenue\n",
    "df_avg_gross_revenue = df11[['cluster', 'gross_revenue']].groupby('cluster').mean().reset_index()\n",
    "df_cluster = pd.merge( df_cluster , df_avg_gross_revenue, how = 'inner' , on ='cluster')\n",
    "# inner: use intersection of keys from both frames, similar to a SQL inner join; \n",
    "#preserve the order of the left keys.\n",
    "\n",
    "#avg recency days\n",
    "df_avg_recency_days = df11[['recency_days', 'cluster']].groupby('cluster').mean().reset_index()\n",
    "\n",
    "df_cluster = pd.merge (df_cluster , df_avg_recency_days, how='inner', on='cluster')\n",
    "\n",
    "#avg invoice_no\n",
    "df_avg_invoice_no = df11[['cluster','invoice_no']].groupby('cluster').mean().reset_index()\n",
    "\n",
    "df_cluster = pd.merge (df_cluster, df_avg_invoice_no, how='inner', on='cluster')\n",
    "\n",
    "#avg ticket (incluído no segundo ciclo)\n",
    "df_ticket = df11[['cluster', 'avg_ticket']].groupby('cluster').mean().reset_index()\n",
    "\n",
    "df_cluster = pd.merge (df_cluster, df_ticket, how='inner', on='cluster')\n",
    "\n",
    "print ('\\nResumo:')\n",
    "df_cluster.head()"
   ]
  },
  {
   "cell_type": "markdown",
   "id": "2c26b14f",
   "metadata": {
    "ExecuteTime": {
     "end_time": "2021-07-10T23:06:41.129866Z",
     "start_time": "2021-07-10T23:06:41.114907Z"
    },
    "hidden": true
   },
   "source": [
    "Na vida real, seria feito um relatório passando esse resultado incial para o time de negócios."
   ]
  },
  {
   "cell_type": "markdown",
   "id": "72a9675f",
   "metadata": {
    "ExecuteTime": {
     "end_time": "2021-07-09T01:48:10.994672Z",
     "start_time": "2021-07-09T01:48:10.981674Z"
    }
   },
   "source": [
    "# <font color='red'>Deploy to production"
   ]
  },
  {
   "cell_type": "code",
   "execution_count": null,
   "id": "959f1de9",
   "metadata": {
    "ExecuteTime": {
     "end_time": "2021-07-09T18:59:29.165482Z",
     "start_time": "2021-07-09T18:59:29.147530Z"
    }
   },
   "outputs": [],
   "source": []
  },
  {
   "cell_type": "code",
   "execution_count": null,
   "id": "998be6eb",
   "metadata": {},
   "outputs": [],
   "source": []
  },
  {
   "cell_type": "code",
   "execution_count": null,
   "id": "02e26b1b",
   "metadata": {},
   "outputs": [],
   "source": []
  },
  {
   "cell_type": "code",
   "execution_count": null,
   "id": "699eae57",
   "metadata": {},
   "outputs": [],
   "source": []
  }
 ],
 "metadata": {
  "kernelspec": {
   "display_name": "Python 3",
   "language": "python",
   "name": "python3"
  },
  "language_info": {
   "codemirror_mode": {
    "name": "ipython",
    "version": 3
   },
   "file_extension": ".py",
   "mimetype": "text/x-python",
   "name": "python",
   "nbconvert_exporter": "python",
   "pygments_lexer": "ipython3",
   "version": "3.8.10"
  },
  "toc": {
   "base_numbering": "0",
   "nav_menu": {},
   "number_sections": true,
   "sideBar": true,
   "skip_h1_title": false,
   "title_cell": "Table of Contents",
   "title_sidebar": "Contents",
   "toc_cell": false,
   "toc_position": {},
   "toc_section_display": true,
   "toc_window_display": false
  }
 },
 "nbformat": 4,
 "nbformat_minor": 5
}
