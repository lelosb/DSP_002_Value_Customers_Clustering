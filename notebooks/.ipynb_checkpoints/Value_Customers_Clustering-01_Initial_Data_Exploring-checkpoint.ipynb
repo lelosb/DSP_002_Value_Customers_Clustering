{
 "cells": [
  {
   "cell_type": "markdown",
   "id": "460ce7db",
   "metadata": {},
   "source": [
    "# <font color='yellow'>PA005: High Value Customer Identification (Insiders)"
   ]
  },
  {
   "cell_type": "markdown",
   "id": "6771fffb",
   "metadata": {},
   "source": [
    "# Basic setups"
   ]
  },
  {
   "cell_type": "markdown",
   "id": "c3c26fe8",
   "metadata": {},
   "source": [
    "## Imports"
   ]
  },
  {
   "cell_type": "code",
   "execution_count": 1,
   "id": "752777d1",
   "metadata": {
    "ExecuteTime": {
     "end_time": "2021-09-06T13:17:32.348889Z",
     "start_time": "2021-09-06T13:17:26.422384Z"
    }
   },
   "outputs": [],
   "source": [
    "import numpy as np\n",
    "import pandas as pd\n",
    "import seaborn as sns\n",
    "\n",
    "import umap.umap_ as umap\n",
    "# pip install umap-learn  to work\n",
    "from IPython.core.display     import HTML\n",
    "from matplotlib import pyplot as plt\n",
    "from pandas_profiling import ProfileReport \n",
    "from sklearn import cluster       as c\n",
    "from sklearn import metrics       as m\n",
    "from sklearn import ensemble      as en\n",
    "from sklearn import preprocessing as pp\n",
    "from sklearn import decomposition as dd\n",
    "from sklearn import manifold      as mn\n",
    "from sklearn import mixture       as mx\n",
    "from sklearn.manifold import TSNE\n",
    "from sklearn.neighbors import NearestNeighbors\n",
    "from scipy.cluster import hierarchy as hc\n",
    "\n",
    "from plotly import express as px\n",
    "\n",
    "from yellowbrick.cluster import KElbowVisualizer, SilhouetteVisualizer"
   ]
  },
  {
   "cell_type": "markdown",
   "id": "c04dfcef",
   "metadata": {},
   "source": [
    "## Helper Functions"
   ]
  },
  {
   "cell_type": "code",
   "execution_count": 2,
   "id": "5cca2481",
   "metadata": {
    "ExecuteTime": {
     "end_time": "2021-09-06T13:17:32.364846Z",
     "start_time": "2021-09-06T13:17:32.350843Z"
    }
   },
   "outputs": [
    {
     "name": "stdout",
     "output_type": "stream",
     "text": [
      "Populating the interactive namespace from numpy and matplotlib\n"
     ]
    },
    {
     "data": {
      "text/html": [
       "<style>.container { width:100% !important; }</style>"
      ],
      "text/plain": [
       "<IPython.core.display.HTML object>"
      ]
     },
     "metadata": {},
     "output_type": "display_data"
    }
   ],
   "source": [
    "def jupyter_settings():\n",
    "    %matplotlib inline\n",
    "    %pylab inline\n",
    "    plt.style.use( 'bmh' )\n",
    "    plt.rcParams['figure.figsize'] = [25, 12]\n",
    "    plt.rcParams['font.size'] = 24\n",
    "    display( HTML( '<style>.container { width:100% !important; }</style>') )\n",
    "    pd.options.display.max_columns = None\n",
    "    pd.options.display.max_rows = None\n",
    "    pd.set_option( 'display.expand_frame_repr', False )\n",
    "    sns.set()\n",
    "jupyter_settings()"
   ]
  },
  {
   "cell_type": "code",
   "execution_count": 3,
   "id": "dc906514",
   "metadata": {
    "ExecuteTime": {
     "end_time": "2021-09-06T13:17:32.380765Z",
     "start_time": "2021-09-06T13:17:32.365803Z"
    }
   },
   "outputs": [],
   "source": [
    "# Supress Scientific Notation\n",
    "np.set_printoptions(suppress=True)\n",
    "pd.set_option('display.float_format', '{:.2f}'.format)"
   ]
  },
  {
   "cell_type": "markdown",
   "id": "0ebc7331",
   "metadata": {
    "ExecuteTime": {
     "end_time": "2021-07-23T14:02:30.182766Z",
     "start_time": "2021-07-23T14:02:29.597224Z"
    }
   },
   "source": [
    "# Data description"
   ]
  },
  {
   "cell_type": "markdown",
   "id": "caabb06d",
   "metadata": {},
   "source": [
    "## Data Load"
   ]
  },
  {
   "cell_type": "code",
   "execution_count": 4,
   "id": "3f64173d",
   "metadata": {
    "ExecuteTime": {
     "end_time": "2021-09-06T13:17:32.935997Z",
     "start_time": "2021-09-06T13:17:32.382757Z"
    }
   },
   "outputs": [],
   "source": [
    "df_raw = pd.read_csv(r'../data/raw/Ecommerce.csv')"
   ]
  },
  {
   "cell_type": "markdown",
   "id": "050866e8",
   "metadata": {
    "ExecuteTime": {
     "end_time": "2021-08-24T19:25:03.579821Z",
     "start_time": "2021-08-24T19:25:03.009348Z"
    },
    "scrolled": true
   },
   "source": [
    "## Data Overview"
   ]
  },
  {
   "cell_type": "code",
   "execution_count": 5,
   "id": "7e7e90a2",
   "metadata": {
    "ExecuteTime": {
     "end_time": "2021-09-06T13:17:32.966564Z",
     "start_time": "2021-09-06T13:17:32.937166Z"
    },
    "scrolled": true
   },
   "outputs": [
    {
     "data": {
      "text/html": [
       "<div>\n",
       "<style scoped>\n",
       "    .dataframe tbody tr th:only-of-type {\n",
       "        vertical-align: middle;\n",
       "    }\n",
       "\n",
       "    .dataframe tbody tr th {\n",
       "        vertical-align: top;\n",
       "    }\n",
       "\n",
       "    .dataframe thead th {\n",
       "        text-align: right;\n",
       "    }\n",
       "</style>\n",
       "<table border=\"1\" class=\"dataframe\">\n",
       "  <thead>\n",
       "    <tr style=\"text-align: right;\">\n",
       "      <th></th>\n",
       "      <th>InvoiceNo</th>\n",
       "      <th>StockCode</th>\n",
       "      <th>Description</th>\n",
       "      <th>Quantity</th>\n",
       "      <th>InvoiceDate</th>\n",
       "      <th>UnitPrice</th>\n",
       "      <th>CustomerID</th>\n",
       "      <th>Country</th>\n",
       "      <th>Unnamed: 8</th>\n",
       "    </tr>\n",
       "  </thead>\n",
       "  <tbody>\n",
       "    <tr>\n",
       "      <th>0</th>\n",
       "      <td>536365</td>\n",
       "      <td>85123A</td>\n",
       "      <td>WHITE HANGING HEART T-LIGHT HOLDER</td>\n",
       "      <td>6</td>\n",
       "      <td>29-Nov-16</td>\n",
       "      <td>2.55</td>\n",
       "      <td>17850.00</td>\n",
       "      <td>United Kingdom</td>\n",
       "      <td>NaN</td>\n",
       "    </tr>\n",
       "    <tr>\n",
       "      <th>1</th>\n",
       "      <td>536365</td>\n",
       "      <td>71053</td>\n",
       "      <td>WHITE METAL LANTERN</td>\n",
       "      <td>6</td>\n",
       "      <td>29-Nov-16</td>\n",
       "      <td>3.39</td>\n",
       "      <td>17850.00</td>\n",
       "      <td>United Kingdom</td>\n",
       "      <td>NaN</td>\n",
       "    </tr>\n",
       "    <tr>\n",
       "      <th>2</th>\n",
       "      <td>536365</td>\n",
       "      <td>84406B</td>\n",
       "      <td>CREAM CUPID HEARTS COAT HANGER</td>\n",
       "      <td>8</td>\n",
       "      <td>29-Nov-16</td>\n",
       "      <td>2.75</td>\n",
       "      <td>17850.00</td>\n",
       "      <td>United Kingdom</td>\n",
       "      <td>NaN</td>\n",
       "    </tr>\n",
       "    <tr>\n",
       "      <th>3</th>\n",
       "      <td>536365</td>\n",
       "      <td>84029G</td>\n",
       "      <td>KNITTED UNION FLAG HOT WATER BOTTLE</td>\n",
       "      <td>6</td>\n",
       "      <td>29-Nov-16</td>\n",
       "      <td>3.39</td>\n",
       "      <td>17850.00</td>\n",
       "      <td>United Kingdom</td>\n",
       "      <td>NaN</td>\n",
       "    </tr>\n",
       "    <tr>\n",
       "      <th>4</th>\n",
       "      <td>536365</td>\n",
       "      <td>84029E</td>\n",
       "      <td>RED WOOLLY HOTTIE WHITE HEART.</td>\n",
       "      <td>6</td>\n",
       "      <td>29-Nov-16</td>\n",
       "      <td>3.39</td>\n",
       "      <td>17850.00</td>\n",
       "      <td>United Kingdom</td>\n",
       "      <td>NaN</td>\n",
       "    </tr>\n",
       "  </tbody>\n",
       "</table>\n",
       "</div>"
      ],
      "text/plain": [
       "  InvoiceNo StockCode                          Description  Quantity InvoiceDate  UnitPrice  CustomerID         Country  Unnamed: 8\n",
       "0    536365    85123A   WHITE HANGING HEART T-LIGHT HOLDER         6   29-Nov-16       2.55    17850.00  United Kingdom         NaN\n",
       "1    536365     71053                  WHITE METAL LANTERN         6   29-Nov-16       3.39    17850.00  United Kingdom         NaN\n",
       "2    536365    84406B       CREAM CUPID HEARTS COAT HANGER         8   29-Nov-16       2.75    17850.00  United Kingdom         NaN\n",
       "3    536365    84029G  KNITTED UNION FLAG HOT WATER BOTTLE         6   29-Nov-16       3.39    17850.00  United Kingdom         NaN\n",
       "4    536365    84029E       RED WOOLLY HOTTIE WHITE HEART.         6   29-Nov-16       3.39    17850.00  United Kingdom         NaN"
      ]
     },
     "execution_count": 5,
     "metadata": {},
     "output_type": "execute_result"
    }
   ],
   "source": [
    "df_raw.head()"
   ]
  },
  {
   "cell_type": "code",
   "execution_count": 6,
   "id": "05dd5529",
   "metadata": {
    "ExecuteTime": {
     "end_time": "2021-09-06T13:17:32.982035Z",
     "start_time": "2021-09-06T13:17:32.967559Z"
    }
   },
   "outputs": [
    {
     "name": "stdout",
     "output_type": "stream",
     "text": [
      "The original dataset has 541909 transations registers with 9 attributes.\n"
     ]
    }
   ],
   "source": [
    "print('The original dataset has {} transations registers with {} attributes.'.format(df_raw.shape[0], df_raw.shape[1]) )"
   ]
  },
  {
   "cell_type": "code",
   "execution_count": 7,
   "id": "2018dd7a",
   "metadata": {
    "ExecuteTime": {
     "end_time": "2021-09-06T13:17:32.997992Z",
     "start_time": "2021-09-06T13:17:32.985027Z"
    }
   },
   "outputs": [
    {
     "data": {
      "text/plain": [
       "Index(['InvoiceNo', 'StockCode', 'Description', 'Quantity', 'InvoiceDate',\n",
       "       'UnitPrice', 'CustomerID', 'Country', 'Unnamed: 8'],\n",
       "      dtype='object')"
      ]
     },
     "execution_count": 7,
     "metadata": {},
     "output_type": "execute_result"
    }
   ],
   "source": [
    "df_raw.columns"
   ]
  },
  {
   "cell_type": "markdown",
   "id": "bb006467",
   "metadata": {},
   "source": [
    "Tasks:\n",
    "\n",
    "    1) Change the name columns to snacke case\n",
    "    \n",
    "    2) Check \"Unnamed: 8\" column"
   ]
  },
  {
   "cell_type": "markdown",
   "id": "b57ae555",
   "metadata": {},
   "source": [
    "## Check NaN"
   ]
  },
  {
   "cell_type": "code",
   "execution_count": 8,
   "id": "22edd1e3",
   "metadata": {
    "ExecuteTime": {
     "end_time": "2021-09-06T13:17:33.105738Z",
     "start_time": "2021-09-06T13:17:33.000986Z"
    }
   },
   "outputs": [
    {
     "data": {
      "text/plain": [
       "InvoiceNo       0.00\n",
       "StockCode       0.00\n",
       "Description     0.27\n",
       "Quantity        0.00\n",
       "InvoiceDate     0.00\n",
       "UnitPrice       0.00\n",
       "CustomerID     24.93\n",
       "Country         0.00\n",
       "Unnamed: 8    100.00\n",
       "dtype: float64"
      ]
     },
     "execution_count": 8,
     "metadata": {},
     "output_type": "execute_result"
    }
   ],
   "source": [
    "df_raw.isna().sum() / len(df_raw) *100"
   ]
  },
  {
   "cell_type": "markdown",
   "id": "5c808ec8",
   "metadata": {},
   "source": [
    "Tasks:"
   ]
  },
  {
   "cell_type": "markdown",
   "id": "463dd00c",
   "metadata": {},
   "source": [
    "4) Check \"Description\" and \"CustomerID\" NaN"
   ]
  },
  {
   "cell_type": "code",
   "execution_count": 9,
   "id": "a1621628",
   "metadata": {
    "ExecuteTime": {
     "end_time": "2021-09-06T13:17:33.121693Z",
     "start_time": "2021-09-06T13:17:33.106703Z"
    },
    "scrolled": true
   },
   "outputs": [
    {
     "name": "stdout",
     "output_type": "stream",
     "text": [
      "There are a considerable number of transations without customers. Identify the customers is the main objective of this project, \n",
      "so this is a big problem. Through this cycle. we have a lot of problems with the non identified customers, so we decided to drop then in this \n",
      "first cycle of the project. Maybe in the next cycle somethin different can be done. After all, we discovery that dropping all the clientes without id, \n",
      "we drop all the \"descriptions\" NaN as well\n"
     ]
    }
   ],
   "source": [
    "print('''There are a considerable number of transations without customers. Identify the customers is the main objective of this project, \n",
    "so this is a big problem. Through this cycle. we have a lot of problems with the non identified customers, so we decided to drop then in this \n",
    "first cycle of the project. Maybe in the next cycle somethin different can be done. After all, we discovery that dropping all the clientes without id, \n",
    "we drop all the \"descriptions\" NaN as well''')"
   ]
  },
  {
   "cell_type": "markdown",
   "id": "965f9d5a",
   "metadata": {},
   "source": []
  },
  {
   "cell_type": "markdown",
   "id": "7a54ac5b",
   "metadata": {},
   "source": [
    "## Data types"
   ]
  },
  {
   "cell_type": "code",
   "execution_count": 10,
   "id": "fbe59f76",
   "metadata": {
    "ExecuteTime": {
     "end_time": "2021-09-06T13:17:33.137652Z",
     "start_time": "2021-09-06T13:17:33.122664Z"
    },
    "scrolled": true
   },
   "outputs": [
    {
     "data": {
      "text/plain": [
       "InvoiceNo       object\n",
       "StockCode       object\n",
       "Description     object\n",
       "Quantity         int64\n",
       "InvoiceDate     object\n",
       "UnitPrice      float64\n",
       "CustomerID     float64\n",
       "Country         object\n",
       "Unnamed: 8     float64\n",
       "dtype: object"
      ]
     },
     "execution_count": 10,
     "metadata": {},
     "output_type": "execute_result"
    }
   ],
   "source": [
    "df_raw.dtypes"
   ]
  },
  {
   "cell_type": "markdown",
   "id": "5106eaf7",
   "metadata": {
    "ExecuteTime": {
     "end_time": "2021-08-19T17:44:20.227953Z",
     "start_time": "2021-08-19T17:44:20.214990Z"
    }
   },
   "source": [
    "Tasks:\n",
    "\n",
    "5) Change InvoiceNo type to int, change InvoiceDate type to datetime and hange CustomerID type  to int."
   ]
  },
  {
   "cell_type": "markdown",
   "id": "ecaaab49",
   "metadata": {},
   "source": [
    "## Check duplicated"
   ]
  },
  {
   "cell_type": "code",
   "execution_count": 11,
   "id": "58f27efd",
   "metadata": {
    "ExecuteTime": {
     "end_time": "2021-09-06T13:17:33.153609Z",
     "start_time": "2021-09-06T13:17:33.138617Z"
    }
   },
   "outputs": [
    {
     "data": {
      "text/plain": [
       "537536"
      ]
     },
     "execution_count": 11,
     "metadata": {},
     "output_type": "execute_result"
    }
   ],
   "source": [
    "df_raw['CustomerID'].duplicated().sum()"
   ]
  },
  {
   "cell_type": "code",
   "execution_count": 12,
   "id": "16c33548",
   "metadata": {
    "ExecuteTime": {
     "end_time": "2021-09-06T13:17:33.169534Z",
     "start_time": "2021-09-06T13:17:33.154573Z"
    }
   },
   "outputs": [
    {
     "name": "stdout",
     "output_type": "stream",
     "text": [
      "From a business perspective, none of the repeated attributes will be a problem unless there are more than one record with all inputs equals.\n"
     ]
    }
   ],
   "source": [
    "print('From a business perspective, none of the repeated attributes will be a problem unless there are more than one record with all inputs equals.')"
   ]
  },
  {
   "cell_type": "markdown",
   "id": "f9ee7fac",
   "metadata": {},
   "source": [
    "Task\n",
    "8) Check if there are duplicated registers"
   ]
  },
  {
   "cell_type": "markdown",
   "id": "da6a1b05",
   "metadata": {
    "ExecuteTime": {
     "end_time": "2021-09-03T15:05:38.647143Z",
     "start_time": "2021-09-03T15:05:38.640127Z"
    }
   },
   "source": [
    "## Check attributes"
   ]
  },
  {
   "cell_type": "markdown",
   "id": "8d97ab9d",
   "metadata": {},
   "source": [
    "### Attribute 'InvoiceNo'"
   ]
  },
  {
   "cell_type": "code",
   "execution_count": 13,
   "id": "e9e77353",
   "metadata": {
    "ExecuteTime": {
     "end_time": "2021-09-06T13:17:33.201481Z",
     "start_time": "2021-09-06T13:17:33.170562Z"
    }
   },
   "outputs": [
    {
     "data": {
      "text/plain": [
       "array(['536365', '536366', '536367', ..., '581585', '581586', '581587'],\n",
       "      dtype=object)"
      ]
     },
     "execution_count": 13,
     "metadata": {},
     "output_type": "execute_result"
    }
   ],
   "source": [
    "df_raw['InvoiceNo'].unique()"
   ]
  },
  {
   "cell_type": "markdown",
   "id": "f816b514",
   "metadata": {},
   "source": [
    "Task: \n",
    "\n",
    "9) Check the invoices with letters. They seem to be devolutions"
   ]
  },
  {
   "cell_type": "markdown",
   "id": "c9cc274c",
   "metadata": {
    "ExecuteTime": {
     "end_time": "2021-09-03T17:02:57.330688Z",
     "start_time": "2021-09-03T17:02:57.315688Z"
    }
   },
   "source": [
    "### Attributes 'Description'"
   ]
  },
  {
   "cell_type": "code",
   "execution_count": 14,
   "id": "944f8c02",
   "metadata": {
    "ExecuteTime": {
     "end_time": "2021-09-06T13:17:33.262319Z",
     "start_time": "2021-09-06T13:17:33.202445Z"
    }
   },
   "outputs": [
    {
     "data": {
      "text/plain": [
       "array(['WHITE HANGING HEART T-LIGHT HOLDER', 'WHITE METAL LANTERN',\n",
       "       'CREAM CUPID HEARTS COAT HANGER', ..., 'lost',\n",
       "       'CREAM HANGING HEART T-LIGHT HOLDER',\n",
       "       'PAPER CRAFT , LITTLE BIRDIE'], dtype=object)"
      ]
     },
     "execution_count": 14,
     "metadata": {},
     "output_type": "execute_result"
    }
   ],
   "source": [
    "df_raw['Description'].unique()"
   ]
  },
  {
   "cell_type": "markdown",
   "id": "78202fd0",
   "metadata": {
    "ExecuteTime": {
     "end_time": "2021-09-03T17:00:07.921634Z",
     "start_time": "2021-09-03T17:00:07.906827Z"
    }
   },
   "source": [
    "Task: 10)Check the strange names"
   ]
  },
  {
   "cell_type": "markdown",
   "id": "0fcdf902",
   "metadata": {},
   "source": [
    "## Statistics data overview"
   ]
  },
  {
   "cell_type": "code",
   "execution_count": 15,
   "id": "e8d5cc5b",
   "metadata": {
    "ExecuteTime": {
     "end_time": "2021-09-06T13:17:33.420861Z",
     "start_time": "2021-09-06T13:17:33.263282Z"
    }
   },
   "outputs": [
    {
     "data": {
      "text/html": [
       "<div>\n",
       "<style scoped>\n",
       "    .dataframe tbody tr th:only-of-type {\n",
       "        vertical-align: middle;\n",
       "    }\n",
       "\n",
       "    .dataframe tbody tr th {\n",
       "        vertical-align: top;\n",
       "    }\n",
       "\n",
       "    .dataframe thead th {\n",
       "        text-align: right;\n",
       "    }\n",
       "</style>\n",
       "<table border=\"1\" class=\"dataframe\">\n",
       "  <thead>\n",
       "    <tr style=\"text-align: right;\">\n",
       "      <th></th>\n",
       "      <th>count</th>\n",
       "      <th>mean</th>\n",
       "      <th>std</th>\n",
       "      <th>min</th>\n",
       "      <th>25%</th>\n",
       "      <th>50%</th>\n",
       "      <th>75%</th>\n",
       "      <th>max</th>\n",
       "    </tr>\n",
       "  </thead>\n",
       "  <tbody>\n",
       "    <tr>\n",
       "      <th>Quantity</th>\n",
       "      <td>541909.00</td>\n",
       "      <td>9.55</td>\n",
       "      <td>218.08</td>\n",
       "      <td>-80995.00</td>\n",
       "      <td>1.00</td>\n",
       "      <td>3.00</td>\n",
       "      <td>10.00</td>\n",
       "      <td>80995.00</td>\n",
       "    </tr>\n",
       "    <tr>\n",
       "      <th>UnitPrice</th>\n",
       "      <td>541909.00</td>\n",
       "      <td>4.61</td>\n",
       "      <td>96.76</td>\n",
       "      <td>-11062.06</td>\n",
       "      <td>1.25</td>\n",
       "      <td>2.08</td>\n",
       "      <td>4.13</td>\n",
       "      <td>38970.00</td>\n",
       "    </tr>\n",
       "    <tr>\n",
       "      <th>CustomerID</th>\n",
       "      <td>406829.00</td>\n",
       "      <td>15287.69</td>\n",
       "      <td>1713.60</td>\n",
       "      <td>12346.00</td>\n",
       "      <td>13953.00</td>\n",
       "      <td>15152.00</td>\n",
       "      <td>16791.00</td>\n",
       "      <td>18287.00</td>\n",
       "    </tr>\n",
       "    <tr>\n",
       "      <th>Unnamed: 8</th>\n",
       "      <td>0.00</td>\n",
       "      <td>NaN</td>\n",
       "      <td>NaN</td>\n",
       "      <td>NaN</td>\n",
       "      <td>NaN</td>\n",
       "      <td>NaN</td>\n",
       "      <td>NaN</td>\n",
       "      <td>NaN</td>\n",
       "    </tr>\n",
       "  </tbody>\n",
       "</table>\n",
       "</div>"
      ],
      "text/plain": [
       "               count     mean     std       min      25%      50%      75%      max\n",
       "Quantity   541909.00     9.55  218.08 -80995.00     1.00     3.00    10.00 80995.00\n",
       "UnitPrice  541909.00     4.61   96.76 -11062.06     1.25     2.08     4.13 38970.00\n",
       "CustomerID 406829.00 15287.69 1713.60  12346.00 13953.00 15152.00 16791.00 18287.00\n",
       "Unnamed: 8      0.00      NaN     NaN       NaN      NaN      NaN      NaN      NaN"
      ]
     },
     "execution_count": 15,
     "metadata": {},
     "output_type": "execute_result"
    }
   ],
   "source": [
    "df_raw.describe().T"
   ]
  },
  {
   "cell_type": "markdown",
   "id": "f99d582c",
   "metadata": {},
   "source": [
    "Task 9) Check negative unit prices and quantities"
   ]
  },
  {
   "cell_type": "code",
   "execution_count": null,
   "id": "3dc6df9f",
   "metadata": {
    "ExecuteTime": {
     "end_time": "2021-09-06T13:17:41.978271Z",
     "start_time": "2021-09-06T13:17:26.835Z"
    }
   },
   "outputs": [],
   "source": [
    "#stock code\n",
    "\n",
    "#df2 = df2[~df2['stock_code'].isin (['POST', 'D', 'DOT', 'M', 'S', 'AMAZONFEE', 'm', 'DCGSSBOY', 'DCGSSGIRL', 'PADS', 'B', 'CRUK'])]"
   ]
  },
  {
   "cell_type": "markdown",
   "id": "b37edf54",
   "metadata": {},
   "source": [
    "# <font color='green'> Data Processing"
   ]
  },
  {
   "cell_type": "code",
   "execution_count": 165,
   "id": "d51ae57f",
   "metadata": {
    "ExecuteTime": {
     "end_time": "2021-09-06T19:32:00.576367Z",
     "start_time": "2021-09-06T19:32:00.497531Z"
    }
   },
   "outputs": [],
   "source": [
    "df3 = df_raw.copy()"
   ]
  },
  {
   "cell_type": "markdown",
   "id": "5b8cfb47",
   "metadata": {},
   "source": [
    "## Rename columns"
   ]
  },
  {
   "cell_type": "code",
   "execution_count": 166,
   "id": "1084b019",
   "metadata": {
    "ExecuteTime": {
     "end_time": "2021-09-06T19:32:03.738531Z",
     "start_time": "2021-09-06T19:32:03.724570Z"
    }
   },
   "outputs": [
    {
     "data": {
      "text/plain": [
       "Index(['InvoiceNo', 'StockCode', 'Description', 'Quantity', 'InvoiceDate',\n",
       "       'UnitPrice', 'CustomerID', 'Country', 'Unnamed: 8'],\n",
       "      dtype='object')"
      ]
     },
     "execution_count": 166,
     "metadata": {},
     "output_type": "execute_result"
    }
   ],
   "source": [
    "df3.columns"
   ]
  },
  {
   "cell_type": "code",
   "execution_count": 167,
   "id": "8d33b8d1",
   "metadata": {
    "ExecuteTime": {
     "end_time": "2021-09-06T19:32:04.951564Z",
     "start_time": "2021-09-06T19:32:04.940594Z"
    }
   },
   "outputs": [],
   "source": [
    "cols_new = ['invoice_no', 'stock_code', 'description','quantity', 'invoice_date','unit_price', 'customer_id', 'country', 'unnamed']"
   ]
  },
  {
   "cell_type": "code",
   "execution_count": 168,
   "id": "938cd850",
   "metadata": {
    "ExecuteTime": {
     "end_time": "2021-09-06T19:32:05.522533Z",
     "start_time": "2021-09-06T19:32:05.516549Z"
    }
   },
   "outputs": [],
   "source": [
    "df3.columns = cols_new #change to snacke case"
   ]
  },
  {
   "cell_type": "markdown",
   "id": "7b99d581",
   "metadata": {
    "ExecuteTime": {
     "end_time": "2021-08-19T17:53:14.247722Z",
     "start_time": "2021-08-19T17:53:14.235757Z"
    }
   },
   "source": [
    "## Check \"Unnamed: 8\" attribute"
   ]
  },
  {
   "cell_type": "code",
   "execution_count": 169,
   "id": "1b2f63f6",
   "metadata": {
    "ExecuteTime": {
     "end_time": "2021-09-06T19:32:07.868419Z",
     "start_time": "2021-09-06T19:32:07.852430Z"
    }
   },
   "outputs": [
    {
     "name": "stdout",
     "output_type": "stream",
     "text": [
      "All the Unnamed are NaN. There is no relevante information in this feature. It will be dropped.\n"
     ]
    }
   ],
   "source": [
    "print('All the Unnamed are NaN. There is no relevante information in this feature. It will be dropped.')"
   ]
  },
  {
   "cell_type": "code",
   "execution_count": 170,
   "id": "94230797",
   "metadata": {
    "ExecuteTime": {
     "end_time": "2021-09-06T19:32:08.617865Z",
     "start_time": "2021-09-06T19:32:08.581963Z"
    }
   },
   "outputs": [],
   "source": [
    "df3 = df3.drop(columns=['unnamed'], axis=1) "
   ]
  },
  {
   "cell_type": "markdown",
   "id": "daa78690",
   "metadata": {},
   "source": [
    "## Solving NaN"
   ]
  },
  {
   "cell_type": "markdown",
   "id": "71084083",
   "metadata": {},
   "source": [
    "### Attribute 'customer_id"
   ]
  },
  {
   "cell_type": "code",
   "execution_count": 171,
   "id": "698fc4b1",
   "metadata": {
    "ExecuteTime": {
     "end_time": "2021-09-06T19:32:09.658611Z",
     "start_time": "2021-09-06T19:32:09.549904Z"
    }
   },
   "outputs": [
    {
     "data": {
      "text/plain": [
       "invoice_no           0\n",
       "stock_code           0\n",
       "description       1454\n",
       "quantity             0\n",
       "invoice_date         0\n",
       "unit_price           0\n",
       "customer_id     135080\n",
       "country              0\n",
       "dtype: int64"
      ]
     },
     "execution_count": 171,
     "metadata": {},
     "output_type": "execute_result"
    }
   ],
   "source": [
    "df3.isna().sum()"
   ]
  },
  {
   "cell_type": "code",
   "execution_count": 172,
   "id": "8a9f18e3",
   "metadata": {
    "ExecuteTime": {
     "end_time": "2021-09-06T19:32:10.323634Z",
     "start_time": "2021-09-06T19:32:10.268723Z"
    }
   },
   "outputs": [],
   "source": [
    "df3 = df3.dropna(subset = ['customer_id'], axis=0)"
   ]
  },
  {
   "cell_type": "code",
   "execution_count": 173,
   "id": "1a81ee33",
   "metadata": {
    "ExecuteTime": {
     "end_time": "2021-09-06T19:32:11.192548Z",
     "start_time": "2021-09-06T19:32:11.117545Z"
    }
   },
   "outputs": [
    {
     "data": {
      "text/plain": [
       "invoice_no      0\n",
       "stock_code      0\n",
       "description     0\n",
       "quantity        0\n",
       "invoice_date    0\n",
       "unit_price      0\n",
       "customer_id     0\n",
       "country         0\n",
       "dtype: int64"
      ]
     },
     "execution_count": 173,
     "metadata": {},
     "output_type": "execute_result"
    }
   ],
   "source": [
    "df3.isna().sum()"
   ]
  },
  {
   "cell_type": "markdown",
   "id": "3d8bc119",
   "metadata": {
    "ExecuteTime": {
     "end_time": "2021-08-19T18:18:05.686328Z",
     "start_time": "2021-08-19T18:18:05.676357Z"
    }
   },
   "source": [
    "### Attribute 'description'"
   ]
  },
  {
   "cell_type": "code",
   "execution_count": 174,
   "id": "06bc419b",
   "metadata": {
    "ExecuteTime": {
     "end_time": "2021-09-06T19:32:12.336431Z",
     "start_time": "2021-09-06T19:32:12.332455Z"
    }
   },
   "outputs": [
    {
     "name": "stdout",
     "output_type": "stream",
     "text": [
      "The \"description\" NaN were dropped together with the \"customer_id\" NaN\n"
     ]
    }
   ],
   "source": [
    "print('The \"description\" NaN were dropped together with the \"customer_id\" NaN')"
   ]
  },
  {
   "cell_type": "markdown",
   "id": "7a0efbdb",
   "metadata": {},
   "source": [
    "## Change dtypes"
   ]
  },
  {
   "cell_type": "markdown",
   "id": "6ac566ee",
   "metadata": {},
   "source": [
    "### Attribute 'invoice_number'"
   ]
  },
  {
   "cell_type": "code",
   "execution_count": 175,
   "id": "9c5575b3",
   "metadata": {
    "ExecuteTime": {
     "end_time": "2021-09-06T19:32:17.388082Z",
     "start_time": "2021-09-06T19:32:17.356161Z"
    }
   },
   "outputs": [
    {
     "data": {
      "text/plain": [
       "array(['536365', '536366', '536367', ..., '581585', '581586', '581587'],\n",
       "      dtype=object)"
      ]
     },
     "execution_count": 175,
     "metadata": {},
     "output_type": "execute_result"
    }
   ],
   "source": [
    "df3['invoice_no'].unique()"
   ]
  },
  {
   "cell_type": "code",
   "execution_count": 176,
   "id": "3297f905",
   "metadata": {
    "ExecuteTime": {
     "end_time": "2021-09-06T19:32:17.915073Z",
     "start_time": "2021-09-06T19:32:17.907101Z"
    }
   },
   "outputs": [
    {
     "name": "stdout",
     "output_type": "stream",
     "text": [
      "According with the code error, there are invoices with number with letters. For now it will be keep as a object\n"
     ]
    }
   ],
   "source": [
    "#df3['invoice_no'] = df3['invoice_no'].astype(int64)\n",
    "print('According with the code error, there are invoices with number with letters. For now it will be keep as a object')"
   ]
  },
  {
   "cell_type": "markdown",
   "id": "708cebc3",
   "metadata": {
    "ExecuteTime": {
     "end_time": "2021-08-19T18:11:03.940506Z",
     "start_time": "2021-08-19T18:11:03.925546Z"
    }
   },
   "source": [
    "### Attribute 'invoice_date'"
   ]
  },
  {
   "cell_type": "code",
   "execution_count": 177,
   "id": "609b5519",
   "metadata": {
    "ExecuteTime": {
     "end_time": "2021-09-06T19:32:21.097499Z",
     "start_time": "2021-09-06T19:32:21.035592Z"
    }
   },
   "outputs": [],
   "source": [
    "df3['invoice_date'] = pd.to_datetime(df3['invoice_date'], format = '%d-%b-%y')\n",
    "# use %b because the month is in a string in the df"
   ]
  },
  {
   "cell_type": "code",
   "execution_count": 178,
   "id": "82089e43",
   "metadata": {
    "ExecuteTime": {
     "end_time": "2021-09-06T19:32:22.011317Z",
     "start_time": "2021-09-06T19:32:22.005334Z"
    }
   },
   "outputs": [
    {
     "data": {
      "text/plain": [
       "invoice_no              object\n",
       "stock_code              object\n",
       "description             object\n",
       "quantity                 int64\n",
       "invoice_date    datetime64[ns]\n",
       "unit_price             float64\n",
       "customer_id            float64\n",
       "country                 object\n",
       "dtype: object"
      ]
     },
     "execution_count": 178,
     "metadata": {},
     "output_type": "execute_result"
    }
   ],
   "source": [
    "df3.dtypes"
   ]
  },
  {
   "cell_type": "markdown",
   "id": "2c27722a",
   "metadata": {
    "ExecuteTime": {
     "end_time": "2021-08-19T18:12:20.297568Z",
     "start_time": "2021-08-19T18:12:20.280608Z"
    }
   },
   "source": [
    "### Attribute 'customer_id'"
   ]
  },
  {
   "cell_type": "code",
   "execution_count": 179,
   "id": "6d2226af",
   "metadata": {
    "ExecuteTime": {
     "end_time": "2021-09-06T19:32:23.795553Z",
     "start_time": "2021-09-06T19:32:23.780571Z"
    }
   },
   "outputs": [],
   "source": [
    "df3['customer_id'] = df3['customer_id'].astype(int64)"
   ]
  },
  {
   "cell_type": "code",
   "execution_count": 180,
   "id": "53dfa676",
   "metadata": {
    "ExecuteTime": {
     "end_time": "2021-09-06T19:32:24.088909Z",
     "start_time": "2021-09-06T19:32:24.068929Z"
    }
   },
   "outputs": [
    {
     "data": {
      "text/plain": [
       "invoice_no              object\n",
       "stock_code              object\n",
       "description             object\n",
       "quantity                 int64\n",
       "invoice_date    datetime64[ns]\n",
       "unit_price             float64\n",
       "customer_id              int64\n",
       "country                 object\n",
       "dtype: object"
      ]
     },
     "execution_count": 180,
     "metadata": {},
     "output_type": "execute_result"
    }
   ],
   "source": [
    "df3.dtypes"
   ]
  },
  {
   "cell_type": "markdown",
   "id": "6979a37f",
   "metadata": {
    "ExecuteTime": {
     "end_time": "2021-08-19T19:09:12.712243Z",
     "start_time": "2021-08-19T19:09:12.709251Z"
    }
   },
   "source": [
    "## Negative values"
   ]
  },
  {
   "cell_type": "markdown",
   "id": "62dae0c8",
   "metadata": {},
   "source": [
    "From here, we have to take a direction. The negative values problably are from returns. We can just exclude them, exclude the in an out or we can create features for returns. From this point, we decided to sum all the values for customer, and those who ended up with a negative or zero amount will be dropped. We can divided the dataframe in two, one with the purchases, one just with the returns, but it will be done in the next cycle."
   ]
  },
  {
   "cell_type": "code",
   "execution_count": 181,
   "id": "cf988ad5",
   "metadata": {
    "ExecuteTime": {
     "end_time": "2021-09-06T19:32:32.588940Z",
     "start_time": "2021-09-06T19:32:32.581925Z"
    }
   },
   "outputs": [],
   "source": [
    "df3['subtotal'] = df3['unit_price'] * df3['quantity'] "
   ]
  },
  {
   "cell_type": "code",
   "execution_count": 183,
   "id": "e7196e56",
   "metadata": {
    "ExecuteTime": {
     "end_time": "2021-09-06T19:33:36.412062Z",
     "start_time": "2021-09-06T19:33:36.371171Z"
    }
   },
   "outputs": [],
   "source": [
    "bad_customers = df3[['customer_id','subtotal']].groupby('customer_id').sum().reset_index()"
   ]
  },
  {
   "cell_type": "code",
   "execution_count": 187,
   "id": "e4a4d788",
   "metadata": {
    "ExecuteTime": {
     "end_time": "2021-09-06T19:35:27.996100Z",
     "start_time": "2021-09-06T19:35:27.980141Z"
    }
   },
   "outputs": [
    {
     "data": {
      "text/html": [
       "<div>\n",
       "<style scoped>\n",
       "    .dataframe tbody tr th:only-of-type {\n",
       "        vertical-align: middle;\n",
       "    }\n",
       "\n",
       "    .dataframe tbody tr th {\n",
       "        vertical-align: top;\n",
       "    }\n",
       "\n",
       "    .dataframe thead th {\n",
       "        text-align: right;\n",
       "    }\n",
       "</style>\n",
       "<table border=\"1\" class=\"dataframe\">\n",
       "  <thead>\n",
       "    <tr style=\"text-align: right;\">\n",
       "      <th></th>\n",
       "      <th>customer_id</th>\n",
       "      <th>subtotal</th>\n",
       "    </tr>\n",
       "  </thead>\n",
       "  <tbody>\n",
       "    <tr>\n",
       "      <th>0</th>\n",
       "      <td>12346</td>\n",
       "      <td>0.00</td>\n",
       "    </tr>\n",
       "    <tr>\n",
       "      <th>89</th>\n",
       "      <td>12454</td>\n",
       "      <td>-0.00</td>\n",
       "    </tr>\n",
       "    <tr>\n",
       "      <th>125</th>\n",
       "      <td>12503</td>\n",
       "      <td>-1126.00</td>\n",
       "    </tr>\n",
       "    <tr>\n",
       "      <th>127</th>\n",
       "      <td>12505</td>\n",
       "      <td>-4.50</td>\n",
       "    </tr>\n",
       "    <tr>\n",
       "      <th>212</th>\n",
       "      <td>12605</td>\n",
       "      <td>-7.50</td>\n",
       "    </tr>\n",
       "    <tr>\n",
       "      <th>264</th>\n",
       "      <td>12666</td>\n",
       "      <td>-227.44</td>\n",
       "    </tr>\n",
       "    <tr>\n",
       "      <th>415</th>\n",
       "      <td>12870</td>\n",
       "      <td>-14.90</td>\n",
       "    </tr>\n",
       "    <tr>\n",
       "      <th>467</th>\n",
       "      <td>12943</td>\n",
       "      <td>-3.75</td>\n",
       "    </tr>\n",
       "    <tr>\n",
       "      <th>619</th>\n",
       "      <td>13154</td>\n",
       "      <td>-611.86</td>\n",
       "    </tr>\n",
       "    <tr>\n",
       "      <th>692</th>\n",
       "      <td>13256</td>\n",
       "      <td>0.00</td>\n",
       "    </tr>\n",
       "    <tr>\n",
       "      <th>991</th>\n",
       "      <td>13672</td>\n",
       "      <td>-71.46</td>\n",
       "    </tr>\n",
       "    <tr>\n",
       "      <th>1004</th>\n",
       "      <td>13693</td>\n",
       "      <td>-32.00</td>\n",
       "    </tr>\n",
       "    <tr>\n",
       "      <th>1106</th>\n",
       "      <td>13829</td>\n",
       "      <td>-102.00</td>\n",
       "    </tr>\n",
       "    <tr>\n",
       "      <th>1200</th>\n",
       "      <td>13958</td>\n",
       "      <td>-102.45</td>\n",
       "    </tr>\n",
       "    <tr>\n",
       "      <th>1318</th>\n",
       "      <td>14119</td>\n",
       "      <td>-19.90</td>\n",
       "    </tr>\n",
       "    <tr>\n",
       "      <th>1384</th>\n",
       "      <td>14213</td>\n",
       "      <td>-1192.20</td>\n",
       "    </tr>\n",
       "    <tr>\n",
       "      <th>1544</th>\n",
       "      <td>14437</td>\n",
       "      <td>-43.40</td>\n",
       "    </tr>\n",
       "    <tr>\n",
       "      <th>1642</th>\n",
       "      <td>14557</td>\n",
       "      <td>0.00</td>\n",
       "    </tr>\n",
       "    <tr>\n",
       "      <th>1688</th>\n",
       "      <td>14627</td>\n",
       "      <td>-21.85</td>\n",
       "    </tr>\n",
       "    <tr>\n",
       "      <th>1727</th>\n",
       "      <td>14679</td>\n",
       "      <td>-2.55</td>\n",
       "    </tr>\n",
       "  </tbody>\n",
       "</table>\n",
       "</div>"
      ],
      "text/plain": [
       "      customer_id  subtotal\n",
       "0           12346      0.00\n",
       "89          12454     -0.00\n",
       "125         12503  -1126.00\n",
       "127         12505     -4.50\n",
       "212         12605     -7.50\n",
       "264         12666   -227.44\n",
       "415         12870    -14.90\n",
       "467         12943     -3.75\n",
       "619         13154   -611.86\n",
       "692         13256      0.00\n",
       "991         13672    -71.46\n",
       "1004        13693    -32.00\n",
       "1106        13829   -102.00\n",
       "1200        13958   -102.45\n",
       "1318        14119    -19.90\n",
       "1384        14213  -1192.20\n",
       "1544        14437    -43.40\n",
       "1642        14557      0.00\n",
       "1688        14627    -21.85\n",
       "1727        14679     -2.55"
      ]
     },
     "execution_count": 187,
     "metadata": {},
     "output_type": "execute_result"
    }
   ],
   "source": [
    "bad_customers.head(20)"
   ]
  },
  {
   "cell_type": "code",
   "execution_count": 185,
   "id": "7dd88f85",
   "metadata": {
    "ExecuteTime": {
     "end_time": "2021-09-06T19:34:32.183159Z",
     "start_time": "2021-09-06T19:34:32.174179Z"
    }
   },
   "outputs": [],
   "source": [
    "bad_customers = bad_customers[bad_customers['subtotal'] <=0]\n",
    "bad_list = bad_customers['customer_id'].to_list() # list with the \"bad\" customers ids"
   ]
  },
  {
   "cell_type": "code",
   "execution_count": 189,
   "id": "8139a204",
   "metadata": {
    "ExecuteTime": {
     "end_time": "2021-09-06T19:36:12.707216Z",
     "start_time": "2021-09-06T19:36:12.653365Z"
    }
   },
   "outputs": [],
   "source": [
    "df3 = df3[~df3['customer_id'].isin(bad_list)]"
   ]
  },
  {
   "cell_type": "markdown",
   "id": "5137be91",
   "metadata": {
    "ExecuteTime": {
     "end_time": "2021-09-03T17:23:44.036702Z",
     "start_time": "2021-09-03T17:23:44.018716Z"
    }
   },
   "source": [
    "## Solve Duplicates"
   ]
  },
  {
   "cell_type": "code",
   "execution_count": 192,
   "id": "ea312710",
   "metadata": {
    "ExecuteTime": {
     "end_time": "2021-09-06T19:38:49.259163Z",
     "start_time": "2021-09-06T19:38:49.253173Z"
    }
   },
   "outputs": [],
   "source": [
    "#next cycle"
   ]
  },
  {
   "cell_type": "markdown",
   "id": "401790a9",
   "metadata": {},
   "source": [
    "## Check 'Description' inputs"
   ]
  },
  {
   "cell_type": "code",
   "execution_count": 193,
   "id": "37284837",
   "metadata": {
    "ExecuteTime": {
     "end_time": "2021-09-06T19:38:51.274011Z",
     "start_time": "2021-09-06T19:38:50.885078Z"
    }
   },
   "outputs": [
    {
     "name": "stdout",
     "output_type": "stream",
     "text": [
      "Total number of invoices with letters: 8706\n",
      "Total number of invoices with negative quantity: 8706\n"
     ]
    }
   ],
   "source": [
    "#quem são os invoices que contém letras?\n",
    "df_letter_invoices = df3.loc[df3['invoice_no'].apply (lambda x: bool(re.search ( '[^0-9]+', x))), :] \n",
    "print('Total number of invoices with letters: {}'.format (len (df_letter_invoices)))\n",
    "\n",
    "print('Total number of invoices with negative quantity: {}'.format( len(df_letter_invoices['quantity'] <0)))"
   ]
  },
  {
   "cell_type": "markdown",
   "id": "e0c1c178",
   "metadata": {},
   "source": [
    "Along the work, we note some descriptions of sales that seem not be sensible\n",
    "D, DOT. M. S., AMazon fee, pads, b, cruk"
   ]
  },
  {
   "cell_type": "markdown",
   "id": "c961c999",
   "metadata": {},
   "source": [
    "# <font color='orange'> Feature Engineering"
   ]
  },
  {
   "cell_type": "code",
   "execution_count": 194,
   "id": "3812c8d4",
   "metadata": {
    "ExecuteTime": {
     "end_time": "2021-09-06T19:38:53.262163Z",
     "start_time": "2021-09-06T19:38:53.250197Z"
    }
   },
   "outputs": [],
   "source": [
    "df4 = df3.copy()"
   ]
  },
  {
   "cell_type": "markdown",
   "id": "a480ca84",
   "metadata": {
    "ExecuteTime": {
     "end_time": "2021-09-03T17:30:33.342774Z",
     "start_time": "2021-09-03T17:30:33.330807Z"
    }
   },
   "source": [
    "## Data Filtering"
   ]
  },
  {
   "cell_type": "code",
   "execution_count": 195,
   "id": "04e64ff1",
   "metadata": {
    "ExecuteTime": {
     "end_time": "2021-09-06T19:38:54.245257Z",
     "start_time": "2021-09-06T19:38:54.218328Z"
    }
   },
   "outputs": [],
   "source": [
    "df4.drop(columns = ['stock_code', 'description','country'], axis=1, inplace=True)"
   ]
  },
  {
   "cell_type": "code",
   "execution_count": 196,
   "id": "6c7409e7",
   "metadata": {
    "ExecuteTime": {
     "end_time": "2021-09-06T19:38:55.020275Z",
     "start_time": "2021-09-06T19:38:54.998301Z"
    }
   },
   "outputs": [
    {
     "data": {
      "text/html": [
       "<div>\n",
       "<style scoped>\n",
       "    .dataframe tbody tr th:only-of-type {\n",
       "        vertical-align: middle;\n",
       "    }\n",
       "\n",
       "    .dataframe tbody tr th {\n",
       "        vertical-align: top;\n",
       "    }\n",
       "\n",
       "    .dataframe thead th {\n",
       "        text-align: right;\n",
       "    }\n",
       "</style>\n",
       "<table border=\"1\" class=\"dataframe\">\n",
       "  <thead>\n",
       "    <tr style=\"text-align: right;\">\n",
       "      <th></th>\n",
       "      <th>invoice_no</th>\n",
       "      <th>quantity</th>\n",
       "      <th>invoice_date</th>\n",
       "      <th>unit_price</th>\n",
       "      <th>customer_id</th>\n",
       "      <th>subtotal</th>\n",
       "    </tr>\n",
       "  </thead>\n",
       "  <tbody>\n",
       "    <tr>\n",
       "      <th>0</th>\n",
       "      <td>536365</td>\n",
       "      <td>6</td>\n",
       "      <td>2016-11-29</td>\n",
       "      <td>2.55</td>\n",
       "      <td>17850</td>\n",
       "      <td>15.30</td>\n",
       "    </tr>\n",
       "    <tr>\n",
       "      <th>1</th>\n",
       "      <td>536365</td>\n",
       "      <td>6</td>\n",
       "      <td>2016-11-29</td>\n",
       "      <td>3.39</td>\n",
       "      <td>17850</td>\n",
       "      <td>20.34</td>\n",
       "    </tr>\n",
       "    <tr>\n",
       "      <th>2</th>\n",
       "      <td>536365</td>\n",
       "      <td>8</td>\n",
       "      <td>2016-11-29</td>\n",
       "      <td>2.75</td>\n",
       "      <td>17850</td>\n",
       "      <td>22.00</td>\n",
       "    </tr>\n",
       "    <tr>\n",
       "      <th>3</th>\n",
       "      <td>536365</td>\n",
       "      <td>6</td>\n",
       "      <td>2016-11-29</td>\n",
       "      <td>3.39</td>\n",
       "      <td>17850</td>\n",
       "      <td>20.34</td>\n",
       "    </tr>\n",
       "    <tr>\n",
       "      <th>4</th>\n",
       "      <td>536365</td>\n",
       "      <td>6</td>\n",
       "      <td>2016-11-29</td>\n",
       "      <td>3.39</td>\n",
       "      <td>17850</td>\n",
       "      <td>20.34</td>\n",
       "    </tr>\n",
       "    <tr>\n",
       "      <th>5</th>\n",
       "      <td>536365</td>\n",
       "      <td>2</td>\n",
       "      <td>2016-11-29</td>\n",
       "      <td>7.65</td>\n",
       "      <td>17850</td>\n",
       "      <td>15.30</td>\n",
       "    </tr>\n",
       "    <tr>\n",
       "      <th>6</th>\n",
       "      <td>536365</td>\n",
       "      <td>6</td>\n",
       "      <td>2016-11-29</td>\n",
       "      <td>4.25</td>\n",
       "      <td>17850</td>\n",
       "      <td>25.50</td>\n",
       "    </tr>\n",
       "    <tr>\n",
       "      <th>7</th>\n",
       "      <td>536366</td>\n",
       "      <td>6</td>\n",
       "      <td>2016-11-29</td>\n",
       "      <td>1.85</td>\n",
       "      <td>17850</td>\n",
       "      <td>11.10</td>\n",
       "    </tr>\n",
       "    <tr>\n",
       "      <th>8</th>\n",
       "      <td>536366</td>\n",
       "      <td>6</td>\n",
       "      <td>2016-11-29</td>\n",
       "      <td>1.85</td>\n",
       "      <td>17850</td>\n",
       "      <td>11.10</td>\n",
       "    </tr>\n",
       "    <tr>\n",
       "      <th>9</th>\n",
       "      <td>536367</td>\n",
       "      <td>32</td>\n",
       "      <td>2016-11-29</td>\n",
       "      <td>1.69</td>\n",
       "      <td>13047</td>\n",
       "      <td>54.08</td>\n",
       "    </tr>\n",
       "  </tbody>\n",
       "</table>\n",
       "</div>"
      ],
      "text/plain": [
       "  invoice_no  quantity invoice_date  unit_price  customer_id  subtotal\n",
       "0     536365         6   2016-11-29        2.55        17850     15.30\n",
       "1     536365         6   2016-11-29        3.39        17850     20.34\n",
       "2     536365         8   2016-11-29        2.75        17850     22.00\n",
       "3     536365         6   2016-11-29        3.39        17850     20.34\n",
       "4     536365         6   2016-11-29        3.39        17850     20.34\n",
       "5     536365         2   2016-11-29        7.65        17850     15.30\n",
       "6     536365         6   2016-11-29        4.25        17850     25.50\n",
       "7     536366         6   2016-11-29        1.85        17850     11.10\n",
       "8     536366         6   2016-11-29        1.85        17850     11.10\n",
       "9     536367        32   2016-11-29        1.69        13047     54.08"
      ]
     },
     "execution_count": 196,
     "metadata": {},
     "output_type": "execute_result"
    }
   ],
   "source": [
    "df4.head(10)"
   ]
  },
  {
   "cell_type": "markdown",
   "id": "d147be1d",
   "metadata": {
    "ExecuteTime": {
     "end_time": "2021-09-06T14:38:09.843980Z",
     "start_time": "2021-09-06T14:38:09.838994Z"
    }
   },
   "source": [
    "## Average Ticket Price"
   ]
  },
  {
   "cell_type": "code",
   "execution_count": 197,
   "id": "0da0c2ff",
   "metadata": {
    "ExecuteTime": {
     "end_time": "2021-09-06T19:38:57.625732Z",
     "start_time": "2021-09-06T19:38:57.572035Z"
    }
   },
   "outputs": [],
   "source": [
    "basket_size = df4[['invoice_no','subtotal']].groupby('invoice_no').sum().reset_index()"
   ]
  },
  {
   "cell_type": "code",
   "execution_count": 198,
   "id": "3223cb54",
   "metadata": {
    "ExecuteTime": {
     "end_time": "2021-09-06T19:38:57.812384Z",
     "start_time": "2021-09-06T19:38:57.795438Z"
    }
   },
   "outputs": [
    {
     "data": {
      "text/html": [
       "<div>\n",
       "<style scoped>\n",
       "    .dataframe tbody tr th:only-of-type {\n",
       "        vertical-align: middle;\n",
       "    }\n",
       "\n",
       "    .dataframe tbody tr th {\n",
       "        vertical-align: top;\n",
       "    }\n",
       "\n",
       "    .dataframe thead th {\n",
       "        text-align: right;\n",
       "    }\n",
       "</style>\n",
       "<table border=\"1\" class=\"dataframe\">\n",
       "  <thead>\n",
       "    <tr style=\"text-align: right;\">\n",
       "      <th></th>\n",
       "      <th>invoice_no</th>\n",
       "      <th>avg_ticket</th>\n",
       "    </tr>\n",
       "  </thead>\n",
       "  <tbody>\n",
       "    <tr>\n",
       "      <th>0</th>\n",
       "      <td>536365</td>\n",
       "      <td>139.12</td>\n",
       "    </tr>\n",
       "    <tr>\n",
       "      <th>1</th>\n",
       "      <td>536366</td>\n",
       "      <td>22.20</td>\n",
       "    </tr>\n",
       "    <tr>\n",
       "      <th>2</th>\n",
       "      <td>536367</td>\n",
       "      <td>278.73</td>\n",
       "    </tr>\n",
       "    <tr>\n",
       "      <th>3</th>\n",
       "      <td>536368</td>\n",
       "      <td>70.05</td>\n",
       "    </tr>\n",
       "    <tr>\n",
       "      <th>4</th>\n",
       "      <td>536369</td>\n",
       "      <td>17.85</td>\n",
       "    </tr>\n",
       "    <tr>\n",
       "      <th>5</th>\n",
       "      <td>536370</td>\n",
       "      <td>855.86</td>\n",
       "    </tr>\n",
       "    <tr>\n",
       "      <th>6</th>\n",
       "      <td>536371</td>\n",
       "      <td>204.00</td>\n",
       "    </tr>\n",
       "    <tr>\n",
       "      <th>7</th>\n",
       "      <td>536372</td>\n",
       "      <td>22.20</td>\n",
       "    </tr>\n",
       "    <tr>\n",
       "      <th>8</th>\n",
       "      <td>536373</td>\n",
       "      <td>259.86</td>\n",
       "    </tr>\n",
       "    <tr>\n",
       "      <th>9</th>\n",
       "      <td>536374</td>\n",
       "      <td>350.40</td>\n",
       "    </tr>\n",
       "  </tbody>\n",
       "</table>\n",
       "</div>"
      ],
      "text/plain": [
       "  invoice_no  avg_ticket\n",
       "0     536365      139.12\n",
       "1     536366       22.20\n",
       "2     536367      278.73\n",
       "3     536368       70.05\n",
       "4     536369       17.85\n",
       "5     536370      855.86\n",
       "6     536371      204.00\n",
       "7     536372       22.20\n",
       "8     536373      259.86\n",
       "9     536374      350.40"
      ]
     },
     "execution_count": 198,
     "metadata": {},
     "output_type": "execute_result"
    }
   ],
   "source": [
    "basket_size.rename(columns = {'subtotal':'avg_ticket'}, inplace = True)            \n",
    "basket_size.head(10)"
   ]
  },
  {
   "cell_type": "code",
   "execution_count": 199,
   "id": "b33b2818",
   "metadata": {
    "ExecuteTime": {
     "end_time": "2021-09-06T19:38:58.079251Z",
     "start_time": "2021-09-06T19:38:57.980379Z"
    }
   },
   "outputs": [],
   "source": [
    "df4 = pd.merge(df4,basket_size, on ='invoice_no', how = 'left')"
   ]
  },
  {
   "cell_type": "code",
   "execution_count": 219,
   "id": "4cd830bf",
   "metadata": {
    "ExecuteTime": {
     "end_time": "2021-09-06T19:45:11.687813Z",
     "start_time": "2021-09-06T19:45:11.662876Z"
    }
   },
   "outputs": [
    {
     "data": {
      "text/html": [
       "<div>\n",
       "<style scoped>\n",
       "    .dataframe tbody tr th:only-of-type {\n",
       "        vertical-align: middle;\n",
       "    }\n",
       "\n",
       "    .dataframe tbody tr th {\n",
       "        vertical-align: top;\n",
       "    }\n",
       "\n",
       "    .dataframe thead th {\n",
       "        text-align: right;\n",
       "    }\n",
       "</style>\n",
       "<table border=\"1\" class=\"dataframe\">\n",
       "  <thead>\n",
       "    <tr style=\"text-align: right;\">\n",
       "      <th></th>\n",
       "      <th>customer_id</th>\n",
       "      <th>avg_ticket</th>\n",
       "      <th>recency</th>\n",
       "      <th>gross_revenue</th>\n",
       "      <th>frequency</th>\n",
       "    </tr>\n",
       "  </thead>\n",
       "  <tbody>\n",
       "    <tr>\n",
       "      <th>389656</th>\n",
       "      <td>13090</td>\n",
       "      <td>355.38</td>\n",
       "      <td>8</td>\n",
       "      <td>8689.39</td>\n",
       "      <td>18</td>\n",
       "    </tr>\n",
       "    <tr>\n",
       "      <th>381774</th>\n",
       "      <td>18041</td>\n",
       "      <td>267.40</td>\n",
       "      <td>11</td>\n",
       "      <td>4161.14</td>\n",
       "      <td>22</td>\n",
       "    </tr>\n",
       "    <tr>\n",
       "      <th>285693</th>\n",
       "      <td>15756</td>\n",
       "      <td>168.12</td>\n",
       "      <td>61</td>\n",
       "      <td>532.96</td>\n",
       "      <td>4</td>\n",
       "    </tr>\n",
       "    <tr>\n",
       "      <th>56012</th>\n",
       "      <td>18159</td>\n",
       "      <td>530.15</td>\n",
       "      <td>301</td>\n",
       "      <td>530.15</td>\n",
       "      <td>1</td>\n",
       "    </tr>\n",
       "    <tr>\n",
       "      <th>65243</th>\n",
       "      <td>14004</td>\n",
       "      <td>900.02</td>\n",
       "      <td>43</td>\n",
       "      <td>4582.64</td>\n",
       "      <td>7</td>\n",
       "    </tr>\n",
       "    <tr>\n",
       "      <th>311836</th>\n",
       "      <td>18045</td>\n",
       "      <td>189.40</td>\n",
       "      <td>45</td>\n",
       "      <td>189.40</td>\n",
       "      <td>1</td>\n",
       "    </tr>\n",
       "    <tr>\n",
       "      <th>255962</th>\n",
       "      <td>13908</td>\n",
       "      <td>907.94</td>\n",
       "      <td>79</td>\n",
       "      <td>2347.05</td>\n",
       "      <td>5</td>\n",
       "    </tr>\n",
       "    <tr>\n",
       "      <th>375289</th>\n",
       "      <td>12784</td>\n",
       "      <td>518.42</td>\n",
       "      <td>9</td>\n",
       "      <td>574.42</td>\n",
       "      <td>2</td>\n",
       "    </tr>\n",
       "    <tr>\n",
       "      <th>227899</th>\n",
       "      <td>14050</td>\n",
       "      <td>485.98</td>\n",
       "      <td>31</td>\n",
       "      <td>746.36</td>\n",
       "      <td>2</td>\n",
       "    </tr>\n",
       "    <tr>\n",
       "      <th>108681</th>\n",
       "      <td>17865</td>\n",
       "      <td>569.20</td>\n",
       "      <td>30</td>\n",
       "      <td>10158.54</td>\n",
       "      <td>27</td>\n",
       "    </tr>\n",
       "    <tr>\n",
       "      <th>319907</th>\n",
       "      <td>12597</td>\n",
       "      <td>2176.45</td>\n",
       "      <td>19</td>\n",
       "      <td>3683.13</td>\n",
       "      <td>5</td>\n",
       "    </tr>\n",
       "    <tr>\n",
       "      <th>62059</th>\n",
       "      <td>14606</td>\n",
       "      <td>113.85</td>\n",
       "      <td>1</td>\n",
       "      <td>11713.85</td>\n",
       "      <td>128</td>\n",
       "    </tr>\n",
       "    <tr>\n",
       "      <th>373315</th>\n",
       "      <td>14096</td>\n",
       "      <td>6936.52</td>\n",
       "      <td>4</td>\n",
       "      <td>57120.91</td>\n",
       "      <td>34</td>\n",
       "    </tr>\n",
       "    <tr>\n",
       "      <th>104805</th>\n",
       "      <td>15547</td>\n",
       "      <td>280.66</td>\n",
       "      <td>7</td>\n",
       "      <td>4954.84</td>\n",
       "      <td>14</td>\n",
       "    </tr>\n",
       "    <tr>\n",
       "      <th>278028</th>\n",
       "      <td>14936</td>\n",
       "      <td>1105.16</td>\n",
       "      <td>9</td>\n",
       "      <td>8117.42</td>\n",
       "      <td>9</td>\n",
       "    </tr>\n",
       "  </tbody>\n",
       "</table>\n",
       "</div>"
      ],
      "text/plain": [
       "        customer_id  avg_ticket  recency  gross_revenue  frequency\n",
       "389656        13090      355.38        8        8689.39         18\n",
       "381774        18041      267.40       11        4161.14         22\n",
       "285693        15756      168.12       61         532.96          4\n",
       "56012         18159      530.15      301         530.15          1\n",
       "65243         14004      900.02       43        4582.64          7\n",
       "311836        18045      189.40       45         189.40          1\n",
       "255962        13908      907.94       79        2347.05          5\n",
       "375289        12784      518.42        9         574.42          2\n",
       "227899        14050      485.98       31         746.36          2\n",
       "108681        17865      569.20       30       10158.54         27\n",
       "319907        12597     2176.45       19        3683.13          5\n",
       "62059         14606      113.85        1       11713.85        128\n",
       "373315        14096     6936.52        4       57120.91         34\n",
       "104805        15547      280.66        7        4954.84         14\n",
       "278028        14936     1105.16        9        8117.42          9"
      ]
     },
     "execution_count": 219,
     "metadata": {},
     "output_type": "execute_result"
    }
   ],
   "source": [
    "df4.sample(15)"
   ]
  },
  {
   "cell_type": "code",
   "execution_count": 201,
   "id": "8e8a7973",
   "metadata": {
    "ExecuteTime": {
     "end_time": "2021-09-06T19:39:00.562310Z",
     "start_time": "2021-09-06T19:39:00.535372Z"
    }
   },
   "outputs": [
    {
     "data": {
      "text/plain": [
       "4322"
      ]
     },
     "execution_count": 201,
     "metadata": {},
     "output_type": "execute_result"
    }
   ],
   "source": [
    "df4['customer_id'].unique().size"
   ]
  },
  {
   "cell_type": "markdown",
   "id": "eae76f47",
   "metadata": {
    "ExecuteTime": {
     "end_time": "2021-09-03T17:45:31.377343Z",
     "start_time": "2021-09-03T17:45:31.374351Z"
    }
   },
   "source": [
    "## recency"
   ]
  },
  {
   "cell_type": "code",
   "execution_count": 202,
   "id": "af7588bb",
   "metadata": {
    "ExecuteTime": {
     "end_time": "2021-09-06T19:39:02.177274Z",
     "start_time": "2021-09-06T19:39:02.051459Z"
    }
   },
   "outputs": [],
   "source": [
    "# day from the last purchase until the last date of the dataset\n",
    "df_recency = df4[['customer_id','invoice_date']].groupby('customer_id').max().reset_index()\n",
    "df_recency['recency'] = (df4['invoice_date'].max() - df_recency['invoice_date']).dt.days\n",
    "df4=pd.merge(df4, df_recency[['customer_id','recency']], on = 'customer_id', how='left')"
   ]
  },
  {
   "cell_type": "code",
   "execution_count": 203,
   "id": "a4b583a4",
   "metadata": {
    "ExecuteTime": {
     "end_time": "2021-09-06T19:39:05.914691Z",
     "start_time": "2021-09-06T19:39:05.892717Z"
    }
   },
   "outputs": [
    {
     "data": {
      "text/html": [
       "<div>\n",
       "<style scoped>\n",
       "    .dataframe tbody tr th:only-of-type {\n",
       "        vertical-align: middle;\n",
       "    }\n",
       "\n",
       "    .dataframe tbody tr th {\n",
       "        vertical-align: top;\n",
       "    }\n",
       "\n",
       "    .dataframe thead th {\n",
       "        text-align: right;\n",
       "    }\n",
       "</style>\n",
       "<table border=\"1\" class=\"dataframe\">\n",
       "  <thead>\n",
       "    <tr style=\"text-align: right;\">\n",
       "      <th></th>\n",
       "      <th>invoice_no</th>\n",
       "      <th>quantity</th>\n",
       "      <th>invoice_date</th>\n",
       "      <th>unit_price</th>\n",
       "      <th>customer_id</th>\n",
       "      <th>subtotal</th>\n",
       "      <th>avg_ticket</th>\n",
       "      <th>recency</th>\n",
       "    </tr>\n",
       "  </thead>\n",
       "  <tbody>\n",
       "    <tr>\n",
       "      <th>0</th>\n",
       "      <td>536365</td>\n",
       "      <td>6</td>\n",
       "      <td>2016-11-29</td>\n",
       "      <td>2.55</td>\n",
       "      <td>17850</td>\n",
       "      <td>15.30</td>\n",
       "      <td>139.12</td>\n",
       "      <td>302</td>\n",
       "    </tr>\n",
       "    <tr>\n",
       "      <th>1</th>\n",
       "      <td>536365</td>\n",
       "      <td>6</td>\n",
       "      <td>2016-11-29</td>\n",
       "      <td>3.39</td>\n",
       "      <td>17850</td>\n",
       "      <td>20.34</td>\n",
       "      <td>139.12</td>\n",
       "      <td>302</td>\n",
       "    </tr>\n",
       "    <tr>\n",
       "      <th>2</th>\n",
       "      <td>536365</td>\n",
       "      <td>8</td>\n",
       "      <td>2016-11-29</td>\n",
       "      <td>2.75</td>\n",
       "      <td>17850</td>\n",
       "      <td>22.00</td>\n",
       "      <td>139.12</td>\n",
       "      <td>302</td>\n",
       "    </tr>\n",
       "    <tr>\n",
       "      <th>3</th>\n",
       "      <td>536365</td>\n",
       "      <td>6</td>\n",
       "      <td>2016-11-29</td>\n",
       "      <td>3.39</td>\n",
       "      <td>17850</td>\n",
       "      <td>20.34</td>\n",
       "      <td>139.12</td>\n",
       "      <td>302</td>\n",
       "    </tr>\n",
       "    <tr>\n",
       "      <th>4</th>\n",
       "      <td>536365</td>\n",
       "      <td>6</td>\n",
       "      <td>2016-11-29</td>\n",
       "      <td>3.39</td>\n",
       "      <td>17850</td>\n",
       "      <td>20.34</td>\n",
       "      <td>139.12</td>\n",
       "      <td>302</td>\n",
       "    </tr>\n",
       "  </tbody>\n",
       "</table>\n",
       "</div>"
      ],
      "text/plain": [
       "  invoice_no  quantity invoice_date  unit_price  customer_id  subtotal  avg_ticket  recency\n",
       "0     536365         6   2016-11-29        2.55        17850     15.30      139.12      302\n",
       "1     536365         6   2016-11-29        3.39        17850     20.34      139.12      302\n",
       "2     536365         8   2016-11-29        2.75        17850     22.00      139.12      302\n",
       "3     536365         6   2016-11-29        3.39        17850     20.34      139.12      302\n",
       "4     536365         6   2016-11-29        3.39        17850     20.34      139.12      302"
      ]
     },
     "execution_count": 203,
     "metadata": {},
     "output_type": "execute_result"
    }
   ],
   "source": [
    "df4.head()"
   ]
  },
  {
   "cell_type": "markdown",
   "id": "172a6874",
   "metadata": {
    "ExecuteTime": {
     "end_time": "2021-08-24T21:02:06.126790Z",
     "start_time": "2021-08-24T21:02:06.120807Z"
    }
   },
   "source": [
    "## gross_revenue"
   ]
  },
  {
   "cell_type": "code",
   "execution_count": 204,
   "id": "2ab71dea",
   "metadata": {
    "ExecuteTime": {
     "end_time": "2021-09-06T19:39:10.582323Z",
     "start_time": "2021-09-06T19:39:10.547864Z"
    }
   },
   "outputs": [],
   "source": [
    "df_revenue = df4[['subtotal', 'customer_id']].copy()"
   ]
  },
  {
   "cell_type": "code",
   "execution_count": 205,
   "id": "42dcc5f4",
   "metadata": {
    "ExecuteTime": {
     "end_time": "2021-09-06T19:39:16.011868Z",
     "start_time": "2021-09-06T19:39:15.981914Z"
    }
   },
   "outputs": [
    {
     "data": {
      "text/html": [
       "<div>\n",
       "<style scoped>\n",
       "    .dataframe tbody tr th:only-of-type {\n",
       "        vertical-align: middle;\n",
       "    }\n",
       "\n",
       "    .dataframe tbody tr th {\n",
       "        vertical-align: top;\n",
       "    }\n",
       "\n",
       "    .dataframe thead th {\n",
       "        text-align: right;\n",
       "    }\n",
       "</style>\n",
       "<table border=\"1\" class=\"dataframe\">\n",
       "  <thead>\n",
       "    <tr style=\"text-align: right;\">\n",
       "      <th></th>\n",
       "      <th>customer_id</th>\n",
       "      <th>gross_revenue</th>\n",
       "    </tr>\n",
       "  </thead>\n",
       "  <tbody>\n",
       "    <tr>\n",
       "      <th>0</th>\n",
       "      <td>12347</td>\n",
       "      <td>4310.00</td>\n",
       "    </tr>\n",
       "    <tr>\n",
       "      <th>1</th>\n",
       "      <td>12348</td>\n",
       "      <td>1797.24</td>\n",
       "    </tr>\n",
       "    <tr>\n",
       "      <th>2</th>\n",
       "      <td>12349</td>\n",
       "      <td>1757.55</td>\n",
       "    </tr>\n",
       "    <tr>\n",
       "      <th>3</th>\n",
       "      <td>12350</td>\n",
       "      <td>334.40</td>\n",
       "    </tr>\n",
       "    <tr>\n",
       "      <th>4</th>\n",
       "      <td>12352</td>\n",
       "      <td>1545.41</td>\n",
       "    </tr>\n",
       "  </tbody>\n",
       "</table>\n",
       "</div>"
      ],
      "text/plain": [
       "   customer_id  gross_revenue\n",
       "0        12347        4310.00\n",
       "1        12348        1797.24\n",
       "2        12349        1757.55\n",
       "3        12350         334.40\n",
       "4        12352        1545.41"
      ]
     },
     "execution_count": 205,
     "metadata": {},
     "output_type": "execute_result"
    }
   ],
   "source": [
    "df_revenue = df_revenue.groupby('customer_id').sum().reset_index() #total per customer\n",
    "df_revenue.rename(columns = {'subtotal':'gross_revenue'}, inplace = True)\n",
    "df_revenue.head()"
   ]
  },
  {
   "cell_type": "code",
   "execution_count": 206,
   "id": "16727f93",
   "metadata": {
    "ExecuteTime": {
     "end_time": "2021-09-06T19:39:17.300457Z",
     "start_time": "2021-09-06T19:39:17.194420Z"
    }
   },
   "outputs": [],
   "source": [
    "df4 = pd.merge(df4, df_revenue, on='customer_id', how='left')"
   ]
  },
  {
   "cell_type": "code",
   "execution_count": 207,
   "id": "631ad101",
   "metadata": {
    "ExecuteTime": {
     "end_time": "2021-09-06T19:39:18.414285Z",
     "start_time": "2021-09-06T19:39:18.396332Z"
    }
   },
   "outputs": [
    {
     "data": {
      "text/html": [
       "<div>\n",
       "<style scoped>\n",
       "    .dataframe tbody tr th:only-of-type {\n",
       "        vertical-align: middle;\n",
       "    }\n",
       "\n",
       "    .dataframe tbody tr th {\n",
       "        vertical-align: top;\n",
       "    }\n",
       "\n",
       "    .dataframe thead th {\n",
       "        text-align: right;\n",
       "    }\n",
       "</style>\n",
       "<table border=\"1\" class=\"dataframe\">\n",
       "  <thead>\n",
       "    <tr style=\"text-align: right;\">\n",
       "      <th></th>\n",
       "      <th>invoice_no</th>\n",
       "      <th>quantity</th>\n",
       "      <th>invoice_date</th>\n",
       "      <th>unit_price</th>\n",
       "      <th>customer_id</th>\n",
       "      <th>subtotal</th>\n",
       "      <th>avg_ticket</th>\n",
       "      <th>recency</th>\n",
       "      <th>gross_revenue</th>\n",
       "    </tr>\n",
       "  </thead>\n",
       "  <tbody>\n",
       "    <tr>\n",
       "      <th>0</th>\n",
       "      <td>536365</td>\n",
       "      <td>6</td>\n",
       "      <td>2016-11-29</td>\n",
       "      <td>2.55</td>\n",
       "      <td>17850</td>\n",
       "      <td>15.30</td>\n",
       "      <td>139.12</td>\n",
       "      <td>302</td>\n",
       "      <td>5288.63</td>\n",
       "    </tr>\n",
       "    <tr>\n",
       "      <th>1</th>\n",
       "      <td>536365</td>\n",
       "      <td>6</td>\n",
       "      <td>2016-11-29</td>\n",
       "      <td>3.39</td>\n",
       "      <td>17850</td>\n",
       "      <td>20.34</td>\n",
       "      <td>139.12</td>\n",
       "      <td>302</td>\n",
       "      <td>5288.63</td>\n",
       "    </tr>\n",
       "    <tr>\n",
       "      <th>2</th>\n",
       "      <td>536365</td>\n",
       "      <td>8</td>\n",
       "      <td>2016-11-29</td>\n",
       "      <td>2.75</td>\n",
       "      <td>17850</td>\n",
       "      <td>22.00</td>\n",
       "      <td>139.12</td>\n",
       "      <td>302</td>\n",
       "      <td>5288.63</td>\n",
       "    </tr>\n",
       "    <tr>\n",
       "      <th>3</th>\n",
       "      <td>536365</td>\n",
       "      <td>6</td>\n",
       "      <td>2016-11-29</td>\n",
       "      <td>3.39</td>\n",
       "      <td>17850</td>\n",
       "      <td>20.34</td>\n",
       "      <td>139.12</td>\n",
       "      <td>302</td>\n",
       "      <td>5288.63</td>\n",
       "    </tr>\n",
       "    <tr>\n",
       "      <th>4</th>\n",
       "      <td>536365</td>\n",
       "      <td>6</td>\n",
       "      <td>2016-11-29</td>\n",
       "      <td>3.39</td>\n",
       "      <td>17850</td>\n",
       "      <td>20.34</td>\n",
       "      <td>139.12</td>\n",
       "      <td>302</td>\n",
       "      <td>5288.63</td>\n",
       "    </tr>\n",
       "  </tbody>\n",
       "</table>\n",
       "</div>"
      ],
      "text/plain": [
       "  invoice_no  quantity invoice_date  unit_price  customer_id  subtotal  avg_ticket  recency  gross_revenue\n",
       "0     536365         6   2016-11-29        2.55        17850     15.30      139.12      302        5288.63\n",
       "1     536365         6   2016-11-29        3.39        17850     20.34      139.12      302        5288.63\n",
       "2     536365         8   2016-11-29        2.75        17850     22.00      139.12      302        5288.63\n",
       "3     536365         6   2016-11-29        3.39        17850     20.34      139.12      302        5288.63\n",
       "4     536365         6   2016-11-29        3.39        17850     20.34      139.12      302        5288.63"
      ]
     },
     "execution_count": 207,
     "metadata": {},
     "output_type": "execute_result"
    }
   ],
   "source": [
    "df4.head()"
   ]
  },
  {
   "cell_type": "markdown",
   "id": "19a299ba",
   "metadata": {
    "ExecuteTime": {
     "end_time": "2021-09-03T18:32:19.434219Z",
     "start_time": "2021-09-03T18:32:19.423207Z"
    }
   },
   "source": [
    "## Frequency"
   ]
  },
  {
   "cell_type": "code",
   "execution_count": 208,
   "id": "970490e5",
   "metadata": {
    "ExecuteTime": {
     "end_time": "2021-09-06T19:39:27.228390Z",
     "start_time": "2021-09-06T19:39:27.194446Z"
    }
   },
   "outputs": [],
   "source": [
    "df_frequency = df4[['customer_id', 'invoice_no']]"
   ]
  },
  {
   "cell_type": "code",
   "execution_count": 209,
   "id": "81eb21d6",
   "metadata": {
    "ExecuteTime": {
     "end_time": "2021-09-06T19:39:28.793246Z",
     "start_time": "2021-09-06T19:39:28.740985Z"
    }
   },
   "outputs": [],
   "source": [
    "df_frequency = df_frequency.drop_duplicates(subset = 'invoice_no')\n",
    "df_frequency = df_frequency.groupby('customer_id').count().reset_index() # number of purchases for customer within the dataset"
   ]
  },
  {
   "cell_type": "code",
   "execution_count": 210,
   "id": "33970b72",
   "metadata": {
    "ExecuteTime": {
     "end_time": "2021-09-06T19:39:31.196884Z",
     "start_time": "2021-09-06T19:39:31.185915Z"
    }
   },
   "outputs": [],
   "source": [
    "df_frequency.rename(columns={'invoice_no':'frequency'}, inplace = True)"
   ]
  },
  {
   "cell_type": "code",
   "execution_count": 211,
   "id": "68a3657f",
   "metadata": {
    "ExecuteTime": {
     "end_time": "2021-09-06T19:39:33.444090Z",
     "start_time": "2021-09-06T19:39:33.325302Z"
    }
   },
   "outputs": [],
   "source": [
    "df4 = pd.merge(df4, df_frequency, on='customer_id', how = 'left')"
   ]
  },
  {
   "cell_type": "code",
   "execution_count": 212,
   "id": "fd8ee0c2",
   "metadata": {
    "ExecuteTime": {
     "end_time": "2021-09-06T19:39:36.697414Z",
     "start_time": "2021-09-06T19:39:36.685446Z"
    }
   },
   "outputs": [
    {
     "data": {
      "text/html": [
       "<div>\n",
       "<style scoped>\n",
       "    .dataframe tbody tr th:only-of-type {\n",
       "        vertical-align: middle;\n",
       "    }\n",
       "\n",
       "    .dataframe tbody tr th {\n",
       "        vertical-align: top;\n",
       "    }\n",
       "\n",
       "    .dataframe thead th {\n",
       "        text-align: right;\n",
       "    }\n",
       "</style>\n",
       "<table border=\"1\" class=\"dataframe\">\n",
       "  <thead>\n",
       "    <tr style=\"text-align: right;\">\n",
       "      <th></th>\n",
       "      <th>invoice_no</th>\n",
       "      <th>quantity</th>\n",
       "      <th>invoice_date</th>\n",
       "      <th>unit_price</th>\n",
       "      <th>customer_id</th>\n",
       "      <th>subtotal</th>\n",
       "      <th>avg_ticket</th>\n",
       "      <th>recency</th>\n",
       "      <th>gross_revenue</th>\n",
       "      <th>frequency</th>\n",
       "    </tr>\n",
       "  </thead>\n",
       "  <tbody>\n",
       "    <tr>\n",
       "      <th>0</th>\n",
       "      <td>536365</td>\n",
       "      <td>6</td>\n",
       "      <td>2016-11-29</td>\n",
       "      <td>2.55</td>\n",
       "      <td>17850</td>\n",
       "      <td>15.30</td>\n",
       "      <td>139.12</td>\n",
       "      <td>302</td>\n",
       "      <td>5288.63</td>\n",
       "      <td>35</td>\n",
       "    </tr>\n",
       "    <tr>\n",
       "      <th>1</th>\n",
       "      <td>536365</td>\n",
       "      <td>6</td>\n",
       "      <td>2016-11-29</td>\n",
       "      <td>3.39</td>\n",
       "      <td>17850</td>\n",
       "      <td>20.34</td>\n",
       "      <td>139.12</td>\n",
       "      <td>302</td>\n",
       "      <td>5288.63</td>\n",
       "      <td>35</td>\n",
       "    </tr>\n",
       "    <tr>\n",
       "      <th>2</th>\n",
       "      <td>536365</td>\n",
       "      <td>8</td>\n",
       "      <td>2016-11-29</td>\n",
       "      <td>2.75</td>\n",
       "      <td>17850</td>\n",
       "      <td>22.00</td>\n",
       "      <td>139.12</td>\n",
       "      <td>302</td>\n",
       "      <td>5288.63</td>\n",
       "      <td>35</td>\n",
       "    </tr>\n",
       "    <tr>\n",
       "      <th>3</th>\n",
       "      <td>536365</td>\n",
       "      <td>6</td>\n",
       "      <td>2016-11-29</td>\n",
       "      <td>3.39</td>\n",
       "      <td>17850</td>\n",
       "      <td>20.34</td>\n",
       "      <td>139.12</td>\n",
       "      <td>302</td>\n",
       "      <td>5288.63</td>\n",
       "      <td>35</td>\n",
       "    </tr>\n",
       "    <tr>\n",
       "      <th>4</th>\n",
       "      <td>536365</td>\n",
       "      <td>6</td>\n",
       "      <td>2016-11-29</td>\n",
       "      <td>3.39</td>\n",
       "      <td>17850</td>\n",
       "      <td>20.34</td>\n",
       "      <td>139.12</td>\n",
       "      <td>302</td>\n",
       "      <td>5288.63</td>\n",
       "      <td>35</td>\n",
       "    </tr>\n",
       "  </tbody>\n",
       "</table>\n",
       "</div>"
      ],
      "text/plain": [
       "  invoice_no  quantity invoice_date  unit_price  customer_id  subtotal  avg_ticket  recency  gross_revenue  frequency\n",
       "0     536365         6   2016-11-29        2.55        17850     15.30      139.12      302        5288.63         35\n",
       "1     536365         6   2016-11-29        3.39        17850     20.34      139.12      302        5288.63         35\n",
       "2     536365         8   2016-11-29        2.75        17850     22.00      139.12      302        5288.63         35\n",
       "3     536365         6   2016-11-29        3.39        17850     20.34      139.12      302        5288.63         35\n",
       "4     536365         6   2016-11-29        3.39        17850     20.34      139.12      302        5288.63         35"
      ]
     },
     "execution_count": 212,
     "metadata": {},
     "output_type": "execute_result"
    }
   ],
   "source": [
    "df4.head()"
   ]
  },
  {
   "cell_type": "code",
   "execution_count": 213,
   "id": "a62535a6",
   "metadata": {
    "ExecuteTime": {
     "end_time": "2021-09-06T19:39:37.750965Z",
     "start_time": "2021-09-06T19:39:37.724054Z"
    }
   },
   "outputs": [],
   "source": [
    "df4.drop(columns = ['quantity','unit_price' ,'subtotal','invoice_date','invoice_no'], axis = 1, inplace = True) # we don't need this features"
   ]
  },
  {
   "cell_type": "markdown",
   "id": "886bbdf7",
   "metadata": {
    "ExecuteTime": {
     "end_time": "2021-09-03T18:27:12.113617Z",
     "start_time": "2021-09-03T18:27:12.099655Z"
    }
   },
   "source": [
    "# Exploratory data analysis (EDA)"
   ]
  },
  {
   "cell_type": "code",
   "execution_count": 214,
   "id": "5dccdbff",
   "metadata": {
    "ExecuteTime": {
     "end_time": "2021-09-06T19:39:42.916861Z",
     "start_time": "2021-09-06T19:39:42.897912Z"
    }
   },
   "outputs": [],
   "source": [
    "df5 = df4.copy()"
   ]
  },
  {
   "cell_type": "code",
   "execution_count": 215,
   "id": "ef881811",
   "metadata": {
    "ExecuteTime": {
     "end_time": "2021-09-06T19:39:58.401373Z",
     "start_time": "2021-09-06T19:39:44.313448Z"
    }
   },
   "outputs": [
    {
     "data": {
      "application/vnd.jupyter.widget-view+json": {
       "model_id": "8b6a224cb43e4a9d8d80fc03338940d4",
       "version_major": 2,
       "version_minor": 0
      },
      "text/plain": [
       "Summarize dataset:   0%|          | 0/19 [00:00<?, ?it/s]"
      ]
     },
     "metadata": {},
     "output_type": "display_data"
    },
    {
     "name": "stderr",
     "output_type": "stream",
     "text": [
      "C:\\Users\\lelos\\anaconda3\\envs\\DSP_002\\lib\\site-packages\\scipy\\stats\\stats.py:4594: RuntimeWarning: overflow encountered in longlong_scalars\n",
      "  (2 * xtie * ytie) / m + x0 * y0 / (9 * m * (size - 2)))\n"
     ]
    },
    {
     "data": {
      "application/vnd.jupyter.widget-view+json": {
       "model_id": "51c4c517f7924fb494fb7c4a9cf1f1ee",
       "version_major": 2,
       "version_minor": 0
      },
      "text/plain": [
       "Generate report structure:   0%|          | 0/1 [00:00<?, ?it/s]"
      ]
     },
     "metadata": {},
     "output_type": "display_data"
    },
    {
     "data": {
      "application/vnd.jupyter.widget-view+json": {
       "model_id": "2d8b98e9c47e4be1bc6cd87752f5eaf6",
       "version_major": 2,
       "version_minor": 0
      },
      "text/plain": [
       "Render HTML:   0%|          | 0/1 [00:00<?, ?it/s]"
      ]
     },
     "metadata": {},
     "output_type": "display_data"
    },
    {
     "data": {
      "application/vnd.jupyter.widget-view+json": {
       "model_id": "74b840dd3c464f63a62b297746aa3827",
       "version_major": 2,
       "version_minor": 0
      },
      "text/plain": [
       "Export report to file:   0%|          | 0/1 [00:00<?, ?it/s]"
      ]
     },
     "metadata": {},
     "output_type": "display_data"
    }
   ],
   "source": [
    "profile = ProfileReport(df5)\n",
    "profile.to_file(r'../reports/profile_report.html')"
   ]
  },
  {
   "cell_type": "markdown",
   "id": "a921a62c",
   "metadata": {},
   "source": [
    "## Descriptive Statistics"
   ]
  },
  {
   "cell_type": "code",
   "execution_count": 216,
   "id": "acaa463e",
   "metadata": {
    "ExecuteTime": {
     "end_time": "2021-09-06T19:39:58.417375Z",
     "start_time": "2021-09-06T19:39:58.402370Z"
    }
   },
   "outputs": [],
   "source": [
    "num_attributes = df5.drop(columns = 'customer_id', axis = 1)"
   ]
  },
  {
   "cell_type": "code",
   "execution_count": 217,
   "id": "c0d90a38",
   "metadata": {
    "ExecuteTime": {
     "end_time": "2021-09-06T19:39:58.604831Z",
     "start_time": "2021-09-06T19:39:58.419325Z"
    }
   },
   "outputs": [
    {
     "data": {
      "text/html": [
       "<div>\n",
       "<style scoped>\n",
       "    .dataframe tbody tr th:only-of-type {\n",
       "        vertical-align: middle;\n",
       "    }\n",
       "\n",
       "    .dataframe tbody tr th {\n",
       "        vertical-align: top;\n",
       "    }\n",
       "\n",
       "    .dataframe thead th {\n",
       "        text-align: right;\n",
       "    }\n",
       "</style>\n",
       "<table border=\"1\" class=\"dataframe\">\n",
       "  <thead>\n",
       "    <tr style=\"text-align: right;\">\n",
       "      <th></th>\n",
       "      <th>attributes</th>\n",
       "      <th>min.</th>\n",
       "      <th>max</th>\n",
       "      <th>range</th>\n",
       "      <th>mean</th>\n",
       "      <th>median</th>\n",
       "      <th>std</th>\n",
       "      <th>skew</th>\n",
       "      <th>kurtosis</th>\n",
       "    </tr>\n",
       "  </thead>\n",
       "  <tbody>\n",
       "    <tr>\n",
       "      <th>0</th>\n",
       "      <td>avg_ticket</td>\n",
       "      <td>-168469.60</td>\n",
       "      <td>168469.60</td>\n",
       "      <td>336939.20</td>\n",
       "      <td>724.68</td>\n",
       "      <td>386.31</td>\n",
       "      <td>1491.50</td>\n",
       "      <td>6.73</td>\n",
       "      <td>875.73</td>\n",
       "    </tr>\n",
       "    <tr>\n",
       "      <th>1</th>\n",
       "      <td>recency</td>\n",
       "      <td>0.00</td>\n",
       "      <td>373.00</td>\n",
       "      <td>373.00</td>\n",
       "      <td>39.35</td>\n",
       "      <td>15.00</td>\n",
       "      <td>64.49</td>\n",
       "      <td>2.79</td>\n",
       "      <td>8.18</td>\n",
       "    </tr>\n",
       "    <tr>\n",
       "      <th>2</th>\n",
       "      <td>gross_revenue</td>\n",
       "      <td>0.00</td>\n",
       "      <td>279489.02</td>\n",
       "      <td>279489.02</td>\n",
       "      <td>11076.01</td>\n",
       "      <td>2618.23</td>\n",
       "      <td>30154.64</td>\n",
       "      <td>5.71</td>\n",
       "      <td>39.86</td>\n",
       "    </tr>\n",
       "    <tr>\n",
       "      <th>3</th>\n",
       "      <td>frequency</td>\n",
       "      <td>1.00</td>\n",
       "      <td>248.00</td>\n",
       "      <td>247.00</td>\n",
       "      <td>23.24</td>\n",
       "      <td>8.00</td>\n",
       "      <td>45.51</td>\n",
       "      <td>3.54</td>\n",
       "      <td>12.47</td>\n",
       "    </tr>\n",
       "  </tbody>\n",
       "</table>\n",
       "</div>"
      ],
      "text/plain": [
       "      attributes       min.       max     range     mean  median      std  skew  kurtosis\n",
       "0     avg_ticket -168469.60 168469.60 336939.20   724.68  386.31  1491.50  6.73    875.73\n",
       "1        recency       0.00    373.00    373.00    39.35   15.00    64.49  2.79      8.18\n",
       "2  gross_revenue       0.00 279489.02 279489.02 11076.01 2618.23 30154.64  5.71     39.86\n",
       "3      frequency       1.00    248.00    247.00    23.24    8.00    45.51  3.54     12.47"
      ]
     },
     "execution_count": 217,
     "metadata": {},
     "output_type": "execute_result"
    }
   ],
   "source": [
    "#cental tendency - mean, median\n",
    "ct1 = pd.DataFrame ( num_attributes.apply (np.mean) ).T\n",
    "ct2 = pd.DataFrame ( num_attributes.apply (np.median)).T\n",
    "                    \n",
    "# dispersion - desvio padrão, mínimo, máximo, range, skew, kurtosis\n",
    "d1 = pd.DataFrame ( num_attributes.apply (np.std)).T\n",
    "d2 = pd.DataFrame ( num_attributes.apply (np.min)).T\n",
    "d3 = pd.DataFrame ( num_attributes.apply (np.max)).T\n",
    "d4 = pd.DataFrame ( num_attributes.apply (lambda x: x.max() - x.min())).T\n",
    "d5 = pd.DataFrame ( num_attributes.apply (lambda x: x.skew() )).T\n",
    "d6 = pd.DataFrame ( num_attributes.apply (lambda x: x.kurtosis() ) ).T\n",
    "\n",
    "#concatenate\n",
    "\n",
    "df_metrics = pd.concat ([d2,d3,d4,ct1,ct2,d1,d5,d6]).T.reset_index()\n",
    "df_metrics.columns = ['attributes', 'min.','max','range', 'mean', 'median', 'std', 'skew', 'kurtosis']\n",
    "df_metrics"
   ]
  },
  {
   "cell_type": "code",
   "execution_count": 153,
   "id": "36ccff89",
   "metadata": {
    "ExecuteTime": {
     "end_time": "2021-09-06T18:42:49.096135Z",
     "start_time": "2021-09-06T18:42:49.015320Z"
    }
   },
   "outputs": [
    {
     "data": {
      "text/html": [
       "<div>\n",
       "<style scoped>\n",
       "    .dataframe tbody tr th:only-of-type {\n",
       "        vertical-align: middle;\n",
       "    }\n",
       "\n",
       "    .dataframe tbody tr th {\n",
       "        vertical-align: top;\n",
       "    }\n",
       "\n",
       "    .dataframe thead th {\n",
       "        text-align: right;\n",
       "    }\n",
       "</style>\n",
       "<table border=\"1\" class=\"dataframe\">\n",
       "  <thead>\n",
       "    <tr style=\"text-align: right;\">\n",
       "      <th></th>\n",
       "      <th>avg_ticket</th>\n",
       "      <th>recency</th>\n",
       "      <th>gross_revenue</th>\n",
       "      <th>frequency</th>\n",
       "    </tr>\n",
       "  </thead>\n",
       "  <tbody>\n",
       "    <tr>\n",
       "      <th>count</th>\n",
       "      <td>406516.00</td>\n",
       "      <td>406516.00</td>\n",
       "      <td>406516.00</td>\n",
       "      <td>406516.00</td>\n",
       "    </tr>\n",
       "    <tr>\n",
       "      <th>mean</th>\n",
       "      <td>724.68</td>\n",
       "      <td>39.35</td>\n",
       "      <td>11076.01</td>\n",
       "      <td>23.24</td>\n",
       "    </tr>\n",
       "    <tr>\n",
       "      <th>std</th>\n",
       "      <td>1491.50</td>\n",
       "      <td>64.49</td>\n",
       "      <td>30154.67</td>\n",
       "      <td>45.51</td>\n",
       "    </tr>\n",
       "    <tr>\n",
       "      <th>min</th>\n",
       "      <td>-168469.60</td>\n",
       "      <td>0.00</td>\n",
       "      <td>0.00</td>\n",
       "      <td>1.00</td>\n",
       "    </tr>\n",
       "    <tr>\n",
       "      <th>25%</th>\n",
       "      <td>242.26</td>\n",
       "      <td>4.00</td>\n",
       "      <td>1089.18</td>\n",
       "      <td>4.00</td>\n",
       "    </tr>\n",
       "    <tr>\n",
       "      <th>50%</th>\n",
       "      <td>386.31</td>\n",
       "      <td>15.00</td>\n",
       "      <td>2618.23</td>\n",
       "      <td>8.00</td>\n",
       "    </tr>\n",
       "    <tr>\n",
       "      <th>75%</th>\n",
       "      <td>682.17</td>\n",
       "      <td>40.00</td>\n",
       "      <td>6180.49</td>\n",
       "      <td>18.00</td>\n",
       "    </tr>\n",
       "    <tr>\n",
       "      <th>max</th>\n",
       "      <td>168469.60</td>\n",
       "      <td>373.00</td>\n",
       "      <td>279489.02</td>\n",
       "      <td>248.00</td>\n",
       "    </tr>\n",
       "  </tbody>\n",
       "</table>\n",
       "</div>"
      ],
      "text/plain": [
       "       avg_ticket   recency  gross_revenue  frequency\n",
       "count   406516.00 406516.00      406516.00  406516.00\n",
       "mean       724.68     39.35       11076.01      23.24\n",
       "std       1491.50     64.49       30154.67      45.51\n",
       "min    -168469.60      0.00           0.00       1.00\n",
       "25%        242.26      4.00        1089.18       4.00\n",
       "50%        386.31     15.00        2618.23       8.00\n",
       "75%        682.17     40.00        6180.49      18.00\n",
       "max     168469.60    373.00      279489.02     248.00"
      ]
     },
     "execution_count": 153,
     "metadata": {},
     "output_type": "execute_result"
    }
   ],
   "source": [
    "num_attributes.describe()"
   ]
  },
  {
   "cell_type": "markdown",
   "id": "f1400656",
   "metadata": {
    "ExecuteTime": {
     "end_time": "2021-07-12T15:46:08.585174Z",
     "start_time": "2021-07-12T15:46:08.571101Z"
    }
   },
   "source": [
    "### Categorical Attibutes"
   ]
  },
  {
   "cell_type": "code",
   "execution_count": 152,
   "id": "8d0511b3",
   "metadata": {
    "ExecuteTime": {
     "end_time": "2021-09-06T18:00:28.820135Z",
     "start_time": "2021-09-06T18:00:28.808168Z"
    }
   },
   "outputs": [],
   "source": [
    "# Tipos de Registros compostos apenas por strings que aparecem no codigo de estoque \n",
    "#(como os códigos são mistos, o Meigarom procurou códigos formados apenas por strings pra encontrar sujeiras\n",
    "#df5.loc[df5['stock_code'].apply (lambda x:bool (re.search('^[a-zA-Z]+$', x ) ) ), 'stock_code' ].unique()\n"
   ]
  },
  {
   "cell_type": "markdown",
   "id": "6a78d9cf",
   "metadata": {},
   "source": [
    "# <font color='purple'>Filtragem de Variáveis"
   ]
  },
  {
   "cell_type": "code",
   "execution_count": null,
   "id": "7f150258",
   "metadata": {
    "ExecuteTime": {
     "end_time": "2021-09-06T13:17:41.976278Z",
     "start_time": "2021-09-06T13:17:26.826Z"
    }
   },
   "outputs": [],
   "source": [
    "df2 = df1.copy() "
   ]
  },
  {
   "cell_type": "code",
   "execution_count": null,
   "id": "cb685c38",
   "metadata": {
    "ExecuteTime": {
     "end_time": "2021-09-06T13:17:41.977276Z",
     "start_time": "2021-09-06T13:17:26.829Z"
    }
   },
   "outputs": [],
   "source": [
    "df2.head()"
   ]
  },
  {
   "cell_type": "markdown",
   "id": "bc450c37",
   "metadata": {},
   "source": [
    "# <font color='red'>EDA(Exploratory Data Analysis)"
   ]
  },
  {
   "cell_type": "markdown",
   "id": "6cde1da0",
   "metadata": {},
   "source": [
    "## Univariate Analysis"
   ]
  },
  {
   "cell_type": "markdown",
   "id": "400a5771",
   "metadata": {},
   "source": [
    "## Bivariate Analysis"
   ]
  },
  {
   "cell_type": "markdown",
   "id": "2e148847",
   "metadata": {
    "ExecuteTime": {
     "end_time": "2021-07-18T22:20:01.868560Z",
     "start_time": "2021-07-18T22:20:01.856593Z"
    },
    "heading_collapsed": true
   },
   "source": [
    "## Space study"
   ]
  },
  {
   "cell_type": "markdown",
   "id": "09df244f",
   "metadata": {
    "hidden": true
   },
   "source": [
    "### PCA"
   ]
  },
  {
   "cell_type": "markdown",
   "id": "6446cd14",
   "metadata": {
    "hidden": true
   },
   "source": [
    "### UMAP"
   ]
  },
  {
   "cell_type": "markdown",
   "id": "c7c6d7c3",
   "metadata": {
    "hidden": true
   },
   "source": [
    "### t-SNE"
   ]
  },
  {
   "cell_type": "markdown",
   "id": "6a729429",
   "metadata": {
    "hidden": true
   },
   "source": [
    "### Tree-Based Embedding"
   ]
  },
  {
   "cell_type": "markdown",
   "id": "16351db3",
   "metadata": {},
   "source": [
    "# <font color='red'>Data Preparation"
   ]
  },
  {
   "cell_type": "markdown",
   "id": "e54ab74b",
   "metadata": {},
   "source": [
    "# <font color='red'>Feature Selection"
   ]
  },
  {
   "cell_type": "markdown",
   "id": "54063b42",
   "metadata": {},
   "source": [
    "# <font color='red'>Hyperparameter Fine-Tunning"
   ]
  },
  {
   "cell_type": "markdown",
   "id": "41b5484b",
   "metadata": {
    "ExecuteTime": {
     "end_time": "2021-07-21T18:33:34.363629Z",
     "start_time": "2021-07-21T18:33:34.350628Z"
    }
   },
   "source": [
    "## K-Means"
   ]
  },
  {
   "cell_type": "markdown",
   "id": "418f2651",
   "metadata": {},
   "source": [
    "## GMM"
   ]
  },
  {
   "cell_type": "markdown",
   "id": "667abdcf",
   "metadata": {
    "ExecuteTime": {
     "end_time": "2021-07-22T13:26:33.938895Z",
     "start_time": "2021-07-22T13:26:33.933871Z"
    }
   },
   "source": [
    "## Hierarchical Clustering"
   ]
  },
  {
   "cell_type": "markdown",
   "id": "9156217d",
   "metadata": {},
   "source": [
    "## DBSCAN"
   ]
  },
  {
   "cell_type": "markdown",
   "id": "79b90b28",
   "metadata": {
    "ExecuteTime": {
     "end_time": "2021-07-22T13:26:12.104588Z",
     "start_time": "2021-07-22T13:22:49.766Z"
    }
   },
   "source": [
    "## Results"
   ]
  },
  {
   "cell_type": "markdown",
   "id": "47a7569a",
   "metadata": {
    "ExecuteTime": {
     "end_time": "2021-07-08T22:47:53.635030Z",
     "start_time": "2021-07-08T22:47:53.621038Z"
    }
   },
   "source": [
    "## Within-Cluster Sum of Square (WSS)"
   ]
  },
  {
   "cell_type": "markdown",
   "id": "f175e0e7",
   "metadata": {
    "ExecuteTime": {
     "end_time": "2021-07-08T22:47:55.550557Z",
     "start_time": "2021-07-08T22:47:55.536594Z"
    }
   },
   "source": [
    "## Silhouette Score"
   ]
  },
  {
   "cell_type": "markdown",
   "id": "70678ec6",
   "metadata": {},
   "source": [
    "# <font color='red'>Model Training"
   ]
  },
  {
   "cell_type": "markdown",
   "id": "65bdf69c",
   "metadata": {},
   "source": [
    "## K-Means"
   ]
  },
  {
   "cell_type": "markdown",
   "id": "f4291436",
   "metadata": {
    "ExecuteTime": {
     "end_time": "2021-07-09T16:31:54.592587Z",
     "start_time": "2021-07-09T16:31:54.578656Z"
    }
   },
   "source": [
    "## Cluster Validation"
   ]
  },
  {
   "cell_type": "markdown",
   "id": "5eb3b784",
   "metadata": {},
   "source": [
    "# <font color='red'>Cluster Analysis"
   ]
  },
  {
   "cell_type": "markdown",
   "id": "72a9675f",
   "metadata": {
    "ExecuteTime": {
     "end_time": "2021-07-09T01:48:10.994672Z",
     "start_time": "2021-07-09T01:48:10.981674Z"
    }
   },
   "source": [
    "# <font color='red'>Deploy to production"
   ]
  },
  {
   "cell_type": "code",
   "execution_count": null,
   "id": "ce02546c",
   "metadata": {},
   "outputs": [],
   "source": []
  },
  {
   "cell_type": "code",
   "execution_count": null,
   "id": "bdfafacc",
   "metadata": {},
   "outputs": [],
   "source": []
  },
  {
   "cell_type": "code",
   "execution_count": null,
   "id": "dba3afb3",
   "metadata": {},
   "outputs": [],
   "source": []
  },
  {
   "cell_type": "code",
   "execution_count": null,
   "id": "09d2bacf",
   "metadata": {},
   "outputs": [],
   "source": []
  },
  {
   "cell_type": "code",
   "execution_count": null,
   "id": "780a26b4",
   "metadata": {},
   "outputs": [],
   "source": []
  },
  {
   "cell_type": "code",
   "execution_count": null,
   "id": "76819805",
   "metadata": {},
   "outputs": [],
   "source": []
  },
  {
   "cell_type": "code",
   "execution_count": null,
   "id": "af4a06b3",
   "metadata": {},
   "outputs": [],
   "source": []
  },
  {
   "cell_type": "code",
   "execution_count": null,
   "id": "c654f46e",
   "metadata": {},
   "outputs": [],
   "source": []
  },
  {
   "cell_type": "code",
   "execution_count": null,
   "id": "53330f61",
   "metadata": {},
   "outputs": [],
   "source": []
  },
  {
   "cell_type": "code",
   "execution_count": null,
   "id": "4e5c2c55",
   "metadata": {},
   "outputs": [],
   "source": []
  },
  {
   "cell_type": "code",
   "execution_count": null,
   "id": "c5cf861d",
   "metadata": {},
   "outputs": [],
   "source": []
  },
  {
   "cell_type": "code",
   "execution_count": null,
   "id": "7664e16e",
   "metadata": {},
   "outputs": [],
   "source": []
  },
  {
   "cell_type": "code",
   "execution_count": null,
   "id": "2481c0f7",
   "metadata": {},
   "outputs": [],
   "source": []
  },
  {
   "cell_type": "code",
   "execution_count": null,
   "id": "eca75372",
   "metadata": {},
   "outputs": [],
   "source": []
  },
  {
   "cell_type": "code",
   "execution_count": null,
   "id": "7bd3f91d",
   "metadata": {},
   "outputs": [],
   "source": []
  },
  {
   "cell_type": "code",
   "execution_count": null,
   "id": "462fcd25",
   "metadata": {},
   "outputs": [],
   "source": []
  },
  {
   "cell_type": "code",
   "execution_count": null,
   "id": "e47d2426",
   "metadata": {},
   "outputs": [],
   "source": []
  },
  {
   "cell_type": "code",
   "execution_count": null,
   "id": "83a3119f",
   "metadata": {},
   "outputs": [],
   "source": []
  },
  {
   "cell_type": "code",
   "execution_count": null,
   "id": "92b1c8c9",
   "metadata": {},
   "outputs": [],
   "source": []
  },
  {
   "cell_type": "code",
   "execution_count": null,
   "id": "dc15cff2",
   "metadata": {},
   "outputs": [],
   "source": []
  },
  {
   "cell_type": "code",
   "execution_count": null,
   "id": "69c45dd2",
   "metadata": {},
   "outputs": [],
   "source": []
  },
  {
   "cell_type": "code",
   "execution_count": null,
   "id": "fa1a2190",
   "metadata": {},
   "outputs": [],
   "source": []
  },
  {
   "cell_type": "code",
   "execution_count": null,
   "id": "2bc1fbc2",
   "metadata": {},
   "outputs": [],
   "source": []
  },
  {
   "cell_type": "code",
   "execution_count": null,
   "id": "17d28154",
   "metadata": {},
   "outputs": [],
   "source": []
  },
  {
   "cell_type": "code",
   "execution_count": null,
   "id": "8966e579",
   "metadata": {},
   "outputs": [],
   "source": []
  },
  {
   "cell_type": "code",
   "execution_count": null,
   "id": "43e01e2a",
   "metadata": {},
   "outputs": [],
   "source": []
  },
  {
   "cell_type": "code",
   "execution_count": null,
   "id": "a1c18a3d",
   "metadata": {},
   "outputs": [],
   "source": []
  },
  {
   "cell_type": "code",
   "execution_count": null,
   "id": "15150c77",
   "metadata": {},
   "outputs": [],
   "source": []
  },
  {
   "cell_type": "code",
   "execution_count": null,
   "id": "21288562",
   "metadata": {},
   "outputs": [],
   "source": []
  },
  {
   "cell_type": "code",
   "execution_count": null,
   "id": "46b04509",
   "metadata": {},
   "outputs": [],
   "source": []
  },
  {
   "cell_type": "code",
   "execution_count": null,
   "id": "7fb338fd",
   "metadata": {},
   "outputs": [],
   "source": []
  },
  {
   "cell_type": "code",
   "execution_count": null,
   "id": "9f2675c8",
   "metadata": {},
   "outputs": [],
   "source": []
  },
  {
   "cell_type": "code",
   "execution_count": null,
   "id": "f6557d78",
   "metadata": {},
   "outputs": [],
   "source": []
  }
 ],
 "metadata": {
  "kernelspec": {
   "display_name": "Python 3",
   "language": "python",
   "name": "python3"
  },
  "language_info": {
   "codemirror_mode": {
    "name": "ipython",
    "version": 3
   },
   "file_extension": ".py",
   "mimetype": "text/x-python",
   "name": "python",
   "nbconvert_exporter": "python",
   "pygments_lexer": "ipython3",
   "version": "3.8.10"
  },
  "toc": {
   "base_numbering": "0",
   "nav_menu": {},
   "number_sections": true,
   "sideBar": true,
   "skip_h1_title": false,
   "title_cell": "Table of Contents",
   "title_sidebar": "Contents",
   "toc_cell": false,
   "toc_position": {},
   "toc_section_display": true,
   "toc_window_display": false
  }
 },
 "nbformat": 4,
 "nbformat_minor": 5
}
