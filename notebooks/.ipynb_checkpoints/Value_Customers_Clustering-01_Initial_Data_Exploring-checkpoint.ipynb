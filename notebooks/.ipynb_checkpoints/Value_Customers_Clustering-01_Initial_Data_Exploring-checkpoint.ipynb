{
 "cells": [
  {
   "cell_type": "markdown",
   "id": "460ce7db",
   "metadata": {},
   "source": [
    "# <font color='red'>DSP_002 - High Value Customer Identification (Insiders)"
   ]
  },
  {
   "cell_type": "markdown",
   "id": "6771fffb",
   "metadata": {
    "heading_collapsed": true
   },
   "source": [
    "# Basic setups"
   ]
  },
  {
   "cell_type": "markdown",
   "id": "c3c26fe8",
   "metadata": {
    "hidden": true
   },
   "source": [
    "## Imports"
   ]
  },
  {
   "cell_type": "code",
   "execution_count": 1,
   "id": "752777d1",
   "metadata": {
    "ExecuteTime": {
     "end_time": "2021-10-07T22:29:50.687663Z",
     "start_time": "2021-10-07T22:29:46.962298Z"
    },
    "hidden": true
   },
   "outputs": [],
   "source": [
    "import numpy as np\n",
    "import pandas as pd\n",
    "import seaborn as sns\n",
    "\n",
    "import umap.umap_ as umap\n",
    "# pip install umap-learn  to work\n",
    "from IPython.core.display     import HTML\n",
    "from matplotlib import pyplot as plt\n",
    "from pandas_profiling import ProfileReport \n",
    "from sklearn import cluster       as c\n",
    "from sklearn import metrics       as m\n",
    "from sklearn import ensemble      as en\n",
    "from sklearn import preprocessing as pp\n",
    "from sklearn import decomposition as dd\n",
    "from sklearn import manifold      as mn\n",
    "from sklearn import mixture       as mx\n",
    "from sklearn.manifold import TSNE\n",
    "from sklearn.neighbors import NearestNeighbors\n",
    "from scipy.cluster import hierarchy as hc\n",
    "from plotly import express as px\n",
    "\n",
    "from yellowbrick.cluster import KElbowVisualizer, SilhouetteVisualizer"
   ]
  },
  {
   "cell_type": "markdown",
   "id": "c04dfcef",
   "metadata": {
    "hidden": true
   },
   "source": [
    "## Helper Functions"
   ]
  },
  {
   "cell_type": "code",
   "execution_count": 2,
   "id": "5cca2481",
   "metadata": {
    "ExecuteTime": {
     "end_time": "2021-10-07T22:29:50.719031Z",
     "start_time": "2021-10-07T22:29:50.689076Z"
    },
    "hidden": true
   },
   "outputs": [
    {
     "name": "stdout",
     "output_type": "stream",
     "text": [
      "Populating the interactive namespace from numpy and matplotlib\n"
     ]
    },
    {
     "data": {
      "text/html": [
       "<style>.container { width:100% !important; }</style>"
      ],
      "text/plain": [
       "<IPython.core.display.HTML object>"
      ]
     },
     "metadata": {},
     "output_type": "display_data"
    }
   ],
   "source": [
    "def jupyter_settings():\n",
    "    %matplotlib inline\n",
    "    %pylab inline\n",
    "    plt.style.use( 'bmh' )\n",
    "    plt.rcParams['figure.figsize'] = [25, 12]\n",
    "    plt.rcParams['font.size'] = 24\n",
    "    display( HTML( '<style>.container { width:100% !important; }</style>') )\n",
    "    pd.options.display.max_columns = None\n",
    "    pd.options.display.max_rows = None\n",
    "    pd.set_option( 'display.expand_frame_repr', False )\n",
    "    sns.set()\n",
    "jupyter_settings()"
   ]
  },
  {
   "cell_type": "code",
   "execution_count": 3,
   "id": "dc906514",
   "metadata": {
    "ExecuteTime": {
     "end_time": "2021-10-07T22:29:50.733968Z",
     "start_time": "2021-10-07T22:29:50.719993Z"
    },
    "hidden": true
   },
   "outputs": [],
   "source": [
    "# Supress Scientific Notation\n",
    "np.set_printoptions(suppress=True)\n",
    "pd.set_option('display.float_format', '{:.2f}'.format)"
   ]
  },
  {
   "cell_type": "markdown",
   "id": "0ebc7331",
   "metadata": {
    "ExecuteTime": {
     "end_time": "2021-07-23T14:02:30.182766Z",
     "start_time": "2021-07-23T14:02:29.597224Z"
    },
    "heading_collapsed": true
   },
   "source": [
    "# Data description"
   ]
  },
  {
   "cell_type": "markdown",
   "id": "caabb06d",
   "metadata": {
    "hidden": true
   },
   "source": [
    "## Data Load"
   ]
  },
  {
   "cell_type": "code",
   "execution_count": 4,
   "id": "3f64173d",
   "metadata": {
    "ExecuteTime": {
     "end_time": "2021-10-07T22:29:51.287452Z",
     "start_time": "2021-10-07T22:29:50.734955Z"
    },
    "hidden": true
   },
   "outputs": [],
   "source": [
    "df_raw = pd.read_csv(r'../data/raw/Ecommerce.csv')"
   ]
  },
  {
   "cell_type": "markdown",
   "id": "050866e8",
   "metadata": {
    "ExecuteTime": {
     "end_time": "2021-08-24T19:25:03.579821Z",
     "start_time": "2021-08-24T19:25:03.009348Z"
    },
    "hidden": true,
    "scrolled": true
   },
   "source": [
    "## Data Overview"
   ]
  },
  {
   "cell_type": "code",
   "execution_count": 5,
   "id": "7e7e90a2",
   "metadata": {
    "ExecuteTime": {
     "end_time": "2021-10-07T22:29:51.319403Z",
     "start_time": "2021-10-07T22:29:51.290450Z"
    },
    "hidden": true,
    "scrolled": true
   },
   "outputs": [
    {
     "data": {
      "text/html": [
       "<div>\n",
       "<style scoped>\n",
       "    .dataframe tbody tr th:only-of-type {\n",
       "        vertical-align: middle;\n",
       "    }\n",
       "\n",
       "    .dataframe tbody tr th {\n",
       "        vertical-align: top;\n",
       "    }\n",
       "\n",
       "    .dataframe thead th {\n",
       "        text-align: right;\n",
       "    }\n",
       "</style>\n",
       "<table border=\"1\" class=\"dataframe\">\n",
       "  <thead>\n",
       "    <tr style=\"text-align: right;\">\n",
       "      <th></th>\n",
       "      <th>InvoiceNo</th>\n",
       "      <th>StockCode</th>\n",
       "      <th>Description</th>\n",
       "      <th>Quantity</th>\n",
       "      <th>InvoiceDate</th>\n",
       "      <th>UnitPrice</th>\n",
       "      <th>CustomerID</th>\n",
       "      <th>Country</th>\n",
       "      <th>Unnamed: 8</th>\n",
       "    </tr>\n",
       "  </thead>\n",
       "  <tbody>\n",
       "    <tr>\n",
       "      <th>0</th>\n",
       "      <td>536365</td>\n",
       "      <td>85123A</td>\n",
       "      <td>WHITE HANGING HEART T-LIGHT HOLDER</td>\n",
       "      <td>6</td>\n",
       "      <td>29-Nov-16</td>\n",
       "      <td>2.55</td>\n",
       "      <td>17850.00</td>\n",
       "      <td>United Kingdom</td>\n",
       "      <td>NaN</td>\n",
       "    </tr>\n",
       "    <tr>\n",
       "      <th>1</th>\n",
       "      <td>536365</td>\n",
       "      <td>71053</td>\n",
       "      <td>WHITE METAL LANTERN</td>\n",
       "      <td>6</td>\n",
       "      <td>29-Nov-16</td>\n",
       "      <td>3.39</td>\n",
       "      <td>17850.00</td>\n",
       "      <td>United Kingdom</td>\n",
       "      <td>NaN</td>\n",
       "    </tr>\n",
       "    <tr>\n",
       "      <th>2</th>\n",
       "      <td>536365</td>\n",
       "      <td>84406B</td>\n",
       "      <td>CREAM CUPID HEARTS COAT HANGER</td>\n",
       "      <td>8</td>\n",
       "      <td>29-Nov-16</td>\n",
       "      <td>2.75</td>\n",
       "      <td>17850.00</td>\n",
       "      <td>United Kingdom</td>\n",
       "      <td>NaN</td>\n",
       "    </tr>\n",
       "    <tr>\n",
       "      <th>3</th>\n",
       "      <td>536365</td>\n",
       "      <td>84029G</td>\n",
       "      <td>KNITTED UNION FLAG HOT WATER BOTTLE</td>\n",
       "      <td>6</td>\n",
       "      <td>29-Nov-16</td>\n",
       "      <td>3.39</td>\n",
       "      <td>17850.00</td>\n",
       "      <td>United Kingdom</td>\n",
       "      <td>NaN</td>\n",
       "    </tr>\n",
       "    <tr>\n",
       "      <th>4</th>\n",
       "      <td>536365</td>\n",
       "      <td>84029E</td>\n",
       "      <td>RED WOOLLY HOTTIE WHITE HEART.</td>\n",
       "      <td>6</td>\n",
       "      <td>29-Nov-16</td>\n",
       "      <td>3.39</td>\n",
       "      <td>17850.00</td>\n",
       "      <td>United Kingdom</td>\n",
       "      <td>NaN</td>\n",
       "    </tr>\n",
       "  </tbody>\n",
       "</table>\n",
       "</div>"
      ],
      "text/plain": [
       "  InvoiceNo StockCode                          Description  Quantity InvoiceDate  UnitPrice  CustomerID         Country  Unnamed: 8\n",
       "0    536365    85123A   WHITE HANGING HEART T-LIGHT HOLDER         6   29-Nov-16       2.55    17850.00  United Kingdom         NaN\n",
       "1    536365     71053                  WHITE METAL LANTERN         6   29-Nov-16       3.39    17850.00  United Kingdom         NaN\n",
       "2    536365    84406B       CREAM CUPID HEARTS COAT HANGER         8   29-Nov-16       2.75    17850.00  United Kingdom         NaN\n",
       "3    536365    84029G  KNITTED UNION FLAG HOT WATER BOTTLE         6   29-Nov-16       3.39    17850.00  United Kingdom         NaN\n",
       "4    536365    84029E       RED WOOLLY HOTTIE WHITE HEART.         6   29-Nov-16       3.39    17850.00  United Kingdom         NaN"
      ]
     },
     "execution_count": 5,
     "metadata": {},
     "output_type": "execute_result"
    }
   ],
   "source": [
    "df_raw.head()"
   ]
  },
  {
   "cell_type": "code",
   "execution_count": 6,
   "id": "05dd5529",
   "metadata": {
    "ExecuteTime": {
     "end_time": "2021-10-07T22:29:51.335369Z",
     "start_time": "2021-10-07T22:29:51.320368Z"
    },
    "hidden": true
   },
   "outputs": [
    {
     "name": "stdout",
     "output_type": "stream",
     "text": [
      "The original dataset has 541909 transations registers with 9 attributes.\n"
     ]
    }
   ],
   "source": [
    "print('The original dataset has {} transations registers with {} attributes.'.format(df_raw.shape[0], df_raw.shape[1]) )"
   ]
  },
  {
   "cell_type": "code",
   "execution_count": 7,
   "id": "2018dd7a",
   "metadata": {
    "ExecuteTime": {
     "end_time": "2021-10-07T22:29:51.351311Z",
     "start_time": "2021-10-07T22:29:51.337322Z"
    },
    "hidden": true
   },
   "outputs": [
    {
     "data": {
      "text/plain": [
       "Index(['InvoiceNo', 'StockCode', 'Description', 'Quantity', 'InvoiceDate',\n",
       "       'UnitPrice', 'CustomerID', 'Country', 'Unnamed: 8'],\n",
       "      dtype='object')"
      ]
     },
     "execution_count": 7,
     "metadata": {},
     "output_type": "execute_result"
    }
   ],
   "source": [
    "df_raw.columns"
   ]
  },
  {
   "cell_type": "markdown",
   "id": "bb006467",
   "metadata": {
    "hidden": true
   },
   "source": [
    "Tasks:\n",
    "\n",
    "    1) Change the name columns to snacke case\n",
    "    \n",
    "    2) Check \"Unnamed: 8\" column"
   ]
  },
  {
   "cell_type": "markdown",
   "id": "b57ae555",
   "metadata": {
    "hidden": true
   },
   "source": [
    "## Check NaN"
   ]
  },
  {
   "cell_type": "code",
   "execution_count": 8,
   "id": "22edd1e3",
   "metadata": {
    "ExecuteTime": {
     "end_time": "2021-10-07T22:29:51.462023Z",
     "start_time": "2021-10-07T22:29:51.352283Z"
    },
    "hidden": true
   },
   "outputs": [
    {
     "data": {
      "text/plain": [
       "InvoiceNo       0.00\n",
       "StockCode       0.00\n",
       "Description     0.27\n",
       "Quantity        0.00\n",
       "InvoiceDate     0.00\n",
       "UnitPrice       0.00\n",
       "CustomerID     24.93\n",
       "Country         0.00\n",
       "Unnamed: 8    100.00\n",
       "dtype: float64"
      ]
     },
     "execution_count": 8,
     "metadata": {},
     "output_type": "execute_result"
    }
   ],
   "source": [
    "df_raw.isna().sum() / len(df_raw) *100"
   ]
  },
  {
   "cell_type": "markdown",
   "id": "5c808ec8",
   "metadata": {
    "hidden": true
   },
   "source": [
    "Tasks:"
   ]
  },
  {
   "cell_type": "markdown",
   "id": "463dd00c",
   "metadata": {
    "hidden": true
   },
   "source": [
    "4) Check \"Description\" and \"CustomerID\" NaN"
   ]
  },
  {
   "cell_type": "code",
   "execution_count": 9,
   "id": "a1621628",
   "metadata": {
    "ExecuteTime": {
     "end_time": "2021-10-07T22:29:51.477982Z",
     "start_time": "2021-10-07T22:29:51.462987Z"
    },
    "hidden": true,
    "scrolled": true
   },
   "outputs": [
    {
     "name": "stdout",
     "output_type": "stream",
     "text": [
      "There are a considerable number of transations without customers. \n",
      "Identify the customers is the main objective of this project, so this is a big problem. \n",
      "Through this cycle, we have a lot of problems with non identified customers, so we decided to drop then in this \n",
      "first cycle of the project. Maybe in the next cycle something different can be done. \n",
      "After all, we discovery that dropping all the clientes without id, we drop all the \"descriptions\" NaN as well.\n"
     ]
    }
   ],
   "source": [
    "print('''There are a considerable number of transations without customers. \n",
    "Identify the customers is the main objective of this project, so this is a big problem. \n",
    "Through this cycle, we have a lot of problems with non identified customers, so we decided to drop then in this \n",
    "first cycle of the project. Maybe in the next cycle something different can be done. \n",
    "After all, we discovery that dropping all the clientes without id, we drop all the \"descriptions\" NaN as well.''')"
   ]
  },
  {
   "cell_type": "markdown",
   "id": "965f9d5a",
   "metadata": {
    "hidden": true
   },
   "source": []
  },
  {
   "cell_type": "markdown",
   "id": "7a54ac5b",
   "metadata": {
    "hidden": true
   },
   "source": [
    "## Data types"
   ]
  },
  {
   "cell_type": "code",
   "execution_count": 10,
   "id": "fbe59f76",
   "metadata": {
    "ExecuteTime": {
     "end_time": "2021-10-07T22:29:51.492939Z",
     "start_time": "2021-10-07T22:29:51.478945Z"
    },
    "hidden": true,
    "scrolled": true
   },
   "outputs": [
    {
     "data": {
      "text/plain": [
       "InvoiceNo       object\n",
       "StockCode       object\n",
       "Description     object\n",
       "Quantity         int64\n",
       "InvoiceDate     object\n",
       "UnitPrice      float64\n",
       "CustomerID     float64\n",
       "Country         object\n",
       "Unnamed: 8     float64\n",
       "dtype: object"
      ]
     },
     "execution_count": 10,
     "metadata": {},
     "output_type": "execute_result"
    }
   ],
   "source": [
    "df_raw.dtypes"
   ]
  },
  {
   "cell_type": "markdown",
   "id": "5106eaf7",
   "metadata": {
    "ExecuteTime": {
     "end_time": "2021-08-19T17:44:20.227953Z",
     "start_time": "2021-08-19T17:44:20.214990Z"
    },
    "hidden": true
   },
   "source": [
    "Tasks:\n",
    "\n",
    "5) Change InvoiceNo type to int, change InvoiceDate type to datetime and hange CustomerID type  to int."
   ]
  },
  {
   "cell_type": "markdown",
   "id": "ecaaab49",
   "metadata": {
    "hidden": true
   },
   "source": [
    "## Check duplicated"
   ]
  },
  {
   "cell_type": "code",
   "execution_count": 11,
   "id": "58f27efd",
   "metadata": {
    "ExecuteTime": {
     "end_time": "2021-10-07T22:29:51.508865Z",
     "start_time": "2021-10-07T22:29:51.493904Z"
    },
    "hidden": true
   },
   "outputs": [
    {
     "data": {
      "text/plain": [
       "537536"
      ]
     },
     "execution_count": 11,
     "metadata": {},
     "output_type": "execute_result"
    }
   ],
   "source": [
    "df_raw['CustomerID'].duplicated().sum()"
   ]
  },
  {
   "cell_type": "code",
   "execution_count": 12,
   "id": "16c33548",
   "metadata": {
    "ExecuteTime": {
     "end_time": "2021-10-07T22:29:51.524823Z",
     "start_time": "2021-10-07T22:29:51.509863Z"
    },
    "hidden": true
   },
   "outputs": [
    {
     "name": "stdout",
     "output_type": "stream",
     "text": [
      "From a business perspective, none of the repeated attributes will be a problem unless there are more than one record\n",
      "      with all inputs equals.\n"
     ]
    }
   ],
   "source": [
    "print('''From a business perspective, none of the repeated attributes will be a problem unless there are more than one record\n",
    "      with all inputs equals.''')"
   ]
  },
  {
   "cell_type": "markdown",
   "id": "f9ee7fac",
   "metadata": {
    "hidden": true
   },
   "source": [
    "Task\n",
    "8) Check if there are duplicated registers"
   ]
  },
  {
   "cell_type": "markdown",
   "id": "da6a1b05",
   "metadata": {
    "ExecuteTime": {
     "end_time": "2021-09-03T15:05:38.647143Z",
     "start_time": "2021-09-03T15:05:38.640127Z"
    },
    "hidden": true
   },
   "source": [
    "## Check attributes"
   ]
  },
  {
   "cell_type": "markdown",
   "id": "8d97ab9d",
   "metadata": {
    "hidden": true
   },
   "source": [
    "### Attribute 'InvoiceNo'"
   ]
  },
  {
   "cell_type": "code",
   "execution_count": 13,
   "id": "e9e77353",
   "metadata": {
    "ExecuteTime": {
     "end_time": "2021-10-07T22:29:51.571728Z",
     "start_time": "2021-10-07T22:29:51.525820Z"
    },
    "hidden": true
   },
   "outputs": [
    {
     "data": {
      "text/plain": [
       "array(['536365', '536366', '536367', ..., '581585', '581586', '581587'],\n",
       "      dtype=object)"
      ]
     },
     "execution_count": 13,
     "metadata": {},
     "output_type": "execute_result"
    }
   ],
   "source": [
    "df_raw['InvoiceNo'].unique()"
   ]
  },
  {
   "cell_type": "markdown",
   "id": "f816b514",
   "metadata": {
    "hidden": true
   },
   "source": [
    "Task: \n",
    "\n",
    "9) Check the invoices with letters. They seem to be devolutions"
   ]
  },
  {
   "cell_type": "markdown",
   "id": "c9cc274c",
   "metadata": {
    "ExecuteTime": {
     "end_time": "2021-09-03T17:02:57.330688Z",
     "start_time": "2021-09-03T17:02:57.315688Z"
    },
    "hidden": true
   },
   "source": [
    "### Attributes 'Description'"
   ]
  },
  {
   "cell_type": "code",
   "execution_count": 14,
   "id": "944f8c02",
   "metadata": {
    "ExecuteTime": {
     "end_time": "2021-10-07T22:29:51.634562Z",
     "start_time": "2021-10-07T22:29:51.573692Z"
    },
    "hidden": true
   },
   "outputs": [
    {
     "data": {
      "text/plain": [
       "array(['WHITE HANGING HEART T-LIGHT HOLDER', 'WHITE METAL LANTERN',\n",
       "       'CREAM CUPID HEARTS COAT HANGER', ..., 'lost',\n",
       "       'CREAM HANGING HEART T-LIGHT HOLDER',\n",
       "       'PAPER CRAFT , LITTLE BIRDIE'], dtype=object)"
      ]
     },
     "execution_count": 14,
     "metadata": {},
     "output_type": "execute_result"
    }
   ],
   "source": [
    "df_raw['Description'].unique()"
   ]
  },
  {
   "cell_type": "markdown",
   "id": "78202fd0",
   "metadata": {
    "ExecuteTime": {
     "end_time": "2021-09-03T17:00:07.921634Z",
     "start_time": "2021-09-03T17:00:07.906827Z"
    },
    "hidden": true
   },
   "source": [
    "Task: 10)Check the strange names"
   ]
  },
  {
   "cell_type": "markdown",
   "id": "0fcdf902",
   "metadata": {
    "hidden": true
   },
   "source": [
    "## Statistics data overview"
   ]
  },
  {
   "cell_type": "code",
   "execution_count": 15,
   "id": "e8d5cc5b",
   "metadata": {
    "ExecuteTime": {
     "end_time": "2021-10-07T22:29:51.794138Z",
     "start_time": "2021-10-07T22:29:51.635562Z"
    },
    "hidden": true
   },
   "outputs": [
    {
     "data": {
      "text/html": [
       "<div>\n",
       "<style scoped>\n",
       "    .dataframe tbody tr th:only-of-type {\n",
       "        vertical-align: middle;\n",
       "    }\n",
       "\n",
       "    .dataframe tbody tr th {\n",
       "        vertical-align: top;\n",
       "    }\n",
       "\n",
       "    .dataframe thead th {\n",
       "        text-align: right;\n",
       "    }\n",
       "</style>\n",
       "<table border=\"1\" class=\"dataframe\">\n",
       "  <thead>\n",
       "    <tr style=\"text-align: right;\">\n",
       "      <th></th>\n",
       "      <th>count</th>\n",
       "      <th>mean</th>\n",
       "      <th>std</th>\n",
       "      <th>min</th>\n",
       "      <th>25%</th>\n",
       "      <th>50%</th>\n",
       "      <th>75%</th>\n",
       "      <th>max</th>\n",
       "    </tr>\n",
       "  </thead>\n",
       "  <tbody>\n",
       "    <tr>\n",
       "      <th>Quantity</th>\n",
       "      <td>541909.00</td>\n",
       "      <td>9.55</td>\n",
       "      <td>218.08</td>\n",
       "      <td>-80995.00</td>\n",
       "      <td>1.00</td>\n",
       "      <td>3.00</td>\n",
       "      <td>10.00</td>\n",
       "      <td>80995.00</td>\n",
       "    </tr>\n",
       "    <tr>\n",
       "      <th>UnitPrice</th>\n",
       "      <td>541909.00</td>\n",
       "      <td>4.61</td>\n",
       "      <td>96.76</td>\n",
       "      <td>-11062.06</td>\n",
       "      <td>1.25</td>\n",
       "      <td>2.08</td>\n",
       "      <td>4.13</td>\n",
       "      <td>38970.00</td>\n",
       "    </tr>\n",
       "    <tr>\n",
       "      <th>CustomerID</th>\n",
       "      <td>406829.00</td>\n",
       "      <td>15287.69</td>\n",
       "      <td>1713.60</td>\n",
       "      <td>12346.00</td>\n",
       "      <td>13953.00</td>\n",
       "      <td>15152.00</td>\n",
       "      <td>16791.00</td>\n",
       "      <td>18287.00</td>\n",
       "    </tr>\n",
       "    <tr>\n",
       "      <th>Unnamed: 8</th>\n",
       "      <td>0.00</td>\n",
       "      <td>NaN</td>\n",
       "      <td>NaN</td>\n",
       "      <td>NaN</td>\n",
       "      <td>NaN</td>\n",
       "      <td>NaN</td>\n",
       "      <td>NaN</td>\n",
       "      <td>NaN</td>\n",
       "    </tr>\n",
       "  </tbody>\n",
       "</table>\n",
       "</div>"
      ],
      "text/plain": [
       "               count     mean     std       min      25%      50%      75%      max\n",
       "Quantity   541909.00     9.55  218.08 -80995.00     1.00     3.00    10.00 80995.00\n",
       "UnitPrice  541909.00     4.61   96.76 -11062.06     1.25     2.08     4.13 38970.00\n",
       "CustomerID 406829.00 15287.69 1713.60  12346.00 13953.00 15152.00 16791.00 18287.00\n",
       "Unnamed: 8      0.00      NaN     NaN       NaN      NaN      NaN      NaN      NaN"
      ]
     },
     "execution_count": 15,
     "metadata": {},
     "output_type": "execute_result"
    }
   ],
   "source": [
    "df_raw.describe().T"
   ]
  },
  {
   "cell_type": "markdown",
   "id": "f99d582c",
   "metadata": {
    "hidden": true
   },
   "source": [
    "Task 9) Check negative unit prices and quantities"
   ]
  },
  {
   "cell_type": "code",
   "execution_count": 16,
   "id": "3dc6df9f",
   "metadata": {
    "ExecuteTime": {
     "end_time": "2021-10-07T22:29:51.808884Z",
     "start_time": "2021-10-07T22:29:51.795136Z"
    },
    "hidden": true
   },
   "outputs": [],
   "source": [
    "#stock code\n",
    "\n",
    "#df2 = df2[~df2['stock_code'].isin (['POST', 'D', 'DOT', 'M', 'S', 'AMAZONFEE', 'm', 'DCGSSBOY', 'DCGSSGIRL', 'PADS', 'B', 'CRUK'])]"
   ]
  },
  {
   "cell_type": "markdown",
   "id": "b37edf54",
   "metadata": {},
   "source": [
    "# <font color='green'> Data Processing"
   ]
  },
  {
   "cell_type": "code",
   "execution_count": 17,
   "id": "d51ae57f",
   "metadata": {
    "ExecuteTime": {
     "end_time": "2021-10-07T22:29:51.839793Z",
     "start_time": "2021-10-07T22:29:51.809840Z"
    }
   },
   "outputs": [],
   "source": [
    "df3 = df_raw.copy()"
   ]
  },
  {
   "cell_type": "markdown",
   "id": "5b8cfb47",
   "metadata": {},
   "source": [
    "## Rename columns"
   ]
  },
  {
   "cell_type": "code",
   "execution_count": 18,
   "id": "1084b019",
   "metadata": {
    "ExecuteTime": {
     "end_time": "2021-10-07T22:29:51.855754Z",
     "start_time": "2021-10-07T22:29:51.840757Z"
    }
   },
   "outputs": [
    {
     "data": {
      "text/plain": [
       "Index(['InvoiceNo', 'StockCode', 'Description', 'Quantity', 'InvoiceDate',\n",
       "       'UnitPrice', 'CustomerID', 'Country', 'Unnamed: 8'],\n",
       "      dtype='object')"
      ]
     },
     "execution_count": 18,
     "metadata": {},
     "output_type": "execute_result"
    }
   ],
   "source": [
    "df3.columns"
   ]
  },
  {
   "cell_type": "code",
   "execution_count": 19,
   "id": "8d33b8d1",
   "metadata": {
    "ExecuteTime": {
     "end_time": "2021-10-07T22:29:51.871708Z",
     "start_time": "2021-10-07T22:29:51.856728Z"
    }
   },
   "outputs": [],
   "source": [
    "cols_new = ['invoice_no', 'stock_code', 'description','quantity', 'invoice_date','unit_price', 'customer_id', 'country', 'unnamed']"
   ]
  },
  {
   "cell_type": "code",
   "execution_count": 20,
   "id": "938cd850",
   "metadata": {
    "ExecuteTime": {
     "end_time": "2021-10-07T22:29:51.887632Z",
     "start_time": "2021-10-07T22:29:51.872673Z"
    }
   },
   "outputs": [],
   "source": [
    "df3.columns = cols_new #change to snacke case"
   ]
  },
  {
   "cell_type": "markdown",
   "id": "7b99d581",
   "metadata": {
    "ExecuteTime": {
     "end_time": "2021-08-19T17:53:14.247722Z",
     "start_time": "2021-08-19T17:53:14.235757Z"
    }
   },
   "source": [
    "## Check \"Unnamed: 8\" attribute"
   ]
  },
  {
   "cell_type": "code",
   "execution_count": 21,
   "id": "1b2f63f6",
   "metadata": {
    "ExecuteTime": {
     "end_time": "2021-10-07T22:29:51.903622Z",
     "start_time": "2021-10-07T22:29:51.888640Z"
    }
   },
   "outputs": [
    {
     "name": "stdout",
     "output_type": "stream",
     "text": [
      "All the Unnamed are NaN. There is no relevante information in this feature. It will be dropped.\n"
     ]
    }
   ],
   "source": [
    "print('All the Unnamed are NaN. There is no relevante information in this feature. It will be dropped.')"
   ]
  },
  {
   "cell_type": "code",
   "execution_count": 22,
   "id": "94230797",
   "metadata": {
    "ExecuteTime": {
     "end_time": "2021-10-07T22:29:51.950464Z",
     "start_time": "2021-10-07T22:29:51.908575Z"
    }
   },
   "outputs": [],
   "source": [
    "df3 = df3.drop(columns=['unnamed'], axis=1) "
   ]
  },
  {
   "cell_type": "markdown",
   "id": "daa78690",
   "metadata": {},
   "source": [
    "## Solving NaN"
   ]
  },
  {
   "cell_type": "markdown",
   "id": "71084083",
   "metadata": {},
   "source": [
    "### Attribute 'customer_id"
   ]
  },
  {
   "cell_type": "code",
   "execution_count": 23,
   "id": "698fc4b1",
   "metadata": {
    "ExecuteTime": {
     "end_time": "2021-10-07T22:29:52.060358Z",
     "start_time": "2021-10-07T22:29:51.952460Z"
    }
   },
   "outputs": [
    {
     "data": {
      "text/plain": [
       "invoice_no           0\n",
       "stock_code           0\n",
       "description       1454\n",
       "quantity             0\n",
       "invoice_date         0\n",
       "unit_price           0\n",
       "customer_id     135080\n",
       "country              0\n",
       "dtype: int64"
      ]
     },
     "execution_count": 23,
     "metadata": {},
     "output_type": "execute_result"
    }
   ],
   "source": [
    "df3.isna().sum()"
   ]
  },
  {
   "cell_type": "code",
   "execution_count": 24,
   "id": "8a9f18e3",
   "metadata": {
    "ExecuteTime": {
     "end_time": "2021-10-07T22:29:52.123740Z",
     "start_time": "2021-10-07T22:29:52.060871Z"
    }
   },
   "outputs": [],
   "source": [
    "df3 = df3.dropna(subset = ['customer_id'], axis=0)"
   ]
  },
  {
   "cell_type": "code",
   "execution_count": 25,
   "id": "1a81ee33",
   "metadata": {
    "ExecuteTime": {
     "end_time": "2021-10-07T22:29:52.202495Z",
     "start_time": "2021-10-07T22:29:52.125704Z"
    }
   },
   "outputs": [
    {
     "data": {
      "text/plain": [
       "invoice_no      0\n",
       "stock_code      0\n",
       "description     0\n",
       "quantity        0\n",
       "invoice_date    0\n",
       "unit_price      0\n",
       "customer_id     0\n",
       "country         0\n",
       "dtype: int64"
      ]
     },
     "execution_count": 25,
     "metadata": {},
     "output_type": "execute_result"
    }
   ],
   "source": [
    "df3.isna().sum()"
   ]
  },
  {
   "cell_type": "markdown",
   "id": "3d8bc119",
   "metadata": {
    "ExecuteTime": {
     "end_time": "2021-08-19T18:18:05.686328Z",
     "start_time": "2021-08-19T18:18:05.676357Z"
    }
   },
   "source": [
    "### Attribute 'description'"
   ]
  },
  {
   "cell_type": "code",
   "execution_count": 26,
   "id": "06bc419b",
   "metadata": {
    "ExecuteTime": {
     "end_time": "2021-10-07T22:29:52.218452Z",
     "start_time": "2021-10-07T22:29:52.203492Z"
    }
   },
   "outputs": [
    {
     "name": "stdout",
     "output_type": "stream",
     "text": [
      "The \"description\" NaN were dropped together with the \"customer_id\" NaN\n"
     ]
    }
   ],
   "source": [
    "print('The \"description\" NaN were dropped together with the \"customer_id\" NaN')"
   ]
  },
  {
   "cell_type": "markdown",
   "id": "7a0efbdb",
   "metadata": {},
   "source": [
    "## Change dtypes"
   ]
  },
  {
   "cell_type": "markdown",
   "id": "6ac566ee",
   "metadata": {},
   "source": [
    "### Attribute 'invoice_number'"
   ]
  },
  {
   "cell_type": "code",
   "execution_count": 27,
   "id": "9c5575b3",
   "metadata": {
    "ExecuteTime": {
     "end_time": "2021-10-07T22:29:52.249369Z",
     "start_time": "2021-10-07T22:29:52.219452Z"
    }
   },
   "outputs": [
    {
     "data": {
      "text/plain": [
       "array(['536365', '536366', '536367', ..., '581585', '581586', '581587'],\n",
       "      dtype=object)"
      ]
     },
     "execution_count": 27,
     "metadata": {},
     "output_type": "execute_result"
    }
   ],
   "source": [
    "df3['invoice_no'].unique()"
   ]
  },
  {
   "cell_type": "code",
   "execution_count": 28,
   "id": "3297f905",
   "metadata": {
    "ExecuteTime": {
     "end_time": "2021-10-07T22:29:52.265328Z",
     "start_time": "2021-10-07T22:29:52.250368Z"
    }
   },
   "outputs": [
    {
     "name": "stdout",
     "output_type": "stream",
     "text": [
      "According with the code error, there are invoices with number with letters. For now it will be keep as a object\n"
     ]
    }
   ],
   "source": [
    "#df3['invoice_no'] = df3['invoice_no'].astype(int64)\n",
    "print('According with the code error, there are invoices with number with letters. For now it will be keep as a object')"
   ]
  },
  {
   "cell_type": "markdown",
   "id": "708cebc3",
   "metadata": {
    "ExecuteTime": {
     "end_time": "2021-08-19T18:11:03.940506Z",
     "start_time": "2021-08-19T18:11:03.925546Z"
    }
   },
   "source": [
    "### Attribute 'invoice_date'"
   ]
  },
  {
   "cell_type": "code",
   "execution_count": 29,
   "id": "609b5519",
   "metadata": {
    "ExecuteTime": {
     "end_time": "2021-10-07T22:29:52.328160Z",
     "start_time": "2021-10-07T22:29:52.266324Z"
    }
   },
   "outputs": [],
   "source": [
    "df3['invoice_date'] = pd.to_datetime(df3['invoice_date'], format = '%d-%b-%y')\n",
    "# use %b because the month is in a string in the df"
   ]
  },
  {
   "cell_type": "code",
   "execution_count": 30,
   "id": "82089e43",
   "metadata": {
    "ExecuteTime": {
     "end_time": "2021-10-07T22:29:52.344116Z",
     "start_time": "2021-10-07T22:29:52.329157Z"
    }
   },
   "outputs": [
    {
     "data": {
      "text/plain": [
       "invoice_no              object\n",
       "stock_code              object\n",
       "description             object\n",
       "quantity                 int64\n",
       "invoice_date    datetime64[ns]\n",
       "unit_price             float64\n",
       "customer_id            float64\n",
       "country                 object\n",
       "dtype: object"
      ]
     },
     "execution_count": 30,
     "metadata": {},
     "output_type": "execute_result"
    }
   ],
   "source": [
    "df3.dtypes"
   ]
  },
  {
   "cell_type": "markdown",
   "id": "2c27722a",
   "metadata": {
    "ExecuteTime": {
     "end_time": "2021-08-19T18:12:20.297568Z",
     "start_time": "2021-08-19T18:12:20.280608Z"
    }
   },
   "source": [
    "### Attribute 'customer_id'"
   ]
  },
  {
   "cell_type": "code",
   "execution_count": 31,
   "id": "6d2226af",
   "metadata": {
    "ExecuteTime": {
     "end_time": "2021-10-07T22:29:52.360075Z",
     "start_time": "2021-10-07T22:29:52.345115Z"
    }
   },
   "outputs": [],
   "source": [
    "df3['customer_id'] = df3['customer_id'].astype(int64)"
   ]
  },
  {
   "cell_type": "code",
   "execution_count": 32,
   "id": "53dfa676",
   "metadata": {
    "ExecuteTime": {
     "end_time": "2021-10-07T22:29:52.375035Z",
     "start_time": "2021-10-07T22:29:52.361073Z"
    }
   },
   "outputs": [
    {
     "data": {
      "text/plain": [
       "invoice_no              object\n",
       "stock_code              object\n",
       "description             object\n",
       "quantity                 int64\n",
       "invoice_date    datetime64[ns]\n",
       "unit_price             float64\n",
       "customer_id              int64\n",
       "country                 object\n",
       "dtype: object"
      ]
     },
     "execution_count": 32,
     "metadata": {},
     "output_type": "execute_result"
    }
   ],
   "source": [
    "df3.dtypes"
   ]
  },
  {
   "cell_type": "markdown",
   "id": "6979a37f",
   "metadata": {
    "ExecuteTime": {
     "end_time": "2021-08-19T19:09:12.712243Z",
     "start_time": "2021-08-19T19:09:12.709251Z"
    }
   },
   "source": [
    "## Negative values"
   ]
  },
  {
   "cell_type": "markdown",
   "id": "62dae0c8",
   "metadata": {},
   "source": [
    "From here, we have to take a direction. The negative values problably are from returns. We can just exclude them, exclude the in an out or we can create features for returns. From this point, we decided to sum all the values for customer, and those who ended up with a negative or zero amount will be dropped. We can divided the dataframe in two, one with the purchases, one just with the returns, but it will be done in the next cycle."
   ]
  },
  {
   "cell_type": "code",
   "execution_count": 33,
   "id": "cf988ad5",
   "metadata": {
    "ExecuteTime": {
     "end_time": "2021-10-07T22:29:52.391023Z",
     "start_time": "2021-10-07T22:29:52.376032Z"
    }
   },
   "outputs": [],
   "source": [
    "df3['subtotal'] = df3['unit_price'] * df3['quantity'] "
   ]
  },
  {
   "cell_type": "code",
   "execution_count": 34,
   "id": "e7196e56",
   "metadata": {
    "ExecuteTime": {
     "end_time": "2021-10-07T22:29:52.437865Z",
     "start_time": "2021-10-07T22:29:52.391989Z"
    }
   },
   "outputs": [],
   "source": [
    "df_customers = df3[['customer_id','subtotal']].groupby('customer_id').sum().reset_index()"
   ]
  },
  {
   "cell_type": "code",
   "execution_count": 35,
   "id": "dadccd7b",
   "metadata": {
    "ExecuteTime": {
     "end_time": "2021-10-07T22:29:52.453823Z",
     "start_time": "2021-10-07T22:29:52.439862Z"
    }
   },
   "outputs": [],
   "source": [
    "bad_customers = df_customers[df_customers['subtotal'] <= 0]"
   ]
  },
  {
   "cell_type": "code",
   "execution_count": 36,
   "id": "e4a4d788",
   "metadata": {
    "ExecuteTime": {
     "end_time": "2021-10-07T22:29:52.469780Z",
     "start_time": "2021-10-07T22:29:52.455819Z"
    }
   },
   "outputs": [
    {
     "name": "stdout",
     "output_type": "stream",
     "text": [
      "There are 50 customers with negative or below zero total purchases.\n"
     ]
    }
   ],
   "source": [
    "print('There are {} customers with negative or below zero total purchases.'.format(bad_customers.shape[0]))"
   ]
  },
  {
   "cell_type": "code",
   "execution_count": 37,
   "id": "9774ec53",
   "metadata": {
    "ExecuteTime": {
     "end_time": "2021-10-07T22:29:52.485741Z",
     "start_time": "2021-10-07T22:29:52.471779Z"
    }
   },
   "outputs": [],
   "source": [
    "bad_list = bad_customers['customer_id'].to_list()"
   ]
  },
  {
   "cell_type": "code",
   "execution_count": 38,
   "id": "1ffb067f",
   "metadata": {
    "ExecuteTime": {
     "end_time": "2021-10-07T22:29:52.533642Z",
     "start_time": "2021-10-07T22:29:52.486734Z"
    }
   },
   "outputs": [],
   "source": [
    "df3 = df3[~df3['customer_id'].isin(bad_list)] # throw out the bad customers"
   ]
  },
  {
   "cell_type": "markdown",
   "id": "5137be91",
   "metadata": {
    "ExecuteTime": {
     "end_time": "2021-09-03T17:23:44.036702Z",
     "start_time": "2021-09-03T17:23:44.018716Z"
    }
   },
   "source": [
    "## Solve Duplicates"
   ]
  },
  {
   "cell_type": "code",
   "execution_count": 39,
   "id": "ea312710",
   "metadata": {
    "ExecuteTime": {
     "end_time": "2021-10-07T22:29:52.549567Z",
     "start_time": "2021-10-07T22:29:52.534607Z"
    }
   },
   "outputs": [],
   "source": [
    "#next cycle"
   ]
  },
  {
   "cell_type": "code",
   "execution_count": null,
   "id": "d39a1cd9",
   "metadata": {},
   "outputs": [],
   "source": []
  },
  {
   "cell_type": "markdown",
   "id": "401790a9",
   "metadata": {},
   "source": [
    "## Check 'Description' inputs"
   ]
  },
  {
   "cell_type": "code",
   "execution_count": 40,
   "id": "37284837",
   "metadata": {
    "ExecuteTime": {
     "end_time": "2021-10-07T22:29:52.945919Z",
     "start_time": "2021-10-07T22:29:52.550566Z"
    },
    "scrolled": true
   },
   "outputs": [
    {
     "name": "stdout",
     "output_type": "stream",
     "text": [
      "Total number of invoices with letters: 8706\n",
      "Total number of invoices with negative quantity: 8706\n"
     ]
    }
   ],
   "source": [
    "#quem são os invoices que contém letras?\n",
    "df_letter_invoices = df3.loc[df3['invoice_no'].apply (lambda x: bool(re.search ( '[^0-9]+', x))), :] \n",
    "print('Total number of invoices with letters: {}'.format (len (df_letter_invoices)))\n",
    "\n",
    "print('Total number of invoices with negative quantity: {}'.format( len(df_letter_invoices['quantity'] <0)))"
   ]
  },
  {
   "cell_type": "markdown",
   "id": "e0c1c178",
   "metadata": {},
   "source": [
    "Along the work, we note some descriptions of sales that seem not be sensible\n",
    "D, DOT. M. S., AMazon fee, pads, b, cruk"
   ]
  },
  {
   "cell_type": "code",
   "execution_count": 41,
   "id": "8d0511b3",
   "metadata": {
    "ExecuteTime": {
     "end_time": "2021-10-07T22:29:52.961721Z",
     "start_time": "2021-10-07T22:29:52.946761Z"
    }
   },
   "outputs": [],
   "source": [
    "# Tipos de Registros compostos apenas por strings que aparecem no codigo de estoque \n",
    "#(como os códigos são mistos, o Meigarom procurou códigos formados apenas por strings pra encontrar sujeiras\n",
    "#df5.loc[df5['stock_code'].apply (lambda x:bool (re.search('^[a-zA-Z]+$', x ) ) ), 'stock_code' ].unique()\n"
   ]
  },
  {
   "cell_type": "markdown",
   "id": "c961c999",
   "metadata": {},
   "source": [
    "# <font color='orange'> Feature Engineering"
   ]
  },
  {
   "cell_type": "code",
   "execution_count": 42,
   "id": "3812c8d4",
   "metadata": {
    "ExecuteTime": {
     "end_time": "2021-10-07T22:29:52.977678Z",
     "start_time": "2021-10-07T22:29:52.962718Z"
    }
   },
   "outputs": [],
   "source": [
    "df4 = df3.copy()"
   ]
  },
  {
   "cell_type": "code",
   "execution_count": 43,
   "id": "a48855c9",
   "metadata": {
    "ExecuteTime": {
     "end_time": "2021-10-07T22:29:52.993370Z",
     "start_time": "2021-10-07T22:29:52.978676Z"
    }
   },
   "outputs": [
    {
     "data": {
      "text/html": [
       "<div>\n",
       "<style scoped>\n",
       "    .dataframe tbody tr th:only-of-type {\n",
       "        vertical-align: middle;\n",
       "    }\n",
       "\n",
       "    .dataframe tbody tr th {\n",
       "        vertical-align: top;\n",
       "    }\n",
       "\n",
       "    .dataframe thead th {\n",
       "        text-align: right;\n",
       "    }\n",
       "</style>\n",
       "<table border=\"1\" class=\"dataframe\">\n",
       "  <thead>\n",
       "    <tr style=\"text-align: right;\">\n",
       "      <th></th>\n",
       "      <th>invoice_no</th>\n",
       "      <th>stock_code</th>\n",
       "      <th>description</th>\n",
       "      <th>quantity</th>\n",
       "      <th>invoice_date</th>\n",
       "      <th>unit_price</th>\n",
       "      <th>customer_id</th>\n",
       "      <th>country</th>\n",
       "      <th>subtotal</th>\n",
       "    </tr>\n",
       "  </thead>\n",
       "  <tbody>\n",
       "    <tr>\n",
       "      <th>0</th>\n",
       "      <td>536365</td>\n",
       "      <td>85123A</td>\n",
       "      <td>WHITE HANGING HEART T-LIGHT HOLDER</td>\n",
       "      <td>6</td>\n",
       "      <td>2016-11-29</td>\n",
       "      <td>2.55</td>\n",
       "      <td>17850</td>\n",
       "      <td>United Kingdom</td>\n",
       "      <td>15.30</td>\n",
       "    </tr>\n",
       "    <tr>\n",
       "      <th>1</th>\n",
       "      <td>536365</td>\n",
       "      <td>71053</td>\n",
       "      <td>WHITE METAL LANTERN</td>\n",
       "      <td>6</td>\n",
       "      <td>2016-11-29</td>\n",
       "      <td>3.39</td>\n",
       "      <td>17850</td>\n",
       "      <td>United Kingdom</td>\n",
       "      <td>20.34</td>\n",
       "    </tr>\n",
       "    <tr>\n",
       "      <th>2</th>\n",
       "      <td>536365</td>\n",
       "      <td>84406B</td>\n",
       "      <td>CREAM CUPID HEARTS COAT HANGER</td>\n",
       "      <td>8</td>\n",
       "      <td>2016-11-29</td>\n",
       "      <td>2.75</td>\n",
       "      <td>17850</td>\n",
       "      <td>United Kingdom</td>\n",
       "      <td>22.00</td>\n",
       "    </tr>\n",
       "    <tr>\n",
       "      <th>3</th>\n",
       "      <td>536365</td>\n",
       "      <td>84029G</td>\n",
       "      <td>KNITTED UNION FLAG HOT WATER BOTTLE</td>\n",
       "      <td>6</td>\n",
       "      <td>2016-11-29</td>\n",
       "      <td>3.39</td>\n",
       "      <td>17850</td>\n",
       "      <td>United Kingdom</td>\n",
       "      <td>20.34</td>\n",
       "    </tr>\n",
       "    <tr>\n",
       "      <th>4</th>\n",
       "      <td>536365</td>\n",
       "      <td>84029E</td>\n",
       "      <td>RED WOOLLY HOTTIE WHITE HEART.</td>\n",
       "      <td>6</td>\n",
       "      <td>2016-11-29</td>\n",
       "      <td>3.39</td>\n",
       "      <td>17850</td>\n",
       "      <td>United Kingdom</td>\n",
       "      <td>20.34</td>\n",
       "    </tr>\n",
       "  </tbody>\n",
       "</table>\n",
       "</div>"
      ],
      "text/plain": [
       "  invoice_no stock_code                          description  quantity invoice_date  unit_price  customer_id         country  subtotal\n",
       "0     536365     85123A   WHITE HANGING HEART T-LIGHT HOLDER         6   2016-11-29        2.55        17850  United Kingdom     15.30\n",
       "1     536365      71053                  WHITE METAL LANTERN         6   2016-11-29        3.39        17850  United Kingdom     20.34\n",
       "2     536365     84406B       CREAM CUPID HEARTS COAT HANGER         8   2016-11-29        2.75        17850  United Kingdom     22.00\n",
       "3     536365     84029G  KNITTED UNION FLAG HOT WATER BOTTLE         6   2016-11-29        3.39        17850  United Kingdom     20.34\n",
       "4     536365     84029E       RED WOOLLY HOTTIE WHITE HEART.         6   2016-11-29        3.39        17850  United Kingdom     20.34"
      ]
     },
     "execution_count": 43,
     "metadata": {},
     "output_type": "execute_result"
    }
   ],
   "source": [
    "df4.head()"
   ]
  },
  {
   "cell_type": "markdown",
   "id": "d147be1d",
   "metadata": {
    "ExecuteTime": {
     "end_time": "2021-09-06T14:38:09.843980Z",
     "start_time": "2021-09-06T14:38:09.838994Z"
    }
   },
   "source": [
    "## Average Ticket"
   ]
  },
  {
   "cell_type": "code",
   "execution_count": 44,
   "id": "0da0c2ff",
   "metadata": {
    "ExecuteTime": {
     "end_time": "2021-10-07T22:29:53.089111Z",
     "start_time": "2021-10-07T22:29:52.995363Z"
    }
   },
   "outputs": [],
   "source": [
    "avg_ticket_df = df4[['customer_id','invoice_no','subtotal']].groupby(['customer_id','invoice_no']).sum().reset_index()"
   ]
  },
  {
   "cell_type": "code",
   "execution_count": 45,
   "id": "4ec58440",
   "metadata": {
    "ExecuteTime": {
     "end_time": "2021-10-07T22:29:53.105108Z",
     "start_time": "2021-10-07T22:29:53.090110Z"
    }
   },
   "outputs": [],
   "source": [
    "avg_ticket_df.rename(columns = {'subtotal':'avg_ticket'}, inplace = True)            "
   ]
  },
  {
   "cell_type": "code",
   "execution_count": 46,
   "id": "3223cb54",
   "metadata": {
    "ExecuteTime": {
     "end_time": "2021-10-07T22:29:53.121057Z",
     "start_time": "2021-10-07T22:29:53.106065Z"
    },
    "scrolled": true
   },
   "outputs": [],
   "source": [
    "avg_ticket_df = avg_ticket_df[['customer_id','avg_ticket']].groupby('customer_id').mean().reset_index()"
   ]
  },
  {
   "cell_type": "code",
   "execution_count": 47,
   "id": "8b147a9a",
   "metadata": {
    "ExecuteTime": {
     "end_time": "2021-10-07T22:29:53.137008Z",
     "start_time": "2021-10-07T22:29:53.122022Z"
    }
   },
   "outputs": [
    {
     "data": {
      "text/html": [
       "<div>\n",
       "<style scoped>\n",
       "    .dataframe tbody tr th:only-of-type {\n",
       "        vertical-align: middle;\n",
       "    }\n",
       "\n",
       "    .dataframe tbody tr th {\n",
       "        vertical-align: top;\n",
       "    }\n",
       "\n",
       "    .dataframe thead th {\n",
       "        text-align: right;\n",
       "    }\n",
       "</style>\n",
       "<table border=\"1\" class=\"dataframe\">\n",
       "  <thead>\n",
       "    <tr style=\"text-align: right;\">\n",
       "      <th></th>\n",
       "      <th>customer_id</th>\n",
       "      <th>avg_ticket</th>\n",
       "    </tr>\n",
       "  </thead>\n",
       "  <tbody>\n",
       "    <tr>\n",
       "      <th>0</th>\n",
       "      <td>12347</td>\n",
       "      <td>615.71</td>\n",
       "    </tr>\n",
       "    <tr>\n",
       "      <th>1</th>\n",
       "      <td>12348</td>\n",
       "      <td>449.31</td>\n",
       "    </tr>\n",
       "    <tr>\n",
       "      <th>2</th>\n",
       "      <td>12349</td>\n",
       "      <td>1757.55</td>\n",
       "    </tr>\n",
       "    <tr>\n",
       "      <th>3</th>\n",
       "      <td>12350</td>\n",
       "      <td>334.40</td>\n",
       "    </tr>\n",
       "    <tr>\n",
       "      <th>4</th>\n",
       "      <td>12352</td>\n",
       "      <td>140.49</td>\n",
       "    </tr>\n",
       "  </tbody>\n",
       "</table>\n",
       "</div>"
      ],
      "text/plain": [
       "   customer_id  avg_ticket\n",
       "0        12347      615.71\n",
       "1        12348      449.31\n",
       "2        12349     1757.55\n",
       "3        12350      334.40\n",
       "4        12352      140.49"
      ]
     },
     "execution_count": 47,
     "metadata": {},
     "output_type": "execute_result"
    }
   ],
   "source": [
    "avg_ticket_df.head()"
   ]
  },
  {
   "cell_type": "code",
   "execution_count": 48,
   "id": "b33b2818",
   "metadata": {
    "ExecuteTime": {
     "end_time": "2021-10-07T22:29:53.277606Z",
     "start_time": "2021-10-07T22:29:53.137981Z"
    }
   },
   "outputs": [],
   "source": [
    "df4 = pd.merge(df4,avg_ticket_df, on ='customer_id', how = 'left')"
   ]
  },
  {
   "cell_type": "code",
   "execution_count": 49,
   "id": "4cd830bf",
   "metadata": {
    "ExecuteTime": {
     "end_time": "2021-10-07T22:29:53.292603Z",
     "start_time": "2021-10-07T22:29:53.278604Z"
    }
   },
   "outputs": [
    {
     "data": {
      "text/html": [
       "<div>\n",
       "<style scoped>\n",
       "    .dataframe tbody tr th:only-of-type {\n",
       "        vertical-align: middle;\n",
       "    }\n",
       "\n",
       "    .dataframe tbody tr th {\n",
       "        vertical-align: top;\n",
       "    }\n",
       "\n",
       "    .dataframe thead th {\n",
       "        text-align: right;\n",
       "    }\n",
       "</style>\n",
       "<table border=\"1\" class=\"dataframe\">\n",
       "  <thead>\n",
       "    <tr style=\"text-align: right;\">\n",
       "      <th></th>\n",
       "      <th>invoice_no</th>\n",
       "      <th>stock_code</th>\n",
       "      <th>description</th>\n",
       "      <th>quantity</th>\n",
       "      <th>invoice_date</th>\n",
       "      <th>unit_price</th>\n",
       "      <th>customer_id</th>\n",
       "      <th>country</th>\n",
       "      <th>subtotal</th>\n",
       "      <th>avg_ticket</th>\n",
       "    </tr>\n",
       "  </thead>\n",
       "  <tbody>\n",
       "    <tr>\n",
       "      <th>0</th>\n",
       "      <td>536365</td>\n",
       "      <td>85123A</td>\n",
       "      <td>WHITE HANGING HEART T-LIGHT HOLDER</td>\n",
       "      <td>6</td>\n",
       "      <td>2016-11-29</td>\n",
       "      <td>2.55</td>\n",
       "      <td>17850</td>\n",
       "      <td>United Kingdom</td>\n",
       "      <td>15.30</td>\n",
       "      <td>151.10</td>\n",
       "    </tr>\n",
       "    <tr>\n",
       "      <th>1</th>\n",
       "      <td>536365</td>\n",
       "      <td>71053</td>\n",
       "      <td>WHITE METAL LANTERN</td>\n",
       "      <td>6</td>\n",
       "      <td>2016-11-29</td>\n",
       "      <td>3.39</td>\n",
       "      <td>17850</td>\n",
       "      <td>United Kingdom</td>\n",
       "      <td>20.34</td>\n",
       "      <td>151.10</td>\n",
       "    </tr>\n",
       "    <tr>\n",
       "      <th>2</th>\n",
       "      <td>536365</td>\n",
       "      <td>84406B</td>\n",
       "      <td>CREAM CUPID HEARTS COAT HANGER</td>\n",
       "      <td>8</td>\n",
       "      <td>2016-11-29</td>\n",
       "      <td>2.75</td>\n",
       "      <td>17850</td>\n",
       "      <td>United Kingdom</td>\n",
       "      <td>22.00</td>\n",
       "      <td>151.10</td>\n",
       "    </tr>\n",
       "    <tr>\n",
       "      <th>3</th>\n",
       "      <td>536365</td>\n",
       "      <td>84029G</td>\n",
       "      <td>KNITTED UNION FLAG HOT WATER BOTTLE</td>\n",
       "      <td>6</td>\n",
       "      <td>2016-11-29</td>\n",
       "      <td>3.39</td>\n",
       "      <td>17850</td>\n",
       "      <td>United Kingdom</td>\n",
       "      <td>20.34</td>\n",
       "      <td>151.10</td>\n",
       "    </tr>\n",
       "    <tr>\n",
       "      <th>4</th>\n",
       "      <td>536365</td>\n",
       "      <td>84029E</td>\n",
       "      <td>RED WOOLLY HOTTIE WHITE HEART.</td>\n",
       "      <td>6</td>\n",
       "      <td>2016-11-29</td>\n",
       "      <td>3.39</td>\n",
       "      <td>17850</td>\n",
       "      <td>United Kingdom</td>\n",
       "      <td>20.34</td>\n",
       "      <td>151.10</td>\n",
       "    </tr>\n",
       "  </tbody>\n",
       "</table>\n",
       "</div>"
      ],
      "text/plain": [
       "  invoice_no stock_code                          description  quantity invoice_date  unit_price  customer_id         country  subtotal  avg_ticket\n",
       "0     536365     85123A   WHITE HANGING HEART T-LIGHT HOLDER         6   2016-11-29        2.55        17850  United Kingdom     15.30      151.10\n",
       "1     536365      71053                  WHITE METAL LANTERN         6   2016-11-29        3.39        17850  United Kingdom     20.34      151.10\n",
       "2     536365     84406B       CREAM CUPID HEARTS COAT HANGER         8   2016-11-29        2.75        17850  United Kingdom     22.00      151.10\n",
       "3     536365     84029G  KNITTED UNION FLAG HOT WATER BOTTLE         6   2016-11-29        3.39        17850  United Kingdom     20.34      151.10\n",
       "4     536365     84029E       RED WOOLLY HOTTIE WHITE HEART.         6   2016-11-29        3.39        17850  United Kingdom     20.34      151.10"
      ]
     },
     "execution_count": 49,
     "metadata": {},
     "output_type": "execute_result"
    }
   ],
   "source": [
    "df4.head()"
   ]
  },
  {
   "cell_type": "code",
   "execution_count": 50,
   "id": "8e8a7973",
   "metadata": {
    "ExecuteTime": {
     "end_time": "2021-10-07T22:29:53.307558Z",
     "start_time": "2021-10-07T22:29:53.293564Z"
    }
   },
   "outputs": [
    {
     "data": {
      "text/plain": [
       "4322"
      ]
     },
     "execution_count": 50,
     "metadata": {},
     "output_type": "execute_result"
    }
   ],
   "source": [
    "df4['customer_id'].unique().size"
   ]
  },
  {
   "cell_type": "markdown",
   "id": "eae76f47",
   "metadata": {
    "ExecuteTime": {
     "end_time": "2021-09-03T17:45:31.377343Z",
     "start_time": "2021-09-03T17:45:31.374351Z"
    }
   },
   "source": [
    "## recency"
   ]
  },
  {
   "cell_type": "code",
   "execution_count": 51,
   "id": "af7588bb",
   "metadata": {
    "ExecuteTime": {
     "end_time": "2021-10-07T22:29:53.497557Z",
     "start_time": "2021-10-07T22:29:53.308524Z"
    }
   },
   "outputs": [],
   "source": [
    "# day from the last purchase until the last date of the dataset\n",
    "df_recency = df4[['customer_id','invoice_date']].groupby('customer_id').max().reset_index()\n",
    "df_recency['recency'] = (df4['invoice_date'].max() - df_recency['invoice_date']).dt.days\n",
    "df4=pd.merge(df4, df_recency[['customer_id','recency']], on = 'customer_id', how='left')"
   ]
  },
  {
   "cell_type": "code",
   "execution_count": 52,
   "id": "a4b583a4",
   "metadata": {
    "ExecuteTime": {
     "end_time": "2021-10-07T22:29:53.529476Z",
     "start_time": "2021-10-07T22:29:53.500557Z"
    }
   },
   "outputs": [
    {
     "data": {
      "text/html": [
       "<div>\n",
       "<style scoped>\n",
       "    .dataframe tbody tr th:only-of-type {\n",
       "        vertical-align: middle;\n",
       "    }\n",
       "\n",
       "    .dataframe tbody tr th {\n",
       "        vertical-align: top;\n",
       "    }\n",
       "\n",
       "    .dataframe thead th {\n",
       "        text-align: right;\n",
       "    }\n",
       "</style>\n",
       "<table border=\"1\" class=\"dataframe\">\n",
       "  <thead>\n",
       "    <tr style=\"text-align: right;\">\n",
       "      <th></th>\n",
       "      <th>invoice_no</th>\n",
       "      <th>stock_code</th>\n",
       "      <th>description</th>\n",
       "      <th>quantity</th>\n",
       "      <th>invoice_date</th>\n",
       "      <th>unit_price</th>\n",
       "      <th>customer_id</th>\n",
       "      <th>country</th>\n",
       "      <th>subtotal</th>\n",
       "      <th>avg_ticket</th>\n",
       "      <th>recency</th>\n",
       "    </tr>\n",
       "  </thead>\n",
       "  <tbody>\n",
       "    <tr>\n",
       "      <th>0</th>\n",
       "      <td>536365</td>\n",
       "      <td>85123A</td>\n",
       "      <td>WHITE HANGING HEART T-LIGHT HOLDER</td>\n",
       "      <td>6</td>\n",
       "      <td>2016-11-29</td>\n",
       "      <td>2.55</td>\n",
       "      <td>17850</td>\n",
       "      <td>United Kingdom</td>\n",
       "      <td>15.30</td>\n",
       "      <td>151.10</td>\n",
       "      <td>302</td>\n",
       "    </tr>\n",
       "    <tr>\n",
       "      <th>1</th>\n",
       "      <td>536365</td>\n",
       "      <td>71053</td>\n",
       "      <td>WHITE METAL LANTERN</td>\n",
       "      <td>6</td>\n",
       "      <td>2016-11-29</td>\n",
       "      <td>3.39</td>\n",
       "      <td>17850</td>\n",
       "      <td>United Kingdom</td>\n",
       "      <td>20.34</td>\n",
       "      <td>151.10</td>\n",
       "      <td>302</td>\n",
       "    </tr>\n",
       "    <tr>\n",
       "      <th>2</th>\n",
       "      <td>536365</td>\n",
       "      <td>84406B</td>\n",
       "      <td>CREAM CUPID HEARTS COAT HANGER</td>\n",
       "      <td>8</td>\n",
       "      <td>2016-11-29</td>\n",
       "      <td>2.75</td>\n",
       "      <td>17850</td>\n",
       "      <td>United Kingdom</td>\n",
       "      <td>22.00</td>\n",
       "      <td>151.10</td>\n",
       "      <td>302</td>\n",
       "    </tr>\n",
       "    <tr>\n",
       "      <th>3</th>\n",
       "      <td>536365</td>\n",
       "      <td>84029G</td>\n",
       "      <td>KNITTED UNION FLAG HOT WATER BOTTLE</td>\n",
       "      <td>6</td>\n",
       "      <td>2016-11-29</td>\n",
       "      <td>3.39</td>\n",
       "      <td>17850</td>\n",
       "      <td>United Kingdom</td>\n",
       "      <td>20.34</td>\n",
       "      <td>151.10</td>\n",
       "      <td>302</td>\n",
       "    </tr>\n",
       "    <tr>\n",
       "      <th>4</th>\n",
       "      <td>536365</td>\n",
       "      <td>84029E</td>\n",
       "      <td>RED WOOLLY HOTTIE WHITE HEART.</td>\n",
       "      <td>6</td>\n",
       "      <td>2016-11-29</td>\n",
       "      <td>3.39</td>\n",
       "      <td>17850</td>\n",
       "      <td>United Kingdom</td>\n",
       "      <td>20.34</td>\n",
       "      <td>151.10</td>\n",
       "      <td>302</td>\n",
       "    </tr>\n",
       "  </tbody>\n",
       "</table>\n",
       "</div>"
      ],
      "text/plain": [
       "  invoice_no stock_code                          description  quantity invoice_date  unit_price  customer_id         country  subtotal  avg_ticket  recency\n",
       "0     536365     85123A   WHITE HANGING HEART T-LIGHT HOLDER         6   2016-11-29        2.55        17850  United Kingdom     15.30      151.10      302\n",
       "1     536365      71053                  WHITE METAL LANTERN         6   2016-11-29        3.39        17850  United Kingdom     20.34      151.10      302\n",
       "2     536365     84406B       CREAM CUPID HEARTS COAT HANGER         8   2016-11-29        2.75        17850  United Kingdom     22.00      151.10      302\n",
       "3     536365     84029G  KNITTED UNION FLAG HOT WATER BOTTLE         6   2016-11-29        3.39        17850  United Kingdom     20.34      151.10      302\n",
       "4     536365     84029E       RED WOOLLY HOTTIE WHITE HEART.         6   2016-11-29        3.39        17850  United Kingdom     20.34      151.10      302"
      ]
     },
     "execution_count": 52,
     "metadata": {},
     "output_type": "execute_result"
    }
   ],
   "source": [
    "df4.head()"
   ]
  },
  {
   "cell_type": "markdown",
   "id": "172a6874",
   "metadata": {
    "ExecuteTime": {
     "end_time": "2021-08-24T21:02:06.126790Z",
     "start_time": "2021-08-24T21:02:06.120807Z"
    }
   },
   "source": [
    "## gross_revenue"
   ]
  },
  {
   "cell_type": "code",
   "execution_count": 53,
   "id": "2ab71dea",
   "metadata": {
    "ExecuteTime": {
     "end_time": "2021-10-07T22:29:53.577379Z",
     "start_time": "2021-10-07T22:29:53.530473Z"
    }
   },
   "outputs": [],
   "source": [
    "df_revenue = df4[['subtotal', 'customer_id']].copy()"
   ]
  },
  {
   "cell_type": "code",
   "execution_count": 54,
   "id": "42dcc5f4",
   "metadata": {
    "ExecuteTime": {
     "end_time": "2021-10-07T22:29:53.607268Z",
     "start_time": "2021-10-07T22:29:53.578346Z"
    }
   },
   "outputs": [
    {
     "data": {
      "text/html": [
       "<div>\n",
       "<style scoped>\n",
       "    .dataframe tbody tr th:only-of-type {\n",
       "        vertical-align: middle;\n",
       "    }\n",
       "\n",
       "    .dataframe tbody tr th {\n",
       "        vertical-align: top;\n",
       "    }\n",
       "\n",
       "    .dataframe thead th {\n",
       "        text-align: right;\n",
       "    }\n",
       "</style>\n",
       "<table border=\"1\" class=\"dataframe\">\n",
       "  <thead>\n",
       "    <tr style=\"text-align: right;\">\n",
       "      <th></th>\n",
       "      <th>customer_id</th>\n",
       "      <th>gross_revenue</th>\n",
       "    </tr>\n",
       "  </thead>\n",
       "  <tbody>\n",
       "    <tr>\n",
       "      <th>0</th>\n",
       "      <td>12347</td>\n",
       "      <td>4310.00</td>\n",
       "    </tr>\n",
       "    <tr>\n",
       "      <th>1</th>\n",
       "      <td>12348</td>\n",
       "      <td>1797.24</td>\n",
       "    </tr>\n",
       "    <tr>\n",
       "      <th>2</th>\n",
       "      <td>12349</td>\n",
       "      <td>1757.55</td>\n",
       "    </tr>\n",
       "    <tr>\n",
       "      <th>3</th>\n",
       "      <td>12350</td>\n",
       "      <td>334.40</td>\n",
       "    </tr>\n",
       "    <tr>\n",
       "      <th>4</th>\n",
       "      <td>12352</td>\n",
       "      <td>1545.41</td>\n",
       "    </tr>\n",
       "  </tbody>\n",
       "</table>\n",
       "</div>"
      ],
      "text/plain": [
       "   customer_id  gross_revenue\n",
       "0        12347        4310.00\n",
       "1        12348        1797.24\n",
       "2        12349        1757.55\n",
       "3        12350         334.40\n",
       "4        12352        1545.41"
      ]
     },
     "execution_count": 54,
     "metadata": {},
     "output_type": "execute_result"
    }
   ],
   "source": [
    "df_revenue = df_revenue.groupby('customer_id').sum().reset_index() #total per customer\n",
    "df_revenue.rename(columns = {'subtotal':'gross_revenue'}, inplace = True)\n",
    "df_revenue.head()"
   ]
  },
  {
   "cell_type": "code",
   "execution_count": 55,
   "id": "16727f93",
   "metadata": {
    "ExecuteTime": {
     "end_time": "2021-10-07T22:29:53.797759Z",
     "start_time": "2021-10-07T22:29:53.608266Z"
    }
   },
   "outputs": [],
   "source": [
    "df4 = pd.merge(df4, df_revenue, on='customer_id', how='left')"
   ]
  },
  {
   "cell_type": "code",
   "execution_count": 56,
   "id": "631ad101",
   "metadata": {
    "ExecuteTime": {
     "end_time": "2021-10-07T22:29:53.813717Z",
     "start_time": "2021-10-07T22:29:53.798756Z"
    }
   },
   "outputs": [
    {
     "data": {
      "text/html": [
       "<div>\n",
       "<style scoped>\n",
       "    .dataframe tbody tr th:only-of-type {\n",
       "        vertical-align: middle;\n",
       "    }\n",
       "\n",
       "    .dataframe tbody tr th {\n",
       "        vertical-align: top;\n",
       "    }\n",
       "\n",
       "    .dataframe thead th {\n",
       "        text-align: right;\n",
       "    }\n",
       "</style>\n",
       "<table border=\"1\" class=\"dataframe\">\n",
       "  <thead>\n",
       "    <tr style=\"text-align: right;\">\n",
       "      <th></th>\n",
       "      <th>invoice_no</th>\n",
       "      <th>stock_code</th>\n",
       "      <th>description</th>\n",
       "      <th>quantity</th>\n",
       "      <th>invoice_date</th>\n",
       "      <th>unit_price</th>\n",
       "      <th>customer_id</th>\n",
       "      <th>country</th>\n",
       "      <th>subtotal</th>\n",
       "      <th>avg_ticket</th>\n",
       "      <th>recency</th>\n",
       "      <th>gross_revenue</th>\n",
       "    </tr>\n",
       "  </thead>\n",
       "  <tbody>\n",
       "    <tr>\n",
       "      <th>0</th>\n",
       "      <td>536365</td>\n",
       "      <td>85123A</td>\n",
       "      <td>WHITE HANGING HEART T-LIGHT HOLDER</td>\n",
       "      <td>6</td>\n",
       "      <td>2016-11-29</td>\n",
       "      <td>2.55</td>\n",
       "      <td>17850</td>\n",
       "      <td>United Kingdom</td>\n",
       "      <td>15.30</td>\n",
       "      <td>151.10</td>\n",
       "      <td>302</td>\n",
       "      <td>5288.63</td>\n",
       "    </tr>\n",
       "    <tr>\n",
       "      <th>1</th>\n",
       "      <td>536365</td>\n",
       "      <td>71053</td>\n",
       "      <td>WHITE METAL LANTERN</td>\n",
       "      <td>6</td>\n",
       "      <td>2016-11-29</td>\n",
       "      <td>3.39</td>\n",
       "      <td>17850</td>\n",
       "      <td>United Kingdom</td>\n",
       "      <td>20.34</td>\n",
       "      <td>151.10</td>\n",
       "      <td>302</td>\n",
       "      <td>5288.63</td>\n",
       "    </tr>\n",
       "    <tr>\n",
       "      <th>2</th>\n",
       "      <td>536365</td>\n",
       "      <td>84406B</td>\n",
       "      <td>CREAM CUPID HEARTS COAT HANGER</td>\n",
       "      <td>8</td>\n",
       "      <td>2016-11-29</td>\n",
       "      <td>2.75</td>\n",
       "      <td>17850</td>\n",
       "      <td>United Kingdom</td>\n",
       "      <td>22.00</td>\n",
       "      <td>151.10</td>\n",
       "      <td>302</td>\n",
       "      <td>5288.63</td>\n",
       "    </tr>\n",
       "    <tr>\n",
       "      <th>3</th>\n",
       "      <td>536365</td>\n",
       "      <td>84029G</td>\n",
       "      <td>KNITTED UNION FLAG HOT WATER BOTTLE</td>\n",
       "      <td>6</td>\n",
       "      <td>2016-11-29</td>\n",
       "      <td>3.39</td>\n",
       "      <td>17850</td>\n",
       "      <td>United Kingdom</td>\n",
       "      <td>20.34</td>\n",
       "      <td>151.10</td>\n",
       "      <td>302</td>\n",
       "      <td>5288.63</td>\n",
       "    </tr>\n",
       "    <tr>\n",
       "      <th>4</th>\n",
       "      <td>536365</td>\n",
       "      <td>84029E</td>\n",
       "      <td>RED WOOLLY HOTTIE WHITE HEART.</td>\n",
       "      <td>6</td>\n",
       "      <td>2016-11-29</td>\n",
       "      <td>3.39</td>\n",
       "      <td>17850</td>\n",
       "      <td>United Kingdom</td>\n",
       "      <td>20.34</td>\n",
       "      <td>151.10</td>\n",
       "      <td>302</td>\n",
       "      <td>5288.63</td>\n",
       "    </tr>\n",
       "  </tbody>\n",
       "</table>\n",
       "</div>"
      ],
      "text/plain": [
       "  invoice_no stock_code                          description  quantity invoice_date  unit_price  customer_id         country  subtotal  avg_ticket  recency  gross_revenue\n",
       "0     536365     85123A   WHITE HANGING HEART T-LIGHT HOLDER         6   2016-11-29        2.55        17850  United Kingdom     15.30      151.10      302        5288.63\n",
       "1     536365      71053                  WHITE METAL LANTERN         6   2016-11-29        3.39        17850  United Kingdom     20.34      151.10      302        5288.63\n",
       "2     536365     84406B       CREAM CUPID HEARTS COAT HANGER         8   2016-11-29        2.75        17850  United Kingdom     22.00      151.10      302        5288.63\n",
       "3     536365     84029G  KNITTED UNION FLAG HOT WATER BOTTLE         6   2016-11-29        3.39        17850  United Kingdom     20.34      151.10      302        5288.63\n",
       "4     536365     84029E       RED WOOLLY HOTTIE WHITE HEART.         6   2016-11-29        3.39        17850  United Kingdom     20.34      151.10      302        5288.63"
      ]
     },
     "execution_count": 56,
     "metadata": {},
     "output_type": "execute_result"
    }
   ],
   "source": [
    "df4.head()"
   ]
  },
  {
   "cell_type": "markdown",
   "id": "19a299ba",
   "metadata": {
    "ExecuteTime": {
     "end_time": "2021-09-03T18:32:19.434219Z",
     "start_time": "2021-09-03T18:32:19.423207Z"
    }
   },
   "source": [
    "## Frequency"
   ]
  },
  {
   "cell_type": "code",
   "execution_count": 57,
   "id": "970490e5",
   "metadata": {
    "ExecuteTime": {
     "end_time": "2021-10-07T22:29:53.892538Z",
     "start_time": "2021-10-07T22:29:53.815711Z"
    }
   },
   "outputs": [],
   "source": [
    "df_frequency = df4[['customer_id', 'invoice_no']]"
   ]
  },
  {
   "cell_type": "code",
   "execution_count": 58,
   "id": "81eb21d6",
   "metadata": {
    "ExecuteTime": {
     "end_time": "2021-10-07T22:29:53.955344Z",
     "start_time": "2021-10-07T22:29:53.894502Z"
    }
   },
   "outputs": [],
   "source": [
    "df_frequency = df_frequency.drop_duplicates(subset = 'invoice_no')\n",
    "df_frequency = df_frequency.groupby('customer_id').count().reset_index() # number of purchases for customer within the dataset"
   ]
  },
  {
   "cell_type": "code",
   "execution_count": 59,
   "id": "33970b72",
   "metadata": {
    "ExecuteTime": {
     "end_time": "2021-10-07T22:29:53.971294Z",
     "start_time": "2021-10-07T22:29:53.957340Z"
    }
   },
   "outputs": [],
   "source": [
    "df_frequency.rename(columns={'invoice_no':'frequency'}, inplace = True)"
   ]
  },
  {
   "cell_type": "code",
   "execution_count": 60,
   "id": "68a3657f",
   "metadata": {
    "ExecuteTime": {
     "end_time": "2021-10-07T22:29:54.145936Z",
     "start_time": "2021-10-07T22:29:53.972296Z"
    }
   },
   "outputs": [],
   "source": [
    "df4 = pd.merge(df4, df_frequency, on='customer_id', how = 'left')"
   ]
  },
  {
   "cell_type": "code",
   "execution_count": 61,
   "id": "fd8ee0c2",
   "metadata": {
    "ExecuteTime": {
     "end_time": "2021-10-07T22:29:54.161881Z",
     "start_time": "2021-10-07T22:29:54.146886Z"
    },
    "scrolled": true
   },
   "outputs": [
    {
     "data": {
      "text/html": [
       "<div>\n",
       "<style scoped>\n",
       "    .dataframe tbody tr th:only-of-type {\n",
       "        vertical-align: middle;\n",
       "    }\n",
       "\n",
       "    .dataframe tbody tr th {\n",
       "        vertical-align: top;\n",
       "    }\n",
       "\n",
       "    .dataframe thead th {\n",
       "        text-align: right;\n",
       "    }\n",
       "</style>\n",
       "<table border=\"1\" class=\"dataframe\">\n",
       "  <thead>\n",
       "    <tr style=\"text-align: right;\">\n",
       "      <th></th>\n",
       "      <th>invoice_no</th>\n",
       "      <th>stock_code</th>\n",
       "      <th>description</th>\n",
       "      <th>quantity</th>\n",
       "      <th>invoice_date</th>\n",
       "      <th>unit_price</th>\n",
       "      <th>customer_id</th>\n",
       "      <th>country</th>\n",
       "      <th>subtotal</th>\n",
       "      <th>avg_ticket</th>\n",
       "      <th>recency</th>\n",
       "      <th>gross_revenue</th>\n",
       "      <th>frequency</th>\n",
       "    </tr>\n",
       "  </thead>\n",
       "  <tbody>\n",
       "    <tr>\n",
       "      <th>0</th>\n",
       "      <td>536365</td>\n",
       "      <td>85123A</td>\n",
       "      <td>WHITE HANGING HEART T-LIGHT HOLDER</td>\n",
       "      <td>6</td>\n",
       "      <td>2016-11-29</td>\n",
       "      <td>2.55</td>\n",
       "      <td>17850</td>\n",
       "      <td>United Kingdom</td>\n",
       "      <td>15.30</td>\n",
       "      <td>151.10</td>\n",
       "      <td>302</td>\n",
       "      <td>5288.63</td>\n",
       "      <td>35</td>\n",
       "    </tr>\n",
       "    <tr>\n",
       "      <th>1</th>\n",
       "      <td>536365</td>\n",
       "      <td>71053</td>\n",
       "      <td>WHITE METAL LANTERN</td>\n",
       "      <td>6</td>\n",
       "      <td>2016-11-29</td>\n",
       "      <td>3.39</td>\n",
       "      <td>17850</td>\n",
       "      <td>United Kingdom</td>\n",
       "      <td>20.34</td>\n",
       "      <td>151.10</td>\n",
       "      <td>302</td>\n",
       "      <td>5288.63</td>\n",
       "      <td>35</td>\n",
       "    </tr>\n",
       "    <tr>\n",
       "      <th>2</th>\n",
       "      <td>536365</td>\n",
       "      <td>84406B</td>\n",
       "      <td>CREAM CUPID HEARTS COAT HANGER</td>\n",
       "      <td>8</td>\n",
       "      <td>2016-11-29</td>\n",
       "      <td>2.75</td>\n",
       "      <td>17850</td>\n",
       "      <td>United Kingdom</td>\n",
       "      <td>22.00</td>\n",
       "      <td>151.10</td>\n",
       "      <td>302</td>\n",
       "      <td>5288.63</td>\n",
       "      <td>35</td>\n",
       "    </tr>\n",
       "    <tr>\n",
       "      <th>3</th>\n",
       "      <td>536365</td>\n",
       "      <td>84029G</td>\n",
       "      <td>KNITTED UNION FLAG HOT WATER BOTTLE</td>\n",
       "      <td>6</td>\n",
       "      <td>2016-11-29</td>\n",
       "      <td>3.39</td>\n",
       "      <td>17850</td>\n",
       "      <td>United Kingdom</td>\n",
       "      <td>20.34</td>\n",
       "      <td>151.10</td>\n",
       "      <td>302</td>\n",
       "      <td>5288.63</td>\n",
       "      <td>35</td>\n",
       "    </tr>\n",
       "    <tr>\n",
       "      <th>4</th>\n",
       "      <td>536365</td>\n",
       "      <td>84029E</td>\n",
       "      <td>RED WOOLLY HOTTIE WHITE HEART.</td>\n",
       "      <td>6</td>\n",
       "      <td>2016-11-29</td>\n",
       "      <td>3.39</td>\n",
       "      <td>17850</td>\n",
       "      <td>United Kingdom</td>\n",
       "      <td>20.34</td>\n",
       "      <td>151.10</td>\n",
       "      <td>302</td>\n",
       "      <td>5288.63</td>\n",
       "      <td>35</td>\n",
       "    </tr>\n",
       "  </tbody>\n",
       "</table>\n",
       "</div>"
      ],
      "text/plain": [
       "  invoice_no stock_code                          description  quantity invoice_date  unit_price  customer_id         country  subtotal  avg_ticket  recency  gross_revenue  frequency\n",
       "0     536365     85123A   WHITE HANGING HEART T-LIGHT HOLDER         6   2016-11-29        2.55        17850  United Kingdom     15.30      151.10      302        5288.63         35\n",
       "1     536365      71053                  WHITE METAL LANTERN         6   2016-11-29        3.39        17850  United Kingdom     20.34      151.10      302        5288.63         35\n",
       "2     536365     84406B       CREAM CUPID HEARTS COAT HANGER         8   2016-11-29        2.75        17850  United Kingdom     22.00      151.10      302        5288.63         35\n",
       "3     536365     84029G  KNITTED UNION FLAG HOT WATER BOTTLE         6   2016-11-29        3.39        17850  United Kingdom     20.34      151.10      302        5288.63         35\n",
       "4     536365     84029E       RED WOOLLY HOTTIE WHITE HEART.         6   2016-11-29        3.39        17850  United Kingdom     20.34      151.10      302        5288.63         35"
      ]
     },
     "execution_count": 61,
     "metadata": {},
     "output_type": "execute_result"
    }
   ],
   "source": [
    "df4.head()"
   ]
  },
  {
   "cell_type": "code",
   "execution_count": 62,
   "id": "34ed6a9b",
   "metadata": {
    "ExecuteTime": {
     "end_time": "2021-10-07T22:29:54.256628Z",
     "start_time": "2021-10-07T22:29:54.162844Z"
    }
   },
   "outputs": [],
   "source": [
    "df4.drop_duplicates(subset = 'invoice_no', inplace=True) "
   ]
  },
  {
   "cell_type": "markdown",
   "id": "2aa0169b",
   "metadata": {
    "ExecuteTime": {
     "end_time": "2021-10-07T14:02:53.355088Z",
     "start_time": "2021-10-07T14:02:53.340131Z"
    }
   },
   "source": [
    "# Data Filtering"
   ]
  },
  {
   "cell_type": "code",
   "execution_count": 63,
   "id": "5dccdbff",
   "metadata": {
    "ExecuteTime": {
     "end_time": "2021-10-07T22:29:54.272584Z",
     "start_time": "2021-10-07T22:29:54.257591Z"
    }
   },
   "outputs": [],
   "source": [
    "df5 = df4.copy()"
   ]
  },
  {
   "cell_type": "code",
   "execution_count": 64,
   "id": "a62535a6",
   "metadata": {
    "ExecuteTime": {
     "end_time": "2021-10-07T22:29:54.288509Z",
     "start_time": "2021-10-07T22:29:54.273549Z"
    }
   },
   "outputs": [],
   "source": [
    "df5.drop(columns = ['description','quantity','unit_price' ,'subtotal','invoice_date','invoice_no'], axis = 1, inplace = True) # we don't need this features"
   ]
  },
  {
   "cell_type": "code",
   "execution_count": 65,
   "id": "2b34da21",
   "metadata": {
    "ExecuteTime": {
     "end_time": "2021-10-07T22:29:54.304499Z",
     "start_time": "2021-10-07T22:29:54.290504Z"
    }
   },
   "outputs": [
    {
     "data": {
      "text/html": [
       "<div>\n",
       "<style scoped>\n",
       "    .dataframe tbody tr th:only-of-type {\n",
       "        vertical-align: middle;\n",
       "    }\n",
       "\n",
       "    .dataframe tbody tr th {\n",
       "        vertical-align: top;\n",
       "    }\n",
       "\n",
       "    .dataframe thead th {\n",
       "        text-align: right;\n",
       "    }\n",
       "</style>\n",
       "<table border=\"1\" class=\"dataframe\">\n",
       "  <thead>\n",
       "    <tr style=\"text-align: right;\">\n",
       "      <th></th>\n",
       "      <th>stock_code</th>\n",
       "      <th>customer_id</th>\n",
       "      <th>country</th>\n",
       "      <th>avg_ticket</th>\n",
       "      <th>recency</th>\n",
       "      <th>gross_revenue</th>\n",
       "      <th>frequency</th>\n",
       "    </tr>\n",
       "  </thead>\n",
       "  <tbody>\n",
       "    <tr>\n",
       "      <th>0</th>\n",
       "      <td>85123A</td>\n",
       "      <td>17850</td>\n",
       "      <td>United Kingdom</td>\n",
       "      <td>151.10</td>\n",
       "      <td>302</td>\n",
       "      <td>5288.63</td>\n",
       "      <td>35</td>\n",
       "    </tr>\n",
       "    <tr>\n",
       "      <th>7</th>\n",
       "      <td>22633</td>\n",
       "      <td>17850</td>\n",
       "      <td>United Kingdom</td>\n",
       "      <td>151.10</td>\n",
       "      <td>302</td>\n",
       "      <td>5288.63</td>\n",
       "      <td>35</td>\n",
       "    </tr>\n",
       "    <tr>\n",
       "      <th>9</th>\n",
       "      <td>84879</td>\n",
       "      <td>13047</td>\n",
       "      <td>United Kingdom</td>\n",
       "      <td>171.06</td>\n",
       "      <td>31</td>\n",
       "      <td>3079.10</td>\n",
       "      <td>18</td>\n",
       "    </tr>\n",
       "    <tr>\n",
       "      <th>21</th>\n",
       "      <td>22960</td>\n",
       "      <td>13047</td>\n",
       "      <td>United Kingdom</td>\n",
       "      <td>171.06</td>\n",
       "      <td>31</td>\n",
       "      <td>3079.10</td>\n",
       "      <td>18</td>\n",
       "    </tr>\n",
       "    <tr>\n",
       "      <th>25</th>\n",
       "      <td>21756</td>\n",
       "      <td>13047</td>\n",
       "      <td>United Kingdom</td>\n",
       "      <td>171.06</td>\n",
       "      <td>31</td>\n",
       "      <td>3079.10</td>\n",
       "      <td>18</td>\n",
       "    </tr>\n",
       "  </tbody>\n",
       "</table>\n",
       "</div>"
      ],
      "text/plain": [
       "   stock_code  customer_id         country  avg_ticket  recency  gross_revenue  frequency\n",
       "0      85123A        17850  United Kingdom      151.10      302        5288.63         35\n",
       "7       22633        17850  United Kingdom      151.10      302        5288.63         35\n",
       "9       84879        13047  United Kingdom      171.06       31        3079.10         18\n",
       "21      22960        13047  United Kingdom      171.06       31        3079.10         18\n",
       "25      21756        13047  United Kingdom      171.06       31        3079.10         18"
      ]
     },
     "execution_count": 65,
     "metadata": {},
     "output_type": "execute_result"
    }
   ],
   "source": [
    "df5.head()"
   ]
  },
  {
   "cell_type": "markdown",
   "id": "886bbdf7",
   "metadata": {
    "ExecuteTime": {
     "end_time": "2021-09-03T18:27:12.113617Z",
     "start_time": "2021-09-03T18:27:12.099655Z"
    }
   },
   "source": [
    "# Exploratory data analysis (EDA)"
   ]
  },
  {
   "cell_type": "code",
   "execution_count": 66,
   "id": "86bb762a",
   "metadata": {
    "ExecuteTime": {
     "end_time": "2021-10-07T22:29:54.320454Z",
     "start_time": "2021-10-07T22:29:54.306461Z"
    }
   },
   "outputs": [],
   "source": [
    "df6 = df5.copy()"
   ]
  },
  {
   "cell_type": "code",
   "execution_count": 67,
   "id": "ef881811",
   "metadata": {
    "ExecuteTime": {
     "end_time": "2021-10-07T22:30:06.163332Z",
     "start_time": "2021-10-07T22:29:54.329399Z"
    }
   },
   "outputs": [
    {
     "data": {
      "application/vnd.jupyter.widget-view+json": {
       "model_id": "a43ec703a3974b44aa313c12c1de5ae3",
       "version_major": 2,
       "version_minor": 0
      },
      "text/plain": [
       "Summarize dataset:   0%|          | 0/22 [00:00<?, ?it/s]"
      ]
     },
     "metadata": {},
     "output_type": "display_data"
    },
    {
     "data": {
      "application/vnd.jupyter.widget-view+json": {
       "model_id": "5ebc66d12b724fc498154211cd6d7cf0",
       "version_major": 2,
       "version_minor": 0
      },
      "text/plain": [
       "Generate report structure:   0%|          | 0/1 [00:00<?, ?it/s]"
      ]
     },
     "metadata": {},
     "output_type": "display_data"
    },
    {
     "data": {
      "application/vnd.jupyter.widget-view+json": {
       "model_id": "0db7df4e9d6f43069fd650a4c09ea71d",
       "version_major": 2,
       "version_minor": 0
      },
      "text/plain": [
       "Render HTML:   0%|          | 0/1 [00:00<?, ?it/s]"
      ]
     },
     "metadata": {},
     "output_type": "display_data"
    },
    {
     "data": {
      "application/vnd.jupyter.widget-view+json": {
       "model_id": "5fdc67fb3a9f49009f6e03f11c4a61c4",
       "version_major": 2,
       "version_minor": 0
      },
      "text/plain": [
       "Export report to file:   0%|          | 0/1 [00:00<?, ?it/s]"
      ]
     },
     "metadata": {},
     "output_type": "display_data"
    }
   ],
   "source": [
    "profile = ProfileReport(df6)\n",
    "profile.to_file(r'../reports/profile_report.html')"
   ]
  },
  {
   "cell_type": "code",
   "execution_count": 68,
   "id": "874b7c8c",
   "metadata": {
    "ExecuteTime": {
     "end_time": "2021-10-07T22:30:06.195222Z",
     "start_time": "2021-10-07T22:30:06.164304Z"
    }
   },
   "outputs": [
    {
     "data": {
      "text/html": [
       "<div>\n",
       "<style scoped>\n",
       "    .dataframe tbody tr th:only-of-type {\n",
       "        vertical-align: middle;\n",
       "    }\n",
       "\n",
       "    .dataframe tbody tr th {\n",
       "        vertical-align: top;\n",
       "    }\n",
       "\n",
       "    .dataframe thead th {\n",
       "        text-align: right;\n",
       "    }\n",
       "</style>\n",
       "<table border=\"1\" class=\"dataframe\">\n",
       "  <thead>\n",
       "    <tr style=\"text-align: right;\">\n",
       "      <th></th>\n",
       "      <th>count</th>\n",
       "      <th>mean</th>\n",
       "      <th>std</th>\n",
       "      <th>min</th>\n",
       "      <th>25%</th>\n",
       "      <th>50%</th>\n",
       "      <th>75%</th>\n",
       "      <th>max</th>\n",
       "    </tr>\n",
       "  </thead>\n",
       "  <tbody>\n",
       "    <tr>\n",
       "      <th>customer_id</th>\n",
       "      <td>22110.00</td>\n",
       "      <td>15237.50</td>\n",
       "      <td>1732.79</td>\n",
       "      <td>12347.00</td>\n",
       "      <td>13755.00</td>\n",
       "      <td>15134.00</td>\n",
       "      <td>16746.00</td>\n",
       "      <td>18287.00</td>\n",
       "    </tr>\n",
       "    <tr>\n",
       "      <th>avg_ticket</th>\n",
       "      <td>22110.00</td>\n",
       "      <td>376.00</td>\n",
       "      <td>471.88</td>\n",
       "      <td>-0.00</td>\n",
       "      <td>171.06</td>\n",
       "      <td>259.82</td>\n",
       "      <td>402.43</td>\n",
       "      <td>6207.67</td>\n",
       "    </tr>\n",
       "    <tr>\n",
       "      <th>recency</th>\n",
       "      <td>22110.00</td>\n",
       "      <td>42.86</td>\n",
       "      <td>68.84</td>\n",
       "      <td>0.00</td>\n",
       "      <td>3.00</td>\n",
       "      <td>15.00</td>\n",
       "      <td>46.00</td>\n",
       "      <td>373.00</td>\n",
       "    </tr>\n",
       "    <tr>\n",
       "      <th>gross_revenue</th>\n",
       "      <td>22110.00</td>\n",
       "      <td>10496.95</td>\n",
       "      <td>29413.92</td>\n",
       "      <td>0.00</td>\n",
       "      <td>971.31</td>\n",
       "      <td>2485.82</td>\n",
       "      <td>6388.35</td>\n",
       "      <td>279489.02</td>\n",
       "    </tr>\n",
       "    <tr>\n",
       "      <th>frequency</th>\n",
       "      <td>22110.00</td>\n",
       "      <td>22.33</td>\n",
       "      <td>40.33</td>\n",
       "      <td>1.00</td>\n",
       "      <td>4.00</td>\n",
       "      <td>9.00</td>\n",
       "      <td>21.00</td>\n",
       "      <td>248.00</td>\n",
       "    </tr>\n",
       "  </tbody>\n",
       "</table>\n",
       "</div>"
      ],
      "text/plain": [
       "                 count     mean      std      min      25%      50%      75%       max\n",
       "customer_id   22110.00 15237.50  1732.79 12347.00 13755.00 15134.00 16746.00  18287.00\n",
       "avg_ticket    22110.00   376.00   471.88    -0.00   171.06   259.82   402.43   6207.67\n",
       "recency       22110.00    42.86    68.84     0.00     3.00    15.00    46.00    373.00\n",
       "gross_revenue 22110.00 10496.95 29413.92     0.00   971.31  2485.82  6388.35 279489.02\n",
       "frequency     22110.00    22.33    40.33     1.00     4.00     9.00    21.00    248.00"
      ]
     },
     "execution_count": 68,
     "metadata": {},
     "output_type": "execute_result"
    }
   ],
   "source": [
    "df6.describe().T"
   ]
  },
  {
   "cell_type": "markdown",
   "id": "a921a62c",
   "metadata": {},
   "source": [
    "## Descriptive Statistics"
   ]
  },
  {
   "cell_type": "code",
   "execution_count": 69,
   "id": "acaa463e",
   "metadata": {
    "ExecuteTime": {
     "end_time": "2021-10-07T22:30:06.210225Z",
     "start_time": "2021-10-07T22:30:06.197216Z"
    }
   },
   "outputs": [],
   "source": [
    "num_attributes = df6.drop(columns = ['country', 'customer_id','stock_code'], axis = 1)"
   ]
  },
  {
   "cell_type": "code",
   "execution_count": 70,
   "id": "c0d90a38",
   "metadata": {
    "ExecuteTime": {
     "end_time": "2021-10-07T22:30:06.241131Z",
     "start_time": "2021-10-07T22:30:06.212177Z"
    }
   },
   "outputs": [],
   "source": [
    "#central tendency - mean, median\n",
    "ct1 = pd.DataFrame ( num_attributes.apply (np.mean) ).T\n",
    "ct2 = pd.DataFrame ( num_attributes.apply (np.median)).T\n",
    "                    \n",
    "# dispersion - desvio padrão, mínimo, máximo, range, skew, kurtosis\n",
    "d1 = pd.DataFrame ( num_attributes.apply (np.std)).T\n",
    "d2 = pd.DataFrame ( num_attributes.apply (np.min)).T\n",
    "d3 = pd.DataFrame ( num_attributes.apply (np.max)).T\n",
    "d4 = pd.DataFrame ( num_attributes.apply (lambda x: x.max() - x.min())).T\n",
    "d5 = pd.DataFrame ( num_attributes.apply (lambda x: x.skew() )).T\n",
    "d6 = pd.DataFrame ( num_attributes.apply (lambda x: x.kurtosis() ) ).T\n",
    "\n",
    "#concatenate\n",
    "\n",
    "df_metrics = pd.concat ([d2,d3,d4,ct1,ct2,d1,d5,d6]).T.reset_index()\n",
    "df_metrics.columns = ['attributes', 'min.','max','range', 'mean', 'median', 'std', 'skew', 'kurtosis']\n",
    "#df_metrics"
   ]
  },
  {
   "cell_type": "code",
   "execution_count": 71,
   "id": "36ccff89",
   "metadata": {
    "ExecuteTime": {
     "end_time": "2021-10-07T22:30:06.273045Z",
     "start_time": "2021-10-07T22:30:06.242096Z"
    }
   },
   "outputs": [
    {
     "data": {
      "text/html": [
       "<div>\n",
       "<style scoped>\n",
       "    .dataframe tbody tr th:only-of-type {\n",
       "        vertical-align: middle;\n",
       "    }\n",
       "\n",
       "    .dataframe tbody tr th {\n",
       "        vertical-align: top;\n",
       "    }\n",
       "\n",
       "    .dataframe thead th {\n",
       "        text-align: right;\n",
       "    }\n",
       "</style>\n",
       "<table border=\"1\" class=\"dataframe\">\n",
       "  <thead>\n",
       "    <tr style=\"text-align: right;\">\n",
       "      <th></th>\n",
       "      <th>count</th>\n",
       "      <th>mean</th>\n",
       "      <th>std</th>\n",
       "      <th>min</th>\n",
       "      <th>25%</th>\n",
       "      <th>50%</th>\n",
       "      <th>75%</th>\n",
       "      <th>max</th>\n",
       "    </tr>\n",
       "  </thead>\n",
       "  <tbody>\n",
       "    <tr>\n",
       "      <th>avg_ticket</th>\n",
       "      <td>22110.00</td>\n",
       "      <td>376.00</td>\n",
       "      <td>471.88</td>\n",
       "      <td>-0.00</td>\n",
       "      <td>171.06</td>\n",
       "      <td>259.82</td>\n",
       "      <td>402.43</td>\n",
       "      <td>6207.67</td>\n",
       "    </tr>\n",
       "    <tr>\n",
       "      <th>recency</th>\n",
       "      <td>22110.00</td>\n",
       "      <td>42.86</td>\n",
       "      <td>68.84</td>\n",
       "      <td>0.00</td>\n",
       "      <td>3.00</td>\n",
       "      <td>15.00</td>\n",
       "      <td>46.00</td>\n",
       "      <td>373.00</td>\n",
       "    </tr>\n",
       "    <tr>\n",
       "      <th>gross_revenue</th>\n",
       "      <td>22110.00</td>\n",
       "      <td>10496.95</td>\n",
       "      <td>29413.92</td>\n",
       "      <td>0.00</td>\n",
       "      <td>971.31</td>\n",
       "      <td>2485.82</td>\n",
       "      <td>6388.35</td>\n",
       "      <td>279489.02</td>\n",
       "    </tr>\n",
       "    <tr>\n",
       "      <th>frequency</th>\n",
       "      <td>22110.00</td>\n",
       "      <td>22.33</td>\n",
       "      <td>40.33</td>\n",
       "      <td>1.00</td>\n",
       "      <td>4.00</td>\n",
       "      <td>9.00</td>\n",
       "      <td>21.00</td>\n",
       "      <td>248.00</td>\n",
       "    </tr>\n",
       "  </tbody>\n",
       "</table>\n",
       "</div>"
      ],
      "text/plain": [
       "                 count     mean      std   min    25%     50%     75%       max\n",
       "avg_ticket    22110.00   376.00   471.88 -0.00 171.06  259.82  402.43   6207.67\n",
       "recency       22110.00    42.86    68.84  0.00   3.00   15.00   46.00    373.00\n",
       "gross_revenue 22110.00 10496.95 29413.92  0.00 971.31 2485.82 6388.35 279489.02\n",
       "frequency     22110.00    22.33    40.33  1.00   4.00    9.00   21.00    248.00"
      ]
     },
     "execution_count": 71,
     "metadata": {},
     "output_type": "execute_result"
    }
   ],
   "source": [
    "num_attributes.describe().T"
   ]
  },
  {
   "cell_type": "markdown",
   "id": "f1400656",
   "metadata": {
    "ExecuteTime": {
     "end_time": "2021-07-12T15:46:08.585174Z",
     "start_time": "2021-07-12T15:46:08.571101Z"
    }
   },
   "source": [
    "## Categorical Attibutes"
   ]
  },
  {
   "cell_type": "markdown",
   "id": "400a5771",
   "metadata": {},
   "source": [
    "## Bivariate Analysis"
   ]
  },
  {
   "cell_type": "markdown",
   "id": "16351db3",
   "metadata": {},
   "source": [
    "# <font color='red'>Data Preparation"
   ]
  },
  {
   "cell_type": "code",
   "execution_count": 72,
   "id": "5230f1bf",
   "metadata": {
    "ExecuteTime": {
     "end_time": "2021-10-07T22:30:06.289016Z",
     "start_time": "2021-10-07T22:30:06.275008Z"
    }
   },
   "outputs": [],
   "source": [
    "df7 = df6.copy()"
   ]
  },
  {
   "cell_type": "markdown",
   "id": "e54ab74b",
   "metadata": {},
   "source": [
    "# <font color='red'>Feature Selection"
   ]
  },
  {
   "cell_type": "code",
   "execution_count": 73,
   "id": "bc153c9e",
   "metadata": {
    "ExecuteTime": {
     "end_time": "2021-10-07T22:30:06.303969Z",
     "start_time": "2021-10-07T22:30:06.290968Z"
    }
   },
   "outputs": [],
   "source": [
    "df8 = df7.copy()"
   ]
  },
  {
   "cell_type": "code",
   "execution_count": 74,
   "id": "f173bfa6",
   "metadata": {
    "ExecuteTime": {
     "end_time": "2021-10-07T22:30:06.319923Z",
     "start_time": "2021-10-07T22:30:06.305932Z"
    }
   },
   "outputs": [
    {
     "data": {
      "text/html": [
       "<div>\n",
       "<style scoped>\n",
       "    .dataframe tbody tr th:only-of-type {\n",
       "        vertical-align: middle;\n",
       "    }\n",
       "\n",
       "    .dataframe tbody tr th {\n",
       "        vertical-align: top;\n",
       "    }\n",
       "\n",
       "    .dataframe thead th {\n",
       "        text-align: right;\n",
       "    }\n",
       "</style>\n",
       "<table border=\"1\" class=\"dataframe\">\n",
       "  <thead>\n",
       "    <tr style=\"text-align: right;\">\n",
       "      <th></th>\n",
       "      <th>stock_code</th>\n",
       "      <th>customer_id</th>\n",
       "      <th>country</th>\n",
       "      <th>avg_ticket</th>\n",
       "      <th>recency</th>\n",
       "      <th>gross_revenue</th>\n",
       "      <th>frequency</th>\n",
       "    </tr>\n",
       "  </thead>\n",
       "  <tbody>\n",
       "    <tr>\n",
       "      <th>0</th>\n",
       "      <td>85123A</td>\n",
       "      <td>17850</td>\n",
       "      <td>United Kingdom</td>\n",
       "      <td>151.10</td>\n",
       "      <td>302</td>\n",
       "      <td>5288.63</td>\n",
       "      <td>35</td>\n",
       "    </tr>\n",
       "    <tr>\n",
       "      <th>7</th>\n",
       "      <td>22633</td>\n",
       "      <td>17850</td>\n",
       "      <td>United Kingdom</td>\n",
       "      <td>151.10</td>\n",
       "      <td>302</td>\n",
       "      <td>5288.63</td>\n",
       "      <td>35</td>\n",
       "    </tr>\n",
       "    <tr>\n",
       "      <th>9</th>\n",
       "      <td>84879</td>\n",
       "      <td>13047</td>\n",
       "      <td>United Kingdom</td>\n",
       "      <td>171.06</td>\n",
       "      <td>31</td>\n",
       "      <td>3079.10</td>\n",
       "      <td>18</td>\n",
       "    </tr>\n",
       "    <tr>\n",
       "      <th>21</th>\n",
       "      <td>22960</td>\n",
       "      <td>13047</td>\n",
       "      <td>United Kingdom</td>\n",
       "      <td>171.06</td>\n",
       "      <td>31</td>\n",
       "      <td>3079.10</td>\n",
       "      <td>18</td>\n",
       "    </tr>\n",
       "    <tr>\n",
       "      <th>25</th>\n",
       "      <td>21756</td>\n",
       "      <td>13047</td>\n",
       "      <td>United Kingdom</td>\n",
       "      <td>171.06</td>\n",
       "      <td>31</td>\n",
       "      <td>3079.10</td>\n",
       "      <td>18</td>\n",
       "    </tr>\n",
       "  </tbody>\n",
       "</table>\n",
       "</div>"
      ],
      "text/plain": [
       "   stock_code  customer_id         country  avg_ticket  recency  gross_revenue  frequency\n",
       "0      85123A        17850  United Kingdom      151.10      302        5288.63         35\n",
       "7       22633        17850  United Kingdom      151.10      302        5288.63         35\n",
       "9       84879        13047  United Kingdom      171.06       31        3079.10         18\n",
       "21      22960        13047  United Kingdom      171.06       31        3079.10         18\n",
       "25      21756        13047  United Kingdom      171.06       31        3079.10         18"
      ]
     },
     "execution_count": 74,
     "metadata": {},
     "output_type": "execute_result"
    }
   ],
   "source": [
    "df8.head()"
   ]
  },
  {
   "cell_type": "code",
   "execution_count": 75,
   "id": "62b0f1a7",
   "metadata": {
    "ExecuteTime": {
     "end_time": "2021-10-07T22:30:06.335846Z",
     "start_time": "2021-10-07T22:30:06.320887Z"
    }
   },
   "outputs": [],
   "source": [
    "df8 = df8.drop(columns = ['stock_code','country'], axis=1)"
   ]
  },
  {
   "cell_type": "markdown",
   "id": "54063b42",
   "metadata": {},
   "source": [
    "# <font color='red'>Hyperparameter Fine-Tunning"
   ]
  },
  {
   "cell_type": "code",
   "execution_count": 76,
   "id": "fc4eea4d",
   "metadata": {
    "ExecuteTime": {
     "end_time": "2021-10-07T22:30:06.350846Z",
     "start_time": "2021-10-07T22:30:06.337842Z"
    }
   },
   "outputs": [],
   "source": [
    "df9 = df8.copy()"
   ]
  },
  {
   "cell_type": "markdown",
   "id": "08ac67d1",
   "metadata": {},
   "source": [
    "O número de clusters é nosso principal hiperparâmetro, pois não temos essa resposta.  Antes de treinar os modelos precisamos saber quantos clusters vamos considerar. Utilizamos o Kmeans para efetuar a clusterização em um range de 2 a 7 clusters, e utilizando duas métricas, a WSS e a Silhouette Score, escolhemos o número adequado de clusters. A partir daí temos um ponto de partida para treinar os diversos modelos."
   ]
  },
  {
   "cell_type": "code",
   "execution_count": 77,
   "id": "c0cde61d",
   "metadata": {
    "ExecuteTime": {
     "end_time": "2021-10-07T22:30:06.366762Z",
     "start_time": "2021-10-07T22:30:06.352833Z"
    }
   },
   "outputs": [],
   "source": [
    "X = df9.drop(columns =  ['customer_id'],  axis=1) \n",
    "clusters = [2,3,4,5,6,7] # cluster range"
   ]
  },
  {
   "cell_type": "markdown",
   "id": "7036a5e8",
   "metadata": {
    "ExecuteTime": {
     "end_time": "2021-10-07T15:41:33.064558Z",
     "start_time": "2021-10-07T15:40:39.948562Z"
    }
   },
   "source": [
    "## Within-Cluster Sum of Square (WSS)"
   ]
  },
  {
   "cell_type": "code",
   "execution_count": 78,
   "id": "ea4df0f1",
   "metadata": {
    "ExecuteTime": {
     "end_time": "2021-10-07T22:30:07.650330Z",
     "start_time": "2021-10-07T22:30:06.367761Z"
    }
   },
   "outputs": [],
   "source": [
    "wss = [] #lista para guardar as métricas para cada iteração do modelo. Cada número de cluster irá gerar um valor\n",
    "\n",
    "for k in clusters:\n",
    "    #model definition\n",
    "    kmeans = c.KMeans (init = 'random' , n_clusters=k, n_init=10, max_iter=300)\n",
    "    #model training\n",
    "    kmeans.fit ( X )\n",
    "    #validation\n",
    "    wss.append (kmeans.inertia_) #inertia é o próprio valor wss"
   ]
  },
  {
   "cell_type": "code",
   "execution_count": 79,
   "id": "88e6fd52",
   "metadata": {
    "ExecuteTime": {
     "end_time": "2021-10-07T22:30:08.986034Z",
     "start_time": "2021-10-07T22:30:07.651327Z"
    }
   },
   "outputs": [
    {
     "data": {
      "image/png": "[encoded data removed]",
      "text/plain": [
       "<Figure size 1800x864 with 2 Axes>"
      ]
     },
     "metadata": {},
     "output_type": "display_data"
    },
    {
     "data": {
      "text/plain": [
       "<AxesSubplot:title={'center':'Distortion Score Elbow for KMeans Clustering'}, xlabel='k', ylabel='distortion score'>"
      ]
     },
     "execution_count": 79,
     "metadata": {},
     "output_type": "execute_result"
    }
   ],
   "source": [
    "#plot elbow method\n",
    "kmeans = KElbowVisualizer (c.KMeans(), k=clusters, timing=False)\n",
    "kmeans.fit(X)\n",
    "kmeans.show()"
   ]
  },
  {
   "cell_type": "markdown",
   "id": "b73c35de",
   "metadata": {
    "ExecuteTime": {
     "end_time": "2021-10-07T17:31:20.037948Z",
     "start_time": "2021-10-07T17:31:20.029969Z"
    }
   },
   "source": [
    "## Silhouette Score"
   ]
  },
  {
   "cell_type": "code",
   "execution_count": 80,
   "id": "be2e68bb",
   "metadata": {
    "ExecuteTime": {
     "end_time": "2021-10-07T22:30:47.972346Z",
     "start_time": "2021-10-07T22:30:08.986985Z"
    }
   },
   "outputs": [
    {
     "data": {
      "image/png": "[encoded data removed]",
      "text/plain": [
       "<Figure size 1800x864 with 2 Axes>"
      ]
     },
     "metadata": {},
     "output_type": "display_data"
    },
    {
     "data": {
      "text/plain": [
       "<AxesSubplot:title={'center':'Silhouette Score Elbow for KMeans Clustering'}, xlabel='k', ylabel='silhouette score'>"
      ]
     },
     "execution_count": 80,
     "metadata": {},
     "output_type": "execute_result"
    }
   ],
   "source": [
    "kmeans = KElbowVisualizer ( c.KMeans(), k=clusters, metric='silhouette', timing=False)\n",
    "kmeans.fit(X)\n",
    "kmeans.show()"
   ]
  },
  {
   "cell_type": "code",
   "execution_count": 81,
   "id": "4e60dfde",
   "metadata": {
    "ExecuteTime": {
     "end_time": "2021-10-07T22:30:47.988263Z",
     "start_time": "2021-10-07T22:30:47.973301Z"
    }
   },
   "outputs": [],
   "source": [
    "## Silhouette Analysis"
   ]
  },
  {
   "cell_type": "code",
   "execution_count": 82,
   "id": "84ad17ef",
   "metadata": {
    "ExecuteTime": {
     "end_time": "2021-10-07T22:32:04.965646Z",
     "start_time": "2021-10-07T22:30:47.989258Z"
    }
   },
   "outputs": [
    {
     "data": {
      "image/png": "[encoded data removed]",
      "text/plain": [
       "<Figure size 1800x1296 with 6 Axes>"
      ]
     },
     "metadata": {},
     "output_type": "display_data"
    }
   ],
   "source": [
    "fig, ax = plt.subplots (3,2, figsize=(25,18))\n",
    "\n",
    "for k in clusters:\n",
    "    km = c.KMeans (n_clusters=k, init='random', n_init=10, max_iter=100, random_state=42)\n",
    "    q,mod = divmod(k,2) #truque para distribuição dos plots\n",
    "    visualizer = SilhouetteVisualizer (km, colors='yellowbrick', ax=ax[q-1][mod])\n",
    "    visualizer.fit(X)\n",
    "    visualizer.finalize()"
   ]
  },
  {
   "cell_type": "markdown",
   "id": "6c0cc210",
   "metadata": {
    "ExecuteTime": {
     "end_time": "2021-10-07T18:38:18.174167Z",
     "start_time": "2021-10-07T18:32:33.426Z"
    }
   },
   "source": [
    "# Model training"
   ]
  },
  {
   "cell_type": "markdown",
   "id": "410264a1",
   "metadata": {},
   "source": [
    "## K-Means"
   ]
  },
  {
   "cell_type": "code",
   "execution_count": 85,
   "id": "d211bbcb",
   "metadata": {
    "ExecuteTime": {
     "end_time": "2021-10-07T23:46:21.495222Z",
     "start_time": "2021-10-07T23:46:21.272818Z"
    }
   },
   "outputs": [],
   "source": [
    "# model definition\n",
    "k = 4\n",
    "kmeans = c.KMeans (init='random', n_clusters=k, n_init=10, max_iter=300)\n",
    "# model training\n",
    "kmeans.fit (X)\n",
    "#clustering\n",
    "labels = kmeans.labels_"
   ]
  },
  {
   "cell_type": "markdown",
   "id": "f4291436",
   "metadata": {
    "ExecuteTime": {
     "end_time": "2021-07-09T16:31:54.592587Z",
     "start_time": "2021-07-09T16:31:54.578656Z"
    }
   },
   "source": [
    "## Cluster Validation"
   ]
  },
  {
   "cell_type": "code",
   "execution_count": 86,
   "id": "e8961a87",
   "metadata": {
    "ExecuteTime": {
     "end_time": "2021-10-07T23:46:35.613559Z",
     "start_time": "2021-10-07T23:46:28.975808Z"
    }
   },
   "outputs": [
    {
     "name": "stdout",
     "output_type": "stream",
     "text": [
      "WSS value: 2362697656745.4395\n",
      "SS value: 0.7895967349409255\n"
     ]
    }
   ],
   "source": [
    "# WSS\n",
    "print('WSS value: {}'.format (kmeans.inertia_))\n",
    "# SS\n",
    "print ('SS value: {}'.format(m.silhouette_score(X, labels, metric='euclidean')))"
   ]
  },
  {
   "cell_type": "code",
   "execution_count": null,
   "id": "f624142e",
   "metadata": {},
   "outputs": [],
   "source": []
  },
  {
   "cell_type": "markdown",
   "id": "5eb3b784",
   "metadata": {},
   "source": [
    "# <font color='red'>Cluster Analysis"
   ]
  },
  {
   "cell_type": "code",
   "execution_count": null,
   "id": "b13cedfa",
   "metadata": {},
   "outputs": [],
   "source": []
  },
  {
   "cell_type": "markdown",
   "id": "6446cd14",
   "metadata": {},
   "source": [
    "## UMAP"
   ]
  },
  {
   "cell_type": "markdown",
   "id": "c7c6d7c3",
   "metadata": {},
   "source": [
    "### t-SNE"
   ]
  },
  {
   "cell_type": "markdown",
   "id": "6a729429",
   "metadata": {},
   "source": [
    "### Tree-Based Embedding"
   ]
  },
  {
   "cell_type": "markdown",
   "id": "41b5484b",
   "metadata": {
    "ExecuteTime": {
     "end_time": "2021-07-21T18:33:34.363629Z",
     "start_time": "2021-07-21T18:33:34.350628Z"
    }
   },
   "source": [
    "## K-Means"
   ]
  },
  {
   "cell_type": "markdown",
   "id": "418f2651",
   "metadata": {},
   "source": [
    "## GMM"
   ]
  },
  {
   "cell_type": "markdown",
   "id": "667abdcf",
   "metadata": {
    "ExecuteTime": {
     "end_time": "2021-07-22T13:26:33.938895Z",
     "start_time": "2021-07-22T13:26:33.933871Z"
    }
   },
   "source": [
    "## Hierarchical Clustering"
   ]
  },
  {
   "cell_type": "markdown",
   "id": "9156217d",
   "metadata": {},
   "source": [
    "## DBSCAN"
   ]
  },
  {
   "cell_type": "markdown",
   "id": "79b90b28",
   "metadata": {
    "ExecuteTime": {
     "end_time": "2021-07-22T13:26:12.104588Z",
     "start_time": "2021-07-22T13:22:49.766Z"
    }
   },
   "source": [
    "## Results"
   ]
  },
  {
   "cell_type": "markdown",
   "id": "f175e0e7",
   "metadata": {
    "ExecuteTime": {
     "end_time": "2021-07-08T22:47:55.550557Z",
     "start_time": "2021-07-08T22:47:55.536594Z"
    }
   },
   "source": [
    "## Silhouette Score"
   ]
  },
  {
   "cell_type": "markdown",
   "id": "72a9675f",
   "metadata": {
    "ExecuteTime": {
     "end_time": "2021-07-09T01:48:10.994672Z",
     "start_time": "2021-07-09T01:48:10.981674Z"
    }
   },
   "source": [
    "# <font color='red'>Deploy to production"
   ]
  },
  {
   "cell_type": "code",
   "execution_count": null,
   "id": "ce02546c",
   "metadata": {
    "ExecuteTime": {
     "end_time": "2021-10-07T22:32:05.459435Z",
     "start_time": "2021-10-07T22:29:47.214Z"
    }
   },
   "outputs": [],
   "source": [
    "# Cluster Profile"
   ]
  },
  {
   "cell_type": "code",
   "execution_count": null,
   "id": "bdfafacc",
   "metadata": {
    "ExecuteTime": {
     "end_time": "2021-10-07T22:32:05.459435Z",
     "start_time": "2021-10-07T22:29:47.216Z"
    }
   },
   "outputs": [],
   "source": [
    "df_cluster = df9[['customer_id', 'cluster']].groupby('cluster').count().reset_index()\n",
    "df_cluster['perc_customer'] = 100*(df_cluster['customer_id'] /df_cluster['customer_id'].sum())\n",
    "#avg gross revenue\n",
    "df_avg_gross_revenue = df9[['gross_revenue', 'cluster']].groupby('cluster').mean().reset_index()\n",
    "juntar todas as metricas, merge em uma tabela e mostrar os dados de cada cluster"
   ]
  },
  {
   "cell_type": "code",
   "execution_count": null,
   "id": "dba3afb3",
   "metadata": {},
   "outputs": [],
   "source": []
  },
  {
   "cell_type": "code",
   "execution_count": null,
   "id": "09d2bacf",
   "metadata": {},
   "outputs": [],
   "source": []
  },
  {
   "cell_type": "code",
   "execution_count": null,
   "id": "780a26b4",
   "metadata": {},
   "outputs": [],
   "source": []
  },
  {
   "cell_type": "code",
   "execution_count": null,
   "id": "76819805",
   "metadata": {},
   "outputs": [],
   "source": []
  },
  {
   "cell_type": "code",
   "execution_count": null,
   "id": "af4a06b3",
   "metadata": {},
   "outputs": [],
   "source": []
  },
  {
   "cell_type": "code",
   "execution_count": null,
   "id": "c654f46e",
   "metadata": {},
   "outputs": [],
   "source": []
  },
  {
   "cell_type": "code",
   "execution_count": null,
   "id": "53330f61",
   "metadata": {},
   "outputs": [],
   "source": []
  },
  {
   "cell_type": "code",
   "execution_count": null,
   "id": "4e5c2c55",
   "metadata": {},
   "outputs": [],
   "source": []
  },
  {
   "cell_type": "code",
   "execution_count": null,
   "id": "c5cf861d",
   "metadata": {},
   "outputs": [],
   "source": []
  },
  {
   "cell_type": "code",
   "execution_count": null,
   "id": "7664e16e",
   "metadata": {},
   "outputs": [],
   "source": []
  },
  {
   "cell_type": "code",
   "execution_count": null,
   "id": "2481c0f7",
   "metadata": {},
   "outputs": [],
   "source": []
  },
  {
   "cell_type": "code",
   "execution_count": null,
   "id": "eca75372",
   "metadata": {},
   "outputs": [],
   "source": []
  },
  {
   "cell_type": "code",
   "execution_count": null,
   "id": "7bd3f91d",
   "metadata": {},
   "outputs": [],
   "source": []
  },
  {
   "cell_type": "code",
   "execution_count": null,
   "id": "462fcd25",
   "metadata": {},
   "outputs": [],
   "source": []
  },
  {
   "cell_type": "code",
   "execution_count": null,
   "id": "e47d2426",
   "metadata": {},
   "outputs": [],
   "source": []
  },
  {
   "cell_type": "code",
   "execution_count": null,
   "id": "83a3119f",
   "metadata": {},
   "outputs": [],
   "source": []
  },
  {
   "cell_type": "code",
   "execution_count": null,
   "id": "92b1c8c9",
   "metadata": {},
   "outputs": [],
   "source": []
  },
  {
   "cell_type": "code",
   "execution_count": null,
   "id": "dc15cff2",
   "metadata": {},
   "outputs": [],
   "source": []
  },
  {
   "cell_type": "code",
   "execution_count": null,
   "id": "69c45dd2",
   "metadata": {},
   "outputs": [],
   "source": []
  },
  {
   "cell_type": "code",
   "execution_count": null,
   "id": "fa1a2190",
   "metadata": {},
   "outputs": [],
   "source": []
  },
  {
   "cell_type": "code",
   "execution_count": null,
   "id": "2bc1fbc2",
   "metadata": {},
   "outputs": [],
   "source": []
  },
  {
   "cell_type": "code",
   "execution_count": null,
   "id": "17d28154",
   "metadata": {},
   "outputs": [],
   "source": []
  },
  {
   "cell_type": "code",
   "execution_count": null,
   "id": "8966e579",
   "metadata": {},
   "outputs": [],
   "source": []
  },
  {
   "cell_type": "code",
   "execution_count": null,
   "id": "43e01e2a",
   "metadata": {},
   "outputs": [],
   "source": []
  },
  {
   "cell_type": "code",
   "execution_count": null,
   "id": "a1c18a3d",
   "metadata": {},
   "outputs": [],
   "source": []
  },
  {
   "cell_type": "code",
   "execution_count": null,
   "id": "15150c77",
   "metadata": {},
   "outputs": [],
   "source": []
  },
  {
   "cell_type": "code",
   "execution_count": null,
   "id": "21288562",
   "metadata": {},
   "outputs": [],
   "source": []
  },
  {
   "cell_type": "code",
   "execution_count": null,
   "id": "46b04509",
   "metadata": {},
   "outputs": [],
   "source": []
  },
  {
   "cell_type": "code",
   "execution_count": null,
   "id": "7fb338fd",
   "metadata": {},
   "outputs": [],
   "source": []
  },
  {
   "cell_type": "code",
   "execution_count": null,
   "id": "9f2675c8",
   "metadata": {},
   "outputs": [],
   "source": []
  },
  {
   "cell_type": "code",
   "execution_count": null,
   "id": "f6557d78",
   "metadata": {},
   "outputs": [],
   "source": []
  }
 ],
 "metadata": {
  "kernelspec": {
   "display_name": "Python 3",
   "language": "python",
   "name": "python3"
  },
  "language_info": {
   "codemirror_mode": {
    "name": "ipython",
    "version": 3
   },
   "file_extension": ".py",
   "mimetype": "text/x-python",
   "name": "python",
   "nbconvert_exporter": "python",
   "pygments_lexer": "ipython3",
   "version": "3.8.10"
  },
  "toc": {
   "base_numbering": "0",
   "nav_menu": {},
   "number_sections": true,
   "sideBar": true,
   "skip_h1_title": false,
   "title_cell": "Table of Contents",
   "title_sidebar": "Contents",
   "toc_cell": false,
   "toc_position": {},
   "toc_section_display": true,
   "toc_window_display": false
  }
 },
 "nbformat": 4,
 "nbformat_minor": 5
}
