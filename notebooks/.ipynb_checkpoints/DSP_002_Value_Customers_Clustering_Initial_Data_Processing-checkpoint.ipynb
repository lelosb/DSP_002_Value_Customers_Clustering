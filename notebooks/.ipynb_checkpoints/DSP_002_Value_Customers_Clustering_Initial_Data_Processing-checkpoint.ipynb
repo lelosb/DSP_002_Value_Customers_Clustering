{
 "cells": [
  {
   "cell_type": "markdown",
   "id": "460ce7db",
   "metadata": {
    "heading_collapsed": true
   },
   "source": [
    "# <font color='yellow'>PA005: High Value Customer Identification (Insiders)"
   ]
  },
  {
   "cell_type": "markdown",
   "id": "6771fffb",
   "metadata": {
    "hidden": true
   },
   "source": [
    "## Imports"
   ]
  },
  {
   "cell_type": "code",
   "execution_count": 1,
   "id": "752777d1",
   "metadata": {
    "ExecuteTime": {
     "end_time": "2021-07-23T14:02:29.562355Z",
     "start_time": "2021-07-23T14:02:25.216424Z"
    },
    "hidden": true
   },
   "outputs": [],
   "source": [
    "import numpy as np\n",
    "import pandas as pd\n",
    "import seaborn as sns\n",
    "\n",
    "import umap.umap_ as umap\n",
    "# pip install umap-learn senão não funciona\n",
    "\n",
    "from IPython.core.display     import HTML\n",
    "from matplotlib import pyplot as plt\n",
    "\n",
    "from pandas_profiling import ProfileReport \n",
    "\n",
    "\n",
    "from sklearn import cluster       as c\n",
    "from sklearn import metrics       as m\n",
    "from sklearn import ensemble      as en\n",
    "from sklearn import preprocessing as pp\n",
    "from sklearn import decomposition as dd\n",
    "from sklearn import manifold      as mn\n",
    "from sklearn import mixture       as mx\n",
    "\n",
    "from sklearn.manifold import TSNE\n",
    "from sklearn.neighbors import NearestNeighbors\n",
    "from scipy.cluster import hierarchy as hc\n",
    "\n",
    "from plotly import express as px\n",
    "\n",
    "from yellowbrick.cluster import KElbowVisualizer, SilhouetteVisualizer"
   ]
  },
  {
   "cell_type": "markdown",
   "id": "c04dfcef",
   "metadata": {
    "hidden": true
   },
   "source": [
    "## Helper Functions"
   ]
  },
  {
   "cell_type": "code",
   "execution_count": 2,
   "id": "5cca2481",
   "metadata": {
    "ExecuteTime": {
     "end_time": "2021-07-23T14:02:29.593269Z",
     "start_time": "2021-07-23T14:02:29.570296Z"
    },
    "hidden": true
   },
   "outputs": [
    {
     "name": "stdout",
     "output_type": "stream",
     "text": [
      "Populating the interactive namespace from numpy and matplotlib\n"
     ]
    },
    {
     "data": {
      "text/html": [
       "<style>.container { width:100% !important; }</style>"
      ],
      "text/plain": [
       "<IPython.core.display.HTML object>"
      ]
     },
     "metadata": {},
     "output_type": "display_data"
    }
   ],
   "source": [
    "def jupyter_settings():\n",
    "    %matplotlib inline\n",
    "    %pylab inline\n",
    "    plt.style.use( 'bmh' )\n",
    "    plt.rcParams['figure.figsize'] = [25, 12]\n",
    "    plt.rcParams['font.size'] = 24\n",
    "    display( HTML( '<style>.container { width:100% !important; }</style>') )\n",
    "    pd.options.display.max_columns = None\n",
    "    pd.options.display.max_rows = None\n",
    "    pd.set_option( 'display.expand_frame_repr', False )\n",
    "    sns.set()\n",
    "jupyter_settings()"
   ]
  },
  {
   "cell_type": "code",
   "execution_count": 3,
   "id": "7e7e90a2",
   "metadata": {
    "ExecuteTime": {
     "end_time": "2021-07-23T14:02:30.182766Z",
     "start_time": "2021-07-23T14:02:29.597224Z"
    },
    "hidden": true
   },
   "outputs": [
    {
     "data": {
      "text/html": [
       "<div>\n",
       "<style scoped>\n",
       "    .dataframe tbody tr th:only-of-type {\n",
       "        vertical-align: middle;\n",
       "    }\n",
       "\n",
       "    .dataframe tbody tr th {\n",
       "        vertical-align: top;\n",
       "    }\n",
       "\n",
       "    .dataframe thead th {\n",
       "        text-align: right;\n",
       "    }\n",
       "</style>\n",
       "<table border=\"1\" class=\"dataframe\">\n",
       "  <thead>\n",
       "    <tr style=\"text-align: right;\">\n",
       "      <th></th>\n",
       "      <th>InvoiceNo</th>\n",
       "      <th>StockCode</th>\n",
       "      <th>Description</th>\n",
       "      <th>Quantity</th>\n",
       "      <th>InvoiceDate</th>\n",
       "      <th>UnitPrice</th>\n",
       "      <th>CustomerID</th>\n",
       "      <th>Country</th>\n",
       "      <th>Unnamed: 8</th>\n",
       "    </tr>\n",
       "  </thead>\n",
       "  <tbody>\n",
       "    <tr>\n",
       "      <th>0</th>\n",
       "      <td>536365</td>\n",
       "      <td>85123A</td>\n",
       "      <td>WHITE HANGING HEART T-LIGHT HOLDER</td>\n",
       "      <td>6</td>\n",
       "      <td>29-Nov-16</td>\n",
       "      <td>2.55</td>\n",
       "      <td>17850.0</td>\n",
       "      <td>United Kingdom</td>\n",
       "      <td>NaN</td>\n",
       "    </tr>\n",
       "    <tr>\n",
       "      <th>1</th>\n",
       "      <td>536365</td>\n",
       "      <td>71053</td>\n",
       "      <td>WHITE METAL LANTERN</td>\n",
       "      <td>6</td>\n",
       "      <td>29-Nov-16</td>\n",
       "      <td>3.39</td>\n",
       "      <td>17850.0</td>\n",
       "      <td>United Kingdom</td>\n",
       "      <td>NaN</td>\n",
       "    </tr>\n",
       "    <tr>\n",
       "      <th>2</th>\n",
       "      <td>536365</td>\n",
       "      <td>84406B</td>\n",
       "      <td>CREAM CUPID HEARTS COAT HANGER</td>\n",
       "      <td>8</td>\n",
       "      <td>29-Nov-16</td>\n",
       "      <td>2.75</td>\n",
       "      <td>17850.0</td>\n",
       "      <td>United Kingdom</td>\n",
       "      <td>NaN</td>\n",
       "    </tr>\n",
       "    <tr>\n",
       "      <th>3</th>\n",
       "      <td>536365</td>\n",
       "      <td>84029G</td>\n",
       "      <td>KNITTED UNION FLAG HOT WATER BOTTLE</td>\n",
       "      <td>6</td>\n",
       "      <td>29-Nov-16</td>\n",
       "      <td>3.39</td>\n",
       "      <td>17850.0</td>\n",
       "      <td>United Kingdom</td>\n",
       "      <td>NaN</td>\n",
       "    </tr>\n",
       "    <tr>\n",
       "      <th>4</th>\n",
       "      <td>536365</td>\n",
       "      <td>84029E</td>\n",
       "      <td>RED WOOLLY HOTTIE WHITE HEART.</td>\n",
       "      <td>6</td>\n",
       "      <td>29-Nov-16</td>\n",
       "      <td>3.39</td>\n",
       "      <td>17850.0</td>\n",
       "      <td>United Kingdom</td>\n",
       "      <td>NaN</td>\n",
       "    </tr>\n",
       "  </tbody>\n",
       "</table>\n",
       "</div>"
      ],
      "text/plain": [
       "  InvoiceNo StockCode                          Description  Quantity InvoiceDate  UnitPrice  CustomerID         Country  Unnamed: 8\n",
       "0    536365    85123A   WHITE HANGING HEART T-LIGHT HOLDER         6   29-Nov-16       2.55     17850.0  United Kingdom         NaN\n",
       "1    536365     71053                  WHITE METAL LANTERN         6   29-Nov-16       3.39     17850.0  United Kingdom         NaN\n",
       "2    536365    84406B       CREAM CUPID HEARTS COAT HANGER         8   29-Nov-16       2.75     17850.0  United Kingdom         NaN\n",
       "3    536365    84029G  KNITTED UNION FLAG HOT WATER BOTTLE         6   29-Nov-16       3.39     17850.0  United Kingdom         NaN\n",
       "4    536365    84029E       RED WOOLLY HOTTIE WHITE HEART.         6   29-Nov-16       3.39     17850.0  United Kingdom         NaN"
      ]
     },
     "execution_count": 3,
     "metadata": {},
     "output_type": "execute_result"
    }
   ],
   "source": [
    "# Loading data\n",
    "df_raw = pd.read_csv('Ecommerce.csv')\n",
    "df_raw.head()"
   ]
  },
  {
   "cell_type": "markdown",
   "id": "7a54ac5b",
   "metadata": {
    "heading_collapsed": true,
    "hidden": true
   },
   "source": [
    "## Planejamento da Solução (IOT)"
   ]
  },
  {
   "cell_type": "markdown",
   "id": "5fadf11f",
   "metadata": {
    "heading_collapsed": true,
    "hidden": true
   },
   "source": [
    "### Input "
   ]
  },
  {
   "cell_type": "markdown",
   "id": "054d9946",
   "metadata": {
    "hidden": true
   },
   "source": [
    "1. Business Question\n",
    "    - Find the more valiable clients to join a fidelity program\n",
    "    - Selecionar os clientes mais valiosos para integrar um programa de Fidelização\n",
    "2. Data Set\n",
    "    - Sells of a e-commerce along one year."
   ]
  },
  {
   "cell_type": "markdown",
   "id": "b57ae555",
   "metadata": {
    "heading_collapsed": true,
    "hidden": true
   },
   "source": [
    "## Output "
   ]
  },
  {
   "cell_type": "markdown",
   "id": "965f9d5a",
   "metadata": {
    "hidden": true
   },
   "source": [
    "1. A indicação das pessoas que farão parte do programa de Insiders\n",
    "    - Formato de lista: client id is / is insider\n",
    "2. Relatório\n",
    "    - Relatório com as perguntas de negócio:\n",
    "    -Quem são as pessoas elegíveis para participar do programa de Insiders ?\n",
    "    - Who are the clients elegible to join the Insiders program?\n",
    "    -Quantos clientes farão parte do grupo?\n",
    "    - How much customers will be part of the group?\n",
    "    -Quais as principais características desses clientes ?\n",
    "    - What are the mainly features of this customers?\n",
    "    -Qual a porcentagem de contribuição do faturamento, vinda do Insiders ?\n",
    "    - Which percentage of revenue comes from the Insiders?\n",
    "    -Qual a expectativa de faturamento desse grupo para os próximos meses ?\n",
    "    - How the reveneu is expected from the Insiders within the next couple of months?\n",
    "    -Quais as condições para uma pessoa ser elegível ao Insiders ?\n",
    "    -Quais as condições para uma pessoa ser removida do Insiders ?\n",
    "    -Qual a garantia que o programa Insiders é melhor que o restante da base ?\n",
    "    -Quais ações o time de marketing pode realizar para aumentar o faturamento?"
   ]
  },
  {
   "cell_type": "markdown",
   "id": "ecaaab49",
   "metadata": {
    "heading_collapsed": true,
    "hidden": true
   },
   "source": [
    "## Tasks - Tarefas"
   ]
  },
  {
   "cell_type": "markdown",
   "id": "f9ee7fac",
   "metadata": {
    "hidden": true
   },
   "source": [
    "1)Quem são as pessoas elegíveis para participar do programa de Insiders ?\n",
    "\n",
    "    - O que é ser elegível? O que são os clientes de maior 'valor'? (resposta pelo time de negócio)\n",
    "    - Faturamento:\n",
    "        - Alto ticket médio\n",
    "        - Alto LTV (Life Time Value)\n",
    "        - Baixa Recência (tempo entre as compras)\n",
    "        - Alto basket size\n",
    "        - Baixa probabilidade de Churn (não renovação)\n",
    "        - Alta Previsão de LTV\n",
    "        - Alta propensão de compra\n",
    "    - Custo\n",
    "        - Baixa taxa de devolução\n",
    "    - Experiência de compra\n",
    "        - Média alta de avaliação\n",
    "        \n",
    "2)Quantos clientes farão parte do grupo?\n",
    "\n",
    "    - Número total de clientes em relação ao grupo total\n",
    "    \n",
    "3)Quais as principais características desses clientes ?\n",
    "\n",
    "    - Escrever características do cliente:\n",
    "        -Idade\n",
    "        -Localização\n",
    "    - Escrever características dos hábitos de consumo\n",
    "         - Atributos de clusterização\n",
    "    \n",
    "4)Qual a porcentagem de contribuição do faturamento, vinda do Insiders ?\n",
    "\n",
    "    - Comparar o faturamento dos Insiders em relação ao faturamento total\n",
    "    - Faturamento do grupo (leva em conta o time que toma conta do grupo)\n",
    "    \n",
    "5)Qual a expectativa de faturamento desse grupo para os próximos meses ?\n",
    "\n",
    "    - LTV do grupo de Insiders\n",
    "    - Análise de Cohort\n",
    "    \n",
    "6)Quais as condições para uma pessoa ser elegível ao Insiders ?\n",
    "\n",
    "    - Definir a periodicidade (quando o modelo vai ser rodado?)\n",
    "    - A pessoa precisa ser desimilar ou não-parecido com uma pessoa do grupo\n",
    "\n",
    "7)Quais as condições para uma pessoa ser removida do Insiders ?\n",
    "\n",
    "    - Definir a periodicidade (quando o modelo vai ser rodado?)\n",
    "    - A pessoa precisa ser similar ou parecido com uma pessoa do grupo\n",
    "    \n",
    "8)Qual a garantia que o programa Insiders é melhor que o restante da base ?\n",
    "\n",
    "    - Teste A/B\n",
    "    - Teste A/B Bayesiano\n",
    "    - Teste de hipóteses\n",
    "\n",
    "9)Quais ações o time de marketing pode realizar para aumentar o faturamento?\n",
    "\n",
    "    - Desconto\n",
    "    - preferência de compra\n",
    "    - frete\n",
    "    - visita a empresa"
   ]
  },
  {
   "cell_type": "markdown",
   "id": "b37edf54",
   "metadata": {
    "heading_collapsed": true
   },
   "source": [
    "# <font color='green'> Tratamento inicial dos dados"
   ]
  },
  {
   "cell_type": "code",
   "execution_count": 4,
   "id": "d51ae57f",
   "metadata": {
    "ExecuteTime": {
     "end_time": "2021-07-23T14:02:30.227645Z",
     "start_time": "2021-07-23T14:02:30.183763Z"
    },
    "hidden": true
   },
   "outputs": [],
   "source": [
    "df1 = df_raw.copy()"
   ]
  },
  {
   "cell_type": "code",
   "execution_count": 5,
   "id": "94230797",
   "metadata": {
    "ExecuteTime": {
     "end_time": "2021-07-23T14:02:30.289522Z",
     "start_time": "2021-07-23T14:02:30.228643Z"
    },
    "hidden": true
   },
   "outputs": [],
   "source": [
    "df1 = df_raw.drop(columns=['Unnamed: 8'], axis=1) # we don't know what is this feature/column"
   ]
  },
  {
   "cell_type": "markdown",
   "id": "5b8cfb47",
   "metadata": {
    "hidden": true
   },
   "source": [
    "## Rename columns"
   ]
  },
  {
   "cell_type": "code",
   "execution_count": 6,
   "id": "1084b019",
   "metadata": {
    "ExecuteTime": {
     "end_time": "2021-07-23T14:02:30.304442Z",
     "start_time": "2021-07-23T14:02:30.290478Z"
    },
    "hidden": true
   },
   "outputs": [
    {
     "data": {
      "text/plain": [
       "Index(['InvoiceNo', 'StockCode', 'Description', 'Quantity', 'InvoiceDate',\n",
       "       'UnitPrice', 'CustomerID', 'Country'],\n",
       "      dtype='object')"
      ]
     },
     "execution_count": 6,
     "metadata": {},
     "output_type": "execute_result"
    }
   ],
   "source": [
    "df1.columns #checking the name of the columns"
   ]
  },
  {
   "cell_type": "code",
   "execution_count": 7,
   "id": "8d33b8d1",
   "metadata": {
    "ExecuteTime": {
     "end_time": "2021-07-23T14:02:30.320399Z",
     "start_time": "2021-07-23T14:02:30.307434Z"
    },
    "hidden": true
   },
   "outputs": [],
   "source": [
    "cols_new = ['invoice_no', 'stock_code', 'description','quantity', 'invoice_date','unit_price', 'customer_id', 'country']"
   ]
  },
  {
   "cell_type": "code",
   "execution_count": 8,
   "id": "938cd850",
   "metadata": {
    "ExecuteTime": {
     "end_time": "2021-07-23T14:02:30.336399Z",
     "start_time": "2021-07-23T14:02:30.322393Z"
    },
    "hidden": true
   },
   "outputs": [],
   "source": [
    "df1.columns = cols_new #change to snacke case"
   ]
  },
  {
   "cell_type": "markdown",
   "id": "6ac566ee",
   "metadata": {
    "hidden": true
   },
   "source": [
    "## Data dimensions"
   ]
  },
  {
   "cell_type": "code",
   "execution_count": 9,
   "id": "7a61fc51",
   "metadata": {
    "ExecuteTime": {
     "end_time": "2021-07-23T14:02:30.351823Z",
     "start_time": "2021-07-23T14:02:30.337897Z"
    },
    "hidden": true
   },
   "outputs": [
    {
     "name": "stdout",
     "output_type": "stream",
     "text": [
      "The number of rows: 541909\n",
      "The number of columns: 8\n"
     ]
    }
   ],
   "source": [
    "print('The number of rows: {}'.format(df1.shape[0]))\n",
    "print('The number of columns: {}'.format(df1.shape[1]))"
   ]
  },
  {
   "cell_type": "markdown",
   "id": "b9235e90",
   "metadata": {
    "hidden": true
   },
   "source": [
    "## Data Types"
   ]
  },
  {
   "cell_type": "code",
   "execution_count": 10,
   "id": "98f79cef",
   "metadata": {
    "ExecuteTime": {
     "end_time": "2021-07-23T14:02:30.366783Z",
     "start_time": "2021-07-23T14:02:30.352821Z"
    },
    "hidden": true
   },
   "outputs": [
    {
     "data": {
      "text/plain": [
       "invoice_no       object\n",
       "stock_code       object\n",
       "description      object\n",
       "quantity          int64\n",
       "invoice_date     object\n",
       "unit_price      float64\n",
       "customer_id     float64\n",
       "country          object\n",
       "dtype: object"
      ]
     },
     "execution_count": 10,
     "metadata": {},
     "output_type": "execute_result"
    }
   ],
   "source": [
    "df1.dtypes"
   ]
  },
  {
   "cell_type": "markdown",
   "id": "3018b703",
   "metadata": {
    "hidden": true
   },
   "source": [
    "As colunas invoice e stock estão como objetos. Eu imaginei que fosse só mudar, mas o professor disse que deveria haver algum registro com letras no meio pra fazer com que fosse objeto (o que me diz que de alguma forma o pandas lê os dados e decide qual tipo vai ser). Tentando forçar a mudança pra inteiro, o local onde há um problema vai ser mostrado"
   ]
  },
  {
   "cell_type": "code",
   "execution_count": 11,
   "id": "de067bab",
   "metadata": {
    "ExecuteTime": {
     "end_time": "2021-07-23T14:02:30.382781Z",
     "start_time": "2021-07-23T14:02:30.367782Z"
    },
    "hidden": true
   },
   "outputs": [],
   "source": [
    "#df1['invoice_no'] = df1['invoice_no'].astype(int)\n",
    "#tá comentado pra não parar aqui quando roda tudo"
   ]
  },
  {
   "cell_type": "markdown",
   "id": "89c2d025",
   "metadata": {
    "hidden": true
   },
   "source": [
    "'C536379' esse é o registro errado, mas ainda não é hora de tratar isso"
   ]
  },
  {
   "cell_type": "markdown",
   "id": "daa78690",
   "metadata": {
    "hidden": true
   },
   "source": [
    "## Check NA"
   ]
  },
  {
   "cell_type": "code",
   "execution_count": 12,
   "id": "b0dd0850",
   "metadata": {
    "ExecuteTime": {
     "end_time": "2021-07-23T14:02:30.491039Z",
     "start_time": "2021-07-23T14:02:30.383738Z"
    },
    "hidden": true
   },
   "outputs": [
    {
     "data": {
      "text/plain": [
       "invoice_no           0\n",
       "stock_code           0\n",
       "description       1454\n",
       "quantity             0\n",
       "invoice_date         0\n",
       "unit_price           0\n",
       "customer_id     135080\n",
       "country              0\n",
       "dtype: int64"
      ]
     },
     "execution_count": 12,
     "metadata": {},
     "output_type": "execute_result"
    }
   ],
   "source": [
    "df1.isna().sum() #soma os NAN das colunas"
   ]
  },
  {
   "cell_type": "markdown",
   "id": "b8817776",
   "metadata": {
    "hidden": true
   },
   "source": [
    "Um número muito grande de clientes NAN. Visto que estamos fazendo um projeto justamente pra agrupar clientes, é um problema bem grande"
   ]
  },
  {
   "cell_type": "markdown",
   "id": "71084083",
   "metadata": {
    "hidden": true
   },
   "source": [
    "## Replace NA"
   ]
  },
  {
   "cell_type": "markdown",
   "id": "e3805940",
   "metadata": {
    "hidden": true
   },
   "source": [
    "First, we will separe the dataset in two, one with the customers, and another without"
   ]
  },
  {
   "cell_type": "code",
   "execution_count": 13,
   "id": "1bacda50",
   "metadata": {
    "ExecuteTime": {
     "end_time": "2021-07-23T14:02:30.552387Z",
     "start_time": "2021-07-23T14:02:30.493032Z"
    },
    "hidden": true
   },
   "outputs": [],
   "source": [
    "df1_missing = df1[df1['customer_id'].isna()]\n",
    "df1_not_missing = df1[~df1['customer_id'].isna()]"
   ]
  },
  {
   "cell_type": "markdown",
   "id": "13804717",
   "metadata": {
    "hidden": true
   },
   "source": [
    "The main idea was search for the invoices in the missing list on the another list, and identify the customers for the invoices."
   ]
  },
  {
   "cell_type": "code",
   "execution_count": 14,
   "id": "7fe6c0c1",
   "metadata": {
    "ExecuteTime": {
     "end_time": "2021-07-23T14:02:30.598265Z",
     "start_time": "2021-07-23T14:02:30.555379Z"
    },
    "hidden": true
   },
   "outputs": [
    {
     "data": {
      "text/html": [
       "<div>\n",
       "<style scoped>\n",
       "    .dataframe tbody tr th:only-of-type {\n",
       "        vertical-align: middle;\n",
       "    }\n",
       "\n",
       "    .dataframe tbody tr th {\n",
       "        vertical-align: top;\n",
       "    }\n",
       "\n",
       "    .dataframe thead th {\n",
       "        text-align: right;\n",
       "    }\n",
       "</style>\n",
       "<table border=\"1\" class=\"dataframe\">\n",
       "  <thead>\n",
       "    <tr style=\"text-align: right;\">\n",
       "      <th></th>\n",
       "      <th>invoice_no</th>\n",
       "      <th>stock_code</th>\n",
       "      <th>description</th>\n",
       "      <th>quantity</th>\n",
       "      <th>invoice_date</th>\n",
       "      <th>unit_price</th>\n",
       "      <th>customer_id</th>\n",
       "      <th>country</th>\n",
       "    </tr>\n",
       "  </thead>\n",
       "  <tbody>\n",
       "  </tbody>\n",
       "</table>\n",
       "</div>"
      ],
      "text/plain": [
       "Empty DataFrame\n",
       "Columns: [invoice_no, stock_code, description, quantity, invoice_date, unit_price, customer_id, country]\n",
       "Index: []"
      ]
     },
     "execution_count": 14,
     "metadata": {},
     "output_type": "execute_result"
    }
   ],
   "source": [
    "missing_invoice = df1_missing['invoice_no'].drop_duplicates().tolist() # a lit with the invoices without customers\n",
    "df1_not_missing[df1_not_missing ['invoice_no'].isin(missing_invoice)]"
   ]
  },
  {
   "cell_type": "markdown",
   "id": "727c0b6e",
   "metadata": {
    "ExecuteTime": {
     "end_time": "2021-07-13T15:16:40.265940Z",
     "start_time": "2021-07-13T15:16:40.219064Z"
    },
    "hidden": true
   },
   "source": [
    "But the list returned empty. We have to try another thing. Another way is give a customer id for the missing invoices, due the identification is just a code"
   ]
  },
  {
   "cell_type": "code",
   "execution_count": 15,
   "id": "5c5c1602",
   "metadata": {
    "ExecuteTime": {
     "end_time": "2021-07-23T14:02:30.613257Z",
     "start_time": "2021-07-23T14:02:30.599263Z"
    },
    "hidden": true
   },
   "outputs": [],
   "source": [
    "df_backup = pd.DataFrame (df1_missing['invoice_no'].drop_duplicates())\n",
    "df_backup['customer_id'] = np.arange (19000, 19000 + len(df_backup)) \n",
    "# the max client number is 18287. So we decide start with 19000"
   ]
  },
  {
   "cell_type": "code",
   "execution_count": 16,
   "id": "324bd366",
   "metadata": {
    "ExecuteTime": {
     "end_time": "2021-07-23T14:02:30.862598Z",
     "start_time": "2021-07-23T14:02:30.614222Z"
    },
    "hidden": true
   },
   "outputs": [],
   "source": [
    "#merge the two data frames\n",
    "df1 = pd.merge (df1, df_backup, on = 'invoice_no', how = 'left') \n",
    "#this comand creates two  new columns in the df, witch will be dropped"
   ]
  },
  {
   "cell_type": "code",
   "execution_count": 17,
   "id": "51cbdd94",
   "metadata": {
    "ExecuteTime": {
     "end_time": "2021-07-23T14:02:30.970269Z",
     "start_time": "2021-07-23T14:02:30.863556Z"
    },
    "hidden": true
   },
   "outputs": [],
   "source": [
    "#coalesce\n",
    "\n",
    "df1['customer_id'] = df1['customer_id_x'].combine_first (df1['customer_id_y'] )\n",
    "\n",
    "df1 = df1.drop (columns = ['customer_id_x', 'customer_id_y'], axis=1)"
   ]
  },
  {
   "cell_type": "markdown",
   "id": "7a0efbdb",
   "metadata": {
    "hidden": true
   },
   "source": [
    "## Change dtypes"
   ]
  },
  {
   "cell_type": "code",
   "execution_count": 18,
   "id": "fcf79ece",
   "metadata": {
    "ExecuteTime": {
     "end_time": "2021-07-23T14:02:30.986227Z",
     "start_time": "2021-07-23T14:02:30.971266Z"
    },
    "hidden": true
   },
   "outputs": [
    {
     "data": {
      "text/plain": [
       "invoice_no       object\n",
       "stock_code       object\n",
       "description      object\n",
       "quantity          int64\n",
       "invoice_date     object\n",
       "unit_price      float64\n",
       "country          object\n",
       "customer_id     float64\n",
       "dtype: object"
      ]
     },
     "execution_count": 18,
     "metadata": {},
     "output_type": "execute_result"
    }
   ],
   "source": [
    "df1.dtypes"
   ]
  },
  {
   "cell_type": "code",
   "execution_count": 19,
   "id": "1a1e4e09",
   "metadata": {
    "ExecuteTime": {
     "end_time": "2021-07-23T14:02:31.081969Z",
     "start_time": "2021-07-23T14:02:30.987225Z"
    },
    "hidden": true
   },
   "outputs": [],
   "source": [
    "df1['invoice_date'] = pd.to_datetime(df1['invoice_date'], format='%d-%b-%y')\n",
    "#datetime é um método que gera uma data a partir de uma string\n",
    "df1['customer_id'] = df1['customer_id'].astype(int64)"
   ]
  },
  {
   "cell_type": "markdown",
   "id": "6ed74d2b",
   "metadata": {
    "hidden": true
   },
   "source": [
    "Tem que casar o 'format' com o formato dos dados. No df esta dia-mês-ano, mas o mês está em string, por isso ele usou o '%b'(https://docs.python.org/3/library/datetime.html#strftime-and-strptime-behavior)"
   ]
  },
  {
   "cell_type": "code",
   "execution_count": 20,
   "id": "e835c697",
   "metadata": {
    "ExecuteTime": {
     "end_time": "2021-07-23T14:02:31.097927Z",
     "start_time": "2021-07-23T14:02:31.082967Z"
    },
    "hidden": true
   },
   "outputs": [
    {
     "data": {
      "text/plain": [
       "invoice_no              object\n",
       "stock_code              object\n",
       "description             object\n",
       "quantity                 int64\n",
       "invoice_date    datetime64[ns]\n",
       "unit_price             float64\n",
       "country                 object\n",
       "customer_id              int64\n",
       "dtype: object"
      ]
     },
     "execution_count": 20,
     "metadata": {},
     "output_type": "execute_result"
    }
   ],
   "source": [
    "df1.dtypes #verificando se funcionou"
   ]
  },
  {
   "cell_type": "markdown",
   "id": "a921a62c",
   "metadata": {
    "hidden": true
   },
   "source": [
    "## Descriptive Statistics"
   ]
  },
  {
   "cell_type": "code",
   "execution_count": 21,
   "id": "ca4375c9",
   "metadata": {
    "ExecuteTime": {
     "end_time": "2021-07-23T14:02:31.145798Z",
     "start_time": "2021-07-23T14:02:31.098925Z"
    },
    "hidden": true,
    "scrolled": true
   },
   "outputs": [],
   "source": [
    "num_attributes = df1.select_dtypes ( include = ['int64', 'float64'])\n",
    "cat_attributes = df1.select_dtypes ( exclude = ['int64', 'float64', 'datetime64[ns]'])"
   ]
  },
  {
   "cell_type": "markdown",
   "id": "b0e27481",
   "metadata": {
    "ExecuteTime": {
     "end_time": "2021-07-12T17:29:26.512826Z",
     "start_time": "2021-07-12T17:29:26.503851Z"
    },
    "hidden": true
   },
   "source": [
    "### Numerical Attributes"
   ]
  },
  {
   "cell_type": "code",
   "execution_count": 22,
   "id": "c0d90a38",
   "metadata": {
    "ExecuteTime": {
     "end_time": "2021-07-23T14:02:31.303410Z",
     "start_time": "2021-07-23T14:02:31.150787Z"
    },
    "hidden": true
   },
   "outputs": [
    {
     "data": {
      "text/html": [
       "<div>\n",
       "<style scoped>\n",
       "    .dataframe tbody tr th:only-of-type {\n",
       "        vertical-align: middle;\n",
       "    }\n",
       "\n",
       "    .dataframe tbody tr th {\n",
       "        vertical-align: top;\n",
       "    }\n",
       "\n",
       "    .dataframe thead th {\n",
       "        text-align: right;\n",
       "    }\n",
       "</style>\n",
       "<table border=\"1\" class=\"dataframe\">\n",
       "  <thead>\n",
       "    <tr style=\"text-align: right;\">\n",
       "      <th></th>\n",
       "      <th>attributes</th>\n",
       "      <th>min.</th>\n",
       "      <th>max</th>\n",
       "      <th>range</th>\n",
       "      <th>mean</th>\n",
       "      <th>median</th>\n",
       "      <th>std</th>\n",
       "      <th>skew</th>\n",
       "      <th>kurtosis</th>\n",
       "    </tr>\n",
       "  </thead>\n",
       "  <tbody>\n",
       "    <tr>\n",
       "      <th>0</th>\n",
       "      <td>quantity</td>\n",
       "      <td>-80995.00</td>\n",
       "      <td>80995.0</td>\n",
       "      <td>161990.00</td>\n",
       "      <td>9.552250</td>\n",
       "      <td>3.00</td>\n",
       "      <td>218.080957</td>\n",
       "      <td>-0.264076</td>\n",
       "      <td>119769.160031</td>\n",
       "    </tr>\n",
       "    <tr>\n",
       "      <th>1</th>\n",
       "      <td>unit_price</td>\n",
       "      <td>-11062.06</td>\n",
       "      <td>38970.0</td>\n",
       "      <td>50032.06</td>\n",
       "      <td>4.611114</td>\n",
       "      <td>2.08</td>\n",
       "      <td>96.759764</td>\n",
       "      <td>186.506972</td>\n",
       "      <td>59005.719097</td>\n",
       "    </tr>\n",
       "    <tr>\n",
       "      <th>2</th>\n",
       "      <td>customer_id</td>\n",
       "      <td>12346.00</td>\n",
       "      <td>22709.0</td>\n",
       "      <td>10363.00</td>\n",
       "      <td>16688.840453</td>\n",
       "      <td>16249.00</td>\n",
       "      <td>2911.408666</td>\n",
       "      <td>0.487449</td>\n",
       "      <td>-0.804287</td>\n",
       "    </tr>\n",
       "  </tbody>\n",
       "</table>\n",
       "</div>"
      ],
      "text/plain": [
       "    attributes      min.      max      range          mean    median          std        skew       kurtosis\n",
       "0     quantity -80995.00  80995.0  161990.00      9.552250      3.00   218.080957   -0.264076  119769.160031\n",
       "1   unit_price -11062.06  38970.0   50032.06      4.611114      2.08    96.759764  186.506972   59005.719097\n",
       "2  customer_id  12346.00  22709.0   10363.00  16688.840453  16249.00  2911.408666    0.487449      -0.804287"
      ]
     },
     "execution_count": 22,
     "metadata": {},
     "output_type": "execute_result"
    }
   ],
   "source": [
    "#cental tendency - mean, median\n",
    "ct1 = pd.DataFrame ( num_attributes.apply (np.mean) ).T\n",
    "ct2 = pd.DataFrame ( num_attributes.apply (np.median)).T\n",
    "                    \n",
    "# dispersion - desvio padrão, mínimo, máximo, range, skew, kurtosis\n",
    "d1 = pd.DataFrame ( num_attributes.apply (np.std)).T\n",
    "d2 = pd.DataFrame ( num_attributes.apply (np.min)).T\n",
    "d3 = pd.DataFrame ( num_attributes.apply (np.max)).T\n",
    "d4 = pd.DataFrame ( num_attributes.apply (lambda x: x.max() - x.min())).T\n",
    "d5 = pd.DataFrame ( num_attributes.apply (lambda x: x.skew() )).T\n",
    "d6 = pd.DataFrame ( num_attributes.apply (lambda x: x.kurtosis() ) ).T\n",
    "\n",
    "#concatenate\n",
    "\n",
    "df_metrics = pd.concat ([d2,d3,d4,ct1,ct2,d1,d5,d6]).T.reset_index()\n",
    "df_metrics.columns = ['attributes', 'min.','max','range', 'mean', 'median', 'std', 'skew', 'kurtosis']\n",
    "df_metrics"
   ]
  },
  {
   "cell_type": "markdown",
   "id": "d8a6a683",
   "metadata": {
    "hidden": true
   },
   "source": [
    "#### <font color= 'fucsia' > Numerical Attributes - Investigating"
   ]
  },
  {
   "cell_type": "markdown",
   "id": "6dd4e00c",
   "metadata": {
    "ExecuteTime": {
     "end_time": "2021-07-12T17:26:35.632195Z",
     "start_time": "2021-07-12T17:26:35.616205Z"
    },
    "hidden": true
   },
   "source": [
    "1. Negative quantities (it can be devolutions)\n",
    "2. Unit price equals zero (it can be a promotion)\n",
    "\n",
    "#não é o momento de arrumar. Tem que ser feito tudo de uma vez, em uma seção, para deixar a estrutura lógica do storetelling"
   ]
  },
  {
   "cell_type": "markdown",
   "id": "f1400656",
   "metadata": {
    "ExecuteTime": {
     "end_time": "2021-07-12T15:46:08.585174Z",
     "start_time": "2021-07-12T15:46:08.571101Z"
    },
    "hidden": true
   },
   "source": [
    "### Categorical Attibutes"
   ]
  },
  {
   "cell_type": "markdown",
   "id": "1c5f3694",
   "metadata": {
    "ExecuteTime": {
     "end_time": "2021-07-12T19:02:10.862518Z",
     "start_time": "2021-07-12T19:02:10.844564Z"
    },
    "hidden": true
   },
   "source": [
    "***Invoice Number***"
   ]
  },
  {
   "cell_type": "code",
   "execution_count": 23,
   "id": "37284837",
   "metadata": {
    "ExecuteTime": {
     "end_time": "2021-07-23T14:02:31.861675Z",
     "start_time": "2021-07-23T14:02:31.307371Z"
    },
    "hidden": true
   },
   "outputs": [
    {
     "name": "stdout",
     "output_type": "stream",
     "text": [
      "Total number of invoices with letters: 9291\n",
      "Total number of invoices with negative quantity: 9291\n"
     ]
    }
   ],
   "source": [
    "#quem são os invoices que contém letras?\n",
    "df_letter_invoices = df1.loc[df1['invoice_no'].apply (lambda x: bool(re.search ( '[^0-9]+', x))), :] \n",
    "print('Total number of invoices with letters: {}'.format (len (df_letter_invoices)))\n",
    "\n",
    "print('Total number of invoices with negative quantity: {}'.format( len(df_letter_invoices['quantity'] <0)))"
   ]
  },
  {
   "cell_type": "markdown",
   "id": "3c4deeb3",
   "metadata": {
    "hidden": true
   },
   "source": [
    "Estamos assumindo que todas os pedidos com letras têm quantidade negativa, por isso serão desconsiderados. Entretanto, temos quantidades negativas no data set que não possuem letras no pedido, as quantidades estão dando diferentes, mas tentei localizar e não encontrei"
   ]
  },
  {
   "cell_type": "markdown",
   "id": "93013547",
   "metadata": {
    "ExecuteTime": {
     "end_time": "2021-07-12T19:02:10.862518Z",
     "start_time": "2021-07-12T19:02:10.844564Z"
    },
    "hidden": true
   },
   "source": [
    "***Stock Code***\n",
    "\n",
    "Não temos que fazer nenhuma conversão aqui, apenas entender a feature"
   ]
  },
  {
   "cell_type": "code",
   "execution_count": 24,
   "id": "8d0511b3",
   "metadata": {
    "ExecuteTime": {
     "end_time": "2021-07-23T14:02:32.358295Z",
     "start_time": "2021-07-23T14:02:31.862469Z"
    },
    "hidden": true
   },
   "outputs": [
    {
     "data": {
      "text/plain": [
       "array(['POST', 'D', 'DOT', 'M', 'S', 'AMAZONFEE', 'm', 'DCGSSBOY',\n",
       "       'DCGSSGIRL', 'PADS', 'B', 'CRUK'], dtype=object)"
      ]
     },
     "execution_count": 24,
     "metadata": {},
     "output_type": "execute_result"
    }
   ],
   "source": [
    "# Tipos de Registros compostos apenas por strings que aparecem no codigo de estoque \n",
    "#(como os códigos são mistos, o Meigarom procurou códigos formados apenas por strings pra encontrar sujeiras\n",
    "\n",
    "df1.loc[df1['stock_code'].apply (lambda x:bool (re.search('^[a-zA-Z]+$', x ) ) ), 'stock_code' ].unique()\n"
   ]
  },
  {
   "cell_type": "markdown",
   "id": "6e3aa5a4",
   "metadata": {
    "ExecuteTime": {
     "end_time": "2021-07-12T19:02:10.862518Z",
     "start_time": "2021-07-12T19:02:10.844564Z"
    },
    "hidden": true
   },
   "source": [
    "***Decription***\n",
    "\n",
    "Não enxergamos nada pra fazer aqui. Apenas deletar a feature"
   ]
  },
  {
   "cell_type": "markdown",
   "id": "2abfbb94",
   "metadata": {
    "ExecuteTime": {
     "end_time": "2021-07-12T19:02:10.862518Z",
     "start_time": "2021-07-12T19:02:10.844564Z"
    },
    "hidden": true
   },
   "source": [
    "***Country***"
   ]
  },
  {
   "cell_type": "code",
   "execution_count": 25,
   "id": "e3b9da54",
   "metadata": {
    "ExecuteTime": {
     "end_time": "2021-07-23T14:02:32.456483Z",
     "start_time": "2021-07-23T14:02:32.359292Z"
    },
    "hidden": true
   },
   "outputs": [
    {
     "data": {
      "text/html": [
       "<div>\n",
       "<style scoped>\n",
       "    .dataframe tbody tr th:only-of-type {\n",
       "        vertical-align: middle;\n",
       "    }\n",
       "\n",
       "    .dataframe tbody tr th {\n",
       "        vertical-align: top;\n",
       "    }\n",
       "\n",
       "    .dataframe thead th {\n",
       "        text-align: right;\n",
       "    }\n",
       "</style>\n",
       "<table border=\"1\" class=\"dataframe\">\n",
       "  <thead>\n",
       "    <tr style=\"text-align: right;\">\n",
       "      <th></th>\n",
       "      <th>country</th>\n",
       "      <th>customer_id</th>\n",
       "    </tr>\n",
       "  </thead>\n",
       "  <tbody>\n",
       "    <tr>\n",
       "      <th>36</th>\n",
       "      <td>United Kingdom</td>\n",
       "      <td>7587</td>\n",
       "    </tr>\n",
       "    <tr>\n",
       "      <th>14</th>\n",
       "      <td>Germany</td>\n",
       "      <td>95</td>\n",
       "    </tr>\n",
       "    <tr>\n",
       "      <th>13</th>\n",
       "      <td>France</td>\n",
       "      <td>90</td>\n",
       "    </tr>\n",
       "    <tr>\n",
       "      <th>10</th>\n",
       "      <td>EIRE</td>\n",
       "      <td>44</td>\n",
       "    </tr>\n",
       "    <tr>\n",
       "      <th>31</th>\n",
       "      <td>Spain</td>\n",
       "      <td>31</td>\n",
       "    </tr>\n",
       "    <tr>\n",
       "      <th>3</th>\n",
       "      <td>Belgium</td>\n",
       "      <td>25</td>\n",
       "    </tr>\n",
       "    <tr>\n",
       "      <th>33</th>\n",
       "      <td>Switzerland</td>\n",
       "      <td>24</td>\n",
       "    </tr>\n",
       "    <tr>\n",
       "      <th>27</th>\n",
       "      <td>Portugal</td>\n",
       "      <td>20</td>\n",
       "    </tr>\n",
       "    <tr>\n",
       "      <th>19</th>\n",
       "      <td>Italy</td>\n",
       "      <td>15</td>\n",
       "    </tr>\n",
       "    <tr>\n",
       "      <th>16</th>\n",
       "      <td>Hong Kong</td>\n",
       "      <td>15</td>\n",
       "    </tr>\n",
       "  </tbody>\n",
       "</table>\n",
       "</div>"
      ],
      "text/plain": [
       "           country  customer_id\n",
       "36  United Kingdom         7587\n",
       "14         Germany           95\n",
       "13          France           90\n",
       "10            EIRE           44\n",
       "31           Spain           31\n",
       "3          Belgium           25\n",
       "33     Switzerland           24\n",
       "27        Portugal           20\n",
       "19           Italy           15\n",
       "16       Hong Kong           15"
      ]
     },
     "execution_count": 25,
     "metadata": {},
     "output_type": "execute_result"
    }
   ],
   "source": [
    "#Quantos clientes temos em cada país?\n",
    "df1[['customer_id', 'country'\n",
    "     ]].drop_duplicates().groupby('country').count().reset_index().sort_values(\n",
    "         'customer_id', ascending=False).head(10)"
   ]
  },
  {
   "cell_type": "markdown",
   "id": "6a78d9cf",
   "metadata": {
    "heading_collapsed": true
   },
   "source": [
    "# <font color='purple'>Filtragem de Variáveis"
   ]
  },
  {
   "cell_type": "code",
   "execution_count": 26,
   "id": "7f150258",
   "metadata": {
    "ExecuteTime": {
     "end_time": "2021-07-23T14:02:32.498372Z",
     "start_time": "2021-07-23T14:02:32.457480Z"
    },
    "hidden": true
   },
   "outputs": [],
   "source": [
    "df2 = df1.copy() "
   ]
  },
  {
   "cell_type": "code",
   "execution_count": 27,
   "id": "cb685c38",
   "metadata": {
    "ExecuteTime": {
     "end_time": "2021-07-23T14:02:32.528322Z",
     "start_time": "2021-07-23T14:02:32.499367Z"
    },
    "hidden": true
   },
   "outputs": [
    {
     "data": {
      "text/html": [
       "<div>\n",
       "<style scoped>\n",
       "    .dataframe tbody tr th:only-of-type {\n",
       "        vertical-align: middle;\n",
       "    }\n",
       "\n",
       "    .dataframe tbody tr th {\n",
       "        vertical-align: top;\n",
       "    }\n",
       "\n",
       "    .dataframe thead th {\n",
       "        text-align: right;\n",
       "    }\n",
       "</style>\n",
       "<table border=\"1\" class=\"dataframe\">\n",
       "  <thead>\n",
       "    <tr style=\"text-align: right;\">\n",
       "      <th></th>\n",
       "      <th>invoice_no</th>\n",
       "      <th>stock_code</th>\n",
       "      <th>description</th>\n",
       "      <th>quantity</th>\n",
       "      <th>invoice_date</th>\n",
       "      <th>unit_price</th>\n",
       "      <th>country</th>\n",
       "      <th>customer_id</th>\n",
       "    </tr>\n",
       "  </thead>\n",
       "  <tbody>\n",
       "    <tr>\n",
       "      <th>0</th>\n",
       "      <td>536365</td>\n",
       "      <td>85123A</td>\n",
       "      <td>WHITE HANGING HEART T-LIGHT HOLDER</td>\n",
       "      <td>6</td>\n",
       "      <td>2016-11-29</td>\n",
       "      <td>2.55</td>\n",
       "      <td>United Kingdom</td>\n",
       "      <td>17850</td>\n",
       "    </tr>\n",
       "    <tr>\n",
       "      <th>1</th>\n",
       "      <td>536365</td>\n",
       "      <td>71053</td>\n",
       "      <td>WHITE METAL LANTERN</td>\n",
       "      <td>6</td>\n",
       "      <td>2016-11-29</td>\n",
       "      <td>3.39</td>\n",
       "      <td>United Kingdom</td>\n",
       "      <td>17850</td>\n",
       "    </tr>\n",
       "    <tr>\n",
       "      <th>2</th>\n",
       "      <td>536365</td>\n",
       "      <td>84406B</td>\n",
       "      <td>CREAM CUPID HEARTS COAT HANGER</td>\n",
       "      <td>8</td>\n",
       "      <td>2016-11-29</td>\n",
       "      <td>2.75</td>\n",
       "      <td>United Kingdom</td>\n",
       "      <td>17850</td>\n",
       "    </tr>\n",
       "    <tr>\n",
       "      <th>3</th>\n",
       "      <td>536365</td>\n",
       "      <td>84029G</td>\n",
       "      <td>KNITTED UNION FLAG HOT WATER BOTTLE</td>\n",
       "      <td>6</td>\n",
       "      <td>2016-11-29</td>\n",
       "      <td>3.39</td>\n",
       "      <td>United Kingdom</td>\n",
       "      <td>17850</td>\n",
       "    </tr>\n",
       "    <tr>\n",
       "      <th>4</th>\n",
       "      <td>536365</td>\n",
       "      <td>84029E</td>\n",
       "      <td>RED WOOLLY HOTTIE WHITE HEART.</td>\n",
       "      <td>6</td>\n",
       "      <td>2016-11-29</td>\n",
       "      <td>3.39</td>\n",
       "      <td>United Kingdom</td>\n",
       "      <td>17850</td>\n",
       "    </tr>\n",
       "  </tbody>\n",
       "</table>\n",
       "</div>"
      ],
      "text/plain": [
       "  invoice_no stock_code                          description  quantity invoice_date  unit_price         country  customer_id\n",
       "0     536365     85123A   WHITE HANGING HEART T-LIGHT HOLDER         6   2016-11-29        2.55  United Kingdom        17850\n",
       "1     536365      71053                  WHITE METAL LANTERN         6   2016-11-29        3.39  United Kingdom        17850\n",
       "2     536365     84406B       CREAM CUPID HEARTS COAT HANGER         8   2016-11-29        2.75  United Kingdom        17850\n",
       "3     536365     84029G  KNITTED UNION FLAG HOT WATER BOTTLE         6   2016-11-29        3.39  United Kingdom        17850\n",
       "4     536365     84029E       RED WOOLLY HOTTIE WHITE HEART.         6   2016-11-29        3.39  United Kingdom        17850"
      ]
     },
     "execution_count": 27,
     "metadata": {},
     "output_type": "execute_result"
    }
   ],
   "source": [
    "df2.head()"
   ]
  },
  {
   "cell_type": "markdown",
   "id": "62dae0c8",
   "metadata": {
    "hidden": true
   },
   "source": [
    "From here, we have to take a direction. The negative values problably are from returns. We can just exclude them, exclude the in an out or we can create features for returns. From this point, we will apart the dataframe in two, one with the purchases, one just with the returns."
   ]
  },
  {
   "cell_type": "code",
   "execution_count": 28,
   "id": "2fcbb17f",
   "metadata": {
    "ExecuteTime": {
     "end_time": "2021-07-23T14:02:32.590126Z",
     "start_time": "2021-07-23T14:02:32.529287Z"
    },
    "hidden": true
   },
   "outputs": [],
   "source": [
    "#Numerical Attributes\n",
    "\n",
    "df2 = df2.loc[df2['unit_price'] > 0.04, :] #valor mais baixo que faz sentido dentro do df\n",
    "\n",
    "\n",
    "#Categorical Attributes"
   ]
  },
  {
   "cell_type": "code",
   "execution_count": 29,
   "id": "3dc6df9f",
   "metadata": {
    "ExecuteTime": {
     "end_time": "2021-07-23T14:02:34.810849Z",
     "start_time": "2021-07-23T14:02:32.592121Z"
    },
    "hidden": true
   },
   "outputs": [],
   "source": [
    "#stock code\n",
    "\n",
    "df2 = df2[~df2['stock_code'].isin (['POST', 'D', 'DOT', 'M', 'S', 'AMAZONFEE', 'm', 'DCGSSBOY', 'DCGSSGIRL', 'PADS', 'B', 'CRUK'])]\n",
    "\n",
    "#description\n",
    "\n",
    "df2 = df2.drop(columns = 'description', axis=1)\n",
    "\n",
    "#coutry\n",
    "\n",
    "df2 = df2[~df2.isin(['European Community', 'Unspecified'])]\n",
    "\n",
    "\n",
    "#são numéricos, mas vamos tirar depois dos outros filtros\n",
    "#quantity\n",
    "df2_returns = df2.loc[df2['quantity'] < 0, :]\n",
    "\n",
    "df2_purchases = df2.loc[df2['quantity'] >=0, :]\n",
    "\n",
    "#bad users\n",
    "\n",
    "#Preciso ver como ele calculou o avg_ticket, pois esse outlier não aparece pra mim\n",
    "df2 = df2[~df2['customer_id'].isin ([16446])]\n",
    "#16446 comprou e devolveu tudo"
   ]
  },
  {
   "cell_type": "markdown",
   "id": "4829d1a1",
   "metadata": {
    "heading_collapsed": true
   },
   "source": [
    "# <font color='orange'>Feature Engineering"
   ]
  },
  {
   "cell_type": "code",
   "execution_count": 30,
   "id": "041ab2d0",
   "metadata": {
    "ExecuteTime": {
     "end_time": "2021-07-23T14:02:34.857795Z",
     "start_time": "2021-07-23T14:02:34.811591Z"
    },
    "hidden": true
   },
   "outputs": [],
   "source": [
    "df3 = df2.copy()\n",
    "df3_purchases = df2_purchases.copy()\n",
    "df3_returns = df2_returns.copy()"
   ]
  },
  {
   "cell_type": "markdown",
   "id": "49586648",
   "metadata": {
    "ExecuteTime": {
     "end_time": "2021-07-08T20:27:56.940498Z",
     "start_time": "2021-07-08T20:27:56.929494Z"
    },
    "hidden": true
   },
   "source": [
    "## Feature Creation"
   ]
  },
  {
   "cell_type": "code",
   "execution_count": 31,
   "id": "9fc6d840",
   "metadata": {
    "ExecuteTime": {
     "end_time": "2021-07-23T14:02:34.903817Z",
     "start_time": "2021-07-23T14:02:34.858667Z"
    },
    "hidden": true
   },
   "outputs": [
    {
     "data": {
      "text/plain": [
       "Index(['customer_id'], dtype='object')"
      ]
     },
     "execution_count": 31,
     "metadata": {},
     "output_type": "execute_result"
    }
   ],
   "source": [
    "#df_ref é um df para trabalhar\n",
    "df_ref = df3_purchases.drop(['invoice_no', 'stock_code', 'quantity', 'invoice_date','unit_price','country'], axis=1).drop_duplicates(ignore_index=True)\n",
    "#jogando tudo fora que eu não vou usar agora\n",
    "#reseta o index sem criar uma coluna nova de index\n",
    "df_ref.columns"
   ]
  },
  {
   "cell_type": "markdown",
   "id": "6b7be0f7",
   "metadata": {
    "hidden": true
   },
   "source": [
    "Pega as colunas cliente e gastos, agrupa os gastos por cliente e soma. Por padrão, a variável resultante do agrupamento (no caso a soma dos faturamentos) entra como novos índices, e nós queremos que entre como uma coluna de valores mesmo, uma feature nova. Por isso resetamos o índice de forma diferente do feito anteriormente"
   ]
  },
  {
   "cell_type": "markdown",
   "id": "19ed4757",
   "metadata": {
    "hidden": true
   },
   "source": [
    "Up to now, we use the invoice number to solve the problem of missing customers, but from now this is irrelevant"
   ]
  },
  {
   "cell_type": "code",
   "execution_count": 32,
   "id": "60b22298",
   "metadata": {
    "ExecuteTime": {
     "end_time": "2021-07-23T14:02:34.918744Z",
     "start_time": "2021-07-23T14:02:34.904782Z"
    },
    "hidden": true
   },
   "outputs": [
    {
     "data": {
      "text/html": [
       "<div>\n",
       "<style scoped>\n",
       "    .dataframe tbody tr th:only-of-type {\n",
       "        vertical-align: middle;\n",
       "    }\n",
       "\n",
       "    .dataframe tbody tr th {\n",
       "        vertical-align: top;\n",
       "    }\n",
       "\n",
       "    .dataframe thead th {\n",
       "        text-align: right;\n",
       "    }\n",
       "</style>\n",
       "<table border=\"1\" class=\"dataframe\">\n",
       "  <thead>\n",
       "    <tr style=\"text-align: right;\">\n",
       "      <th></th>\n",
       "      <th>0</th>\n",
       "      <th>1</th>\n",
       "      <th>2</th>\n",
       "      <th>3</th>\n",
       "      <th>4</th>\n",
       "      <th>5</th>\n",
       "      <th>6</th>\n",
       "      <th>7</th>\n",
       "      <th>8</th>\n",
       "      <th>9</th>\n",
       "    </tr>\n",
       "  </thead>\n",
       "  <tbody>\n",
       "    <tr>\n",
       "      <th>customer_id</th>\n",
       "      <td>17850</td>\n",
       "      <td>13047</td>\n",
       "      <td>12583</td>\n",
       "      <td>13748</td>\n",
       "      <td>15100</td>\n",
       "      <td>15291</td>\n",
       "      <td>14688</td>\n",
       "      <td>17809</td>\n",
       "      <td>15311</td>\n",
       "      <td>16098</td>\n",
       "    </tr>\n",
       "  </tbody>\n",
       "</table>\n",
       "</div>"
      ],
      "text/plain": [
       "                 0      1      2      3      4      5      6      7      8      9\n",
       "customer_id  17850  13047  12583  13748  15100  15291  14688  17809  15311  16098"
      ]
     },
     "execution_count": 32,
     "metadata": {},
     "output_type": "execute_result"
    }
   ],
   "source": [
    "df_ref.head(10).T #sobraram os clientes repetidos nos registros"
   ]
  },
  {
   "cell_type": "markdown",
   "id": "7a8a8b96",
   "metadata": {
    "ExecuteTime": {
     "end_time": "2021-07-08T17:34:19.470496Z",
     "start_time": "2021-07-08T17:34:16.078Z"
    },
    "hidden": true
   },
   "source": [
    "Até a linha 8 era o mesmo cliente, e assim por diante. Devemos resetar os indices. As operações de concatenação, por exemplo, são feitas pelos índices (por padrão). Por isso é bom resetar. O professor já concatenou tabelas sem resetar os índices e dá um erros grotescos. O comando reset index na realidade criaria uma nova coluna de indice, que teria que ser excluída depois. É melhor usar outro comando, o ignore index.\n",
    "Essa agora é a nossa tabela de referência com uma linha pra cada cliente. Todas as features serão concatenadas nela."
   ]
  },
  {
   "cell_type": "markdown",
   "id": "aafbf07d",
   "metadata": {
    "hidden": true
   },
   "source": [
    "  Pelo que entendi, ele vai limpando e agrupando linha a linha. Primeiro tira todos os clientes repetidos, depois agrupa os valores gastos deixando uma linha por cliente depois agrupa na coluna concatenando tudo"
   ]
  },
  {
   "cell_type": "markdown",
   "id": "d9ee60fb",
   "metadata": {
    "hidden": true
   },
   "source": [
    "### Gross Revenue"
   ]
  },
  {
   "cell_type": "code",
   "execution_count": 33,
   "id": "ed8e64b1",
   "metadata": {
    "ExecuteTime": {
     "end_time": "2021-07-23T14:02:34.980585Z",
     "start_time": "2021-07-23T14:02:34.920739Z"
    },
    "hidden": true
   },
   "outputs": [
    {
     "data": {
      "text/plain": [
       "customer_id      0\n",
       "gross_revenue    0\n",
       "dtype: int64"
      ]
     },
     "execution_count": 33,
     "metadata": {},
     "output_type": "execute_result"
    }
   ],
   "source": [
    "#Gross Revenue(Faturamento)\n",
    "df3_purchases['gross_revenue'] = df3_purchases['quantity'] * df3_purchases['unit_price']\n",
    "#Monetary (quanto a pessoa já gastou com a gente)\n",
    "df_monetary = df3_purchases[['customer_id','gross_revenue']].groupby('customer_id').sum().reset_index()\n",
    "df_ref = pd.merge(df_ref, df_monetary, on ='customer_id', how='left')\n",
    "#Concatena o df_ref e o df_monetary pela coluna customer id tendo a coluna da esquerda como referencia\n",
    "df_ref.isna().sum()"
   ]
  },
  {
   "cell_type": "markdown",
   "id": "8d5b1a9d",
   "metadata": {
    "hidden": true
   },
   "source": [
    "### Recency - Day from last purchase"
   ]
  },
  {
   "cell_type": "markdown",
   "id": "29026978",
   "metadata": {
    "hidden": true
   },
   "source": [
    "Recencia - Em uma situação normal, faríamos a conta utilizando uma função para a data do dia, de forma que o modelo fosse se atualizando todos os dias. No nosso caso, temos uma base fechada em um período fechado, então é mais lógico usar a última compra do data frame como parâmetro para as outras"
   ]
  },
  {
   "cell_type": "code",
   "execution_count": 34,
   "id": "66c58d08",
   "metadata": {
    "ExecuteTime": {
     "end_time": "2021-07-23T14:02:35.042418Z",
     "start_time": "2021-07-23T14:02:34.981581Z"
    },
    "hidden": true
   },
   "outputs": [
    {
     "data": {
      "text/plain": [
       "customer_id      0\n",
       "gross_revenue    0\n",
       "recency_days     0\n",
       "dtype: int64"
      ]
     },
     "execution_count": 34,
     "metadata": {},
     "output_type": "execute_result"
    }
   ],
   "source": [
    "df_recency = df3_purchases[['customer_id', 'invoice_date']].groupby('customer_id').max().reset_index()\n",
    "#retorna a data máxima por cliente\n",
    "df_recency['recency_days'] = (df3_purchases['invoice_date'].max() - df_recency['invoice_date']).dt.days\n",
    "df_recency = df_recency[['customer_id', 'recency_days']].copy() #pra fazer uma cópia fisica\n",
    "df_ref = pd.merge(df_ref,df_recency, on ='customer_id', how='left') \n",
    "# una as tabelas ref e recency baseado no customer_id com a tabela da esquerda como referência\n",
    "df_ref.isna().sum()"
   ]
  },
  {
   "cell_type": "markdown",
   "id": "ed1f8f83",
   "metadata": {
    "hidden": true
   },
   "source": [
    "###  Quantity of Purchases"
   ]
  },
  {
   "cell_type": "code",
   "execution_count": 35,
   "id": "2edf4d47",
   "metadata": {
    "ExecuteTime": {
     "end_time": "2021-07-23T14:02:35.135204Z",
     "start_time": "2021-07-23T14:02:35.043417Z"
    },
    "hidden": true
   },
   "outputs": [
    {
     "data": {
      "text/plain": [
       "customer_id      0\n",
       "gross_revenue    0\n",
       "recency_days     0\n",
       "qtd_invoices     0\n",
       "dtype: int64"
      ]
     },
     "execution_count": 35,
     "metadata": {},
     "output_type": "execute_result"
    }
   ],
   "source": [
    "#number of purchases per customer\n",
    "df_purchase = df3_purchases[['customer_id', 'invoice_no']].drop_duplicates().groupby('customer_id').count().reset_index().rename(columns = {'invoice_no': 'qtd_invoices'})\n",
    "#o drop é pra tirar os invoices repetidos, o count é pra somar a quantidade de invoices de cada cliente\n",
    "#drop vem como padrão 'keep first', dropa os duplicados de todas as colunas, exceto da primeira\n",
    "df_ref = pd.merge (df_ref, df_purchase, on='customer_id', how='left')\n",
    "df_ref.isna().sum()\n"
   ]
  },
  {
   "cell_type": "markdown",
   "id": "c0357d23",
   "metadata": {
    "hidden": true
   },
   "source": [
    "###  Total quantity of Items purchased"
   ]
  },
  {
   "cell_type": "code",
   "execution_count": 36,
   "id": "c19f5b4c",
   "metadata": {
    "ExecuteTime": {
     "end_time": "2021-07-23T14:02:35.182046Z",
     "start_time": "2021-07-23T14:02:35.137167Z"
    },
    "hidden": true
   },
   "outputs": [
    {
     "data": {
      "text/plain": [
       "customer_id      0\n",
       "gross_revenue    0\n",
       "recency_days     0\n",
       "qtd_invoices     0\n",
       "qtd_items        0\n",
       "dtype: int64"
      ]
     },
     "execution_count": 36,
     "metadata": {},
     "output_type": "execute_result"
    }
   ],
   "source": [
    "#total number of items per customer\n",
    "df_quantity = df3_purchases[['customer_id', 'quantity']].groupby('customer_id').sum().reset_index().rename(columns={'quantity': 'qtd_items'})\n",
    "#drop vem como padrão 'keep first', dropa os duplicados de todas as colunas, exceto da primeira\n",
    "df_ref = pd.merge(df_ref, df_quantity, on='customer_id', how='left')\n",
    "df_ref.isna().sum()\n",
    "# Aqui cabe uma observação. Cometemos o erro crasso de dropar os duplicados na quantidade, o que não faz sentido nenhum. Além disso,\n",
    "# contamos ao inves de somar. Esse erro só foi pego quando olhamos os outliers"
   ]
  },
  {
   "cell_type": "markdown",
   "id": "b385fc41",
   "metadata": {
    "ExecuteTime": {
     "end_time": "2021-07-16T15:46:52.463158Z",
     "start_time": "2021-07-16T15:46:52.449195Z"
    },
    "hidden": true
   },
   "source": [
    "###  Unique Basket Size - Quantity of distinct products purchased per invoice"
   ]
  },
  {
   "cell_type": "code",
   "execution_count": 37,
   "id": "eec509f1",
   "metadata": {
    "ExecuteTime": {
     "end_time": "2021-07-23T14:02:35.510057Z",
     "start_time": "2021-07-23T14:02:35.183044Z"
    },
    "hidden": true
   },
   "outputs": [
    {
     "data": {
      "text/plain": [
       "customer_id               0\n",
       "gross_revenue             0\n",
       "recency_days              0\n",
       "qtd_invoices              0\n",
       "qtd_items                 0\n",
       "avg_unique_basket_size    0\n",
       "dtype: int64"
      ]
     },
     "execution_count": 37,
     "metadata": {},
     "output_type": "execute_result"
    }
   ],
   "source": [
    "df_ubasket = df3_purchases[['customer_id', 'invoice_no', 'stock_code']].groupby('customer_id').agg ( n_purchase = ('invoice_no', 'nunique') , n_products = ('stock_code', 'nunique')).reset_index()\n",
    "\n",
    "df_ubasket['avg_unique_basket_size'] = df_ubasket['n_products'] / df_ubasket['n_purchase']\n",
    "\n",
    "df_ref = pd.merge (df_ref, df_ubasket[['customer_id', 'avg_unique_basket_size']], on = 'customer_id', how ='left')\n",
    "\n",
    "df_ref.isna().sum()"
   ]
  },
  {
   "cell_type": "markdown",
   "id": "8c06bbc8",
   "metadata": {
    "hidden": true
   },
   "source": [
    "### Avg Ticket Value"
   ]
  },
  {
   "cell_type": "code",
   "execution_count": 38,
   "id": "e7973872",
   "metadata": {
    "ExecuteTime": {
     "end_time": "2021-07-23T14:02:35.556933Z",
     "start_time": "2021-07-23T14:02:35.511057Z"
    },
    "hidden": true
   },
   "outputs": [
    {
     "data": {
      "text/plain": [
       "customer_id               0\n",
       "gross_revenue             0\n",
       "recency_days              0\n",
       "qtd_invoices              0\n",
       "qtd_items                 0\n",
       "avg_unique_basket_size    0\n",
       "avg_ticket                0\n",
       "dtype: int64"
      ]
     },
     "execution_count": 38,
     "metadata": {},
     "output_type": "execute_result"
    }
   ],
   "source": [
    "#Avg Ticket\n",
    "df_avg_ticket = df3_purchases[['customer_id','gross_revenue']].groupby('customer_id').mean().reset_index().rename( columns = {'gross_revenue': 'avg_ticket'})\n",
    "df_ref = pd.merge(df_ref, df_avg_ticket, how ='left' , on='customer_id')\n",
    "df_ref.isna().sum()\n",
    "\n",
    "#tem um cliente que comprou e devolveu tudo, isso foi pego na analise do pandaprofiling. Tem que decidir o que vai ser feito com as devoluções"
   ]
  },
  {
   "cell_type": "markdown",
   "id": "538c283b",
   "metadata": {
    "hidden": true
   },
   "source": [
    "###  AVG Recency Days"
   ]
  },
  {
   "cell_type": "code",
   "execution_count": 39,
   "id": "aea9eddc",
   "metadata": {
    "ExecuteTime": {
     "end_time": "2021-07-23T14:02:35.571935Z",
     "start_time": "2021-07-23T14:02:35.557931Z"
    },
    "hidden": true
   },
   "outputs": [],
   "source": [
    "#avg recency days"
   ]
  },
  {
   "cell_type": "markdown",
   "id": "84ebb713",
   "metadata": {
    "hidden": true
   },
   "source": [
    "### Frequency Purchase"
   ]
  },
  {
   "cell_type": "code",
   "execution_count": 40,
   "id": "7e4d761a",
   "metadata": {
    "ExecuteTime": {
     "end_time": "2021-07-23T14:02:36.496105Z",
     "start_time": "2021-07-23T14:02:35.573890Z"
    },
    "hidden": true
   },
   "outputs": [
    {
     "data": {
      "text/plain": [
       "customer_id               0\n",
       "gross_revenue             0\n",
       "recency_days              0\n",
       "qtd_invoices              0\n",
       "qtd_items                 0\n",
       "avg_unique_basket_size    0\n",
       "avg_ticket                0\n",
       "frequency                 0\n",
       "dtype: int64"
      ]
     },
     "execution_count": 40,
     "metadata": {},
     "output_type": "execute_result"
    }
   ],
   "source": [
    "#This feature does not count the total time of the dataset, just the time and number of invoices between the first and last\n",
    "# purchase for each customer\n",
    "# .agg function\n",
    "df_aux = (df3_purchases[['customer_id', 'invoice_no',\n",
    "               'invoice_date']].drop_duplicates().groupby('customer_id').agg(\n",
    "                   max_=('invoice_date', 'max'), #nova coluna, sobre qual coluna, qual operação\n",
    "                   min_=('invoice_date', 'min'),\n",
    "                   days_=('invoice_date', lambda x:\n",
    "                          ((x.max() - x.min()).days) + 1),\n",
    "                   buy_=('invoice_no', 'count'))).reset_index()\n",
    "# the '1' sum is because the minimum frequency is 1. If the customer just bought one time, the date will be the same and the difference\n",
    "#will be 0\n",
    "\n",
    "#frequency\n",
    "df_aux['frequency'] = df_aux[['buy_','days_']].apply(lambda x: x['buy_'] / x['days_']if x['days_'] != 0 else 0,axis=1)\n",
    "#merge\n",
    "df_ref = pd.merge(df_ref,df_aux[['customer_id', 'frequency']],on='customer_id', how='left')\n",
    "df_ref.isna().sum()"
   ]
  },
  {
   "cell_type": "code",
   "execution_count": 41,
   "id": "e245765a",
   "metadata": {
    "ExecuteTime": {
     "end_time": "2021-07-23T14:02:36.511067Z",
     "start_time": "2021-07-23T14:02:36.497102Z"
    },
    "hidden": true
   },
   "outputs": [
    {
     "data": {
      "text/plain": [
       "17.0"
      ]
     },
     "execution_count": 41,
     "metadata": {},
     "output_type": "execute_result"
    }
   ],
   "source": [
    "df_ref['frequency'].max()"
   ]
  },
  {
   "cell_type": "markdown",
   "id": "5451f358",
   "metadata": {
    "hidden": true
   },
   "source": [
    "### Returns"
   ]
  },
  {
   "cell_type": "code",
   "execution_count": 42,
   "id": "c8073a1b",
   "metadata": {
    "ExecuteTime": {
     "end_time": "2021-07-23T14:02:36.541983Z",
     "start_time": "2021-07-23T14:02:36.512063Z"
    },
    "hidden": true
   },
   "outputs": [
    {
     "data": {
      "text/plain": [
       "customer_id               0\n",
       "gross_revenue             0\n",
       "recency_days              0\n",
       "qtd_invoices              0\n",
       "qtd_items                 0\n",
       "avg_unique_basket_size    0\n",
       "avg_ticket                0\n",
       "frequency                 0\n",
       "qtd_returns               0\n",
       "dtype: int64"
      ]
     },
     "execution_count": 42,
     "metadata": {},
     "output_type": "execute_result"
    }
   ],
   "source": [
    "#number of returns for each customer\n",
    "\n",
    "df_returns = df3_returns[['customer_id', 'invoice_no']].groupby('customer_id').count().reset_index().rename (columns={'invoice_no':'qtd_returns'})\n",
    "df_ref = pd.merge (df_ref, df_returns, how='left', on= 'customer_id')\n",
    "#Surgiram alguns NaN. Acredito que seja por misturar o df_ref que é baseado no df3_purchases com o returns, que é baseado no \n",
    "#df3_returns.Se o cliente não fez nenhuma devolução, vai ficar com o NaN \n",
    "df_ref.loc[df_ref['qtd_returns'].isna(), 'qtd_returns'] = 0\n",
    "df_ref.isna().sum()\n",
    "\n",
    "#O Meigarom fez em relação ao número de produtos, eu fiz em relação ao número de ordens de devolução"
   ]
  },
  {
   "cell_type": "markdown",
   "id": "4290c774",
   "metadata": {
    "hidden": true
   },
   "source": [
    "### Average Order Value"
   ]
  },
  {
   "cell_type": "code",
   "execution_count": 43,
   "id": "4db93d23",
   "metadata": {
    "ExecuteTime": {
     "end_time": "2021-07-23T14:02:36.557906Z",
     "start_time": "2021-07-23T14:02:36.542943Z"
    },
    "hidden": true
   },
   "outputs": [
    {
     "data": {
      "text/plain": [
       "customer_id               0\n",
       "gross_revenue             0\n",
       "recency_days              0\n",
       "qtd_invoices              0\n",
       "qtd_items                 0\n",
       "avg_unique_basket_size    0\n",
       "avg_ticket                0\n",
       "frequency                 0\n",
       "qtd_returns               0\n",
       "avg_invoice_value         0\n",
       "dtype: int64"
      ]
     },
     "execution_count": 43,
     "metadata": {},
     "output_type": "execute_result"
    }
   ],
   "source": [
    "#Average amount of money spent in each order/invoice\n",
    "\n",
    "df_ref['avg_invoice_value'] = df_ref['gross_revenue'] / df_ref['qtd_invoices']\n",
    "df_ref.isna().sum()"
   ]
  },
  {
   "cell_type": "markdown",
   "id": "bc450c37",
   "metadata": {},
   "source": [
    "# <font color='red'>EDA(Exploratory Data Analysis)"
   ]
  },
  {
   "cell_type": "markdown",
   "id": "6cde1da0",
   "metadata": {},
   "source": [
    "## Univariate Analysis"
   ]
  },
  {
   "cell_type": "markdown",
   "id": "400a5771",
   "metadata": {},
   "source": [
    "## Bivariate Analysis"
   ]
  },
  {
   "cell_type": "markdown",
   "id": "2e148847",
   "metadata": {
    "ExecuteTime": {
     "end_time": "2021-07-18T22:20:01.868560Z",
     "start_time": "2021-07-18T22:20:01.856593Z"
    },
    "heading_collapsed": true
   },
   "source": [
    "## Space study"
   ]
  },
  {
   "cell_type": "markdown",
   "id": "09df244f",
   "metadata": {
    "hidden": true
   },
   "source": [
    "### PCA"
   ]
  },
  {
   "cell_type": "markdown",
   "id": "6446cd14",
   "metadata": {
    "hidden": true
   },
   "source": [
    "### UMAP"
   ]
  },
  {
   "cell_type": "markdown",
   "id": "c7c6d7c3",
   "metadata": {
    "hidden": true
   },
   "source": [
    "### t-SNE"
   ]
  },
  {
   "cell_type": "markdown",
   "id": "6a729429",
   "metadata": {
    "hidden": true
   },
   "source": [
    "### Tree-Based Embedding"
   ]
  },
  {
   "cell_type": "markdown",
   "id": "16351db3",
   "metadata": {},
   "source": [
    "# <font color='red'>Data Preparation"
   ]
  },
  {
   "cell_type": "markdown",
   "id": "e54ab74b",
   "metadata": {},
   "source": [
    "# <font color='red'>Feature Selection"
   ]
  },
  {
   "cell_type": "markdown",
   "id": "54063b42",
   "metadata": {},
   "source": [
    "# <font color='red'>Hyperparameter Fine-Tunning"
   ]
  },
  {
   "cell_type": "markdown",
   "id": "41b5484b",
   "metadata": {
    "ExecuteTime": {
     "end_time": "2021-07-21T18:33:34.363629Z",
     "start_time": "2021-07-21T18:33:34.350628Z"
    }
   },
   "source": [
    "## K-Means"
   ]
  },
  {
   "cell_type": "markdown",
   "id": "418f2651",
   "metadata": {},
   "source": [
    "## GMM"
   ]
  },
  {
   "cell_type": "markdown",
   "id": "667abdcf",
   "metadata": {
    "ExecuteTime": {
     "end_time": "2021-07-22T13:26:33.938895Z",
     "start_time": "2021-07-22T13:26:33.933871Z"
    }
   },
   "source": [
    "## Hierarchical Clustering"
   ]
  },
  {
   "cell_type": "markdown",
   "id": "9156217d",
   "metadata": {},
   "source": [
    "## DBSCAN"
   ]
  },
  {
   "cell_type": "markdown",
   "id": "79b90b28",
   "metadata": {
    "ExecuteTime": {
     "end_time": "2021-07-22T13:26:12.104588Z",
     "start_time": "2021-07-22T13:22:49.766Z"
    }
   },
   "source": [
    "## Results"
   ]
  },
  {
   "cell_type": "markdown",
   "id": "47a7569a",
   "metadata": {
    "ExecuteTime": {
     "end_time": "2021-07-08T22:47:53.635030Z",
     "start_time": "2021-07-08T22:47:53.621038Z"
    }
   },
   "source": [
    "## Within-Cluster Sum of Square (WSS)"
   ]
  },
  {
   "cell_type": "markdown",
   "id": "f175e0e7",
   "metadata": {
    "ExecuteTime": {
     "end_time": "2021-07-08T22:47:55.550557Z",
     "start_time": "2021-07-08T22:47:55.536594Z"
    }
   },
   "source": [
    "## Silhouette Score"
   ]
  },
  {
   "cell_type": "markdown",
   "id": "70678ec6",
   "metadata": {},
   "source": [
    "# <font color='red'>Model Training"
   ]
  },
  {
   "cell_type": "markdown",
   "id": "65bdf69c",
   "metadata": {},
   "source": [
    "## K-Means"
   ]
  },
  {
   "cell_type": "markdown",
   "id": "f4291436",
   "metadata": {
    "ExecuteTime": {
     "end_time": "2021-07-09T16:31:54.592587Z",
     "start_time": "2021-07-09T16:31:54.578656Z"
    }
   },
   "source": [
    "## Cluster Validation"
   ]
  },
  {
   "cell_type": "markdown",
   "id": "5eb3b784",
   "metadata": {},
   "source": [
    "# <font color='red'>Cluster Analysis"
   ]
  },
  {
   "cell_type": "markdown",
   "id": "72a9675f",
   "metadata": {
    "ExecuteTime": {
     "end_time": "2021-07-09T01:48:10.994672Z",
     "start_time": "2021-07-09T01:48:10.981674Z"
    }
   },
   "source": [
    "# <font color='red'>Deploy to production"
   ]
  },
  {
   "cell_type": "code",
   "execution_count": null,
   "id": "ce02546c",
   "metadata": {},
   "outputs": [],
   "source": []
  },
  {
   "cell_type": "code",
   "execution_count": null,
   "id": "bdfafacc",
   "metadata": {},
   "outputs": [],
   "source": []
  },
  {
   "cell_type": "code",
   "execution_count": null,
   "id": "dba3afb3",
   "metadata": {},
   "outputs": [],
   "source": []
  },
  {
   "cell_type": "code",
   "execution_count": null,
   "id": "09d2bacf",
   "metadata": {},
   "outputs": [],
   "source": []
  },
  {
   "cell_type": "code",
   "execution_count": null,
   "id": "780a26b4",
   "metadata": {},
   "outputs": [],
   "source": []
  },
  {
   "cell_type": "code",
   "execution_count": null,
   "id": "76819805",
   "metadata": {},
   "outputs": [],
   "source": []
  },
  {
   "cell_type": "code",
   "execution_count": null,
   "id": "af4a06b3",
   "metadata": {},
   "outputs": [],
   "source": []
  },
  {
   "cell_type": "code",
   "execution_count": null,
   "id": "c654f46e",
   "metadata": {},
   "outputs": [],
   "source": []
  },
  {
   "cell_type": "code",
   "execution_count": null,
   "id": "53330f61",
   "metadata": {},
   "outputs": [],
   "source": []
  },
  {
   "cell_type": "code",
   "execution_count": null,
   "id": "4e5c2c55",
   "metadata": {},
   "outputs": [],
   "source": []
  },
  {
   "cell_type": "code",
   "execution_count": null,
   "id": "c5cf861d",
   "metadata": {},
   "outputs": [],
   "source": []
  },
  {
   "cell_type": "code",
   "execution_count": null,
   "id": "7664e16e",
   "metadata": {},
   "outputs": [],
   "source": []
  },
  {
   "cell_type": "code",
   "execution_count": null,
   "id": "2481c0f7",
   "metadata": {},
   "outputs": [],
   "source": []
  },
  {
   "cell_type": "code",
   "execution_count": null,
   "id": "eca75372",
   "metadata": {},
   "outputs": [],
   "source": []
  },
  {
   "cell_type": "code",
   "execution_count": null,
   "id": "7bd3f91d",
   "metadata": {},
   "outputs": [],
   "source": []
  },
  {
   "cell_type": "code",
   "execution_count": null,
   "id": "462fcd25",
   "metadata": {},
   "outputs": [],
   "source": []
  },
  {
   "cell_type": "code",
   "execution_count": null,
   "id": "e47d2426",
   "metadata": {},
   "outputs": [],
   "source": []
  },
  {
   "cell_type": "code",
   "execution_count": null,
   "id": "83a3119f",
   "metadata": {},
   "outputs": [],
   "source": []
  },
  {
   "cell_type": "code",
   "execution_count": null,
   "id": "92b1c8c9",
   "metadata": {},
   "outputs": [],
   "source": []
  },
  {
   "cell_type": "code",
   "execution_count": null,
   "id": "dc15cff2",
   "metadata": {},
   "outputs": [],
   "source": []
  },
  {
   "cell_type": "code",
   "execution_count": null,
   "id": "69c45dd2",
   "metadata": {},
   "outputs": [],
   "source": []
  },
  {
   "cell_type": "code",
   "execution_count": null,
   "id": "fa1a2190",
   "metadata": {},
   "outputs": [],
   "source": []
  },
  {
   "cell_type": "code",
   "execution_count": null,
   "id": "2bc1fbc2",
   "metadata": {},
   "outputs": [],
   "source": []
  },
  {
   "cell_type": "code",
   "execution_count": null,
   "id": "17d28154",
   "metadata": {},
   "outputs": [],
   "source": []
  },
  {
   "cell_type": "code",
   "execution_count": null,
   "id": "8966e579",
   "metadata": {},
   "outputs": [],
   "source": []
  },
  {
   "cell_type": "code",
   "execution_count": null,
   "id": "43e01e2a",
   "metadata": {},
   "outputs": [],
   "source": []
  },
  {
   "cell_type": "code",
   "execution_count": null,
   "id": "a1c18a3d",
   "metadata": {},
   "outputs": [],
   "source": []
  },
  {
   "cell_type": "code",
   "execution_count": null,
   "id": "15150c77",
   "metadata": {},
   "outputs": [],
   "source": []
  },
  {
   "cell_type": "code",
   "execution_count": null,
   "id": "21288562",
   "metadata": {},
   "outputs": [],
   "source": []
  },
  {
   "cell_type": "code",
   "execution_count": null,
   "id": "46b04509",
   "metadata": {},
   "outputs": [],
   "source": []
  },
  {
   "cell_type": "code",
   "execution_count": null,
   "id": "7fb338fd",
   "metadata": {},
   "outputs": [],
   "source": []
  },
  {
   "cell_type": "code",
   "execution_count": null,
   "id": "9f2675c8",
   "metadata": {},
   "outputs": [],
   "source": []
  },
  {
   "cell_type": "code",
   "execution_count": null,
   "id": "f6557d78",
   "metadata": {},
   "outputs": [],
   "source": []
  }
 ],
 "metadata": {
  "kernelspec": {
   "display_name": "Python 3",
   "language": "python",
   "name": "python3"
  },
  "language_info": {
   "codemirror_mode": {
    "name": "ipython",
    "version": 3
   },
   "file_extension": ".py",
   "mimetype": "text/x-python",
   "name": "python",
   "nbconvert_exporter": "python",
   "pygments_lexer": "ipython3",
   "version": "3.8.10"
  },
  "toc": {
   "base_numbering": "0",
   "nav_menu": {},
   "number_sections": true,
   "sideBar": true,
   "skip_h1_title": false,
   "title_cell": "Table of Contents",
   "title_sidebar": "Contents",
   "toc_cell": false,
   "toc_position": {},
   "toc_section_display": true,
   "toc_window_display": false
  }
 },
 "nbformat": 4,
 "nbformat_minor": 5
}
