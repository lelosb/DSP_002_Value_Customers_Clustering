{
 "cells": [
  {
   "cell_type": "markdown",
   "id": "460ce7db",
   "metadata": {},
   "source": [
    "# <font color='red'>DSP_002 - High Value Customer Identification (Insiders)"
   ]
  },
  {
   "cell_type": "markdown",
   "id": "6771fffb",
   "metadata": {},
   "source": [
    "# Basic setups"
   ]
  },
  {
   "cell_type": "markdown",
   "id": "c3c26fe8",
   "metadata": {},
   "source": [
    "## Imports"
   ]
  },
  {
   "cell_type": "code",
   "execution_count": 1,
   "id": "752777d1",
   "metadata": {
    "ExecuteTime": {
     "end_time": "2021-10-12T22:19:37.161132Z",
     "start_time": "2021-10-12T22:19:34.507006Z"
    }
   },
   "outputs": [],
   "source": [
    "import numpy as np\n",
    "import pandas as pd\n",
    "import seaborn as sns\n",
    "import umap.umap_ as umap\n",
    "#!pip install umap-learn \n",
    "from IPython.core.display     import HTML\n",
    "from matplotlib import pyplot as plt\n",
    "from pandas_profiling import ProfileReport \n",
    "from sklearn import cluster       as c\n",
    "from sklearn import metrics       as m\n",
    "from sklearn import ensemble      as en\n",
    "from sklearn import preprocessing as pp\n",
    "from sklearn import decomposition as dd\n",
    "from sklearn import manifold      as mn\n",
    "from sklearn import mixture       as mx\n",
    "from sklearn.manifold import TSNE\n",
    "from sklearn.neighbors import NearestNeighbors\n",
    "from scipy.cluster import hierarchy as hc\n",
    "from plotly import express as px\n",
    "\n",
    "from yellowbrick.cluster import KElbowVisualizer, SilhouetteVisualizer"
   ]
  },
  {
   "cell_type": "markdown",
   "id": "c04dfcef",
   "metadata": {},
   "source": [
    "## Helper Functions"
   ]
  },
  {
   "cell_type": "code",
   "execution_count": 2,
   "id": "5cca2481",
   "metadata": {
    "ExecuteTime": {
     "end_time": "2021-10-12T22:19:37.192053Z",
     "start_time": "2021-10-12T22:19:37.162130Z"
    }
   },
   "outputs": [
    {
     "name": "stdout",
     "output_type": "stream",
     "text": [
      "Populating the interactive namespace from numpy and matplotlib\n"
     ]
    },
    {
     "data": {
      "text/html": [
       "<style>.container { width:100% !important; }</style>"
      ],
      "text/plain": [
       "<IPython.core.display.HTML object>"
      ]
     },
     "metadata": {},
     "output_type": "display_data"
    }
   ],
   "source": [
    "def jupyter_settings():\n",
    "    %matplotlib inline\n",
    "    %pylab inline\n",
    "    plt.style.use( 'bmh' )\n",
    "    plt.rcParams['figure.figsize'] = [25, 12]\n",
    "    plt.rcParams['font.size'] = 24\n",
    "    display( HTML( '<style>.container { width:100% !important; }</style>') )\n",
    "    pd.options.display.max_columns = None\n",
    "    pd.options.display.max_rows = None\n",
    "    pd.set_option( 'display.expand_frame_repr', False )\n",
    "    sns.set()\n",
    "jupyter_settings()"
   ]
  },
  {
   "cell_type": "code",
   "execution_count": 3,
   "id": "dc906514",
   "metadata": {
    "ExecuteTime": {
     "end_time": "2021-10-12T22:19:37.207044Z",
     "start_time": "2021-10-12T22:19:37.196043Z"
    }
   },
   "outputs": [],
   "source": [
    "# Supress Scientific Notation\n",
    "np.set_printoptions(suppress=True)\n",
    "pd.set_option('display.float_format', '{:.2f}'.format)"
   ]
  },
  {
   "cell_type": "markdown",
   "id": "0ebc7331",
   "metadata": {
    "ExecuteTime": {
     "end_time": "2021-07-23T14:02:30.182766Z",
     "start_time": "2021-07-23T14:02:29.597224Z"
    }
   },
   "source": [
    "# Data Exploring"
   ]
  },
  {
   "cell_type": "markdown",
   "id": "caabb06d",
   "metadata": {},
   "source": [
    "## Data Load"
   ]
  },
  {
   "cell_type": "code",
   "execution_count": 4,
   "id": "3f64173d",
   "metadata": {
    "ExecuteTime": {
     "end_time": "2021-10-12T22:19:37.749044Z",
     "start_time": "2021-10-12T22:19:37.209038Z"
    }
   },
   "outputs": [],
   "source": [
    "df_raw =pd.read_csv('../data/raw/Ecommerce.csv', sep=',', decimal='.', encoding = 'ISO-8859-1')"
   ]
  },
  {
   "cell_type": "markdown",
   "id": "050866e8",
   "metadata": {
    "ExecuteTime": {
     "end_time": "2021-08-24T19:25:03.579821Z",
     "start_time": "2021-08-24T19:25:03.009348Z"
    },
    "scrolled": true
   },
   "source": [
    "## Data Overview"
   ]
  },
  {
   "cell_type": "code",
   "execution_count": 5,
   "id": "7e7e90a2",
   "metadata": {
    "ExecuteTime": {
     "end_time": "2021-10-12T22:19:37.765006Z",
     "start_time": "2021-10-12T22:19:37.750048Z"
    },
    "scrolled": true
   },
   "outputs": [
    {
     "data": {
      "text/html": [
       "<div>\n",
       "<style scoped>\n",
       "    .dataframe tbody tr th:only-of-type {\n",
       "        vertical-align: middle;\n",
       "    }\n",
       "\n",
       "    .dataframe tbody tr th {\n",
       "        vertical-align: top;\n",
       "    }\n",
       "\n",
       "    .dataframe thead th {\n",
       "        text-align: right;\n",
       "    }\n",
       "</style>\n",
       "<table border=\"1\" class=\"dataframe\">\n",
       "  <thead>\n",
       "    <tr style=\"text-align: right;\">\n",
       "      <th></th>\n",
       "      <th>InvoiceNo</th>\n",
       "      <th>StockCode</th>\n",
       "      <th>Description</th>\n",
       "      <th>Quantity</th>\n",
       "      <th>InvoiceDate</th>\n",
       "      <th>UnitPrice</th>\n",
       "      <th>CustomerID</th>\n",
       "      <th>Country</th>\n",
       "      <th>Unnamed: 8</th>\n",
       "    </tr>\n",
       "  </thead>\n",
       "  <tbody>\n",
       "    <tr>\n",
       "      <th>0</th>\n",
       "      <td>536365</td>\n",
       "      <td>85123A</td>\n",
       "      <td>WHITE HANGING HEART T-LIGHT HOLDER</td>\n",
       "      <td>6</td>\n",
       "      <td>29-Nov-16</td>\n",
       "      <td>2.55</td>\n",
       "      <td>17850.00</td>\n",
       "      <td>United Kingdom</td>\n",
       "      <td>NaN</td>\n",
       "    </tr>\n",
       "    <tr>\n",
       "      <th>1</th>\n",
       "      <td>536365</td>\n",
       "      <td>71053</td>\n",
       "      <td>WHITE METAL LANTERN</td>\n",
       "      <td>6</td>\n",
       "      <td>29-Nov-16</td>\n",
       "      <td>3.39</td>\n",
       "      <td>17850.00</td>\n",
       "      <td>United Kingdom</td>\n",
       "      <td>NaN</td>\n",
       "    </tr>\n",
       "    <tr>\n",
       "      <th>2</th>\n",
       "      <td>536365</td>\n",
       "      <td>84406B</td>\n",
       "      <td>CREAM CUPID HEARTS COAT HANGER</td>\n",
       "      <td>8</td>\n",
       "      <td>29-Nov-16</td>\n",
       "      <td>2.75</td>\n",
       "      <td>17850.00</td>\n",
       "      <td>United Kingdom</td>\n",
       "      <td>NaN</td>\n",
       "    </tr>\n",
       "    <tr>\n",
       "      <th>3</th>\n",
       "      <td>536365</td>\n",
       "      <td>84029G</td>\n",
       "      <td>KNITTED UNION FLAG HOT WATER BOTTLE</td>\n",
       "      <td>6</td>\n",
       "      <td>29-Nov-16</td>\n",
       "      <td>3.39</td>\n",
       "      <td>17850.00</td>\n",
       "      <td>United Kingdom</td>\n",
       "      <td>NaN</td>\n",
       "    </tr>\n",
       "    <tr>\n",
       "      <th>4</th>\n",
       "      <td>536365</td>\n",
       "      <td>84029E</td>\n",
       "      <td>RED WOOLLY HOTTIE WHITE HEART.</td>\n",
       "      <td>6</td>\n",
       "      <td>29-Nov-16</td>\n",
       "      <td>3.39</td>\n",
       "      <td>17850.00</td>\n",
       "      <td>United Kingdom</td>\n",
       "      <td>NaN</td>\n",
       "    </tr>\n",
       "  </tbody>\n",
       "</table>\n",
       "</div>"
      ],
      "text/plain": [
       "  InvoiceNo StockCode                          Description  Quantity InvoiceDate  UnitPrice  CustomerID         Country  Unnamed: 8\n",
       "0    536365    85123A   WHITE HANGING HEART T-LIGHT HOLDER         6   29-Nov-16       2.55    17850.00  United Kingdom         NaN\n",
       "1    536365     71053                  WHITE METAL LANTERN         6   29-Nov-16       3.39    17850.00  United Kingdom         NaN\n",
       "2    536365    84406B       CREAM CUPID HEARTS COAT HANGER         8   29-Nov-16       2.75    17850.00  United Kingdom         NaN\n",
       "3    536365    84029G  KNITTED UNION FLAG HOT WATER BOTTLE         6   29-Nov-16       3.39    17850.00  United Kingdom         NaN\n",
       "4    536365    84029E       RED WOOLLY HOTTIE WHITE HEART.         6   29-Nov-16       3.39    17850.00  United Kingdom         NaN"
      ]
     },
     "execution_count": 5,
     "metadata": {},
     "output_type": "execute_result"
    }
   ],
   "source": [
    "df_raw.head()"
   ]
  },
  {
   "cell_type": "code",
   "execution_count": 6,
   "id": "05dd5529",
   "metadata": {
    "ExecuteTime": {
     "end_time": "2021-10-12T22:19:37.780962Z",
     "start_time": "2021-10-12T22:19:37.766002Z"
    }
   },
   "outputs": [
    {
     "name": "stdout",
     "output_type": "stream",
     "text": [
      "The original dataset has 541909 transations registers with 9 attributes.\n"
     ]
    }
   ],
   "source": [
    "print('The original dataset has {} transations registers with {} attributes.'.format(df_raw.shape[0], df_raw.shape[1]) )"
   ]
  },
  {
   "cell_type": "code",
   "execution_count": 7,
   "id": "2018dd7a",
   "metadata": {
    "ExecuteTime": {
     "end_time": "2021-10-12T22:19:37.796922Z",
     "start_time": "2021-10-12T22:19:37.781960Z"
    }
   },
   "outputs": [
    {
     "data": {
      "text/plain": [
       "Index(['InvoiceNo', 'StockCode', 'Description', 'Quantity', 'InvoiceDate',\n",
       "       'UnitPrice', 'CustomerID', 'Country', 'Unnamed: 8'],\n",
       "      dtype='object')"
      ]
     },
     "execution_count": 7,
     "metadata": {},
     "output_type": "execute_result"
    }
   ],
   "source": [
    "df_raw.columns"
   ]
  },
  {
   "cell_type": "markdown",
   "id": "b57ae555",
   "metadata": {},
   "source": [
    "## Check NaN"
   ]
  },
  {
   "cell_type": "code",
   "execution_count": 8,
   "id": "22edd1e3",
   "metadata": {
    "ExecuteTime": {
     "end_time": "2021-10-12T22:19:37.922616Z",
     "start_time": "2021-10-12T22:19:37.799915Z"
    },
    "scrolled": true
   },
   "outputs": [
    {
     "data": {
      "text/plain": [
       "InvoiceNo       0.00\n",
       "StockCode       0.00\n",
       "Description     0.27\n",
       "Quantity        0.00\n",
       "InvoiceDate     0.00\n",
       "UnitPrice       0.00\n",
       "CustomerID     24.93\n",
       "Country         0.00\n",
       "Unnamed: 8    100.00\n",
       "dtype: float64"
      ]
     },
     "execution_count": 8,
     "metadata": {},
     "output_type": "execute_result"
    }
   ],
   "source": [
    "df_raw.isna().sum() / len(df_raw) *100"
   ]
  },
  {
   "cell_type": "markdown",
   "id": "bd28f0db",
   "metadata": {
    "ExecuteTime": {
     "end_time": "2021-10-11T14:11:07.394457Z",
     "start_time": "2021-10-11T14:11:07.380423Z"
    },
    "scrolled": true
   },
   "source": [
    "There are a considerable number of transations without customers. Identify the customers is the main objective of this project, so this is a big problem. Through this cycle, we have a lot of problems with non identified customers, so we decided to drop then in this \n",
    "first cycle of the project. Maybe in the next cycle something different can be done. After all, we discovery that dropping all the clientes without id, we drop all the \"descriptions\" NaN as well."
   ]
  },
  {
   "cell_type": "markdown",
   "id": "7a54ac5b",
   "metadata": {},
   "source": [
    "## Data types"
   ]
  },
  {
   "cell_type": "code",
   "execution_count": 9,
   "id": "fbe59f76",
   "metadata": {
    "ExecuteTime": {
     "end_time": "2021-10-12T22:19:37.937545Z",
     "start_time": "2021-10-12T22:19:37.923583Z"
    },
    "scrolled": true
   },
   "outputs": [
    {
     "data": {
      "text/plain": [
       "InvoiceNo       object\n",
       "StockCode       object\n",
       "Description     object\n",
       "Quantity         int64\n",
       "InvoiceDate     object\n",
       "UnitPrice      float64\n",
       "CustomerID     float64\n",
       "Country         object\n",
       "Unnamed: 8     float64\n",
       "dtype: object"
      ]
     },
     "execution_count": 9,
     "metadata": {},
     "output_type": "execute_result"
    }
   ],
   "source": [
    "df_raw.dtypes"
   ]
  },
  {
   "cell_type": "markdown",
   "id": "ecaaab49",
   "metadata": {},
   "source": [
    "## Check duplicated"
   ]
  },
  {
   "cell_type": "code",
   "execution_count": 10,
   "id": "58f27efd",
   "metadata": {
    "ExecuteTime": {
     "end_time": "2021-10-12T22:19:37.953534Z",
     "start_time": "2021-10-12T22:19:37.938543Z"
    }
   },
   "outputs": [
    {
     "data": {
      "text/plain": [
       "537536"
      ]
     },
     "execution_count": 10,
     "metadata": {},
     "output_type": "execute_result"
    }
   ],
   "source": [
    "df_raw['CustomerID'].duplicated().sum()"
   ]
  },
  {
   "cell_type": "code",
   "execution_count": 11,
   "id": "34cb9c46",
   "metadata": {
    "ExecuteTime": {
     "end_time": "2021-10-12T22:19:38.278667Z",
     "start_time": "2021-10-12T22:19:37.954499Z"
    }
   },
   "outputs": [
    {
     "data": {
      "text/plain": [
       "(5269, 9)"
      ]
     },
     "execution_count": 11,
     "metadata": {},
     "output_type": "execute_result"
    }
   ],
   "source": [
    "df_raw[df_raw.duplicated()].shape"
   ]
  },
  {
   "cell_type": "markdown",
   "id": "b68248da",
   "metadata": {
    "ExecuteTime": {
     "end_time": "2021-10-11T17:31:37.941559Z",
     "start_time": "2021-10-11T17:31:37.926600Z"
    }
   },
   "source": [
    "From a business perspective, none of the repeated attributes will be a problem unless there are more than one record with all inputs duplicated."
   ]
  },
  {
   "cell_type": "markdown",
   "id": "0fcdf902",
   "metadata": {},
   "source": [
    "## Statistics data overview"
   ]
  },
  {
   "cell_type": "code",
   "execution_count": 12,
   "id": "e8d5cc5b",
   "metadata": {
    "ExecuteTime": {
     "end_time": "2021-10-12T22:19:38.372781Z",
     "start_time": "2021-10-12T22:19:38.280628Z"
    }
   },
   "outputs": [
    {
     "data": {
      "text/html": [
       "<div>\n",
       "<style scoped>\n",
       "    .dataframe tbody tr th:only-of-type {\n",
       "        vertical-align: middle;\n",
       "    }\n",
       "\n",
       "    .dataframe tbody tr th {\n",
       "        vertical-align: top;\n",
       "    }\n",
       "\n",
       "    .dataframe thead th {\n",
       "        text-align: right;\n",
       "    }\n",
       "</style>\n",
       "<table border=\"1\" class=\"dataframe\">\n",
       "  <thead>\n",
       "    <tr style=\"text-align: right;\">\n",
       "      <th></th>\n",
       "      <th>count</th>\n",
       "      <th>mean</th>\n",
       "      <th>std</th>\n",
       "      <th>min</th>\n",
       "      <th>25%</th>\n",
       "      <th>50%</th>\n",
       "      <th>75%</th>\n",
       "      <th>max</th>\n",
       "    </tr>\n",
       "  </thead>\n",
       "  <tbody>\n",
       "    <tr>\n",
       "      <th>Quantity</th>\n",
       "      <td>541909.00</td>\n",
       "      <td>9.55</td>\n",
       "      <td>218.08</td>\n",
       "      <td>-80995.00</td>\n",
       "      <td>1.00</td>\n",
       "      <td>3.00</td>\n",
       "      <td>10.00</td>\n",
       "      <td>80995.00</td>\n",
       "    </tr>\n",
       "    <tr>\n",
       "      <th>UnitPrice</th>\n",
       "      <td>541909.00</td>\n",
       "      <td>4.61</td>\n",
       "      <td>96.76</td>\n",
       "      <td>-11062.06</td>\n",
       "      <td>1.25</td>\n",
       "      <td>2.08</td>\n",
       "      <td>4.13</td>\n",
       "      <td>38970.00</td>\n",
       "    </tr>\n",
       "    <tr>\n",
       "      <th>CustomerID</th>\n",
       "      <td>406829.00</td>\n",
       "      <td>15287.69</td>\n",
       "      <td>1713.60</td>\n",
       "      <td>12346.00</td>\n",
       "      <td>13953.00</td>\n",
       "      <td>15152.00</td>\n",
       "      <td>16791.00</td>\n",
       "      <td>18287.00</td>\n",
       "    </tr>\n",
       "    <tr>\n",
       "      <th>Unnamed: 8</th>\n",
       "      <td>0.00</td>\n",
       "      <td>NaN</td>\n",
       "      <td>NaN</td>\n",
       "      <td>NaN</td>\n",
       "      <td>NaN</td>\n",
       "      <td>NaN</td>\n",
       "      <td>NaN</td>\n",
       "      <td>NaN</td>\n",
       "    </tr>\n",
       "  </tbody>\n",
       "</table>\n",
       "</div>"
      ],
      "text/plain": [
       "               count     mean     std       min      25%      50%      75%      max\n",
       "Quantity   541909.00     9.55  218.08 -80995.00     1.00     3.00    10.00 80995.00\n",
       "UnitPrice  541909.00     4.61   96.76 -11062.06     1.25     2.08     4.13 38970.00\n",
       "CustomerID 406829.00 15287.69 1713.60  12346.00 13953.00 15152.00 16791.00 18287.00\n",
       "Unnamed: 8      0.00      NaN     NaN       NaN      NaN      NaN      NaN      NaN"
      ]
     },
     "execution_count": 12,
     "metadata": {},
     "output_type": "execute_result"
    }
   ],
   "source": [
    "df_raw.describe().T"
   ]
  },
  {
   "cell_type": "markdown",
   "id": "bb006467",
   "metadata": {},
   "source": [
    "Tasks:\n",
    "\n",
    "    01) Change the columns names to snacke case;\n",
    "    02) Drop \"Unnamed: 8\" column;\n",
    "    03) Check NaN (\"Description\" and \"CustomerID\");\n",
    "    04) Change types (InvoiceNo, InvoiceDate and CustomerID;\n",
    "    05) Solve duplicated registers\n",
    "    06) Check the invoices with letters;\n",
    "    07) Check the strange description names;\n",
    "    08) Check negative unit prices and quantities"
   ]
  },
  {
   "cell_type": "markdown",
   "id": "b37edf54",
   "metadata": {},
   "source": [
    "# <font color='green'> Data Processing"
   ]
  },
  {
   "cell_type": "code",
   "execution_count": 13,
   "id": "d51ae57f",
   "metadata": {
    "ExecuteTime": {
     "end_time": "2021-10-12T22:19:38.404700Z",
     "start_time": "2021-10-12T22:19:38.373744Z"
    }
   },
   "outputs": [],
   "source": [
    "df3 = df_raw.copy()"
   ]
  },
  {
   "cell_type": "markdown",
   "id": "5b8cfb47",
   "metadata": {},
   "source": [
    "## Rename columns"
   ]
  },
  {
   "cell_type": "code",
   "execution_count": 14,
   "id": "1084b019",
   "metadata": {
    "ExecuteTime": {
     "end_time": "2021-10-12T22:19:38.419645Z",
     "start_time": "2021-10-12T22:19:38.405674Z"
    }
   },
   "outputs": [
    {
     "data": {
      "text/plain": [
       "Index(['InvoiceNo', 'StockCode', 'Description', 'Quantity', 'InvoiceDate',\n",
       "       'UnitPrice', 'CustomerID', 'Country', 'Unnamed: 8'],\n",
       "      dtype='object')"
      ]
     },
     "execution_count": 14,
     "metadata": {},
     "output_type": "execute_result"
    }
   ],
   "source": [
    "df3.columns"
   ]
  },
  {
   "cell_type": "code",
   "execution_count": 15,
   "id": "8d33b8d1",
   "metadata": {
    "ExecuteTime": {
     "end_time": "2021-10-12T22:19:38.435613Z",
     "start_time": "2021-10-12T22:19:38.420618Z"
    }
   },
   "outputs": [],
   "source": [
    "cols_new = ['invoice_no', 'stock_code', 'description','quantity', 'invoice_date','unit_price', 'customer_id', 'country', 'unnamed']"
   ]
  },
  {
   "cell_type": "code",
   "execution_count": 16,
   "id": "938cd850",
   "metadata": {
    "ExecuteTime": {
     "end_time": "2021-10-12T22:19:38.451570Z",
     "start_time": "2021-10-12T22:19:38.437573Z"
    }
   },
   "outputs": [],
   "source": [
    "df3.columns = cols_new #change to snake case"
   ]
  },
  {
   "cell_type": "markdown",
   "id": "7b99d581",
   "metadata": {
    "ExecuteTime": {
     "end_time": "2021-08-19T17:53:14.247722Z",
     "start_time": "2021-08-19T17:53:14.235757Z"
    }
   },
   "source": [
    "## Check \"Unnamed: 8\" attribute"
   ]
  },
  {
   "cell_type": "markdown",
   "id": "a09949c0",
   "metadata": {
    "ExecuteTime": {
     "end_time": "2021-10-11T17:31:38.298233Z",
     "start_time": "2021-10-11T17:31:38.284257Z"
    }
   },
   "source": [
    "All the Unnamed are NaN. There is no relevante information in this feature. It will be dropped."
   ]
  },
  {
   "cell_type": "code",
   "execution_count": 17,
   "id": "94230797",
   "metadata": {
    "ExecuteTime": {
     "end_time": "2021-10-12T22:19:38.499409Z",
     "start_time": "2021-10-12T22:19:38.454528Z"
    }
   },
   "outputs": [],
   "source": [
    "df3 = df3.drop(columns=['unnamed'], axis=1) "
   ]
  },
  {
   "cell_type": "markdown",
   "id": "daa78690",
   "metadata": {},
   "source": [
    "## Solving NaN"
   ]
  },
  {
   "cell_type": "code",
   "execution_count": 18,
   "id": "698fc4b1",
   "metadata": {
    "ExecuteTime": {
     "end_time": "2021-10-12T22:19:38.609116Z",
     "start_time": "2021-10-12T22:19:38.500407Z"
    }
   },
   "outputs": [
    {
     "data": {
      "text/plain": [
       "invoice_no           0\n",
       "stock_code           0\n",
       "description       1454\n",
       "quantity             0\n",
       "invoice_date         0\n",
       "unit_price           0\n",
       "customer_id     135080\n",
       "country              0\n",
       "dtype: int64"
      ]
     },
     "execution_count": 18,
     "metadata": {},
     "output_type": "execute_result"
    }
   ],
   "source": [
    "df3.isna().sum()"
   ]
  },
  {
   "cell_type": "code",
   "execution_count": 19,
   "id": "8a9f18e3",
   "metadata": {
    "ExecuteTime": {
     "end_time": "2021-10-12T22:19:38.670949Z",
     "start_time": "2021-10-12T22:19:38.611110Z"
    }
   },
   "outputs": [],
   "source": [
    "df3 = df3.dropna(subset = ['customer_id'], axis=0)"
   ]
  },
  {
   "cell_type": "code",
   "execution_count": 20,
   "id": "1a81ee33",
   "metadata": {
    "ExecuteTime": {
     "end_time": "2021-10-12T22:19:38.764730Z",
     "start_time": "2021-10-12T22:19:38.671948Z"
    }
   },
   "outputs": [
    {
     "data": {
      "text/plain": [
       "invoice_no      0\n",
       "stock_code      0\n",
       "description     0\n",
       "quantity        0\n",
       "invoice_date    0\n",
       "unit_price      0\n",
       "customer_id     0\n",
       "country         0\n",
       "dtype: int64"
      ]
     },
     "execution_count": 20,
     "metadata": {},
     "output_type": "execute_result"
    }
   ],
   "source": [
    "df3.isna().sum()"
   ]
  },
  {
   "cell_type": "markdown",
   "id": "8e43e1b9",
   "metadata": {
    "ExecuteTime": {
     "end_time": "2021-10-11T17:31:38.614355Z",
     "start_time": "2021-10-11T17:31:38.599397Z"
    }
   },
   "source": [
    "The \"description\" NaN were dropped together with the \"customer_id\" NaN"
   ]
  },
  {
   "cell_type": "markdown",
   "id": "7a0efbdb",
   "metadata": {},
   "source": [
    "## Change dtypes"
   ]
  },
  {
   "cell_type": "markdown",
   "id": "6ac566ee",
   "metadata": {},
   "source": [
    "### Attribute 'invoice_number'"
   ]
  },
  {
   "cell_type": "code",
   "execution_count": 21,
   "id": "9c5575b3",
   "metadata": {
    "ExecuteTime": {
     "end_time": "2021-10-12T22:19:38.795656Z",
     "start_time": "2021-10-12T22:19:38.765697Z"
    }
   },
   "outputs": [
    {
     "data": {
      "text/plain": [
       "array(['536365', '536366', '536367', ..., '581585', '581586', '581587'],\n",
       "      dtype=object)"
      ]
     },
     "execution_count": 21,
     "metadata": {},
     "output_type": "execute_result"
    }
   ],
   "source": [
    "df3['invoice_no'].unique()"
   ]
  },
  {
   "cell_type": "code",
   "execution_count": 22,
   "id": "3297f905",
   "metadata": {
    "ExecuteTime": {
     "end_time": "2021-10-12T22:19:38.811614Z",
     "start_time": "2021-10-12T22:19:38.796613Z"
    }
   },
   "outputs": [
    {
     "name": "stdout",
     "output_type": "stream",
     "text": [
      "According with the code error, there are invoices with number with letters. For now it will be keep as a object\n"
     ]
    }
   ],
   "source": [
    "#df3['invoice_no'] = df3['invoice_no'].astype(int64)\n",
    "print('According with the code error, there are invoices with number with letters. For now it will be keep as a object')"
   ]
  },
  {
   "cell_type": "markdown",
   "id": "708cebc3",
   "metadata": {
    "ExecuteTime": {
     "end_time": "2021-08-19T18:11:03.940506Z",
     "start_time": "2021-08-19T18:11:03.925546Z"
    }
   },
   "source": [
    "### Attribute 'invoice_date'"
   ]
  },
  {
   "cell_type": "code",
   "execution_count": 23,
   "id": "609b5519",
   "metadata": {
    "ExecuteTime": {
     "end_time": "2021-10-12T22:19:38.888044Z",
     "start_time": "2021-10-12T22:19:38.817558Z"
    }
   },
   "outputs": [],
   "source": [
    "df3['invoice_date'] = pd.to_datetime(df3['invoice_date'], format = '%d-%b-%y')\n",
    "# use %b because the month is in a string in the df"
   ]
  },
  {
   "cell_type": "code",
   "execution_count": 24,
   "id": "82089e43",
   "metadata": {
    "ExecuteTime": {
     "end_time": "2021-10-12T22:19:38.902973Z",
     "start_time": "2021-10-12T22:19:38.889011Z"
    }
   },
   "outputs": [
    {
     "data": {
      "text/plain": [
       "invoice_no              object\n",
       "stock_code              object\n",
       "description             object\n",
       "quantity                 int64\n",
       "invoice_date    datetime64[ns]\n",
       "unit_price             float64\n",
       "customer_id            float64\n",
       "country                 object\n",
       "dtype: object"
      ]
     },
     "execution_count": 24,
     "metadata": {},
     "output_type": "execute_result"
    }
   ],
   "source": [
    "df3.dtypes"
   ]
  },
  {
   "cell_type": "markdown",
   "id": "2c27722a",
   "metadata": {
    "ExecuteTime": {
     "end_time": "2021-08-19T18:12:20.297568Z",
     "start_time": "2021-08-19T18:12:20.280608Z"
    }
   },
   "source": [
    "### Attribute 'customer_id'"
   ]
  },
  {
   "cell_type": "code",
   "execution_count": 25,
   "id": "6d2226af",
   "metadata": {
    "ExecuteTime": {
     "end_time": "2021-10-12T22:19:38.918972Z",
     "start_time": "2021-10-12T22:19:38.903972Z"
    }
   },
   "outputs": [],
   "source": [
    "df3['customer_id'] = df3['customer_id'].astype(int64)"
   ]
  },
  {
   "cell_type": "code",
   "execution_count": 26,
   "id": "53dfa676",
   "metadata": {
    "ExecuteTime": {
     "end_time": "2021-10-12T22:19:38.934918Z",
     "start_time": "2021-10-12T22:19:38.919928Z"
    }
   },
   "outputs": [
    {
     "data": {
      "text/plain": [
       "invoice_no              object\n",
       "stock_code              object\n",
       "description             object\n",
       "quantity                 int64\n",
       "invoice_date    datetime64[ns]\n",
       "unit_price             float64\n",
       "customer_id              int64\n",
       "country                 object\n",
       "dtype: object"
      ]
     },
     "execution_count": 26,
     "metadata": {},
     "output_type": "execute_result"
    }
   ],
   "source": [
    "df3.dtypes"
   ]
  },
  {
   "cell_type": "markdown",
   "id": "5137be91",
   "metadata": {
    "ExecuteTime": {
     "end_time": "2021-09-03T17:23:44.036702Z",
     "start_time": "2021-09-03T17:23:44.018716Z"
    }
   },
   "source": [
    "## Solve Duplicates"
   ]
  },
  {
   "cell_type": "code",
   "execution_count": 27,
   "id": "ea312710",
   "metadata": {
    "ExecuteTime": {
     "end_time": "2021-10-12T22:19:38.956828Z",
     "start_time": "2021-10-12T22:19:38.935884Z"
    }
   },
   "outputs": [],
   "source": [
    "#next cycle"
   ]
  },
  {
   "cell_type": "markdown",
   "id": "6979a37f",
   "metadata": {
    "ExecuteTime": {
     "end_time": "2021-08-19T19:09:12.712243Z",
     "start_time": "2021-08-19T19:09:12.709251Z"
    }
   },
   "source": [
    "## Negative values"
   ]
  },
  {
   "cell_type": "markdown",
   "id": "62dae0c8",
   "metadata": {},
   "source": [
    "From here, we have to take a direction. The negative values problably are from returns. We can just exclude them, exclude the in an out or we can create features for returns. From this point, we decided to sum all the values for customer, and those who ended up with a negative or zero amount will be dropped. We can divided the dataframe in two, one with the purchases, one just with the returns, but it will be done in the next cycle."
   ]
  },
  {
   "cell_type": "code",
   "execution_count": 28,
   "id": "cf988ad5",
   "metadata": {
    "ExecuteTime": {
     "end_time": "2021-10-12T22:19:38.980804Z",
     "start_time": "2021-10-12T22:19:38.957827Z"
    }
   },
   "outputs": [],
   "source": [
    "df3['subtotal'] = df3['unit_price'] * df3['quantity'] "
   ]
  },
  {
   "cell_type": "code",
   "execution_count": 29,
   "id": "e7196e56",
   "metadata": {
    "ExecuteTime": {
     "end_time": "2021-10-12T22:19:39.027640Z",
     "start_time": "2021-10-12T22:19:38.981763Z"
    }
   },
   "outputs": [],
   "source": [
    "df_customers = df3[['customer_id','subtotal']].groupby('customer_id').sum().reset_index()"
   ]
  },
  {
   "cell_type": "code",
   "execution_count": 30,
   "id": "dadccd7b",
   "metadata": {
    "ExecuteTime": {
     "end_time": "2021-10-12T22:19:39.043596Z",
     "start_time": "2021-10-12T22:19:39.028637Z"
    }
   },
   "outputs": [],
   "source": [
    "bad_customers = df_customers[df_customers['subtotal'] <= 0.0]"
   ]
  },
  {
   "cell_type": "code",
   "execution_count": 31,
   "id": "e4a4d788",
   "metadata": {
    "ExecuteTime": {
     "end_time": "2021-10-12T22:19:39.059587Z",
     "start_time": "2021-10-12T22:19:39.044631Z"
    }
   },
   "outputs": [
    {
     "name": "stdout",
     "output_type": "stream",
     "text": [
      "There are 50 customers with negative or equal zero total purchases.\n"
     ]
    }
   ],
   "source": [
    "print('There are {} customers with negative or equal zero total purchases.'.format(bad_customers.shape[0]))"
   ]
  },
  {
   "cell_type": "code",
   "execution_count": 32,
   "id": "9774ec53",
   "metadata": {
    "ExecuteTime": {
     "end_time": "2021-10-12T22:19:39.075537Z",
     "start_time": "2021-10-12T22:19:39.061549Z"
    }
   },
   "outputs": [],
   "source": [
    "bad_list = bad_customers['customer_id'].to_list()"
   ]
  },
  {
   "cell_type": "code",
   "execution_count": 33,
   "id": "1ffb067f",
   "metadata": {
    "ExecuteTime": {
     "end_time": "2021-10-12T22:19:39.123417Z",
     "start_time": "2021-10-12T22:19:39.076508Z"
    }
   },
   "outputs": [],
   "source": [
    "df3 = df3[~df3['customer_id'].isin(bad_list)] # throw out the bad customers"
   ]
  },
  {
   "cell_type": "code",
   "execution_count": 34,
   "id": "db303ace",
   "metadata": {
    "ExecuteTime": {
     "end_time": "2021-10-12T22:19:39.184221Z",
     "start_time": "2021-10-12T22:19:39.124382Z"
    }
   },
   "outputs": [
    {
     "data": {
      "text/html": [
       "<div>\n",
       "<style scoped>\n",
       "    .dataframe tbody tr th:only-of-type {\n",
       "        vertical-align: middle;\n",
       "    }\n",
       "\n",
       "    .dataframe tbody tr th {\n",
       "        vertical-align: top;\n",
       "    }\n",
       "\n",
       "    .dataframe thead th {\n",
       "        text-align: right;\n",
       "    }\n",
       "</style>\n",
       "<table border=\"1\" class=\"dataframe\">\n",
       "  <thead>\n",
       "    <tr style=\"text-align: right;\">\n",
       "      <th></th>\n",
       "      <th>count</th>\n",
       "      <th>mean</th>\n",
       "      <th>std</th>\n",
       "      <th>min</th>\n",
       "      <th>25%</th>\n",
       "      <th>50%</th>\n",
       "      <th>75%</th>\n",
       "      <th>max</th>\n",
       "    </tr>\n",
       "  </thead>\n",
       "  <tbody>\n",
       "    <tr>\n",
       "      <th>quantity</th>\n",
       "      <td>406526.00</td>\n",
       "      <td>12.04</td>\n",
       "      <td>185.50</td>\n",
       "      <td>-80995.00</td>\n",
       "      <td>2.00</td>\n",
       "      <td>5.00</td>\n",
       "      <td>12.00</td>\n",
       "      <td>80995.00</td>\n",
       "    </tr>\n",
       "    <tr>\n",
       "      <th>unit_price</th>\n",
       "      <td>406526.00</td>\n",
       "      <td>3.43</td>\n",
       "      <td>68.91</td>\n",
       "      <td>0.00</td>\n",
       "      <td>1.25</td>\n",
       "      <td>1.95</td>\n",
       "      <td>3.75</td>\n",
       "      <td>38970.00</td>\n",
       "    </tr>\n",
       "    <tr>\n",
       "      <th>customer_id</th>\n",
       "      <td>406526.00</td>\n",
       "      <td>15287.30</td>\n",
       "      <td>1713.57</td>\n",
       "      <td>12347.00</td>\n",
       "      <td>13952.00</td>\n",
       "      <td>15152.00</td>\n",
       "      <td>16791.00</td>\n",
       "      <td>18287.00</td>\n",
       "    </tr>\n",
       "    <tr>\n",
       "      <th>subtotal</th>\n",
       "      <td>406526.00</td>\n",
       "      <td>20.45</td>\n",
       "      <td>391.92</td>\n",
       "      <td>-168469.60</td>\n",
       "      <td>4.20</td>\n",
       "      <td>11.25</td>\n",
       "      <td>19.50</td>\n",
       "      <td>168469.60</td>\n",
       "    </tr>\n",
       "  </tbody>\n",
       "</table>\n",
       "</div>"
      ],
      "text/plain": [
       "                count     mean     std        min      25%      50%      75%       max\n",
       "quantity    406526.00    12.04  185.50  -80995.00     2.00     5.00    12.00  80995.00\n",
       "unit_price  406526.00     3.43   68.91       0.00     1.25     1.95     3.75  38970.00\n",
       "customer_id 406526.00 15287.30 1713.57   12347.00 13952.00 15152.00 16791.00  18287.00\n",
       "subtotal    406526.00    20.45  391.92 -168469.60     4.20    11.25    19.50 168469.60"
      ]
     },
     "execution_count": 34,
     "metadata": {},
     "output_type": "execute_result"
    }
   ],
   "source": [
    "df3.describe().T"
   ]
  },
  {
   "cell_type": "markdown",
   "id": "b8cf2fdd",
   "metadata": {},
   "source": [
    "## Attribute invoice_no"
   ]
  },
  {
   "cell_type": "markdown",
   "id": "4df49af6",
   "metadata": {},
   "source": [
    "First, we have to identify and try to discover what the mean of the invoices with letters."
   ]
  },
  {
   "cell_type": "code",
   "execution_count": 35,
   "id": "bc0acb81",
   "metadata": {
    "ExecuteTime": {
     "end_time": "2021-10-12T22:19:39.670734Z",
     "start_time": "2021-10-12T22:19:39.185218Z"
    }
   },
   "outputs": [
    {
     "data": {
      "text/html": [
       "<div>\n",
       "<style scoped>\n",
       "    .dataframe tbody tr th:only-of-type {\n",
       "        vertical-align: middle;\n",
       "    }\n",
       "\n",
       "    .dataframe tbody tr th {\n",
       "        vertical-align: top;\n",
       "    }\n",
       "\n",
       "    .dataframe thead th {\n",
       "        text-align: right;\n",
       "    }\n",
       "</style>\n",
       "<table border=\"1\" class=\"dataframe\">\n",
       "  <thead>\n",
       "    <tr style=\"text-align: right;\">\n",
       "      <th></th>\n",
       "      <th>invoice_no</th>\n",
       "      <th>stock_code</th>\n",
       "      <th>description</th>\n",
       "      <th>quantity</th>\n",
       "      <th>invoice_date</th>\n",
       "      <th>unit_price</th>\n",
       "      <th>customer_id</th>\n",
       "      <th>country</th>\n",
       "      <th>subtotal</th>\n",
       "    </tr>\n",
       "  </thead>\n",
       "  <tbody>\n",
       "    <tr>\n",
       "      <th>211337</th>\n",
       "      <td>C555366</td>\n",
       "      <td>22355</td>\n",
       "      <td>CHARLOTTE BAG SUKI DESIGN</td>\n",
       "      <td>-2</td>\n",
       "      <td>2017-05-31</td>\n",
       "      <td>0.72</td>\n",
       "      <td>12590</td>\n",
       "      <td>Germany</td>\n",
       "      <td>-1.44</td>\n",
       "    </tr>\n",
       "    <tr>\n",
       "      <th>387472</th>\n",
       "      <td>C570290</td>\n",
       "      <td>23207</td>\n",
       "      <td>LUNCH BAG ALPHABET DESIGN</td>\n",
       "      <td>-10</td>\n",
       "      <td>2017-10-08</td>\n",
       "      <td>1.65</td>\n",
       "      <td>14665</td>\n",
       "      <td>United Kingdom</td>\n",
       "      <td>-16.50</td>\n",
       "    </tr>\n",
       "    <tr>\n",
       "      <th>391859</th>\n",
       "      <td>C570683</td>\n",
       "      <td>22411</td>\n",
       "      <td>JUMBO SHOPPER VINTAGE RED PAISLEY</td>\n",
       "      <td>-1</td>\n",
       "      <td>2017-10-09</td>\n",
       "      <td>2.08</td>\n",
       "      <td>16161</td>\n",
       "      <td>United Kingdom</td>\n",
       "      <td>-2.08</td>\n",
       "    </tr>\n",
       "    <tr>\n",
       "      <th>304662</th>\n",
       "      <td>C563593</td>\n",
       "      <td>D</td>\n",
       "      <td>Discount</td>\n",
       "      <td>-1</td>\n",
       "      <td>2017-08-16</td>\n",
       "      <td>206.40</td>\n",
       "      <td>14646</td>\n",
       "      <td>Netherlands</td>\n",
       "      <td>-206.40</td>\n",
       "    </tr>\n",
       "    <tr>\n",
       "      <th>140731</th>\n",
       "      <td>C548460</td>\n",
       "      <td>22365</td>\n",
       "      <td>DOORMAT RESPECTABLE HOUSE</td>\n",
       "      <td>-2</td>\n",
       "      <td>2017-03-29</td>\n",
       "      <td>7.95</td>\n",
       "      <td>16801</td>\n",
       "      <td>United Kingdom</td>\n",
       "      <td>-15.90</td>\n",
       "    </tr>\n",
       "    <tr>\n",
       "      <th>170530</th>\n",
       "      <td>C551316</td>\n",
       "      <td>21703</td>\n",
       "      <td>BAG 125g SWIRLY MARBLES</td>\n",
       "      <td>-12</td>\n",
       "      <td>2017-04-25</td>\n",
       "      <td>0.42</td>\n",
       "      <td>15220</td>\n",
       "      <td>United Kingdom</td>\n",
       "      <td>-5.04</td>\n",
       "    </tr>\n",
       "    <tr>\n",
       "      <th>445079</th>\n",
       "      <td>C574753</td>\n",
       "      <td>22720</td>\n",
       "      <td>SET OF 3 CAKE TINS PANTRY DESIGN</td>\n",
       "      <td>-2</td>\n",
       "      <td>2017-11-05</td>\n",
       "      <td>4.95</td>\n",
       "      <td>13924</td>\n",
       "      <td>United Kingdom</td>\n",
       "      <td>-9.90</td>\n",
       "    </tr>\n",
       "    <tr>\n",
       "      <th>96392</th>\n",
       "      <td>C544558</td>\n",
       "      <td>22360</td>\n",
       "      <td>GLASS JAR ENGLISH CONFECTIONERY</td>\n",
       "      <td>-11</td>\n",
       "      <td>2017-02-19</td>\n",
       "      <td>2.55</td>\n",
       "      <td>16073</td>\n",
       "      <td>United Kingdom</td>\n",
       "      <td>-28.05</td>\n",
       "    </tr>\n",
       "    <tr>\n",
       "      <th>278383</th>\n",
       "      <td>C561210</td>\n",
       "      <td>23263</td>\n",
       "      <td>SET OF 3 WOODEN HEART DECORATIONS</td>\n",
       "      <td>-10</td>\n",
       "      <td>2017-07-23</td>\n",
       "      <td>1.25</td>\n",
       "      <td>17841</td>\n",
       "      <td>United Kingdom</td>\n",
       "      <td>-12.50</td>\n",
       "    </tr>\n",
       "    <tr>\n",
       "      <th>123585</th>\n",
       "      <td>C546901</td>\n",
       "      <td>22232</td>\n",
       "      <td>JIGSAW TOADSTOOLS 3 PIECE</td>\n",
       "      <td>-8</td>\n",
       "      <td>2017-03-15</td>\n",
       "      <td>1.65</td>\n",
       "      <td>14112</td>\n",
       "      <td>United Kingdom</td>\n",
       "      <td>-13.20</td>\n",
       "    </tr>\n",
       "  </tbody>\n",
       "</table>\n",
       "</div>"
      ],
      "text/plain": [
       "       invoice_no stock_code                        description  quantity invoice_date  unit_price  customer_id         country  subtotal\n",
       "211337    C555366      22355          CHARLOTTE BAG SUKI DESIGN        -2   2017-05-31        0.72        12590         Germany     -1.44\n",
       "387472    C570290      23207          LUNCH BAG ALPHABET DESIGN       -10   2017-10-08        1.65        14665  United Kingdom    -16.50\n",
       "391859    C570683      22411  JUMBO SHOPPER VINTAGE RED PAISLEY        -1   2017-10-09        2.08        16161  United Kingdom     -2.08\n",
       "304662    C563593          D                           Discount        -1   2017-08-16      206.40        14646     Netherlands   -206.40\n",
       "140731    C548460      22365          DOORMAT RESPECTABLE HOUSE        -2   2017-03-29        7.95        16801  United Kingdom    -15.90\n",
       "170530    C551316      21703            BAG 125g SWIRLY MARBLES       -12   2017-04-25        0.42        15220  United Kingdom     -5.04\n",
       "445079    C574753      22720  SET OF 3 CAKE TINS PANTRY DESIGN         -2   2017-11-05        4.95        13924  United Kingdom     -9.90\n",
       "96392     C544558      22360    GLASS JAR ENGLISH CONFECTIONERY       -11   2017-02-19        2.55        16073  United Kingdom    -28.05\n",
       "278383    C561210      23263  SET OF 3 WOODEN HEART DECORATIONS       -10   2017-07-23        1.25        17841  United Kingdom    -12.50\n",
       "123585    C546901      22232          JIGSAW TOADSTOOLS 3 PIECE        -8   2017-03-15        1.65        14112  United Kingdom    -13.20"
      ]
     },
     "execution_count": 35,
     "metadata": {},
     "output_type": "execute_result"
    }
   ],
   "source": [
    "df_letter_invoices = df3.loc[df3['invoice_no'].apply (lambda x: bool(re.search ( '[^0-9]+', x))), :] \n",
    "df_letter_invoices.sample(10)"
   ]
  },
  {
   "cell_type": "code",
   "execution_count": 36,
   "id": "25fc3d17",
   "metadata": {
    "ExecuteTime": {
     "end_time": "2021-10-12T22:19:39.701098Z",
     "start_time": "2021-10-12T22:19:39.671731Z"
    }
   },
   "outputs": [
    {
     "data": {
      "text/html": [
       "<div>\n",
       "<style scoped>\n",
       "    .dataframe tbody tr th:only-of-type {\n",
       "        vertical-align: middle;\n",
       "    }\n",
       "\n",
       "    .dataframe tbody tr th {\n",
       "        vertical-align: top;\n",
       "    }\n",
       "\n",
       "    .dataframe thead th {\n",
       "        text-align: right;\n",
       "    }\n",
       "</style>\n",
       "<table border=\"1\" class=\"dataframe\">\n",
       "  <thead>\n",
       "    <tr style=\"text-align: right;\">\n",
       "      <th></th>\n",
       "      <th>count</th>\n",
       "      <th>mean</th>\n",
       "      <th>std</th>\n",
       "      <th>min</th>\n",
       "      <th>25%</th>\n",
       "      <th>50%</th>\n",
       "      <th>75%</th>\n",
       "      <th>max</th>\n",
       "    </tr>\n",
       "  </thead>\n",
       "  <tbody>\n",
       "    <tr>\n",
       "      <th>quantity</th>\n",
       "      <td>8711.00</td>\n",
       "      <td>-22.64</td>\n",
       "      <td>876.26</td>\n",
       "      <td>-80995.00</td>\n",
       "      <td>-6.00</td>\n",
       "      <td>-2.00</td>\n",
       "      <td>-1.00</td>\n",
       "      <td>-1.00</td>\n",
       "    </tr>\n",
       "    <tr>\n",
       "      <th>unit_price</th>\n",
       "      <td>8711.00</td>\n",
       "      <td>18.06</td>\n",
       "      <td>446.30</td>\n",
       "      <td>0.01</td>\n",
       "      <td>1.45</td>\n",
       "      <td>2.95</td>\n",
       "      <td>4.95</td>\n",
       "      <td>38970.00</td>\n",
       "    </tr>\n",
       "    <tr>\n",
       "      <th>customer_id</th>\n",
       "      <td>8711.00</td>\n",
       "      <td>14975.88</td>\n",
       "      <td>1704.20</td>\n",
       "      <td>12352.00</td>\n",
       "      <td>13495.00</td>\n",
       "      <td>14854.00</td>\n",
       "      <td>16393.00</td>\n",
       "      <td>18282.00</td>\n",
       "    </tr>\n",
       "    <tr>\n",
       "      <th>subtotal</th>\n",
       "      <td>8711.00</td>\n",
       "      <td>-59.38</td>\n",
       "      <td>1866.11</td>\n",
       "      <td>-168469.60</td>\n",
       "      <td>-16.95</td>\n",
       "      <td>-8.40</td>\n",
       "      <td>-3.30</td>\n",
       "      <td>-0.12</td>\n",
       "    </tr>\n",
       "  </tbody>\n",
       "</table>\n",
       "</div>"
      ],
      "text/plain": [
       "              count     mean     std        min      25%      50%      75%      max\n",
       "quantity    8711.00   -22.64  876.26  -80995.00    -6.00    -2.00    -1.00    -1.00\n",
       "unit_price  8711.00    18.06  446.30       0.01     1.45     2.95     4.95 38970.00\n",
       "customer_id 8711.00 14975.88 1704.20   12352.00 13495.00 14854.00 16393.00 18282.00\n",
       "subtotal    8711.00   -59.38 1866.11 -168469.60   -16.95    -8.40    -3.30    -0.12"
      ]
     },
     "execution_count": 36,
     "metadata": {},
     "output_type": "execute_result"
    }
   ],
   "source": [
    "df_letter_invoices.describe().T"
   ]
  },
  {
   "cell_type": "markdown",
   "id": "e5c4d078",
   "metadata": {},
   "source": [
    "All those letter invoices are from negative quantities. Lets check the invoice just with letters:"
   ]
  },
  {
   "cell_type": "code",
   "execution_count": 37,
   "id": "bf2e7249",
   "metadata": {
    "ExecuteTime": {
     "end_time": "2021-10-12T22:19:40.139116Z",
     "start_time": "2021-10-12T22:19:39.703095Z"
    }
   },
   "outputs": [
    {
     "data": {
      "text/plain": [
       "POST    1196\n",
       "M        444\n",
       "D         77\n",
       "DOT       16\n",
       "CRUK      16\n",
       "PADS       4\n",
       "Name: stock_code, dtype: int64"
      ]
     },
     "execution_count": 37,
     "metadata": {},
     "output_type": "execute_result"
    }
   ],
   "source": [
    "df3.loc[df3['stock_code'].apply (lambda x:bool (re.search('^[a-zA-Z]+$', x ) ) ), 'stock_code' ].value_counts()"
   ]
  },
  {
   "cell_type": "markdown",
   "id": "89553fbc",
   "metadata": {},
   "source": [
    "Stock codes to be dropped: 'POST', 'D', 'M', 'PADS', 'DOT', 'CRUK'"
   ]
  },
  {
   "cell_type": "code",
   "execution_count": 38,
   "id": "2b9165d5",
   "metadata": {
    "ExecuteTime": {
     "end_time": "2021-10-12T22:19:40.201761Z",
     "start_time": "2021-10-12T22:19:40.139791Z"
    }
   },
   "outputs": [],
   "source": [
    "df3 = df3[~df3['stock_code'].isin (['POST', 'D', 'DOT', 'M', 'PADS', 'CRUK'])]"
   ]
  },
  {
   "cell_type": "markdown",
   "id": "401790a9",
   "metadata": {},
   "source": [
    "## Description filter"
   ]
  },
  {
   "cell_type": "markdown",
   "id": "9ea53003",
   "metadata": {},
   "source": [
    "Throughout the work, several strange names were observed in the description of the items. It was decided to exclude them after all other cleaning operations because it seems that many of them were returns or discounts, so they would be eliminated throughout the process. However, a final cleaning will be done before the generation of new features to ensure the integrity of the results of the machine learning models."
   ]
  },
  {
   "cell_type": "code",
   "execution_count": 39,
   "id": "ed10c74c",
   "metadata": {
    "ExecuteTime": {
     "end_time": "2021-10-12T22:19:40.265429Z",
     "start_time": "2021-10-12T22:19:40.203597Z"
    }
   },
   "outputs": [
    {
     "data": {
      "text/plain": [
       "array(['WHITE HANGING HEART T-LIGHT HOLDER', 'WHITE METAL LANTERN',\n",
       "       'CREAM CUPID HEARTS COAT HANGER', ...,\n",
       "       'PINK CRYSTAL SKULL PHONE CHARM',\n",
       "       'CREAM HANGING HEART T-LIGHT HOLDER',\n",
       "       'PAPER CRAFT , LITTLE BIRDIE'], dtype=object)"
      ]
     },
     "execution_count": 39,
     "metadata": {},
     "output_type": "execute_result"
    }
   ],
   "source": [
    "df3['description'].unique()"
   ]
  },
  {
   "cell_type": "markdown",
   "id": "c961c999",
   "metadata": {},
   "source": [
    "# <font color='orange'> Feature Engineering"
   ]
  },
  {
   "cell_type": "code",
   "execution_count": 40,
   "id": "3812c8d4",
   "metadata": {
    "ExecuteTime": {
     "end_time": "2021-10-12T22:19:40.297345Z",
     "start_time": "2021-10-12T22:19:40.266427Z"
    }
   },
   "outputs": [],
   "source": [
    "df4 = df3.copy()"
   ]
  },
  {
   "cell_type": "code",
   "execution_count": 41,
   "id": "a48855c9",
   "metadata": {
    "ExecuteTime": {
     "end_time": "2021-10-12T22:19:40.312337Z",
     "start_time": "2021-10-12T22:19:40.298341Z"
    }
   },
   "outputs": [
    {
     "data": {
      "text/html": [
       "<div>\n",
       "<style scoped>\n",
       "    .dataframe tbody tr th:only-of-type {\n",
       "        vertical-align: middle;\n",
       "    }\n",
       "\n",
       "    .dataframe tbody tr th {\n",
       "        vertical-align: top;\n",
       "    }\n",
       "\n",
       "    .dataframe thead th {\n",
       "        text-align: right;\n",
       "    }\n",
       "</style>\n",
       "<table border=\"1\" class=\"dataframe\">\n",
       "  <thead>\n",
       "    <tr style=\"text-align: right;\">\n",
       "      <th></th>\n",
       "      <th>invoice_no</th>\n",
       "      <th>stock_code</th>\n",
       "      <th>description</th>\n",
       "      <th>quantity</th>\n",
       "      <th>invoice_date</th>\n",
       "      <th>unit_price</th>\n",
       "      <th>customer_id</th>\n",
       "      <th>country</th>\n",
       "      <th>subtotal</th>\n",
       "    </tr>\n",
       "  </thead>\n",
       "  <tbody>\n",
       "    <tr>\n",
       "      <th>0</th>\n",
       "      <td>536365</td>\n",
       "      <td>85123A</td>\n",
       "      <td>WHITE HANGING HEART T-LIGHT HOLDER</td>\n",
       "      <td>6</td>\n",
       "      <td>2016-11-29</td>\n",
       "      <td>2.55</td>\n",
       "      <td>17850</td>\n",
       "      <td>United Kingdom</td>\n",
       "      <td>15.30</td>\n",
       "    </tr>\n",
       "    <tr>\n",
       "      <th>1</th>\n",
       "      <td>536365</td>\n",
       "      <td>71053</td>\n",
       "      <td>WHITE METAL LANTERN</td>\n",
       "      <td>6</td>\n",
       "      <td>2016-11-29</td>\n",
       "      <td>3.39</td>\n",
       "      <td>17850</td>\n",
       "      <td>United Kingdom</td>\n",
       "      <td>20.34</td>\n",
       "    </tr>\n",
       "    <tr>\n",
       "      <th>2</th>\n",
       "      <td>536365</td>\n",
       "      <td>84406B</td>\n",
       "      <td>CREAM CUPID HEARTS COAT HANGER</td>\n",
       "      <td>8</td>\n",
       "      <td>2016-11-29</td>\n",
       "      <td>2.75</td>\n",
       "      <td>17850</td>\n",
       "      <td>United Kingdom</td>\n",
       "      <td>22.00</td>\n",
       "    </tr>\n",
       "    <tr>\n",
       "      <th>3</th>\n",
       "      <td>536365</td>\n",
       "      <td>84029G</td>\n",
       "      <td>KNITTED UNION FLAG HOT WATER BOTTLE</td>\n",
       "      <td>6</td>\n",
       "      <td>2016-11-29</td>\n",
       "      <td>3.39</td>\n",
       "      <td>17850</td>\n",
       "      <td>United Kingdom</td>\n",
       "      <td>20.34</td>\n",
       "    </tr>\n",
       "    <tr>\n",
       "      <th>4</th>\n",
       "      <td>536365</td>\n",
       "      <td>84029E</td>\n",
       "      <td>RED WOOLLY HOTTIE WHITE HEART.</td>\n",
       "      <td>6</td>\n",
       "      <td>2016-11-29</td>\n",
       "      <td>3.39</td>\n",
       "      <td>17850</td>\n",
       "      <td>United Kingdom</td>\n",
       "      <td>20.34</td>\n",
       "    </tr>\n",
       "  </tbody>\n",
       "</table>\n",
       "</div>"
      ],
      "text/plain": [
       "  invoice_no stock_code                          description  quantity invoice_date  unit_price  customer_id         country  subtotal\n",
       "0     536365     85123A   WHITE HANGING HEART T-LIGHT HOLDER         6   2016-11-29        2.55        17850  United Kingdom     15.30\n",
       "1     536365      71053                  WHITE METAL LANTERN         6   2016-11-29        3.39        17850  United Kingdom     20.34\n",
       "2     536365     84406B       CREAM CUPID HEARTS COAT HANGER         8   2016-11-29        2.75        17850  United Kingdom     22.00\n",
       "3     536365     84029G  KNITTED UNION FLAG HOT WATER BOTTLE         6   2016-11-29        3.39        17850  United Kingdom     20.34\n",
       "4     536365     84029E       RED WOOLLY HOTTIE WHITE HEART.         6   2016-11-29        3.39        17850  United Kingdom     20.34"
      ]
     },
     "execution_count": 41,
     "metadata": {},
     "output_type": "execute_result"
    }
   ],
   "source": [
    "df4.head()"
   ]
  },
  {
   "cell_type": "markdown",
   "id": "d147be1d",
   "metadata": {
    "ExecuteTime": {
     "end_time": "2021-09-06T14:38:09.843980Z",
     "start_time": "2021-09-06T14:38:09.838994Z"
    }
   },
   "source": [
    "## Average Ticket"
   ]
  },
  {
   "cell_type": "code",
   "execution_count": 42,
   "id": "0da0c2ff",
   "metadata": {
    "ExecuteTime": {
     "end_time": "2021-10-12T22:19:40.405056Z",
     "start_time": "2021-10-12T22:19:40.313303Z"
    }
   },
   "outputs": [],
   "source": [
    "avg_ticket_df = df4[['customer_id','invoice_no','subtotal']].groupby(['customer_id','invoice_no']).sum().reset_index()"
   ]
  },
  {
   "cell_type": "code",
   "execution_count": 43,
   "id": "4ec58440",
   "metadata": {
    "ExecuteTime": {
     "end_time": "2021-10-12T22:19:40.420016Z",
     "start_time": "2021-10-12T22:19:40.407051Z"
    }
   },
   "outputs": [],
   "source": [
    "avg_ticket_df.rename(columns = {'subtotal':'avg_ticket'}, inplace = True)            "
   ]
  },
  {
   "cell_type": "code",
   "execution_count": 44,
   "id": "3223cb54",
   "metadata": {
    "ExecuteTime": {
     "end_time": "2021-10-12T22:19:40.436020Z",
     "start_time": "2021-10-12T22:19:40.422011Z"
    },
    "scrolled": true
   },
   "outputs": [],
   "source": [
    "avg_ticket_df = avg_ticket_df[['customer_id','avg_ticket']].groupby('customer_id').mean().reset_index()"
   ]
  },
  {
   "cell_type": "code",
   "execution_count": 45,
   "id": "8b147a9a",
   "metadata": {
    "ExecuteTime": {
     "end_time": "2021-10-12T22:19:40.450956Z",
     "start_time": "2021-10-12T22:19:40.436972Z"
    }
   },
   "outputs": [
    {
     "data": {
      "text/html": [
       "<div>\n",
       "<style scoped>\n",
       "    .dataframe tbody tr th:only-of-type {\n",
       "        vertical-align: middle;\n",
       "    }\n",
       "\n",
       "    .dataframe tbody tr th {\n",
       "        vertical-align: top;\n",
       "    }\n",
       "\n",
       "    .dataframe thead th {\n",
       "        text-align: right;\n",
       "    }\n",
       "</style>\n",
       "<table border=\"1\" class=\"dataframe\">\n",
       "  <thead>\n",
       "    <tr style=\"text-align: right;\">\n",
       "      <th></th>\n",
       "      <th>customer_id</th>\n",
       "      <th>avg_ticket</th>\n",
       "    </tr>\n",
       "  </thead>\n",
       "  <tbody>\n",
       "    <tr>\n",
       "      <th>0</th>\n",
       "      <td>12347</td>\n",
       "      <td>615.71</td>\n",
       "    </tr>\n",
       "    <tr>\n",
       "      <th>1</th>\n",
       "      <td>12348</td>\n",
       "      <td>359.31</td>\n",
       "    </tr>\n",
       "    <tr>\n",
       "      <th>2</th>\n",
       "      <td>12349</td>\n",
       "      <td>1457.55</td>\n",
       "    </tr>\n",
       "    <tr>\n",
       "      <th>3</th>\n",
       "      <td>12350</td>\n",
       "      <td>294.40</td>\n",
       "    </tr>\n",
       "    <tr>\n",
       "      <th>4</th>\n",
       "      <td>12352</td>\n",
       "      <td>158.18</td>\n",
       "    </tr>\n",
       "  </tbody>\n",
       "</table>\n",
       "</div>"
      ],
      "text/plain": [
       "   customer_id  avg_ticket\n",
       "0        12347      615.71\n",
       "1        12348      359.31\n",
       "2        12349     1457.55\n",
       "3        12350      294.40\n",
       "4        12352      158.18"
      ]
     },
     "execution_count": 45,
     "metadata": {},
     "output_type": "execute_result"
    }
   ],
   "source": [
    "avg_ticket_df.head()"
   ]
  },
  {
   "cell_type": "code",
   "execution_count": 46,
   "id": "b33b2818",
   "metadata": {
    "ExecuteTime": {
     "end_time": "2021-10-12T22:19:40.576628Z",
     "start_time": "2021-10-12T22:19:40.451931Z"
    }
   },
   "outputs": [],
   "source": [
    "df4 = pd.merge(df4,avg_ticket_df, on ='customer_id', how = 'left')"
   ]
  },
  {
   "cell_type": "code",
   "execution_count": 47,
   "id": "4cd830bf",
   "metadata": {
    "ExecuteTime": {
     "end_time": "2021-10-12T22:19:40.592587Z",
     "start_time": "2021-10-12T22:19:40.577597Z"
    }
   },
   "outputs": [
    {
     "data": {
      "text/html": [
       "<div>\n",
       "<style scoped>\n",
       "    .dataframe tbody tr th:only-of-type {\n",
       "        vertical-align: middle;\n",
       "    }\n",
       "\n",
       "    .dataframe tbody tr th {\n",
       "        vertical-align: top;\n",
       "    }\n",
       "\n",
       "    .dataframe thead th {\n",
       "        text-align: right;\n",
       "    }\n",
       "</style>\n",
       "<table border=\"1\" class=\"dataframe\">\n",
       "  <thead>\n",
       "    <tr style=\"text-align: right;\">\n",
       "      <th></th>\n",
       "      <th>invoice_no</th>\n",
       "      <th>stock_code</th>\n",
       "      <th>description</th>\n",
       "      <th>quantity</th>\n",
       "      <th>invoice_date</th>\n",
       "      <th>unit_price</th>\n",
       "      <th>customer_id</th>\n",
       "      <th>country</th>\n",
       "      <th>subtotal</th>\n",
       "      <th>avg_ticket</th>\n",
       "    </tr>\n",
       "  </thead>\n",
       "  <tbody>\n",
       "    <tr>\n",
       "      <th>0</th>\n",
       "      <td>536365</td>\n",
       "      <td>85123A</td>\n",
       "      <td>WHITE HANGING HEART T-LIGHT HOLDER</td>\n",
       "      <td>6</td>\n",
       "      <td>2016-11-29</td>\n",
       "      <td>2.55</td>\n",
       "      <td>17850</td>\n",
       "      <td>United Kingdom</td>\n",
       "      <td>15.30</td>\n",
       "      <td>151.10</td>\n",
       "    </tr>\n",
       "    <tr>\n",
       "      <th>1</th>\n",
       "      <td>536365</td>\n",
       "      <td>71053</td>\n",
       "      <td>WHITE METAL LANTERN</td>\n",
       "      <td>6</td>\n",
       "      <td>2016-11-29</td>\n",
       "      <td>3.39</td>\n",
       "      <td>17850</td>\n",
       "      <td>United Kingdom</td>\n",
       "      <td>20.34</td>\n",
       "      <td>151.10</td>\n",
       "    </tr>\n",
       "    <tr>\n",
       "      <th>2</th>\n",
       "      <td>536365</td>\n",
       "      <td>84406B</td>\n",
       "      <td>CREAM CUPID HEARTS COAT HANGER</td>\n",
       "      <td>8</td>\n",
       "      <td>2016-11-29</td>\n",
       "      <td>2.75</td>\n",
       "      <td>17850</td>\n",
       "      <td>United Kingdom</td>\n",
       "      <td>22.00</td>\n",
       "      <td>151.10</td>\n",
       "    </tr>\n",
       "    <tr>\n",
       "      <th>3</th>\n",
       "      <td>536365</td>\n",
       "      <td>84029G</td>\n",
       "      <td>KNITTED UNION FLAG HOT WATER BOTTLE</td>\n",
       "      <td>6</td>\n",
       "      <td>2016-11-29</td>\n",
       "      <td>3.39</td>\n",
       "      <td>17850</td>\n",
       "      <td>United Kingdom</td>\n",
       "      <td>20.34</td>\n",
       "      <td>151.10</td>\n",
       "    </tr>\n",
       "    <tr>\n",
       "      <th>4</th>\n",
       "      <td>536365</td>\n",
       "      <td>84029E</td>\n",
       "      <td>RED WOOLLY HOTTIE WHITE HEART.</td>\n",
       "      <td>6</td>\n",
       "      <td>2016-11-29</td>\n",
       "      <td>3.39</td>\n",
       "      <td>17850</td>\n",
       "      <td>United Kingdom</td>\n",
       "      <td>20.34</td>\n",
       "      <td>151.10</td>\n",
       "    </tr>\n",
       "  </tbody>\n",
       "</table>\n",
       "</div>"
      ],
      "text/plain": [
       "  invoice_no stock_code                          description  quantity invoice_date  unit_price  customer_id         country  subtotal  avg_ticket\n",
       "0     536365     85123A   WHITE HANGING HEART T-LIGHT HOLDER         6   2016-11-29        2.55        17850  United Kingdom     15.30      151.10\n",
       "1     536365      71053                  WHITE METAL LANTERN         6   2016-11-29        3.39        17850  United Kingdom     20.34      151.10\n",
       "2     536365     84406B       CREAM CUPID HEARTS COAT HANGER         8   2016-11-29        2.75        17850  United Kingdom     22.00      151.10\n",
       "3     536365     84029G  KNITTED UNION FLAG HOT WATER BOTTLE         6   2016-11-29        3.39        17850  United Kingdom     20.34      151.10\n",
       "4     536365     84029E       RED WOOLLY HOTTIE WHITE HEART.         6   2016-11-29        3.39        17850  United Kingdom     20.34      151.10"
      ]
     },
     "execution_count": 47,
     "metadata": {},
     "output_type": "execute_result"
    }
   ],
   "source": [
    "df4.head()"
   ]
  },
  {
   "cell_type": "code",
   "execution_count": 48,
   "id": "8e8a7973",
   "metadata": {
    "ExecuteTime": {
     "end_time": "2021-10-12T22:19:40.623473Z",
     "start_time": "2021-10-12T22:19:40.594550Z"
    }
   },
   "outputs": [
    {
     "data": {
      "text/plain": [
       "4321"
      ]
     },
     "execution_count": 48,
     "metadata": {},
     "output_type": "execute_result"
    }
   ],
   "source": [
    "df4['customer_id'].unique().size"
   ]
  },
  {
   "cell_type": "markdown",
   "id": "eae76f47",
   "metadata": {
    "ExecuteTime": {
     "end_time": "2021-09-03T17:45:31.377343Z",
     "start_time": "2021-09-03T17:45:31.374351Z"
    }
   },
   "source": [
    "## recency"
   ]
  },
  {
   "cell_type": "code",
   "execution_count": 49,
   "id": "ac1906cb",
   "metadata": {
    "ExecuteTime": {
     "end_time": "2021-10-12T22:19:40.687302Z",
     "start_time": "2021-10-12T22:19:40.624471Z"
    }
   },
   "outputs": [],
   "source": [
    "# day from the last purchase until the last date of the dataset\n",
    "df_recency = df4[['customer_id','invoice_date']].groupby('customer_id').max().reset_index()\n",
    "\n",
    "df_recency['recency'] = (df4['invoice_date'].max() - df_recency['invoice_date']).dt.days\n"
   ]
  },
  {
   "cell_type": "code",
   "execution_count": 50,
   "id": "73bea5b6",
   "metadata": {
    "ExecuteTime": {
     "end_time": "2021-10-12T22:19:40.703260Z",
     "start_time": "2021-10-12T22:19:40.688299Z"
    }
   },
   "outputs": [],
   "source": [
    "# one day shif to avoid zero division\n",
    "df_recency['recency'] = df_recency['recency'].apply(lambda x: x+1)"
   ]
  },
  {
   "cell_type": "code",
   "execution_count": 51,
   "id": "167dde0e",
   "metadata": {
    "ExecuteTime": {
     "end_time": "2021-10-12T22:19:40.719140Z",
     "start_time": "2021-10-12T22:19:40.704257Z"
    }
   },
   "outputs": [],
   "source": [
    "df_recency['recency'] = df_recency['recency'].apply(lambda x: 100/x)"
   ]
  },
  {
   "cell_type": "code",
   "execution_count": 52,
   "id": "af7588bb",
   "metadata": {
    "ExecuteTime": {
     "end_time": "2021-10-12T22:19:40.878712Z",
     "start_time": "2021-10-12T22:19:40.720104Z"
    }
   },
   "outputs": [],
   "source": [
    "df4=pd.merge(df4, df_recency[['customer_id','recency']], on = 'customer_id', how='left')"
   ]
  },
  {
   "cell_type": "code",
   "execution_count": 53,
   "id": "a4b583a4",
   "metadata": {
    "ExecuteTime": {
     "end_time": "2021-10-12T22:19:40.958466Z",
     "start_time": "2021-10-12T22:19:40.880707Z"
    }
   },
   "outputs": [
    {
     "data": {
      "text/html": [
       "<div>\n",
       "<style scoped>\n",
       "    .dataframe tbody tr th:only-of-type {\n",
       "        vertical-align: middle;\n",
       "    }\n",
       "\n",
       "    .dataframe tbody tr th {\n",
       "        vertical-align: top;\n",
       "    }\n",
       "\n",
       "    .dataframe thead th {\n",
       "        text-align: right;\n",
       "    }\n",
       "</style>\n",
       "<table border=\"1\" class=\"dataframe\">\n",
       "  <thead>\n",
       "    <tr style=\"text-align: right;\">\n",
       "      <th></th>\n",
       "      <th>invoice_no</th>\n",
       "      <th>stock_code</th>\n",
       "      <th>description</th>\n",
       "      <th>quantity</th>\n",
       "      <th>invoice_date</th>\n",
       "      <th>unit_price</th>\n",
       "      <th>customer_id</th>\n",
       "      <th>country</th>\n",
       "      <th>subtotal</th>\n",
       "      <th>avg_ticket</th>\n",
       "      <th>recency</th>\n",
       "    </tr>\n",
       "  </thead>\n",
       "  <tbody>\n",
       "    <tr>\n",
       "      <th>199486</th>\n",
       "      <td>561507</td>\n",
       "      <td>23241</td>\n",
       "      <td>TREASURE TIN GYMKHANA DESIGN</td>\n",
       "      <td>6</td>\n",
       "      <td>2017-07-25</td>\n",
       "      <td>2.08</td>\n",
       "      <td>12397</td>\n",
       "      <td>Belgium</td>\n",
       "      <td>12.48</td>\n",
       "      <td>1107.45</td>\n",
       "      <td>2.78</td>\n",
       "    </tr>\n",
       "    <tr>\n",
       "      <th>176949</th>\n",
       "      <td>558754</td>\n",
       "      <td>84692</td>\n",
       "      <td>BOX OF 24 COCKTAIL PARASOLS</td>\n",
       "      <td>6</td>\n",
       "      <td>2017-07-01</td>\n",
       "      <td>0.42</td>\n",
       "      <td>15518</td>\n",
       "      <td>United Kingdom</td>\n",
       "      <td>2.52</td>\n",
       "      <td>159.89</td>\n",
       "      <td>1.54</td>\n",
       "    </tr>\n",
       "    <tr>\n",
       "      <th>51914</th>\n",
       "      <td>543193</td>\n",
       "      <td>47559B</td>\n",
       "      <td>TEA TIME OVEN GLOVE</td>\n",
       "      <td>10</td>\n",
       "      <td>2017-02-02</td>\n",
       "      <td>1.25</td>\n",
       "      <td>13725</td>\n",
       "      <td>United Kingdom</td>\n",
       "      <td>12.50</td>\n",
       "      <td>164.53</td>\n",
       "      <td>2.00</td>\n",
       "    </tr>\n",
       "    <tr>\n",
       "      <th>184193</th>\n",
       "      <td>559684</td>\n",
       "      <td>22411</td>\n",
       "      <td>JUMBO SHOPPER VINTAGE RED PAISLEY</td>\n",
       "      <td>10</td>\n",
       "      <td>2017-07-09</td>\n",
       "      <td>2.08</td>\n",
       "      <td>14367</td>\n",
       "      <td>United Kingdom</td>\n",
       "      <td>20.80</td>\n",
       "      <td>482.52</td>\n",
       "      <td>11.11</td>\n",
       "    </tr>\n",
       "    <tr>\n",
       "      <th>373301</th>\n",
       "      <td>578420</td>\n",
       "      <td>48188</td>\n",
       "      <td>DOORMAT WELCOME PUPPIES</td>\n",
       "      <td>2</td>\n",
       "      <td>2017-11-22</td>\n",
       "      <td>8.25</td>\n",
       "      <td>16326</td>\n",
       "      <td>United Kingdom</td>\n",
       "      <td>16.50</td>\n",
       "      <td>205.73</td>\n",
       "      <td>16.67</td>\n",
       "    </tr>\n",
       "    <tr>\n",
       "      <th>82679</th>\n",
       "      <td>546912</td>\n",
       "      <td>20724</td>\n",
       "      <td>RED RETROSPOT CHARLOTTE BAG</td>\n",
       "      <td>4</td>\n",
       "      <td>2017-03-15</td>\n",
       "      <td>0.85</td>\n",
       "      <td>15861</td>\n",
       "      <td>United Kingdom</td>\n",
       "      <td>3.40</td>\n",
       "      <td>333.37</td>\n",
       "      <td>7.69</td>\n",
       "    </tr>\n",
       "    <tr>\n",
       "      <th>228939</th>\n",
       "      <td>564731</td>\n",
       "      <td>23308</td>\n",
       "      <td>SET OF 60 VINTAGE LEAF CAKE CASES</td>\n",
       "      <td>24</td>\n",
       "      <td>2017-08-26</td>\n",
       "      <td>0.55</td>\n",
       "      <td>16186</td>\n",
       "      <td>United Kingdom</td>\n",
       "      <td>13.20</td>\n",
       "      <td>307.07</td>\n",
       "      <td>4.35</td>\n",
       "    </tr>\n",
       "    <tr>\n",
       "      <th>236661</th>\n",
       "      <td>565750</td>\n",
       "      <td>21136</td>\n",
       "      <td>PAINTED METAL PEARS ASSORTED</td>\n",
       "      <td>8</td>\n",
       "      <td>2017-09-04</td>\n",
       "      <td>1.69</td>\n",
       "      <td>14208</td>\n",
       "      <td>United Kingdom</td>\n",
       "      <td>13.52</td>\n",
       "      <td>151.74</td>\n",
       "      <td>1.05</td>\n",
       "    </tr>\n",
       "    <tr>\n",
       "      <th>106338</th>\n",
       "      <td>549835</td>\n",
       "      <td>22768</td>\n",
       "      <td>FAMILY PHOTO FRAME CORNICE</td>\n",
       "      <td>16</td>\n",
       "      <td>2017-04-10</td>\n",
       "      <td>8.50</td>\n",
       "      <td>17511</td>\n",
       "      <td>United Kingdom</td>\n",
       "      <td>136.00</td>\n",
       "      <td>1958.63</td>\n",
       "      <td>33.33</td>\n",
       "    </tr>\n",
       "    <tr>\n",
       "      <th>313010</th>\n",
       "      <td>572909</td>\n",
       "      <td>22993</td>\n",
       "      <td>SET OF 4 PANTRY JELLY MOULDS</td>\n",
       "      <td>3</td>\n",
       "      <td>2017-10-24</td>\n",
       "      <td>1.25</td>\n",
       "      <td>15821</td>\n",
       "      <td>United Kingdom</td>\n",
       "      <td>3.75</td>\n",
       "      <td>285.48</td>\n",
       "      <td>2.22</td>\n",
       "    </tr>\n",
       "  </tbody>\n",
       "</table>\n",
       "</div>"
      ],
      "text/plain": [
       "       invoice_no stock_code                         description  quantity invoice_date  unit_price  customer_id         country  subtotal  avg_ticket  recency\n",
       "199486     561507      23241        TREASURE TIN GYMKHANA DESIGN         6   2017-07-25        2.08        12397         Belgium     12.48     1107.45     2.78\n",
       "176949     558754      84692         BOX OF 24 COCKTAIL PARASOLS         6   2017-07-01        0.42        15518  United Kingdom      2.52      159.89     1.54\n",
       "51914      543193     47559B                 TEA TIME OVEN GLOVE        10   2017-02-02        1.25        13725  United Kingdom     12.50      164.53     2.00\n",
       "184193     559684      22411   JUMBO SHOPPER VINTAGE RED PAISLEY        10   2017-07-09        2.08        14367  United Kingdom     20.80      482.52    11.11\n",
       "373301     578420      48188             DOORMAT WELCOME PUPPIES         2   2017-11-22        8.25        16326  United Kingdom     16.50      205.73    16.67\n",
       "82679      546912      20724         RED RETROSPOT CHARLOTTE BAG         4   2017-03-15        0.85        15861  United Kingdom      3.40      333.37     7.69\n",
       "228939     564731      23308  SET OF 60 VINTAGE LEAF CAKE CASES         24   2017-08-26        0.55        16186  United Kingdom     13.20      307.07     4.35\n",
       "236661     565750      21136        PAINTED METAL PEARS ASSORTED         8   2017-09-04        1.69        14208  United Kingdom     13.52      151.74     1.05\n",
       "106338     549835      22768          FAMILY PHOTO FRAME CORNICE        16   2017-04-10        8.50        17511  United Kingdom    136.00     1958.63    33.33\n",
       "313010     572909      22993        SET OF 4 PANTRY JELLY MOULDS         3   2017-10-24        1.25        15821  United Kingdom      3.75      285.48     2.22"
      ]
     },
     "execution_count": 53,
     "metadata": {},
     "output_type": "execute_result"
    }
   ],
   "source": [
    "df4.sample(10)"
   ]
  },
  {
   "cell_type": "markdown",
   "id": "172a6874",
   "metadata": {
    "ExecuteTime": {
     "end_time": "2021-08-24T21:02:06.126790Z",
     "start_time": "2021-08-24T21:02:06.120807Z"
    }
   },
   "source": [
    "## gross_revenue"
   ]
  },
  {
   "cell_type": "code",
   "execution_count": 54,
   "id": "2ab71dea",
   "metadata": {
    "ExecuteTime": {
     "end_time": "2021-10-12T22:19:40.974426Z",
     "start_time": "2021-10-12T22:19:40.960463Z"
    }
   },
   "outputs": [],
   "source": [
    "df_revenue = df4[['subtotal', 'customer_id']].copy()"
   ]
  },
  {
   "cell_type": "code",
   "execution_count": 55,
   "id": "42dcc5f4",
   "metadata": {
    "ExecuteTime": {
     "end_time": "2021-10-12T22:19:41.020335Z",
     "start_time": "2021-10-12T22:19:40.975423Z"
    }
   },
   "outputs": [
    {
     "data": {
      "text/html": [
       "<div>\n",
       "<style scoped>\n",
       "    .dataframe tbody tr th:only-of-type {\n",
       "        vertical-align: middle;\n",
       "    }\n",
       "\n",
       "    .dataframe tbody tr th {\n",
       "        vertical-align: top;\n",
       "    }\n",
       "\n",
       "    .dataframe thead th {\n",
       "        text-align: right;\n",
       "    }\n",
       "</style>\n",
       "<table border=\"1\" class=\"dataframe\">\n",
       "  <thead>\n",
       "    <tr style=\"text-align: right;\">\n",
       "      <th></th>\n",
       "      <th>customer_id</th>\n",
       "      <th>gross_revenue</th>\n",
       "    </tr>\n",
       "  </thead>\n",
       "  <tbody>\n",
       "    <tr>\n",
       "      <th>0</th>\n",
       "      <td>12347</td>\n",
       "      <td>4310.00</td>\n",
       "    </tr>\n",
       "    <tr>\n",
       "      <th>1</th>\n",
       "      <td>12348</td>\n",
       "      <td>1437.24</td>\n",
       "    </tr>\n",
       "    <tr>\n",
       "      <th>2</th>\n",
       "      <td>12349</td>\n",
       "      <td>1457.55</td>\n",
       "    </tr>\n",
       "    <tr>\n",
       "      <th>3</th>\n",
       "      <td>12350</td>\n",
       "      <td>294.40</td>\n",
       "    </tr>\n",
       "    <tr>\n",
       "      <th>4</th>\n",
       "      <td>12352</td>\n",
       "      <td>1265.41</td>\n",
       "    </tr>\n",
       "  </tbody>\n",
       "</table>\n",
       "</div>"
      ],
      "text/plain": [
       "   customer_id  gross_revenue\n",
       "0        12347        4310.00\n",
       "1        12348        1437.24\n",
       "2        12349        1457.55\n",
       "3        12350         294.40\n",
       "4        12352        1265.41"
      ]
     },
     "execution_count": 55,
     "metadata": {},
     "output_type": "execute_result"
    }
   ],
   "source": [
    "df_revenue = df_revenue.groupby('customer_id').sum().reset_index() #total per customer\n",
    "df_revenue.rename(columns = {'subtotal':'gross_revenue'}, inplace = True)\n",
    "df_revenue.head()"
   ]
  },
  {
   "cell_type": "code",
   "execution_count": 56,
   "id": "16727f93",
   "metadata": {
    "ExecuteTime": {
     "end_time": "2021-10-12T22:19:41.209963Z",
     "start_time": "2021-10-12T22:19:41.021299Z"
    }
   },
   "outputs": [],
   "source": [
    "df4 = pd.merge(df4, df_revenue, on='customer_id', how='left')"
   ]
  },
  {
   "cell_type": "code",
   "execution_count": 57,
   "id": "631ad101",
   "metadata": {
    "ExecuteTime": {
     "end_time": "2021-10-12T22:19:41.241718Z",
     "start_time": "2021-10-12T22:19:41.211790Z"
    }
   },
   "outputs": [
    {
     "data": {
      "text/html": [
       "<div>\n",
       "<style scoped>\n",
       "    .dataframe tbody tr th:only-of-type {\n",
       "        vertical-align: middle;\n",
       "    }\n",
       "\n",
       "    .dataframe tbody tr th {\n",
       "        vertical-align: top;\n",
       "    }\n",
       "\n",
       "    .dataframe thead th {\n",
       "        text-align: right;\n",
       "    }\n",
       "</style>\n",
       "<table border=\"1\" class=\"dataframe\">\n",
       "  <thead>\n",
       "    <tr style=\"text-align: right;\">\n",
       "      <th></th>\n",
       "      <th>invoice_no</th>\n",
       "      <th>stock_code</th>\n",
       "      <th>description</th>\n",
       "      <th>quantity</th>\n",
       "      <th>invoice_date</th>\n",
       "      <th>unit_price</th>\n",
       "      <th>customer_id</th>\n",
       "      <th>country</th>\n",
       "      <th>subtotal</th>\n",
       "      <th>avg_ticket</th>\n",
       "      <th>recency</th>\n",
       "      <th>gross_revenue</th>\n",
       "    </tr>\n",
       "  </thead>\n",
       "  <tbody>\n",
       "    <tr>\n",
       "      <th>0</th>\n",
       "      <td>536365</td>\n",
       "      <td>85123A</td>\n",
       "      <td>WHITE HANGING HEART T-LIGHT HOLDER</td>\n",
       "      <td>6</td>\n",
       "      <td>2016-11-29</td>\n",
       "      <td>2.55</td>\n",
       "      <td>17850</td>\n",
       "      <td>United Kingdom</td>\n",
       "      <td>15.30</td>\n",
       "      <td>151.10</td>\n",
       "      <td>0.33</td>\n",
       "      <td>5288.63</td>\n",
       "    </tr>\n",
       "    <tr>\n",
       "      <th>1</th>\n",
       "      <td>536365</td>\n",
       "      <td>71053</td>\n",
       "      <td>WHITE METAL LANTERN</td>\n",
       "      <td>6</td>\n",
       "      <td>2016-11-29</td>\n",
       "      <td>3.39</td>\n",
       "      <td>17850</td>\n",
       "      <td>United Kingdom</td>\n",
       "      <td>20.34</td>\n",
       "      <td>151.10</td>\n",
       "      <td>0.33</td>\n",
       "      <td>5288.63</td>\n",
       "    </tr>\n",
       "    <tr>\n",
       "      <th>2</th>\n",
       "      <td>536365</td>\n",
       "      <td>84406B</td>\n",
       "      <td>CREAM CUPID HEARTS COAT HANGER</td>\n",
       "      <td>8</td>\n",
       "      <td>2016-11-29</td>\n",
       "      <td>2.75</td>\n",
       "      <td>17850</td>\n",
       "      <td>United Kingdom</td>\n",
       "      <td>22.00</td>\n",
       "      <td>151.10</td>\n",
       "      <td>0.33</td>\n",
       "      <td>5288.63</td>\n",
       "    </tr>\n",
       "    <tr>\n",
       "      <th>3</th>\n",
       "      <td>536365</td>\n",
       "      <td>84029G</td>\n",
       "      <td>KNITTED UNION FLAG HOT WATER BOTTLE</td>\n",
       "      <td>6</td>\n",
       "      <td>2016-11-29</td>\n",
       "      <td>3.39</td>\n",
       "      <td>17850</td>\n",
       "      <td>United Kingdom</td>\n",
       "      <td>20.34</td>\n",
       "      <td>151.10</td>\n",
       "      <td>0.33</td>\n",
       "      <td>5288.63</td>\n",
       "    </tr>\n",
       "    <tr>\n",
       "      <th>4</th>\n",
       "      <td>536365</td>\n",
       "      <td>84029E</td>\n",
       "      <td>RED WOOLLY HOTTIE WHITE HEART.</td>\n",
       "      <td>6</td>\n",
       "      <td>2016-11-29</td>\n",
       "      <td>3.39</td>\n",
       "      <td>17850</td>\n",
       "      <td>United Kingdom</td>\n",
       "      <td>20.34</td>\n",
       "      <td>151.10</td>\n",
       "      <td>0.33</td>\n",
       "      <td>5288.63</td>\n",
       "    </tr>\n",
       "  </tbody>\n",
       "</table>\n",
       "</div>"
      ],
      "text/plain": [
       "  invoice_no stock_code                          description  quantity invoice_date  unit_price  customer_id         country  subtotal  avg_ticket  recency  gross_revenue\n",
       "0     536365     85123A   WHITE HANGING HEART T-LIGHT HOLDER         6   2016-11-29        2.55        17850  United Kingdom     15.30      151.10     0.33        5288.63\n",
       "1     536365      71053                  WHITE METAL LANTERN         6   2016-11-29        3.39        17850  United Kingdom     20.34      151.10     0.33        5288.63\n",
       "2     536365     84406B       CREAM CUPID HEARTS COAT HANGER         8   2016-11-29        2.75        17850  United Kingdom     22.00      151.10     0.33        5288.63\n",
       "3     536365     84029G  KNITTED UNION FLAG HOT WATER BOTTLE         6   2016-11-29        3.39        17850  United Kingdom     20.34      151.10     0.33        5288.63\n",
       "4     536365     84029E       RED WOOLLY HOTTIE WHITE HEART.         6   2016-11-29        3.39        17850  United Kingdom     20.34      151.10     0.33        5288.63"
      ]
     },
     "execution_count": 57,
     "metadata": {},
     "output_type": "execute_result"
    }
   ],
   "source": [
    "df4.head()"
   ]
  },
  {
   "cell_type": "markdown",
   "id": "19a299ba",
   "metadata": {
    "ExecuteTime": {
     "end_time": "2021-09-03T18:32:19.434219Z",
     "start_time": "2021-09-03T18:32:19.423207Z"
    }
   },
   "source": [
    "## Frequency"
   ]
  },
  {
   "cell_type": "code",
   "execution_count": 58,
   "id": "970490e5",
   "metadata": {
    "ExecuteTime": {
     "end_time": "2021-10-12T22:19:41.303598Z",
     "start_time": "2021-10-12T22:19:41.242716Z"
    }
   },
   "outputs": [],
   "source": [
    "df_frequency = df4[['customer_id', 'invoice_no']]"
   ]
  },
  {
   "cell_type": "code",
   "execution_count": 59,
   "id": "81eb21d6",
   "metadata": {
    "ExecuteTime": {
     "end_time": "2021-10-12T22:19:41.349431Z",
     "start_time": "2021-10-12T22:19:41.304550Z"
    }
   },
   "outputs": [],
   "source": [
    "df_frequency = df_frequency.drop_duplicates(subset = 'invoice_no')\n",
    "df_frequency = df_frequency.groupby('customer_id').count().reset_index() # number of purchases for customer within the dataset"
   ]
  },
  {
   "cell_type": "code",
   "execution_count": 60,
   "id": "33970b72",
   "metadata": {
    "ExecuteTime": {
     "end_time": "2021-10-12T22:19:41.364393Z",
     "start_time": "2021-10-12T22:19:41.352468Z"
    }
   },
   "outputs": [],
   "source": [
    "df_frequency.rename(columns={'invoice_no':'frequency'}, inplace = True)"
   ]
  },
  {
   "cell_type": "code",
   "execution_count": 61,
   "id": "68a3657f",
   "metadata": {
    "ExecuteTime": {
     "end_time": "2021-10-12T22:19:41.536959Z",
     "start_time": "2021-10-12T22:19:41.365388Z"
    }
   },
   "outputs": [],
   "source": [
    "df4 = pd.merge(df4, df_frequency, on='customer_id', how = 'left')"
   ]
  },
  {
   "cell_type": "code",
   "execution_count": 62,
   "id": "fd8ee0c2",
   "metadata": {
    "ExecuteTime": {
     "end_time": "2021-10-12T22:19:41.552237Z",
     "start_time": "2021-10-12T22:19:41.538004Z"
    },
    "scrolled": true
   },
   "outputs": [
    {
     "data": {
      "text/html": [
       "<div>\n",
       "<style scoped>\n",
       "    .dataframe tbody tr th:only-of-type {\n",
       "        vertical-align: middle;\n",
       "    }\n",
       "\n",
       "    .dataframe tbody tr th {\n",
       "        vertical-align: top;\n",
       "    }\n",
       "\n",
       "    .dataframe thead th {\n",
       "        text-align: right;\n",
       "    }\n",
       "</style>\n",
       "<table border=\"1\" class=\"dataframe\">\n",
       "  <thead>\n",
       "    <tr style=\"text-align: right;\">\n",
       "      <th></th>\n",
       "      <th>invoice_no</th>\n",
       "      <th>stock_code</th>\n",
       "      <th>description</th>\n",
       "      <th>quantity</th>\n",
       "      <th>invoice_date</th>\n",
       "      <th>unit_price</th>\n",
       "      <th>customer_id</th>\n",
       "      <th>country</th>\n",
       "      <th>subtotal</th>\n",
       "      <th>avg_ticket</th>\n",
       "      <th>recency</th>\n",
       "      <th>gross_revenue</th>\n",
       "      <th>frequency</th>\n",
       "    </tr>\n",
       "  </thead>\n",
       "  <tbody>\n",
       "    <tr>\n",
       "      <th>0</th>\n",
       "      <td>536365</td>\n",
       "      <td>85123A</td>\n",
       "      <td>WHITE HANGING HEART T-LIGHT HOLDER</td>\n",
       "      <td>6</td>\n",
       "      <td>2016-11-29</td>\n",
       "      <td>2.55</td>\n",
       "      <td>17850</td>\n",
       "      <td>United Kingdom</td>\n",
       "      <td>15.30</td>\n",
       "      <td>151.10</td>\n",
       "      <td>0.33</td>\n",
       "      <td>5288.63</td>\n",
       "      <td>35</td>\n",
       "    </tr>\n",
       "    <tr>\n",
       "      <th>1</th>\n",
       "      <td>536365</td>\n",
       "      <td>71053</td>\n",
       "      <td>WHITE METAL LANTERN</td>\n",
       "      <td>6</td>\n",
       "      <td>2016-11-29</td>\n",
       "      <td>3.39</td>\n",
       "      <td>17850</td>\n",
       "      <td>United Kingdom</td>\n",
       "      <td>20.34</td>\n",
       "      <td>151.10</td>\n",
       "      <td>0.33</td>\n",
       "      <td>5288.63</td>\n",
       "      <td>35</td>\n",
       "    </tr>\n",
       "    <tr>\n",
       "      <th>2</th>\n",
       "      <td>536365</td>\n",
       "      <td>84406B</td>\n",
       "      <td>CREAM CUPID HEARTS COAT HANGER</td>\n",
       "      <td>8</td>\n",
       "      <td>2016-11-29</td>\n",
       "      <td>2.75</td>\n",
       "      <td>17850</td>\n",
       "      <td>United Kingdom</td>\n",
       "      <td>22.00</td>\n",
       "      <td>151.10</td>\n",
       "      <td>0.33</td>\n",
       "      <td>5288.63</td>\n",
       "      <td>35</td>\n",
       "    </tr>\n",
       "    <tr>\n",
       "      <th>3</th>\n",
       "      <td>536365</td>\n",
       "      <td>84029G</td>\n",
       "      <td>KNITTED UNION FLAG HOT WATER BOTTLE</td>\n",
       "      <td>6</td>\n",
       "      <td>2016-11-29</td>\n",
       "      <td>3.39</td>\n",
       "      <td>17850</td>\n",
       "      <td>United Kingdom</td>\n",
       "      <td>20.34</td>\n",
       "      <td>151.10</td>\n",
       "      <td>0.33</td>\n",
       "      <td>5288.63</td>\n",
       "      <td>35</td>\n",
       "    </tr>\n",
       "    <tr>\n",
       "      <th>4</th>\n",
       "      <td>536365</td>\n",
       "      <td>84029E</td>\n",
       "      <td>RED WOOLLY HOTTIE WHITE HEART.</td>\n",
       "      <td>6</td>\n",
       "      <td>2016-11-29</td>\n",
       "      <td>3.39</td>\n",
       "      <td>17850</td>\n",
       "      <td>United Kingdom</td>\n",
       "      <td>20.34</td>\n",
       "      <td>151.10</td>\n",
       "      <td>0.33</td>\n",
       "      <td>5288.63</td>\n",
       "      <td>35</td>\n",
       "    </tr>\n",
       "  </tbody>\n",
       "</table>\n",
       "</div>"
      ],
      "text/plain": [
       "  invoice_no stock_code                          description  quantity invoice_date  unit_price  customer_id         country  subtotal  avg_ticket  recency  gross_revenue  frequency\n",
       "0     536365     85123A   WHITE HANGING HEART T-LIGHT HOLDER         6   2016-11-29        2.55        17850  United Kingdom     15.30      151.10     0.33        5288.63         35\n",
       "1     536365      71053                  WHITE METAL LANTERN         6   2016-11-29        3.39        17850  United Kingdom     20.34      151.10     0.33        5288.63         35\n",
       "2     536365     84406B       CREAM CUPID HEARTS COAT HANGER         8   2016-11-29        2.75        17850  United Kingdom     22.00      151.10     0.33        5288.63         35\n",
       "3     536365     84029G  KNITTED UNION FLAG HOT WATER BOTTLE         6   2016-11-29        3.39        17850  United Kingdom     20.34      151.10     0.33        5288.63         35\n",
       "4     536365     84029E       RED WOOLLY HOTTIE WHITE HEART.         6   2016-11-29        3.39        17850  United Kingdom     20.34      151.10     0.33        5288.63         35"
      ]
     },
     "execution_count": 62,
     "metadata": {},
     "output_type": "execute_result"
    }
   ],
   "source": [
    "df4.head()"
   ]
  },
  {
   "cell_type": "markdown",
   "id": "2aa0169b",
   "metadata": {
    "ExecuteTime": {
     "end_time": "2021-10-07T14:02:53.355088Z",
     "start_time": "2021-10-07T14:02:53.340131Z"
    }
   },
   "source": [
    "# Data Filtering"
   ]
  },
  {
   "cell_type": "code",
   "execution_count": 63,
   "id": "5dccdbff",
   "metadata": {
    "ExecuteTime": {
     "end_time": "2021-10-12T22:19:41.630029Z",
     "start_time": "2021-10-12T22:19:41.553234Z"
    }
   },
   "outputs": [],
   "source": [
    "df5 = df4.copy()"
   ]
  },
  {
   "cell_type": "code",
   "execution_count": 64,
   "id": "489cda46",
   "metadata": {
    "ExecuteTime": {
     "end_time": "2021-10-12T22:19:41.646028Z",
     "start_time": "2021-10-12T22:19:41.632024Z"
    }
   },
   "outputs": [
    {
     "data": {
      "text/plain": [
       "invoice_no               object\n",
       "stock_code               object\n",
       "description              object\n",
       "quantity                  int64\n",
       "invoice_date     datetime64[ns]\n",
       "unit_price              float64\n",
       "customer_id               int64\n",
       "country                  object\n",
       "subtotal                float64\n",
       "avg_ticket              float64\n",
       "recency                 float64\n",
       "gross_revenue           float64\n",
       "frequency                 int64\n",
       "dtype: object"
      ]
     },
     "execution_count": 64,
     "metadata": {},
     "output_type": "execute_result"
    }
   ],
   "source": [
    "df5.dtypes"
   ]
  },
  {
   "cell_type": "code",
   "execution_count": 65,
   "id": "a62535a6",
   "metadata": {
    "ExecuteTime": {
     "end_time": "2021-10-12T22:19:41.676549Z",
     "start_time": "2021-10-12T22:19:41.647982Z"
    }
   },
   "outputs": [],
   "source": [
    "df5.drop(columns = ['stock_code','country','description','quantity','unit_price' ,'subtotal','invoice_date','invoice_no'], axis = 1, inplace = True) # we don't need this features"
   ]
  },
  {
   "cell_type": "code",
   "execution_count": 66,
   "id": "2b34da21",
   "metadata": {
    "ExecuteTime": {
     "end_time": "2021-10-12T22:19:41.724461Z",
     "start_time": "2021-10-12T22:19:41.678545Z"
    },
    "scrolled": false
   },
   "outputs": [
    {
     "data": {
      "text/html": [
       "<div>\n",
       "<style scoped>\n",
       "    .dataframe tbody tr th:only-of-type {\n",
       "        vertical-align: middle;\n",
       "    }\n",
       "\n",
       "    .dataframe tbody tr th {\n",
       "        vertical-align: top;\n",
       "    }\n",
       "\n",
       "    .dataframe thead th {\n",
       "        text-align: right;\n",
       "    }\n",
       "</style>\n",
       "<table border=\"1\" class=\"dataframe\">\n",
       "  <thead>\n",
       "    <tr style=\"text-align: right;\">\n",
       "      <th></th>\n",
       "      <th>customer_id</th>\n",
       "      <th>avg_ticket</th>\n",
       "      <th>recency</th>\n",
       "      <th>gross_revenue</th>\n",
       "      <th>frequency</th>\n",
       "    </tr>\n",
       "  </thead>\n",
       "  <tbody>\n",
       "    <tr>\n",
       "      <th>0</th>\n",
       "      <td>17850</td>\n",
       "      <td>151.10</td>\n",
       "      <td>0.33</td>\n",
       "      <td>5288.63</td>\n",
       "      <td>35</td>\n",
       "    </tr>\n",
       "    <tr>\n",
       "      <th>1</th>\n",
       "      <td>13047</td>\n",
       "      <td>193.07</td>\n",
       "      <td>2.13</td>\n",
       "      <td>3089.10</td>\n",
       "      <td>16</td>\n",
       "    </tr>\n",
       "    <tr>\n",
       "      <th>2</th>\n",
       "      <td>12583</td>\n",
       "      <td>389.96</td>\n",
       "      <td>33.33</td>\n",
       "      <td>6629.34</td>\n",
       "      <td>17</td>\n",
       "    </tr>\n",
       "    <tr>\n",
       "      <th>3</th>\n",
       "      <td>13748</td>\n",
       "      <td>189.65</td>\n",
       "      <td>1.04</td>\n",
       "      <td>948.25</td>\n",
       "      <td>5</td>\n",
       "    </tr>\n",
       "    <tr>\n",
       "      <th>4</th>\n",
       "      <td>15100</td>\n",
       "      <td>105.85</td>\n",
       "      <td>0.30</td>\n",
       "      <td>635.10</td>\n",
       "      <td>6</td>\n",
       "    </tr>\n",
       "  </tbody>\n",
       "</table>\n",
       "</div>"
      ],
      "text/plain": [
       "   customer_id  avg_ticket  recency  gross_revenue  frequency\n",
       "0        17850      151.10     0.33        5288.63         35\n",
       "1        13047      193.07     2.13        3089.10         16\n",
       "2        12583      389.96    33.33        6629.34         17\n",
       "3        13748      189.65     1.04         948.25          5\n",
       "4        15100      105.85     0.30         635.10          6"
      ]
     },
     "execution_count": 66,
     "metadata": {},
     "output_type": "execute_result"
    }
   ],
   "source": [
    "df5.drop_duplicates(subset = 'customer_id', inplace = True)\n",
    "df5 = df5.reset_index(drop=True)\n",
    "df5.head()"
   ]
  },
  {
   "cell_type": "code",
   "execution_count": 67,
   "id": "d0e3c3d2",
   "metadata": {
    "ExecuteTime": {
     "end_time": "2021-10-12T22:19:41.740379Z",
     "start_time": "2021-10-12T22:19:41.725418Z"
    }
   },
   "outputs": [],
   "source": [
    "# Filter customer with very low gross revenue"
   ]
  },
  {
   "cell_type": "code",
   "execution_count": 68,
   "id": "438b6ac7",
   "metadata": {
    "ExecuteTime": {
     "end_time": "2021-10-12T22:19:41.756337Z",
     "start_time": "2021-10-12T22:19:41.748359Z"
    }
   },
   "outputs": [],
   "source": [
    "df5.drop(df5[df5['gross_revenue'] < 1].index, inplace = True)"
   ]
  },
  {
   "cell_type": "markdown",
   "id": "886bbdf7",
   "metadata": {
    "ExecuteTime": {
     "end_time": "2021-09-03T18:27:12.113617Z",
     "start_time": "2021-09-03T18:27:12.099655Z"
    }
   },
   "source": [
    "# Exploratory data analysis (EDA)"
   ]
  },
  {
   "cell_type": "code",
   "execution_count": 69,
   "id": "86bb762a",
   "metadata": {
    "ExecuteTime": {
     "end_time": "2021-10-12T22:19:41.772325Z",
     "start_time": "2021-10-12T22:19:41.757333Z"
    }
   },
   "outputs": [],
   "source": [
    "df6 = df5.copy()"
   ]
  },
  {
   "cell_type": "code",
   "execution_count": 70,
   "id": "ef881811",
   "metadata": {
    "ExecuteTime": {
     "end_time": "2021-10-12T22:19:41.788291Z",
     "start_time": "2021-10-12T22:19:41.773291Z"
    }
   },
   "outputs": [],
   "source": [
    "#profile = ProfileReport(df6)\n",
    "#profile.to_file(r'../reports/profile_report.html')"
   ]
  },
  {
   "cell_type": "code",
   "execution_count": 71,
   "id": "874b7c8c",
   "metadata": {
    "ExecuteTime": {
     "end_time": "2021-10-12T22:19:41.820165Z",
     "start_time": "2021-10-12T22:19:41.789248Z"
    }
   },
   "outputs": [
    {
     "data": {
      "text/html": [
       "<div>\n",
       "<style scoped>\n",
       "    .dataframe tbody tr th:only-of-type {\n",
       "        vertical-align: middle;\n",
       "    }\n",
       "\n",
       "    .dataframe tbody tr th {\n",
       "        vertical-align: top;\n",
       "    }\n",
       "\n",
       "    .dataframe thead th {\n",
       "        text-align: right;\n",
       "    }\n",
       "</style>\n",
       "<table border=\"1\" class=\"dataframe\">\n",
       "  <thead>\n",
       "    <tr style=\"text-align: right;\">\n",
       "      <th></th>\n",
       "      <th>count</th>\n",
       "      <th>mean</th>\n",
       "      <th>std</th>\n",
       "      <th>min</th>\n",
       "      <th>25%</th>\n",
       "      <th>50%</th>\n",
       "      <th>75%</th>\n",
       "      <th>max</th>\n",
       "    </tr>\n",
       "  </thead>\n",
       "  <tbody>\n",
       "    <tr>\n",
       "      <th>customer_id</th>\n",
       "      <td>4316.00</td>\n",
       "      <td>15299.53</td>\n",
       "      <td>1720.00</td>\n",
       "      <td>12347.00</td>\n",
       "      <td>13814.75</td>\n",
       "      <td>15298.50</td>\n",
       "      <td>16777.25</td>\n",
       "      <td>18287.00</td>\n",
       "    </tr>\n",
       "    <tr>\n",
       "      <th>avg_ticket</th>\n",
       "      <td>4316.00</td>\n",
       "      <td>326.55</td>\n",
       "      <td>390.51</td>\n",
       "      <td>0.97</td>\n",
       "      <td>154.99</td>\n",
       "      <td>241.05</td>\n",
       "      <td>372.20</td>\n",
       "      <td>9904.88</td>\n",
       "    </tr>\n",
       "    <tr>\n",
       "      <th>recency</th>\n",
       "      <td>4316.00</td>\n",
       "      <td>6.77</td>\n",
       "      <td>13.23</td>\n",
       "      <td>0.27</td>\n",
       "      <td>0.72</td>\n",
       "      <td>2.00</td>\n",
       "      <td>5.88</td>\n",
       "      <td>100.00</td>\n",
       "    </tr>\n",
       "    <tr>\n",
       "      <th>gross_revenue</th>\n",
       "      <td>4316.00</td>\n",
       "      <td>1922.41</td>\n",
       "      <td>8324.49</td>\n",
       "      <td>2.90</td>\n",
       "      <td>301.00</td>\n",
       "      <td>656.00</td>\n",
       "      <td>1611.72</td>\n",
       "      <td>278778.02</td>\n",
       "    </tr>\n",
       "    <tr>\n",
       "      <th>frequency</th>\n",
       "      <td>4316.00</td>\n",
       "      <td>5.03</td>\n",
       "      <td>9.14</td>\n",
       "      <td>1.00</td>\n",
       "      <td>1.00</td>\n",
       "      <td>3.00</td>\n",
       "      <td>5.00</td>\n",
       "      <td>243.00</td>\n",
       "    </tr>\n",
       "  </tbody>\n",
       "</table>\n",
       "</div>"
      ],
      "text/plain": [
       "                count     mean     std      min      25%      50%      75%       max\n",
       "customer_id   4316.00 15299.53 1720.00 12347.00 13814.75 15298.50 16777.25  18287.00\n",
       "avg_ticket    4316.00   326.55  390.51     0.97   154.99   241.05   372.20   9904.88\n",
       "recency       4316.00     6.77   13.23     0.27     0.72     2.00     5.88    100.00\n",
       "gross_revenue 4316.00  1922.41 8324.49     2.90   301.00   656.00  1611.72 278778.02\n",
       "frequency     4316.00     5.03    9.14     1.00     1.00     3.00     5.00    243.00"
      ]
     },
     "execution_count": 71,
     "metadata": {},
     "output_type": "execute_result"
    }
   ],
   "source": [
    "df6.describe().T"
   ]
  },
  {
   "cell_type": "markdown",
   "id": "a921a62c",
   "metadata": {},
   "source": [
    "## Descriptive Statistics"
   ]
  },
  {
   "cell_type": "code",
   "execution_count": 72,
   "id": "acaa463e",
   "metadata": {
    "ExecuteTime": {
     "end_time": "2021-10-12T22:19:41.836124Z",
     "start_time": "2021-10-12T22:19:41.821164Z"
    }
   },
   "outputs": [],
   "source": [
    "num_attributes = df6.drop(columns = ['customer_id'], axis = 1)"
   ]
  },
  {
   "cell_type": "code",
   "execution_count": 73,
   "id": "e2b40491",
   "metadata": {
    "ExecuteTime": {
     "end_time": "2021-10-12T22:19:41.868040Z",
     "start_time": "2021-10-12T22:19:41.837120Z"
    }
   },
   "outputs": [],
   "source": [
    "#central tendency - mean, median\n",
    "ct1 = pd.DataFrame ( num_attributes.apply (np.mean) ).T\n",
    "ct2 = pd.DataFrame ( num_attributes.apply (np.median)).T\n",
    "                    \n",
    "# dispersion - desvio padrão, mínimo, máximo, range, skew, kurtosis\n",
    "d1 = pd.DataFrame ( num_attributes.apply (np.std)).T\n",
    "d2 = pd.DataFrame ( num_attributes.apply (np.min)).T\n",
    "d3 = pd.DataFrame ( num_attributes.apply (np.max)).T\n",
    "d4 = pd.DataFrame ( num_attributes.apply (lambda x: x.max() - x.min())).T\n",
    "d5 = pd.DataFrame ( num_attributes.apply (lambda x: x.skew() )).T\n",
    "d6 = pd.DataFrame ( num_attributes.apply (lambda x: x.kurtosis() ) ).T\n",
    "\n",
    "#concatenate\n",
    "\n",
    "df_metrics = pd.concat ([d2,d3,d4,ct1,ct2,d1,d5,d6]).T.reset_index()\n",
    "df_metrics.columns = ['attributes', 'min.','max','range', 'mean', 'median', 'std', 'skew', 'kurtosis']"
   ]
  },
  {
   "cell_type": "code",
   "execution_count": 74,
   "id": "c0d90a38",
   "metadata": {
    "ExecuteTime": {
     "end_time": "2021-10-12T22:19:41.884026Z",
     "start_time": "2021-10-12T22:19:41.871030Z"
    }
   },
   "outputs": [
    {
     "data": {
      "text/html": [
       "<div>\n",
       "<style scoped>\n",
       "    .dataframe tbody tr th:only-of-type {\n",
       "        vertical-align: middle;\n",
       "    }\n",
       "\n",
       "    .dataframe tbody tr th {\n",
       "        vertical-align: top;\n",
       "    }\n",
       "\n",
       "    .dataframe thead th {\n",
       "        text-align: right;\n",
       "    }\n",
       "</style>\n",
       "<table border=\"1\" class=\"dataframe\">\n",
       "  <thead>\n",
       "    <tr style=\"text-align: right;\">\n",
       "      <th></th>\n",
       "      <th>attributes</th>\n",
       "      <th>min.</th>\n",
       "      <th>max</th>\n",
       "      <th>range</th>\n",
       "      <th>mean</th>\n",
       "      <th>median</th>\n",
       "      <th>std</th>\n",
       "      <th>skew</th>\n",
       "      <th>kurtosis</th>\n",
       "    </tr>\n",
       "  </thead>\n",
       "  <tbody>\n",
       "    <tr>\n",
       "      <th>0</th>\n",
       "      <td>avg_ticket</td>\n",
       "      <td>0.97</td>\n",
       "      <td>9904.88</td>\n",
       "      <td>9903.91</td>\n",
       "      <td>326.55</td>\n",
       "      <td>241.05</td>\n",
       "      <td>390.47</td>\n",
       "      <td>8.85</td>\n",
       "      <td>136.17</td>\n",
       "    </tr>\n",
       "    <tr>\n",
       "      <th>1</th>\n",
       "      <td>recency</td>\n",
       "      <td>0.27</td>\n",
       "      <td>100.00</td>\n",
       "      <td>99.73</td>\n",
       "      <td>6.77</td>\n",
       "      <td>2.00</td>\n",
       "      <td>13.23</td>\n",
       "      <td>4.15</td>\n",
       "      <td>21.68</td>\n",
       "    </tr>\n",
       "    <tr>\n",
       "      <th>2</th>\n",
       "      <td>gross_revenue</td>\n",
       "      <td>2.90</td>\n",
       "      <td>278778.02</td>\n",
       "      <td>278775.12</td>\n",
       "      <td>1922.41</td>\n",
       "      <td>656.00</td>\n",
       "      <td>8323.52</td>\n",
       "      <td>21.50</td>\n",
       "      <td>595.24</td>\n",
       "    </tr>\n",
       "    <tr>\n",
       "      <th>3</th>\n",
       "      <td>frequency</td>\n",
       "      <td>1.00</td>\n",
       "      <td>243.00</td>\n",
       "      <td>242.00</td>\n",
       "      <td>5.03</td>\n",
       "      <td>3.00</td>\n",
       "      <td>9.14</td>\n",
       "      <td>11.43</td>\n",
       "      <td>221.90</td>\n",
       "    </tr>\n",
       "  </tbody>\n",
       "</table>\n",
       "</div>"
      ],
      "text/plain": [
       "      attributes  min.       max     range    mean  median     std  skew  kurtosis\n",
       "0     avg_ticket  0.97   9904.88   9903.91  326.55  241.05  390.47  8.85    136.17\n",
       "1        recency  0.27    100.00     99.73    6.77    2.00   13.23  4.15     21.68\n",
       "2  gross_revenue  2.90 278778.02 278775.12 1922.41  656.00 8323.52 21.50    595.24\n",
       "3      frequency  1.00    243.00    242.00    5.03    3.00    9.14 11.43    221.90"
      ]
     },
     "execution_count": 74,
     "metadata": {},
     "output_type": "execute_result"
    }
   ],
   "source": [
    "df_metrics"
   ]
  },
  {
   "cell_type": "markdown",
   "id": "16351db3",
   "metadata": {},
   "source": [
    "# <font color='red'>Data Preparation"
   ]
  },
  {
   "cell_type": "code",
   "execution_count": 75,
   "id": "5230f1bf",
   "metadata": {
    "ExecuteTime": {
     "end_time": "2021-10-12T22:19:41.899987Z",
     "start_time": "2021-10-12T22:19:41.885989Z"
    }
   },
   "outputs": [],
   "source": [
    "df7 = df6.copy()"
   ]
  },
  {
   "cell_type": "code",
   "execution_count": 76,
   "id": "c56736cf",
   "metadata": {
    "ExecuteTime": {
     "end_time": "2021-10-12T22:19:41.930910Z",
     "start_time": "2021-10-12T22:19:41.900949Z"
    }
   },
   "outputs": [],
   "source": [
    "ss = pp.StandardScaler()\n",
    "df7['avg_ticket']    = ss.fit_transform (df7[['avg_ticket']])\n",
    "df7['recency']       = ss.fit_transform (df7[['recency']])\n",
    "df7['gross_revenue'] = ss.fit_transform (df7[['gross_revenue']])\n",
    "df7['frequency']     = ss.fit_transform (df7[['frequency']])"
   ]
  },
  {
   "cell_type": "code",
   "execution_count": 77,
   "id": "c91b72f6",
   "metadata": {
    "ExecuteTime": {
     "end_time": "2021-10-12T22:19:41.946828Z",
     "start_time": "2021-10-12T22:19:41.931866Z"
    }
   },
   "outputs": [
    {
     "data": {
      "text/html": [
       "<div>\n",
       "<style scoped>\n",
       "    .dataframe tbody tr th:only-of-type {\n",
       "        vertical-align: middle;\n",
       "    }\n",
       "\n",
       "    .dataframe tbody tr th {\n",
       "        vertical-align: top;\n",
       "    }\n",
       "\n",
       "    .dataframe thead th {\n",
       "        text-align: right;\n",
       "    }\n",
       "</style>\n",
       "<table border=\"1\" class=\"dataframe\">\n",
       "  <thead>\n",
       "    <tr style=\"text-align: right;\">\n",
       "      <th></th>\n",
       "      <th>customer_id</th>\n",
       "      <th>avg_ticket</th>\n",
       "      <th>recency</th>\n",
       "      <th>gross_revenue</th>\n",
       "      <th>frequency</th>\n",
       "    </tr>\n",
       "  </thead>\n",
       "  <tbody>\n",
       "    <tr>\n",
       "      <th>0</th>\n",
       "      <td>17850</td>\n",
       "      <td>-0.45</td>\n",
       "      <td>-0.49</td>\n",
       "      <td>0.40</td>\n",
       "      <td>3.28</td>\n",
       "    </tr>\n",
       "    <tr>\n",
       "      <th>1</th>\n",
       "      <td>13047</td>\n",
       "      <td>-0.34</td>\n",
       "      <td>-0.35</td>\n",
       "      <td>0.14</td>\n",
       "      <td>1.20</td>\n",
       "    </tr>\n",
       "    <tr>\n",
       "      <th>2</th>\n",
       "      <td>12583</td>\n",
       "      <td>0.16</td>\n",
       "      <td>2.01</td>\n",
       "      <td>0.57</td>\n",
       "      <td>1.31</td>\n",
       "    </tr>\n",
       "    <tr>\n",
       "      <th>3</th>\n",
       "      <td>13748</td>\n",
       "      <td>-0.35</td>\n",
       "      <td>-0.43</td>\n",
       "      <td>-0.12</td>\n",
       "      <td>-0.00</td>\n",
       "    </tr>\n",
       "    <tr>\n",
       "      <th>4</th>\n",
       "      <td>15100</td>\n",
       "      <td>-0.57</td>\n",
       "      <td>-0.49</td>\n",
       "      <td>-0.15</td>\n",
       "      <td>0.11</td>\n",
       "    </tr>\n",
       "  </tbody>\n",
       "</table>\n",
       "</div>"
      ],
      "text/plain": [
       "   customer_id  avg_ticket  recency  gross_revenue  frequency\n",
       "0        17850       -0.45    -0.49           0.40       3.28\n",
       "1        13047       -0.34    -0.35           0.14       1.20\n",
       "2        12583        0.16     2.01           0.57       1.31\n",
       "3        13748       -0.35    -0.43          -0.12      -0.00\n",
       "4        15100       -0.57    -0.49          -0.15       0.11"
      ]
     },
     "execution_count": 77,
     "metadata": {},
     "output_type": "execute_result"
    }
   ],
   "source": [
    "df7.head()"
   ]
  },
  {
   "cell_type": "markdown",
   "id": "e54ab74b",
   "metadata": {},
   "source": [
    "# <font color='red'>Feature Selection"
   ]
  },
  {
   "cell_type": "code",
   "execution_count": 78,
   "id": "bc153c9e",
   "metadata": {
    "ExecuteTime": {
     "end_time": "2021-10-12T22:19:41.961787Z",
     "start_time": "2021-10-12T22:19:41.947826Z"
    }
   },
   "outputs": [],
   "source": [
    "df8 = df7.copy()"
   ]
  },
  {
   "cell_type": "code",
   "execution_count": 79,
   "id": "f173bfa6",
   "metadata": {
    "ExecuteTime": {
     "end_time": "2021-10-12T22:19:41.977744Z",
     "start_time": "2021-10-12T22:19:41.963817Z"
    }
   },
   "outputs": [
    {
     "data": {
      "text/html": [
       "<div>\n",
       "<style scoped>\n",
       "    .dataframe tbody tr th:only-of-type {\n",
       "        vertical-align: middle;\n",
       "    }\n",
       "\n",
       "    .dataframe tbody tr th {\n",
       "        vertical-align: top;\n",
       "    }\n",
       "\n",
       "    .dataframe thead th {\n",
       "        text-align: right;\n",
       "    }\n",
       "</style>\n",
       "<table border=\"1\" class=\"dataframe\">\n",
       "  <thead>\n",
       "    <tr style=\"text-align: right;\">\n",
       "      <th></th>\n",
       "      <th>customer_id</th>\n",
       "      <th>avg_ticket</th>\n",
       "      <th>recency</th>\n",
       "      <th>gross_revenue</th>\n",
       "      <th>frequency</th>\n",
       "    </tr>\n",
       "  </thead>\n",
       "  <tbody>\n",
       "    <tr>\n",
       "      <th>0</th>\n",
       "      <td>17850</td>\n",
       "      <td>-0.45</td>\n",
       "      <td>-0.49</td>\n",
       "      <td>0.40</td>\n",
       "      <td>3.28</td>\n",
       "    </tr>\n",
       "    <tr>\n",
       "      <th>1</th>\n",
       "      <td>13047</td>\n",
       "      <td>-0.34</td>\n",
       "      <td>-0.35</td>\n",
       "      <td>0.14</td>\n",
       "      <td>1.20</td>\n",
       "    </tr>\n",
       "    <tr>\n",
       "      <th>2</th>\n",
       "      <td>12583</td>\n",
       "      <td>0.16</td>\n",
       "      <td>2.01</td>\n",
       "      <td>0.57</td>\n",
       "      <td>1.31</td>\n",
       "    </tr>\n",
       "    <tr>\n",
       "      <th>3</th>\n",
       "      <td>13748</td>\n",
       "      <td>-0.35</td>\n",
       "      <td>-0.43</td>\n",
       "      <td>-0.12</td>\n",
       "      <td>-0.00</td>\n",
       "    </tr>\n",
       "    <tr>\n",
       "      <th>4</th>\n",
       "      <td>15100</td>\n",
       "      <td>-0.57</td>\n",
       "      <td>-0.49</td>\n",
       "      <td>-0.15</td>\n",
       "      <td>0.11</td>\n",
       "    </tr>\n",
       "  </tbody>\n",
       "</table>\n",
       "</div>"
      ],
      "text/plain": [
       "   customer_id  avg_ticket  recency  gross_revenue  frequency\n",
       "0        17850       -0.45    -0.49           0.40       3.28\n",
       "1        13047       -0.34    -0.35           0.14       1.20\n",
       "2        12583        0.16     2.01           0.57       1.31\n",
       "3        13748       -0.35    -0.43          -0.12      -0.00\n",
       "4        15100       -0.57    -0.49          -0.15       0.11"
      ]
     },
     "execution_count": 79,
     "metadata": {},
     "output_type": "execute_result"
    }
   ],
   "source": [
    "df8.head()"
   ]
  },
  {
   "cell_type": "markdown",
   "id": "54063b42",
   "metadata": {},
   "source": [
    "# <font color='red'>Hyperparameter Fine-Tunning"
   ]
  },
  {
   "cell_type": "code",
   "execution_count": 80,
   "id": "fc4eea4d",
   "metadata": {
    "ExecuteTime": {
     "end_time": "2021-10-12T22:19:41.993701Z",
     "start_time": "2021-10-12T22:19:41.979739Z"
    }
   },
   "outputs": [],
   "source": [
    "df9 = df8.copy()"
   ]
  },
  {
   "cell_type": "markdown",
   "id": "08ac67d1",
   "metadata": {},
   "source": [
    "O número de clusters é nosso principal hiperparâmetro, pois não temos essa resposta.  Antes de treinar os modelos precisamos saber quantos clusters vamos considerar. Utilizamos o Kmeans para efetuar a clusterização em um range de 2 a 7 clusters, e utilizando duas métricas, a WSS e a Silhouette Score, escolhemos o número adequado de clusters. A partir daí temos um ponto de partida para treinar os diversos modelos."
   ]
  },
  {
   "cell_type": "code",
   "execution_count": 95,
   "id": "c0cde61d",
   "metadata": {
    "ExecuteTime": {
     "end_time": "2021-10-13T01:24:56.951099Z",
     "start_time": "2021-10-13T01:24:56.937138Z"
    }
   },
   "outputs": [],
   "source": [
    "X = df9.drop(columns =  ['customer_id'],  axis=1) \n",
    "clusters = [2,3,4,5,6,7] # cluster range"
   ]
  },
  {
   "cell_type": "markdown",
   "id": "7036a5e8",
   "metadata": {
    "ExecuteTime": {
     "end_time": "2021-10-07T15:41:33.064558Z",
     "start_time": "2021-10-07T15:40:39.948562Z"
    }
   },
   "source": [
    "## Within-Cluster Sum of Square (WSS)"
   ]
  },
  {
   "cell_type": "code",
   "execution_count": 96,
   "id": "ea4df0f1",
   "metadata": {
    "ExecuteTime": {
     "end_time": "2021-10-13T01:24:58.379927Z",
     "start_time": "2021-10-13T01:24:57.700776Z"
    }
   },
   "outputs": [],
   "source": [
    "wss = [] #lista para guardar as métricas para cada iteração do modelo. Cada número de cluster irá gerar um valor\n",
    "\n",
    "for k in clusters:\n",
    "    #model definition\n",
    "    kmeans = c.KMeans (init = 'random' , n_clusters=k, n_init=10, max_iter=300)\n",
    "    #model training\n",
    "    kmeans.fit ( X )\n",
    "    #validation\n",
    "    wss.append (kmeans.inertia_) #inertia é o próprio valor wss"
   ]
  },
  {
   "cell_type": "code",
   "execution_count": 97,
   "id": "88e6fd52",
   "metadata": {
    "ExecuteTime": {
     "end_time": "2021-10-13T01:24:59.380253Z",
     "start_time": "2021-10-13T01:24:58.380926Z"
    },
    "cell_style": "center",
    "scrolled": false
   },
   "outputs": [
    {
     "data": {
      "text/plain": [
       "<AxesSubplot:title={'center':'Distortion Score Elbow for KMeans Clustering'}, xlabel='k', ylabel='distortion score'>"
      ]
     },
     "execution_count": 97,
     "metadata": {},
     "output_type": "execute_result"
    },
    {
     "data": {
      "image/png": "[encoded data removed]",
      "text/plain": [
       "<Figure size 1800x864 with 2 Axes>"
      ]
     },
     "metadata": {},
     "output_type": "display_data"
    }
   ],
   "source": [
    "#plot elbow method\n",
    "kmeans = KElbowVisualizer (c.KMeans(), k=clusters, timing=False)\n",
    "kmeans.fit(X)\n",
    "kmeans.show(outpath = r'../reports/figures/wss_cluster_metrics.png')"
   ]
  },
  {
   "cell_type": "markdown",
   "id": "b73c35de",
   "metadata": {
    "ExecuteTime": {
     "end_time": "2021-10-07T17:31:20.037948Z",
     "start_time": "2021-10-07T17:31:20.029969Z"
    }
   },
   "source": [
    "## Silhouette Score"
   ]
  },
  {
   "cell_type": "code",
   "execution_count": 98,
   "id": "be2e68bb",
   "metadata": {
    "ExecuteTime": {
     "end_time": "2021-10-13T01:25:02.682579Z",
     "start_time": "2021-10-13T01:24:59.381252Z"
    },
    "cell_style": "center",
    "scrolled": true
   },
   "outputs": [
    {
     "data": {
      "text/plain": [
       "<AxesSubplot:title={'center':'Silhouette Score Elbow for KMeans Clustering'}, xlabel='k', ylabel='silhouette score'>"
      ]
     },
     "execution_count": 98,
     "metadata": {},
     "output_type": "execute_result"
    },
    {
     "data": {
      "image/png": "[encoded data removed]",
      "text/plain": [
       "<Figure size 1800x864 with 2 Axes>"
      ]
     },
     "metadata": {},
     "output_type": "display_data"
    }
   ],
   "source": [
    "kmeans = KElbowVisualizer ( c.KMeans(), k=clusters, metric = 'silhouette', timings = True)\n",
    "kmeans.fit(X)\n",
    "kmeans.show(outpath = r'../reports/figures/silhouette_cluster_metrics.png')"
   ]
  },
  {
   "cell_type": "markdown",
   "id": "3f76921c",
   "metadata": {
    "ExecuteTime": {
     "end_time": "2021-10-08T15:14:49.627234Z",
     "start_time": "2021-10-08T15:14:49.616222Z"
    }
   },
   "source": [
    "## Silhouette Analysis"
   ]
  },
  {
   "cell_type": "code",
   "execution_count": 99,
   "id": "84ad17ef",
   "metadata": {
    "ExecuteTime": {
     "end_time": "2021-10-13T01:25:09.178374Z",
     "start_time": "2021-10-13T01:25:02.683578Z"
    }
   },
   "outputs": [
    {
     "data": {
      "image/png": "[encoded data removed]",
      "text/plain": [
       "<Figure size 1800x1296 with 6 Axes>"
      ]
     },
     "metadata": {},
     "output_type": "display_data"
    }
   ],
   "source": [
    "fig, ax = plt.subplots (3,2, figsize=(25,18))\n",
    "\n",
    "for k in clusters:\n",
    "    km = c.KMeans (n_clusters=k, init='random', n_init=10, max_iter=100, random_state=42)\n",
    "    q,mod = divmod(k,2) #truque para distribuição dos plots\n",
    "    visualizer = SilhouetteVisualizer (km, colors='yellowbrick', ax=ax[q-1][mod])\n",
    "    visualizer.fit(X)\n",
    "    visualizer.finalize()\n",
    "plt.savefig(r'../reports/figures/silhouette_cluster_analysis.png')"
   ]
  },
  {
   "cell_type": "markdown",
   "id": "6c0cc210",
   "metadata": {
    "ExecuteTime": {
     "end_time": "2021-10-07T18:38:18.174167Z",
     "start_time": "2021-10-07T18:32:33.426Z"
    }
   },
   "source": [
    "# Model training"
   ]
  },
  {
   "cell_type": "markdown",
   "id": "410264a1",
   "metadata": {},
   "source": [
    "## K-Means"
   ]
  },
  {
   "cell_type": "code",
   "execution_count": 100,
   "id": "d211bbcb",
   "metadata": {
    "ExecuteTime": {
     "end_time": "2021-10-13T01:25:09.300881Z",
     "start_time": "2021-10-13T01:25:09.180204Z"
    }
   },
   "outputs": [],
   "source": [
    "# model definition\n",
    "k = 4\n",
    "kmeans = c.KMeans (init='random', n_clusters=k, n_init=10, max_iter=300, random_state = 42)\n",
    "# model training\n",
    "kmeans.fit (X)\n",
    "#clustering\n",
    "labels = kmeans.labels_"
   ]
  },
  {
   "cell_type": "markdown",
   "id": "f4291436",
   "metadata": {
    "ExecuteTime": {
     "end_time": "2021-07-09T16:31:54.592587Z",
     "start_time": "2021-07-09T16:31:54.578656Z"
    }
   },
   "source": [
    "## Cluster Validation"
   ]
  },
  {
   "cell_type": "code",
   "execution_count": 101,
   "id": "e8961a87",
   "metadata": {
    "ExecuteTime": {
     "end_time": "2021-10-13T01:25:09.718871Z",
     "start_time": "2021-10-13T01:25:09.301879Z"
    }
   },
   "outputs": [
    {
     "name": "stdout",
     "output_type": "stream",
     "text": [
      "WSS value: 7935.263712453979\n",
      "SS value: 0.7007005873328439\n"
     ]
    }
   ],
   "source": [
    "# WSS\n",
    "print('WSS value: {}'.format (kmeans.inertia_))\n",
    "# SS\n",
    "print ('SS value: {}'.format(m.silhouette_score(X, labels, metric='euclidean')))"
   ]
  },
  {
   "cell_type": "code",
   "execution_count": 102,
   "id": "b304756f",
   "metadata": {
    "ExecuteTime": {
     "end_time": "2021-10-13T01:25:10.790007Z",
     "start_time": "2021-10-13T01:25:09.720866Z"
    }
   },
   "outputs": [
    {
     "data": {
      "image/png": "[encoded data removed]",
      "text/plain": [
       "<Figure size 1800x864 with 1 Axes>"
      ]
     },
     "metadata": {},
     "output_type": "display_data"
    }
   ],
   "source": [
    "#cluster inspection\n",
    "visualizer = SilhouetteVisualizer (kmeans, colors='yellowbrick')\n",
    "visualizer.fit(X)\n",
    "visualizer.finalize()"
   ]
  },
  {
   "cell_type": "markdown",
   "id": "c83053df",
   "metadata": {
    "ExecuteTime": {
     "end_time": "2021-10-11T15:29:00.275157Z",
     "start_time": "2021-10-11T15:29:00.263152Z"
    }
   },
   "source": [
    "# Cluster visual inspection"
   ]
  },
  {
   "cell_type": "code",
   "execution_count": 108,
   "id": "c11b2f41",
   "metadata": {
    "ExecuteTime": {
     "end_time": "2021-10-13T01:31:22.004665Z",
     "start_time": "2021-10-13T01:31:14.894459Z"
    }
   },
   "outputs": [],
   "source": [
    "df_viz = df9.drop(columns =  ['customer_id'],  axis=1)\n",
    "df_viz['cluster'] = labels\n",
    "reducer = umap.UMAP (n_neighbors = 20, random_state = 42) # instancia o objeto\n",
    "embedding = reducer.fit_transform (X)"
   ]
  },
  {
   "cell_type": "code",
   "execution_count": 109,
   "id": "c1b93699",
   "metadata": {
    "ExecuteTime": {
     "end_time": "2021-10-13T01:31:24.255803Z",
     "start_time": "2021-10-13T01:31:24.239805Z"
    }
   },
   "outputs": [],
   "source": [
    "# embedding\n",
    "df_viz['embedding_x'] = embedding[:,0] # embedding é o espaço projetado\n",
    "df_viz['embedding_y'] = embedding[:,1]"
   ]
  },
  {
   "cell_type": "code",
   "execution_count": 111,
   "id": "0b1c77da",
   "metadata": {
    "ExecuteTime": {
     "end_time": "2021-10-13T01:34:06.685240Z",
     "start_time": "2021-10-13T01:34:06.062930Z"
    }
   },
   "outputs": [
    {
     "data": {
      "image/png": "[encoded data removed]",
      "text/plain": [
       "<Figure size 1800x864 with 1 Axes>"
      ]
     },
     "metadata": {},
     "output_type": "display_data"
    }
   ],
   "source": [
    "# plot UMAP\n",
    "sns.scatterplot( x='embedding_x', y='embedding_y', \n",
    "                hue='cluster', \n",
    "                palette = sns.color_palette ('hls', n_colors = len(df_viz['cluster'].unique() ) ), data = df_viz )\n",
    "\n",
    "plt.savefig(r'../reports/figures/umap_vizbathrooms.png')"
   ]
  },
  {
   "cell_type": "markdown",
   "id": "5eb3b784",
   "metadata": {},
   "source": [
    "# <font color='red'>Cluster Analysis"
   ]
  },
  {
   "cell_type": "code",
   "execution_count": null,
   "id": "4e07ff20",
   "metadata": {
    "ExecuteTime": {
     "end_time": "2021-10-12T22:20:13.908295Z",
     "start_time": "2021-10-12T22:20:13.908295Z"
    }
   },
   "outputs": [],
   "source": [
    "df11 = df9.copy()\n",
    "df11['cluster'] = labels"
   ]
  },
  {
   "cell_type": "markdown",
   "id": "0f6d27dd",
   "metadata": {
    "ExecuteTime": {
     "end_time": "2021-10-08T15:16:16.461436Z",
     "start_time": "2021-10-08T15:16:16.447440Z"
    }
   },
   "source": [
    "## Cluster Profile"
   ]
  },
  {
   "cell_type": "code",
   "execution_count": null,
   "id": "bdfafacc",
   "metadata": {
    "ExecuteTime": {
     "end_time": "2021-10-12T22:20:13.909292Z",
     "start_time": "2021-10-12T22:20:13.909292Z"
    }
   },
   "outputs": [],
   "source": [
    "# clusters size\n",
    "df_cluster = df11[['customer_id', 'cluster']].groupby('cluster').count().reset_index()\n",
    "# percentage of each cluster\n",
    "df_cluster['perc_customer'] = 100*(df_cluster['customer_id'] /df_cluster['customer_id'].sum())\n",
    "#avg gross revenue\n",
    "df_avg_gross_revenue = df11[['gross_revenue', 'cluster']].groupby('cluster').mean().reset_index()\n",
    "df_cluster = pd.merge(df_cluster, df_avg_gross_revenue, how='inner', on='cluster')\n",
    "#frequency\n",
    "df_frequency = df11[['frequency','cluster']].groupby('cluster').mean().reset_index()\n",
    "df_cluster = pd.merge(df_cluster, df_frequency, how='inner', on='cluster')\n",
    "#recency\n",
    "df_recency = df11[['recency','cluster']].groupby('cluster').mean().reset_index()\n",
    "df_cluster = pd.merge(df_cluster, df_recency, how='inner', on='cluster')\n",
    "df_cluster"
   ]
  },
  {
   "cell_type": "markdown",
   "id": "72a9675f",
   "metadata": {
    "ExecuteTime": {
     "end_time": "2021-07-09T01:48:10.994672Z",
     "start_time": "2021-07-09T01:48:10.981674Z"
    }
   },
   "source": [
    "# <font color='red'>Deploy to production"
   ]
  },
  {
   "cell_type": "code",
   "execution_count": null,
   "id": "780a26b4",
   "metadata": {},
   "outputs": [],
   "source": []
  },
  {
   "cell_type": "code",
   "execution_count": null,
   "id": "76819805",
   "metadata": {},
   "outputs": [],
   "source": []
  },
  {
   "cell_type": "code",
   "execution_count": null,
   "id": "af4a06b3",
   "metadata": {},
   "outputs": [],
   "source": []
  },
  {
   "cell_type": "code",
   "execution_count": null,
   "id": "c654f46e",
   "metadata": {},
   "outputs": [],
   "source": []
  },
  {
   "cell_type": "code",
   "execution_count": null,
   "id": "53330f61",
   "metadata": {},
   "outputs": [],
   "source": []
  },
  {
   "cell_type": "code",
   "execution_count": null,
   "id": "4e5c2c55",
   "metadata": {},
   "outputs": [],
   "source": []
  },
  {
   "cell_type": "code",
   "execution_count": null,
   "id": "c5cf861d",
   "metadata": {},
   "outputs": [],
   "source": []
  },
  {
   "cell_type": "code",
   "execution_count": null,
   "id": "7664e16e",
   "metadata": {},
   "outputs": [],
   "source": []
  },
  {
   "cell_type": "code",
   "execution_count": null,
   "id": "2481c0f7",
   "metadata": {},
   "outputs": [],
   "source": []
  },
  {
   "cell_type": "code",
   "execution_count": null,
   "id": "eca75372",
   "metadata": {},
   "outputs": [],
   "source": []
  },
  {
   "cell_type": "code",
   "execution_count": null,
   "id": "7bd3f91d",
   "metadata": {},
   "outputs": [],
   "source": []
  },
  {
   "cell_type": "code",
   "execution_count": null,
   "id": "462fcd25",
   "metadata": {},
   "outputs": [],
   "source": []
  },
  {
   "cell_type": "code",
   "execution_count": null,
   "id": "e47d2426",
   "metadata": {},
   "outputs": [],
   "source": []
  },
  {
   "cell_type": "code",
   "execution_count": null,
   "id": "83a3119f",
   "metadata": {},
   "outputs": [],
   "source": []
  },
  {
   "cell_type": "code",
   "execution_count": null,
   "id": "92b1c8c9",
   "metadata": {},
   "outputs": [],
   "source": []
  },
  {
   "cell_type": "code",
   "execution_count": null,
   "id": "dc15cff2",
   "metadata": {},
   "outputs": [],
   "source": []
  },
  {
   "cell_type": "code",
   "execution_count": null,
   "id": "69c45dd2",
   "metadata": {},
   "outputs": [],
   "source": []
  },
  {
   "cell_type": "code",
   "execution_count": null,
   "id": "fa1a2190",
   "metadata": {},
   "outputs": [],
   "source": []
  },
  {
   "cell_type": "code",
   "execution_count": null,
   "id": "2bc1fbc2",
   "metadata": {},
   "outputs": [],
   "source": []
  },
  {
   "cell_type": "code",
   "execution_count": null,
   "id": "17d28154",
   "metadata": {},
   "outputs": [],
   "source": []
  },
  {
   "cell_type": "code",
   "execution_count": null,
   "id": "8966e579",
   "metadata": {},
   "outputs": [],
   "source": []
  },
  {
   "cell_type": "code",
   "execution_count": null,
   "id": "43e01e2a",
   "metadata": {},
   "outputs": [],
   "source": []
  },
  {
   "cell_type": "code",
   "execution_count": null,
   "id": "a1c18a3d",
   "metadata": {},
   "outputs": [],
   "source": []
  },
  {
   "cell_type": "code",
   "execution_count": null,
   "id": "15150c77",
   "metadata": {},
   "outputs": [],
   "source": []
  },
  {
   "cell_type": "code",
   "execution_count": null,
   "id": "21288562",
   "metadata": {},
   "outputs": [],
   "source": []
  },
  {
   "cell_type": "code",
   "execution_count": null,
   "id": "46b04509",
   "metadata": {},
   "outputs": [],
   "source": []
  },
  {
   "cell_type": "code",
   "execution_count": null,
   "id": "7fb338fd",
   "metadata": {},
   "outputs": [],
   "source": []
  },
  {
   "cell_type": "code",
   "execution_count": null,
   "id": "9f2675c8",
   "metadata": {},
   "outputs": [],
   "source": []
  },
  {
   "cell_type": "code",
   "execution_count": null,
   "id": "f6557d78",
   "metadata": {},
   "outputs": [],
   "source": []
  },
  {
   "cell_type": "code",
   "execution_count": null,
   "id": "04a6f573",
   "metadata": {},
   "outputs": [],
   "source": []
  }
 ],
 "metadata": {
  "kernelspec": {
   "display_name": "Python 3 (ipykernel)",
   "language": "python",
   "name": "python3"
  },
  "language_info": {
   "codemirror_mode": {
    "name": "ipython",
    "version": 3
   },
   "file_extension": ".py",
   "mimetype": "text/x-python",
   "name": "python",
   "nbconvert_exporter": "python",
   "pygments_lexer": "ipython3",
   "version": "3.8.11"
  },
  "toc": {
   "base_numbering": "0",
   "nav_menu": {},
   "number_sections": true,
   "sideBar": true,
   "skip_h1_title": false,
   "title_cell": "Table of Contents",
   "title_sidebar": "Contents",
   "toc_cell": false,
   "toc_position": {},
   "toc_section_display": true,
   "toc_window_display": false
  }
 },
 "nbformat": 4,
 "nbformat_minor": 5
}
