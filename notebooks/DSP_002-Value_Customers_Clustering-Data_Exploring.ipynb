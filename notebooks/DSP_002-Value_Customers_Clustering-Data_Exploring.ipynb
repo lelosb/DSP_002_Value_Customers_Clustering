{
 "cells": [
  {
   "cell_type": "markdown",
   "id": "460ce7db",
   "metadata": {},
   "source": [
    "# <font color='red'>DSP_002 - High Value Customer Identification (Insiders)"
   ]
  },
  {
   "cell_type": "markdown",
   "id": "6771fffb",
   "metadata": {},
   "source": [
    "# Basic setups"
   ]
  },
  {
   "cell_type": "markdown",
   "id": "c3c26fe8",
   "metadata": {},
   "source": [
    "## Imports"
   ]
  },
  {
   "cell_type": "code",
   "execution_count": 9,
   "id": "752777d1",
   "metadata": {
    "ExecuteTime": {
     "end_time": "2021-10-12T15:50:00.769405Z",
     "start_time": "2021-10-12T15:50:00.760420Z"
    }
   },
   "outputs": [],
   "source": [
    "import numpy as np\n",
    "import pandas as pd\n",
    "import seaborn as sns\n",
    "import umap.umap_ as umap\n",
    "#!pip install umap-learn \n",
    "from IPython.core.display     import HTML\n",
    "from matplotlib import pyplot as plt\n",
    "#from pandas_profiling import ProfileReport \n",
    "from sklearn import cluster       as c\n",
    "from sklearn import metrics       as m\n",
    "from sklearn import ensemble      as en\n",
    "from sklearn import preprocessing as pp\n",
    "from sklearn import decomposition as dd\n",
    "from sklearn import manifold      as mn\n",
    "from sklearn import mixture       as mx\n",
    "from sklearn.manifold import TSNE\n",
    "from sklearn.neighbors import NearestNeighbors\n",
    "from scipy.cluster import hierarchy as hc\n",
    "from plotly import express as px\n",
    "\n",
    "from yellowbrick.cluster import KElbowVisualizer, SilhouetteVisualizer"
   ]
  },
  {
   "cell_type": "markdown",
   "id": "c04dfcef",
   "metadata": {},
   "source": [
    "## Helper Functions"
   ]
  },
  {
   "cell_type": "code",
   "execution_count": 10,
   "id": "5cca2481",
   "metadata": {
    "ExecuteTime": {
     "end_time": "2021-10-12T15:50:01.872058Z",
     "start_time": "2021-10-12T15:50:01.843135Z"
    }
   },
   "outputs": [
    {
     "name": "stdout",
     "output_type": "stream",
     "text": [
      "Populating the interactive namespace from numpy and matplotlib\n"
     ]
    },
    {
     "data": {
      "text/html": [
       "<style>.container { width:100% !important; }</style>"
      ],
      "text/plain": [
       "<IPython.core.display.HTML object>"
      ]
     },
     "metadata": {},
     "output_type": "display_data"
    }
   ],
   "source": [
    "def jupyter_settings():\n",
    "    %matplotlib inline\n",
    "    %pylab inline\n",
    "    plt.style.use( 'bmh' )\n",
    "    plt.rcParams['figure.figsize'] = [25, 12]\n",
    "    plt.rcParams['font.size'] = 24\n",
    "    display( HTML( '<style>.container { width:100% !important; }</style>') )\n",
    "    pd.options.display.max_columns = None\n",
    "    pd.options.display.max_rows = None\n",
    "    pd.set_option( 'display.expand_frame_repr', False )\n",
    "    sns.set()\n",
    "jupyter_settings()"
   ]
  },
  {
   "cell_type": "code",
   "execution_count": 11,
   "id": "dc906514",
   "metadata": {
    "ExecuteTime": {
     "end_time": "2021-10-12T15:50:02.977790Z",
     "start_time": "2021-10-12T15:50:02.962793Z"
    }
   },
   "outputs": [],
   "source": [
    "# Supress Scientific Notation\n",
    "np.set_printoptions(suppress=True)\n",
    "pd.set_option('display.float_format', '{:.2f}'.format)"
   ]
  },
  {
   "cell_type": "markdown",
   "id": "0ebc7331",
   "metadata": {
    "ExecuteTime": {
     "end_time": "2021-07-23T14:02:30.182766Z",
     "start_time": "2021-07-23T14:02:29.597224Z"
    }
   },
   "source": [
    "# Data Exploring"
   ]
  },
  {
   "cell_type": "markdown",
   "id": "caabb06d",
   "metadata": {},
   "source": [
    "## Data Load"
   ]
  },
  {
   "cell_type": "code",
   "execution_count": 12,
   "id": "3f64173d",
   "metadata": {
    "ExecuteTime": {
     "end_time": "2021-10-12T15:50:05.798555Z",
     "start_time": "2021-10-12T15:50:05.729739Z"
    }
   },
   "outputs": [
    {
     "ename": "UnicodeDecodeError",
     "evalue": "'utf-8' codec can't decode byte 0xa3 in position 117795: invalid start byte",
     "output_type": "error",
     "traceback": [
      "\u001b[1;31m---------------------------------------------------------------------------\u001b[0m",
      "\u001b[1;31mUnicodeDecodeError\u001b[0m                        Traceback (most recent call last)",
      "\u001b[1;32m~\\AppData\\Local\\Temp/ipykernel_8932/2759865734.py\u001b[0m in \u001b[0;36m<module>\u001b[1;34m\u001b[0m\n\u001b[1;32m----> 1\u001b[1;33m \u001b[0mdf_raw\u001b[0m \u001b[1;33m=\u001b[0m \u001b[0mpd\u001b[0m\u001b[1;33m.\u001b[0m\u001b[0mread_csv\u001b[0m\u001b[1;33m(\u001b[0m\u001b[1;34mr'../data/raw/Ecommerce.csv'\u001b[0m\u001b[1;33m)\u001b[0m\u001b[1;33m\u001b[0m\u001b[1;33m\u001b[0m\u001b[0m\n\u001b[0m",
      "\u001b[1;32m~\\anaconda3\\envs\\DSP_002\\lib\\site-packages\\pandas\\util\\_decorators.py\u001b[0m in \u001b[0;36mwrapper\u001b[1;34m(*args, **kwargs)\u001b[0m\n\u001b[0;32m    309\u001b[0m                     \u001b[0mstacklevel\u001b[0m\u001b[1;33m=\u001b[0m\u001b[0mstacklevel\u001b[0m\u001b[1;33m,\u001b[0m\u001b[1;33m\u001b[0m\u001b[1;33m\u001b[0m\u001b[0m\n\u001b[0;32m    310\u001b[0m                 )\n\u001b[1;32m--> 311\u001b[1;33m             \u001b[1;32mreturn\u001b[0m \u001b[0mfunc\u001b[0m\u001b[1;33m(\u001b[0m\u001b[1;33m*\u001b[0m\u001b[0margs\u001b[0m\u001b[1;33m,\u001b[0m \u001b[1;33m**\u001b[0m\u001b[0mkwargs\u001b[0m\u001b[1;33m)\u001b[0m\u001b[1;33m\u001b[0m\u001b[1;33m\u001b[0m\u001b[0m\n\u001b[0m\u001b[0;32m    312\u001b[0m \u001b[1;33m\u001b[0m\u001b[0m\n\u001b[0;32m    313\u001b[0m         \u001b[1;32mreturn\u001b[0m \u001b[0mwrapper\u001b[0m\u001b[1;33m\u001b[0m\u001b[1;33m\u001b[0m\u001b[0m\n",
      "\u001b[1;32m~\\anaconda3\\envs\\DSP_002\\lib\\site-packages\\pandas\\io\\parsers\\readers.py\u001b[0m in \u001b[0;36mread_csv\u001b[1;34m(filepath_or_buffer, sep, delimiter, header, names, index_col, usecols, squeeze, prefix, mangle_dupe_cols, dtype, engine, converters, true_values, false_values, skipinitialspace, skiprows, skipfooter, nrows, na_values, keep_default_na, na_filter, verbose, skip_blank_lines, parse_dates, infer_datetime_format, keep_date_col, date_parser, dayfirst, cache_dates, iterator, chunksize, compression, thousands, decimal, lineterminator, quotechar, quoting, doublequote, escapechar, comment, encoding, encoding_errors, dialect, error_bad_lines, warn_bad_lines, on_bad_lines, delim_whitespace, low_memory, memory_map, float_precision, storage_options)\u001b[0m\n\u001b[0;32m    584\u001b[0m     \u001b[0mkwds\u001b[0m\u001b[1;33m.\u001b[0m\u001b[0mupdate\u001b[0m\u001b[1;33m(\u001b[0m\u001b[0mkwds_defaults\u001b[0m\u001b[1;33m)\u001b[0m\u001b[1;33m\u001b[0m\u001b[1;33m\u001b[0m\u001b[0m\n\u001b[0;32m    585\u001b[0m \u001b[1;33m\u001b[0m\u001b[0m\n\u001b[1;32m--> 586\u001b[1;33m     \u001b[1;32mreturn\u001b[0m \u001b[0m_read\u001b[0m\u001b[1;33m(\u001b[0m\u001b[0mfilepath_or_buffer\u001b[0m\u001b[1;33m,\u001b[0m \u001b[0mkwds\u001b[0m\u001b[1;33m)\u001b[0m\u001b[1;33m\u001b[0m\u001b[1;33m\u001b[0m\u001b[0m\n\u001b[0m\u001b[0;32m    587\u001b[0m \u001b[1;33m\u001b[0m\u001b[0m\n\u001b[0;32m    588\u001b[0m \u001b[1;33m\u001b[0m\u001b[0m\n",
      "\u001b[1;32m~\\anaconda3\\envs\\DSP_002\\lib\\site-packages\\pandas\\io\\parsers\\readers.py\u001b[0m in \u001b[0;36m_read\u001b[1;34m(filepath_or_buffer, kwds)\u001b[0m\n\u001b[0;32m    486\u001b[0m \u001b[1;33m\u001b[0m\u001b[0m\n\u001b[0;32m    487\u001b[0m     \u001b[1;32mwith\u001b[0m \u001b[0mparser\u001b[0m\u001b[1;33m:\u001b[0m\u001b[1;33m\u001b[0m\u001b[1;33m\u001b[0m\u001b[0m\n\u001b[1;32m--> 488\u001b[1;33m         \u001b[1;32mreturn\u001b[0m \u001b[0mparser\u001b[0m\u001b[1;33m.\u001b[0m\u001b[0mread\u001b[0m\u001b[1;33m(\u001b[0m\u001b[0mnrows\u001b[0m\u001b[1;33m)\u001b[0m\u001b[1;33m\u001b[0m\u001b[1;33m\u001b[0m\u001b[0m\n\u001b[0m\u001b[0;32m    489\u001b[0m \u001b[1;33m\u001b[0m\u001b[0m\n\u001b[0;32m    490\u001b[0m \u001b[1;33m\u001b[0m\u001b[0m\n",
      "\u001b[1;32m~\\anaconda3\\envs\\DSP_002\\lib\\site-packages\\pandas\\io\\parsers\\readers.py\u001b[0m in \u001b[0;36mread\u001b[1;34m(self, nrows)\u001b[0m\n\u001b[0;32m   1045\u001b[0m     \u001b[1;32mdef\u001b[0m \u001b[0mread\u001b[0m\u001b[1;33m(\u001b[0m\u001b[0mself\u001b[0m\u001b[1;33m,\u001b[0m \u001b[0mnrows\u001b[0m\u001b[1;33m=\u001b[0m\u001b[1;32mNone\u001b[0m\u001b[1;33m)\u001b[0m\u001b[1;33m:\u001b[0m\u001b[1;33m\u001b[0m\u001b[1;33m\u001b[0m\u001b[0m\n\u001b[0;32m   1046\u001b[0m         \u001b[0mnrows\u001b[0m \u001b[1;33m=\u001b[0m \u001b[0mvalidate_integer\u001b[0m\u001b[1;33m(\u001b[0m\u001b[1;34m\"nrows\"\u001b[0m\u001b[1;33m,\u001b[0m \u001b[0mnrows\u001b[0m\u001b[1;33m)\u001b[0m\u001b[1;33m\u001b[0m\u001b[1;33m\u001b[0m\u001b[0m\n\u001b[1;32m-> 1047\u001b[1;33m         \u001b[0mindex\u001b[0m\u001b[1;33m,\u001b[0m \u001b[0mcolumns\u001b[0m\u001b[1;33m,\u001b[0m \u001b[0mcol_dict\u001b[0m \u001b[1;33m=\u001b[0m \u001b[0mself\u001b[0m\u001b[1;33m.\u001b[0m\u001b[0m_engine\u001b[0m\u001b[1;33m.\u001b[0m\u001b[0mread\u001b[0m\u001b[1;33m(\u001b[0m\u001b[0mnrows\u001b[0m\u001b[1;33m)\u001b[0m\u001b[1;33m\u001b[0m\u001b[1;33m\u001b[0m\u001b[0m\n\u001b[0m\u001b[0;32m   1048\u001b[0m \u001b[1;33m\u001b[0m\u001b[0m\n\u001b[0;32m   1049\u001b[0m         \u001b[1;32mif\u001b[0m \u001b[0mindex\u001b[0m \u001b[1;32mis\u001b[0m \u001b[1;32mNone\u001b[0m\u001b[1;33m:\u001b[0m\u001b[1;33m\u001b[0m\u001b[1;33m\u001b[0m\u001b[0m\n",
      "\u001b[1;32m~\\anaconda3\\envs\\DSP_002\\lib\\site-packages\\pandas\\io\\parsers\\c_parser_wrapper.py\u001b[0m in \u001b[0;36mread\u001b[1;34m(self, nrows)\u001b[0m\n\u001b[0;32m    221\u001b[0m         \u001b[1;32mtry\u001b[0m\u001b[1;33m:\u001b[0m\u001b[1;33m\u001b[0m\u001b[1;33m\u001b[0m\u001b[0m\n\u001b[0;32m    222\u001b[0m             \u001b[1;32mif\u001b[0m \u001b[0mself\u001b[0m\u001b[1;33m.\u001b[0m\u001b[0mlow_memory\u001b[0m\u001b[1;33m:\u001b[0m\u001b[1;33m\u001b[0m\u001b[1;33m\u001b[0m\u001b[0m\n\u001b[1;32m--> 223\u001b[1;33m                 \u001b[0mchunks\u001b[0m \u001b[1;33m=\u001b[0m \u001b[0mself\u001b[0m\u001b[1;33m.\u001b[0m\u001b[0m_reader\u001b[0m\u001b[1;33m.\u001b[0m\u001b[0mread_low_memory\u001b[0m\u001b[1;33m(\u001b[0m\u001b[0mnrows\u001b[0m\u001b[1;33m)\u001b[0m\u001b[1;33m\u001b[0m\u001b[1;33m\u001b[0m\u001b[0m\n\u001b[0m\u001b[0;32m    224\u001b[0m                 \u001b[1;31m# destructive to chunks\u001b[0m\u001b[1;33m\u001b[0m\u001b[1;33m\u001b[0m\u001b[1;33m\u001b[0m\u001b[0m\n\u001b[0;32m    225\u001b[0m                 \u001b[0mdata\u001b[0m \u001b[1;33m=\u001b[0m \u001b[0m_concatenate_chunks\u001b[0m\u001b[1;33m(\u001b[0m\u001b[0mchunks\u001b[0m\u001b[1;33m)\u001b[0m\u001b[1;33m\u001b[0m\u001b[1;33m\u001b[0m\u001b[0m\n",
      "\u001b[1;32m~\\anaconda3\\envs\\DSP_002\\lib\\site-packages\\pandas\\_libs\\parsers.pyx\u001b[0m in \u001b[0;36mpandas._libs.parsers.TextReader.read_low_memory\u001b[1;34m()\u001b[0m\n",
      "\u001b[1;32m~\\anaconda3\\envs\\DSP_002\\lib\\site-packages\\pandas\\_libs\\parsers.pyx\u001b[0m in \u001b[0;36mpandas._libs.parsers.TextReader._read_rows\u001b[1;34m()\u001b[0m\n",
      "\u001b[1;32m~\\anaconda3\\envs\\DSP_002\\lib\\site-packages\\pandas\\_libs\\parsers.pyx\u001b[0m in \u001b[0;36mpandas._libs.parsers.TextReader._tokenize_rows\u001b[1;34m()\u001b[0m\n",
      "\u001b[1;32m~\\anaconda3\\envs\\DSP_002\\lib\\site-packages\\pandas\\_libs\\parsers.pyx\u001b[0m in \u001b[0;36mpandas._libs.parsers.raise_parser_error\u001b[1;34m()\u001b[0m\n",
      "\u001b[1;31mUnicodeDecodeError\u001b[0m: 'utf-8' codec can't decode byte 0xa3 in position 117795: invalid start byte"
     ]
    }
   ],
   "source": [
    "df_raw = pd.read_csv(r'../data/raw/Ecommerce.csv')"
   ]
  },
  {
   "cell_type": "markdown",
   "id": "050866e8",
   "metadata": {
    "ExecuteTime": {
     "end_time": "2021-08-24T19:25:03.579821Z",
     "start_time": "2021-08-24T19:25:03.009348Z"
    },
    "scrolled": true
   },
   "source": [
    "## Data Overview"
   ]
  },
  {
   "cell_type": "code",
   "execution_count": 13,
   "id": "7e7e90a2",
   "metadata": {
    "ExecuteTime": {
     "end_time": "2021-10-12T15:50:07.625950Z",
     "start_time": "2021-10-12T15:50:07.603044Z"
    },
    "scrolled": true
   },
   "outputs": [
    {
     "ename": "NameError",
     "evalue": "name 'df_raw' is not defined",
     "output_type": "error",
     "traceback": [
      "\u001b[1;31m---------------------------------------------------------------------------\u001b[0m",
      "\u001b[1;31mNameError\u001b[0m                                 Traceback (most recent call last)",
      "\u001b[1;32m~\\AppData\\Local\\Temp/ipykernel_8932/3995698685.py\u001b[0m in \u001b[0;36m<module>\u001b[1;34m\u001b[0m\n\u001b[1;32m----> 1\u001b[1;33m \u001b[0mdf_raw\u001b[0m\u001b[1;33m.\u001b[0m\u001b[0mhead\u001b[0m\u001b[1;33m(\u001b[0m\u001b[1;33m)\u001b[0m\u001b[1;33m\u001b[0m\u001b[1;33m\u001b[0m\u001b[0m\n\u001b[0m",
      "\u001b[1;31mNameError\u001b[0m: name 'df_raw' is not defined"
     ]
    }
   ],
   "source": [
    "df_raw.head()"
   ]
  },
  {
   "cell_type": "code",
   "execution_count": null,
   "id": "05dd5529",
   "metadata": {
    "ExecuteTime": {
     "end_time": "2021-10-12T15:45:21.900491Z",
     "start_time": "2021-10-12T15:45:21.900491Z"
    }
   },
   "outputs": [],
   "source": [
    "print('The original dataset has {} transations registers with {} attributes.'.format(df_raw.shape[0], df_raw.shape[1]) )"
   ]
  },
  {
   "cell_type": "code",
   "execution_count": null,
   "id": "2018dd7a",
   "metadata": {
    "ExecuteTime": {
     "end_time": "2021-10-12T15:45:21.902485Z",
     "start_time": "2021-10-12T15:45:21.902485Z"
    }
   },
   "outputs": [],
   "source": [
    "df_raw.columns"
   ]
  },
  {
   "cell_type": "markdown",
   "id": "b57ae555",
   "metadata": {},
   "source": [
    "## Check NaN"
   ]
  },
  {
   "cell_type": "code",
   "execution_count": null,
   "id": "22edd1e3",
   "metadata": {
    "ExecuteTime": {
     "end_time": "2021-10-12T15:45:21.904494Z",
     "start_time": "2021-10-12T15:45:21.904494Z"
    },
    "scrolled": true
   },
   "outputs": [],
   "source": [
    "df_raw.isna().sum() / len(df_raw) *100"
   ]
  },
  {
   "cell_type": "markdown",
   "id": "bd28f0db",
   "metadata": {
    "ExecuteTime": {
     "end_time": "2021-10-11T14:11:07.394457Z",
     "start_time": "2021-10-11T14:11:07.380423Z"
    },
    "scrolled": true
   },
   "source": [
    "There are a considerable number of transations without customers. Identify the customers is the main objective of this project, so this is a big problem. Through this cycle, we have a lot of problems with non identified customers, so we decided to drop then in this \n",
    "first cycle of the project. Maybe in the next cycle something different can be done. After all, we discovery that dropping all the clientes without id, we drop all the \"descriptions\" NaN as well."
   ]
  },
  {
   "cell_type": "markdown",
   "id": "7a54ac5b",
   "metadata": {},
   "source": [
    "## Data types"
   ]
  },
  {
   "cell_type": "code",
   "execution_count": null,
   "id": "fbe59f76",
   "metadata": {
    "ExecuteTime": {
     "end_time": "2021-10-12T15:45:21.906475Z",
     "start_time": "2021-10-12T15:45:21.906475Z"
    },
    "scrolled": true
   },
   "outputs": [],
   "source": [
    "df_raw.dtypes"
   ]
  },
  {
   "cell_type": "markdown",
   "id": "ecaaab49",
   "metadata": {},
   "source": [
    "## Check duplicated"
   ]
  },
  {
   "cell_type": "code",
   "execution_count": null,
   "id": "58f27efd",
   "metadata": {
    "ExecuteTime": {
     "end_time": "2021-10-12T15:45:21.907473Z",
     "start_time": "2021-10-12T15:45:21.907473Z"
    }
   },
   "outputs": [],
   "source": [
    "df_raw['CustomerID'].duplicated().sum()"
   ]
  },
  {
   "cell_type": "code",
   "execution_count": null,
   "id": "34cb9c46",
   "metadata": {
    "ExecuteTime": {
     "end_time": "2021-10-12T15:45:21.909467Z",
     "start_time": "2021-10-12T15:45:21.909467Z"
    }
   },
   "outputs": [],
   "source": [
    "df_raw[df_raw.duplicated()].shape"
   ]
  },
  {
   "cell_type": "markdown",
   "id": "b68248da",
   "metadata": {
    "ExecuteTime": {
     "end_time": "2021-10-11T17:31:37.941559Z",
     "start_time": "2021-10-11T17:31:37.926600Z"
    }
   },
   "source": [
    "From a business perspective, none of the repeated attributes will be a problem unless there are more than one record with all inputs duplicated."
   ]
  },
  {
   "cell_type": "markdown",
   "id": "0fcdf902",
   "metadata": {},
   "source": [
    "## Statistics data overview"
   ]
  },
  {
   "cell_type": "code",
   "execution_count": null,
   "id": "e8d5cc5b",
   "metadata": {
    "ExecuteTime": {
     "end_time": "2021-10-12T15:45:21.910464Z",
     "start_time": "2021-10-12T15:45:21.910464Z"
    }
   },
   "outputs": [],
   "source": [
    "df_raw.describe().T"
   ]
  },
  {
   "cell_type": "markdown",
   "id": "bb006467",
   "metadata": {},
   "source": [
    "Tasks:\n",
    "\n",
    "    01) Change the columns names to snacke case;\n",
    "    02) Drop \"Unnamed: 8\" column;\n",
    "    03) Check NaN (\"Description\" and \"CustomerID\");\n",
    "    04) Change types (InvoiceNo, InvoiceDate and CustomerID;\n",
    "    05) Solve duplicated registers\n",
    "    06) Check the invoices with letters;\n",
    "    07) Check the strange description names;\n",
    "    08) Check negative unit prices and quantities"
   ]
  },
  {
   "cell_type": "markdown",
   "id": "b37edf54",
   "metadata": {},
   "source": [
    "# <font color='green'> Data Processing"
   ]
  },
  {
   "cell_type": "code",
   "execution_count": null,
   "id": "d51ae57f",
   "metadata": {
    "ExecuteTime": {
     "end_time": "2021-10-12T15:45:21.911462Z",
     "start_time": "2021-10-12T15:45:21.911462Z"
    }
   },
   "outputs": [],
   "source": [
    "df3 = df_raw.copy()"
   ]
  },
  {
   "cell_type": "markdown",
   "id": "5b8cfb47",
   "metadata": {},
   "source": [
    "## Rename columns"
   ]
  },
  {
   "cell_type": "code",
   "execution_count": null,
   "id": "1084b019",
   "metadata": {
    "ExecuteTime": {
     "end_time": "2021-10-12T15:45:21.912459Z",
     "start_time": "2021-10-12T15:45:21.912459Z"
    }
   },
   "outputs": [],
   "source": [
    "df3.columns"
   ]
  },
  {
   "cell_type": "code",
   "execution_count": null,
   "id": "8d33b8d1",
   "metadata": {
    "ExecuteTime": {
     "end_time": "2021-10-12T15:45:21.914455Z",
     "start_time": "2021-10-12T15:45:21.914455Z"
    }
   },
   "outputs": [],
   "source": [
    "cols_new = ['invoice_no', 'stock_code', 'description','quantity', 'invoice_date','unit_price', 'customer_id', 'country', 'unnamed']"
   ]
  },
  {
   "cell_type": "code",
   "execution_count": null,
   "id": "938cd850",
   "metadata": {
    "ExecuteTime": {
     "end_time": "2021-10-12T15:45:21.916450Z",
     "start_time": "2021-10-12T15:45:21.916450Z"
    }
   },
   "outputs": [],
   "source": [
    "df3.columns = cols_new #change to snake case"
   ]
  },
  {
   "cell_type": "markdown",
   "id": "7b99d581",
   "metadata": {
    "ExecuteTime": {
     "end_time": "2021-08-19T17:53:14.247722Z",
     "start_time": "2021-08-19T17:53:14.235757Z"
    }
   },
   "source": [
    "## Check \"Unnamed: 8\" attribute"
   ]
  },
  {
   "cell_type": "markdown",
   "id": "a09949c0",
   "metadata": {
    "ExecuteTime": {
     "end_time": "2021-10-11T17:31:38.298233Z",
     "start_time": "2021-10-11T17:31:38.284257Z"
    }
   },
   "source": [
    "All the Unnamed are NaN. There is no relevante information in this feature. It will be dropped."
   ]
  },
  {
   "cell_type": "code",
   "execution_count": null,
   "id": "94230797",
   "metadata": {
    "ExecuteTime": {
     "end_time": "2021-10-12T15:45:21.918443Z",
     "start_time": "2021-10-12T15:45:21.918443Z"
    }
   },
   "outputs": [],
   "source": [
    "df3 = df3.drop(columns=['unnamed'], axis=1) "
   ]
  },
  {
   "cell_type": "markdown",
   "id": "daa78690",
   "metadata": {},
   "source": [
    "## Solving NaN"
   ]
  },
  {
   "cell_type": "code",
   "execution_count": null,
   "id": "698fc4b1",
   "metadata": {
    "ExecuteTime": {
     "end_time": "2021-10-12T15:45:21.921437Z",
     "start_time": "2021-10-12T15:45:21.921437Z"
    }
   },
   "outputs": [],
   "source": [
    "df3.isna().sum()"
   ]
  },
  {
   "cell_type": "code",
   "execution_count": null,
   "id": "8a9f18e3",
   "metadata": {
    "ExecuteTime": {
     "end_time": "2021-10-12T15:45:21.922433Z",
     "start_time": "2021-10-12T15:45:21.922433Z"
    }
   },
   "outputs": [],
   "source": [
    "df3 = df3.dropna(subset = ['customer_id'], axis=0)"
   ]
  },
  {
   "cell_type": "code",
   "execution_count": null,
   "id": "1a81ee33",
   "metadata": {
    "ExecuteTime": {
     "end_time": "2021-10-12T15:45:21.924428Z",
     "start_time": "2021-10-12T15:45:21.924428Z"
    }
   },
   "outputs": [],
   "source": [
    "df3.isna().sum()"
   ]
  },
  {
   "cell_type": "markdown",
   "id": "8e43e1b9",
   "metadata": {
    "ExecuteTime": {
     "end_time": "2021-10-11T17:31:38.614355Z",
     "start_time": "2021-10-11T17:31:38.599397Z"
    }
   },
   "source": [
    "The \"description\" NaN were dropped together with the \"customer_id\" NaN"
   ]
  },
  {
   "cell_type": "markdown",
   "id": "7a0efbdb",
   "metadata": {},
   "source": [
    "## Change dtypes"
   ]
  },
  {
   "cell_type": "markdown",
   "id": "6ac566ee",
   "metadata": {},
   "source": [
    "### Attribute 'invoice_number'"
   ]
  },
  {
   "cell_type": "code",
   "execution_count": null,
   "id": "9c5575b3",
   "metadata": {
    "ExecuteTime": {
     "end_time": "2021-10-12T15:45:21.926423Z",
     "start_time": "2021-10-12T15:45:21.926423Z"
    }
   },
   "outputs": [],
   "source": [
    "df3['invoice_no'].unique()"
   ]
  },
  {
   "cell_type": "code",
   "execution_count": null,
   "id": "3297f905",
   "metadata": {
    "ExecuteTime": {
     "end_time": "2021-10-12T15:45:21.928419Z",
     "start_time": "2021-10-12T15:45:21.928419Z"
    }
   },
   "outputs": [],
   "source": [
    "#df3['invoice_no'] = df3['invoice_no'].astype(int64)\n",
    "print('According with the code error, there are invoices with number with letters. For now it will be keep as a object')"
   ]
  },
  {
   "cell_type": "markdown",
   "id": "708cebc3",
   "metadata": {
    "ExecuteTime": {
     "end_time": "2021-08-19T18:11:03.940506Z",
     "start_time": "2021-08-19T18:11:03.925546Z"
    }
   },
   "source": [
    "### Attribute 'invoice_date'"
   ]
  },
  {
   "cell_type": "code",
   "execution_count": null,
   "id": "609b5519",
   "metadata": {
    "ExecuteTime": {
     "end_time": "2021-10-12T15:45:21.931413Z",
     "start_time": "2021-10-12T15:45:21.931413Z"
    }
   },
   "outputs": [],
   "source": [
    "df3['invoice_date'] = pd.to_datetime(df3['invoice_date'], format = '%d-%b-%y')\n",
    "# use %b because the month is in a string in the df"
   ]
  },
  {
   "cell_type": "code",
   "execution_count": null,
   "id": "82089e43",
   "metadata": {
    "ExecuteTime": {
     "end_time": "2021-10-12T15:45:21.934406Z",
     "start_time": "2021-10-12T15:45:21.934406Z"
    }
   },
   "outputs": [],
   "source": [
    "df3.dtypes"
   ]
  },
  {
   "cell_type": "markdown",
   "id": "2c27722a",
   "metadata": {
    "ExecuteTime": {
     "end_time": "2021-08-19T18:12:20.297568Z",
     "start_time": "2021-08-19T18:12:20.280608Z"
    }
   },
   "source": [
    "### Attribute 'customer_id'"
   ]
  },
  {
   "cell_type": "code",
   "execution_count": null,
   "id": "6d2226af",
   "metadata": {
    "ExecuteTime": {
     "end_time": "2021-10-12T15:45:21.937393Z",
     "start_time": "2021-10-12T15:45:21.937393Z"
    }
   },
   "outputs": [],
   "source": [
    "df3['customer_id'] = df3['customer_id'].astype(int64)"
   ]
  },
  {
   "cell_type": "code",
   "execution_count": null,
   "id": "53dfa676",
   "metadata": {
    "ExecuteTime": {
     "end_time": "2021-10-12T15:45:21.938389Z",
     "start_time": "2021-10-12T15:45:21.938389Z"
    }
   },
   "outputs": [],
   "source": [
    "df3.dtypes"
   ]
  },
  {
   "cell_type": "markdown",
   "id": "5137be91",
   "metadata": {
    "ExecuteTime": {
     "end_time": "2021-09-03T17:23:44.036702Z",
     "start_time": "2021-09-03T17:23:44.018716Z"
    }
   },
   "source": [
    "## Solve Duplicates"
   ]
  },
  {
   "cell_type": "code",
   "execution_count": null,
   "id": "ea312710",
   "metadata": {
    "ExecuteTime": {
     "end_time": "2021-10-12T15:45:21.939388Z",
     "start_time": "2021-10-12T15:45:21.939388Z"
    }
   },
   "outputs": [],
   "source": [
    "#next cycle"
   ]
  },
  {
   "cell_type": "markdown",
   "id": "6979a37f",
   "metadata": {
    "ExecuteTime": {
     "end_time": "2021-08-19T19:09:12.712243Z",
     "start_time": "2021-08-19T19:09:12.709251Z"
    }
   },
   "source": [
    "## Negative values"
   ]
  },
  {
   "cell_type": "markdown",
   "id": "62dae0c8",
   "metadata": {},
   "source": [
    "From here, we have to take a direction. The negative values problably are from returns. We can just exclude them, exclude the in an out or we can create features for returns. From this point, we decided to sum all the values for customer, and those who ended up with a negative or zero amount will be dropped. We can divided the dataframe in two, one with the purchases, one just with the returns, but it will be done in the next cycle."
   ]
  },
  {
   "cell_type": "code",
   "execution_count": null,
   "id": "cf988ad5",
   "metadata": {
    "ExecuteTime": {
     "end_time": "2021-10-12T15:45:21.941383Z",
     "start_time": "2021-10-12T15:45:21.941383Z"
    }
   },
   "outputs": [],
   "source": [
    "df3['subtotal'] = df3['unit_price'] * df3['quantity'] "
   ]
  },
  {
   "cell_type": "code",
   "execution_count": null,
   "id": "e7196e56",
   "metadata": {
    "ExecuteTime": {
     "end_time": "2021-10-12T15:45:21.943377Z",
     "start_time": "2021-10-12T15:45:21.943377Z"
    }
   },
   "outputs": [],
   "source": [
    "df_customers = df3[['customer_id','subtotal']].groupby('customer_id').sum().reset_index()"
   ]
  },
  {
   "cell_type": "code",
   "execution_count": null,
   "id": "dadccd7b",
   "metadata": {
    "ExecuteTime": {
     "end_time": "2021-10-12T15:45:21.945371Z",
     "start_time": "2021-10-12T15:45:21.945371Z"
    }
   },
   "outputs": [],
   "source": [
    "bad_customers = df_customers[df_customers['subtotal'] <= 0.0]"
   ]
  },
  {
   "cell_type": "code",
   "execution_count": null,
   "id": "e4a4d788",
   "metadata": {
    "ExecuteTime": {
     "end_time": "2021-10-12T15:45:21.946368Z",
     "start_time": "2021-10-12T15:45:21.946368Z"
    }
   },
   "outputs": [],
   "source": [
    "print('There are {} customers with negative or equal zero total purchases.'.format(bad_customers.shape[0]))"
   ]
  },
  {
   "cell_type": "code",
   "execution_count": null,
   "id": "9774ec53",
   "metadata": {
    "ExecuteTime": {
     "end_time": "2021-10-12T15:45:21.948363Z",
     "start_time": "2021-10-12T15:45:21.948363Z"
    }
   },
   "outputs": [],
   "source": [
    "bad_list = bad_customers['customer_id'].to_list()"
   ]
  },
  {
   "cell_type": "code",
   "execution_count": null,
   "id": "1ffb067f",
   "metadata": {
    "ExecuteTime": {
     "end_time": "2021-10-12T15:45:21.949360Z",
     "start_time": "2021-10-12T15:45:21.949360Z"
    }
   },
   "outputs": [],
   "source": [
    "df3 = df3[~df3['customer_id'].isin(bad_list)] # throw out the bad customers"
   ]
  },
  {
   "cell_type": "code",
   "execution_count": null,
   "id": "db303ace",
   "metadata": {
    "ExecuteTime": {
     "end_time": "2021-10-12T15:45:21.950357Z",
     "start_time": "2021-10-12T15:45:21.950357Z"
    }
   },
   "outputs": [],
   "source": [
    "df3.describe().T"
   ]
  },
  {
   "cell_type": "markdown",
   "id": "b8cf2fdd",
   "metadata": {},
   "source": [
    "## Attribute invoice_no"
   ]
  },
  {
   "cell_type": "markdown",
   "id": "4df49af6",
   "metadata": {},
   "source": [
    "First, we have to identify and try to discover what the mean of the invoices with letters."
   ]
  },
  {
   "cell_type": "code",
   "execution_count": null,
   "id": "bc0acb81",
   "metadata": {
    "ExecuteTime": {
     "end_time": "2021-10-12T15:45:21.952352Z",
     "start_time": "2021-10-12T15:45:21.952352Z"
    }
   },
   "outputs": [],
   "source": [
    "df_letter_invoices = df3.loc[df3['invoice_no'].apply (lambda x: bool(re.search ( '[^0-9]+', x))), :] \n",
    "df_letter_invoices.sample(10)"
   ]
  },
  {
   "cell_type": "code",
   "execution_count": null,
   "id": "25fc3d17",
   "metadata": {
    "ExecuteTime": {
     "end_time": "2021-10-12T15:45:21.953350Z",
     "start_time": "2021-10-12T15:45:21.953350Z"
    }
   },
   "outputs": [],
   "source": [
    "df_letter_invoices.describe().T"
   ]
  },
  {
   "cell_type": "markdown",
   "id": "e5c4d078",
   "metadata": {},
   "source": [
    "All those letter invoices are from negative quantities. Lets check the invoice just with letters:"
   ]
  },
  {
   "cell_type": "code",
   "execution_count": null,
   "id": "bf2e7249",
   "metadata": {
    "ExecuteTime": {
     "end_time": "2021-10-12T15:45:21.954348Z",
     "start_time": "2021-10-12T15:45:21.954348Z"
    }
   },
   "outputs": [],
   "source": [
    "df3.loc[df3['stock_code'].apply (lambda x:bool (re.search('^[a-zA-Z]+$', x ) ) ), 'stock_code' ].value_counts()"
   ]
  },
  {
   "cell_type": "markdown",
   "id": "89553fbc",
   "metadata": {},
   "source": [
    "Stock codes to be dropped: 'POST', 'D', 'M', 'PADS', 'DOT', 'CRUK'"
   ]
  },
  {
   "cell_type": "code",
   "execution_count": null,
   "id": "2b9165d5",
   "metadata": {
    "ExecuteTime": {
     "end_time": "2021-10-12T15:45:21.956343Z",
     "start_time": "2021-10-12T15:45:21.956343Z"
    }
   },
   "outputs": [],
   "source": [
    "df3 = df3[~df3['stock_code'].isin (['POST', 'D', 'DOT', 'M', 'PADS', 'CRUK'])]"
   ]
  },
  {
   "cell_type": "markdown",
   "id": "401790a9",
   "metadata": {},
   "source": [
    "## Description filter"
   ]
  },
  {
   "cell_type": "markdown",
   "id": "9ea53003",
   "metadata": {},
   "source": [
    "Throughout the work, several strange names were observed in the description of the items. It was decided to exclude them after all other cleaning operations because it seems that many of them were returns or discounts, so they would be eliminated throughout the process. However, a final cleaning will be done before the generation of new features to ensure the integrity of the results of the machine learning models."
   ]
  },
  {
   "cell_type": "code",
   "execution_count": null,
   "id": "ed10c74c",
   "metadata": {
    "ExecuteTime": {
     "end_time": "2021-10-12T15:45:21.958338Z",
     "start_time": "2021-10-12T15:45:21.958338Z"
    }
   },
   "outputs": [],
   "source": [
    "df3['description'].unique()"
   ]
  },
  {
   "cell_type": "markdown",
   "id": "c961c999",
   "metadata": {},
   "source": [
    "# <font color='orange'> Feature Engineering"
   ]
  },
  {
   "cell_type": "code",
   "execution_count": null,
   "id": "3812c8d4",
   "metadata": {
    "ExecuteTime": {
     "end_time": "2021-10-12T15:45:21.960332Z",
     "start_time": "2021-10-12T15:45:21.960332Z"
    }
   },
   "outputs": [],
   "source": [
    "df4 = df3.copy()"
   ]
  },
  {
   "cell_type": "code",
   "execution_count": null,
   "id": "a48855c9",
   "metadata": {
    "ExecuteTime": {
     "end_time": "2021-10-12T15:45:21.962328Z",
     "start_time": "2021-10-12T15:45:21.962328Z"
    }
   },
   "outputs": [],
   "source": [
    "df4.head()"
   ]
  },
  {
   "cell_type": "markdown",
   "id": "d147be1d",
   "metadata": {
    "ExecuteTime": {
     "end_time": "2021-09-06T14:38:09.843980Z",
     "start_time": "2021-09-06T14:38:09.838994Z"
    }
   },
   "source": [
    "## Average Ticket"
   ]
  },
  {
   "cell_type": "code",
   "execution_count": null,
   "id": "0da0c2ff",
   "metadata": {
    "ExecuteTime": {
     "end_time": "2021-10-12T15:45:21.964324Z",
     "start_time": "2021-10-12T15:45:21.964324Z"
    }
   },
   "outputs": [],
   "source": [
    "avg_ticket_df = df4[['customer_id','invoice_no','subtotal']].groupby(['customer_id','invoice_no']).sum().reset_index()"
   ]
  },
  {
   "cell_type": "code",
   "execution_count": null,
   "id": "4ec58440",
   "metadata": {
    "ExecuteTime": {
     "end_time": "2021-10-12T15:45:21.966316Z",
     "start_time": "2021-10-12T15:45:21.966316Z"
    }
   },
   "outputs": [],
   "source": [
    "avg_ticket_df.rename(columns = {'subtotal':'avg_ticket'}, inplace = True)            "
   ]
  },
  {
   "cell_type": "code",
   "execution_count": null,
   "id": "3223cb54",
   "metadata": {
    "ExecuteTime": {
     "end_time": "2021-10-12T15:45:21.970304Z",
     "start_time": "2021-10-12T15:45:21.970304Z"
    },
    "scrolled": true
   },
   "outputs": [],
   "source": [
    "avg_ticket_df = avg_ticket_df[['customer_id','avg_ticket']].groupby('customer_id').mean().reset_index()"
   ]
  },
  {
   "cell_type": "code",
   "execution_count": null,
   "id": "8b147a9a",
   "metadata": {
    "ExecuteTime": {
     "end_time": "2021-10-12T15:45:21.972299Z",
     "start_time": "2021-10-12T15:45:21.972299Z"
    }
   },
   "outputs": [],
   "source": [
    "avg_ticket_df.head()"
   ]
  },
  {
   "cell_type": "code",
   "execution_count": null,
   "id": "b33b2818",
   "metadata": {
    "ExecuteTime": {
     "end_time": "2021-10-12T15:45:21.973297Z",
     "start_time": "2021-10-12T15:45:21.973297Z"
    }
   },
   "outputs": [],
   "source": [
    "df4 = pd.merge(df4,avg_ticket_df, on ='customer_id', how = 'left')"
   ]
  },
  {
   "cell_type": "code",
   "execution_count": null,
   "id": "4cd830bf",
   "metadata": {
    "ExecuteTime": {
     "end_time": "2021-10-12T15:45:21.974294Z",
     "start_time": "2021-10-12T15:45:21.974294Z"
    }
   },
   "outputs": [],
   "source": [
    "df4.head()"
   ]
  },
  {
   "cell_type": "code",
   "execution_count": null,
   "id": "8e8a7973",
   "metadata": {
    "ExecuteTime": {
     "end_time": "2021-10-12T15:45:21.976290Z",
     "start_time": "2021-10-12T15:45:21.976290Z"
    }
   },
   "outputs": [],
   "source": [
    "df4['customer_id'].unique().size"
   ]
  },
  {
   "cell_type": "markdown",
   "id": "eae76f47",
   "metadata": {
    "ExecuteTime": {
     "end_time": "2021-09-03T17:45:31.377343Z",
     "start_time": "2021-09-03T17:45:31.374351Z"
    }
   },
   "source": [
    "## recency"
   ]
  },
  {
   "cell_type": "code",
   "execution_count": null,
   "id": "ac1906cb",
   "metadata": {
    "ExecuteTime": {
     "end_time": "2021-10-12T15:45:21.978284Z",
     "start_time": "2021-10-12T15:45:21.978284Z"
    }
   },
   "outputs": [],
   "source": [
    "# day from the last purchase until the last date of the dataset\n",
    "df_recency = df4[['customer_id','invoice_date']].groupby('customer_id').max().reset_index()\n",
    "\n",
    "df_recency['recency'] = (df4['invoice_date'].max() - df_recency['invoice_date']).dt.days\n"
   ]
  },
  {
   "cell_type": "code",
   "execution_count": null,
   "id": "73bea5b6",
   "metadata": {
    "ExecuteTime": {
     "end_time": "2021-10-12T15:45:21.979282Z",
     "start_time": "2021-10-12T15:45:21.979282Z"
    }
   },
   "outputs": [],
   "source": [
    "# one day shif to avoid zero division\n",
    "df_recency['recency'] = df_recency['recency'].apply(lambda x: x+1)"
   ]
  },
  {
   "cell_type": "code",
   "execution_count": null,
   "id": "167dde0e",
   "metadata": {
    "ExecuteTime": {
     "end_time": "2021-10-12T15:45:21.980278Z",
     "start_time": "2021-10-12T15:45:21.980278Z"
    }
   },
   "outputs": [],
   "source": [
    "df_recency['recency'] = df_recency['recency'].apply(lambda x: 100/x)"
   ]
  },
  {
   "cell_type": "code",
   "execution_count": null,
   "id": "af7588bb",
   "metadata": {
    "ExecuteTime": {
     "end_time": "2021-10-12T15:45:21.981275Z",
     "start_time": "2021-10-12T15:45:21.981275Z"
    }
   },
   "outputs": [],
   "source": [
    "df4=pd.merge(df4, df_recency[['customer_id','recency']], on = 'customer_id', how='left')"
   ]
  },
  {
   "cell_type": "code",
   "execution_count": null,
   "id": "a4b583a4",
   "metadata": {
    "ExecuteTime": {
     "end_time": "2021-10-12T15:45:21.983600Z",
     "start_time": "2021-10-12T15:45:21.983600Z"
    }
   },
   "outputs": [],
   "source": [
    "df4.sample(10)"
   ]
  },
  {
   "cell_type": "markdown",
   "id": "172a6874",
   "metadata": {
    "ExecuteTime": {
     "end_time": "2021-08-24T21:02:06.126790Z",
     "start_time": "2021-08-24T21:02:06.120807Z"
    }
   },
   "source": [
    "## gross_revenue"
   ]
  },
  {
   "cell_type": "code",
   "execution_count": null,
   "id": "2ab71dea",
   "metadata": {
    "ExecuteTime": {
     "end_time": "2021-10-12T15:45:21.984597Z",
     "start_time": "2021-10-12T15:45:21.984597Z"
    }
   },
   "outputs": [],
   "source": [
    "df_revenue = df4[['subtotal', 'customer_id']].copy()"
   ]
  },
  {
   "cell_type": "code",
   "execution_count": null,
   "id": "42dcc5f4",
   "metadata": {
    "ExecuteTime": {
     "end_time": "2021-10-12T15:45:21.985594Z",
     "start_time": "2021-10-12T15:45:21.985594Z"
    }
   },
   "outputs": [],
   "source": [
    "df_revenue = df_revenue.groupby('customer_id').sum().reset_index() #total per customer\n",
    "df_revenue.rename(columns = {'subtotal':'gross_revenue'}, inplace = True)\n",
    "df_revenue.head()"
   ]
  },
  {
   "cell_type": "code",
   "execution_count": null,
   "id": "16727f93",
   "metadata": {
    "ExecuteTime": {
     "end_time": "2021-10-12T15:45:21.986592Z",
     "start_time": "2021-10-12T15:45:21.986592Z"
    }
   },
   "outputs": [],
   "source": [
    "df4 = pd.merge(df4, df_revenue, on='customer_id', how='left')"
   ]
  },
  {
   "cell_type": "code",
   "execution_count": null,
   "id": "631ad101",
   "metadata": {
    "ExecuteTime": {
     "end_time": "2021-10-12T15:45:21.987588Z",
     "start_time": "2021-10-12T15:45:21.987588Z"
    }
   },
   "outputs": [],
   "source": [
    "df4.head()"
   ]
  },
  {
   "cell_type": "code",
   "execution_count": null,
   "id": "7f3ecb8f",
   "metadata": {
    "ExecuteTime": {
     "end_time": "2021-10-12T15:45:21.989583Z",
     "start_time": "2021-10-12T15:45:21.989583Z"
    }
   },
   "outputs": [],
   "source": [
    "# Exclude gross revenue == 0"
   ]
  },
  {
   "cell_type": "markdown",
   "id": "19a299ba",
   "metadata": {
    "ExecuteTime": {
     "end_time": "2021-09-03T18:32:19.434219Z",
     "start_time": "2021-09-03T18:32:19.423207Z"
    }
   },
   "source": [
    "## Frequency"
   ]
  },
  {
   "cell_type": "code",
   "execution_count": null,
   "id": "970490e5",
   "metadata": {
    "ExecuteTime": {
     "end_time": "2021-10-12T15:45:21.989583Z",
     "start_time": "2021-10-12T15:45:21.989583Z"
    }
   },
   "outputs": [],
   "source": [
    "df_frequency = df4[['customer_id', 'invoice_no']]"
   ]
  },
  {
   "cell_type": "code",
   "execution_count": null,
   "id": "81eb21d6",
   "metadata": {
    "ExecuteTime": {
     "end_time": "2021-10-12T15:45:21.991579Z",
     "start_time": "2021-10-12T15:45:21.991579Z"
    }
   },
   "outputs": [],
   "source": [
    "df_frequency = df_frequency.drop_duplicates(subset = 'invoice_no')\n",
    "df_frequency = df_frequency.groupby('customer_id').count().reset_index() # number of purchases for customer within the dataset"
   ]
  },
  {
   "cell_type": "code",
   "execution_count": null,
   "id": "33970b72",
   "metadata": {
    "ExecuteTime": {
     "end_time": "2021-10-12T15:45:21.992575Z",
     "start_time": "2021-10-12T15:45:21.992575Z"
    }
   },
   "outputs": [],
   "source": [
    "df_frequency.rename(columns={'invoice_no':'frequency'}, inplace = True)"
   ]
  },
  {
   "cell_type": "code",
   "execution_count": null,
   "id": "68a3657f",
   "metadata": {
    "ExecuteTime": {
     "end_time": "2021-10-12T15:45:21.993573Z",
     "start_time": "2021-10-12T15:45:21.993573Z"
    }
   },
   "outputs": [],
   "source": [
    "df4 = pd.merge(df4, df_frequency, on='customer_id', how = 'left')"
   ]
  },
  {
   "cell_type": "code",
   "execution_count": null,
   "id": "fd8ee0c2",
   "metadata": {
    "ExecuteTime": {
     "end_time": "2021-10-12T15:45:21.995567Z",
     "start_time": "2021-10-12T15:45:21.995567Z"
    },
    "scrolled": true
   },
   "outputs": [],
   "source": [
    "df4.head()"
   ]
  },
  {
   "cell_type": "markdown",
   "id": "2aa0169b",
   "metadata": {
    "ExecuteTime": {
     "end_time": "2021-10-07T14:02:53.355088Z",
     "start_time": "2021-10-07T14:02:53.340131Z"
    }
   },
   "source": [
    "# Data Filtering"
   ]
  },
  {
   "cell_type": "code",
   "execution_count": null,
   "id": "5dccdbff",
   "metadata": {
    "ExecuteTime": {
     "end_time": "2021-10-12T15:45:21.996564Z",
     "start_time": "2021-10-12T15:45:21.996564Z"
    }
   },
   "outputs": [],
   "source": [
    "df5 = df4.copy()"
   ]
  },
  {
   "cell_type": "code",
   "execution_count": null,
   "id": "489cda46",
   "metadata": {
    "ExecuteTime": {
     "end_time": "2021-10-12T15:45:21.997562Z",
     "start_time": "2021-10-12T15:45:21.997562Z"
    }
   },
   "outputs": [],
   "source": [
    "df5.dtypes"
   ]
  },
  {
   "cell_type": "code",
   "execution_count": null,
   "id": "a62535a6",
   "metadata": {
    "ExecuteTime": {
     "end_time": "2021-10-12T15:45:21.999557Z",
     "start_time": "2021-10-12T15:45:21.999557Z"
    }
   },
   "outputs": [],
   "source": [
    "df5.drop(columns = ['description','quantity','unit_price' ,'subtotal','invoice_date','invoice_no'], axis = 1, inplace = True) # we don't need this features"
   ]
  },
  {
   "cell_type": "code",
   "execution_count": null,
   "id": "2b34da21",
   "metadata": {
    "ExecuteTime": {
     "end_time": "2021-10-12T15:45:22.000555Z",
     "start_time": "2021-10-12T15:45:22.000555Z"
    }
   },
   "outputs": [],
   "source": [
    "df5.head()"
   ]
  },
  {
   "cell_type": "code",
   "execution_count": null,
   "id": "9da68a3d",
   "metadata": {
    "ExecuteTime": {
     "end_time": "2021-10-12T15:45:22.003546Z",
     "start_time": "2021-10-12T15:45:22.003546Z"
    }
   },
   "outputs": [],
   "source": [
    "df5[df5['avg_ticket'] ==0].shape"
   ]
  },
  {
   "cell_type": "markdown",
   "id": "886bbdf7",
   "metadata": {
    "ExecuteTime": {
     "end_time": "2021-09-03T18:27:12.113617Z",
     "start_time": "2021-09-03T18:27:12.099655Z"
    }
   },
   "source": [
    "# Exploratory data analysis (EDA)"
   ]
  },
  {
   "cell_type": "code",
   "execution_count": null,
   "id": "86bb762a",
   "metadata": {
    "ExecuteTime": {
     "end_time": "2021-10-12T15:45:22.005542Z",
     "start_time": "2021-10-12T15:45:22.005542Z"
    }
   },
   "outputs": [],
   "source": [
    "df6 = df5.copy()"
   ]
  },
  {
   "cell_type": "code",
   "execution_count": null,
   "id": "ef881811",
   "metadata": {
    "ExecuteTime": {
     "end_time": "2021-10-12T15:45:22.006538Z",
     "start_time": "2021-10-12T15:45:22.006538Z"
    }
   },
   "outputs": [],
   "source": [
    "profile = ProfileReport(df6)\n",
    "profile.to_file(r'../reports/profile_report.html')"
   ]
  },
  {
   "cell_type": "code",
   "execution_count": null,
   "id": "874b7c8c",
   "metadata": {
    "ExecuteTime": {
     "end_time": "2021-10-12T15:45:22.008535Z",
     "start_time": "2021-10-12T15:45:22.008535Z"
    }
   },
   "outputs": [],
   "source": [
    "df6.describe().T"
   ]
  },
  {
   "cell_type": "markdown",
   "id": "a921a62c",
   "metadata": {},
   "source": [
    "## Descriptive Statistics"
   ]
  },
  {
   "cell_type": "code",
   "execution_count": null,
   "id": "acaa463e",
   "metadata": {
    "ExecuteTime": {
     "end_time": "2021-10-12T15:45:22.010528Z",
     "start_time": "2021-10-12T15:45:22.010528Z"
    }
   },
   "outputs": [],
   "source": [
    "num_attributes = df6.drop(columns = ['country', 'customer_id','stock_code'], axis = 1)"
   ]
  },
  {
   "cell_type": "code",
   "execution_count": null,
   "id": "e2b40491",
   "metadata": {
    "ExecuteTime": {
     "end_time": "2021-10-12T15:45:22.012522Z",
     "start_time": "2021-10-12T15:45:22.011525Z"
    }
   },
   "outputs": [],
   "source": [
    "#central tendency - mean, median\n",
    "ct1 = pd.DataFrame ( num_attributes.apply (np.mean) ).T\n",
    "ct2 = pd.DataFrame ( num_attributes.apply (np.median)).T\n",
    "                    \n",
    "# dispersion - desvio padrão, mínimo, máximo, range, skew, kurtosis\n",
    "d1 = pd.DataFrame ( num_attributes.apply (np.std)).T\n",
    "d2 = pd.DataFrame ( num_attributes.apply (np.min)).T\n",
    "d3 = pd.DataFrame ( num_attributes.apply (np.max)).T\n",
    "d4 = pd.DataFrame ( num_attributes.apply (lambda x: x.max() - x.min())).T\n",
    "d5 = pd.DataFrame ( num_attributes.apply (lambda x: x.skew() )).T\n",
    "d6 = pd.DataFrame ( num_attributes.apply (lambda x: x.kurtosis() ) ).T\n",
    "\n",
    "#concatenate\n",
    "\n",
    "df_metrics = pd.concat ([d2,d3,d4,ct1,ct2,d1,d5,d6]).T.reset_index()\n",
    "df_metrics.columns = ['attributes', 'min.','max','range', 'mean', 'median', 'std', 'skew', 'kurtosis']"
   ]
  },
  {
   "cell_type": "code",
   "execution_count": null,
   "id": "c0d90a38",
   "metadata": {
    "ExecuteTime": {
     "end_time": "2021-10-12T15:45:22.013519Z",
     "start_time": "2021-10-12T15:45:22.013519Z"
    }
   },
   "outputs": [],
   "source": [
    "df_metrics"
   ]
  },
  {
   "cell_type": "markdown",
   "id": "16351db3",
   "metadata": {},
   "source": [
    "# <font color='red'>Data Preparation"
   ]
  },
  {
   "cell_type": "code",
   "execution_count": null,
   "id": "5230f1bf",
   "metadata": {
    "ExecuteTime": {
     "end_time": "2021-10-12T15:45:22.015516Z",
     "start_time": "2021-10-12T15:45:22.015516Z"
    }
   },
   "outputs": [],
   "source": [
    "df7 = df6.copy()"
   ]
  },
  {
   "cell_type": "markdown",
   "id": "e54ab74b",
   "metadata": {},
   "source": [
    "# <font color='red'>Feature Selection"
   ]
  },
  {
   "cell_type": "code",
   "execution_count": null,
   "id": "bc153c9e",
   "metadata": {
    "ExecuteTime": {
     "end_time": "2021-10-12T15:45:22.015516Z",
     "start_time": "2021-10-12T15:45:22.015516Z"
    }
   },
   "outputs": [],
   "source": [
    "df8 = df7.copy()"
   ]
  },
  {
   "cell_type": "code",
   "execution_count": null,
   "id": "f173bfa6",
   "metadata": {
    "ExecuteTime": {
     "end_time": "2021-10-12T15:45:22.017508Z",
     "start_time": "2021-10-12T15:45:22.017508Z"
    }
   },
   "outputs": [],
   "source": [
    "df8.head()"
   ]
  },
  {
   "cell_type": "code",
   "execution_count": null,
   "id": "62b0f1a7",
   "metadata": {
    "ExecuteTime": {
     "end_time": "2021-10-12T15:45:22.018505Z",
     "start_time": "2021-10-12T15:45:22.018505Z"
    }
   },
   "outputs": [],
   "source": [
    "df8 = df8.drop(columns = ['stock_code','country'], axis=1)"
   ]
  },
  {
   "cell_type": "markdown",
   "id": "54063b42",
   "metadata": {},
   "source": [
    "# <font color='red'>Hyperparameter Fine-Tunning"
   ]
  },
  {
   "cell_type": "code",
   "execution_count": null,
   "id": "fc4eea4d",
   "metadata": {
    "ExecuteTime": {
     "end_time": "2021-10-12T15:45:22.019503Z",
     "start_time": "2021-10-12T15:45:22.018505Z"
    }
   },
   "outputs": [],
   "source": [
    "df9 = df8.copy()"
   ]
  },
  {
   "cell_type": "markdown",
   "id": "08ac67d1",
   "metadata": {},
   "source": [
    "O número de clusters é nosso principal hiperparâmetro, pois não temos essa resposta.  Antes de treinar os modelos precisamos saber quantos clusters vamos considerar. Utilizamos o Kmeans para efetuar a clusterização em um range de 2 a 7 clusters, e utilizando duas métricas, a WSS e a Silhouette Score, escolhemos o número adequado de clusters. A partir daí temos um ponto de partida para treinar os diversos modelos."
   ]
  },
  {
   "cell_type": "code",
   "execution_count": null,
   "id": "c0cde61d",
   "metadata": {
    "ExecuteTime": {
     "end_time": "2021-10-12T15:45:22.020500Z",
     "start_time": "2021-10-12T15:45:22.020500Z"
    }
   },
   "outputs": [],
   "source": [
    "X = df9.drop(columns =  ['customer_id'],  axis=1) \n",
    "clusters = [2,3,4,5,6,7] # cluster range"
   ]
  },
  {
   "cell_type": "markdown",
   "id": "7036a5e8",
   "metadata": {
    "ExecuteTime": {
     "end_time": "2021-10-07T15:41:33.064558Z",
     "start_time": "2021-10-07T15:40:39.948562Z"
    }
   },
   "source": [
    "## Within-Cluster Sum of Square (WSS)"
   ]
  },
  {
   "cell_type": "code",
   "execution_count": null,
   "id": "ea4df0f1",
   "metadata": {
    "ExecuteTime": {
     "end_time": "2021-10-12T15:45:22.021498Z",
     "start_time": "2021-10-12T15:45:22.021498Z"
    }
   },
   "outputs": [],
   "source": [
    "wss = [] #lista para guardar as métricas para cada iteração do modelo. Cada número de cluster irá gerar um valor\n",
    "\n",
    "for k in clusters:\n",
    "    #model definition\n",
    "    kmeans = c.KMeans (init = 'random' , n_clusters=k, n_init=10, max_iter=300)\n",
    "    #model training\n",
    "    kmeans.fit ( X )\n",
    "    #validation\n",
    "    wss.append (kmeans.inertia_) #inertia é o próprio valor wss"
   ]
  },
  {
   "cell_type": "code",
   "execution_count": null,
   "id": "88e6fd52",
   "metadata": {
    "ExecuteTime": {
     "end_time": "2021-10-12T15:45:22.022496Z",
     "start_time": "2021-10-12T15:45:22.022496Z"
    },
    "cell_style": "center",
    "scrolled": false
   },
   "outputs": [],
   "source": [
    "#plot elbow method\n",
    "kmeans = KElbowVisualizer (c.KMeans(), k=clusters, timing=False)\n",
    "kmeans.fit(X)\n",
    "kmeans.show()"
   ]
  },
  {
   "cell_type": "markdown",
   "id": "b73c35de",
   "metadata": {
    "ExecuteTime": {
     "end_time": "2021-10-07T17:31:20.037948Z",
     "start_time": "2021-10-07T17:31:20.029969Z"
    }
   },
   "source": [
    "## Silhouette Score"
   ]
  },
  {
   "cell_type": "code",
   "execution_count": null,
   "id": "be2e68bb",
   "metadata": {
    "ExecuteTime": {
     "end_time": "2021-10-12T15:45:22.023492Z",
     "start_time": "2021-10-12T15:45:22.023492Z"
    },
    "cell_style": "center",
    "scrolled": true
   },
   "outputs": [],
   "source": [
    "kmeans = KElbowVisualizer ( c.KMeans(), k=clusters, metric='silhouette', timing=False)\n",
    "kmeans.fit(X)\n",
    "kmeans.show()"
   ]
  },
  {
   "cell_type": "markdown",
   "id": "3f76921c",
   "metadata": {
    "ExecuteTime": {
     "end_time": "2021-10-08T15:14:49.627234Z",
     "start_time": "2021-10-08T15:14:49.616222Z"
    }
   },
   "source": [
    "## Silhouette Analysis"
   ]
  },
  {
   "cell_type": "code",
   "execution_count": null,
   "id": "84ad17ef",
   "metadata": {
    "ExecuteTime": {
     "end_time": "2021-10-12T15:45:22.025488Z",
     "start_time": "2021-10-12T15:45:22.025488Z"
    }
   },
   "outputs": [],
   "source": [
    "fig, ax = plt.subplots (3,2, figsize=(25,18))\n",
    "\n",
    "for k in clusters:\n",
    "    km = c.KMeans (n_clusters=k, init='random', n_init=10, max_iter=100, random_state=42)\n",
    "    q,mod = divmod(k,2) #truque para distribuição dos plots\n",
    "    visualizer = SilhouetteVisualizer (km, colors='yellowbrick', ax=ax[q-1][mod])\n",
    "    visualizer.fit(X)\n",
    "    visualizer.finalize()"
   ]
  },
  {
   "cell_type": "markdown",
   "id": "6c0cc210",
   "metadata": {
    "ExecuteTime": {
     "end_time": "2021-10-07T18:38:18.174167Z",
     "start_time": "2021-10-07T18:32:33.426Z"
    }
   },
   "source": [
    "# Model training"
   ]
  },
  {
   "cell_type": "markdown",
   "id": "410264a1",
   "metadata": {},
   "source": [
    "## K-Means"
   ]
  },
  {
   "cell_type": "code",
   "execution_count": null,
   "id": "d211bbcb",
   "metadata": {
    "ExecuteTime": {
     "end_time": "2021-10-12T15:45:22.025488Z",
     "start_time": "2021-10-12T15:45:22.025488Z"
    }
   },
   "outputs": [],
   "source": [
    "# model definition\n",
    "k = 4\n",
    "kmeans = c.KMeans (init='random', n_clusters=k, n_init=10, max_iter=300, random_state = 42)\n",
    "# model training\n",
    "kmeans.fit (X)\n",
    "#clustering\n",
    "labels = kmeans.labels_"
   ]
  },
  {
   "cell_type": "markdown",
   "id": "f4291436",
   "metadata": {
    "ExecuteTime": {
     "end_time": "2021-07-09T16:31:54.592587Z",
     "start_time": "2021-07-09T16:31:54.578656Z"
    }
   },
   "source": [
    "## Cluster Validation"
   ]
  },
  {
   "cell_type": "code",
   "execution_count": null,
   "id": "e8961a87",
   "metadata": {
    "ExecuteTime": {
     "end_time": "2021-10-12T15:45:22.027482Z",
     "start_time": "2021-10-12T15:45:22.026484Z"
    }
   },
   "outputs": [],
   "source": [
    "# WSS\n",
    "print('WSS value: {}'.format (kmeans.inertia_))\n",
    "# SS\n",
    "print ('SS value: {}'.format(m.silhouette_score(X, labels, metric='euclidean')))"
   ]
  },
  {
   "cell_type": "markdown",
   "id": "c83053df",
   "metadata": {
    "ExecuteTime": {
     "end_time": "2021-10-11T15:29:00.275157Z",
     "start_time": "2021-10-11T15:29:00.263152Z"
    }
   },
   "source": [
    "# Cluster visual inspection"
   ]
  },
  {
   "cell_type": "code",
   "execution_count": null,
   "id": "20fe324d",
   "metadata": {},
   "outputs": [],
   "source": []
  },
  {
   "cell_type": "code",
   "execution_count": null,
   "id": "c11b2f41",
   "metadata": {
    "ExecuteTime": {
     "end_time": "2021-10-12T15:45:22.028480Z",
     "start_time": "2021-10-12T15:45:22.028480Z"
    }
   },
   "outputs": [],
   "source": [
    "reducer = umap.UMAP (n_neighbors = 20, random_state = 42) # instancia o objeto"
   ]
  },
  {
   "cell_type": "code",
   "execution_count": null,
   "id": "0e54e1a1",
   "metadata": {
    "ExecuteTime": {
     "end_time": "2021-10-12T15:45:22.029477Z",
     "start_time": "2021-10-12T15:45:22.029477Z"
    }
   },
   "outputs": [],
   "source": [
    "embedding = reducer.fit_transform (X)"
   ]
  },
  {
   "cell_type": "code",
   "execution_count": null,
   "id": "c1b93699",
   "metadata": {
    "ExecuteTime": {
     "end_time": "2021-10-12T15:45:22.030475Z",
     "start_time": "2021-10-12T15:45:22.030475Z"
    }
   },
   "outputs": [],
   "source": [
    "# embedding\n",
    "X['embedding_x'] = embedding[:,0] # embedding é o espaço projetado\n",
    "X['embedding_y'] = embedding[:,1]"
   ]
  },
  {
   "cell_type": "code",
   "execution_count": null,
   "id": "0b1c77da",
   "metadata": {
    "ExecuteTime": {
     "end_time": "2021-10-12T15:45:22.031472Z",
     "start_time": "2021-10-12T15:45:22.031472Z"
    }
   },
   "outputs": [],
   "source": [
    "# plot UMAP\n",
    "sns.scatterplot( x='embedding_x', y='embedding_y', hue='cluster', pallete = sns.collor_pallete ('hls', n_colors = len(df_viz['cluster'].unique())), data = df_viz)"
   ]
  },
  {
   "cell_type": "markdown",
   "id": "5eb3b784",
   "metadata": {},
   "source": [
    "# <font color='red'>Cluster Analysis"
   ]
  },
  {
   "cell_type": "code",
   "execution_count": null,
   "id": "4e07ff20",
   "metadata": {
    "ExecuteTime": {
     "end_time": "2021-10-12T15:45:22.032468Z",
     "start_time": "2021-10-12T15:45:22.032468Z"
    }
   },
   "outputs": [],
   "source": [
    "df11 = df9.copy()\n",
    "df11['cluster'] = labels"
   ]
  },
  {
   "cell_type": "markdown",
   "id": "0f6d27dd",
   "metadata": {
    "ExecuteTime": {
     "end_time": "2021-10-08T15:16:16.461436Z",
     "start_time": "2021-10-08T15:16:16.447440Z"
    }
   },
   "source": [
    "## Cluster Profile"
   ]
  },
  {
   "cell_type": "code",
   "execution_count": null,
   "id": "bdfafacc",
   "metadata": {
    "ExecuteTime": {
     "end_time": "2021-10-12T15:45:22.033466Z",
     "start_time": "2021-10-12T15:45:22.033466Z"
    }
   },
   "outputs": [],
   "source": [
    "# clusters size\n",
    "df_cluster = df11[['customer_id', 'cluster']].groupby('cluster').count().reset_index()\n",
    "# percentage of each cluster\n",
    "df_cluster['perc_customer'] = 100*(df_cluster['customer_id'] /df_cluster['customer_id'].sum())\n",
    "#avg gross revenue\n",
    "df_avg_gross_revenue = df11[['gross_revenue', 'cluster']].groupby('cluster').mean().reset_index()\n",
    "df_cluster = pd.merge(df_cluster, df_avg_gross_revenue, how='inner', on='cluster')\n",
    "#frequency\n",
    "df_frequency = df11[['frequency','cluster']].groupby('cluster').mean().reset_index()\n",
    "df_cluster = pd.merge(df_cluster, df_frequency, how='inner', on='cluster')\n",
    "#recency\n",
    "df_recency = df11[['recency','cluster']].groupby('cluster').mean().reset_index()\n",
    "df_cluster = pd.merge(df_cluster, df_recency, how='inner', on='cluster')\n",
    "df_cluster"
   ]
  },
  {
   "cell_type": "markdown",
   "id": "72a9675f",
   "metadata": {
    "ExecuteTime": {
     "end_time": "2021-07-09T01:48:10.994672Z",
     "start_time": "2021-07-09T01:48:10.981674Z"
    }
   },
   "source": [
    "# <font color='red'>Deploy to production"
   ]
  },
  {
   "cell_type": "code",
   "execution_count": null,
   "id": "780a26b4",
   "metadata": {},
   "outputs": [],
   "source": []
  },
  {
   "cell_type": "code",
   "execution_count": null,
   "id": "76819805",
   "metadata": {},
   "outputs": [],
   "source": []
  },
  {
   "cell_type": "code",
   "execution_count": null,
   "id": "af4a06b3",
   "metadata": {},
   "outputs": [],
   "source": []
  },
  {
   "cell_type": "code",
   "execution_count": null,
   "id": "c654f46e",
   "metadata": {},
   "outputs": [],
   "source": []
  },
  {
   "cell_type": "code",
   "execution_count": null,
   "id": "53330f61",
   "metadata": {},
   "outputs": [],
   "source": []
  },
  {
   "cell_type": "code",
   "execution_count": null,
   "id": "4e5c2c55",
   "metadata": {},
   "outputs": [],
   "source": []
  },
  {
   "cell_type": "code",
   "execution_count": null,
   "id": "c5cf861d",
   "metadata": {},
   "outputs": [],
   "source": []
  },
  {
   "cell_type": "code",
   "execution_count": null,
   "id": "7664e16e",
   "metadata": {},
   "outputs": [],
   "source": []
  },
  {
   "cell_type": "code",
   "execution_count": null,
   "id": "2481c0f7",
   "metadata": {},
   "outputs": [],
   "source": []
  },
  {
   "cell_type": "code",
   "execution_count": null,
   "id": "eca75372",
   "metadata": {},
   "outputs": [],
   "source": []
  },
  {
   "cell_type": "code",
   "execution_count": null,
   "id": "7bd3f91d",
   "metadata": {},
   "outputs": [],
   "source": []
  },
  {
   "cell_type": "code",
   "execution_count": null,
   "id": "462fcd25",
   "metadata": {},
   "outputs": [],
   "source": []
  },
  {
   "cell_type": "code",
   "execution_count": null,
   "id": "e47d2426",
   "metadata": {},
   "outputs": [],
   "source": []
  },
  {
   "cell_type": "code",
   "execution_count": null,
   "id": "83a3119f",
   "metadata": {},
   "outputs": [],
   "source": []
  },
  {
   "cell_type": "code",
   "execution_count": null,
   "id": "92b1c8c9",
   "metadata": {},
   "outputs": [],
   "source": []
  },
  {
   "cell_type": "code",
   "execution_count": null,
   "id": "dc15cff2",
   "metadata": {},
   "outputs": [],
   "source": []
  },
  {
   "cell_type": "code",
   "execution_count": null,
   "id": "69c45dd2",
   "metadata": {},
   "outputs": [],
   "source": []
  },
  {
   "cell_type": "code",
   "execution_count": null,
   "id": "fa1a2190",
   "metadata": {},
   "outputs": [],
   "source": []
  },
  {
   "cell_type": "code",
   "execution_count": null,
   "id": "2bc1fbc2",
   "metadata": {},
   "outputs": [],
   "source": []
  },
  {
   "cell_type": "code",
   "execution_count": null,
   "id": "17d28154",
   "metadata": {},
   "outputs": [],
   "source": []
  },
  {
   "cell_type": "code",
   "execution_count": null,
   "id": "8966e579",
   "metadata": {},
   "outputs": [],
   "source": []
  },
  {
   "cell_type": "code",
   "execution_count": null,
   "id": "43e01e2a",
   "metadata": {},
   "outputs": [],
   "source": []
  },
  {
   "cell_type": "code",
   "execution_count": null,
   "id": "a1c18a3d",
   "metadata": {},
   "outputs": [],
   "source": []
  },
  {
   "cell_type": "code",
   "execution_count": null,
   "id": "15150c77",
   "metadata": {},
   "outputs": [],
   "source": []
  },
  {
   "cell_type": "code",
   "execution_count": null,
   "id": "21288562",
   "metadata": {},
   "outputs": [],
   "source": []
  },
  {
   "cell_type": "code",
   "execution_count": null,
   "id": "46b04509",
   "metadata": {},
   "outputs": [],
   "source": []
  },
  {
   "cell_type": "code",
   "execution_count": null,
   "id": "7fb338fd",
   "metadata": {},
   "outputs": [],
   "source": []
  },
  {
   "cell_type": "code",
   "execution_count": null,
   "id": "9f2675c8",
   "metadata": {},
   "outputs": [],
   "source": []
  },
  {
   "cell_type": "code",
   "execution_count": null,
   "id": "f6557d78",
   "metadata": {},
   "outputs": [],
   "source": []
  }
 ],
 "metadata": {
  "kernelspec": {
   "display_name": "Python 3",
   "language": "python",
   "name": "python3"
  },
  "language_info": {
   "codemirror_mode": {
    "name": "ipython",
    "version": 3
   },
   "file_extension": ".py",
   "mimetype": "text/x-python",
   "name": "python",
   "nbconvert_exporter": "python",
   "pygments_lexer": "ipython3",
   "version": "3.8.11"
  },
  "toc": {
   "base_numbering": "0",
   "nav_menu": {},
   "number_sections": true,
   "sideBar": true,
   "skip_h1_title": false,
   "title_cell": "Table of Contents",
   "title_sidebar": "Contents",
   "toc_cell": false,
   "toc_position": {},
   "toc_section_display": true,
   "toc_window_display": false
  }
 },
 "nbformat": 4,
 "nbformat_minor": 5
}
